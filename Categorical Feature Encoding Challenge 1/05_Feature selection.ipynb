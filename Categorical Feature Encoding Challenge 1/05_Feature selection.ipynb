{
 "cells": [
  {
   "cell_type": "code",
   "execution_count": 1,
   "metadata": {
    "ExecuteTime": {
     "end_time": "2021-11-04T12:15:25.770155Z",
     "start_time": "2021-11-04T12:15:23.162464Z"
    }
   },
   "outputs": [],
   "source": [
    "import numpy as np\n",
    "from scipy import stats\n",
    "import pandas as pd\n",
    "import matplotlib.pyplot as plt\n",
    "import seaborn as sns\n",
    "\n",
    "# sns.set()\n",
    "\n",
    "import os\n",
    "\n",
    "import warnings\n",
    "warnings.filterwarnings('ignore')"
   ]
  },
  {
   "cell_type": "code",
   "execution_count": 2,
   "metadata": {
    "ExecuteTime": {
     "end_time": "2021-11-04T12:15:28.649483Z",
     "start_time": "2021-11-04T12:15:25.773147Z"
    }
   },
   "outputs": [],
   "source": [
    "import joblib\n",
    "from sklearn.base import BaseEstimator, TransformerMixin\n",
    "from sklearn.impute import SimpleImputer\n",
    "from sklearn.preprocessing import StandardScaler, MinMaxScaler\n",
    "from sklearn.preprocessing import OneHotEncoder\n",
    "from sklearn.compose import ColumnTransformer, make_column_transformer\n",
    "from sklearn.pipeline import Pipeline, make_pipeline\n",
    "from sklearn.feature_selection import SelectPercentile, f_classif, f_regression, SelectFromModel, RFE\n",
    "from sklearn.model_selection import train_test_split\n",
    "from sklearn.model_selection import cross_val_score, cross_validate\n",
    "from sklearn.metrics import mean_squared_error\n",
    "from sklearn.model_selection import GridSearchCV, RandomizedSearchCV"
   ]
  },
  {
   "cell_type": "code",
   "execution_count": 3,
   "metadata": {
    "ExecuteTime": {
     "end_time": "2021-11-04T12:15:28.759193Z",
     "start_time": "2021-11-04T12:15:28.652445Z"
    }
   },
   "outputs": [],
   "source": [
    "from sklearn.neighbors import KNeighborsClassifier\n",
    "from sklearn.linear_model import LogisticRegression\n",
    "from sklearn.linear_model import SGDClassifier\n",
    "from sklearn.svm import LinearSVC, SVC\n",
    "from sklearn.tree import DecisionTreeClassifier\n",
    "from sklearn.ensemble import RandomForestClassifier\n",
    "from sklearn.ensemble import ExtraTreesClassifier\n",
    "from sklearn.ensemble import GradientBoostingClassifier\n",
    "from xgboost import XGBClassifier\n",
    "# from lightgbm import LGBMClassifier\n",
    "from sklearn.ensemble import AdaBoostClassifier\n",
    "from sklearn.neural_network import MLPClassifier"
   ]
  },
  {
   "cell_type": "code",
   "execution_count": 4,
   "metadata": {
    "ExecuteTime": {
     "end_time": "2021-11-04T12:15:33.034718Z",
     "start_time": "2021-11-04T12:15:28.762151Z"
    }
   },
   "outputs": [],
   "source": [
    "import tensorflow as tf\n",
    "from tensorflow import keras\n",
    "from tensorflow.keras.models import Sequential, Model\n",
    "from tensorflow.keras.layers import Flatten, Dense, Input, concatenate, Embedding, Dot\n",
    "from tensorflow.keras.layers import Activation, ReLU, LeakyReLU, PReLU\n",
    "from tensorflow.keras.layers import BatchNormalization, Dropout, AlphaDropout\n",
    "from tensorflow.keras.callbacks import EarlyStopping, ModelCheckpoint\n",
    "from tensorflow.keras.utils import plot_model\n",
    "\n",
    "from functools import partial"
   ]
  },
  {
   "cell_type": "markdown",
   "metadata": {},
   "source": [
    "# Data load"
   ]
  },
  {
   "cell_type": "code",
   "execution_count": 5,
   "metadata": {
    "ExecuteTime": {
     "end_time": "2021-11-04T12:15:35.139086Z",
     "start_time": "2021-11-04T12:15:33.037711Z"
    }
   },
   "outputs": [],
   "source": [
    "train = pd.read_csv('train.csv')\n",
    "test = pd.read_csv('test.csv')"
   ]
  },
  {
   "cell_type": "markdown",
   "metadata": {},
   "source": [
    "# Column 설정"
   ]
  },
  {
   "cell_type": "code",
   "execution_count": 6,
   "metadata": {
    "ExecuteTime": {
     "end_time": "2021-11-04T12:15:35.155043Z",
     "start_time": "2021-11-04T12:15:35.142079Z"
    }
   },
   "outputs": [],
   "source": [
    "target = 'target'"
   ]
  },
  {
   "cell_type": "code",
   "execution_count": 7,
   "metadata": {
    "ExecuteTime": {
     "end_time": "2021-11-04T12:15:35.171004Z",
     "start_time": "2021-11-04T12:15:35.157037Z"
    }
   },
   "outputs": [],
   "source": [
    "columns_useless = ['id']\n",
    "columns_useless = columns_useless + ['nom_5', 'nom_6', 'nom_7', 'nom_8', 'nom_9', 'ord_5']"
   ]
  },
  {
   "cell_type": "code",
   "execution_count": 8,
   "metadata": {
    "ExecuteTime": {
     "end_time": "2021-11-04T12:15:35.185960Z",
     "start_time": "2021-11-04T12:15:35.176984Z"
    }
   },
   "outputs": [],
   "source": [
    "columns_num_all = joblib.load('columns_num.pkl')\n",
    "columns_cat_all = joblib.load('columns_cat.pkl')\n",
    "columns_binary_num = joblib.load('columns_binary_num.pkl')\n",
    "columns_binary_cat = joblib.load('columns_binary_cat.pkl')"
   ]
  },
  {
   "cell_type": "code",
   "execution_count": 9,
   "metadata": {
    "ExecuteTime": {
     "end_time": "2021-11-04T12:15:35.201920Z",
     "start_time": "2021-11-04T12:15:35.188956Z"
    }
   },
   "outputs": [],
   "source": [
    "try :\n",
    "    columns_num_all.remove(target)\n",
    "    \n",
    "except :\n",
    "    pass"
   ]
  },
  {
   "cell_type": "code",
   "execution_count": 10,
   "metadata": {
    "ExecuteTime": {
     "end_time": "2021-11-04T12:15:35.216879Z",
     "start_time": "2021-11-04T12:15:35.205907Z"
    }
   },
   "outputs": [],
   "source": [
    "try :\n",
    "    columns_cat_all.remove(target)\n",
    "    \n",
    "except :\n",
    "    pass"
   ]
  },
  {
   "cell_type": "code",
   "execution_count": 11,
   "metadata": {
    "ExecuteTime": {
     "end_time": "2021-11-04T12:15:35.231837Z",
     "start_time": "2021-11-04T12:15:35.219869Z"
    }
   },
   "outputs": [],
   "source": [
    "columns_num = []\n",
    "\n",
    "for column in columns_num_all :\n",
    "    \n",
    "    if column not in columns_useless :\n",
    "        columns_num.append(column)"
   ]
  },
  {
   "cell_type": "code",
   "execution_count": 12,
   "metadata": {
    "ExecuteTime": {
     "end_time": "2021-11-04T12:15:35.247795Z",
     "start_time": "2021-11-04T12:15:35.234829Z"
    }
   },
   "outputs": [],
   "source": [
    "columns_cat = []\n",
    "\n",
    "for column in columns_cat_all :\n",
    "    \n",
    "    if column not in columns_useless :\n",
    "        columns_cat.append(column)"
   ]
  },
  {
   "cell_type": "code",
   "execution_count": 13,
   "metadata": {
    "ExecuteTime": {
     "end_time": "2021-11-04T12:15:35.262756Z",
     "start_time": "2021-11-04T12:15:35.250787Z"
    }
   },
   "outputs": [
    {
     "data": {
      "text/plain": [
       "[]"
      ]
     },
     "execution_count": 13,
     "metadata": {},
     "output_type": "execute_result"
    }
   ],
   "source": [
    "columns_sc = []\n",
    "\n",
    "for column in columns_num :\n",
    "    \n",
    "    if column not in columns_binary_num:\n",
    "        columns_sc.append(column)\n",
    "        \n",
    "columns_sc"
   ]
  },
  {
   "cell_type": "code",
   "execution_count": 14,
   "metadata": {
    "ExecuteTime": {
     "end_time": "2021-11-04T12:15:35.278715Z",
     "start_time": "2021-11-04T12:15:35.267742Z"
    }
   },
   "outputs": [
    {
     "data": {
      "text/plain": [
       "['nom_0',\n",
       " 'nom_1',\n",
       " 'nom_2',\n",
       " 'nom_3',\n",
       " 'nom_4',\n",
       " 'ord_1',\n",
       " 'ord_2',\n",
       " 'ord_3',\n",
       " 'ord_4',\n",
       " 'ord_0',\n",
       " 'day',\n",
       " 'month']"
      ]
     },
     "execution_count": 14,
     "metadata": {},
     "output_type": "execute_result"
    }
   ],
   "source": [
    "columns_en = []\n",
    "\n",
    "for column in columns_cat :\n",
    "    \n",
    "    if (column not in columns_binary_num) and (column not in columns_binary_cat):\n",
    "        columns_en.append(column)\n",
    "        \n",
    "columns_en"
   ]
  },
  {
   "cell_type": "markdown",
   "metadata": {},
   "source": [
    "# Data 분리"
   ]
  },
  {
   "cell_type": "markdown",
   "metadata": {},
   "source": [
    "## target 분리"
   ]
  },
  {
   "cell_type": "code",
   "execution_count": 15,
   "metadata": {
    "ExecuteTime": {
     "end_time": "2021-11-04T12:15:35.293671Z",
     "start_time": "2021-11-04T12:15:35.283700Z"
    }
   },
   "outputs": [],
   "source": [
    "# y = data[target]\n",
    "# X = data.drop(target, axis=1)"
   ]
  },
  {
   "cell_type": "code",
   "execution_count": 16,
   "metadata": {
    "ExecuteTime": {
     "end_time": "2021-11-04T12:15:35.418339Z",
     "start_time": "2021-11-04T12:15:35.297661Z"
    }
   },
   "outputs": [],
   "source": [
    "y_train = train[target]\n",
    "X_train = train.drop(target, axis=1)\n",
    "X_train_og = X_train.copy()"
   ]
  },
  {
   "cell_type": "code",
   "execution_count": 17,
   "metadata": {
    "ExecuteTime": {
     "end_time": "2021-11-04T12:15:35.465212Z",
     "start_time": "2021-11-04T12:15:35.423325Z"
    }
   },
   "outputs": [],
   "source": [
    "X_test = test.copy()"
   ]
  },
  {
   "cell_type": "markdown",
   "metadata": {},
   "source": [
    "## Train & test set 분리"
   ]
  },
  {
   "cell_type": "code",
   "execution_count": 18,
   "metadata": {
    "ExecuteTime": {
     "end_time": "2021-11-04T12:15:35.480173Z",
     "start_time": "2021-11-04T12:15:35.468206Z"
    }
   },
   "outputs": [],
   "source": [
    "# X_train, X_test, y_train, y_test = train_test_split(X, y, random_state=30)\n",
    "# X_train_og = X_train.copy()"
   ]
  },
  {
   "cell_type": "markdown",
   "metadata": {},
   "source": [
    "# Data preprocessing"
   ]
  },
  {
   "cell_type": "code",
   "execution_count": 19,
   "metadata": {
    "ExecuteTime": {
     "end_time": "2021-11-04T12:15:35.511091Z",
     "start_time": "2021-11-04T12:15:35.484162Z"
    }
   },
   "outputs": [],
   "source": [
    "def preprocessing(data, X_train_og, columns_useless, columns_sc, columns_binary_cat, columns_en) :\n",
    "    \n",
    "    # useless column 제거\n",
    "    data.drop(columns_useless, axis=1, inplace=True)\n",
    "    \n",
    "    # scaling\n",
    "#     scaler = StandardScaler()\n",
    "#     scaler.fit(X_train_og[columns_sc])\n",
    "#     data[columns_sc] = scaler.transform(data[columns_sc])\n",
    "\n",
    "    # binary data 처리\n",
    "    column = columns_binary_cat[0]\n",
    "    index_1 = data[data[column] == 'T'].index\n",
    "    index_0 = data[data[column] == 'F'].index\n",
    "    data.loc[index_1, column] = 1\n",
    "    data.loc[index_0, column] = 0\n",
    "    \n",
    "    column = columns_binary_cat[1]\n",
    "    index_1 = data[data[column] == 'Y'].index\n",
    "    index_0 = data[data[column] == 'N'].index\n",
    "    data.loc[index_1, column] = 1\n",
    "    data.loc[index_0, column] = 0\n",
    "    \n",
    "    data[columns_binary_cat] = data[columns_binary_cat].astype('int64')\n",
    "    \n",
    "    # One-hot-encoding\n",
    "    data = pd.get_dummies(data, columns=columns_en)\n",
    "#     encoder = OneHotEncoder()\n",
    "#     data = encoder.fit_transform(data)\n",
    "    \n",
    "    return data"
   ]
  },
  {
   "cell_type": "code",
   "execution_count": 20,
   "metadata": {
    "ExecuteTime": {
     "end_time": "2021-11-04T12:15:37.201566Z",
     "start_time": "2021-11-04T12:15:35.515080Z"
    }
   },
   "outputs": [],
   "source": [
    "X_train = preprocessing(X_train, X_train_og, columns_useless, columns_sc, columns_binary_cat, columns_en)\n",
    "X_test = preprocessing(X_test, X_train_og, columns_useless, columns_sc, columns_binary_cat, columns_en)"
   ]
  },
  {
   "cell_type": "code",
   "execution_count": 21,
   "metadata": {
    "ExecuteTime": {
     "end_time": "2021-11-04T12:15:37.217527Z",
     "start_time": "2021-11-04T12:15:37.204559Z"
    }
   },
   "outputs": [
    {
     "name": "stdout",
     "output_type": "stream",
     "text": [
      "(300000, 104)\n",
      "(200000, 104)\n"
     ]
    }
   ],
   "source": [
    "if X_train.shape[1] != X_test.shape[1] :\n",
    "    raise ValueError\n",
    "    \n",
    "else :\n",
    "    print(X_train.shape)\n",
    "    print(X_test.shape)"
   ]
  },
  {
   "cell_type": "markdown",
   "metadata": {},
   "source": [
    "# ML model cross validation"
   ]
  },
  {
   "cell_type": "code",
   "execution_count": 22,
   "metadata": {
    "ExecuteTime": {
     "end_time": "2021-11-04T12:15:37.232484Z",
     "start_time": "2021-11-04T12:15:37.220518Z"
    }
   },
   "outputs": [],
   "source": [
    "knn = KNeighborsClassifier(n_neighbors=5)\n",
    "logit = LogisticRegression(C=1.0, random_state=30)\n",
    "sgd = SGDClassifier(max_iter=1000, eta0=0.0, random_state=30)\n",
    "linsvm = LinearSVC(C=1.0, random_state=30)\n",
    "svm = SVC(kernel='rbf', C=1.0, gamma='scale', random_state=30)\n",
    "dt = DecisionTreeClassifier(max_depth=None, random_state=30)\n",
    "rf = RandomForestClassifier(n_estimators=100, max_depth=None, n_jobs=-1, random_state=30)\n",
    "et = ExtraTreesClassifier(n_estimators=100, max_depth=None, n_jobs=-1, random_state=30)\n",
    "gb = GradientBoostingClassifier(learning_rate=0.1, n_estimators=1000, max_depth=3, random_state=30)\n",
    "xgb = XGBClassifier(learning_rate=0.1, n_estimators=100, max_depth=3, random_state=30)\n",
    "# lgb = LGBMClassifier(random_state=30)\n",
    "adb = AdaBoostClassifier(random_state=30)\n",
    "mlp = MLPClassifier(hidden_layer_sizes=(100,), activation='relu', solver='adam', alpha=0.0001, max_iter=200,\n",
    "                    learning_rate='constant', learning_rate_init=0.001,random_state=30)"
   ]
  },
  {
   "cell_type": "code",
   "execution_count": 23,
   "metadata": {
    "ExecuteTime": {
     "end_time": "2021-11-04T12:15:37.263402Z",
     "start_time": "2021-11-04T12:15:37.245451Z"
    }
   },
   "outputs": [],
   "source": [
    "models = {\n",
    "#     'knn' : knn,\n",
    "    'logit' : logit,\n",
    "    'sgd' : sgd,\n",
    "    'linsvm' : linsvm,\n",
    "#     'svm' : svm,\n",
    "    'dt' : dt,\n",
    "    'rf' : rf,\n",
    "    'et' : et,\n",
    "    'gb' : gb,\n",
    "#     'xgb' : xgb,\n",
    "#     'lgb' : lgb,\n",
    "    'adb' : adb,\n",
    "#     'mlp' : mlp\n",
    "}"
   ]
  },
  {
   "cell_type": "code",
   "execution_count": 24,
   "metadata": {
    "ExecuteTime": {
     "end_time": "2021-11-04T13:06:35.731174Z",
     "start_time": "2021-11-04T12:15:37.270384Z"
    }
   },
   "outputs": [
    {
     "name": "stdout",
     "output_type": "stream",
     "text": [
      "logit : 0.743\n",
      "sgd : 0.738\n",
      "linsvm : 0.743\n",
      "dt : 0.564\n",
      "rf : 0.711\n",
      "et : 0.707\n",
      "gb : 0.74\n",
      "adb : 0.734\n",
      "mlp : 0.713\n"
     ]
    }
   ],
   "source": [
    "# result = []\n",
    "\n",
    "# for key, model in models.items() : \n",
    "#     score = cross_validate(model, X_train, y_train, cv=5, scoring='roc_auc', return_train_score=True, n_jobs=-1)  \n",
    "#     score = pd.DataFrame(score).mean()\n",
    "    \n",
    "#     result.append(score)"
   ]
  },
  {
   "cell_type": "markdown",
   "metadata": {},
   "source": [
    "- logit : 0.743\n",
    "- sgd : 0.738\n",
    "- linsvm : 0.743\n",
    "- dt : 0.564\n",
    "- rf : 0.711\n",
    "- et : 0.707\n",
    "- gb : 0.74\n",
    "- adb : 0.734\n",
    "- mlp : 0.713"
   ]
  },
  {
   "cell_type": "code",
   "execution_count": null,
   "metadata": {},
   "outputs": [],
   "source": [
    "# result = pd.concat(result, axis=1)\n",
    "# result.columns = models.keys()\n",
    "# result = result.T\n",
    "# result = result[['test_score', 'train_score', 'fit_time', 'score_time']]\n",
    "# result = round(result, 3)\n",
    "# result"
   ]
  },
  {
   "cell_type": "markdown",
   "metadata": {},
   "source": [
    "## Validation set 분리 검증\n",
    "- Train dataset이 너무 커서 cross validation에 너무 오랜 시간이 걸리는 경우"
   ]
  },
  {
   "cell_type": "code",
   "execution_count": 25,
   "metadata": {
    "ExecuteTime": {
     "end_time": "2021-11-04T13:06:35.792336Z",
     "start_time": "2021-11-04T13:06:35.749159Z"
    }
   },
   "outputs": [],
   "source": [
    "# X_train, X_val, y_train, y_val = train_test_split(X_train, y_train, random_state=30)"
   ]
  },
  {
   "cell_type": "code",
   "execution_count": 26,
   "metadata": {
    "ExecuteTime": {
     "end_time": "2021-11-04T13:06:35.807617Z",
     "start_time": "2021-11-04T13:06:35.794390Z"
    }
   },
   "outputs": [],
   "source": [
    "# for key, model in models.items() :\n",
    "#     model.fit(X_train, y_train)\n",
    "#     print(key, ':', model.score(X_val, y_val))"
   ]
  },
  {
   "cell_type": "markdown",
   "metadata": {},
   "source": [
    "# Nerual network"
   ]
  },
  {
   "cell_type": "code",
   "execution_count": 27,
   "metadata": {
    "ExecuteTime": {
     "end_time": "2021-11-04T13:06:35.838781Z",
     "start_time": "2021-11-04T13:06:35.809940Z"
    }
   },
   "outputs": [],
   "source": [
    "def plot_result(history) :\n",
    "    plt.figure(figsize=(12, 4))\n",
    "    plt.subplot(1, 2, 1)\n",
    "    plt.plot(history.history['loss'], 'b--', label='loss')\n",
    "    plt.plot(history.history['val_loss'], 'r-', label='val_loss')\n",
    "    plt.xlabel('Epoch')\n",
    "    plt.grid(True)\n",
    "    plt.legend()\n",
    "\n",
    "    plt.subplot(1, 2, 2)\n",
    "    plt.plot(history.history['auc'], 'b--', label='auc')\n",
    "    plt.plot(history.history['val_auc'], 'r-', label='val_auc')\n",
    "    plt.xlabel('Epoch')\n",
    "    plt.grid(True)\n",
    "    plt.legend()"
   ]
  },
  {
   "cell_type": "code",
   "execution_count": 28,
   "metadata": {
    "ExecuteTime": {
     "end_time": "2021-11-04T13:06:35.869666Z",
     "start_time": "2021-11-04T13:06:35.841769Z"
    }
   },
   "outputs": [],
   "source": [
    "np.random.seed(30)\n",
    "tf.random.set_seed(30)"
   ]
  },
  {
   "cell_type": "code",
   "execution_count": 29,
   "metadata": {
    "ExecuteTime": {
     "end_time": "2021-11-04T13:06:36.523944Z",
     "start_time": "2021-11-04T13:06:35.872618Z"
    }
   },
   "outputs": [
    {
     "name": "stdout",
     "output_type": "stream",
     "text": [
      "Model: \"sequential\"\n",
      "_________________________________________________________________\n",
      "Layer (type)                 Output Shape              Param #   \n",
      "=================================================================\n",
      "dense (Dense)                (None, 100)               10500     \n",
      "_________________________________________________________________\n",
      "dense_1 (Dense)              (None, 100)               10100     \n",
      "_________________________________________________________________\n",
      "dense_2 (Dense)              (None, 100)               10100     \n",
      "_________________________________________________________________\n",
      "dense_3 (Dense)              (None, 100)               10100     \n",
      "_________________________________________________________________\n",
      "dense_4 (Dense)              (None, 100)               10100     \n",
      "_________________________________________________________________\n",
      "dense_5 (Dense)              (None, 100)               10100     \n",
      "_________________________________________________________________\n",
      "dense_6 (Dense)              (None, 2)                 202       \n",
      "=================================================================\n",
      "Total params: 61,202\n",
      "Trainable params: 61,202\n",
      "Non-trainable params: 0\n",
      "_________________________________________________________________\n"
     ]
    }
   ],
   "source": [
    "model = Sequential()\n",
    "model.add(Dense(100, activation='selu', kernel_initializer='lecun_normal', input_shape=(X_train.shape[1],)))\n",
    "\n",
    "for layer in range(5):\n",
    "    model.add(Dense(100, activation='selu', kernel_initializer='lecun_normal'))\n",
    "    \n",
    "model.add(Dense(2, activation='softmax'))\n",
    "\n",
    "model.summary()"
   ]
  },
  {
   "cell_type": "code",
   "execution_count": 30,
   "metadata": {
    "ExecuteTime": {
     "end_time": "2021-11-04T13:06:36.539872Z",
     "start_time": "2021-11-04T13:06:36.527903Z"
    }
   },
   "outputs": [],
   "source": [
    "optimizer = keras.optimizers.Adam(lr=0.001, beta_1=0.9, beta_2=0.999)"
   ]
  },
  {
   "cell_type": "code",
   "execution_count": 31,
   "metadata": {
    "ExecuteTime": {
     "end_time": "2021-11-04T13:06:36.555830Z",
     "start_time": "2021-11-04T13:06:36.542864Z"
    }
   },
   "outputs": [],
   "source": [
    "y_train = tf.keras.utils.to_categorical(y_train, num_classes=2)   # metrics로 'AUC'를 사용하기 위해 one-hot-encoding 사용"
   ]
  },
  {
   "cell_type": "code",
   "execution_count": 32,
   "metadata": {
    "ExecuteTime": {
     "end_time": "2021-11-04T13:06:36.586745Z",
     "start_time": "2021-11-04T13:06:36.557823Z"
    }
   },
   "outputs": [],
   "source": [
    "model.compile(loss='categorical_crossentropy', optimizer=optimizer, metrics=['AUC'])"
   ]
  },
  {
   "cell_type": "code",
   "execution_count": 33,
   "metadata": {
    "ExecuteTime": {
     "end_time": "2021-11-04T13:06:36.601708Z",
     "start_time": "2021-11-04T13:06:36.588742Z"
    }
   },
   "outputs": [],
   "source": [
    "early_stopping_cb = keras.callbacks.EarlyStopping(patience=20, restore_best_weights=True)"
   ]
  },
  {
   "cell_type": "code",
   "execution_count": 34,
   "metadata": {
    "ExecuteTime": {
     "end_time": "2021-11-04T13:10:59.316778Z",
     "start_time": "2021-11-04T13:06:36.605695Z"
    },
    "scrolled": false
   },
   "outputs": [
    {
     "name": "stdout",
     "output_type": "stream",
     "text": [
      "Epoch 1/100\n",
      "7032/7032 [==============================] - 13s 2ms/step - loss: 0.5403 - auc: 0.8023 - val_loss: 0.5369 - val_auc: 0.8054\n",
      "Epoch 2/100\n",
      "7032/7032 [==============================] - 12s 2ms/step - loss: 0.5353 - auc: 0.8066 - val_loss: 0.5366 - val_auc: 0.8062\n",
      "Epoch 3/100\n",
      "7032/7032 [==============================] - 12s 2ms/step - loss: 0.5332 - auc: 0.8084 - val_loss: 0.5383 - val_auc: 0.8054\n",
      "Epoch 4/100\n",
      "7032/7032 [==============================] - 12s 2ms/step - loss: 0.5311 - auc: 0.8101 - val_loss: 0.5383 - val_auc: 0.8046\n",
      "Epoch 5/100\n",
      "7032/7032 [==============================] - 12s 2ms/step - loss: 0.5290 - auc: 0.8120 - val_loss: 0.5403 - val_auc: 0.8037\n",
      "Epoch 6/100\n",
      "7032/7032 [==============================] - 12s 2ms/step - loss: 0.5263 - auc: 0.8142 - val_loss: 0.5412 - val_auc: 0.8019\n",
      "Epoch 7/100\n",
      "7032/7032 [==============================] - 12s 2ms/step - loss: 0.5239 - auc: 0.8162 - val_loss: 0.5448 - val_auc: 0.7991\n",
      "Epoch 8/100\n",
      "7032/7032 [==============================] - 12s 2ms/step - loss: 0.5214 - auc: 0.8182 - val_loss: 0.5471 - val_auc: 0.8011\n",
      "Epoch 9/100\n",
      "7032/7032 [==============================] - 12s 2ms/step - loss: 0.5189 - auc: 0.8204 - val_loss: 0.5461 - val_auc: 0.7973\n",
      "Epoch 10/100\n",
      "7032/7032 [==============================] - 12s 2ms/step - loss: 0.5162 - auc: 0.8225 - val_loss: 0.5505 - val_auc: 0.7949\n",
      "Epoch 11/100\n",
      "7032/7032 [==============================] - 12s 2ms/step - loss: 0.5130 - auc: 0.8251 - val_loss: 0.5547 - val_auc: 0.7949\n",
      "Epoch 12/100\n",
      "7032/7032 [==============================] - 12s 2ms/step - loss: 0.5104 - auc: 0.8274 - val_loss: 0.5526 - val_auc: 0.7948\n",
      "Epoch 13/100\n",
      "7032/7032 [==============================] - 12s 2ms/step - loss: 0.5070 - auc: 0.8300 - val_loss: 0.5587 - val_auc: 0.7916\n",
      "Epoch 14/100\n",
      "7032/7032 [==============================] - 12s 2ms/step - loss: 0.5039 - auc: 0.8326 - val_loss: 0.5703 - val_auc: 0.7908\n",
      "Epoch 15/100\n",
      "7032/7032 [==============================] - 12s 2ms/step - loss: 0.5008 - auc: 0.8349 - val_loss: 0.5650 - val_auc: 0.7889\n",
      "Epoch 16/100\n",
      "7032/7032 [==============================] - 12s 2ms/step - loss: 0.4982 - auc: 0.8369 - val_loss: 0.5666 - val_auc: 0.7857\n",
      "Epoch 17/100\n",
      "7032/7032 [==============================] - 12s 2ms/step - loss: 0.4954 - auc: 0.8390 - val_loss: 0.5863 - val_auc: 0.7753\n",
      "Epoch 18/100\n",
      "7032/7032 [==============================] - 12s 2ms/step - loss: 0.4923 - auc: 0.8414 - val_loss: 0.5754 - val_auc: 0.7859\n",
      "Epoch 19/100\n",
      "7032/7032 [==============================] - 12s 2ms/step - loss: 0.4897 - auc: 0.8432 - val_loss: 0.5782 - val_auc: 0.7840\n",
      "Epoch 20/100\n",
      "7032/7032 [==============================] - 12s 2ms/step - loss: 0.4871 - auc: 0.8451 - val_loss: 0.5868 - val_auc: 0.77964872 - auc: 0\n",
      "Epoch 21/100\n",
      "7032/7032 [==============================] - 12s 2ms/step - loss: 0.4846 - auc: 0.8470 - val_loss: 0.5999 - val_auc: 0.7746\n",
      "Epoch 22/100\n",
      "7032/7032 [==============================] - 12s 2ms/step - loss: 0.4820 - auc: 0.8488 - val_loss: 0.5921 - val_auc: 0.7746\n"
     ]
    }
   ],
   "source": [
    "history = model.fit(X_train, y_train, epochs=100, validation_split=0.25, callbacks=early_stopping_cb)"
   ]
  },
  {
   "cell_type": "code",
   "execution_count": 35,
   "metadata": {
    "ExecuteTime": {
     "end_time": "2021-11-04T13:10:59.943156Z",
     "start_time": "2021-11-04T13:10:59.318779Z"
    }
   },
   "outputs": [
    {
     "data": {
      "image/png": "[encoded data removed]",
      "text/plain": [
       "<Figure size 864x288 with 2 Axes>"
      ]
     },
     "metadata": {
      "needs_background": "light"
     },
     "output_type": "display_data"
    }
   ],
   "source": [
    "plot_result(history)"
   ]
  },
  {
   "cell_type": "markdown",
   "metadata": {},
   "source": [
    "- loss: 0.4820\n",
    "- auc: 0.8488\n",
    "- val_loss: 0.5921\n",
    "- val_auc: 0.7746"
   ]
  }
 ],
 "metadata": {
  "hide_input": false,
  "kernelspec": {
   "display_name": "Python 3",
   "language": "python",
   "name": "python3"
  },
  "language_info": {
   "codemirror_mode": {
    "name": "ipython",
    "version": 3
   },
   "file_extension": ".py",
   "mimetype": "text/x-python",
   "name": "python",
   "nbconvert_exporter": "python",
   "pygments_lexer": "ipython3",
   "version": "3.7.1"
  },
  "toc": {
   "base_numbering": 1,
   "nav_menu": {},
   "number_sections": true,
   "sideBar": true,
   "skip_h1_title": false,
   "title_cell": "Table of Contents",
   "title_sidebar": "Contents",
   "toc_cell": false,
   "toc_position": {},
   "toc_section_display": true,
   "toc_window_display": true
  },
  "varInspector": {
   "cols": {
    "lenName": 16,
    "lenType": 16,
    "lenVar": 40
   },
   "kernels_config": {
    "python": {
     "delete_cmd_postfix": "",
     "delete_cmd_prefix": "del ",
     "library": "var_list.py",
     "varRefreshCmd": "print(var_dic_list())"
    },
    "r": {
     "delete_cmd_postfix": ") ",
     "delete_cmd_prefix": "rm(",
     "library": "var_list.r",
     "varRefreshCmd": "cat(var_dic_list()) "
    }
   },
   "types_to_exclude": [
    "module",
    "function",
    "builtin_function_or_method",
    "instance",
    "_Feature"
   ],
   "window_display": false
  }
 },
 "nbformat": 4,
 "nbformat_minor": 4
}

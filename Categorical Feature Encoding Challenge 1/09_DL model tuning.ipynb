{
 "cells": [
  {
   "cell_type": "code",
   "execution_count": 1,
   "metadata": {
    "ExecuteTime": {
     "end_time": "2021-11-11T23:02:09.648143Z",
     "start_time": "2021-11-11T23:02:06.869678Z"
    }
   },
   "outputs": [],
   "source": [
    "import numpy as np\n",
    "from scipy import stats\n",
    "import pandas as pd\n",
    "import matplotlib.pyplot as plt\n",
    "import seaborn as sns\n",
    "\n",
    "# sns.set()\n",
    "\n",
    "import os\n",
    "\n",
    "import warnings\n",
    "warnings.filterwarnings('ignore')"
   ]
  },
  {
   "cell_type": "code",
   "execution_count": 2,
   "metadata": {
    "ExecuteTime": {
     "end_time": "2021-11-11T23:02:12.200199Z",
     "start_time": "2021-11-11T23:02:09.651100Z"
    }
   },
   "outputs": [],
   "source": [
    "import joblib\n",
    "from sklearn.base import BaseEstimator, TransformerMixin\n",
    "from sklearn.impute import SimpleImputer\n",
    "from sklearn.preprocessing import StandardScaler, MinMaxScaler\n",
    "from sklearn.preprocessing import OneHotEncoder\n",
    "from sklearn.compose import ColumnTransformer, make_column_transformer\n",
    "from sklearn.pipeline import Pipeline, make_pipeline\n",
    "from sklearn.feature_selection import SelectPercentile, f_classif, f_regression, SelectFromModel, RFE\n",
    "from sklearn.model_selection import train_test_split\n",
    "from sklearn.model_selection import cross_val_score, cross_validate\n",
    "from sklearn.metrics import mean_squared_error\n",
    "from sklearn.model_selection import GridSearchCV, RandomizedSearchCV"
   ]
  },
  {
   "cell_type": "code",
   "execution_count": 3,
   "metadata": {
    "ExecuteTime": {
     "end_time": "2021-11-11T23:02:19.830619Z",
     "start_time": "2021-11-11T23:02:12.211447Z"
    }
   },
   "outputs": [],
   "source": [
    "import tensorflow as tf\n",
    "from tensorflow import keras\n",
    "from tensorflow.keras.models import Sequential, Model\n",
    "from tensorflow.keras.layers import Flatten, Dense, Input, concatenate, Embedding, Dot\n",
    "from tensorflow.keras.layers import Activation, ReLU, LeakyReLU, PReLU\n",
    "from tensorflow.keras.layers import BatchNormalization, Dropout, AlphaDropout\n",
    "from tensorflow.keras.callbacks import EarlyStopping, ModelCheckpoint\n",
    "from tensorflow.keras.utils import plot_model\n",
    "\n",
    "from functools import partial"
   ]
  },
  {
   "cell_type": "markdown",
   "metadata": {},
   "source": [
    "# Data load"
   ]
  },
  {
   "cell_type": "code",
   "execution_count": 4,
   "metadata": {
    "ExecuteTime": {
     "end_time": "2021-11-11T23:02:22.928919Z",
     "start_time": "2021-11-11T23:02:19.835528Z"
    }
   },
   "outputs": [],
   "source": [
    "train = pd.read_csv('train.csv')\n",
    "test = pd.read_csv('test.csv')"
   ]
  },
  {
   "cell_type": "markdown",
   "metadata": {},
   "source": [
    "# Column 설정"
   ]
  },
  {
   "cell_type": "code",
   "execution_count": 5,
   "metadata": {
    "ExecuteTime": {
     "end_time": "2021-11-11T23:02:22.944204Z",
     "start_time": "2021-11-11T23:02:22.932954Z"
    }
   },
   "outputs": [],
   "source": [
    "target = 'target'"
   ]
  },
  {
   "cell_type": "code",
   "execution_count": 6,
   "metadata": {
    "ExecuteTime": {
     "end_time": "2021-11-11T23:02:22.959003Z",
     "start_time": "2021-11-11T23:02:22.949148Z"
    }
   },
   "outputs": [],
   "source": [
    "columns_useless = ['id']\n",
    "# columns_useless = columns_useless + ['nom_5', 'nom_6', 'nom_7', 'nom_8', 'nom_9', 'ord_5']"
   ]
  },
  {
   "cell_type": "code",
   "execution_count": 7,
   "metadata": {
    "ExecuteTime": {
     "end_time": "2021-11-11T23:02:22.990023Z",
     "start_time": "2021-11-11T23:02:22.966017Z"
    }
   },
   "outputs": [],
   "source": [
    "columns_num_all = joblib.load('columns_num.pkl')\n",
    "columns_cat_all = joblib.load('columns_cat.pkl')\n",
    "columns_binary_num = joblib.load('columns_binary_num.pkl')\n",
    "columns_binary_cat = joblib.load('columns_binary_cat.pkl')"
   ]
  },
  {
   "cell_type": "code",
   "execution_count": 8,
   "metadata": {
    "ExecuteTime": {
     "end_time": "2021-11-11T23:02:23.004992Z",
     "start_time": "2021-11-11T23:02:22.995063Z"
    }
   },
   "outputs": [],
   "source": [
    "try :\n",
    "    columns_num_all.remove(target)\n",
    "    \n",
    "except :\n",
    "    pass"
   ]
  },
  {
   "cell_type": "code",
   "execution_count": 9,
   "metadata": {
    "ExecuteTime": {
     "end_time": "2021-11-11T23:02:23.021090Z",
     "start_time": "2021-11-11T23:02:23.009015Z"
    }
   },
   "outputs": [],
   "source": [
    "try :\n",
    "    columns_cat_all.remove(target)\n",
    "    \n",
    "except :\n",
    "    pass"
   ]
  },
  {
   "cell_type": "code",
   "execution_count": 10,
   "metadata": {
    "ExecuteTime": {
     "end_time": "2021-11-11T23:02:23.036622Z",
     "start_time": "2021-11-11T23:02:23.024972Z"
    }
   },
   "outputs": [],
   "source": [
    "columns_num = []\n",
    "\n",
    "for column in columns_num_all :\n",
    "    \n",
    "    if column not in columns_useless :\n",
    "        columns_num.append(column)"
   ]
  },
  {
   "cell_type": "code",
   "execution_count": 11,
   "metadata": {
    "ExecuteTime": {
     "end_time": "2021-11-11T23:02:23.052107Z",
     "start_time": "2021-11-11T23:02:23.040937Z"
    }
   },
   "outputs": [],
   "source": [
    "columns_cat = []\n",
    "\n",
    "for column in columns_cat_all :\n",
    "    \n",
    "    if column not in columns_useless :\n",
    "        columns_cat.append(column)"
   ]
  },
  {
   "cell_type": "code",
   "execution_count": 12,
   "metadata": {
    "ExecuteTime": {
     "end_time": "2021-11-11T23:02:23.082783Z",
     "start_time": "2021-11-11T23:02:23.056900Z"
    }
   },
   "outputs": [
    {
     "data": {
      "text/plain": [
       "[]"
      ]
     },
     "execution_count": 12,
     "metadata": {},
     "output_type": "execute_result"
    }
   ],
   "source": [
    "columns_sc = []\n",
    "\n",
    "for column in columns_num :\n",
    "    \n",
    "    if column not in columns_binary_num:\n",
    "        columns_sc.append(column)\n",
    "        \n",
    "columns_sc"
   ]
  },
  {
   "cell_type": "code",
   "execution_count": 13,
   "metadata": {
    "ExecuteTime": {
     "end_time": "2021-11-11T23:02:23.113745Z",
     "start_time": "2021-11-11T23:02:23.086769Z"
    }
   },
   "outputs": [
    {
     "data": {
      "text/plain": [
       "['nom_0',\n",
       " 'nom_1',\n",
       " 'nom_2',\n",
       " 'nom_3',\n",
       " 'nom_4',\n",
       " 'nom_5',\n",
       " 'nom_6',\n",
       " 'nom_7',\n",
       " 'nom_8',\n",
       " 'nom_9',\n",
       " 'ord_1',\n",
       " 'ord_2',\n",
       " 'ord_3',\n",
       " 'ord_4',\n",
       " 'ord_5',\n",
       " 'ord_0',\n",
       " 'day',\n",
       " 'month']"
      ]
     },
     "execution_count": 13,
     "metadata": {},
     "output_type": "execute_result"
    }
   ],
   "source": [
    "columns_en = []\n",
    "\n",
    "for column in columns_cat :\n",
    "    \n",
    "    if (column not in columns_binary_num) and (column not in columns_binary_cat):\n",
    "        columns_en.append(column)\n",
    "        \n",
    "columns_en"
   ]
  },
  {
   "cell_type": "markdown",
   "metadata": {},
   "source": [
    "# Target 분리"
   ]
  },
  {
   "cell_type": "code",
   "execution_count": 14,
   "metadata": {
    "ExecuteTime": {
     "end_time": "2021-11-11T23:02:23.128778Z",
     "start_time": "2021-11-11T23:02:23.116693Z"
    }
   },
   "outputs": [],
   "source": [
    "# y = data[target]\n",
    "# X = data.drop(target, axis=1)"
   ]
  },
  {
   "cell_type": "code",
   "execution_count": 15,
   "metadata": {
    "ExecuteTime": {
     "end_time": "2021-11-11T23:02:23.268513Z",
     "start_time": "2021-11-11T23:02:23.132650Z"
    }
   },
   "outputs": [],
   "source": [
    "y_train = train[target]\n",
    "X_train = train.drop(target, axis=1)\n",
    "X_train_og = X_train.copy()"
   ]
  },
  {
   "cell_type": "code",
   "execution_count": 16,
   "metadata": {
    "ExecuteTime": {
     "end_time": "2021-11-11T23:02:23.330846Z",
     "start_time": "2021-11-11T23:02:23.272559Z"
    }
   },
   "outputs": [],
   "source": [
    "X_test = test.copy()"
   ]
  },
  {
   "cell_type": "markdown",
   "metadata": {},
   "source": [
    "# 전체 dataset concat"
   ]
  },
  {
   "cell_type": "code",
   "execution_count": 17,
   "metadata": {
    "ExecuteTime": {
     "end_time": "2021-11-11T23:02:23.647961Z",
     "start_time": "2021-11-11T23:02:23.335839Z"
    }
   },
   "outputs": [],
   "source": [
    "all_data = pd.concat([X_train, X_test])"
   ]
  },
  {
   "cell_type": "markdown",
   "metadata": {},
   "source": [
    "# Data preprocessing"
   ]
  },
  {
   "cell_type": "code",
   "execution_count": 18,
   "metadata": {
    "ExecuteTime": {
     "end_time": "2021-11-11T23:02:23.679050Z",
     "start_time": "2021-11-11T23:02:23.651958Z"
    }
   },
   "outputs": [],
   "source": [
    "def preprocessing(data, X_train_og, columns_useless, columns_sc, columns_binary_cat, columns_en) :\n",
    "    \n",
    "    # useless column 제거\n",
    "    data.drop(columns_useless, axis=1, inplace=True)\n",
    "    \n",
    "    # scaling\n",
    "#     scaler = StandardScaler()\n",
    "#     scaler.fit(X_train_og[columns_sc])\n",
    "#     data[columns_sc] = scaler.transform(data[columns_sc])\n",
    "\n",
    "    # binary data 처리\n",
    "    column = columns_binary_cat[0]\n",
    "    index_1 = data[data[column] == 'T'].index\n",
    "    index_0 = data[data[column] == 'F'].index\n",
    "    data.loc[index_1, column] = 1\n",
    "    data.loc[index_0, column] = 0\n",
    "    \n",
    "    column = columns_binary_cat[1]\n",
    "    index_1 = data[data[column] == 'Y'].index\n",
    "    index_0 = data[data[column] == 'N'].index\n",
    "    data.loc[index_1, column] = 1\n",
    "    data.loc[index_0, column] = 0\n",
    "    \n",
    "    data[columns_binary_cat] = data[columns_binary_cat].astype('int64')\n",
    "    \n",
    "    # One-hot-encoding\n",
    "#     data = pd.get_dummies(data, columns=columns_en)\n",
    "    encoder = OneHotEncoder()   # 고윳값을 많이 가진 feature가 있는 경우는 OneHotEncoder를 사용해야 함\n",
    "    data = encoder.fit_transform(data)\n",
    "    \n",
    "    return data"
   ]
  },
  {
   "cell_type": "code",
   "execution_count": 19,
   "metadata": {
    "ExecuteTime": {
     "end_time": "2021-11-11T23:02:34.086028Z",
     "start_time": "2021-11-11T23:02:23.683045Z"
    }
   },
   "outputs": [],
   "source": [
    "all_data = preprocessing(all_data, X_train_og, columns_useless, columns_sc, columns_binary_cat, columns_en)"
   ]
  },
  {
   "cell_type": "markdown",
   "metadata": {},
   "source": [
    "# Train & test set 분리"
   ]
  },
  {
   "cell_type": "code",
   "execution_count": 20,
   "metadata": {
    "ExecuteTime": {
     "end_time": "2021-11-11T23:02:34.373260Z",
     "start_time": "2021-11-11T23:02:34.090020Z"
    }
   },
   "outputs": [],
   "source": [
    "X_train = all_data[:len(train)]\n",
    "X_test = all_data[len(train):]"
   ]
  },
  {
   "cell_type": "markdown",
   "metadata": {},
   "source": [
    "# Validation set 분리\n",
    "- Train dataset이 너무 커서 cross validation에 너무 오랜 시간이 걸리는 경우\n",
    "- OneHotEncoder를 사용하면 sparse matrix를 return하기 때문에 neural network에서 validation_split를 사용할 수 없는 경우"
   ]
  },
  {
   "cell_type": "code",
   "execution_count": 21,
   "metadata": {
    "ExecuteTime": {
     "end_time": "2021-11-11T23:02:34.576736Z",
     "start_time": "2021-11-11T23:02:34.377251Z"
    }
   },
   "outputs": [],
   "source": [
    "X_train, X_val, y_train, y_val = train_test_split(X_train, y_train, random_state=30)"
   ]
  },
  {
   "cell_type": "code",
   "execution_count": 22,
   "metadata": {
    "ExecuteTime": {
     "end_time": "2021-11-11T23:02:34.623632Z",
     "start_time": "2021-11-11T23:02:34.589708Z"
    }
   },
   "outputs": [],
   "source": [
    "y_train = tf.keras.utils.to_categorical(y_train, num_classes=2)   # metrics로 'AUC'를 사용하기 위해 one-hot-encoding 사용\n",
    "y_val = tf.keras.utils.to_categorical(y_val, num_classes=2)"
   ]
  },
  {
   "cell_type": "markdown",
   "metadata": {},
   "source": [
    "# Hidden layers = 10"
   ]
  },
  {
   "cell_type": "code",
   "execution_count": 23,
   "metadata": {
    "ExecuteTime": {
     "end_time": "2021-11-11T23:02:34.653598Z",
     "start_time": "2021-11-11T23:02:34.633605Z"
    }
   },
   "outputs": [],
   "source": [
    "def plot_result(history) :\n",
    "    plt.figure(figsize=(12, 4))\n",
    "    plt.subplot(1, 2, 1)\n",
    "    plt.plot(history.history['loss'], 'b--', label='loss')\n",
    "    plt.plot(history.history['val_loss'], 'r-', label='val_loss')\n",
    "    plt.xlabel('Epoch')\n",
    "    plt.grid(True)\n",
    "    plt.legend()\n",
    "\n",
    "    plt.subplot(1, 2, 2)\n",
    "    plt.plot(history.history['auc'], 'b--', label='auc')\n",
    "    plt.plot(history.history['val_auc'], 'r-', label='val_auc')\n",
    "    plt.xlabel('Epoch')\n",
    "    plt.grid(True)\n",
    "    plt.legend()"
   ]
  },
  {
   "cell_type": "code",
   "execution_count": 24,
   "metadata": {
    "ExecuteTime": {
     "end_time": "2021-11-11T23:02:34.669510Z",
     "start_time": "2021-11-11T23:02:34.658542Z"
    }
   },
   "outputs": [],
   "source": [
    "np.random.seed(30)\n",
    "tf.random.set_seed(30)"
   ]
  },
  {
   "cell_type": "code",
   "execution_count": 25,
   "metadata": {
    "ExecuteTime": {
     "end_time": "2021-11-11T23:02:34.684770Z",
     "start_time": "2021-11-11T23:02:34.674498Z"
    }
   },
   "outputs": [],
   "source": [
    "HiddenDense = partial(Dense, activation='selu', kernel_initializer='lecun_normal')"
   ]
  },
  {
   "cell_type": "code",
   "execution_count": 26,
   "metadata": {
    "ExecuteTime": {
     "end_time": "2021-11-11T23:02:35.025119Z",
     "start_time": "2021-11-11T23:02:34.687555Z"
    }
   },
   "outputs": [
    {
     "name": "stdout",
     "output_type": "stream",
     "text": [
      "Model: \"sequential\"\n",
      "_________________________________________________________________\n",
      "Layer (type)                 Output Shape              Param #   \n",
      "=================================================================\n",
      "dense (Dense)                (None, 100)               1655300   \n",
      "_________________________________________________________________\n",
      "dense_1 (Dense)              (None, 100)               10100     \n",
      "_________________________________________________________________\n",
      "dense_2 (Dense)              (None, 100)               10100     \n",
      "_________________________________________________________________\n",
      "dense_3 (Dense)              (None, 100)               10100     \n",
      "_________________________________________________________________\n",
      "dense_4 (Dense)              (None, 100)               10100     \n",
      "_________________________________________________________________\n",
      "dense_5 (Dense)              (None, 100)               10100     \n",
      "_________________________________________________________________\n",
      "dense_6 (Dense)              (None, 100)               10100     \n",
      "_________________________________________________________________\n",
      "dense_7 (Dense)              (None, 100)               10100     \n",
      "_________________________________________________________________\n",
      "dense_8 (Dense)              (None, 100)               10100     \n",
      "_________________________________________________________________\n",
      "dense_9 (Dense)              (None, 100)               10100     \n",
      "_________________________________________________________________\n",
      "dense_10 (Dense)             (None, 100)               10100     \n",
      "_________________________________________________________________\n",
      "dense_11 (Dense)             (None, 2)                 202       \n",
      "=================================================================\n",
      "Total params: 1,756,502\n",
      "Trainable params: 1,756,502\n",
      "Non-trainable params: 0\n",
      "_________________________________________________________________\n"
     ]
    }
   ],
   "source": [
    "model = Sequential()\n",
    "model.add(HiddenDense(100, input_shape=(X_train.shape[1],)))\n",
    "\n",
    "for layer in range(10):\n",
    "    model.add(HiddenDense(100))\n",
    "    \n",
    "model.add(Dense(2, activation='softmax'))\n",
    "\n",
    "model.summary()"
   ]
  },
  {
   "cell_type": "code",
   "execution_count": 27,
   "metadata": {
    "ExecuteTime": {
     "end_time": "2021-11-11T23:02:35.040980Z",
     "start_time": "2021-11-11T23:02:35.028823Z"
    }
   },
   "outputs": [],
   "source": [
    "optimizer = keras.optimizers.Adam(learning_rate=0.001, beta_1=0.9, beta_2=0.999)"
   ]
  },
  {
   "cell_type": "code",
   "execution_count": 28,
   "metadata": {
    "ExecuteTime": {
     "end_time": "2021-11-11T23:02:35.072711Z",
     "start_time": "2021-11-11T23:02:35.044780Z"
    }
   },
   "outputs": [],
   "source": [
    "model.compile(loss='categorical_crossentropy', optimizer=optimizer, metrics=['AUC'])"
   ]
  },
  {
   "cell_type": "code",
   "execution_count": 29,
   "metadata": {
    "ExecuteTime": {
     "end_time": "2021-11-11T23:02:35.087775Z",
     "start_time": "2021-11-11T23:02:35.076695Z"
    }
   },
   "outputs": [],
   "source": [
    "early_stopping_cb = keras.callbacks.EarlyStopping(patience=10, restore_best_weights=True)"
   ]
  },
  {
   "cell_type": "code",
   "execution_count": 30,
   "metadata": {
    "ExecuteTime": {
     "end_time": "2021-11-11T23:23:37.622807Z",
     "start_time": "2021-11-11T23:02:35.093701Z"
    },
    "scrolled": false
   },
   "outputs": [
    {
     "name": "stdout",
     "output_type": "stream",
     "text": [
      "Epoch 1/100\n",
      "7032/7032 [==============================] - 110s 16ms/step - loss: 0.5246 - auc: 0.8170 - val_loss: 0.5297 - val_auc: 0.8262\n",
      "Epoch 2/100\n",
      "7032/7032 [==============================] - 120s 17ms/step - loss: 0.4848 - auc: 0.8464 - val_loss: 0.5063 - val_auc: 0.8360\n",
      "Epoch 3/100\n",
      "7032/7032 [==============================] - 122s 17ms/step - loss: 0.4719 - auc: 0.8551 - val_loss: 0.4993 - val_auc: 0.8385\n",
      "Epoch 4/100\n",
      "7032/7032 [==============================] - 119s 17ms/step - loss: 0.4592 - auc: 0.8631 - val_loss: 0.5022 - val_auc: 0.8370\n",
      "Epoch 5/100\n",
      "7032/7032 [==============================] - 113s 16ms/step - loss: 0.4486 - auc: 0.8694 - val_loss: 0.5065 - val_auc: 0.8339\n",
      "Epoch 6/100\n",
      "7032/7032 [==============================] - 109s 16ms/step - loss: 0.4364 - auc: 0.8768 - val_loss: 0.5680 - val_auc: 0.7785\n",
      "Epoch 7/100\n",
      "7032/7032 [==============================] - 86s 12ms/step - loss: 0.4195 - auc: 0.8864 - val_loss: 0.5347 - val_auc: 0.8252\n",
      "Epoch 8/100\n",
      "7032/7032 [==============================] - 79s 11ms/step - loss: 0.3991 - auc: 0.8976 - val_loss: 0.5679 - val_auc: 0.8208\n",
      "Epoch 9/100\n",
      "7032/7032 [==============================] - 81s 12ms/step - loss: 0.3709 - auc: 0.9133 - val_loss: 0.5991 - val_auc: 0.8048\n",
      "Epoch 10/100\n",
      "7032/7032 [==============================] - 86s 12ms/step - loss: 0.3459 - auc: 0.9268 - val_loss: 0.6784 - val_auc: 0.8076\n",
      "Epoch 11/100\n",
      "7032/7032 [==============================] - 80s 11ms/step - loss: 0.2918 - auc: 0.9475 - val_loss: 0.6824 - val_auc: 0.7961\n",
      "Epoch 12/100\n",
      "7032/7032 [==============================] - 77s 11ms/step - loss: 0.2512 - auc: 0.9614 - val_loss: 0.7894 - val_auc: 0.7740\n",
      "Epoch 13/100\n",
      "7032/7032 [==============================] - 68s 10ms/step - loss: 0.2077 - auc: 0.9736 - val_loss: 0.9269 - val_auc: 0.7874\n"
     ]
    }
   ],
   "source": [
    "history = model.fit(X_train, y_train, epochs=100, validation_data=(X_val, y_val), callbacks=early_stopping_cb)"
   ]
  },
  {
   "cell_type": "markdown",
   "metadata": {},
   "source": [
    "- loss: 0.4719\n",
    "- auc: 0.8551\n",
    "- val_loss: 0.4993\n",
    "- val_auc: 0.8385"
   ]
  },
  {
   "cell_type": "code",
   "execution_count": 31,
   "metadata": {
    "ExecuteTime": {
     "end_time": "2021-11-11T23:23:38.186044Z",
     "start_time": "2021-11-11T23:23:37.628751Z"
    }
   },
   "outputs": [
    {
     "data": {
      "image/png": "[encoded data removed]",
      "text/plain": [
       "<Figure size 864x288 with 2 Axes>"
      ]
     },
     "metadata": {
      "needs_background": "light"
     },
     "output_type": "display_data"
    }
   ],
   "source": [
    "plot_result(history)"
   ]
  },
  {
   "cell_type": "markdown",
   "metadata": {},
   "source": [
    "# Dropout 추가"
   ]
  },
  {
   "cell_type": "code",
   "execution_count": 32,
   "metadata": {
    "ExecuteTime": {
     "end_time": "2021-11-11T23:23:38.202039Z",
     "start_time": "2021-11-11T23:23:38.188040Z"
    }
   },
   "outputs": [],
   "source": [
    "HiddenDense = partial(Dense, activation='selu', kernel_initializer='lecun_normal')"
   ]
  },
  {
   "cell_type": "code",
   "execution_count": 33,
   "metadata": {
    "ExecuteTime": {
     "end_time": "2021-11-11T23:23:38.393491Z",
     "start_time": "2021-11-11T23:23:38.203999Z"
    }
   },
   "outputs": [
    {
     "name": "stdout",
     "output_type": "stream",
     "text": [
      "Model: \"sequential_1\"\n",
      "_________________________________________________________________\n",
      "Layer (type)                 Output Shape              Param #   \n",
      "=================================================================\n",
      "dense_12 (Dense)             (None, 100)               1655300   \n",
      "_________________________________________________________________\n",
      "dense_13 (Dense)             (None, 100)               10100     \n",
      "_________________________________________________________________\n",
      "dense_14 (Dense)             (None, 100)               10100     \n",
      "_________________________________________________________________\n",
      "alpha_dropout (AlphaDropout) (None, 100)               0         \n",
      "_________________________________________________________________\n",
      "dense_15 (Dense)             (None, 100)               10100     \n",
      "_________________________________________________________________\n",
      "dense_16 (Dense)             (None, 100)               10100     \n",
      "_________________________________________________________________\n",
      "alpha_dropout_1 (AlphaDropou (None, 100)               0         \n",
      "_________________________________________________________________\n",
      "dense_17 (Dense)             (None, 100)               10100     \n",
      "_________________________________________________________________\n",
      "dense_18 (Dense)             (None, 100)               10100     \n",
      "_________________________________________________________________\n",
      "alpha_dropout_2 (AlphaDropou (None, 100)               0         \n",
      "_________________________________________________________________\n",
      "dense_19 (Dense)             (None, 100)               10100     \n",
      "_________________________________________________________________\n",
      "dense_20 (Dense)             (None, 100)               10100     \n",
      "_________________________________________________________________\n",
      "alpha_dropout_3 (AlphaDropou (None, 100)               0         \n",
      "_________________________________________________________________\n",
      "dense_21 (Dense)             (None, 100)               10100     \n",
      "_________________________________________________________________\n",
      "dense_22 (Dense)             (None, 100)               10100     \n",
      "_________________________________________________________________\n",
      "alpha_dropout_4 (AlphaDropou (None, 100)               0         \n",
      "_________________________________________________________________\n",
      "dense_23 (Dense)             (None, 2)                 202       \n",
      "=================================================================\n",
      "Total params: 1,756,502\n",
      "Trainable params: 1,756,502\n",
      "Non-trainable params: 0\n",
      "_________________________________________________________________\n"
     ]
    }
   ],
   "source": [
    "model = Sequential()\n",
    "model.add(HiddenDense(100, input_shape=(X_train.shape[1],)))\n",
    "\n",
    "for layer in range(5):\n",
    "    model.add(HiddenDense(100))\n",
    "    model.add(HiddenDense(100))\n",
    "    model.add(AlphaDropout(rate=0.2))\n",
    "    \n",
    "model.add(Dense(2, activation='softmax'))\n",
    "\n",
    "model.summary()"
   ]
  },
  {
   "cell_type": "code",
   "execution_count": 34,
   "metadata": {
    "ExecuteTime": {
     "end_time": "2021-11-11T23:23:38.409447Z",
     "start_time": "2021-11-11T23:23:38.395487Z"
    }
   },
   "outputs": [],
   "source": [
    "optimizer = keras.optimizers.Adam(learning_rate=0.001, beta_1=0.9, beta_2=0.999)"
   ]
  },
  {
   "cell_type": "code",
   "execution_count": 35,
   "metadata": {
    "ExecuteTime": {
     "end_time": "2021-11-11T23:23:38.439366Z",
     "start_time": "2021-11-11T23:23:38.412444Z"
    }
   },
   "outputs": [],
   "source": [
    "model.compile(loss='categorical_crossentropy', optimizer=optimizer, metrics=['AUC'])"
   ]
  },
  {
   "cell_type": "code",
   "execution_count": 36,
   "metadata": {
    "ExecuteTime": {
     "end_time": "2021-11-11T23:23:38.454327Z",
     "start_time": "2021-11-11T23:23:38.441362Z"
    }
   },
   "outputs": [],
   "source": [
    "early_stopping_cb = keras.callbacks.EarlyStopping(patience=10, restore_best_weights=True)"
   ]
  },
  {
   "cell_type": "code",
   "execution_count": 37,
   "metadata": {
    "ExecuteTime": {
     "end_time": "2021-11-11T23:36:50.390248Z",
     "start_time": "2021-11-11T23:23:38.456322Z"
    },
    "scrolled": false
   },
   "outputs": [
    {
     "name": "stdout",
     "output_type": "stream",
     "text": [
      "Epoch 1/100\n",
      "7032/7032 [==============================] - 73s 10ms/step - loss: 0.5289 - auc: 0.8143 - val_loss: 0.6971 - val_auc: 0.8293\n",
      "Epoch 2/100\n",
      "7032/7032 [==============================] - 73s 10ms/step - loss: 0.4873 - auc: 0.8452 - val_loss: 0.8107 - val_auc: 0.8219\n",
      "Epoch 3/100\n",
      "7032/7032 [==============================] - 72s 10ms/step - loss: 0.4788 - auc: 0.8552 - val_loss: 0.7152 - val_auc: 0.8323\n",
      "Epoch 4/100\n",
      "7032/7032 [==============================] - 69s 10ms/step - loss: 0.4602 - auc: 0.8632 - val_loss: 0.7030 - val_auc: 0.8296\n",
      "Epoch 5/100\n",
      "7032/7032 [==============================] - 68s 10ms/step - loss: 0.4518 - auc: 0.8688 - val_loss: 0.9785 - val_auc: 0.8282\n",
      "Epoch 6/100\n",
      "7032/7032 [==============================] - 68s 10ms/step - loss: 0.4415 - auc: 0.8733 - val_loss: 0.7893 - val_auc: 0.8095\n",
      "Epoch 7/100\n",
      "7032/7032 [==============================] - 69s 10ms/step - loss: 0.4476 - auc: 0.8781 - val_loss: 1.1243 - val_auc: 0.8036\n",
      "Epoch 8/100\n",
      "7032/7032 [==============================] - 68s 10ms/step - loss: 0.6416 - auc: 0.8704 - val_loss: 1.0699 - val_auc: 0.8188\n",
      "Epoch 9/100\n",
      "7032/7032 [==============================] - 70s 10ms/step - loss: 0.4185 - auc: 0.8861 - val_loss: 1.1109 - val_auc: 0.8174\n",
      "Epoch 10/100\n",
      "7032/7032 [==============================] - 78s 11ms/step - loss: 0.4038 - auc: 0.8962 - val_loss: 1.1527 - val_auc: 0.8122\n",
      "Epoch 11/100\n",
      "7032/7032 [==============================] - 79s 11ms/step - loss: 0.4080 - auc: 0.9083 - val_loss: 1.4263 - val_auc: 0.7991\n"
     ]
    }
   ],
   "source": [
    "history = model.fit(X_train, y_train, epochs=100, validation_data=(X_val, y_val), callbacks=early_stopping_cb)"
   ]
  },
  {
   "cell_type": "markdown",
   "metadata": {},
   "source": [
    "- loss: 0.4788\n",
    "- auc: 0.8552\n",
    "- val_loss: 0.7152\n",
    "- val_auc: 0.8323"
   ]
  },
  {
   "cell_type": "code",
   "execution_count": 38,
   "metadata": {
    "ExecuteTime": {
     "end_time": "2021-11-11T23:36:51.257090Z",
     "start_time": "2021-11-11T23:36:50.392242Z"
    }
   },
   "outputs": [
    {
     "data": {
      "image/png": "[encoded data removed]",
      "text/plain": [
       "<Figure size 864x288 with 2 Axes>"
      ]
     },
     "metadata": {
      "needs_background": "light"
     },
     "output_type": "display_data"
    }
   ],
   "source": [
    "plot_result(history)"
   ]
  },
  {
   "cell_type": "markdown",
   "metadata": {},
   "source": [
    "# Dropout 추가 2"
   ]
  },
  {
   "cell_type": "code",
   "execution_count": 39,
   "metadata": {
    "ExecuteTime": {
     "end_time": "2021-11-11T23:36:51.272417Z",
     "start_time": "2021-11-11T23:36:51.260083Z"
    }
   },
   "outputs": [],
   "source": [
    "HiddenDense = partial(Dense, activation='selu', kernel_initializer='lecun_normal')"
   ]
  },
  {
   "cell_type": "code",
   "execution_count": 40,
   "metadata": {
    "ExecuteTime": {
     "end_time": "2021-11-11T23:36:51.601539Z",
     "start_time": "2021-11-11T23:36:51.275413Z"
    }
   },
   "outputs": [
    {
     "name": "stdout",
     "output_type": "stream",
     "text": [
      "Model: \"sequential_2\"\n",
      "_________________________________________________________________\n",
      "Layer (type)                 Output Shape              Param #   \n",
      "=================================================================\n",
      "dense_24 (Dense)             (None, 100)               1655300   \n",
      "_________________________________________________________________\n",
      "dense_25 (Dense)             (None, 100)               10100     \n",
      "_________________________________________________________________\n",
      "alpha_dropout_5 (AlphaDropou (None, 100)               0         \n",
      "_________________________________________________________________\n",
      "dense_26 (Dense)             (None, 100)               10100     \n",
      "_________________________________________________________________\n",
      "alpha_dropout_6 (AlphaDropou (None, 100)               0         \n",
      "_________________________________________________________________\n",
      "dense_27 (Dense)             (None, 100)               10100     \n",
      "_________________________________________________________________\n",
      "alpha_dropout_7 (AlphaDropou (None, 100)               0         \n",
      "_________________________________________________________________\n",
      "dense_28 (Dense)             (None, 100)               10100     \n",
      "_________________________________________________________________\n",
      "alpha_dropout_8 (AlphaDropou (None, 100)               0         \n",
      "_________________________________________________________________\n",
      "dense_29 (Dense)             (None, 100)               10100     \n",
      "_________________________________________________________________\n",
      "alpha_dropout_9 (AlphaDropou (None, 100)               0         \n",
      "_________________________________________________________________\n",
      "dense_30 (Dense)             (None, 100)               10100     \n",
      "_________________________________________________________________\n",
      "alpha_dropout_10 (AlphaDropo (None, 100)               0         \n",
      "_________________________________________________________________\n",
      "dense_31 (Dense)             (None, 100)               10100     \n",
      "_________________________________________________________________\n",
      "alpha_dropout_11 (AlphaDropo (None, 100)               0         \n",
      "_________________________________________________________________\n",
      "dense_32 (Dense)             (None, 100)               10100     \n",
      "_________________________________________________________________\n",
      "alpha_dropout_12 (AlphaDropo (None, 100)               0         \n",
      "_________________________________________________________________\n",
      "dense_33 (Dense)             (None, 100)               10100     \n",
      "_________________________________________________________________\n",
      "alpha_dropout_13 (AlphaDropo (None, 100)               0         \n",
      "_________________________________________________________________\n",
      "dense_34 (Dense)             (None, 100)               10100     \n",
      "_________________________________________________________________\n",
      "alpha_dropout_14 (AlphaDropo (None, 100)               0         \n",
      "_________________________________________________________________\n",
      "dense_35 (Dense)             (None, 2)                 202       \n",
      "=================================================================\n",
      "Total params: 1,756,502\n",
      "Trainable params: 1,756,502\n",
      "Non-trainable params: 0\n",
      "_________________________________________________________________\n"
     ]
    }
   ],
   "source": [
    "model = Sequential()\n",
    "model.add(HiddenDense(100, input_shape=(X_train.shape[1],)))\n",
    "\n",
    "for layer in range(10):\n",
    "    model.add(HiddenDense(100))\n",
    "    model.add(AlphaDropout(rate=0.2))\n",
    "    \n",
    "model.add(Dense(2, activation='softmax'))\n",
    "\n",
    "model.summary()"
   ]
  },
  {
   "cell_type": "code",
   "execution_count": 41,
   "metadata": {
    "ExecuteTime": {
     "end_time": "2021-11-11T23:36:51.617498Z",
     "start_time": "2021-11-11T23:36:51.604533Z"
    }
   },
   "outputs": [],
   "source": [
    "optimizer = keras.optimizers.Adam(learning_rate=0.001, beta_1=0.9, beta_2=0.999)"
   ]
  },
  {
   "cell_type": "code",
   "execution_count": 42,
   "metadata": {
    "ExecuteTime": {
     "end_time": "2021-11-11T23:36:51.649445Z",
     "start_time": "2021-11-11T23:36:51.620489Z"
    }
   },
   "outputs": [],
   "source": [
    "model.compile(loss='categorical_crossentropy', optimizer=optimizer, metrics=['AUC'])"
   ]
  },
  {
   "cell_type": "code",
   "execution_count": 43,
   "metadata": {
    "ExecuteTime": {
     "end_time": "2021-11-11T23:36:51.665370Z",
     "start_time": "2021-11-11T23:36:51.651408Z"
    }
   },
   "outputs": [],
   "source": [
    "early_stopping_cb = keras.callbacks.EarlyStopping(patience=10, restore_best_weights=True)"
   ]
  },
  {
   "cell_type": "code",
   "execution_count": 44,
   "metadata": {
    "ExecuteTime": {
     "end_time": "2021-11-11T23:57:28.416063Z",
     "start_time": "2021-11-11T23:36:51.667364Z"
    },
    "scrolled": false
   },
   "outputs": [
    {
     "name": "stdout",
     "output_type": "stream",
     "text": [
      "Epoch 1/100\n",
      "7032/7032 [==============================] - 80s 11ms/step - loss: 0.5466 - auc: 0.7982 - val_loss: 1.8925 - val_auc: 0.8179\n",
      "Epoch 2/100\n",
      "7032/7032 [==============================] - 82s 12ms/step - loss: 0.4895 - auc: 0.8439 - val_loss: 2.0409 - val_auc: 0.7842\n",
      "Epoch 3/100\n",
      "7032/7032 [==============================] - 80s 11ms/step - loss: 0.4754 - auc: 0.8537 - val_loss: 1.3527 - val_auc: 0.8201\n",
      "Epoch 4/100\n",
      "7032/7032 [==============================] - 80s 11ms/step - loss: 0.4710 - auc: 0.8587 - val_loss: 1.5809 - val_auc: 0.7848\n",
      "Epoch 5/100\n",
      "7032/7032 [==============================] - 82s 12ms/step - loss: 0.4554 - auc: 0.8657 - val_loss: 2.1771 - val_auc: 0.8049\n",
      "Epoch 6/100\n",
      "7032/7032 [==============================] - 94s 13ms/step - loss: 0.4452 - auc: 0.8718 - val_loss: 2.1064 - val_auc: 0.7985\n",
      "Epoch 7/100\n",
      "7032/7032 [==============================] - 146s 21ms/step - loss: 0.4403 - auc: 0.8746 - val_loss: 2.4614 - val_auc: 0.8040\n",
      "Epoch 8/100\n",
      "7032/7032 [==============================] - 148s 21ms/step - loss: 0.4315 - auc: 0.8798 - val_loss: 2.3758 - val_auc: 0.8012\n",
      "Epoch 9/100\n",
      "7032/7032 [==============================] - 99s 14ms/step - loss: 1.4362 - auc: 0.8804 - val_loss: 2.8577 - val_auc: 0.8079\n",
      "Epoch 10/100\n",
      "7032/7032 [==============================] - 84s 12ms/step - loss: 0.4114 - auc: 0.8908 - val_loss: 2.7939 - val_auc: 0.7833\n",
      "Epoch 11/100\n",
      "7032/7032 [==============================] - 83s 12ms/step - loss: 0.5556 - auc: 0.8908 - val_loss: 4.1045 - val_auc: 0.7828\n",
      "Epoch 12/100\n",
      "7032/7032 [==============================] - 84s 12ms/step - loss: 0.4171 - auc: 0.8987 - val_loss: 2.9950 - val_auc: 0.7923\n",
      "Epoch 13/100\n",
      "7032/7032 [==============================] - 84s 12ms/step - loss: 0.3892 - auc: 0.9043 - val_loss: 5.4378 - val_auc: 0.7870\n"
     ]
    }
   ],
   "source": [
    "history = model.fit(X_train, y_train, epochs=100, validation_data=(X_val, y_val), callbacks=early_stopping_cb)"
   ]
  },
  {
   "cell_type": "markdown",
   "metadata": {},
   "source": [
    "- loss: 0.4754\n",
    "- auc: 0.8537\n",
    "- val_loss: 1.3527\n",
    "- val_auc: 0.8201"
   ]
  },
  {
   "cell_type": "code",
   "execution_count": 45,
   "metadata": {
    "ExecuteTime": {
     "end_time": "2021-11-11T23:57:29.220910Z",
     "start_time": "2021-11-11T23:57:28.434015Z"
    }
   },
   "outputs": [
    {
     "data": {
      "image/png": "[encoded data removed]",
      "text/plain": [
       "<Figure size 864x288 with 2 Axes>"
      ]
     },
     "metadata": {
      "needs_background": "light"
     },
     "output_type": "display_data"
    }
   ],
   "source": [
    "plot_result(history)"
   ]
  },
  {
   "cell_type": "markdown",
   "metadata": {},
   "source": [
    "# Dropout rate 증대"
   ]
  },
  {
   "cell_type": "code",
   "execution_count": 46,
   "metadata": {
    "ExecuteTime": {
     "end_time": "2021-11-11T23:57:29.235870Z",
     "start_time": "2021-11-11T23:57:29.223902Z"
    }
   },
   "outputs": [],
   "source": [
    "HiddenDense = partial(Dense, activation='selu', kernel_initializer='lecun_normal')"
   ]
  },
  {
   "cell_type": "code",
   "execution_count": 47,
   "metadata": {
    "ExecuteTime": {
     "end_time": "2021-11-11T23:57:29.717871Z",
     "start_time": "2021-11-11T23:57:29.239860Z"
    }
   },
   "outputs": [
    {
     "name": "stdout",
     "output_type": "stream",
     "text": [
      "Model: \"sequential_3\"\n",
      "_________________________________________________________________\n",
      "Layer (type)                 Output Shape              Param #   \n",
      "=================================================================\n",
      "dense_36 (Dense)             (None, 100)               1655300   \n",
      "_________________________________________________________________\n",
      "dense_37 (Dense)             (None, 100)               10100     \n",
      "_________________________________________________________________\n",
      "alpha_dropout_15 (AlphaDropo (None, 100)               0         \n",
      "_________________________________________________________________\n",
      "dense_38 (Dense)             (None, 100)               10100     \n",
      "_________________________________________________________________\n",
      "alpha_dropout_16 (AlphaDropo (None, 100)               0         \n",
      "_________________________________________________________________\n",
      "dense_39 (Dense)             (None, 100)               10100     \n",
      "_________________________________________________________________\n",
      "alpha_dropout_17 (AlphaDropo (None, 100)               0         \n",
      "_________________________________________________________________\n",
      "dense_40 (Dense)             (None, 100)               10100     \n",
      "_________________________________________________________________\n",
      "alpha_dropout_18 (AlphaDropo (None, 100)               0         \n",
      "_________________________________________________________________\n",
      "dense_41 (Dense)             (None, 100)               10100     \n",
      "_________________________________________________________________\n",
      "alpha_dropout_19 (AlphaDropo (None, 100)               0         \n",
      "_________________________________________________________________\n",
      "dense_42 (Dense)             (None, 100)               10100     \n",
      "_________________________________________________________________\n",
      "alpha_dropout_20 (AlphaDropo (None, 100)               0         \n",
      "_________________________________________________________________\n",
      "dense_43 (Dense)             (None, 100)               10100     \n",
      "_________________________________________________________________\n",
      "alpha_dropout_21 (AlphaDropo (None, 100)               0         \n",
      "_________________________________________________________________\n",
      "dense_44 (Dense)             (None, 100)               10100     \n",
      "_________________________________________________________________\n",
      "alpha_dropout_22 (AlphaDropo (None, 100)               0         \n",
      "_________________________________________________________________\n",
      "dense_45 (Dense)             (None, 100)               10100     \n",
      "_________________________________________________________________\n",
      "alpha_dropout_23 (AlphaDropo (None, 100)               0         \n",
      "_________________________________________________________________\n",
      "dense_46 (Dense)             (None, 100)               10100     \n",
      "_________________________________________________________________\n",
      "alpha_dropout_24 (AlphaDropo (None, 100)               0         \n",
      "_________________________________________________________________\n",
      "dense_47 (Dense)             (None, 2)                 202       \n",
      "=================================================================\n",
      "Total params: 1,756,502\n",
      "Trainable params: 1,756,502\n",
      "Non-trainable params: 0\n",
      "_________________________________________________________________\n"
     ]
    }
   ],
   "source": [
    "model = Sequential()\n",
    "model.add(HiddenDense(100, input_shape=(X_train.shape[1],)))\n",
    "\n",
    "for layer in range(10):\n",
    "    model.add(HiddenDense(100))\n",
    "    model.add(AlphaDropout(rate=0.4))\n",
    "    \n",
    "model.add(Dense(2, activation='softmax'))\n",
    "\n",
    "model.summary()"
   ]
  },
  {
   "cell_type": "code",
   "execution_count": 48,
   "metadata": {
    "ExecuteTime": {
     "end_time": "2021-11-11T23:57:29.733612Z",
     "start_time": "2021-11-11T23:57:29.719864Z"
    }
   },
   "outputs": [],
   "source": [
    "optimizer = keras.optimizers.Adam(learning_rate=0.001, beta_1=0.9, beta_2=0.999)"
   ]
  },
  {
   "cell_type": "code",
   "execution_count": 49,
   "metadata": {
    "ExecuteTime": {
     "end_time": "2021-11-11T23:57:29.763532Z",
     "start_time": "2021-11-11T23:57:29.735607Z"
    }
   },
   "outputs": [],
   "source": [
    "model.compile(loss='categorical_crossentropy', optimizer=optimizer, metrics=['AUC'])"
   ]
  },
  {
   "cell_type": "code",
   "execution_count": 50,
   "metadata": {
    "ExecuteTime": {
     "end_time": "2021-11-11T23:57:29.779617Z",
     "start_time": "2021-11-11T23:57:29.765529Z"
    }
   },
   "outputs": [],
   "source": [
    "early_stopping_cb = keras.callbacks.EarlyStopping(patience=10, restore_best_weights=True)"
   ]
  },
  {
   "cell_type": "code",
   "execution_count": 51,
   "metadata": {
    "ExecuteTime": {
     "end_time": "2021-11-12T00:20:13.236014Z",
     "start_time": "2021-11-11T23:57:29.782612Z"
    },
    "scrolled": false
   },
   "outputs": [
    {
     "name": "stdout",
     "output_type": "stream",
     "text": [
      "Epoch 1/100\n",
      "7032/7032 [==============================] - 85s 12ms/step - loss: 0.5484 - auc: 0.7973 - val_loss: 10.6518 - val_auc: 0.7606\n",
      "Epoch 2/100\n",
      "7032/7032 [==============================] - 83s 12ms/step - loss: 0.4928 - auc: 0.8418 - val_loss: 12.9389 - val_auc: 0.7732\n",
      "Epoch 3/100\n",
      "7032/7032 [==============================] - 84s 12ms/step - loss: 0.4776 - auc: 0.8524 - val_loss: 11.5186 - val_auc: 0.7646\n",
      "Epoch 4/100\n",
      "7032/7032 [==============================] - 85s 12ms/step - loss: 0.4669 - auc: 0.8595 - val_loss: 7.7596 - val_auc: 0.7900\n",
      "Epoch 5/100\n",
      "7032/7032 [==============================] - 97s 14ms/step - loss: 0.4574 - auc: 0.8656 - val_loss: 14.7001 - val_auc: 0.7545\n",
      "Epoch 6/100\n",
      "7032/7032 [==============================] - 102s 15ms/step - loss: 0.4490 - auc: 0.8708 - val_loss: 10.8132 - val_auc: 0.7380\n",
      "Epoch 7/100\n",
      "7032/7032 [==============================] - 104s 15ms/step - loss: 0.4409 - auc: 0.8750 - val_loss: 15.5762 - val_auc: 0.7643\n",
      "Epoch 8/100\n",
      "7032/7032 [==============================] - 98s 14ms/step - loss: 0.4347 - auc: 0.8786 - val_loss: 24.6485 - val_auc: 0.6922\n",
      "Epoch 9/100\n",
      "7032/7032 [==============================] - 105s 15ms/step - loss: 0.4289 - auc: 0.8822 - val_loss: 23.4040 - val_auc: 0.7736\n",
      "Epoch 10/100\n",
      "7032/7032 [==============================] - 104s 15ms/step - loss: 0.4444 - auc: 0.8844 - val_loss: 44.0812 - val_auc: 0.7715\n",
      "Epoch 11/100\n",
      "7032/7032 [==============================] - 104s 15ms/step - loss: 0.4220 - auc: 0.8867 - val_loss: 21.9725 - val_auc: 0.7654\n",
      "Epoch 12/100\n",
      "7032/7032 [==============================] - 98s 14ms/step - loss: 0.4115 - auc: 0.8915 - val_loss: 36.3913 - val_auc: 0.7815\n",
      "Epoch 13/100\n",
      "7032/7032 [==============================] - 102s 15ms/step - loss: 0.4320 - auc: 0.8934 - val_loss: 98.5404 - val_auc: 0.7696\n",
      "Epoch 14/100\n",
      "7032/7032 [==============================] - 103s 15ms/step - loss: 0.4113 - auc: 0.8954 - val_loss: 55.9796 - val_auc: 0.7493\n"
     ]
    }
   ],
   "source": [
    "history = model.fit(X_train, y_train, epochs=100, validation_data=(X_val, y_val), callbacks=early_stopping_cb)"
   ]
  },
  {
   "cell_type": "markdown",
   "metadata": {},
   "source": [
    "- loss: 0.4669\n",
    "- auc: 0.8595\n",
    "- val_loss: 7.7596\n",
    "- val_auc: 0.7900"
   ]
  },
  {
   "cell_type": "code",
   "execution_count": 52,
   "metadata": {
    "ExecuteTime": {
     "end_time": "2021-11-12T00:20:14.041334Z",
     "start_time": "2021-11-12T00:20:13.246985Z"
    }
   },
   "outputs": [
    {
     "data": {
      "image/png": "[encoded data removed]",
      "text/plain": [
       "<Figure size 864x288 with 2 Axes>"
      ]
     },
     "metadata": {
      "needs_background": "light"
     },
     "output_type": "display_data"
    }
   ],
   "source": [
    "plot_result(history)"
   ]
  },
  {
   "cell_type": "markdown",
   "metadata": {},
   "source": [
    "# 1 cycle scheduling & dropout 제거"
   ]
  },
  {
   "cell_type": "code",
   "execution_count": 53,
   "metadata": {
    "ExecuteTime": {
     "end_time": "2021-11-12T00:20:14.089212Z",
     "start_time": "2021-11-12T00:20:14.047318Z"
    }
   },
   "outputs": [],
   "source": [
    "K = keras.backend\n",
    "\n",
    "class ExponentialLearningRate(keras.callbacks.Callback):\n",
    "    \n",
    "    def __init__(self, factor):\n",
    "        self.factor = factor\n",
    "        self.rates = []\n",
    "        self.losses = []\n",
    "        \n",
    "    def on_batch_end(self, batch, logs):\n",
    "        self.rates.append(K.get_value(self.model.optimizer.lr))\n",
    "        self.losses.append(logs[\"loss\"])\n",
    "        K.set_value(self.model.optimizer.lr, self.model.optimizer.lr * self.factor)\n",
    "\n",
    "def find_learning_rate(model, X, y, epochs=1, batch_size=32, min_rate=10**-5, max_rate=10):\n",
    "    init_weights = model.get_weights()\n",
    "    iterations = X.shape[0] // batch_size * epochs\n",
    "    factor = np.exp(np.log(max_rate / min_rate) / iterations)\n",
    "    init_lr = K.get_value(model.optimizer.lr)\n",
    "    K.set_value(model.optimizer.lr, min_rate)\n",
    "    exp_lr = ExponentialLearningRate(factor)\n",
    "    history = model.fit(X, y, epochs=epochs, batch_size=batch_size, callbacks=[exp_lr])\n",
    "    K.set_value(model.optimizer.lr, init_lr)\n",
    "    model.set_weights(init_weights)\n",
    "    \n",
    "    return exp_lr.rates, exp_lr.losses\n",
    "\n",
    "def plot_lr_vs_loss(rates, losses):\n",
    "    plt.figure(figsize=(10, 6))\n",
    "    plt.plot(rates, losses)\n",
    "    plt.gca().set_xscale('log')\n",
    "    plt.axis([min(rates), max(rates), min(losses) * 0.9, (losses[0] + min(losses)) / 2])\n",
    "    plt.xlabel(\"Learning rate\")\n",
    "    plt.ylabel(\"Loss\")"
   ]
  },
  {
   "cell_type": "code",
   "execution_count": 54,
   "metadata": {
    "ExecuteTime": {
     "end_time": "2021-11-12T00:20:14.121128Z",
     "start_time": "2021-11-12T00:20:14.092198Z"
    }
   },
   "outputs": [],
   "source": [
    "class OneCycleScheduler(keras.callbacks.Callback):\n",
    "    def __init__(self, iterations, max_rate, start_rate=None, last_rate=None, last_iterations=None):\n",
    "        self.iterations = iterations\n",
    "        self.max_rate = max_rate\n",
    "        self.start_rate = start_rate or max_rate / 10\n",
    "        self.last_iterations = last_iterations or iterations // 10 + 1\n",
    "        self.half_iteration = (iterations - self.last_iterations) // 2\n",
    "        self.last_rate = last_rate or self.start_rate / 1000\n",
    "        self.iteration = 0\n",
    "        \n",
    "    def _interpolate(self, iter1, iter2, rate1, rate2):\n",
    "        return ((rate2 - rate1) / (iter2 - iter1) * (self.iteration - iter1) + rate1)\n",
    "    \n",
    "    def on_batch_begin(self, batch, logs):\n",
    "        \n",
    "        if self.iteration < self.half_iteration:\n",
    "            rate = self._interpolate(0, self.half_iteration, self.start_rate, self.max_rate)\n",
    "            \n",
    "        elif self.iteration < 2 * self.half_iteration:\n",
    "            rate = self._interpolate(self.half_iteration, 2 * self.half_iteration, self.max_rate, self.start_rate)\n",
    "            \n",
    "        else:\n",
    "            rate = self._interpolate(2 * self.half_iteration, self.iterations, self.start_rate, self.last_rate)\n",
    "            rate = max(rate, self.last_rate)\n",
    "            \n",
    "        self.iteration += 1\n",
    "        K.set_value(self.model.optimizer.lr, rate)"
   ]
  },
  {
   "cell_type": "markdown",
   "metadata": {},
   "source": [
    "## Find learning rate "
   ]
  },
  {
   "cell_type": "code",
   "execution_count": 55,
   "metadata": {
    "ExecuteTime": {
     "end_time": "2021-11-12T00:20:14.137086Z",
     "start_time": "2021-11-12T00:20:14.127105Z"
    }
   },
   "outputs": [],
   "source": [
    "HiddenDense = partial(Dense, activation='selu', kernel_initializer='lecun_normal')"
   ]
  },
  {
   "cell_type": "code",
   "execution_count": 56,
   "metadata": {
    "ExecuteTime": {
     "end_time": "2021-11-12T00:20:14.355505Z",
     "start_time": "2021-11-12T00:20:14.143062Z"
    }
   },
   "outputs": [],
   "source": [
    "model = Sequential()\n",
    "model.add(HiddenDense(100, input_shape=(X_train.shape[1],)))\n",
    "\n",
    "for layer in range(10):\n",
    "    model.add(HiddenDense(100))\n",
    "    \n",
    "model.add(Dense(2, activation='softmax'))"
   ]
  },
  {
   "cell_type": "code",
   "execution_count": 57,
   "metadata": {
    "ExecuteTime": {
     "end_time": "2021-11-12T00:20:14.371451Z",
     "start_time": "2021-11-12T00:20:14.358486Z"
    }
   },
   "outputs": [],
   "source": [
    "optimizer = keras.optimizers.Adam(learning_rate=0.001, beta_1=0.9, beta_2=0.999)"
   ]
  },
  {
   "cell_type": "code",
   "execution_count": 58,
   "metadata": {
    "ExecuteTime": {
     "end_time": "2021-11-12T00:20:14.402368Z",
     "start_time": "2021-11-12T00:20:14.375441Z"
    }
   },
   "outputs": [],
   "source": [
    "model.compile(loss='categorical_crossentropy', optimizer=optimizer, metrics=['AUC'])"
   ]
  },
  {
   "cell_type": "code",
   "execution_count": 59,
   "metadata": {
    "ExecuteTime": {
     "end_time": "2021-11-12T00:21:52.539887Z",
     "start_time": "2021-11-12T00:20:14.405369Z"
    }
   },
   "outputs": [
    {
     "name": "stdout",
     "output_type": "stream",
     "text": [
      "7032/7032 [==============================] - 93s 13ms/step - loss: 20.0775 - auc: 0.6552\n"
     ]
    },
    {
     "data": {
      "image/png": "[encoded data removed]",
      "text/plain": [
       "<Figure size 720x432 with 1 Axes>"
      ]
     },
     "metadata": {
      "needs_background": "light"
     },
     "output_type": "display_data"
    }
   ],
   "source": [
    "rates, losses = find_learning_rate(model, X_train, y_train, epochs=1)\n",
    "plot_lr_vs_loss(rates, losses)"
   ]
  },
  {
   "cell_type": "code",
   "execution_count": 60,
   "metadata": {
    "ExecuteTime": {
     "end_time": "2021-11-12T00:21:52.555845Z",
     "start_time": "2021-11-12T00:21:52.542900Z"
    }
   },
   "outputs": [],
   "source": [
    "max_rate = 0.001"
   ]
  },
  {
   "cell_type": "markdown",
   "metadata": {},
   "source": [
    "- learning rate 0.001로 선정"
   ]
  },
  {
   "cell_type": "markdown",
   "metadata": {},
   "source": [
    "## 1 cycle scheduling"
   ]
  },
  {
   "cell_type": "code",
   "execution_count": 61,
   "metadata": {
    "ExecuteTime": {
     "end_time": "2021-11-12T00:21:52.683502Z",
     "start_time": "2021-11-12T00:21:52.560831Z"
    }
   },
   "outputs": [
    {
     "name": "stdout",
     "output_type": "stream",
     "text": [
      "Model: \"sequential_5\"\n",
      "_________________________________________________________________\n",
      "Layer (type)                 Output Shape              Param #   \n",
      "=================================================================\n",
      "dense_60 (Dense)             (None, 100)               1655300   \n",
      "_________________________________________________________________\n",
      "dense_61 (Dense)             (None, 100)               10100     \n",
      "_________________________________________________________________\n",
      "dense_62 (Dense)             (None, 100)               10100     \n",
      "_________________________________________________________________\n",
      "dense_63 (Dense)             (None, 100)               10100     \n",
      "_________________________________________________________________\n",
      "dense_64 (Dense)             (None, 100)               10100     \n",
      "_________________________________________________________________\n",
      "dense_65 (Dense)             (None, 100)               10100     \n",
      "_________________________________________________________________\n",
      "dense_66 (Dense)             (None, 2)                 202       \n",
      "=================================================================\n",
      "Total params: 1,706,002\n",
      "Trainable params: 1,706,002\n",
      "Non-trainable params: 0\n",
      "_________________________________________________________________\n"
     ]
    }
   ],
   "source": [
    "model = Sequential()\n",
    "model.add(HiddenDense(100, input_shape=(X_train.shape[1],)))\n",
    "\n",
    "for layer in range(5):\n",
    "    model.add(HiddenDense(100))\n",
    "    \n",
    "model.add(Dense(2, activation='softmax'))\n",
    "\n",
    "model.summary()"
   ]
  },
  {
   "cell_type": "code",
   "execution_count": 62,
   "metadata": {
    "ExecuteTime": {
     "end_time": "2021-11-12T00:21:52.699461Z",
     "start_time": "2021-11-12T00:21:52.687493Z"
    }
   },
   "outputs": [],
   "source": [
    "optimizer = keras.optimizers.Adam(learning_rate=0.001, beta_1=0.9, beta_2=0.999)"
   ]
  },
  {
   "cell_type": "code",
   "execution_count": 63,
   "metadata": {
    "ExecuteTime": {
     "end_time": "2021-11-12T00:21:52.731375Z",
     "start_time": "2021-11-12T00:21:52.702460Z"
    }
   },
   "outputs": [],
   "source": [
    "model.compile(loss='categorical_crossentropy', optimizer=optimizer, metrics=['AUC'])"
   ]
  },
  {
   "cell_type": "code",
   "execution_count": 64,
   "metadata": {
    "ExecuteTime": {
     "end_time": "2021-11-12T00:21:52.747331Z",
     "start_time": "2021-11-12T00:21:52.736363Z"
    }
   },
   "outputs": [],
   "source": [
    "early_stopping_cb = keras.callbacks.EarlyStopping(patience=10, restore_best_weights=True)"
   ]
  },
  {
   "cell_type": "code",
   "execution_count": 65,
   "metadata": {
    "ExecuteTime": {
     "end_time": "2021-11-12T00:21:52.763291Z",
     "start_time": "2021-11-12T00:21:52.752329Z"
    }
   },
   "outputs": [],
   "source": [
    "batch_size = 32\n",
    "n_epochs = 100\n",
    "onecycle_cb = OneCycleScheduler(X_train.shape[0] // batch_size * n_epochs, max_rate=0.05)"
   ]
  },
  {
   "cell_type": "code",
   "execution_count": 66,
   "metadata": {
    "ExecuteTime": {
     "end_time": "2021-11-12T00:38:44.595130Z",
     "start_time": "2021-11-12T00:21:52.768277Z"
    },
    "scrolled": false
   },
   "outputs": [
    {
     "name": "stdout",
     "output_type": "stream",
     "text": [
      "Epoch 1/100\n",
      "7032/7032 [==============================] - 83s 12ms/step - loss: 0.5479 - auc: 0.8034 - val_loss: 0.5764 - val_auc: 0.7748\n",
      "Epoch 2/100\n",
      "7032/7032 [==============================] - 82s 12ms/step - loss: 0.5305 - auc: 0.8290 - val_loss: 0.5050 - val_auc: 0.8386\n",
      "Epoch 3/100\n",
      "7032/7032 [==============================] - 84s 12ms/step - loss: 0.7781 - auc: 0.7311 - val_loss: 0.6158 - val_auc: 0.6949\n",
      "Epoch 4/100\n",
      "7032/7032 [==============================] - 85s 12ms/step - loss: 0.6532 - auc: 0.6876 - val_loss: 0.6163 - val_auc: 0.6949\n",
      "Epoch 5/100\n",
      "7032/7032 [==============================] - 85s 12ms/step - loss: 0.6617 - auc: 0.6840 - val_loss: 0.6439 - val_auc: 0.6949\n",
      "Epoch 6/100\n",
      "7032/7032 [==============================] - 85s 12ms/step - loss: 0.6640 - auc: 0.6824 - val_loss: 0.7802 - val_auc: 0.6949\n",
      "Epoch 7/100\n",
      "7032/7032 [==============================] - 79s 11ms/step - loss: 0.6651 - auc: 0.6824 - val_loss: 0.6205 - val_auc: 0.6949\n",
      "Epoch 8/100\n",
      "7032/7032 [==============================] - 85s 12ms/step - loss: 0.6717 - auc: 0.6797 - val_loss: 0.6729 - val_auc: 0.6949\n",
      "Epoch 9/100\n",
      "7032/7032 [==============================] - 84s 12ms/step - loss: 0.6745 - auc: 0.6787 - val_loss: 0.6600 - val_auc: 0.6949\n",
      "Epoch 10/100\n",
      "7032/7032 [==============================] - 86s 12ms/step - loss: 0.6775 - auc: 0.6778 - val_loss: 0.6165 - val_auc: 0.6949\n",
      "Epoch 11/100\n",
      "7032/7032 [==============================] - 87s 12ms/step - loss: 0.6866 - auc: 0.6737 - val_loss: 0.7182 - val_auc: 0.6949\n",
      "Epoch 12/100\n",
      "7032/7032 [==============================] - 80s 11ms/step - loss: 0.6908 - auc: 0.6716 - val_loss: 0.8114 - val_auc: 0.6949\n"
     ]
    }
   ],
   "source": [
    "history = model.fit(X_train, y_train, epochs=n_epochs, batch_size=batch_size,\n",
    "                    validation_data=(X_val, y_val), callbacks=[early_stopping_cb, onecycle_cb])"
   ]
  },
  {
   "cell_type": "markdown",
   "metadata": {},
   "source": [
    "- 성능의 변화가 거의 없이 정체됨\n",
    "- loss: 0.5305\n",
    "- auc: 0.8290\n",
    "- val_loss: 0.5050\n",
    "- val_auc: 0.8386"
   ]
  },
  {
   "cell_type": "code",
   "execution_count": 67,
   "metadata": {
    "ExecuteTime": {
     "end_time": "2021-11-12T00:38:45.547164Z",
     "start_time": "2021-11-12T00:38:44.899540Z"
    }
   },
   "outputs": [
    {
     "data": {
      "image/png": "[encoded data removed]",
      "text/plain": [
       "<Figure size 864x288 with 2 Axes>"
      ]
     },
     "metadata": {
      "needs_background": "light"
     },
     "output_type": "display_data"
    }
   ],
   "source": [
    "plot_result(history)"
   ]
  }
 ],
 "metadata": {
  "hide_input": false,
  "kernelspec": {
   "display_name": "Python 3",
   "language": "python",
   "name": "python3"
  },
  "language_info": {
   "codemirror_mode": {
    "name": "ipython",
    "version": 3
   },
   "file_extension": ".py",
   "mimetype": "text/x-python",
   "name": "python",
   "nbconvert_exporter": "python",
   "pygments_lexer": "ipython3",
   "version": "3.7.1"
  },
  "toc": {
   "base_numbering": 1,
   "nav_menu": {},
   "number_sections": true,
   "sideBar": true,
   "skip_h1_title": false,
   "title_cell": "Table of Contents",
   "title_sidebar": "Contents",
   "toc_cell": false,
   "toc_position": {
    "height": "calc(100% - 180px)",
    "left": "10px",
    "top": "150px",
    "width": "303.825px"
   },
   "toc_section_display": true,
   "toc_window_display": true
  },
  "varInspector": {
   "cols": {
    "lenName": 16,
    "lenType": 16,
    "lenVar": 40
   },
   "kernels_config": {
    "python": {
     "delete_cmd_postfix": "",
     "delete_cmd_prefix": "del ",
     "library": "var_list.py",
     "varRefreshCmd": "print(var_dic_list())"
    },
    "r": {
     "delete_cmd_postfix": ") ",
     "delete_cmd_prefix": "rm(",
     "library": "var_list.r",
     "varRefreshCmd": "cat(var_dic_list()) "
    }
   },
   "types_to_exclude": [
    "module",
    "function",
    "builtin_function_or_method",
    "instance",
    "_Feature"
   ],
   "window_display": false
  }
 },
 "nbformat": 4,
 "nbformat_minor": 4
}

{
 "cells": [
  {
   "cell_type": "code",
   "execution_count": 1,
   "metadata": {
    "ExecuteTime": {
     "end_time": "2021-11-07T07:42:03.178124Z",
     "start_time": "2021-11-07T07:41:56.111851Z"
    }
   },
   "outputs": [],
   "source": [
    "import numpy as np\n",
    "from scipy import stats\n",
    "import pandas as pd\n",
    "import matplotlib.pyplot as plt\n",
    "import seaborn as sns\n",
    "\n",
    "# sns.set()\n",
    "\n",
    "import os\n",
    "\n",
    "import warnings\n",
    "warnings.filterwarnings('ignore')"
   ]
  },
  {
   "cell_type": "code",
   "execution_count": 2,
   "metadata": {
    "ExecuteTime": {
     "end_time": "2021-11-07T07:42:06.975855Z",
     "start_time": "2021-11-07T07:42:03.180016Z"
    }
   },
   "outputs": [],
   "source": [
    "import joblib\n",
    "from sklearn.base import BaseEstimator, TransformerMixin\n",
    "from sklearn.impute import SimpleImputer\n",
    "from sklearn.preprocessing import StandardScaler, MinMaxScaler\n",
    "from sklearn.preprocessing import OneHotEncoder\n",
    "from sklearn.compose import ColumnTransformer, make_column_transformer\n",
    "from sklearn.pipeline import Pipeline, make_pipeline\n",
    "from sklearn.feature_selection import SelectPercentile, f_classif, f_regression, SelectFromModel, RFE\n",
    "from sklearn.model_selection import train_test_split\n",
    "from sklearn.model_selection import cross_val_score, cross_validate\n",
    "from sklearn.metrics import mean_squared_error\n",
    "from sklearn.model_selection import GridSearchCV, RandomizedSearchCV"
   ]
  },
  {
   "cell_type": "code",
   "execution_count": 3,
   "metadata": {
    "ExecuteTime": {
     "end_time": "2021-11-07T07:42:07.998039Z",
     "start_time": "2021-11-07T07:42:06.981835Z"
    }
   },
   "outputs": [],
   "source": [
    "from sklearn.neighbors import KNeighborsClassifier\n",
    "from sklearn.linear_model import LogisticRegression\n",
    "from sklearn.linear_model import SGDClassifier\n",
    "from sklearn.svm import LinearSVC, SVC\n",
    "from sklearn.tree import DecisionTreeClassifier\n",
    "from sklearn.ensemble import RandomForestClassifier\n",
    "from sklearn.ensemble import ExtraTreesClassifier\n",
    "from sklearn.ensemble import GradientBoostingClassifier\n",
    "from xgboost import XGBClassifier\n",
    "# from lightgbm import LGBMClassifier\n",
    "from sklearn.ensemble import AdaBoostClassifier\n",
    "from sklearn.neural_network import MLPClassifier"
   ]
  },
  {
   "cell_type": "markdown",
   "metadata": {},
   "source": [
    "# Data load"
   ]
  },
  {
   "cell_type": "code",
   "execution_count": 4,
   "metadata": {
    "ExecuteTime": {
     "end_time": "2021-11-07T07:42:10.522400Z",
     "start_time": "2021-11-07T07:42:08.003024Z"
    }
   },
   "outputs": [],
   "source": [
    "train = pd.read_csv('train.csv')\n",
    "test = pd.read_csv('test.csv')"
   ]
  },
  {
   "cell_type": "markdown",
   "metadata": {},
   "source": [
    "# Column 설정"
   ]
  },
  {
   "cell_type": "code",
   "execution_count": 5,
   "metadata": {
    "ExecuteTime": {
     "end_time": "2021-11-07T07:42:10.537863Z",
     "start_time": "2021-11-07T07:42:10.527890Z"
    }
   },
   "outputs": [],
   "source": [
    "target = 'target'"
   ]
  },
  {
   "cell_type": "code",
   "execution_count": 6,
   "metadata": {
    "ExecuteTime": {
     "end_time": "2021-11-07T07:42:10.554012Z",
     "start_time": "2021-11-07T07:42:10.545843Z"
    }
   },
   "outputs": [],
   "source": [
    "columns_useless = ['id']\n",
    "# columns_useless = columns_useless + ['nom_5', 'nom_6', 'nom_7', 'nom_8', 'nom_9', 'ord_5']"
   ]
  },
  {
   "cell_type": "code",
   "execution_count": 7,
   "metadata": {
    "ExecuteTime": {
     "end_time": "2021-11-07T07:42:10.585482Z",
     "start_time": "2021-11-07T07:42:10.559810Z"
    }
   },
   "outputs": [],
   "source": [
    "columns_num_all = joblib.load('columns_num.pkl')\n",
    "columns_cat_all = joblib.load('columns_cat.pkl')\n",
    "columns_binary_num = joblib.load('columns_binary_num.pkl')\n",
    "columns_binary_cat = joblib.load('columns_binary_cat.pkl')"
   ]
  },
  {
   "cell_type": "code",
   "execution_count": 8,
   "metadata": {
    "ExecuteTime": {
     "end_time": "2021-11-07T07:42:10.616754Z",
     "start_time": "2021-11-07T07:42:10.594466Z"
    }
   },
   "outputs": [],
   "source": [
    "try :\n",
    "    columns_num_all.remove(target)\n",
    "    \n",
    "except :\n",
    "    pass"
   ]
  },
  {
   "cell_type": "code",
   "execution_count": 9,
   "metadata": {
    "ExecuteTime": {
     "end_time": "2021-11-07T07:42:10.632497Z",
     "start_time": "2021-11-07T07:42:10.622386Z"
    }
   },
   "outputs": [],
   "source": [
    "try :\n",
    "    columns_cat_all.remove(target)\n",
    "    \n",
    "except :\n",
    "    pass"
   ]
  },
  {
   "cell_type": "code",
   "execution_count": 10,
   "metadata": {
    "ExecuteTime": {
     "end_time": "2021-11-07T07:42:10.647421Z",
     "start_time": "2021-11-07T07:42:10.638748Z"
    }
   },
   "outputs": [],
   "source": [
    "columns_num = []\n",
    "\n",
    "for column in columns_num_all :\n",
    "    \n",
    "    if column not in columns_useless :\n",
    "        columns_num.append(column)"
   ]
  },
  {
   "cell_type": "code",
   "execution_count": 11,
   "metadata": {
    "ExecuteTime": {
     "end_time": "2021-11-07T07:42:10.679292Z",
     "start_time": "2021-11-07T07:42:10.654298Z"
    }
   },
   "outputs": [],
   "source": [
    "columns_cat = []\n",
    "\n",
    "for column in columns_cat_all :\n",
    "    \n",
    "    if column not in columns_useless :\n",
    "        columns_cat.append(column)"
   ]
  },
  {
   "cell_type": "code",
   "execution_count": 12,
   "metadata": {
    "ExecuteTime": {
     "end_time": "2021-11-07T07:42:10.711146Z",
     "start_time": "2021-11-07T07:42:10.684264Z"
    }
   },
   "outputs": [
    {
     "data": {
      "text/plain": [
       "[]"
      ]
     },
     "execution_count": 12,
     "metadata": {},
     "output_type": "execute_result"
    }
   ],
   "source": [
    "columns_sc = []\n",
    "\n",
    "for column in columns_num :\n",
    "    \n",
    "    if column not in columns_binary_num:\n",
    "        columns_sc.append(column)\n",
    "        \n",
    "columns_sc"
   ]
  },
  {
   "cell_type": "code",
   "execution_count": 13,
   "metadata": {
    "ExecuteTime": {
     "end_time": "2021-11-07T07:42:10.742065Z",
     "start_time": "2021-11-07T07:42:10.717155Z"
    }
   },
   "outputs": [
    {
     "data": {
      "text/plain": [
       "['nom_0',\n",
       " 'nom_1',\n",
       " 'nom_2',\n",
       " 'nom_3',\n",
       " 'nom_4',\n",
       " 'nom_5',\n",
       " 'nom_6',\n",
       " 'nom_7',\n",
       " 'nom_8',\n",
       " 'nom_9',\n",
       " 'ord_1',\n",
       " 'ord_2',\n",
       " 'ord_3',\n",
       " 'ord_4',\n",
       " 'ord_5',\n",
       " 'ord_0',\n",
       " 'day',\n",
       " 'month']"
      ]
     },
     "execution_count": 13,
     "metadata": {},
     "output_type": "execute_result"
    }
   ],
   "source": [
    "columns_en = []\n",
    "\n",
    "for column in columns_cat :\n",
    "    \n",
    "    if (column not in columns_binary_num) and (column not in columns_binary_cat):\n",
    "        columns_en.append(column)\n",
    "        \n",
    "columns_en"
   ]
  },
  {
   "cell_type": "markdown",
   "metadata": {},
   "source": [
    "# Target 분리"
   ]
  },
  {
   "cell_type": "code",
   "execution_count": 14,
   "metadata": {
    "ExecuteTime": {
     "end_time": "2021-11-07T07:42:10.757025Z",
     "start_time": "2021-11-07T07:42:10.748049Z"
    }
   },
   "outputs": [],
   "source": [
    "# y = data[target]\n",
    "# X = data.drop(target, axis=1)"
   ]
  },
  {
   "cell_type": "code",
   "execution_count": 15,
   "metadata": {
    "ExecuteTime": {
     "end_time": "2021-11-07T07:42:10.882721Z",
     "start_time": "2021-11-07T07:42:10.764005Z"
    }
   },
   "outputs": [],
   "source": [
    "y_train = train[target]\n",
    "X_train = train.drop(target, axis=1)\n",
    "X_train_og = X_train.copy()"
   ]
  },
  {
   "cell_type": "code",
   "execution_count": 16,
   "metadata": {
    "ExecuteTime": {
     "end_time": "2021-11-07T07:42:10.913930Z",
     "start_time": "2021-11-07T07:42:10.884683Z"
    }
   },
   "outputs": [],
   "source": [
    "X_test = test.copy()"
   ]
  },
  {
   "cell_type": "markdown",
   "metadata": {},
   "source": [
    "# 전체 dataset concat"
   ]
  },
  {
   "cell_type": "code",
   "execution_count": 17,
   "metadata": {
    "ExecuteTime": {
     "end_time": "2021-11-07T07:42:11.303628Z",
     "start_time": "2021-11-07T07:42:10.916732Z"
    }
   },
   "outputs": [],
   "source": [
    "all_data = pd.concat([X_train, X_test])"
   ]
  },
  {
   "cell_type": "markdown",
   "metadata": {},
   "source": [
    "# Data preprocessing"
   ]
  },
  {
   "cell_type": "code",
   "execution_count": 18,
   "metadata": {
    "ExecuteTime": {
     "end_time": "2021-11-07T07:42:11.319605Z",
     "start_time": "2021-11-07T07:42:11.305472Z"
    }
   },
   "outputs": [],
   "source": [
    "def preprocessing(data, X_train_og, columns_useless, columns_sc, columns_binary_cat, columns_en) :\n",
    "    \n",
    "    # useless column 제거\n",
    "    data.drop(columns_useless, axis=1, inplace=True)\n",
    "    \n",
    "    # scaling\n",
    "#     scaler = StandardScaler()\n",
    "#     scaler.fit(X_train_og[columns_sc])\n",
    "#     data[columns_sc] = scaler.transform(data[columns_sc])\n",
    "\n",
    "    # binary data 처리\n",
    "    column = columns_binary_cat[0]\n",
    "    index_1 = data[data[column] == 'T'].index\n",
    "    index_0 = data[data[column] == 'F'].index\n",
    "    data.loc[index_1, column] = 1\n",
    "    data.loc[index_0, column] = 0\n",
    "    \n",
    "    column = columns_binary_cat[1]\n",
    "    index_1 = data[data[column] == 'Y'].index\n",
    "    index_0 = data[data[column] == 'N'].index\n",
    "    data.loc[index_1, column] = 1\n",
    "    data.loc[index_0, column] = 0\n",
    "    \n",
    "    data[columns_binary_cat] = data[columns_binary_cat].astype('int64')\n",
    "    \n",
    "    # One-hot-encoding\n",
    "#     data = pd.get_dummies(data, columns=columns_en)\n",
    "    encoder = OneHotEncoder()   # 고윳값을 많이 가진 feature가 있는 경우는 OneHotEncoder를 사용해야 함\n",
    "    data = encoder.fit_transform(data)\n",
    "    \n",
    "    return data"
   ]
  },
  {
   "cell_type": "code",
   "execution_count": 19,
   "metadata": {
    "ExecuteTime": {
     "end_time": "2021-11-07T07:42:23.140098Z",
     "start_time": "2021-11-07T07:42:11.323423Z"
    }
   },
   "outputs": [],
   "source": [
    "all_data = preprocessing(all_data, X_train_og, columns_useless, columns_sc, columns_binary_cat, columns_en)"
   ]
  },
  {
   "cell_type": "markdown",
   "metadata": {},
   "source": [
    "# Train & test set 분리"
   ]
  },
  {
   "cell_type": "code",
   "execution_count": 20,
   "metadata": {
    "ExecuteTime": {
     "end_time": "2021-11-07T07:42:23.345551Z",
     "start_time": "2021-11-07T07:42:23.143090Z"
    }
   },
   "outputs": [],
   "source": [
    "X_train = all_data[:len(train)]\n",
    "X_test = all_data[len(train):]"
   ]
  },
  {
   "cell_type": "markdown",
   "metadata": {},
   "source": [
    "# Grid search"
   ]
  },
  {
   "cell_type": "code",
   "execution_count": 21,
   "metadata": {
    "ExecuteTime": {
     "end_time": "2021-11-07T07:42:23.361509Z",
     "start_time": "2021-11-07T07:42:23.348544Z"
    }
   },
   "outputs": [],
   "source": [
    "logit = LogisticRegression(C=1.0, random_state=30)"
   ]
  },
  {
   "cell_type": "code",
   "execution_count": 22,
   "metadata": {
    "ExecuteTime": {
     "end_time": "2021-11-07T07:42:23.377464Z",
     "start_time": "2021-11-07T07:42:23.364499Z"
    }
   },
   "outputs": [],
   "source": [
    "pipe = Pipeline([\n",
    "    ('select', SelectPercentile(score_func=f_classif, percentile=30)),\n",
    "    ('model', logit)\n",
    "])"
   ]
  },
  {
   "cell_type": "code",
   "execution_count": 23,
   "metadata": {
    "ExecuteTime": {
     "end_time": "2021-11-07T07:42:23.393421Z",
     "start_time": "2021-11-07T07:42:23.386440Z"
    }
   },
   "outputs": [],
   "source": [
    "param_grid = {\n",
    "    'select__percentile' : [20, 40, 60, 80, 100],\n",
    "    'model__C': np.logspace(-3, 2, 6)\n",
    "}"
   ]
  },
  {
   "cell_type": "code",
   "execution_count": 24,
   "metadata": {
    "ExecuteTime": {
     "end_time": "2021-11-07T07:55:50.388436Z",
     "start_time": "2021-11-07T07:42:23.399405Z"
    }
   },
   "outputs": [
    {
     "data": {
      "text/plain": [
       "GridSearchCV(cv=5,\n",
       "             estimator=Pipeline(steps=[('select',\n",
       "                                        SelectPercentile(percentile=30)),\n",
       "                                       ('model',\n",
       "                                        LogisticRegression(random_state=30))]),\n",
       "             param_grid={'model__C': array([1.e-03, 1.e-02, 1.e-01, 1.e+00, 1.e+01, 1.e+02]),\n",
       "                         'select__percentile': [20, 40, 60, 80, 100]},\n",
       "             return_train_score=True)"
      ]
     },
     "execution_count": 24,
     "metadata": {},
     "output_type": "execute_result"
    }
   ],
   "source": [
    "grid = GridSearchCV(pipe, param_grid, cv=5, return_train_score=True)\n",
    "grid.fit(X_train, y_train)"
   ]
  },
  {
   "cell_type": "code",
   "execution_count": 25,
   "metadata": {
    "ExecuteTime": {
     "end_time": "2021-11-07T07:55:50.435239Z",
     "start_time": "2021-11-07T07:55:50.391354Z"
    }
   },
   "outputs": [
    {
     "data": {
      "text/html": [
       "<div>\n",
       "<style scoped>\n",
       "    .dataframe tbody tr th:only-of-type {\n",
       "        vertical-align: middle;\n",
       "    }\n",
       "\n",
       "    .dataframe tbody tr th {\n",
       "        vertical-align: top;\n",
       "    }\n",
       "\n",
       "    .dataframe thead th {\n",
       "        text-align: right;\n",
       "    }\n",
       "</style>\n",
       "<table border=\"1\" class=\"dataframe\">\n",
       "  <thead>\n",
       "    <tr style=\"text-align: right;\">\n",
       "      <th></th>\n",
       "      <th>params</th>\n",
       "      <th>mean_test_score</th>\n",
       "      <th>mean_train_score</th>\n",
       "      <th>mean_fit_time</th>\n",
       "      <th>mean_score_time</th>\n",
       "    </tr>\n",
       "  </thead>\n",
       "  <tbody>\n",
       "    <tr>\n",
       "      <th>0</th>\n",
       "      <td>{'model__C': 0.001, 'select__percentile': 20}</td>\n",
       "      <td>0.738387</td>\n",
       "      <td>0.739240</td>\n",
       "      <td>2.325844</td>\n",
       "      <td>0.030799</td>\n",
       "    </tr>\n",
       "    <tr>\n",
       "      <th>1</th>\n",
       "      <td>{'model__C': 0.001, 'select__percentile': 40}</td>\n",
       "      <td>0.738550</td>\n",
       "      <td>0.739389</td>\n",
       "      <td>2.255721</td>\n",
       "      <td>0.027420</td>\n",
       "    </tr>\n",
       "    <tr>\n",
       "      <th>2</th>\n",
       "      <td>{'model__C': 0.001, 'select__percentile': 60}</td>\n",
       "      <td>0.738567</td>\n",
       "      <td>0.739506</td>\n",
       "      <td>2.570178</td>\n",
       "      <td>0.029130</td>\n",
       "    </tr>\n",
       "    <tr>\n",
       "      <th>3</th>\n",
       "      <td>{'model__C': 0.001, 'select__percentile': 80}</td>\n",
       "      <td>0.738610</td>\n",
       "      <td>0.739527</td>\n",
       "      <td>2.532275</td>\n",
       "      <td>0.026323</td>\n",
       "    </tr>\n",
       "    <tr>\n",
       "      <th>4</th>\n",
       "      <td>{'model__C': 0.001, 'select__percentile': 100}</td>\n",
       "      <td>0.738667</td>\n",
       "      <td>0.739588</td>\n",
       "      <td>2.423401</td>\n",
       "      <td>0.025324</td>\n",
       "    </tr>\n",
       "    <tr>\n",
       "      <th>5</th>\n",
       "      <td>{'model__C': 0.01, 'select__percentile': 20}</td>\n",
       "      <td>0.755497</td>\n",
       "      <td>0.759210</td>\n",
       "      <td>4.406376</td>\n",
       "      <td>0.023739</td>\n",
       "    </tr>\n",
       "    <tr>\n",
       "      <th>6</th>\n",
       "      <td>{'model__C': 0.01, 'select__percentile': 40}</td>\n",
       "      <td>0.756583</td>\n",
       "      <td>0.760500</td>\n",
       "      <td>5.641738</td>\n",
       "      <td>0.032121</td>\n",
       "    </tr>\n",
       "    <tr>\n",
       "      <th>7</th>\n",
       "      <td>{'model__C': 0.01, 'select__percentile': 60}</td>\n",
       "      <td>0.756667</td>\n",
       "      <td>0.761112</td>\n",
       "      <td>5.479604</td>\n",
       "      <td>0.026529</td>\n",
       "    </tr>\n",
       "    <tr>\n",
       "      <th>8</th>\n",
       "      <td>{'model__C': 0.01, 'select__percentile': 80}</td>\n",
       "      <td>0.757023</td>\n",
       "      <td>0.761448</td>\n",
       "      <td>5.620861</td>\n",
       "      <td>0.032901</td>\n",
       "    </tr>\n",
       "    <tr>\n",
       "      <th>9</th>\n",
       "      <td>{'model__C': 0.01, 'select__percentile': 100}</td>\n",
       "      <td>0.756983</td>\n",
       "      <td>0.761539</td>\n",
       "      <td>6.217647</td>\n",
       "      <td>0.030375</td>\n",
       "    </tr>\n",
       "    <tr>\n",
       "      <th>10</th>\n",
       "      <td>{'model__C': 0.1, 'select__percentile': 20}</td>\n",
       "      <td>0.760777</td>\n",
       "      <td>0.770597</td>\n",
       "      <td>4.541688</td>\n",
       "      <td>0.024144</td>\n",
       "    </tr>\n",
       "    <tr>\n",
       "      <th>11</th>\n",
       "      <td>{'model__C': 0.1, 'select__percentile': 40}</td>\n",
       "      <td>0.762570</td>\n",
       "      <td>0.775079</td>\n",
       "      <td>5.391729</td>\n",
       "      <td>0.032895</td>\n",
       "    </tr>\n",
       "    <tr>\n",
       "      <th>12</th>\n",
       "      <td>{'model__C': 0.1, 'select__percentile': 60}</td>\n",
       "      <td>0.763207</td>\n",
       "      <td>0.776940</td>\n",
       "      <td>5.864604</td>\n",
       "      <td>0.026723</td>\n",
       "    </tr>\n",
       "    <tr>\n",
       "      <th>13</th>\n",
       "      <td>{'model__C': 0.1, 'select__percentile': 80}</td>\n",
       "      <td>0.763380</td>\n",
       "      <td>0.778194</td>\n",
       "      <td>5.868542</td>\n",
       "      <td>0.028352</td>\n",
       "    </tr>\n",
       "    <tr>\n",
       "      <th>14</th>\n",
       "      <td>{'model__C': 0.1, 'select__percentile': 100}</td>\n",
       "      <td>0.763797</td>\n",
       "      <td>0.778769</td>\n",
       "      <td>5.666439</td>\n",
       "      <td>0.030932</td>\n",
       "    </tr>\n",
       "    <tr>\n",
       "      <th>15</th>\n",
       "      <td>{'model__C': 1.0, 'select__percentile': 20}</td>\n",
       "      <td>0.758017</td>\n",
       "      <td>0.773922</td>\n",
       "      <td>4.441988</td>\n",
       "      <td>0.024532</td>\n",
       "    </tr>\n",
       "    <tr>\n",
       "      <th>16</th>\n",
       "      <td>{'model__C': 1.0, 'select__percentile': 40}</td>\n",
       "      <td>0.759937</td>\n",
       "      <td>0.779455</td>\n",
       "      <td>5.317600</td>\n",
       "      <td>0.030121</td>\n",
       "    </tr>\n",
       "    <tr>\n",
       "      <th>17</th>\n",
       "      <td>{'model__C': 1.0, 'select__percentile': 60}</td>\n",
       "      <td>0.759923</td>\n",
       "      <td>0.782848</td>\n",
       "      <td>5.817502</td>\n",
       "      <td>0.031322</td>\n",
       "    </tr>\n",
       "    <tr>\n",
       "      <th>18</th>\n",
       "      <td>{'model__C': 1.0, 'select__percentile': 80}</td>\n",
       "      <td>0.759953</td>\n",
       "      <td>0.784581</td>\n",
       "      <td>6.286941</td>\n",
       "      <td>0.033565</td>\n",
       "    </tr>\n",
       "    <tr>\n",
       "      <th>19</th>\n",
       "      <td>{'model__C': 1.0, 'select__percentile': 100}</td>\n",
       "      <td>0.760060</td>\n",
       "      <td>0.785710</td>\n",
       "      <td>6.187250</td>\n",
       "      <td>0.030269</td>\n",
       "    </tr>\n",
       "    <tr>\n",
       "      <th>20</th>\n",
       "      <td>{'model__C': 10.0, 'select__percentile': 20}</td>\n",
       "      <td>0.757453</td>\n",
       "      <td>0.773843</td>\n",
       "      <td>4.614140</td>\n",
       "      <td>0.023737</td>\n",
       "    </tr>\n",
       "    <tr>\n",
       "      <th>21</th>\n",
       "      <td>{'model__C': 10.0, 'select__percentile': 40}</td>\n",
       "      <td>0.758013</td>\n",
       "      <td>0.780018</td>\n",
       "      <td>5.248935</td>\n",
       "      <td>0.030903</td>\n",
       "    </tr>\n",
       "    <tr>\n",
       "      <th>22</th>\n",
       "      <td>{'model__C': 10.0, 'select__percentile': 60}</td>\n",
       "      <td>0.757820</td>\n",
       "      <td>0.782586</td>\n",
       "      <td>5.527341</td>\n",
       "      <td>0.026945</td>\n",
       "    </tr>\n",
       "    <tr>\n",
       "      <th>23</th>\n",
       "      <td>{'model__C': 10.0, 'select__percentile': 80}</td>\n",
       "      <td>0.757887</td>\n",
       "      <td>0.784468</td>\n",
       "      <td>5.678192</td>\n",
       "      <td>0.028773</td>\n",
       "    </tr>\n",
       "    <tr>\n",
       "      <th>24</th>\n",
       "      <td>{'model__C': 10.0, 'select__percentile': 100}</td>\n",
       "      <td>0.757453</td>\n",
       "      <td>0.785590</td>\n",
       "      <td>5.701812</td>\n",
       "      <td>0.029334</td>\n",
       "    </tr>\n",
       "    <tr>\n",
       "      <th>25</th>\n",
       "      <td>{'model__C': 100.0, 'select__percentile': 20}</td>\n",
       "      <td>0.757487</td>\n",
       "      <td>0.773804</td>\n",
       "      <td>5.434276</td>\n",
       "      <td>0.038618</td>\n",
       "    </tr>\n",
       "    <tr>\n",
       "      <th>26</th>\n",
       "      <td>{'model__C': 100.0, 'select__percentile': 40}</td>\n",
       "      <td>0.757873</td>\n",
       "      <td>0.780144</td>\n",
       "      <td>7.091641</td>\n",
       "      <td>0.042486</td>\n",
       "    </tr>\n",
       "    <tr>\n",
       "      <th>27</th>\n",
       "      <td>{'model__C': 100.0, 'select__percentile': 60}</td>\n",
       "      <td>0.757713</td>\n",
       "      <td>0.782844</td>\n",
       "      <td>7.647809</td>\n",
       "      <td>0.038808</td>\n",
       "    </tr>\n",
       "    <tr>\n",
       "      <th>28</th>\n",
       "      <td>{'model__C': 100.0, 'select__percentile': 80}</td>\n",
       "      <td>0.757577</td>\n",
       "      <td>0.784365</td>\n",
       "      <td>7.794750</td>\n",
       "      <td>0.043260</td>\n",
       "    </tr>\n",
       "    <tr>\n",
       "      <th>29</th>\n",
       "      <td>{'model__C': 100.0, 'select__percentile': 100}</td>\n",
       "      <td>0.757227</td>\n",
       "      <td>0.785830</td>\n",
       "      <td>5.660725</td>\n",
       "      <td>0.027120</td>\n",
       "    </tr>\n",
       "  </tbody>\n",
       "</table>\n",
       "</div>"
      ],
      "text/plain": [
       "                                            params  mean_test_score  \\\n",
       "0    {'model__C': 0.001, 'select__percentile': 20}         0.738387   \n",
       "1    {'model__C': 0.001, 'select__percentile': 40}         0.738550   \n",
       "2    {'model__C': 0.001, 'select__percentile': 60}         0.738567   \n",
       "3    {'model__C': 0.001, 'select__percentile': 80}         0.738610   \n",
       "4   {'model__C': 0.001, 'select__percentile': 100}         0.738667   \n",
       "5     {'model__C': 0.01, 'select__percentile': 20}         0.755497   \n",
       "6     {'model__C': 0.01, 'select__percentile': 40}         0.756583   \n",
       "7     {'model__C': 0.01, 'select__percentile': 60}         0.756667   \n",
       "8     {'model__C': 0.01, 'select__percentile': 80}         0.757023   \n",
       "9    {'model__C': 0.01, 'select__percentile': 100}         0.756983   \n",
       "10     {'model__C': 0.1, 'select__percentile': 20}         0.760777   \n",
       "11     {'model__C': 0.1, 'select__percentile': 40}         0.762570   \n",
       "12     {'model__C': 0.1, 'select__percentile': 60}         0.763207   \n",
       "13     {'model__C': 0.1, 'select__percentile': 80}         0.763380   \n",
       "14    {'model__C': 0.1, 'select__percentile': 100}         0.763797   \n",
       "15     {'model__C': 1.0, 'select__percentile': 20}         0.758017   \n",
       "16     {'model__C': 1.0, 'select__percentile': 40}         0.759937   \n",
       "17     {'model__C': 1.0, 'select__percentile': 60}         0.759923   \n",
       "18     {'model__C': 1.0, 'select__percentile': 80}         0.759953   \n",
       "19    {'model__C': 1.0, 'select__percentile': 100}         0.760060   \n",
       "20    {'model__C': 10.0, 'select__percentile': 20}         0.757453   \n",
       "21    {'model__C': 10.0, 'select__percentile': 40}         0.758013   \n",
       "22    {'model__C': 10.0, 'select__percentile': 60}         0.757820   \n",
       "23    {'model__C': 10.0, 'select__percentile': 80}         0.757887   \n",
       "24   {'model__C': 10.0, 'select__percentile': 100}         0.757453   \n",
       "25   {'model__C': 100.0, 'select__percentile': 20}         0.757487   \n",
       "26   {'model__C': 100.0, 'select__percentile': 40}         0.757873   \n",
       "27   {'model__C': 100.0, 'select__percentile': 60}         0.757713   \n",
       "28   {'model__C': 100.0, 'select__percentile': 80}         0.757577   \n",
       "29  {'model__C': 100.0, 'select__percentile': 100}         0.757227   \n",
       "\n",
       "    mean_train_score  mean_fit_time  mean_score_time  \n",
       "0           0.739240       2.325844         0.030799  \n",
       "1           0.739389       2.255721         0.027420  \n",
       "2           0.739506       2.570178         0.029130  \n",
       "3           0.739527       2.532275         0.026323  \n",
       "4           0.739588       2.423401         0.025324  \n",
       "5           0.759210       4.406376         0.023739  \n",
       "6           0.760500       5.641738         0.032121  \n",
       "7           0.761112       5.479604         0.026529  \n",
       "8           0.761448       5.620861         0.032901  \n",
       "9           0.761539       6.217647         0.030375  \n",
       "10          0.770597       4.541688         0.024144  \n",
       "11          0.775079       5.391729         0.032895  \n",
       "12          0.776940       5.864604         0.026723  \n",
       "13          0.778194       5.868542         0.028352  \n",
       "14          0.778769       5.666439         0.030932  \n",
       "15          0.773922       4.441988         0.024532  \n",
       "16          0.779455       5.317600         0.030121  \n",
       "17          0.782848       5.817502         0.031322  \n",
       "18          0.784581       6.286941         0.033565  \n",
       "19          0.785710       6.187250         0.030269  \n",
       "20          0.773843       4.614140         0.023737  \n",
       "21          0.780018       5.248935         0.030903  \n",
       "22          0.782586       5.527341         0.026945  \n",
       "23          0.784468       5.678192         0.028773  \n",
       "24          0.785590       5.701812         0.029334  \n",
       "25          0.773804       5.434276         0.038618  \n",
       "26          0.780144       7.091641         0.042486  \n",
       "27          0.782844       7.647809         0.038808  \n",
       "28          0.784365       7.794750         0.043260  \n",
       "29          0.785830       5.660725         0.027120  "
      ]
     },
     "metadata": {},
     "output_type": "display_data"
    }
   ],
   "source": [
    "results = pd.DataFrame(grid.cv_results_)\n",
    "results = results[['params', 'mean_test_score', 'mean_train_score', 'mean_fit_time', 'mean_score_time']]\n",
    "display(results)"
   ]
  },
  {
   "cell_type": "code",
   "execution_count": 26,
   "metadata": {
    "ExecuteTime": {
     "end_time": "2021-11-07T07:55:50.902747Z",
     "start_time": "2021-11-07T07:55:50.438231Z"
    }
   },
   "outputs": [
    {
     "data": {
      "text/plain": [
       "Text(169.68000000000006, 0.5, 'model__C')"
      ]
     },
     "execution_count": 26,
     "metadata": {},
     "output_type": "execute_result"
    },
    {
     "data": {
      "image/png": "[encoded data removed]",
      "text/plain": [
       "<Figure size 864x720 with 2 Axes>"
      ]
     },
     "metadata": {
      "needs_background": "light"
     },
     "output_type": "display_data"
    }
   ],
   "source": [
    "score = np.array(results.mean_train_score).reshape(len(list(param_grid.values())[1]), len(list(param_grid.values())[0]))\n",
    "\n",
    "fig, ax = plt.subplots(figsize=(12, 10))\n",
    "sns.heatmap(score, xticklabels=list(param_grid.values())[0], yticklabels=list(param_grid.values())[1], \n",
    "            annot=True, fmt='.3f', square=True, cbar=True, cmap='YlOrRd')\n",
    "\n",
    "plt.xlabel(list(param_grid.keys())[0])\n",
    "plt.ylabel(list(param_grid.keys())[1])"
   ]
  },
  {
   "cell_type": "code",
   "execution_count": 27,
   "metadata": {
    "ExecuteTime": {
     "end_time": "2021-11-07T07:55:51.292699Z",
     "start_time": "2021-11-07T07:55:50.906735Z"
    }
   },
   "outputs": [
    {
     "data": {
      "text/plain": [
       "Text(169.68000000000006, 0.5, 'model__C')"
      ]
     },
     "execution_count": 27,
     "metadata": {},
     "output_type": "execute_result"
    },
    {
     "data": {
      "image/png": "[encoded data removed]",
      "text/plain": [
       "<Figure size 864x720 with 2 Axes>"
      ]
     },
     "metadata": {
      "needs_background": "light"
     },
     "output_type": "display_data"
    }
   ],
   "source": [
    "score = np.array(results.mean_test_score).reshape(len(list(param_grid.values())[1]), len(list(param_grid.values())[0]))\n",
    "\n",
    "fig, ax = plt.subplots(figsize=(12, 10))\n",
    "sns.heatmap(score, xticklabels=list(param_grid.values())[0], yticklabels=list(param_grid.values())[1], \n",
    "            annot=True, fmt='.3f', square=True, cbar=True, cmap='YlOrRd')\n",
    "\n",
    "plt.xlabel(list(param_grid.keys())[0])\n",
    "plt.ylabel(list(param_grid.keys())[1])"
   ]
  },
  {
   "cell_type": "code",
   "execution_count": 28,
   "metadata": {
    "ExecuteTime": {
     "end_time": "2021-11-07T07:55:51.307713Z",
     "start_time": "2021-11-07T07:55:51.295716Z"
    },
    "scrolled": true
   },
   "outputs": [
    {
     "name": "stdout",
     "output_type": "stream",
     "text": [
      "best hyperpameter : \n",
      "{'model__C': 0.1, 'select__percentile': 100} \n",
      "\n",
      "best score : 0.764\n"
     ]
    }
   ],
   "source": [
    "print('best hyperpameter : \\n{}' .format(grid.best_params_), '\\n')\n",
    "print(\"best score : {:.3f}\".format(grid.best_score_))"
   ]
  },
  {
   "cell_type": "code",
   "execution_count": null,
   "metadata": {},
   "outputs": [],
   "source": []
  }
 ],
 "metadata": {
  "hide_input": false,
  "kernelspec": {
   "display_name": "Python 3",
   "language": "python",
   "name": "python3"
  },
  "language_info": {
   "codemirror_mode": {
    "name": "ipython",
    "version": 3
   },
   "file_extension": ".py",
   "mimetype": "text/x-python",
   "name": "python",
   "nbconvert_exporter": "python",
   "pygments_lexer": "ipython3",
   "version": "3.7.1"
  },
  "toc": {
   "base_numbering": 1,
   "nav_menu": {},
   "number_sections": true,
   "sideBar": true,
   "skip_h1_title": false,
   "title_cell": "Table of Contents",
   "title_sidebar": "Contents",
   "toc_cell": false,
   "toc_position": {},
   "toc_section_display": true,
   "toc_window_display": true
  },
  "varInspector": {
   "cols": {
    "lenName": 16,
    "lenType": 16,
    "lenVar": 40
   },
   "kernels_config": {
    "python": {
     "delete_cmd_postfix": "",
     "delete_cmd_prefix": "del ",
     "library": "var_list.py",
     "varRefreshCmd": "print(var_dic_list())"
    },
    "r": {
     "delete_cmd_postfix": ") ",
     "delete_cmd_prefix": "rm(",
     "library": "var_list.r",
     "varRefreshCmd": "cat(var_dic_list()) "
    }
   },
   "types_to_exclude": [
    "module",
    "function",
    "builtin_function_or_method",
    "instance",
    "_Feature"
   ],
   "window_display": false
  }
 },
 "nbformat": 4,
 "nbformat_minor": 4
}

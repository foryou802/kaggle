{
 "cells": [
  {
   "cell_type": "code",
   "execution_count": 1,
   "metadata": {
    "ExecuteTime": {
     "end_time": "2021-11-12T22:40:19.523821Z",
     "start_time": "2021-11-12T22:40:17.124678Z"
    }
   },
   "outputs": [],
   "source": [
    "import numpy as np\n",
    "from scipy import stats\n",
    "import pandas as pd\n",
    "import matplotlib.pyplot as plt\n",
    "import seaborn as sns\n",
    "\n",
    "# sns.set()\n",
    "\n",
    "import os\n",
    "\n",
    "import warnings\n",
    "warnings.filterwarnings('ignore')"
   ]
  },
  {
   "cell_type": "code",
   "execution_count": 2,
   "metadata": {
    "ExecuteTime": {
     "end_time": "2021-11-12T22:40:21.443284Z",
     "start_time": "2021-11-12T22:40:19.529812Z"
    }
   },
   "outputs": [],
   "source": [
    "import joblib\n",
    "from sklearn.base import BaseEstimator, TransformerMixin\n",
    "from sklearn.impute import SimpleImputer\n",
    "from sklearn.preprocessing import StandardScaler, MinMaxScaler\n",
    "from sklearn.preprocessing import OneHotEncoder\n",
    "from sklearn.compose import ColumnTransformer, make_column_transformer\n",
    "from sklearn.pipeline import Pipeline, make_pipeline\n",
    "from sklearn.feature_selection import SelectPercentile, f_classif, f_regression, SelectFromModel, RFE\n",
    "from sklearn.model_selection import train_test_split\n",
    "from sklearn.model_selection import cross_val_score, cross_validate\n",
    "from sklearn.metrics import mean_squared_error\n",
    "from sklearn.model_selection import GridSearchCV, RandomizedSearchCV"
   ]
  },
  {
   "cell_type": "code",
   "execution_count": 3,
   "metadata": {
    "ExecuteTime": {
     "end_time": "2021-11-12T22:40:39.587688Z",
     "start_time": "2021-11-12T22:40:21.445280Z"
    }
   },
   "outputs": [],
   "source": [
    "import tensorflow as tf\n",
    "from tensorflow import keras\n",
    "from tensorflow.keras.models import Sequential, Model\n",
    "from tensorflow.keras.layers import Flatten, Dense, Input, concatenate, Embedding, Dot\n",
    "from tensorflow.keras.layers import Activation, ReLU, LeakyReLU, PReLU\n",
    "from tensorflow.keras.layers import BatchNormalization, Dropout, AlphaDropout\n",
    "from tensorflow.keras.callbacks import EarlyStopping, ModelCheckpoint\n",
    "from tensorflow.keras.utils import plot_model\n",
    "\n",
    "from functools import partial"
   ]
  },
  {
   "cell_type": "markdown",
   "metadata": {},
   "source": [
    "# Data load"
   ]
  },
  {
   "cell_type": "code",
   "execution_count": 4,
   "metadata": {
    "ExecuteTime": {
     "end_time": "2021-11-12T22:40:42.990126Z",
     "start_time": "2021-11-12T22:40:39.592747Z"
    }
   },
   "outputs": [],
   "source": [
    "train = pd.read_csv('train.csv')\n",
    "test = pd.read_csv('test.csv')"
   ]
  },
  {
   "cell_type": "markdown",
   "metadata": {},
   "source": [
    "# Column 설정"
   ]
  },
  {
   "cell_type": "code",
   "execution_count": 5,
   "metadata": {
    "ExecuteTime": {
     "end_time": "2021-11-12T22:40:43.006227Z",
     "start_time": "2021-11-12T22:40:42.996822Z"
    }
   },
   "outputs": [],
   "source": [
    "target = 'target'"
   ]
  },
  {
   "cell_type": "code",
   "execution_count": 6,
   "metadata": {
    "ExecuteTime": {
     "end_time": "2021-11-12T22:40:43.036549Z",
     "start_time": "2021-11-12T22:40:43.013577Z"
    }
   },
   "outputs": [],
   "source": [
    "columns_useless = ['id']\n",
    "# columns_useless = columns_useless + ['nom_5', 'nom_6', 'nom_7', 'nom_8', 'nom_9', 'ord_5']"
   ]
  },
  {
   "cell_type": "code",
   "execution_count": 7,
   "metadata": {
    "ExecuteTime": {
     "end_time": "2021-11-12T22:40:43.068408Z",
     "start_time": "2021-11-12T22:40:43.045565Z"
    }
   },
   "outputs": [],
   "source": [
    "columns_num_all = joblib.load('columns_num.pkl')\n",
    "columns_cat_all = joblib.load('columns_cat.pkl')\n",
    "columns_binary_num = joblib.load('columns_binary_num.pkl')\n",
    "columns_binary_cat = joblib.load('columns_binary_cat.pkl')"
   ]
  },
  {
   "cell_type": "code",
   "execution_count": 8,
   "metadata": {
    "ExecuteTime": {
     "end_time": "2021-11-12T22:40:43.099318Z",
     "start_time": "2021-11-12T22:40:43.078538Z"
    }
   },
   "outputs": [],
   "source": [
    "try :\n",
    "    columns_num_all.remove(target)\n",
    "    \n",
    "except :\n",
    "    pass"
   ]
  },
  {
   "cell_type": "code",
   "execution_count": 9,
   "metadata": {
    "ExecuteTime": {
     "end_time": "2021-11-12T22:40:43.115273Z",
     "start_time": "2021-11-12T22:40:43.106299Z"
    }
   },
   "outputs": [],
   "source": [
    "try :\n",
    "    columns_cat_all.remove(target)\n",
    "    \n",
    "except :\n",
    "    pass"
   ]
  },
  {
   "cell_type": "code",
   "execution_count": 10,
   "metadata": {
    "ExecuteTime": {
     "end_time": "2021-11-12T22:40:43.130394Z",
     "start_time": "2021-11-12T22:40:43.120261Z"
    }
   },
   "outputs": [],
   "source": [
    "columns_num = []\n",
    "\n",
    "for column in columns_num_all :\n",
    "    \n",
    "    if column not in columns_useless :\n",
    "        columns_num.append(column)"
   ]
  },
  {
   "cell_type": "code",
   "execution_count": 11,
   "metadata": {
    "ExecuteTime": {
     "end_time": "2021-11-12T22:40:43.146189Z",
     "start_time": "2021-11-12T22:40:43.136216Z"
    }
   },
   "outputs": [],
   "source": [
    "columns_cat = []\n",
    "\n",
    "for column in columns_cat_all :\n",
    "    \n",
    "    if column not in columns_useless :\n",
    "        columns_cat.append(column)"
   ]
  },
  {
   "cell_type": "code",
   "execution_count": 12,
   "metadata": {
    "ExecuteTime": {
     "end_time": "2021-11-12T22:40:43.178103Z",
     "start_time": "2021-11-12T22:40:43.152177Z"
    }
   },
   "outputs": [
    {
     "data": {
      "text/plain": [
       "[]"
      ]
     },
     "execution_count": 12,
     "metadata": {},
     "output_type": "execute_result"
    }
   ],
   "source": [
    "columns_sc = []\n",
    "\n",
    "for column in columns_num :\n",
    "    \n",
    "    if column not in columns_binary_num:\n",
    "        columns_sc.append(column)\n",
    "        \n",
    "columns_sc"
   ]
  },
  {
   "cell_type": "code",
   "execution_count": 13,
   "metadata": {
    "ExecuteTime": {
     "end_time": "2021-11-12T22:40:43.209214Z",
     "start_time": "2021-11-12T22:40:43.183094Z"
    }
   },
   "outputs": [
    {
     "data": {
      "text/plain": [
       "['nom_0',\n",
       " 'nom_1',\n",
       " 'nom_2',\n",
       " 'nom_3',\n",
       " 'nom_4',\n",
       " 'nom_5',\n",
       " 'nom_6',\n",
       " 'nom_7',\n",
       " 'nom_8',\n",
       " 'nom_9',\n",
       " 'ord_1',\n",
       " 'ord_2',\n",
       " 'ord_3',\n",
       " 'ord_4',\n",
       " 'ord_5',\n",
       " 'ord_0',\n",
       " 'day',\n",
       " 'month']"
      ]
     },
     "execution_count": 13,
     "metadata": {},
     "output_type": "execute_result"
    }
   ],
   "source": [
    "columns_en = []\n",
    "\n",
    "for column in columns_cat :\n",
    "    \n",
    "    if (column not in columns_binary_num) and (column not in columns_binary_cat):\n",
    "        columns_en.append(column)\n",
    "        \n",
    "columns_en"
   ]
  },
  {
   "cell_type": "markdown",
   "metadata": {},
   "source": [
    "# Target 분리"
   ]
  },
  {
   "cell_type": "code",
   "execution_count": 14,
   "metadata": {
    "ExecuteTime": {
     "end_time": "2021-11-12T22:40:43.224977Z",
     "start_time": "2021-11-12T22:40:43.214053Z"
    }
   },
   "outputs": [],
   "source": [
    "# y = data[target]\n",
    "# X = data.drop(target, axis=1)"
   ]
  },
  {
   "cell_type": "code",
   "execution_count": 15,
   "metadata": {
    "ExecuteTime": {
     "end_time": "2021-11-12T22:40:43.382680Z",
     "start_time": "2021-11-12T22:40:43.229965Z"
    }
   },
   "outputs": [],
   "source": [
    "y_train = train[target]\n",
    "X_train = train.drop(target, axis=1)\n",
    "X_train_og = X_train.copy()"
   ]
  },
  {
   "cell_type": "code",
   "execution_count": 16,
   "metadata": {
    "ExecuteTime": {
     "end_time": "2021-11-12T22:40:43.429173Z",
     "start_time": "2021-11-12T22:40:43.387542Z"
    }
   },
   "outputs": [],
   "source": [
    "X_test = test.copy()"
   ]
  },
  {
   "cell_type": "markdown",
   "metadata": {},
   "source": [
    "# 전체 dataset concat"
   ]
  },
  {
   "cell_type": "code",
   "execution_count": 17,
   "metadata": {
    "ExecuteTime": {
     "end_time": "2021-11-12T22:40:43.744334Z",
     "start_time": "2021-11-12T22:40:43.432998Z"
    }
   },
   "outputs": [],
   "source": [
    "all_data = pd.concat([X_train, X_test])"
   ]
  },
  {
   "cell_type": "markdown",
   "metadata": {},
   "source": [
    "# Data preprocessing"
   ]
  },
  {
   "cell_type": "code",
   "execution_count": 18,
   "metadata": {
    "ExecuteTime": {
     "end_time": "2021-11-12T22:40:43.775972Z",
     "start_time": "2021-11-12T22:40:43.748320Z"
    }
   },
   "outputs": [],
   "source": [
    "def preprocessing(data, X_train_og, columns_useless, columns_sc, columns_binary_cat, columns_en) :\n",
    "    \n",
    "    # useless column 제거\n",
    "    data.drop(columns_useless, axis=1, inplace=True)\n",
    "    \n",
    "    # scaling\n",
    "#     scaler = StandardScaler()\n",
    "#     scaler.fit(X_train_og[columns_sc])\n",
    "#     data[columns_sc] = scaler.transform(data[columns_sc])\n",
    "\n",
    "    # binary data 처리\n",
    "    column = columns_binary_cat[0]\n",
    "    index_1 = data[data[column] == 'T'].index\n",
    "    index_0 = data[data[column] == 'F'].index\n",
    "    data.loc[index_1, column] = 1\n",
    "    data.loc[index_0, column] = 0\n",
    "    \n",
    "    column = columns_binary_cat[1]\n",
    "    index_1 = data[data[column] == 'Y'].index\n",
    "    index_0 = data[data[column] == 'N'].index\n",
    "    data.loc[index_1, column] = 1\n",
    "    data.loc[index_0, column] = 0\n",
    "    \n",
    "    data[columns_binary_cat] = data[columns_binary_cat].astype('int64')\n",
    "    \n",
    "    # One-hot-encoding\n",
    "#     data = pd.get_dummies(data, columns=columns_en)\n",
    "    encoder = OneHotEncoder()   # 고윳값을 많이 가진 feature가 있는 경우는 OneHotEncoder를 사용해야 함\n",
    "    data = encoder.fit_transform(data)\n",
    "    \n",
    "    return data"
   ]
  },
  {
   "cell_type": "code",
   "execution_count": 19,
   "metadata": {
    "ExecuteTime": {
     "end_time": "2021-11-12T22:40:54.651196Z",
     "start_time": "2021-11-12T22:40:43.781849Z"
    }
   },
   "outputs": [],
   "source": [
    "all_data = preprocessing(all_data, X_train_og, columns_useless, columns_sc, columns_binary_cat, columns_en)"
   ]
  },
  {
   "cell_type": "markdown",
   "metadata": {},
   "source": [
    "# Train & test set 분리"
   ]
  },
  {
   "cell_type": "code",
   "execution_count": 20,
   "metadata": {
    "ExecuteTime": {
     "end_time": "2021-11-12T22:40:54.933668Z",
     "start_time": "2021-11-12T22:40:54.654983Z"
    }
   },
   "outputs": [],
   "source": [
    "X_train = all_data[:len(train)]\n",
    "X_test = all_data[len(train):]"
   ]
  },
  {
   "cell_type": "markdown",
   "metadata": {},
   "source": [
    "# Validation set 분리\n",
    "- Train dataset이 너무 커서 cross validation에 너무 오랜 시간이 걸리는 경우\n",
    "- OneHotEncoder를 사용하면 sparse matrix를 return하기 때문에 neural network에서 validation_split를 사용할 수 없는 경우"
   ]
  },
  {
   "cell_type": "code",
   "execution_count": 21,
   "metadata": {
    "ExecuteTime": {
     "end_time": "2021-11-12T22:40:55.151940Z",
     "start_time": "2021-11-12T22:40:54.937610Z"
    }
   },
   "outputs": [],
   "source": [
    "X_train, X_val, y_train, y_val = train_test_split(X_train, y_train, random_state=30)"
   ]
  },
  {
   "cell_type": "code",
   "execution_count": 22,
   "metadata": {
    "ExecuteTime": {
     "end_time": "2021-11-12T22:40:55.182818Z",
     "start_time": "2021-11-12T22:40:55.155936Z"
    }
   },
   "outputs": [],
   "source": [
    "y_train = tf.keras.utils.to_categorical(y_train, num_classes=2)   # metrics로 'AUC'를 사용하기 위해 one-hot-encoding 사용\n",
    "y_val = tf.keras.utils.to_categorical(y_val, num_classes=2)"
   ]
  },
  {
   "cell_type": "markdown",
   "metadata": {},
   "source": [
    "# Grid search"
   ]
  },
  {
   "cell_type": "code",
   "execution_count": 23,
   "metadata": {
    "ExecuteTime": {
     "end_time": "2021-11-12T22:40:55.213971Z",
     "start_time": "2021-11-12T22:40:55.192836Z"
    }
   },
   "outputs": [],
   "source": [
    "np.random.seed(30)\n",
    "tf.random.set_seed(30)"
   ]
  },
  {
   "cell_type": "code",
   "execution_count": 24,
   "metadata": {
    "ExecuteTime": {
     "end_time": "2021-11-12T22:40:55.229960Z",
     "start_time": "2021-11-12T22:40:55.223131Z"
    }
   },
   "outputs": [],
   "source": [
    "HiddenDense = partial(Dense, activation='selu', kernel_initializer='lecun_normal')"
   ]
  },
  {
   "cell_type": "code",
   "execution_count": 25,
   "metadata": {
    "ExecuteTime": {
     "end_time": "2021-11-12T22:40:55.557804Z",
     "start_time": "2021-11-12T22:40:55.234772Z"
    }
   },
   "outputs": [],
   "source": [
    "model = Sequential()\n",
    "model.add(HiddenDense(100, input_shape=(X_train.shape[1],)))\n",
    "\n",
    "for layer in range(10):\n",
    "    model.add(HiddenDense(100))\n",
    "    \n",
    "model.add(Dense(2, activation='softmax'))"
   ]
  },
  {
   "cell_type": "code",
   "execution_count": 26,
   "metadata": {
    "ExecuteTime": {
     "end_time": "2021-11-12T22:40:55.588609Z",
     "start_time": "2021-11-12T22:40:55.562500Z"
    }
   },
   "outputs": [],
   "source": [
    "def build_model(n_layers=5, n_units=100, learning_rate=0.001, input_shape=(X_train.shape[1],)):\n",
    "    model = keras.models.Sequential()\n",
    "    model.add(HiddenDense(n_units, input_shape=(X_train.shape[1],)))\n",
    "    \n",
    "    for layer in range(n_layers):\n",
    "        model.add(HiddenDense(n_units))\n",
    "        \n",
    "    model.add(Dense(2, activation='softmax'))\n",
    "    \n",
    "    optimizer = keras.optimizers.Adam(learning_rate=learning_rate, beta_1=0.9, beta_2=0.999)\n",
    "    model.compile(loss='categorical_crossentropy', optimizer=optimizer, metrics=['accuracy'])\n",
    "    # scikit-learn wrapper 사용을 위해 분류는 metrics로 accuracy를 사용해야만 함\n",
    "    \n",
    "    return model"
   ]
  },
  {
   "cell_type": "code",
   "execution_count": 27,
   "metadata": {
    "ExecuteTime": {
     "end_time": "2021-11-12T22:40:55.604466Z",
     "start_time": "2021-11-12T22:40:55.594179Z"
    }
   },
   "outputs": [],
   "source": [
    "early_stopping_cb = keras.callbacks.EarlyStopping(patience=10, restore_best_weights=True)"
   ]
  },
  {
   "cell_type": "code",
   "execution_count": 28,
   "metadata": {
    "ExecuteTime": {
     "end_time": "2021-11-12T22:40:55.620423Z",
     "start_time": "2021-11-12T22:40:55.609448Z"
    }
   },
   "outputs": [],
   "source": [
    "model = keras.wrappers.scikit_learn.KerasClassifier(build_model)"
   ]
  },
  {
   "cell_type": "code",
   "execution_count": 29,
   "metadata": {
    "ExecuteTime": {
     "end_time": "2021-11-12T22:40:55.635670Z",
     "start_time": "2021-11-12T22:40:55.627442Z"
    }
   },
   "outputs": [],
   "source": [
    "param_grid = {\n",
    "    'n_layers' : [3, 10, 20],\n",
    "    'n_units': [10, 50, 100],\n",
    "}"
   ]
  },
  {
   "cell_type": "code",
   "execution_count": 30,
   "metadata": {
    "ExecuteTime": {
     "end_time": "2021-11-12T22:40:55.651337Z",
     "start_time": "2021-11-12T22:40:55.641368Z"
    }
   },
   "outputs": [],
   "source": [
    "grid = GridSearchCV(model, param_grid, cv=3, return_train_score=True)"
   ]
  },
  {
   "cell_type": "code",
   "execution_count": 31,
   "metadata": {
    "ExecuteTime": {
     "end_time": "2021-11-13T03:29:31.453298Z",
     "start_time": "2021-11-12T22:40:55.657322Z"
    },
    "scrolled": true
   },
   "outputs": [
    {
     "name": "stdout",
     "output_type": "stream",
     "text": [
      "2344/2344 [==============================] - 9s 4ms/step - loss: 0.4959 - accuracy: 0.7563\n",
      "4688/4688 [==============================] - 12s 3ms/step - loss: 0.4516 - accuracy: 0.7824\n",
      "2344/2344 [==============================] - 7s 3ms/step - loss: 0.4935 - accuracy: 0.7596\n",
      "4688/4688 [==============================] - 21s 5ms/step - loss: 0.4531 - accuracy: 0.7820\n",
      "2344/2344 [==============================] - 8s 3ms/step - loss: 0.4915 - accuracy: 0.7580\n",
      "4688/4688 [==============================] - 17s 4ms/step - loss: 0.4538 - accuracy: 0.7835\n",
      "2344/2344 [==============================] - 10s 4ms/step - loss: 0.5004 - accuracy: 0.7545\n",
      "4688/4688 [==============================] - 13s 3ms/step - loss: 0.4625 - accuracy: 0.7847\n",
      "2344/2344 [==============================] - 11s 5ms/step - loss: 0.4959 - accuracy: 0.7571\n",
      "4688/4688 [==============================] - 21s 5ms/step - loss: 0.4603 - accuracy: 0.7804\n",
      "2344/2344 [==============================] - 8s 3ms/step - loss: 0.4935 - accuracy: 0.7569\n",
      "4688/4688 [==============================] - 14s 3ms/step - loss: 0.4575 - accuracy: 0.7847\n",
      "2344/2344 [==============================] - 11s 5ms/step - loss: 0.5024 - accuracy: 0.7539\n",
      "4688/4688 [==============================] - 22s 5ms/step - loss: 0.4392 - accuracy: 0.7938\n",
      "2344/2344 [==============================] - 9s 4ms/step - loss: 0.4984 - accuracy: 0.7575\n",
      "4688/4688 [==============================] - 24s 5ms/step - loss: 0.4551 - accuracy: 0.7836\n",
      "2344/2344 [==============================] - 8s 4ms/step - loss: 0.4976 - accuracy: 0.7545\n",
      "4688/4688 [==============================] - 24s 5ms/step - loss: 0.4553 - accuracy: 0.7833\n",
      "2344/2344 [==============================] - 9s 4ms/step - loss: 0.4983 - accuracy: 0.7543\n",
      "4688/4688 [==============================] - 16s 3ms/step - loss: 0.4521 - accuracy: 0.7853\n",
      "2344/2344 [==============================] - 9s 4ms/step - loss: 0.4934 - accuracy: 0.7600\n",
      "4688/4688 [==============================] - 26s 6ms/step - loss: 0.4551 - accuracy: 0.7828\n",
      "2344/2344 [==============================] - 9s 4ms/step - loss: 0.4977 - accuracy: 0.7581\n",
      "4688/4688 [==============================] - 19s 4ms/step - loss: 0.4561 - accuracy: 0.7807\n",
      "2344/2344 [==============================] - 11s 5ms/step - loss: 0.4991 - accuracy: 0.7555\n",
      "4688/4688 [==============================] - 19s 4ms/step - loss: 0.4593 - accuracy: 0.7827\n",
      "2344/2344 [==============================] - 10s 4ms/step - loss: 0.4968 - accuracy: 0.7520\n",
      "4688/4688 [==============================] - 21s 5ms/step - loss: 0.4431 - accuracy: 0.7877\n",
      "2344/2344 [==============================] - 10s 4ms/step - loss: 0.4972 - accuracy: 0.7569\n",
      "4688/4688 [==============================] - 22s 5ms/step - loss: 0.4663 - accuracy: 0.7797\n",
      "2344/2344 [==============================] - 13s 5ms/step - loss: 0.5044 - accuracy: 0.7541\n",
      "4688/4688 [==============================] - 25s 5ms/step - loss: 0.4631 - accuracy: 0.7824\n",
      "2344/2344 [==============================] - 13s 5ms/step - loss: 0.4981 - accuracy: 0.7561\n",
      "4688/4688 [==============================] - 25s 5ms/step - loss: 0.4618 - accuracy: 0.7777\n",
      "2344/2344 [==============================] - 15s 6ms/step - loss: 0.5129 - accuracy: 0.7487\n",
      "4688/4688 [==============================] - 27s 6ms/step - loss: 0.4107 - accuracy: 0.8086\n",
      "2344/2344 [==============================] - 11s 5ms/step - loss: 0.5055 - accuracy: 0.7529\n",
      "4688/4688 [==============================] - 22s 5ms/step - loss: 0.4320 - accuracy: 0.7985\n",
      "2344/2344 [==============================] - 10s 4ms/step - loss: 0.4984 - accuracy: 0.7556\n",
      "4688/4688 [==============================] - 18s 4ms/step - loss: 0.4411 - accuracy: 0.7861\n",
      "2344/2344 [==============================] - 10s 4ms/step - loss: 0.4989 - accuracy: 0.7566\n",
      "4688/4688 [==============================] - 20s 4ms/step - loss: 0.4619 - accuracy: 0.7776\n",
      "2344/2344 [==============================] - 12s 5ms/step - loss: 0.5232 - accuracy: 0.7504\n",
      "4688/4688 [==============================] - 26s 6ms/step - loss: 0.4281 - accuracy: 0.7953\n",
      "2344/2344 [==============================] - 13s 5ms/step - loss: 0.5013 - accuracy: 0.7538\n",
      "4688/4688 [==============================] - 25s 5ms/step - loss: 0.4522 - accuracy: 0.7810\n",
      "2344/2344 [==============================] - 4s 1ms/step - loss: 0.4976 - accuracy: 0.7537\n",
      "4688/4688 [==============================] - 7s 1ms/step - loss: 0.4568 - accuracy: 0.7794\n",
      "2344/2344 [==============================] - 4s 2ms/step - loss: 0.5094 - accuracy: 0.7500\n",
      "4688/4688 [==============================] - 9s 2ms/step - loss: 0.4286 - accuracy: 0.8057\n",
      "2344/2344 [==============================] - 4s 2ms/step - loss: 0.5076 - accuracy: 0.7510\n",
      "4688/4688 [==============================] - 9s 2ms/step - loss: 0.4417 - accuracy: 0.7902\n",
      "2344/2344 [==============================] - 4s 2ms/step - loss: 0.5007 - accuracy: 0.7537\n",
      "4688/4688 [==============================] - 9s 2ms/step - loss: 0.4396 - accuracy: 0.7980\n"
     ]
    },
    {
     "data": {
      "text/plain": [
       "GridSearchCV(cv=3,\n",
       "             estimator=<tensorflow.python.keras.wrappers.scikit_learn.KerasClassifier object at 0x00000296EC20A7B8>,\n",
       "             param_grid={'n_layers': [3, 10, 20], 'n_units': [10, 50, 100]},\n",
       "             return_train_score=True)"
      ]
     },
     "execution_count": 31,
     "metadata": {},
     "output_type": "execute_result"
    }
   ],
   "source": [
    "grid.fit(X_train, y_train, epochs=100, validation_data=(X_val, y_val), callbacks=early_stopping_cb, verbose=0)"
   ]
  },
  {
   "cell_type": "markdown",
   "metadata": {},
   "source": [
    "- 너무 오래 걸림"
   ]
  },
  {
   "cell_type": "code",
   "execution_count": 32,
   "metadata": {
    "ExecuteTime": {
     "end_time": "2021-11-13T03:29:31.485281Z",
     "start_time": "2021-11-13T03:29:31.455258Z"
    }
   },
   "outputs": [
    {
     "data": {
      "text/html": [
       "<div>\n",
       "<style scoped>\n",
       "    .dataframe tbody tr th:only-of-type {\n",
       "        vertical-align: middle;\n",
       "    }\n",
       "\n",
       "    .dataframe tbody tr th {\n",
       "        vertical-align: top;\n",
       "    }\n",
       "\n",
       "    .dataframe thead th {\n",
       "        text-align: right;\n",
       "    }\n",
       "</style>\n",
       "<table border=\"1\" class=\"dataframe\">\n",
       "  <thead>\n",
       "    <tr style=\"text-align: right;\">\n",
       "      <th></th>\n",
       "      <th>params</th>\n",
       "      <th>mean_test_score</th>\n",
       "      <th>mean_train_score</th>\n",
       "      <th>mean_fit_time</th>\n",
       "      <th>mean_score_time</th>\n",
       "    </tr>\n",
       "  </thead>\n",
       "  <tbody>\n",
       "    <tr>\n",
       "      <th>0</th>\n",
       "      <td>{'n_layers': 3, 'n_units': 10}</td>\n",
       "      <td>0.757969</td>\n",
       "      <td>0.782624</td>\n",
       "      <td>215.560837</td>\n",
       "      <td>8.241793</td>\n",
       "    </tr>\n",
       "    <tr>\n",
       "      <th>1</th>\n",
       "      <td>{'n_layers': 3, 'n_units': 50}</td>\n",
       "      <td>0.756164</td>\n",
       "      <td>0.783258</td>\n",
       "      <td>528.615562</td>\n",
       "      <td>10.128400</td>\n",
       "    </tr>\n",
       "    <tr>\n",
       "      <th>2</th>\n",
       "      <td>{'n_layers': 3, 'n_units': 100}</td>\n",
       "      <td>0.755289</td>\n",
       "      <td>0.786869</td>\n",
       "      <td>893.335330</td>\n",
       "      <td>9.991481</td>\n",
       "    </tr>\n",
       "    <tr>\n",
       "      <th>3</th>\n",
       "      <td>{'n_layers': 10, 'n_units': 10}</td>\n",
       "      <td>0.757462</td>\n",
       "      <td>0.782900</td>\n",
       "      <td>281.300412</td>\n",
       "      <td>9.691030</td>\n",
       "    </tr>\n",
       "    <tr>\n",
       "      <th>4</th>\n",
       "      <td>{'n_layers': 10, 'n_units': 50}</td>\n",
       "      <td>0.754836</td>\n",
       "      <td>0.783351</td>\n",
       "      <td>634.976807</td>\n",
       "      <td>10.939618</td>\n",
       "    </tr>\n",
       "    <tr>\n",
       "      <th>5</th>\n",
       "      <td>{'n_layers': 10, 'n_units': 100}</td>\n",
       "      <td>0.752942</td>\n",
       "      <td>0.789567</td>\n",
       "      <td>1171.651166</td>\n",
       "      <td>13.892306</td>\n",
       "    </tr>\n",
       "    <tr>\n",
       "      <th>6</th>\n",
       "      <td>{'n_layers': 20, 'n_units': 10}</td>\n",
       "      <td>0.755067</td>\n",
       "      <td>0.787424</td>\n",
       "      <td>368.933678</td>\n",
       "      <td>11.045462</td>\n",
       "    </tr>\n",
       "    <tr>\n",
       "      <th>7</th>\n",
       "      <td>{'n_layers': 20, 'n_units': 50}</td>\n",
       "      <td>0.752658</td>\n",
       "      <td>0.785251</td>\n",
       "      <td>715.336238</td>\n",
       "      <td>9.960598</td>\n",
       "    </tr>\n",
       "    <tr>\n",
       "      <th>8</th>\n",
       "      <td>{'n_layers': 20, 'n_units': 100}</td>\n",
       "      <td>0.751551</td>\n",
       "      <td>0.797964</td>\n",
       "      <td>660.997908</td>\n",
       "      <td>4.714022</td>\n",
       "    </tr>\n",
       "  </tbody>\n",
       "</table>\n",
       "</div>"
      ],
      "text/plain": [
       "                             params  mean_test_score  mean_train_score  \\\n",
       "0    {'n_layers': 3, 'n_units': 10}         0.757969          0.782624   \n",
       "1    {'n_layers': 3, 'n_units': 50}         0.756164          0.783258   \n",
       "2   {'n_layers': 3, 'n_units': 100}         0.755289          0.786869   \n",
       "3   {'n_layers': 10, 'n_units': 10}         0.757462          0.782900   \n",
       "4   {'n_layers': 10, 'n_units': 50}         0.754836          0.783351   \n",
       "5  {'n_layers': 10, 'n_units': 100}         0.752942          0.789567   \n",
       "6   {'n_layers': 20, 'n_units': 10}         0.755067          0.787424   \n",
       "7   {'n_layers': 20, 'n_units': 50}         0.752658          0.785251   \n",
       "8  {'n_layers': 20, 'n_units': 100}         0.751551          0.797964   \n",
       "\n",
       "   mean_fit_time  mean_score_time  \n",
       "0     215.560837         8.241793  \n",
       "1     528.615562        10.128400  \n",
       "2     893.335330         9.991481  \n",
       "3     281.300412         9.691030  \n",
       "4     634.976807        10.939618  \n",
       "5    1171.651166        13.892306  \n",
       "6     368.933678        11.045462  \n",
       "7     715.336238         9.960598  \n",
       "8     660.997908         4.714022  "
      ]
     },
     "metadata": {},
     "output_type": "display_data"
    }
   ],
   "source": [
    "results = pd.DataFrame(grid.cv_results_)\n",
    "results = results[['params', 'mean_test_score', 'mean_train_score', 'mean_fit_time', 'mean_score_time']]\n",
    "display(results)"
   ]
  },
  {
   "cell_type": "code",
   "execution_count": 33,
   "metadata": {
    "ExecuteTime": {
     "end_time": "2021-11-13T03:29:31.799025Z",
     "start_time": "2021-11-13T03:29:31.488170Z"
    }
   },
   "outputs": [
    {
     "data": {
      "text/plain": [
       "Text(87.0, 0.5, 'n_units')"
      ]
     },
     "execution_count": 33,
     "metadata": {},
     "output_type": "execute_result"
    },
    {
     "data": {
      "image/png": "[encoded data removed]",
      "text/plain": [
       "<Figure size 864x720 with 2 Axes>"
      ]
     },
     "metadata": {
      "needs_background": "light"
     },
     "output_type": "display_data"
    }
   ],
   "source": [
    "score = np.array(results.mean_train_score).reshape(len(list(param_grid.values())[1]), len(list(param_grid.values())[0]))\n",
    "\n",
    "fig, ax = plt.subplots(figsize=(12, 10))\n",
    "sns.heatmap(score, xticklabels=list(param_grid.values())[0], yticklabels=list(param_grid.values())[1], \n",
    "            annot=True, fmt='.3f', square=True, cbar=True, cmap='YlOrRd')\n",
    "\n",
    "plt.xlabel(list(param_grid.keys())[0])\n",
    "plt.ylabel(list(param_grid.keys())[1])"
   ]
  },
  {
   "cell_type": "code",
   "execution_count": 34,
   "metadata": {
    "ExecuteTime": {
     "end_time": "2021-11-13T03:29:31.989042Z",
     "start_time": "2021-11-13T03:29:31.800981Z"
    }
   },
   "outputs": [
    {
     "data": {
      "text/plain": [
       "Text(87.0, 0.5, 'n_units')"
      ]
     },
     "execution_count": 34,
     "metadata": {},
     "output_type": "execute_result"
    },
    {
     "data": {
      "image/png": "[encoded data removed]",
      "text/plain": [
       "<Figure size 864x720 with 2 Axes>"
      ]
     },
     "metadata": {
      "needs_background": "light"
     },
     "output_type": "display_data"
    }
   ],
   "source": [
    "score = np.array(results.mean_test_score).reshape(len(list(param_grid.values())[1]), len(list(param_grid.values())[0]))\n",
    "\n",
    "fig, ax = plt.subplots(figsize=(12, 10))\n",
    "sns.heatmap(score, xticklabels=list(param_grid.values())[0], yticklabels=list(param_grid.values())[1], \n",
    "            annot=True, fmt='.3f', square=True, cbar=True, cmap='YlOrRd')\n",
    "\n",
    "plt.xlabel(list(param_grid.keys())[0])\n",
    "plt.ylabel(list(param_grid.keys())[1])"
   ]
  },
  {
   "cell_type": "code",
   "execution_count": 35,
   "metadata": {
    "ExecuteTime": {
     "end_time": "2021-11-13T03:29:32.005011Z",
     "start_time": "2021-11-13T03:29:31.991011Z"
    },
    "scrolled": true
   },
   "outputs": [
    {
     "name": "stdout",
     "output_type": "stream",
     "text": [
      "best hyperpameter : \n",
      "{'n_layers': 3, 'n_units': 10} \n",
      "\n",
      "best score : 0.758\n"
     ]
    }
   ],
   "source": [
    "print('best hyperpameter : \\n{}' .format(grid.best_params_), '\\n')\n",
    "print(\"best score : {:.3f}\".format(grid.best_score_))"
   ]
  }
 ],
 "metadata": {
  "hide_input": false,
  "kernelspec": {
   "display_name": "Python 3",
   "language": "python",
   "name": "python3"
  },
  "language_info": {
   "codemirror_mode": {
    "name": "ipython",
    "version": 3
   },
   "file_extension": ".py",
   "mimetype": "text/x-python",
   "name": "python",
   "nbconvert_exporter": "python",
   "pygments_lexer": "ipython3",
   "version": "3.7.1"
  },
  "toc": {
   "base_numbering": 1,
   "nav_menu": {},
   "number_sections": true,
   "sideBar": true,
   "skip_h1_title": false,
   "title_cell": "Table of Contents",
   "title_sidebar": "Contents",
   "toc_cell": false,
   "toc_position": {},
   "toc_section_display": true,
   "toc_window_display": true
  },
  "varInspector": {
   "cols": {
    "lenName": 16,
    "lenType": 16,
    "lenVar": 40
   },
   "kernels_config": {
    "python": {
     "delete_cmd_postfix": "",
     "delete_cmd_prefix": "del ",
     "library": "var_list.py",
     "varRefreshCmd": "print(var_dic_list())"
    },
    "r": {
     "delete_cmd_postfix": ") ",
     "delete_cmd_prefix": "rm(",
     "library": "var_list.r",
     "varRefreshCmd": "cat(var_dic_list()) "
    }
   },
   "types_to_exclude": [
    "module",
    "function",
    "builtin_function_or_method",
    "instance",
    "_Feature"
   ],
   "window_display": false
  }
 },
 "nbformat": 4,
 "nbformat_minor": 4
}

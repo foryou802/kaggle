{
 "cells": [
  {
   "cell_type": "code",
   "execution_count": 1,
   "metadata": {
    "ExecuteTime": {
     "end_time": "2021-11-06T08:49:21.010590Z",
     "start_time": "2021-11-06T08:49:18.227859Z"
    }
   },
   "outputs": [],
   "source": [
    "import numpy as np\n",
    "from scipy import stats\n",
    "import pandas as pd\n",
    "import matplotlib.pyplot as plt\n",
    "import seaborn as sns\n",
    "\n",
    "# sns.set()\n",
    "\n",
    "import os\n",
    "\n",
    "import warnings\n",
    "warnings.filterwarnings('ignore')"
   ]
  },
  {
   "cell_type": "code",
   "execution_count": 2,
   "metadata": {
    "ExecuteTime": {
     "end_time": "2021-11-06T08:49:24.025436Z",
     "start_time": "2021-11-06T08:49:21.014585Z"
    }
   },
   "outputs": [],
   "source": [
    "import joblib\n",
    "from sklearn.base import BaseEstimator, TransformerMixin\n",
    "from sklearn.impute import SimpleImputer\n",
    "from sklearn.preprocessing import StandardScaler, MinMaxScaler\n",
    "from sklearn.preprocessing import OneHotEncoder\n",
    "from sklearn.compose import ColumnTransformer, make_column_transformer\n",
    "from sklearn.pipeline import Pipeline, make_pipeline\n",
    "from sklearn.feature_selection import SelectPercentile, f_classif, f_regression, SelectFromModel, RFE\n",
    "from sklearn.model_selection import train_test_split\n",
    "from sklearn.model_selection import cross_val_score, cross_validate\n",
    "from sklearn.metrics import mean_squared_error\n",
    "from sklearn.model_selection import GridSearchCV, RandomizedSearchCV"
   ]
  },
  {
   "cell_type": "code",
   "execution_count": 3,
   "metadata": {
    "ExecuteTime": {
     "end_time": "2021-11-06T08:49:24.166727Z",
     "start_time": "2021-11-06T08:49:24.028435Z"
    }
   },
   "outputs": [],
   "source": [
    "from sklearn.neighbors import KNeighborsClassifier\n",
    "from sklearn.linear_model import LogisticRegression\n",
    "from sklearn.linear_model import SGDClassifier\n",
    "from sklearn.svm import LinearSVC, SVC\n",
    "from sklearn.tree import DecisionTreeClassifier\n",
    "from sklearn.ensemble import RandomForestClassifier\n",
    "from sklearn.ensemble import ExtraTreesClassifier\n",
    "from sklearn.ensemble import GradientBoostingClassifier\n",
    "from xgboost import XGBClassifier\n",
    "# from lightgbm import LGBMClassifier\n",
    "from sklearn.ensemble import AdaBoostClassifier\n",
    "from sklearn.neural_network import MLPClassifier"
   ]
  },
  {
   "cell_type": "markdown",
   "metadata": {},
   "source": [
    "# Data load"
   ]
  },
  {
   "cell_type": "code",
   "execution_count": 4,
   "metadata": {
    "ExecuteTime": {
     "end_time": "2021-11-06T08:49:26.796619Z",
     "start_time": "2021-11-06T08:49:24.170748Z"
    }
   },
   "outputs": [],
   "source": [
    "train = pd.read_csv('train.csv')\n",
    "test = pd.read_csv('test.csv')"
   ]
  },
  {
   "cell_type": "markdown",
   "metadata": {},
   "source": [
    "# Column 설정"
   ]
  },
  {
   "cell_type": "code",
   "execution_count": 5,
   "metadata": {
    "ExecuteTime": {
     "end_time": "2021-11-06T08:49:26.811761Z",
     "start_time": "2021-11-06T08:49:26.799571Z"
    }
   },
   "outputs": [],
   "source": [
    "target = 'target'"
   ]
  },
  {
   "cell_type": "code",
   "execution_count": 6,
   "metadata": {
    "ExecuteTime": {
     "end_time": "2021-11-06T08:49:26.827065Z",
     "start_time": "2021-11-06T08:49:26.814960Z"
    }
   },
   "outputs": [],
   "source": [
    "columns_useless = ['id']\n",
    "# columns_useless = columns_useless + ['nom_5', 'nom_6', 'nom_7', 'nom_8', 'nom_9', 'ord_5']"
   ]
  },
  {
   "cell_type": "code",
   "execution_count": 7,
   "metadata": {
    "ExecuteTime": {
     "end_time": "2021-11-06T08:49:26.842920Z",
     "start_time": "2021-11-06T08:49:26.829920Z"
    }
   },
   "outputs": [],
   "source": [
    "columns_num_all = joblib.load('columns_num.pkl')\n",
    "columns_cat_all = joblib.load('columns_cat.pkl')\n",
    "columns_binary_num = joblib.load('columns_binary_num.pkl')\n",
    "columns_binary_cat = joblib.load('columns_binary_cat.pkl')"
   ]
  },
  {
   "cell_type": "code",
   "execution_count": 8,
   "metadata": {
    "ExecuteTime": {
     "end_time": "2021-11-06T08:49:26.857881Z",
     "start_time": "2021-11-06T08:49:26.847197Z"
    }
   },
   "outputs": [],
   "source": [
    "try :\n",
    "    columns_num_all.remove(target)\n",
    "    \n",
    "except :\n",
    "    pass"
   ]
  },
  {
   "cell_type": "code",
   "execution_count": 9,
   "metadata": {
    "ExecuteTime": {
     "end_time": "2021-11-06T08:49:26.872840Z",
     "start_time": "2021-11-06T08:49:26.860835Z"
    }
   },
   "outputs": [],
   "source": [
    "try :\n",
    "    columns_cat_all.remove(target)\n",
    "    \n",
    "except :\n",
    "    pass"
   ]
  },
  {
   "cell_type": "code",
   "execution_count": 10,
   "metadata": {
    "ExecuteTime": {
     "end_time": "2021-11-06T08:49:26.887767Z",
     "start_time": "2021-11-06T08:49:26.874799Z"
    }
   },
   "outputs": [],
   "source": [
    "columns_num = []\n",
    "\n",
    "for column in columns_num_all :\n",
    "    \n",
    "    if column not in columns_useless :\n",
    "        columns_num.append(column)"
   ]
  },
  {
   "cell_type": "code",
   "execution_count": 11,
   "metadata": {
    "ExecuteTime": {
     "end_time": "2021-11-06T08:49:26.903492Z",
     "start_time": "2021-11-06T08:49:26.889760Z"
    }
   },
   "outputs": [],
   "source": [
    "columns_cat = []\n",
    "\n",
    "for column in columns_cat_all :\n",
    "    \n",
    "    if column not in columns_useless :\n",
    "        columns_cat.append(column)"
   ]
  },
  {
   "cell_type": "code",
   "execution_count": 12,
   "metadata": {
    "ExecuteTime": {
     "end_time": "2021-11-06T08:49:26.918784Z",
     "start_time": "2021-11-06T08:49:26.904719Z"
    }
   },
   "outputs": [
    {
     "data": {
      "text/plain": [
       "[]"
      ]
     },
     "execution_count": 12,
     "metadata": {},
     "output_type": "execute_result"
    }
   ],
   "source": [
    "columns_sc = []\n",
    "\n",
    "for column in columns_num :\n",
    "    \n",
    "    if column not in columns_binary_num:\n",
    "        columns_sc.append(column)\n",
    "        \n",
    "columns_sc"
   ]
  },
  {
   "cell_type": "code",
   "execution_count": 13,
   "metadata": {
    "ExecuteTime": {
     "end_time": "2021-11-06T08:49:26.934737Z",
     "start_time": "2021-11-06T08:49:26.920675Z"
    }
   },
   "outputs": [
    {
     "data": {
      "text/plain": [
       "['nom_0',\n",
       " 'nom_1',\n",
       " 'nom_2',\n",
       " 'nom_3',\n",
       " 'nom_4',\n",
       " 'nom_5',\n",
       " 'nom_6',\n",
       " 'nom_7',\n",
       " 'nom_8',\n",
       " 'nom_9',\n",
       " 'ord_1',\n",
       " 'ord_2',\n",
       " 'ord_3',\n",
       " 'ord_4',\n",
       " 'ord_5',\n",
       " 'ord_0',\n",
       " 'day',\n",
       " 'month']"
      ]
     },
     "execution_count": 13,
     "metadata": {},
     "output_type": "execute_result"
    }
   ],
   "source": [
    "columns_en = []\n",
    "\n",
    "for column in columns_cat :\n",
    "    \n",
    "    if (column not in columns_binary_num) and (column not in columns_binary_cat):\n",
    "        columns_en.append(column)\n",
    "        \n",
    "columns_en"
   ]
  },
  {
   "cell_type": "markdown",
   "metadata": {},
   "source": [
    "# Target 분리"
   ]
  },
  {
   "cell_type": "code",
   "execution_count": 14,
   "metadata": {
    "ExecuteTime": {
     "end_time": "2021-11-06T08:49:26.950830Z",
     "start_time": "2021-11-06T08:49:26.937633Z"
    }
   },
   "outputs": [],
   "source": [
    "# y = data[target]\n",
    "# X = data.drop(target, axis=1)"
   ]
  },
  {
   "cell_type": "code",
   "execution_count": 15,
   "metadata": {
    "ExecuteTime": {
     "end_time": "2021-11-06T08:49:27.076647Z",
     "start_time": "2021-11-06T08:49:26.953833Z"
    }
   },
   "outputs": [],
   "source": [
    "y_train = train[target]\n",
    "X_train = train.drop(target, axis=1)\n",
    "X_train_og = X_train.copy()"
   ]
  },
  {
   "cell_type": "code",
   "execution_count": 16,
   "metadata": {
    "ExecuteTime": {
     "end_time": "2021-11-06T08:49:27.108463Z",
     "start_time": "2021-11-06T08:49:27.080491Z"
    }
   },
   "outputs": [],
   "source": [
    "X_test = test.copy()"
   ]
  },
  {
   "cell_type": "markdown",
   "metadata": {},
   "source": [
    "# 전체 dataset concat"
   ]
  },
  {
   "cell_type": "code",
   "execution_count": 17,
   "metadata": {
    "ExecuteTime": {
     "end_time": "2021-11-06T08:49:27.375773Z",
     "start_time": "2021-11-06T08:49:27.112403Z"
    }
   },
   "outputs": [],
   "source": [
    "all_data = pd.concat([X_train, X_test])"
   ]
  },
  {
   "cell_type": "markdown",
   "metadata": {},
   "source": [
    "# Data preprocessing"
   ]
  },
  {
   "cell_type": "code",
   "execution_count": 18,
   "metadata": {
    "ExecuteTime": {
     "end_time": "2021-11-06T08:49:27.390985Z",
     "start_time": "2021-11-06T08:49:27.379377Z"
    }
   },
   "outputs": [],
   "source": [
    "def preprocessing(data, X_train_og, columns_useless, columns_sc, columns_binary_cat, columns_en) :\n",
    "    \n",
    "    # useless column 제거\n",
    "    data.drop(columns_useless, axis=1, inplace=True)\n",
    "    \n",
    "    # scaling\n",
    "#     scaler = StandardScaler()\n",
    "#     scaler.fit(X_train_og[columns_sc])\n",
    "#     data[columns_sc] = scaler.transform(data[columns_sc])\n",
    "\n",
    "    # binary data 처리\n",
    "    column = columns_binary_cat[0]\n",
    "    index_1 = data[data[column] == 'T'].index\n",
    "    index_0 = data[data[column] == 'F'].index\n",
    "    data.loc[index_1, column] = 1\n",
    "    data.loc[index_0, column] = 0\n",
    "    \n",
    "    column = columns_binary_cat[1]\n",
    "    index_1 = data[data[column] == 'Y'].index\n",
    "    index_0 = data[data[column] == 'N'].index\n",
    "    data.loc[index_1, column] = 1\n",
    "    data.loc[index_0, column] = 0\n",
    "    \n",
    "    data[columns_binary_cat] = data[columns_binary_cat].astype('int64')\n",
    "    \n",
    "    # One-hot-encoding\n",
    "#     data = pd.get_dummies(data, columns=columns_en)\n",
    "    encoder = OneHotEncoder()   # 고윳값을 많이 가진 feature가 있는 경우는 OneHotEncoder를 사용해야 함\n",
    "    data = encoder.fit_transform(data)\n",
    "    \n",
    "    return data"
   ]
  },
  {
   "cell_type": "code",
   "execution_count": 19,
   "metadata": {
    "ExecuteTime": {
     "end_time": "2021-11-06T08:49:33.474013Z",
     "start_time": "2021-11-06T08:49:27.395044Z"
    }
   },
   "outputs": [],
   "source": [
    "all_data = preprocessing(all_data, X_train_og, columns_useless, columns_sc, columns_binary_cat, columns_en)"
   ]
  },
  {
   "cell_type": "markdown",
   "metadata": {},
   "source": [
    "# Train & test set 분리"
   ]
  },
  {
   "cell_type": "code",
   "execution_count": 20,
   "metadata": {
    "ExecuteTime": {
     "end_time": "2021-11-06T08:49:33.646478Z",
     "start_time": "2021-11-06T08:49:33.476015Z"
    }
   },
   "outputs": [],
   "source": [
    "X_train = all_data[:len(train)]\n",
    "X_test = all_data[len(train):]"
   ]
  },
  {
   "cell_type": "markdown",
   "metadata": {},
   "source": [
    "# Grid search"
   ]
  },
  {
   "cell_type": "code",
   "execution_count": 21,
   "metadata": {
    "ExecuteTime": {
     "end_time": "2021-11-06T09:03:33.120292Z",
     "start_time": "2021-11-06T09:03:33.108102Z"
    }
   },
   "outputs": [],
   "source": [
    "logit = LogisticRegression(C=1.0, random_state=30)\n",
    "sgd = SGDClassifier(max_iter=1000, eta0=0.0, random_state=30)\n",
    "linsvm = LinearSVC(C=1.0, random_state=30)"
   ]
  },
  {
   "cell_type": "code",
   "execution_count": 22,
   "metadata": {
    "ExecuteTime": {
     "end_time": "2021-11-06T09:03:38.390091Z",
     "start_time": "2021-11-06T09:03:38.377286Z"
    }
   },
   "outputs": [],
   "source": [
    "pipe = Pipeline([\n",
    "    ('select', SelectPercentile(score_func=f_classif, percentile=30)),\n",
    "    ('model', logit)\n",
    "])"
   ]
  },
  {
   "cell_type": "code",
   "execution_count": 23,
   "metadata": {
    "ExecuteTime": {
     "end_time": "2021-11-06T09:14:51.229583Z",
     "start_time": "2021-11-06T09:14:51.220403Z"
    }
   },
   "outputs": [],
   "source": [
    "param_grid = {\n",
    "    'select__percentile' : [10, 30, 50, 70, 90],\n",
    "    'model': [logit, sgd, linsvm],\n",
    "}"
   ]
  },
  {
   "cell_type": "code",
   "execution_count": 24,
   "metadata": {
    "ExecuteTime": {
     "end_time": "2021-11-06T09:35:47.156631Z",
     "start_time": "2021-11-06T09:16:16.313267Z"
    }
   },
   "outputs": [
    {
     "data": {
      "text/plain": [
       "GridSearchCV(cv=5,\n",
       "             estimator=Pipeline(steps=[('select',\n",
       "                                        SelectPercentile(percentile=30)),\n",
       "                                       ('model',\n",
       "                                        LogisticRegression(random_state=30))]),\n",
       "             param_grid={'model': [LogisticRegression(random_state=30),\n",
       "                                   SGDClassifier(random_state=30),\n",
       "                                   LinearSVC(random_state=30)],\n",
       "                         'select__percentile': [10, 20, 30, 40]},\n",
       "             return_train_score=True)"
      ]
     },
     "execution_count": 24,
     "metadata": {},
     "output_type": "execute_result"
    }
   ],
   "source": [
    "grid = GridSearchCV(pipe, param_grid, cv=5, return_train_score=True)\n",
    "grid.fit(X_train, y_train)"
   ]
  },
  {
   "cell_type": "code",
   "execution_count": 65,
   "metadata": {
    "ExecuteTime": {
     "end_time": "2021-11-06T10:26:14.876797Z",
     "start_time": "2021-11-06T10:26:14.834723Z"
    }
   },
   "outputs": [
    {
     "data": {
      "text/html": [
       "<div>\n",
       "<style scoped>\n",
       "    .dataframe tbody tr th:only-of-type {\n",
       "        vertical-align: middle;\n",
       "    }\n",
       "\n",
       "    .dataframe tbody tr th {\n",
       "        vertical-align: top;\n",
       "    }\n",
       "\n",
       "    .dataframe thead th {\n",
       "        text-align: right;\n",
       "    }\n",
       "</style>\n",
       "<table border=\"1\" class=\"dataframe\">\n",
       "  <thead>\n",
       "    <tr style=\"text-align: right;\">\n",
       "      <th></th>\n",
       "      <th>params</th>\n",
       "      <th>mean_test_score</th>\n",
       "      <th>mean_train_score</th>\n",
       "      <th>mean_fit_time</th>\n",
       "      <th>mean_score_time</th>\n",
       "    </tr>\n",
       "  </thead>\n",
       "  <tbody>\n",
       "    <tr>\n",
       "      <th>0</th>\n",
       "      <td>{'model': LogisticRegression(random_state=30),...</td>\n",
       "      <td>0.757000</td>\n",
       "      <td>0.767033</td>\n",
       "      <td>4.538071</td>\n",
       "      <td>0.030112</td>\n",
       "    </tr>\n",
       "    <tr>\n",
       "      <th>1</th>\n",
       "      <td>{'model': LogisticRegression(random_state=30),...</td>\n",
       "      <td>0.758017</td>\n",
       "      <td>0.773922</td>\n",
       "      <td>4.527828</td>\n",
       "      <td>0.027127</td>\n",
       "    </tr>\n",
       "    <tr>\n",
       "      <th>2</th>\n",
       "      <td>{'model': LogisticRegression(random_state=30),...</td>\n",
       "      <td>0.759163</td>\n",
       "      <td>0.777348</td>\n",
       "      <td>5.010155</td>\n",
       "      <td>0.026896</td>\n",
       "    </tr>\n",
       "    <tr>\n",
       "      <th>3</th>\n",
       "      <td>{'model': LogisticRegression(random_state=30),...</td>\n",
       "      <td>0.759937</td>\n",
       "      <td>0.779455</td>\n",
       "      <td>5.384153</td>\n",
       "      <td>0.031316</td>\n",
       "    </tr>\n",
       "    <tr>\n",
       "      <th>4</th>\n",
       "      <td>{'model': SGDClassifier(random_state=30), 'sel...</td>\n",
       "      <td>0.756907</td>\n",
       "      <td>0.763693</td>\n",
       "      <td>1.898443</td>\n",
       "      <td>0.029509</td>\n",
       "    </tr>\n",
       "    <tr>\n",
       "      <th>5</th>\n",
       "      <td>{'model': SGDClassifier(random_state=30), 'sel...</td>\n",
       "      <td>0.758303</td>\n",
       "      <td>0.768264</td>\n",
       "      <td>1.933079</td>\n",
       "      <td>0.028922</td>\n",
       "    </tr>\n",
       "    <tr>\n",
       "      <th>6</th>\n",
       "      <td>{'model': SGDClassifier(random_state=30), 'sel...</td>\n",
       "      <td>0.759843</td>\n",
       "      <td>0.771549</td>\n",
       "      <td>2.065718</td>\n",
       "      <td>0.033298</td>\n",
       "    </tr>\n",
       "    <tr>\n",
       "      <th>7</th>\n",
       "      <td>{'model': SGDClassifier(random_state=30), 'sel...</td>\n",
       "      <td>0.760260</td>\n",
       "      <td>0.772777</td>\n",
       "      <td>1.959903</td>\n",
       "      <td>0.028324</td>\n",
       "    </tr>\n",
       "    <tr>\n",
       "      <th>8</th>\n",
       "      <td>{'model': LinearSVC(random_state=30), 'select_...</td>\n",
       "      <td>0.755660</td>\n",
       "      <td>0.768438</td>\n",
       "      <td>51.084766</td>\n",
       "      <td>0.030575</td>\n",
       "    </tr>\n",
       "    <tr>\n",
       "      <th>9</th>\n",
       "      <td>{'model': LinearSVC(random_state=30), 'select_...</td>\n",
       "      <td>0.755733</td>\n",
       "      <td>0.776740</td>\n",
       "      <td>50.315675</td>\n",
       "      <td>0.031026</td>\n",
       "    </tr>\n",
       "    <tr>\n",
       "      <th>10</th>\n",
       "      <td>{'model': LinearSVC(random_state=30), 'select_...</td>\n",
       "      <td>0.755420</td>\n",
       "      <td>0.781758</td>\n",
       "      <td>51.673333</td>\n",
       "      <td>0.029490</td>\n",
       "    </tr>\n",
       "    <tr>\n",
       "      <th>11</th>\n",
       "      <td>{'model': LinearSVC(random_state=30), 'select_...</td>\n",
       "      <td>0.755020</td>\n",
       "      <td>0.785266</td>\n",
       "      <td>51.532412</td>\n",
       "      <td>0.027526</td>\n",
       "    </tr>\n",
       "  </tbody>\n",
       "</table>\n",
       "</div>"
      ],
      "text/plain": [
       "                                               params  mean_test_score  \\\n",
       "0   {'model': LogisticRegression(random_state=30),...         0.757000   \n",
       "1   {'model': LogisticRegression(random_state=30),...         0.758017   \n",
       "2   {'model': LogisticRegression(random_state=30),...         0.759163   \n",
       "3   {'model': LogisticRegression(random_state=30),...         0.759937   \n",
       "4   {'model': SGDClassifier(random_state=30), 'sel...         0.756907   \n",
       "5   {'model': SGDClassifier(random_state=30), 'sel...         0.758303   \n",
       "6   {'model': SGDClassifier(random_state=30), 'sel...         0.759843   \n",
       "7   {'model': SGDClassifier(random_state=30), 'sel...         0.760260   \n",
       "8   {'model': LinearSVC(random_state=30), 'select_...         0.755660   \n",
       "9   {'model': LinearSVC(random_state=30), 'select_...         0.755733   \n",
       "10  {'model': LinearSVC(random_state=30), 'select_...         0.755420   \n",
       "11  {'model': LinearSVC(random_state=30), 'select_...         0.755020   \n",
       "\n",
       "    mean_train_score  mean_fit_time  mean_score_time  \n",
       "0           0.767033       4.538071         0.030112  \n",
       "1           0.773922       4.527828         0.027127  \n",
       "2           0.777348       5.010155         0.026896  \n",
       "3           0.779455       5.384153         0.031316  \n",
       "4           0.763693       1.898443         0.029509  \n",
       "5           0.768264       1.933079         0.028922  \n",
       "6           0.771549       2.065718         0.033298  \n",
       "7           0.772777       1.959903         0.028324  \n",
       "8           0.768438      51.084766         0.030575  \n",
       "9           0.776740      50.315675         0.031026  \n",
       "10          0.781758      51.673333         0.029490  \n",
       "11          0.785266      51.532412         0.027526  "
      ]
     },
     "metadata": {},
     "output_type": "display_data"
    }
   ],
   "source": [
    "results = pd.DataFrame(grid.cv_results_)\n",
    "results = results[['params', 'mean_test_score', 'mean_train_score', 'mean_fit_time', 'mean_score_time']]\n",
    "display(results)"
   ]
  },
  {
   "cell_type": "code",
   "execution_count": 66,
   "metadata": {
    "ExecuteTime": {
     "end_time": "2021-11-06T10:31:19.410250Z",
     "start_time": "2021-11-06T10:31:19.011993Z"
    }
   },
   "outputs": [
    {
     "data": {
      "text/plain": [
       "Text(86.09374999999999, 0.5, 'model')"
      ]
     },
     "execution_count": 66,
     "metadata": {},
     "output_type": "execute_result"
    },
    {
     "data": {
      "image/png": "[encoded data removed]",
      "text/plain": [
       "<Figure size 864x720 with 2 Axes>"
      ]
     },
     "metadata": {
      "needs_background": "light"
     },
     "output_type": "display_data"
    }
   ],
   "source": [
    "score = np.array(results.mean_train_score).reshape(len(list(param_grid.values())[1]), len(list(param_grid.values())[0]))\n",
    "\n",
    "fig, ax = plt.subplots(figsize=(12, 10))\n",
    "sns.heatmap(score, xticklabels=list(param_grid.values())[0], yticklabels=list(param_grid.values())[1], \n",
    "            annot=True, fmt='.3f', square=True, cbar=True, cmap='YlOrRd')\n",
    "\n",
    "plt.xlabel(list(param_grid.keys())[0])\n",
    "plt.ylabel(list(param_grid.keys())[1])"
   ]
  },
  {
   "cell_type": "code",
   "execution_count": 67,
   "metadata": {
    "ExecuteTime": {
     "end_time": "2021-11-06T10:31:42.314768Z",
     "start_time": "2021-11-06T10:31:41.863951Z"
    }
   },
   "outputs": [
    {
     "data": {
      "text/plain": [
       "Text(86.09374999999999, 0.5, 'model')"
      ]
     },
     "execution_count": 67,
     "metadata": {},
     "output_type": "execute_result"
    },
    {
     "data": {
      "image/png": "[encoded data removed]",
      "text/plain": [
       "<Figure size 864x720 with 2 Axes>"
      ]
     },
     "metadata": {
      "needs_background": "light"
     },
     "output_type": "display_data"
    }
   ],
   "source": [
    "score = np.array(results.mean_test_score).reshape(len(list(param_grid.values())[1]), len(list(param_grid.values())[0]))\n",
    "\n",
    "fig, ax = plt.subplots(figsize=(12, 10))\n",
    "sns.heatmap(score, xticklabels=list(param_grid.values())[0], yticklabels=list(param_grid.values())[1], \n",
    "            annot=True, fmt='.3f', square=True, cbar=True, cmap='YlOrRd')\n",
    "\n",
    "plt.xlabel(list(param_grid.keys())[0])\n",
    "plt.ylabel(list(param_grid.keys())[1])"
   ]
  },
  {
   "cell_type": "code",
   "execution_count": 25,
   "metadata": {
    "ExecuteTime": {
     "end_time": "2021-11-06T09:35:51.900179Z",
     "start_time": "2021-11-06T09:35:51.887063Z"
    },
    "scrolled": true
   },
   "outputs": [
    {
     "name": "stdout",
     "output_type": "stream",
     "text": [
      "best hyperpameter : \n",
      "{'model': SGDClassifier(random_state=30), 'select__percentile': 40} \n",
      "\n",
      "best score : 0.76\n"
     ]
    }
   ],
   "source": [
    "print('best hyperpameter : \\n{}' .format(grid.best_params_), '\\n')\n",
    "print(\"best score : {:.3f}\".format(grid.best_score_))"
   ]
  }
 ],
 "metadata": {
  "hide_input": false,
  "kernelspec": {
   "display_name": "Python 3",
   "language": "python",
   "name": "python3"
  },
  "language_info": {
   "codemirror_mode": {
    "name": "ipython",
    "version": 3
   },
   "file_extension": ".py",
   "mimetype": "text/x-python",
   "name": "python",
   "nbconvert_exporter": "python",
   "pygments_lexer": "ipython3",
   "version": "3.7.1"
  },
  "toc": {
   "base_numbering": 1,
   "nav_menu": {},
   "number_sections": true,
   "sideBar": true,
   "skip_h1_title": false,
   "title_cell": "Table of Contents",
   "title_sidebar": "Contents",
   "toc_cell": false,
   "toc_position": {
    "height": "calc(100% - 180px)",
    "left": "10px",
    "top": "150px",
    "width": "303.837px"
   },
   "toc_section_display": true,
   "toc_window_display": true
  },
  "varInspector": {
   "cols": {
    "lenName": 16,
    "lenType": 16,
    "lenVar": 40
   },
   "kernels_config": {
    "python": {
     "delete_cmd_postfix": "",
     "delete_cmd_prefix": "del ",
     "library": "var_list.py",
     "varRefreshCmd": "print(var_dic_list())"
    },
    "r": {
     "delete_cmd_postfix": ") ",
     "delete_cmd_prefix": "rm(",
     "library": "var_list.r",
     "varRefreshCmd": "cat(var_dic_list()) "
    }
   },
   "types_to_exclude": [
    "module",
    "function",
    "builtin_function_or_method",
    "instance",
    "_Feature"
   ],
   "window_display": false
  }
 },
 "nbformat": 4,
 "nbformat_minor": 4
}

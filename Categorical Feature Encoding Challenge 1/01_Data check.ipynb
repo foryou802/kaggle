{
 "cells": [
  {
   "cell_type": "code",
   "execution_count": 1,
   "metadata": {
    "ExecuteTime": {
     "end_time": "2022-06-12T01:29:36.558671Z",
     "start_time": "2022-06-12T01:29:34.169552Z"
    }
   },
   "outputs": [],
   "source": [
    "import numpy as np\n",
    "from scipy import stats\n",
    "import pandas as pd\n",
    "import matplotlib.pyplot as plt\n",
    "import seaborn as sns\n",
    "\n",
    "sns.set()\n",
    "\n",
    "import os\n",
    "\n",
    "import warnings\n",
    "warnings.filterwarnings('ignore')"
   ]
  },
  {
   "cell_type": "code",
   "execution_count": 2,
   "metadata": {
    "ExecuteTime": {
     "end_time": "2022-06-12T01:29:36.573866Z",
     "start_time": "2022-06-12T01:29:36.561308Z"
    }
   },
   "outputs": [],
   "source": [
    "import platform, matplotlib\n",
    "from matplotlib import rc\n",
    "\n",
    "# '-' 기호 제대로 보이기\n",
    "matplotlib.rcParams['axes.unicode_minus'] = False\n",
    "\n",
    "# 윈도우\n",
    "if platform.system() == 'Windows':\n",
    "    rc('font', family=\"Malgun Gothic\")\n",
    "# 맥\n",
    "elif platform.system() == 'Darwin':\n",
    "    rc('font', family='AppleGothic')\n",
    "# 리눅스\n",
    "elif platform.system() == 'Linux':\n",
    "    rc('font', family='NanumBarunGothic')"
   ]
  },
  {
   "cell_type": "code",
   "execution_count": 3,
   "metadata": {
    "ExecuteTime": {
     "end_time": "2022-06-12T01:29:36.776476Z",
     "start_time": "2022-06-12T01:29:36.580047Z"
    }
   },
   "outputs": [],
   "source": [
    "import joblib"
   ]
  },
  {
   "cell_type": "code",
   "execution_count": 4,
   "metadata": {
    "ExecuteTime": {
     "end_time": "2022-06-12T01:29:36.854258Z",
     "start_time": "2022-06-12T01:29:36.780314Z"
    }
   },
   "outputs": [],
   "source": [
    "import math\n",
    "import re\n",
    "from wordcloud import WordCloud"
   ]
  },
  {
   "cell_type": "markdown",
   "metadata": {},
   "source": [
    "# Data check"
   ]
  },
  {
   "cell_type": "markdown",
   "metadata": {},
   "source": [
    "## Shape"
   ]
  },
  {
   "cell_type": "code",
   "execution_count": 5,
   "metadata": {
    "ExecuteTime": {
     "end_time": "2022-06-12T01:29:38.780461Z",
     "start_time": "2022-06-12T01:29:36.856253Z"
    },
    "scrolled": true
   },
   "outputs": [
    {
     "name": "stdout",
     "output_type": "stream",
     "text": [
      "(300000, 25)\n",
      "(200000, 24)\n"
     ]
    }
   ],
   "source": [
    "train = pd.read_csv('train.csv')\n",
    "test = pd.read_csv('test.csv')\n",
    "\n",
    "print(train.shape)\n",
    "print(test.shape)"
   ]
  },
  {
   "cell_type": "code",
   "execution_count": 6,
   "metadata": {
    "ExecuteTime": {
     "end_time": "2022-06-12T01:29:38.843813Z",
     "start_time": "2022-06-12T01:29:38.784125Z"
    }
   },
   "outputs": [
    {
     "data": {
      "text/html": [
       "<div>\n",
       "<style scoped>\n",
       "    .dataframe tbody tr th:only-of-type {\n",
       "        vertical-align: middle;\n",
       "    }\n",
       "\n",
       "    .dataframe tbody tr th {\n",
       "        vertical-align: top;\n",
       "    }\n",
       "\n",
       "    .dataframe thead th {\n",
       "        text-align: right;\n",
       "    }\n",
       "</style>\n",
       "<table border=\"1\" class=\"dataframe\">\n",
       "  <thead>\n",
       "    <tr style=\"text-align: right;\">\n",
       "      <th></th>\n",
       "      <th>id</th>\n",
       "      <th>bin_0</th>\n",
       "      <th>bin_1</th>\n",
       "      <th>bin_2</th>\n",
       "      <th>bin_3</th>\n",
       "      <th>bin_4</th>\n",
       "      <th>nom_0</th>\n",
       "      <th>nom_1</th>\n",
       "      <th>nom_2</th>\n",
       "      <th>nom_3</th>\n",
       "      <th>...</th>\n",
       "      <th>nom_9</th>\n",
       "      <th>ord_0</th>\n",
       "      <th>ord_1</th>\n",
       "      <th>ord_2</th>\n",
       "      <th>ord_3</th>\n",
       "      <th>ord_4</th>\n",
       "      <th>ord_5</th>\n",
       "      <th>day</th>\n",
       "      <th>month</th>\n",
       "      <th>target</th>\n",
       "    </tr>\n",
       "  </thead>\n",
       "  <tbody>\n",
       "    <tr>\n",
       "      <th>0</th>\n",
       "      <td>0</td>\n",
       "      <td>0</td>\n",
       "      <td>0</td>\n",
       "      <td>0</td>\n",
       "      <td>T</td>\n",
       "      <td>Y</td>\n",
       "      <td>Green</td>\n",
       "      <td>Triangle</td>\n",
       "      <td>Snake</td>\n",
       "      <td>Finland</td>\n",
       "      <td>...</td>\n",
       "      <td>2f4cb3d51</td>\n",
       "      <td>2</td>\n",
       "      <td>Grandmaster</td>\n",
       "      <td>Cold</td>\n",
       "      <td>h</td>\n",
       "      <td>D</td>\n",
       "      <td>kr</td>\n",
       "      <td>2</td>\n",
       "      <td>2</td>\n",
       "      <td>0</td>\n",
       "    </tr>\n",
       "    <tr>\n",
       "      <th>1</th>\n",
       "      <td>1</td>\n",
       "      <td>0</td>\n",
       "      <td>1</td>\n",
       "      <td>0</td>\n",
       "      <td>T</td>\n",
       "      <td>Y</td>\n",
       "      <td>Green</td>\n",
       "      <td>Trapezoid</td>\n",
       "      <td>Hamster</td>\n",
       "      <td>Russia</td>\n",
       "      <td>...</td>\n",
       "      <td>f83c56c21</td>\n",
       "      <td>1</td>\n",
       "      <td>Grandmaster</td>\n",
       "      <td>Hot</td>\n",
       "      <td>a</td>\n",
       "      <td>A</td>\n",
       "      <td>bF</td>\n",
       "      <td>7</td>\n",
       "      <td>8</td>\n",
       "      <td>0</td>\n",
       "    </tr>\n",
       "    <tr>\n",
       "      <th>2</th>\n",
       "      <td>2</td>\n",
       "      <td>0</td>\n",
       "      <td>0</td>\n",
       "      <td>0</td>\n",
       "      <td>F</td>\n",
       "      <td>Y</td>\n",
       "      <td>Blue</td>\n",
       "      <td>Trapezoid</td>\n",
       "      <td>Lion</td>\n",
       "      <td>Russia</td>\n",
       "      <td>...</td>\n",
       "      <td>ae6800dd0</td>\n",
       "      <td>1</td>\n",
       "      <td>Expert</td>\n",
       "      <td>Lava Hot</td>\n",
       "      <td>h</td>\n",
       "      <td>R</td>\n",
       "      <td>Jc</td>\n",
       "      <td>7</td>\n",
       "      <td>2</td>\n",
       "      <td>0</td>\n",
       "    </tr>\n",
       "    <tr>\n",
       "      <th>3</th>\n",
       "      <td>3</td>\n",
       "      <td>0</td>\n",
       "      <td>1</td>\n",
       "      <td>0</td>\n",
       "      <td>F</td>\n",
       "      <td>Y</td>\n",
       "      <td>Red</td>\n",
       "      <td>Trapezoid</td>\n",
       "      <td>Snake</td>\n",
       "      <td>Canada</td>\n",
       "      <td>...</td>\n",
       "      <td>8270f0d71</td>\n",
       "      <td>1</td>\n",
       "      <td>Grandmaster</td>\n",
       "      <td>Boiling Hot</td>\n",
       "      <td>i</td>\n",
       "      <td>D</td>\n",
       "      <td>kW</td>\n",
       "      <td>2</td>\n",
       "      <td>1</td>\n",
       "      <td>1</td>\n",
       "    </tr>\n",
       "    <tr>\n",
       "      <th>4</th>\n",
       "      <td>4</td>\n",
       "      <td>0</td>\n",
       "      <td>0</td>\n",
       "      <td>0</td>\n",
       "      <td>F</td>\n",
       "      <td>N</td>\n",
       "      <td>Red</td>\n",
       "      <td>Trapezoid</td>\n",
       "      <td>Lion</td>\n",
       "      <td>Canada</td>\n",
       "      <td>...</td>\n",
       "      <td>b164b72a7</td>\n",
       "      <td>1</td>\n",
       "      <td>Grandmaster</td>\n",
       "      <td>Freezing</td>\n",
       "      <td>a</td>\n",
       "      <td>R</td>\n",
       "      <td>qP</td>\n",
       "      <td>7</td>\n",
       "      <td>8</td>\n",
       "      <td>0</td>\n",
       "    </tr>\n",
       "  </tbody>\n",
       "</table>\n",
       "<p>5 rows × 25 columns</p>\n",
       "</div>"
      ],
      "text/plain": [
       "   id  bin_0  bin_1  bin_2 bin_3 bin_4  nom_0      nom_1    nom_2    nom_3  \\\n",
       "0   0      0      0      0     T     Y  Green   Triangle    Snake  Finland   \n",
       "1   1      0      1      0     T     Y  Green  Trapezoid  Hamster   Russia   \n",
       "2   2      0      0      0     F     Y   Blue  Trapezoid     Lion   Russia   \n",
       "3   3      0      1      0     F     Y    Red  Trapezoid    Snake   Canada   \n",
       "4   4      0      0      0     F     N    Red  Trapezoid     Lion   Canada   \n",
       "\n",
       "   ...      nom_9 ord_0        ord_1        ord_2 ord_3 ord_4  ord_5 day  \\\n",
       "0  ...  2f4cb3d51     2  Grandmaster         Cold     h     D     kr   2   \n",
       "1  ...  f83c56c21     1  Grandmaster          Hot     a     A     bF   7   \n",
       "2  ...  ae6800dd0     1       Expert     Lava Hot     h     R     Jc   7   \n",
       "3  ...  8270f0d71     1  Grandmaster  Boiling Hot     i     D     kW   2   \n",
       "4  ...  b164b72a7     1  Grandmaster     Freezing     a     R     qP   7   \n",
       "\n",
       "  month target  \n",
       "0     2      0  \n",
       "1     8      0  \n",
       "2     2      0  \n",
       "3     1      1  \n",
       "4     8      0  \n",
       "\n",
       "[5 rows x 25 columns]"
      ]
     },
     "execution_count": 6,
     "metadata": {},
     "output_type": "execute_result"
    }
   ],
   "source": [
    "train.head()"
   ]
  },
  {
   "cell_type": "code",
   "execution_count": 7,
   "metadata": {
    "ExecuteTime": {
     "end_time": "2022-06-12T01:29:38.891862Z",
     "start_time": "2022-06-12T01:29:38.847701Z"
    }
   },
   "outputs": [
    {
     "data": {
      "text/html": [
       "<div>\n",
       "<style scoped>\n",
       "    .dataframe tbody tr th:only-of-type {\n",
       "        vertical-align: middle;\n",
       "    }\n",
       "\n",
       "    .dataframe tbody tr th {\n",
       "        vertical-align: top;\n",
       "    }\n",
       "\n",
       "    .dataframe thead th {\n",
       "        text-align: right;\n",
       "    }\n",
       "</style>\n",
       "<table border=\"1\" class=\"dataframe\">\n",
       "  <thead>\n",
       "    <tr style=\"text-align: right;\">\n",
       "      <th></th>\n",
       "      <th>0</th>\n",
       "      <th>1</th>\n",
       "      <th>2</th>\n",
       "      <th>3</th>\n",
       "      <th>4</th>\n",
       "    </tr>\n",
       "  </thead>\n",
       "  <tbody>\n",
       "    <tr>\n",
       "      <th>id</th>\n",
       "      <td>0</td>\n",
       "      <td>1</td>\n",
       "      <td>2</td>\n",
       "      <td>3</td>\n",
       "      <td>4</td>\n",
       "    </tr>\n",
       "    <tr>\n",
       "      <th>bin_0</th>\n",
       "      <td>0</td>\n",
       "      <td>0</td>\n",
       "      <td>0</td>\n",
       "      <td>0</td>\n",
       "      <td>0</td>\n",
       "    </tr>\n",
       "    <tr>\n",
       "      <th>bin_1</th>\n",
       "      <td>0</td>\n",
       "      <td>1</td>\n",
       "      <td>0</td>\n",
       "      <td>1</td>\n",
       "      <td>0</td>\n",
       "    </tr>\n",
       "    <tr>\n",
       "      <th>bin_2</th>\n",
       "      <td>0</td>\n",
       "      <td>0</td>\n",
       "      <td>0</td>\n",
       "      <td>0</td>\n",
       "      <td>0</td>\n",
       "    </tr>\n",
       "    <tr>\n",
       "      <th>bin_3</th>\n",
       "      <td>T</td>\n",
       "      <td>T</td>\n",
       "      <td>F</td>\n",
       "      <td>F</td>\n",
       "      <td>F</td>\n",
       "    </tr>\n",
       "    <tr>\n",
       "      <th>bin_4</th>\n",
       "      <td>Y</td>\n",
       "      <td>Y</td>\n",
       "      <td>Y</td>\n",
       "      <td>Y</td>\n",
       "      <td>N</td>\n",
       "    </tr>\n",
       "    <tr>\n",
       "      <th>nom_0</th>\n",
       "      <td>Green</td>\n",
       "      <td>Green</td>\n",
       "      <td>Blue</td>\n",
       "      <td>Red</td>\n",
       "      <td>Red</td>\n",
       "    </tr>\n",
       "    <tr>\n",
       "      <th>nom_1</th>\n",
       "      <td>Triangle</td>\n",
       "      <td>Trapezoid</td>\n",
       "      <td>Trapezoid</td>\n",
       "      <td>Trapezoid</td>\n",
       "      <td>Trapezoid</td>\n",
       "    </tr>\n",
       "    <tr>\n",
       "      <th>nom_2</th>\n",
       "      <td>Snake</td>\n",
       "      <td>Hamster</td>\n",
       "      <td>Lion</td>\n",
       "      <td>Snake</td>\n",
       "      <td>Lion</td>\n",
       "    </tr>\n",
       "    <tr>\n",
       "      <th>nom_3</th>\n",
       "      <td>Finland</td>\n",
       "      <td>Russia</td>\n",
       "      <td>Russia</td>\n",
       "      <td>Canada</td>\n",
       "      <td>Canada</td>\n",
       "    </tr>\n",
       "    <tr>\n",
       "      <th>nom_4</th>\n",
       "      <td>Bassoon</td>\n",
       "      <td>Piano</td>\n",
       "      <td>Theremin</td>\n",
       "      <td>Oboe</td>\n",
       "      <td>Oboe</td>\n",
       "    </tr>\n",
       "    <tr>\n",
       "      <th>nom_5</th>\n",
       "      <td>50f116bcf</td>\n",
       "      <td>b3b4d25d0</td>\n",
       "      <td>3263bdce5</td>\n",
       "      <td>f12246592</td>\n",
       "      <td>5b0f5acd5</td>\n",
       "    </tr>\n",
       "    <tr>\n",
       "      <th>nom_6</th>\n",
       "      <td>3ac1b8814</td>\n",
       "      <td>fbcb50fc1</td>\n",
       "      <td>0922e3cb8</td>\n",
       "      <td>50d7ad46a</td>\n",
       "      <td>1fe17a1fd</td>\n",
       "    </tr>\n",
       "    <tr>\n",
       "      <th>nom_7</th>\n",
       "      <td>68f6ad3e9</td>\n",
       "      <td>3b6dd5612</td>\n",
       "      <td>a6a36f527</td>\n",
       "      <td>ec69236eb</td>\n",
       "      <td>04ddac2be</td>\n",
       "    </tr>\n",
       "    <tr>\n",
       "      <th>nom_8</th>\n",
       "      <td>c389000ab</td>\n",
       "      <td>4cd920251</td>\n",
       "      <td>de9c9f684</td>\n",
       "      <td>4ade6ab69</td>\n",
       "      <td>cb43ab175</td>\n",
       "    </tr>\n",
       "    <tr>\n",
       "      <th>nom_9</th>\n",
       "      <td>2f4cb3d51</td>\n",
       "      <td>f83c56c21</td>\n",
       "      <td>ae6800dd0</td>\n",
       "      <td>8270f0d71</td>\n",
       "      <td>b164b72a7</td>\n",
       "    </tr>\n",
       "    <tr>\n",
       "      <th>ord_0</th>\n",
       "      <td>2</td>\n",
       "      <td>1</td>\n",
       "      <td>1</td>\n",
       "      <td>1</td>\n",
       "      <td>1</td>\n",
       "    </tr>\n",
       "    <tr>\n",
       "      <th>ord_1</th>\n",
       "      <td>Grandmaster</td>\n",
       "      <td>Grandmaster</td>\n",
       "      <td>Expert</td>\n",
       "      <td>Grandmaster</td>\n",
       "      <td>Grandmaster</td>\n",
       "    </tr>\n",
       "    <tr>\n",
       "      <th>ord_2</th>\n",
       "      <td>Cold</td>\n",
       "      <td>Hot</td>\n",
       "      <td>Lava Hot</td>\n",
       "      <td>Boiling Hot</td>\n",
       "      <td>Freezing</td>\n",
       "    </tr>\n",
       "    <tr>\n",
       "      <th>ord_3</th>\n",
       "      <td>h</td>\n",
       "      <td>a</td>\n",
       "      <td>h</td>\n",
       "      <td>i</td>\n",
       "      <td>a</td>\n",
       "    </tr>\n",
       "    <tr>\n",
       "      <th>ord_4</th>\n",
       "      <td>D</td>\n",
       "      <td>A</td>\n",
       "      <td>R</td>\n",
       "      <td>D</td>\n",
       "      <td>R</td>\n",
       "    </tr>\n",
       "    <tr>\n",
       "      <th>ord_5</th>\n",
       "      <td>kr</td>\n",
       "      <td>bF</td>\n",
       "      <td>Jc</td>\n",
       "      <td>kW</td>\n",
       "      <td>qP</td>\n",
       "    </tr>\n",
       "    <tr>\n",
       "      <th>day</th>\n",
       "      <td>2</td>\n",
       "      <td>7</td>\n",
       "      <td>7</td>\n",
       "      <td>2</td>\n",
       "      <td>7</td>\n",
       "    </tr>\n",
       "    <tr>\n",
       "      <th>month</th>\n",
       "      <td>2</td>\n",
       "      <td>8</td>\n",
       "      <td>2</td>\n",
       "      <td>1</td>\n",
       "      <td>8</td>\n",
       "    </tr>\n",
       "    <tr>\n",
       "      <th>target</th>\n",
       "      <td>0</td>\n",
       "      <td>0</td>\n",
       "      <td>0</td>\n",
       "      <td>1</td>\n",
       "      <td>0</td>\n",
       "    </tr>\n",
       "  </tbody>\n",
       "</table>\n",
       "</div>"
      ],
      "text/plain": [
       "                  0            1          2            3            4\n",
       "id                0            1          2            3            4\n",
       "bin_0             0            0          0            0            0\n",
       "bin_1             0            1          0            1            0\n",
       "bin_2             0            0          0            0            0\n",
       "bin_3             T            T          F            F            F\n",
       "bin_4             Y            Y          Y            Y            N\n",
       "nom_0         Green        Green       Blue          Red          Red\n",
       "nom_1      Triangle    Trapezoid  Trapezoid    Trapezoid    Trapezoid\n",
       "nom_2         Snake      Hamster       Lion        Snake         Lion\n",
       "nom_3       Finland       Russia     Russia       Canada       Canada\n",
       "nom_4       Bassoon        Piano   Theremin         Oboe         Oboe\n",
       "nom_5     50f116bcf    b3b4d25d0  3263bdce5    f12246592    5b0f5acd5\n",
       "nom_6     3ac1b8814    fbcb50fc1  0922e3cb8    50d7ad46a    1fe17a1fd\n",
       "nom_7     68f6ad3e9    3b6dd5612  a6a36f527    ec69236eb    04ddac2be\n",
       "nom_8     c389000ab    4cd920251  de9c9f684    4ade6ab69    cb43ab175\n",
       "nom_9     2f4cb3d51    f83c56c21  ae6800dd0    8270f0d71    b164b72a7\n",
       "ord_0             2            1          1            1            1\n",
       "ord_1   Grandmaster  Grandmaster     Expert  Grandmaster  Grandmaster\n",
       "ord_2          Cold          Hot   Lava Hot  Boiling Hot     Freezing\n",
       "ord_3             h            a          h            i            a\n",
       "ord_4             D            A          R            D            R\n",
       "ord_5            kr           bF         Jc           kW           qP\n",
       "day               2            7          7            2            7\n",
       "month             2            8          2            1            8\n",
       "target            0            0          0            1            0"
      ]
     },
     "execution_count": 7,
     "metadata": {},
     "output_type": "execute_result"
    }
   ],
   "source": [
    "train.head().T"
   ]
  },
  {
   "cell_type": "code",
   "execution_count": 8,
   "metadata": {
    "ExecuteTime": {
     "end_time": "2022-06-12T01:29:38.955458Z",
     "start_time": "2022-06-12T01:29:38.900560Z"
    }
   },
   "outputs": [
    {
     "data": {
      "text/html": [
       "<div>\n",
       "<style scoped>\n",
       "    .dataframe tbody tr th:only-of-type {\n",
       "        vertical-align: middle;\n",
       "    }\n",
       "\n",
       "    .dataframe tbody tr th {\n",
       "        vertical-align: top;\n",
       "    }\n",
       "\n",
       "    .dataframe thead th {\n",
       "        text-align: right;\n",
       "    }\n",
       "</style>\n",
       "<table border=\"1\" class=\"dataframe\">\n",
       "  <thead>\n",
       "    <tr style=\"text-align: right;\">\n",
       "      <th></th>\n",
       "      <th>id</th>\n",
       "      <th>bin_0</th>\n",
       "      <th>bin_1</th>\n",
       "      <th>bin_2</th>\n",
       "      <th>bin_3</th>\n",
       "      <th>bin_4</th>\n",
       "      <th>nom_0</th>\n",
       "      <th>nom_1</th>\n",
       "      <th>nom_2</th>\n",
       "      <th>nom_3</th>\n",
       "      <th>...</th>\n",
       "      <th>nom_8</th>\n",
       "      <th>nom_9</th>\n",
       "      <th>ord_0</th>\n",
       "      <th>ord_1</th>\n",
       "      <th>ord_2</th>\n",
       "      <th>ord_3</th>\n",
       "      <th>ord_4</th>\n",
       "      <th>ord_5</th>\n",
       "      <th>day</th>\n",
       "      <th>month</th>\n",
       "    </tr>\n",
       "  </thead>\n",
       "  <tbody>\n",
       "    <tr>\n",
       "      <th>0</th>\n",
       "      <td>300000</td>\n",
       "      <td>0</td>\n",
       "      <td>0</td>\n",
       "      <td>1</td>\n",
       "      <td>T</td>\n",
       "      <td>Y</td>\n",
       "      <td>Blue</td>\n",
       "      <td>Triangle</td>\n",
       "      <td>Axolotl</td>\n",
       "      <td>Finland</td>\n",
       "      <td>...</td>\n",
       "      <td>9d117320c</td>\n",
       "      <td>3c49b42b8</td>\n",
       "      <td>2</td>\n",
       "      <td>Novice</td>\n",
       "      <td>Warm</td>\n",
       "      <td>j</td>\n",
       "      <td>P</td>\n",
       "      <td>be</td>\n",
       "      <td>5</td>\n",
       "      <td>11</td>\n",
       "    </tr>\n",
       "    <tr>\n",
       "      <th>1</th>\n",
       "      <td>300001</td>\n",
       "      <td>0</td>\n",
       "      <td>0</td>\n",
       "      <td>0</td>\n",
       "      <td>T</td>\n",
       "      <td>N</td>\n",
       "      <td>Red</td>\n",
       "      <td>Square</td>\n",
       "      <td>Lion</td>\n",
       "      <td>Canada</td>\n",
       "      <td>...</td>\n",
       "      <td>46ae3059c</td>\n",
       "      <td>285771075</td>\n",
       "      <td>1</td>\n",
       "      <td>Master</td>\n",
       "      <td>Lava Hot</td>\n",
       "      <td>l</td>\n",
       "      <td>A</td>\n",
       "      <td>RP</td>\n",
       "      <td>7</td>\n",
       "      <td>5</td>\n",
       "    </tr>\n",
       "    <tr>\n",
       "      <th>2</th>\n",
       "      <td>300002</td>\n",
       "      <td>1</td>\n",
       "      <td>0</td>\n",
       "      <td>1</td>\n",
       "      <td>F</td>\n",
       "      <td>Y</td>\n",
       "      <td>Blue</td>\n",
       "      <td>Square</td>\n",
       "      <td>Dog</td>\n",
       "      <td>China</td>\n",
       "      <td>...</td>\n",
       "      <td>b759e21f0</td>\n",
       "      <td>6f323c53f</td>\n",
       "      <td>2</td>\n",
       "      <td>Expert</td>\n",
       "      <td>Freezing</td>\n",
       "      <td>a</td>\n",
       "      <td>G</td>\n",
       "      <td>tP</td>\n",
       "      <td>1</td>\n",
       "      <td>12</td>\n",
       "    </tr>\n",
       "    <tr>\n",
       "      <th>3</th>\n",
       "      <td>300003</td>\n",
       "      <td>0</td>\n",
       "      <td>0</td>\n",
       "      <td>1</td>\n",
       "      <td>T</td>\n",
       "      <td>Y</td>\n",
       "      <td>Red</td>\n",
       "      <td>Star</td>\n",
       "      <td>Cat</td>\n",
       "      <td>China</td>\n",
       "      <td>...</td>\n",
       "      <td>0b6ec68ff</td>\n",
       "      <td>b5de3dcc4</td>\n",
       "      <td>1</td>\n",
       "      <td>Contributor</td>\n",
       "      <td>Lava Hot</td>\n",
       "      <td>b</td>\n",
       "      <td>Q</td>\n",
       "      <td>ke</td>\n",
       "      <td>2</td>\n",
       "      <td>3</td>\n",
       "    </tr>\n",
       "    <tr>\n",
       "      <th>4</th>\n",
       "      <td>300004</td>\n",
       "      <td>0</td>\n",
       "      <td>1</td>\n",
       "      <td>1</td>\n",
       "      <td>F</td>\n",
       "      <td>N</td>\n",
       "      <td>Red</td>\n",
       "      <td>Trapezoid</td>\n",
       "      <td>Dog</td>\n",
       "      <td>China</td>\n",
       "      <td>...</td>\n",
       "      <td>f91f3b1ee</td>\n",
       "      <td>967cfa9c9</td>\n",
       "      <td>3</td>\n",
       "      <td>Grandmaster</td>\n",
       "      <td>Lava Hot</td>\n",
       "      <td>l</td>\n",
       "      <td>W</td>\n",
       "      <td>qK</td>\n",
       "      <td>4</td>\n",
       "      <td>11</td>\n",
       "    </tr>\n",
       "  </tbody>\n",
       "</table>\n",
       "<p>5 rows × 24 columns</p>\n",
       "</div>"
      ],
      "text/plain": [
       "       id  bin_0  bin_1  bin_2 bin_3 bin_4 nom_0      nom_1    nom_2    nom_3  \\\n",
       "0  300000      0      0      1     T     Y  Blue   Triangle  Axolotl  Finland   \n",
       "1  300001      0      0      0     T     N   Red     Square     Lion   Canada   \n",
       "2  300002      1      0      1     F     Y  Blue     Square      Dog    China   \n",
       "3  300003      0      0      1     T     Y   Red       Star      Cat    China   \n",
       "4  300004      0      1      1     F     N   Red  Trapezoid      Dog    China   \n",
       "\n",
       "   ...      nom_8      nom_9 ord_0        ord_1     ord_2 ord_3  ord_4 ord_5  \\\n",
       "0  ...  9d117320c  3c49b42b8     2       Novice      Warm     j      P    be   \n",
       "1  ...  46ae3059c  285771075     1       Master  Lava Hot     l      A    RP   \n",
       "2  ...  b759e21f0  6f323c53f     2       Expert  Freezing     a      G    tP   \n",
       "3  ...  0b6ec68ff  b5de3dcc4     1  Contributor  Lava Hot     b      Q    ke   \n",
       "4  ...  f91f3b1ee  967cfa9c9     3  Grandmaster  Lava Hot     l      W    qK   \n",
       "\n",
       "  day month  \n",
       "0   5    11  \n",
       "1   7     5  \n",
       "2   1    12  \n",
       "3   2     3  \n",
       "4   4    11  \n",
       "\n",
       "[5 rows x 24 columns]"
      ]
     },
     "execution_count": 8,
     "metadata": {},
     "output_type": "execute_result"
    }
   ],
   "source": [
    "test.head()"
   ]
  },
  {
   "cell_type": "markdown",
   "metadata": {},
   "source": [
    "## Info"
   ]
  },
  {
   "cell_type": "code",
   "execution_count": 9,
   "metadata": {
    "ExecuteTime": {
     "end_time": "2022-06-12T01:29:38.971371Z",
     "start_time": "2022-06-12T01:29:38.960400Z"
    }
   },
   "outputs": [],
   "source": [
    "def data_summary(data):\n",
    "    summary = pd.DataFrame(data.dtypes, columns=['Dtype'])\n",
    "    summary = summary.rename(columns={'index': 'Feature'})\n",
    "    summary['Count'] = data.shape[0]\n",
    "    summary['Unique value'] = data.nunique().values\n",
    "    summary['Null count'] = data.isnull().sum().values\n",
    "    summary['Null percent'] = data.isnull().sum().values / len(data) * 100\n",
    "    summary['Null percent'] = round(summary['Null percent'], 1)\n",
    "    \n",
    "    return summary"
   ]
  },
  {
   "cell_type": "code",
   "execution_count": 10,
   "metadata": {
    "ExecuteTime": {
     "end_time": "2022-06-12T01:29:40.442567Z",
     "start_time": "2022-06-12T01:29:38.976465Z"
    }
   },
   "outputs": [],
   "source": [
    "train_summary = data_summary(train)"
   ]
  },
  {
   "cell_type": "code",
   "execution_count": 11,
   "metadata": {
    "ExecuteTime": {
     "end_time": "2022-06-12T01:29:41.526018Z",
     "start_time": "2022-06-12T01:29:40.446458Z"
    }
   },
   "outputs": [],
   "source": [
    "test_summary = data_summary(test)"
   ]
  },
  {
   "cell_type": "code",
   "execution_count": 12,
   "metadata": {
    "ExecuteTime": {
     "end_time": "2022-06-12T01:29:41.618345Z",
     "start_time": "2022-06-12T01:29:41.530868Z"
    }
   },
   "outputs": [
    {
     "data": {
      "text/html": [
       "<div>\n",
       "<style scoped>\n",
       "    .dataframe tbody tr th:only-of-type {\n",
       "        vertical-align: middle;\n",
       "    }\n",
       "\n",
       "    .dataframe tbody tr th {\n",
       "        vertical-align: top;\n",
       "    }\n",
       "\n",
       "    .dataframe thead tr th {\n",
       "        text-align: left;\n",
       "    }\n",
       "</style>\n",
       "<table border=\"1\" class=\"dataframe\">\n",
       "  <thead>\n",
       "    <tr>\n",
       "      <th></th>\n",
       "      <th colspan=\"5\" halign=\"left\">Train</th>\n",
       "      <th colspan=\"5\" halign=\"left\">Test</th>\n",
       "    </tr>\n",
       "    <tr>\n",
       "      <th></th>\n",
       "      <th>Dtype</th>\n",
       "      <th>Count</th>\n",
       "      <th>Unique value</th>\n",
       "      <th>Null count</th>\n",
       "      <th>Null percent</th>\n",
       "      <th>Dtype</th>\n",
       "      <th>Count</th>\n",
       "      <th>Unique value</th>\n",
       "      <th>Null count</th>\n",
       "      <th>Null percent</th>\n",
       "    </tr>\n",
       "  </thead>\n",
       "  <tbody>\n",
       "    <tr>\n",
       "      <th>id</th>\n",
       "      <td>int64</td>\n",
       "      <td>300000</td>\n",
       "      <td>300000</td>\n",
       "      <td>0</td>\n",
       "      <td>0.0</td>\n",
       "      <td>int64</td>\n",
       "      <td>200000.0</td>\n",
       "      <td>200000.0</td>\n",
       "      <td>0.0</td>\n",
       "      <td>0.0</td>\n",
       "    </tr>\n",
       "    <tr>\n",
       "      <th>bin_0</th>\n",
       "      <td>int64</td>\n",
       "      <td>300000</td>\n",
       "      <td>2</td>\n",
       "      <td>0</td>\n",
       "      <td>0.0</td>\n",
       "      <td>int64</td>\n",
       "      <td>200000.0</td>\n",
       "      <td>2.0</td>\n",
       "      <td>0.0</td>\n",
       "      <td>0.0</td>\n",
       "    </tr>\n",
       "    <tr>\n",
       "      <th>bin_1</th>\n",
       "      <td>int64</td>\n",
       "      <td>300000</td>\n",
       "      <td>2</td>\n",
       "      <td>0</td>\n",
       "      <td>0.0</td>\n",
       "      <td>int64</td>\n",
       "      <td>200000.0</td>\n",
       "      <td>2.0</td>\n",
       "      <td>0.0</td>\n",
       "      <td>0.0</td>\n",
       "    </tr>\n",
       "    <tr>\n",
       "      <th>bin_2</th>\n",
       "      <td>int64</td>\n",
       "      <td>300000</td>\n",
       "      <td>2</td>\n",
       "      <td>0</td>\n",
       "      <td>0.0</td>\n",
       "      <td>int64</td>\n",
       "      <td>200000.0</td>\n",
       "      <td>2.0</td>\n",
       "      <td>0.0</td>\n",
       "      <td>0.0</td>\n",
       "    </tr>\n",
       "    <tr>\n",
       "      <th>bin_3</th>\n",
       "      <td>object</td>\n",
       "      <td>300000</td>\n",
       "      <td>2</td>\n",
       "      <td>0</td>\n",
       "      <td>0.0</td>\n",
       "      <td>object</td>\n",
       "      <td>200000.0</td>\n",
       "      <td>2.0</td>\n",
       "      <td>0.0</td>\n",
       "      <td>0.0</td>\n",
       "    </tr>\n",
       "    <tr>\n",
       "      <th>bin_4</th>\n",
       "      <td>object</td>\n",
       "      <td>300000</td>\n",
       "      <td>2</td>\n",
       "      <td>0</td>\n",
       "      <td>0.0</td>\n",
       "      <td>object</td>\n",
       "      <td>200000.0</td>\n",
       "      <td>2.0</td>\n",
       "      <td>0.0</td>\n",
       "      <td>0.0</td>\n",
       "    </tr>\n",
       "    <tr>\n",
       "      <th>nom_0</th>\n",
       "      <td>object</td>\n",
       "      <td>300000</td>\n",
       "      <td>3</td>\n",
       "      <td>0</td>\n",
       "      <td>0.0</td>\n",
       "      <td>object</td>\n",
       "      <td>200000.0</td>\n",
       "      <td>3.0</td>\n",
       "      <td>0.0</td>\n",
       "      <td>0.0</td>\n",
       "    </tr>\n",
       "    <tr>\n",
       "      <th>nom_1</th>\n",
       "      <td>object</td>\n",
       "      <td>300000</td>\n",
       "      <td>6</td>\n",
       "      <td>0</td>\n",
       "      <td>0.0</td>\n",
       "      <td>object</td>\n",
       "      <td>200000.0</td>\n",
       "      <td>6.0</td>\n",
       "      <td>0.0</td>\n",
       "      <td>0.0</td>\n",
       "    </tr>\n",
       "    <tr>\n",
       "      <th>nom_2</th>\n",
       "      <td>object</td>\n",
       "      <td>300000</td>\n",
       "      <td>6</td>\n",
       "      <td>0</td>\n",
       "      <td>0.0</td>\n",
       "      <td>object</td>\n",
       "      <td>200000.0</td>\n",
       "      <td>6.0</td>\n",
       "      <td>0.0</td>\n",
       "      <td>0.0</td>\n",
       "    </tr>\n",
       "    <tr>\n",
       "      <th>nom_3</th>\n",
       "      <td>object</td>\n",
       "      <td>300000</td>\n",
       "      <td>6</td>\n",
       "      <td>0</td>\n",
       "      <td>0.0</td>\n",
       "      <td>object</td>\n",
       "      <td>200000.0</td>\n",
       "      <td>6.0</td>\n",
       "      <td>0.0</td>\n",
       "      <td>0.0</td>\n",
       "    </tr>\n",
       "    <tr>\n",
       "      <th>nom_4</th>\n",
       "      <td>object</td>\n",
       "      <td>300000</td>\n",
       "      <td>4</td>\n",
       "      <td>0</td>\n",
       "      <td>0.0</td>\n",
       "      <td>object</td>\n",
       "      <td>200000.0</td>\n",
       "      <td>4.0</td>\n",
       "      <td>0.0</td>\n",
       "      <td>0.0</td>\n",
       "    </tr>\n",
       "    <tr>\n",
       "      <th>nom_5</th>\n",
       "      <td>object</td>\n",
       "      <td>300000</td>\n",
       "      <td>222</td>\n",
       "      <td>0</td>\n",
       "      <td>0.0</td>\n",
       "      <td>object</td>\n",
       "      <td>200000.0</td>\n",
       "      <td>222.0</td>\n",
       "      <td>0.0</td>\n",
       "      <td>0.0</td>\n",
       "    </tr>\n",
       "    <tr>\n",
       "      <th>nom_6</th>\n",
       "      <td>object</td>\n",
       "      <td>300000</td>\n",
       "      <td>522</td>\n",
       "      <td>0</td>\n",
       "      <td>0.0</td>\n",
       "      <td>object</td>\n",
       "      <td>200000.0</td>\n",
       "      <td>522.0</td>\n",
       "      <td>0.0</td>\n",
       "      <td>0.0</td>\n",
       "    </tr>\n",
       "    <tr>\n",
       "      <th>nom_7</th>\n",
       "      <td>object</td>\n",
       "      <td>300000</td>\n",
       "      <td>1220</td>\n",
       "      <td>0</td>\n",
       "      <td>0.0</td>\n",
       "      <td>object</td>\n",
       "      <td>200000.0</td>\n",
       "      <td>1219.0</td>\n",
       "      <td>0.0</td>\n",
       "      <td>0.0</td>\n",
       "    </tr>\n",
       "    <tr>\n",
       "      <th>nom_8</th>\n",
       "      <td>object</td>\n",
       "      <td>300000</td>\n",
       "      <td>2215</td>\n",
       "      <td>0</td>\n",
       "      <td>0.0</td>\n",
       "      <td>object</td>\n",
       "      <td>200000.0</td>\n",
       "      <td>2214.0</td>\n",
       "      <td>0.0</td>\n",
       "      <td>0.0</td>\n",
       "    </tr>\n",
       "    <tr>\n",
       "      <th>nom_9</th>\n",
       "      <td>object</td>\n",
       "      <td>300000</td>\n",
       "      <td>11981</td>\n",
       "      <td>0</td>\n",
       "      <td>0.0</td>\n",
       "      <td>object</td>\n",
       "      <td>200000.0</td>\n",
       "      <td>11839.0</td>\n",
       "      <td>0.0</td>\n",
       "      <td>0.0</td>\n",
       "    </tr>\n",
       "    <tr>\n",
       "      <th>ord_0</th>\n",
       "      <td>int64</td>\n",
       "      <td>300000</td>\n",
       "      <td>3</td>\n",
       "      <td>0</td>\n",
       "      <td>0.0</td>\n",
       "      <td>int64</td>\n",
       "      <td>200000.0</td>\n",
       "      <td>3.0</td>\n",
       "      <td>0.0</td>\n",
       "      <td>0.0</td>\n",
       "    </tr>\n",
       "    <tr>\n",
       "      <th>ord_1</th>\n",
       "      <td>object</td>\n",
       "      <td>300000</td>\n",
       "      <td>5</td>\n",
       "      <td>0</td>\n",
       "      <td>0.0</td>\n",
       "      <td>object</td>\n",
       "      <td>200000.0</td>\n",
       "      <td>5.0</td>\n",
       "      <td>0.0</td>\n",
       "      <td>0.0</td>\n",
       "    </tr>\n",
       "    <tr>\n",
       "      <th>ord_2</th>\n",
       "      <td>object</td>\n",
       "      <td>300000</td>\n",
       "      <td>6</td>\n",
       "      <td>0</td>\n",
       "      <td>0.0</td>\n",
       "      <td>object</td>\n",
       "      <td>200000.0</td>\n",
       "      <td>6.0</td>\n",
       "      <td>0.0</td>\n",
       "      <td>0.0</td>\n",
       "    </tr>\n",
       "    <tr>\n",
       "      <th>ord_3</th>\n",
       "      <td>object</td>\n",
       "      <td>300000</td>\n",
       "      <td>15</td>\n",
       "      <td>0</td>\n",
       "      <td>0.0</td>\n",
       "      <td>object</td>\n",
       "      <td>200000.0</td>\n",
       "      <td>15.0</td>\n",
       "      <td>0.0</td>\n",
       "      <td>0.0</td>\n",
       "    </tr>\n",
       "    <tr>\n",
       "      <th>ord_4</th>\n",
       "      <td>object</td>\n",
       "      <td>300000</td>\n",
       "      <td>26</td>\n",
       "      <td>0</td>\n",
       "      <td>0.0</td>\n",
       "      <td>object</td>\n",
       "      <td>200000.0</td>\n",
       "      <td>26.0</td>\n",
       "      <td>0.0</td>\n",
       "      <td>0.0</td>\n",
       "    </tr>\n",
       "    <tr>\n",
       "      <th>ord_5</th>\n",
       "      <td>object</td>\n",
       "      <td>300000</td>\n",
       "      <td>192</td>\n",
       "      <td>0</td>\n",
       "      <td>0.0</td>\n",
       "      <td>object</td>\n",
       "      <td>200000.0</td>\n",
       "      <td>192.0</td>\n",
       "      <td>0.0</td>\n",
       "      <td>0.0</td>\n",
       "    </tr>\n",
       "    <tr>\n",
       "      <th>day</th>\n",
       "      <td>int64</td>\n",
       "      <td>300000</td>\n",
       "      <td>7</td>\n",
       "      <td>0</td>\n",
       "      <td>0.0</td>\n",
       "      <td>int64</td>\n",
       "      <td>200000.0</td>\n",
       "      <td>7.0</td>\n",
       "      <td>0.0</td>\n",
       "      <td>0.0</td>\n",
       "    </tr>\n",
       "    <tr>\n",
       "      <th>month</th>\n",
       "      <td>int64</td>\n",
       "      <td>300000</td>\n",
       "      <td>12</td>\n",
       "      <td>0</td>\n",
       "      <td>0.0</td>\n",
       "      <td>int64</td>\n",
       "      <td>200000.0</td>\n",
       "      <td>12.0</td>\n",
       "      <td>0.0</td>\n",
       "      <td>0.0</td>\n",
       "    </tr>\n",
       "    <tr>\n",
       "      <th>target</th>\n",
       "      <td>int64</td>\n",
       "      <td>300000</td>\n",
       "      <td>2</td>\n",
       "      <td>0</td>\n",
       "      <td>0.0</td>\n",
       "      <td>NaN</td>\n",
       "      <td>NaN</td>\n",
       "      <td>NaN</td>\n",
       "      <td>NaN</td>\n",
       "      <td>NaN</td>\n",
       "    </tr>\n",
       "  </tbody>\n",
       "</table>\n",
       "</div>"
      ],
      "text/plain": [
       "         Train                                                 Test            \\\n",
       "         Dtype   Count Unique value Null count Null percent   Dtype     Count   \n",
       "id       int64  300000       300000          0          0.0   int64  200000.0   \n",
       "bin_0    int64  300000            2          0          0.0   int64  200000.0   \n",
       "bin_1    int64  300000            2          0          0.0   int64  200000.0   \n",
       "bin_2    int64  300000            2          0          0.0   int64  200000.0   \n",
       "bin_3   object  300000            2          0          0.0  object  200000.0   \n",
       "bin_4   object  300000            2          0          0.0  object  200000.0   \n",
       "nom_0   object  300000            3          0          0.0  object  200000.0   \n",
       "nom_1   object  300000            6          0          0.0  object  200000.0   \n",
       "nom_2   object  300000            6          0          0.0  object  200000.0   \n",
       "nom_3   object  300000            6          0          0.0  object  200000.0   \n",
       "nom_4   object  300000            4          0          0.0  object  200000.0   \n",
       "nom_5   object  300000          222          0          0.0  object  200000.0   \n",
       "nom_6   object  300000          522          0          0.0  object  200000.0   \n",
       "nom_7   object  300000         1220          0          0.0  object  200000.0   \n",
       "nom_8   object  300000         2215          0          0.0  object  200000.0   \n",
       "nom_9   object  300000        11981          0          0.0  object  200000.0   \n",
       "ord_0    int64  300000            3          0          0.0   int64  200000.0   \n",
       "ord_1   object  300000            5          0          0.0  object  200000.0   \n",
       "ord_2   object  300000            6          0          0.0  object  200000.0   \n",
       "ord_3   object  300000           15          0          0.0  object  200000.0   \n",
       "ord_4   object  300000           26          0          0.0  object  200000.0   \n",
       "ord_5   object  300000          192          0          0.0  object  200000.0   \n",
       "day      int64  300000            7          0          0.0   int64  200000.0   \n",
       "month    int64  300000           12          0          0.0   int64  200000.0   \n",
       "target   int64  300000            2          0          0.0     NaN       NaN   \n",
       "\n",
       "                                             \n",
       "       Unique value Null count Null percent  \n",
       "id         200000.0        0.0          0.0  \n",
       "bin_0           2.0        0.0          0.0  \n",
       "bin_1           2.0        0.0          0.0  \n",
       "bin_2           2.0        0.0          0.0  \n",
       "bin_3           2.0        0.0          0.0  \n",
       "bin_4           2.0        0.0          0.0  \n",
       "nom_0           3.0        0.0          0.0  \n",
       "nom_1           6.0        0.0          0.0  \n",
       "nom_2           6.0        0.0          0.0  \n",
       "nom_3           6.0        0.0          0.0  \n",
       "nom_4           4.0        0.0          0.0  \n",
       "nom_5         222.0        0.0          0.0  \n",
       "nom_6         522.0        0.0          0.0  \n",
       "nom_7        1219.0        0.0          0.0  \n",
       "nom_8        2214.0        0.0          0.0  \n",
       "nom_9       11839.0        0.0          0.0  \n",
       "ord_0           3.0        0.0          0.0  \n",
       "ord_1           5.0        0.0          0.0  \n",
       "ord_2           6.0        0.0          0.0  \n",
       "ord_3          15.0        0.0          0.0  \n",
       "ord_4          26.0        0.0          0.0  \n",
       "ord_5         192.0        0.0          0.0  \n",
       "day             7.0        0.0          0.0  \n",
       "month          12.0        0.0          0.0  \n",
       "target          NaN        NaN          NaN  "
      ]
     },
     "execution_count": 12,
     "metadata": {},
     "output_type": "execute_result"
    }
   ],
   "source": [
    "summary = pd.concat([train_summary, test_summary], axis=1, keys=['Train', 'Test'])\n",
    "summary"
   ]
  },
  {
   "cell_type": "code",
   "execution_count": 13,
   "metadata": {
    "ExecuteTime": {
     "end_time": "2022-06-12T01:29:41.650259Z",
     "start_time": "2022-06-12T01:29:41.623334Z"
    }
   },
   "outputs": [
    {
     "data": {
      "text/plain": [
       "object    17\n",
       "int64      8\n",
       "dtype: int64"
      ]
     },
     "execution_count": 13,
     "metadata": {},
     "output_type": "execute_result"
    }
   ],
   "source": [
    "train.dtypes.value_counts()"
   ]
  },
  {
   "cell_type": "code",
   "execution_count": 14,
   "metadata": {
    "ExecuteTime": {
     "end_time": "2022-06-12T01:29:41.682175Z",
     "start_time": "2022-06-12T01:29:41.655249Z"
    }
   },
   "outputs": [
    {
     "data": {
      "text/plain": [
       "object    17\n",
       "int64      7\n",
       "dtype: int64"
      ]
     },
     "execution_count": 14,
     "metadata": {},
     "output_type": "execute_result"
    }
   ],
   "source": [
    "test.dtypes.value_counts()"
   ]
  },
  {
   "cell_type": "markdown",
   "metadata": {},
   "source": [
    "## 불필요 columns 제거"
   ]
  },
  {
   "cell_type": "code",
   "execution_count": 15,
   "metadata": {
    "ExecuteTime": {
     "end_time": "2022-06-12T01:29:41.793468Z",
     "start_time": "2022-06-12T01:29:41.687162Z"
    }
   },
   "outputs": [],
   "source": [
    "train.drop('id', axis=1, inplace=True)"
   ]
  },
  {
   "cell_type": "code",
   "execution_count": 16,
   "metadata": {
    "ExecuteTime": {
     "end_time": "2022-06-12T01:29:41.871392Z",
     "start_time": "2022-06-12T01:29:41.798306Z"
    }
   },
   "outputs": [],
   "source": [
    "test.drop('id', axis=1, inplace=True)"
   ]
  },
  {
   "cell_type": "code",
   "execution_count": 17,
   "metadata": {
    "ExecuteTime": {
     "end_time": "2022-06-12T01:29:43.788279Z",
     "start_time": "2022-06-12T01:29:41.876383Z"
    }
   },
   "outputs": [],
   "source": [
    "train_summary = data_summary(train)"
   ]
  },
  {
   "cell_type": "code",
   "execution_count": 18,
   "metadata": {
    "ExecuteTime": {
     "end_time": "2022-06-12T01:29:44.809413Z",
     "start_time": "2022-06-12T01:29:43.793272Z"
    }
   },
   "outputs": [],
   "source": [
    "test_summary = data_summary(test)"
   ]
  },
  {
   "cell_type": "code",
   "execution_count": 19,
   "metadata": {
    "ExecuteTime": {
     "end_time": "2022-06-12T01:29:44.887281Z",
     "start_time": "2022-06-12T01:29:44.815403Z"
    }
   },
   "outputs": [
    {
     "data": {
      "text/html": [
       "<div>\n",
       "<style scoped>\n",
       "    .dataframe tbody tr th:only-of-type {\n",
       "        vertical-align: middle;\n",
       "    }\n",
       "\n",
       "    .dataframe tbody tr th {\n",
       "        vertical-align: top;\n",
       "    }\n",
       "\n",
       "    .dataframe thead tr th {\n",
       "        text-align: left;\n",
       "    }\n",
       "</style>\n",
       "<table border=\"1\" class=\"dataframe\">\n",
       "  <thead>\n",
       "    <tr>\n",
       "      <th></th>\n",
       "      <th colspan=\"5\" halign=\"left\">Train</th>\n",
       "      <th colspan=\"5\" halign=\"left\">Test</th>\n",
       "    </tr>\n",
       "    <tr>\n",
       "      <th></th>\n",
       "      <th>Dtype</th>\n",
       "      <th>Count</th>\n",
       "      <th>Unique value</th>\n",
       "      <th>Null count</th>\n",
       "      <th>Null percent</th>\n",
       "      <th>Dtype</th>\n",
       "      <th>Count</th>\n",
       "      <th>Unique value</th>\n",
       "      <th>Null count</th>\n",
       "      <th>Null percent</th>\n",
       "    </tr>\n",
       "  </thead>\n",
       "  <tbody>\n",
       "    <tr>\n",
       "      <th>bin_0</th>\n",
       "      <td>int64</td>\n",
       "      <td>300000</td>\n",
       "      <td>2</td>\n",
       "      <td>0</td>\n",
       "      <td>0.0</td>\n",
       "      <td>int64</td>\n",
       "      <td>200000.0</td>\n",
       "      <td>2.0</td>\n",
       "      <td>0.0</td>\n",
       "      <td>0.0</td>\n",
       "    </tr>\n",
       "    <tr>\n",
       "      <th>bin_1</th>\n",
       "      <td>int64</td>\n",
       "      <td>300000</td>\n",
       "      <td>2</td>\n",
       "      <td>0</td>\n",
       "      <td>0.0</td>\n",
       "      <td>int64</td>\n",
       "      <td>200000.0</td>\n",
       "      <td>2.0</td>\n",
       "      <td>0.0</td>\n",
       "      <td>0.0</td>\n",
       "    </tr>\n",
       "    <tr>\n",
       "      <th>bin_2</th>\n",
       "      <td>int64</td>\n",
       "      <td>300000</td>\n",
       "      <td>2</td>\n",
       "      <td>0</td>\n",
       "      <td>0.0</td>\n",
       "      <td>int64</td>\n",
       "      <td>200000.0</td>\n",
       "      <td>2.0</td>\n",
       "      <td>0.0</td>\n",
       "      <td>0.0</td>\n",
       "    </tr>\n",
       "    <tr>\n",
       "      <th>bin_3</th>\n",
       "      <td>object</td>\n",
       "      <td>300000</td>\n",
       "      <td>2</td>\n",
       "      <td>0</td>\n",
       "      <td>0.0</td>\n",
       "      <td>object</td>\n",
       "      <td>200000.0</td>\n",
       "      <td>2.0</td>\n",
       "      <td>0.0</td>\n",
       "      <td>0.0</td>\n",
       "    </tr>\n",
       "    <tr>\n",
       "      <th>bin_4</th>\n",
       "      <td>object</td>\n",
       "      <td>300000</td>\n",
       "      <td>2</td>\n",
       "      <td>0</td>\n",
       "      <td>0.0</td>\n",
       "      <td>object</td>\n",
       "      <td>200000.0</td>\n",
       "      <td>2.0</td>\n",
       "      <td>0.0</td>\n",
       "      <td>0.0</td>\n",
       "    </tr>\n",
       "    <tr>\n",
       "      <th>nom_0</th>\n",
       "      <td>object</td>\n",
       "      <td>300000</td>\n",
       "      <td>3</td>\n",
       "      <td>0</td>\n",
       "      <td>0.0</td>\n",
       "      <td>object</td>\n",
       "      <td>200000.0</td>\n",
       "      <td>3.0</td>\n",
       "      <td>0.0</td>\n",
       "      <td>0.0</td>\n",
       "    </tr>\n",
       "    <tr>\n",
       "      <th>nom_1</th>\n",
       "      <td>object</td>\n",
       "      <td>300000</td>\n",
       "      <td>6</td>\n",
       "      <td>0</td>\n",
       "      <td>0.0</td>\n",
       "      <td>object</td>\n",
       "      <td>200000.0</td>\n",
       "      <td>6.0</td>\n",
       "      <td>0.0</td>\n",
       "      <td>0.0</td>\n",
       "    </tr>\n",
       "    <tr>\n",
       "      <th>nom_2</th>\n",
       "      <td>object</td>\n",
       "      <td>300000</td>\n",
       "      <td>6</td>\n",
       "      <td>0</td>\n",
       "      <td>0.0</td>\n",
       "      <td>object</td>\n",
       "      <td>200000.0</td>\n",
       "      <td>6.0</td>\n",
       "      <td>0.0</td>\n",
       "      <td>0.0</td>\n",
       "    </tr>\n",
       "    <tr>\n",
       "      <th>nom_3</th>\n",
       "      <td>object</td>\n",
       "      <td>300000</td>\n",
       "      <td>6</td>\n",
       "      <td>0</td>\n",
       "      <td>0.0</td>\n",
       "      <td>object</td>\n",
       "      <td>200000.0</td>\n",
       "      <td>6.0</td>\n",
       "      <td>0.0</td>\n",
       "      <td>0.0</td>\n",
       "    </tr>\n",
       "    <tr>\n",
       "      <th>nom_4</th>\n",
       "      <td>object</td>\n",
       "      <td>300000</td>\n",
       "      <td>4</td>\n",
       "      <td>0</td>\n",
       "      <td>0.0</td>\n",
       "      <td>object</td>\n",
       "      <td>200000.0</td>\n",
       "      <td>4.0</td>\n",
       "      <td>0.0</td>\n",
       "      <td>0.0</td>\n",
       "    </tr>\n",
       "    <tr>\n",
       "      <th>nom_5</th>\n",
       "      <td>object</td>\n",
       "      <td>300000</td>\n",
       "      <td>222</td>\n",
       "      <td>0</td>\n",
       "      <td>0.0</td>\n",
       "      <td>object</td>\n",
       "      <td>200000.0</td>\n",
       "      <td>222.0</td>\n",
       "      <td>0.0</td>\n",
       "      <td>0.0</td>\n",
       "    </tr>\n",
       "    <tr>\n",
       "      <th>nom_6</th>\n",
       "      <td>object</td>\n",
       "      <td>300000</td>\n",
       "      <td>522</td>\n",
       "      <td>0</td>\n",
       "      <td>0.0</td>\n",
       "      <td>object</td>\n",
       "      <td>200000.0</td>\n",
       "      <td>522.0</td>\n",
       "      <td>0.0</td>\n",
       "      <td>0.0</td>\n",
       "    </tr>\n",
       "    <tr>\n",
       "      <th>nom_7</th>\n",
       "      <td>object</td>\n",
       "      <td>300000</td>\n",
       "      <td>1220</td>\n",
       "      <td>0</td>\n",
       "      <td>0.0</td>\n",
       "      <td>object</td>\n",
       "      <td>200000.0</td>\n",
       "      <td>1219.0</td>\n",
       "      <td>0.0</td>\n",
       "      <td>0.0</td>\n",
       "    </tr>\n",
       "    <tr>\n",
       "      <th>nom_8</th>\n",
       "      <td>object</td>\n",
       "      <td>300000</td>\n",
       "      <td>2215</td>\n",
       "      <td>0</td>\n",
       "      <td>0.0</td>\n",
       "      <td>object</td>\n",
       "      <td>200000.0</td>\n",
       "      <td>2214.0</td>\n",
       "      <td>0.0</td>\n",
       "      <td>0.0</td>\n",
       "    </tr>\n",
       "    <tr>\n",
       "      <th>nom_9</th>\n",
       "      <td>object</td>\n",
       "      <td>300000</td>\n",
       "      <td>11981</td>\n",
       "      <td>0</td>\n",
       "      <td>0.0</td>\n",
       "      <td>object</td>\n",
       "      <td>200000.0</td>\n",
       "      <td>11839.0</td>\n",
       "      <td>0.0</td>\n",
       "      <td>0.0</td>\n",
       "    </tr>\n",
       "    <tr>\n",
       "      <th>ord_0</th>\n",
       "      <td>int64</td>\n",
       "      <td>300000</td>\n",
       "      <td>3</td>\n",
       "      <td>0</td>\n",
       "      <td>0.0</td>\n",
       "      <td>int64</td>\n",
       "      <td>200000.0</td>\n",
       "      <td>3.0</td>\n",
       "      <td>0.0</td>\n",
       "      <td>0.0</td>\n",
       "    </tr>\n",
       "    <tr>\n",
       "      <th>ord_1</th>\n",
       "      <td>object</td>\n",
       "      <td>300000</td>\n",
       "      <td>5</td>\n",
       "      <td>0</td>\n",
       "      <td>0.0</td>\n",
       "      <td>object</td>\n",
       "      <td>200000.0</td>\n",
       "      <td>5.0</td>\n",
       "      <td>0.0</td>\n",
       "      <td>0.0</td>\n",
       "    </tr>\n",
       "    <tr>\n",
       "      <th>ord_2</th>\n",
       "      <td>object</td>\n",
       "      <td>300000</td>\n",
       "      <td>6</td>\n",
       "      <td>0</td>\n",
       "      <td>0.0</td>\n",
       "      <td>object</td>\n",
       "      <td>200000.0</td>\n",
       "      <td>6.0</td>\n",
       "      <td>0.0</td>\n",
       "      <td>0.0</td>\n",
       "    </tr>\n",
       "    <tr>\n",
       "      <th>ord_3</th>\n",
       "      <td>object</td>\n",
       "      <td>300000</td>\n",
       "      <td>15</td>\n",
       "      <td>0</td>\n",
       "      <td>0.0</td>\n",
       "      <td>object</td>\n",
       "      <td>200000.0</td>\n",
       "      <td>15.0</td>\n",
       "      <td>0.0</td>\n",
       "      <td>0.0</td>\n",
       "    </tr>\n",
       "    <tr>\n",
       "      <th>ord_4</th>\n",
       "      <td>object</td>\n",
       "      <td>300000</td>\n",
       "      <td>26</td>\n",
       "      <td>0</td>\n",
       "      <td>0.0</td>\n",
       "      <td>object</td>\n",
       "      <td>200000.0</td>\n",
       "      <td>26.0</td>\n",
       "      <td>0.0</td>\n",
       "      <td>0.0</td>\n",
       "    </tr>\n",
       "    <tr>\n",
       "      <th>ord_5</th>\n",
       "      <td>object</td>\n",
       "      <td>300000</td>\n",
       "      <td>192</td>\n",
       "      <td>0</td>\n",
       "      <td>0.0</td>\n",
       "      <td>object</td>\n",
       "      <td>200000.0</td>\n",
       "      <td>192.0</td>\n",
       "      <td>0.0</td>\n",
       "      <td>0.0</td>\n",
       "    </tr>\n",
       "    <tr>\n",
       "      <th>day</th>\n",
       "      <td>int64</td>\n",
       "      <td>300000</td>\n",
       "      <td>7</td>\n",
       "      <td>0</td>\n",
       "      <td>0.0</td>\n",
       "      <td>int64</td>\n",
       "      <td>200000.0</td>\n",
       "      <td>7.0</td>\n",
       "      <td>0.0</td>\n",
       "      <td>0.0</td>\n",
       "    </tr>\n",
       "    <tr>\n",
       "      <th>month</th>\n",
       "      <td>int64</td>\n",
       "      <td>300000</td>\n",
       "      <td>12</td>\n",
       "      <td>0</td>\n",
       "      <td>0.0</td>\n",
       "      <td>int64</td>\n",
       "      <td>200000.0</td>\n",
       "      <td>12.0</td>\n",
       "      <td>0.0</td>\n",
       "      <td>0.0</td>\n",
       "    </tr>\n",
       "    <tr>\n",
       "      <th>target</th>\n",
       "      <td>int64</td>\n",
       "      <td>300000</td>\n",
       "      <td>2</td>\n",
       "      <td>0</td>\n",
       "      <td>0.0</td>\n",
       "      <td>NaN</td>\n",
       "      <td>NaN</td>\n",
       "      <td>NaN</td>\n",
       "      <td>NaN</td>\n",
       "      <td>NaN</td>\n",
       "    </tr>\n",
       "  </tbody>\n",
       "</table>\n",
       "</div>"
      ],
      "text/plain": [
       "         Train                                                 Test            \\\n",
       "         Dtype   Count Unique value Null count Null percent   Dtype     Count   \n",
       "bin_0    int64  300000            2          0          0.0   int64  200000.0   \n",
       "bin_1    int64  300000            2          0          0.0   int64  200000.0   \n",
       "bin_2    int64  300000            2          0          0.0   int64  200000.0   \n",
       "bin_3   object  300000            2          0          0.0  object  200000.0   \n",
       "bin_4   object  300000            2          0          0.0  object  200000.0   \n",
       "nom_0   object  300000            3          0          0.0  object  200000.0   \n",
       "nom_1   object  300000            6          0          0.0  object  200000.0   \n",
       "nom_2   object  300000            6          0          0.0  object  200000.0   \n",
       "nom_3   object  300000            6          0          0.0  object  200000.0   \n",
       "nom_4   object  300000            4          0          0.0  object  200000.0   \n",
       "nom_5   object  300000          222          0          0.0  object  200000.0   \n",
       "nom_6   object  300000          522          0          0.0  object  200000.0   \n",
       "nom_7   object  300000         1220          0          0.0  object  200000.0   \n",
       "nom_8   object  300000         2215          0          0.0  object  200000.0   \n",
       "nom_9   object  300000        11981          0          0.0  object  200000.0   \n",
       "ord_0    int64  300000            3          0          0.0   int64  200000.0   \n",
       "ord_1   object  300000            5          0          0.0  object  200000.0   \n",
       "ord_2   object  300000            6          0          0.0  object  200000.0   \n",
       "ord_3   object  300000           15          0          0.0  object  200000.0   \n",
       "ord_4   object  300000           26          0          0.0  object  200000.0   \n",
       "ord_5   object  300000          192          0          0.0  object  200000.0   \n",
       "day      int64  300000            7          0          0.0   int64  200000.0   \n",
       "month    int64  300000           12          0          0.0   int64  200000.0   \n",
       "target   int64  300000            2          0          0.0     NaN       NaN   \n",
       "\n",
       "                                             \n",
       "       Unique value Null count Null percent  \n",
       "bin_0           2.0        0.0          0.0  \n",
       "bin_1           2.0        0.0          0.0  \n",
       "bin_2           2.0        0.0          0.0  \n",
       "bin_3           2.0        0.0          0.0  \n",
       "bin_4           2.0        0.0          0.0  \n",
       "nom_0           3.0        0.0          0.0  \n",
       "nom_1           6.0        0.0          0.0  \n",
       "nom_2           6.0        0.0          0.0  \n",
       "nom_3           6.0        0.0          0.0  \n",
       "nom_4           4.0        0.0          0.0  \n",
       "nom_5         222.0        0.0          0.0  \n",
       "nom_6         522.0        0.0          0.0  \n",
       "nom_7        1219.0        0.0          0.0  \n",
       "nom_8        2214.0        0.0          0.0  \n",
       "nom_9       11839.0        0.0          0.0  \n",
       "ord_0           3.0        0.0          0.0  \n",
       "ord_1           5.0        0.0          0.0  \n",
       "ord_2           6.0        0.0          0.0  \n",
       "ord_3          15.0        0.0          0.0  \n",
       "ord_4          26.0        0.0          0.0  \n",
       "ord_5         192.0        0.0          0.0  \n",
       "day             7.0        0.0          0.0  \n",
       "month          12.0        0.0          0.0  \n",
       "target          NaN        NaN          NaN  "
      ]
     },
     "execution_count": 19,
     "metadata": {},
     "output_type": "execute_result"
    }
   ],
   "source": [
    "summary = pd.concat([train_summary, test_summary], axis=1, keys=['Train', 'Test'])\n",
    "summary"
   ]
  },
  {
   "cell_type": "markdown",
   "metadata": {},
   "source": [
    "## 고유값 확인"
   ]
  },
  {
   "cell_type": "code",
   "execution_count": 20,
   "metadata": {
    "ExecuteTime": {
     "end_time": "2022-06-12T01:29:45.737241Z",
     "start_time": "2022-06-12T01:29:44.891238Z"
    },
    "scrolled": true
   },
   "outputs": [
    {
     "name": "stdout",
     "output_type": "stream",
     "text": [
      "bin_0 : [0 1] \n",
      "\n",
      "bin_1 : [0 1] \n",
      "\n",
      "bin_2 : [0 1] \n",
      "\n",
      "bin_3 : ['T' 'F'] \n",
      "\n",
      "bin_4 : ['Y' 'N'] \n",
      "\n",
      "nom_0 : ['Green' 'Blue' 'Red'] \n",
      "\n",
      "nom_1 : ['Triangle' 'Trapezoid' 'Polygon' 'Square' 'Star' 'Circle'] \n",
      "\n",
      "nom_2 : ['Snake' 'Hamster' 'Lion' 'Cat' 'Dog' 'Axolotl'] \n",
      "\n",
      "nom_3 : ['Finland' 'Russia' 'Canada' 'Costa Rica' 'China' 'India'] \n",
      "\n",
      "nom_4 : ['Bassoon' 'Piano' 'Theremin' 'Oboe'] \n",
      "\n",
      "nom_5 : ['50f116bcf' 'b3b4d25d0' '3263bdce5' 'f12246592' '5b0f5acd5' '46cab09da'\n",
      " 'be5592604' '72f8028dc' '4604905e7' 'ad95dc0ee' '2ff007c26' 'a35c346aa'\n",
      " 'dbfb714a4' 'e1558b071' '39647c92a' 'ee55b9d67' '416a8f3ab' '91bde92fa'\n",
      " '3aa9329e2' '568550f04' 'caf83c0b5' '908a1b9c9' 'e844a1f66' 'dbc448931'\n",
      " '2979f0d45' '96c73114c' 'b7bb45938' '7da3e4aec' 'be4578201' 'dc07effb0'\n",
      " '88917a066' 'f2d59cf51' '5d18641ff' '9347491f2' '475e79160' 'e70a6270d'\n",
      " '5b1a9f841' 'e0efe9d20' 'd1b1709e8' '9bb7ea2da' '6fec43dd8' '0dee9b39a'\n",
      " '527ded12a' '321bf770e' 'f7821e391' '0de4acd31' '185ba0a59' '4845cc770'\n",
      " 'bdb9fef4a' '3fef1a765' '2cc9e16b9' 'fd04a970f' '81f9d3312' '30a15b6bd'\n",
      " '8dcf8adfb' '83b38aa6b' '74bd42d5f' '5a94fc1d9' '4e1b529f6' '8d5d9f3db'\n",
      " '472efea17' '740fb99a9' '075ceb58b' '0ef5c1879' '640e1fdd5' 'a3f640358'\n",
      " 'c5725677e' '3b5632a0c' '534be2753' '30a530eab' '7ee26092e' 'c0534106d'\n",
      " '713ad10a7' '9ad6558d1' 'ef38568df' 'de04b8750' 'bd40c81f3' 'ade526ba7'\n",
      " '4e28ceffa' '1305d6e77' '3585ff84b' 'b0c8dba76' '33adb4760' '66669a44f'\n",
      " '9ba4e87a7' 'f50eb07ae' '29e7f8525' 'd9becff68' '159a7306f' 'a5c276589'\n",
      " '0870880f6' '92190168b' '5a466e166' 'e7d9ca356' 'd372c8993' 'b0faff28f'\n",
      " 'e5b29c42b' 'b97f51ac4' '778fdbe56' 'f0c1ceee4' '8266050c6' '6f70dc2df'\n",
      " '84b0081ad' '4464569ee' 'e85ec20b5' '91ea3e4dd' 'e6f45aa26' '488406659'\n",
      " '1e6cb96e8' 'f9d17bb93' '40e0157b1' 'e9f44a509' '493de6347' 'f8faea16f'\n",
      " '0eb46e992' '63f642dd9' '1f1702d2f' '71583d387' 'c2843dc45' '2e7f4d636'\n",
      " '6a2269152' '924346656' '6cd0619e0' '91a20b464' '3685a0904' '0de5598a9'\n",
      " '3aabfa2fc' '115a252ba' 'eb69430d6' '05950689f' '037bd73d8' '81264f81f'\n",
      " '19db35594' '005dd4ce3' '20b10a832' 'ddac78300' 'baab29d3d' 'bd7740b93'\n",
      " '524b3f349' '60a44c8f4' '8573fa81a' '35f65a9bf' '372f6d6ce' 'af088d192'\n",
      " 'e52fbf1c8' '49f4b29cc' 'a9ed6dfea' 'b8d451029' 'a3471b9d9' '06eeaf0aa'\n",
      " 'f6c524860' 'df51b96fc' '479fd7aea' 'dd500b26a' '7e9cb0f9a' 'db5e25328'\n",
      " '2d61990e2' '2cadfed8e' 'e428c040e' '4f7d91943' '88707c9ab' '76be0b8b1'\n",
      " '1bd1068d9' '0b3bec656' 'a51e7974e' '85159d577' '96c83ac09' '6c90f81cd'\n",
      " 'a93b89fc9' '0bdf8165a' 'da60580a8' 'f2a6d797b' '7741f57bd' '2a0e95ba1'\n",
      " 'ead12da87' 'e08092732' '176809a41' 'ca82ad111' '17a3709ae' '3271e5526'\n",
      " '4173a0252' '116f7e3e2' 'defc6dd20' 'e9c6fe0f7' '4f2b65e1e' '0870b0a5d'\n",
      " '552e3fdc9' '05d5943a3' '586b51342' '79923828f' '077fd9465' 'f9e5266f9'\n",
      " '6020a8124' '8cf6c9f74' '09a4ad97d' 'b4c8e6595' 'fa0a88fe9' '59e434d8a'\n",
      " '200009fc3' '59497d53c' '77b08badd' 'eb0004a0b' '34ad60330' '3283ca434'\n",
      " '2cac4af40' 'f802a9849' 'c08ba4f4c' '09ed0a686' '5f7065a42' 'a21564cab'\n",
      " '7a12c88d2' '82d1a6dbb' '9ecc58be1' 'd3079098d' '4ebe94c28' '448a66834'\n",
      " '46bd3558d' '91c80026f' '88f104c00' 'f710fca39' '5331f98fb' '1fd0233cd'] \n",
      "\n",
      "nom_6 : ['3ac1b8814' 'fbcb50fc1' '0922e3cb8' '50d7ad46a' '1fe17a1fd' '29a854620'\n",
      " '3393a0f78' '55eed5058' '3e44d44eb' '8ed6221ae' '153316f52' '6ea52a806'\n",
      " '1795ef28b' '628f3170f' '08b282a6c' '395941181' 'd44f7245a' '78500847e'\n",
      " '9448b8e3b' '9b1c3c8b7' 'be5a0f5a9' '687eaba3e' '5d7c5c023' '92f461454'\n",
      " 'cd8e3a0a7' 'f24d83141' '16dfb662a' 'cefab1020' '508ff88dc' '6d2cd10c5'\n",
      " 'ddb583aa3' '2eadb68c5' '854f72f28' '42b1cc2fd' 'fa2bf5f22' '8fec7bc42'\n",
      " 'fc4518443' 'bc82e0ba0' '1ad744242' '5cbbea089' '8fb440e53' 'af9278b96'\n",
      " '180a3d6cb' 'e10910468' '2ed5a94b0' '2a22b315e' '55a24a71b' 'c3517eaeb'\n",
      " 'cf82b283d' '0b10fcecc' 'a028c07af' 'd213f48ed' '5a5e620b3' 'c023e914a'\n",
      " '9f53d30ad' '2d9852300' '8cc791aa8' '54474e8d8' '36df19a6e' '0bcb379d8'\n",
      " '7dd3f58e9' '975346729' '96c110558' '8bb163a87' 'df5b440ae' 'd760c59b0'\n",
      " 'e3396fbd5' 'f497b97d7' 'd405aebc1' '6c0354890' '8c9d16cc3' '9e0a099c7'\n",
      " 'fac5eff9e' 'c9eedfbc2' '44e4c0bba' 'c8436c277' 'acf5b10dd' 'a405b7cf0'\n",
      " 'dfb9bd114' 'b69c236cb' 'b8caba53f' '126a4f83d' '2df6f79a2' '565a89e93'\n",
      " '29e27ff9d' '2268327b2' 'fb80a804f' 'a406a5f12' '3bac0bd8e' 'ea7a1aaf6'\n",
      " 'ec5064acb' 'f083d48ad' 'd4fd01769' 'fd9370b9e' 'a9925d0e5' '09e796196'\n",
      " '603232dea' 'd43e63dc9' '5194690a0' 'cf8b12b4e' 'dfb457d2a' 'a26bedd00'\n",
      " '3c5d81a52' '3b9693870' '96abdfa66' 'd88fca3ba' 'eeda68203' '487c32dfa'\n",
      " 'c135cdf77' 'd4d727716' '5755f93b2' '642fcc7be' '4c1bdbe7b' 'efa38c99d'\n",
      " '6d7f8c086' '7112aaf8e' 'e0664a4d3' 'aed51f2c9' '02d689659' '7d8bc814a'\n",
      " '70a942fc1' '2cd425e1f' '63d0e6105' 'e77244b50' '839a6bcdb' '18a901239'\n",
      " 'fc613f31d' '0e2f036b5' 'ae67aec36' 'f14fe8bc5' 'fc88900c4' 'fbbdfc611'\n",
      " '71c68195d' '718fd9453' 'c73e4dfe1' '20dc501c6' '89e65bb86' '21e2c2d57'\n",
      " '017eb57f0' 'dee9cf5e9' '9abb2ac1a' 'ec416c384' '0d50f61fd' '36282e811'\n",
      " '113deddc9' 'df184daf2' 'd166613dc' '8bd314488' '1abac47d0' 'fe0cddc2c'\n",
      " '5c4ee13e3' 'f461f837c' '24a1bea30' '498b2bdcb' 'ebd664cd6' 'e2559b9ab'\n",
      " 'b628a222c' 'dc0536549' '2bdc0a5d0' '5cabda141' 'b321e8ee3' '9218550d8'\n",
      " '29b650229' 'f0c4b23ef' '520806ce2' '4f849ad2d' 'e550bcc1b' '34256b89f'\n",
      " '309e105f1' '2f6efc190' 'df91d98af' '8bbe5580d' '3e41282ec' '77ad092c1'\n",
      " 'afebf0803' 'edb3cf6c8' '4e6cc8696' 'b5f4a755a' 'bb219c9ac' '1869e63b0'\n",
      " '32b4b12b1' 'ea64fbdeb' '40ac3fcd5' 'd9004c5c2' '4daee3baf' '9a16c7c8f'\n",
      " '9ceb19dd6' '063f4307d' '85885b27e' '27828c378' '7909ef46d' '8518cecf3'\n",
      " 'baef8ee7b' 'c103290d4' 'cae4fb7f2' '74e0be86d' '882ce2ad7' 'cebefe5b5'\n",
      " '0302f1ffc' '0b23e3352' 'c79a72c72' 'c75b3104a' 'e16557b2b' 'adfb4cba3'\n",
      " '01455237a' 'f36d9a851' '031d49dfc' 'cd225807c' 'c0f1061ee' 'dd1dbed78'\n",
      " '5786b10d7' 'b1faf70a1' 'f425b1c8c' '612641073' 'd76a148ab' 'c36cea1f7'\n",
      " '90ba6c9a6' 'b511f5bff' '6046454de' 'c06f1b9f7' '6f438920f' '6057ca561'\n",
      " 'b1c48d202' '65aae1692' '50e49ea04' 'db64717a3' 'db35bbdcb' '57aa15561'\n",
      " 'bf82c01fa' '5fa8beadb' 'e63f69ba1' '25d3a1087' '28b8e5350' 'ac8c42404'\n",
      " '9972df3b0' '2473094a9' 'c9a951efa' '32be571ee' '5b2d457f3' '9afd9530d'\n",
      " '86021cf04' 'a520e2537' '7e240024b' 'aed128d19' '66e2654cb' '0aeb8fe13'\n",
      " '43b8c397b' 'f134870d4' 'a6542cec0' '8fbaca82e' '4990652ec' '06835761e'\n",
      " 'b9f08dc06' '49bceb215' '97b6a3518' '28645754b' '338b8a987' '8817e18d1'\n",
      " '37868097a' '6c90b0073' 'fa3f6d36f' 'd6f8634af' '7f3c463a8' 'b300717cf'\n",
      " '35f33a8ca' '80b2270f0' 'bd47c2363' 'ad1b42856' '32db19124' 'e495d6f0f'\n",
      " 'd95501ac1' 'fa498a5ae' '2c7fb8434' '5fd7600de' '322121abf' '1ab5e5ad6'\n",
      " '1611d2b45' '4cb66e369' 'd70a70804' '51f28e64c' '6eaaa8418' 'eaaf53f6a'\n",
      " '418e9e936' '3c1c64eaa' '96d5497a4' 'd173ac7ca' '4cf47e292' 'f8c5dc0e0'\n",
      " 'd942d1e82' '1ea13ded7' '46c89ef8d' '966f4a973' '71534b2a8' 'f7e243b5d'\n",
      " 'ec97e8751' 'bc31d6a6d' 'dce959dcb' 'a19d81efe' '8082e0409' '4b967eac4'\n",
      " '11698a0b3' '70994b28a' 'cd2fa6d62' '15ea6e2bb' 'b48077cc4' '8f897ec3c'\n",
      " 'c5cf1fdc4' '73dd803d0' '2546024d1' 'a20513779' '67bb6c9d7' '3c2b12c56'\n",
      " '944239e54' 'b238965eb' 'b73a8ae77' '20636817e' 'd42f2b9ec' 'a566016d6'\n",
      " '126c2e512' 'fd2344f16' '945aa2bc5' '7d13ad097' 'bedc798e7' '81d59974c'\n",
      " 'a78e38dad' '339c0fa05' '23311af90' 'cd94f29d1' '708e87b0e' '12d88c9c3'\n",
      " 'ffc60be1c' 'd2ce6b1c7' '68dd873e4' '6a53b5f5c' '89a937a9f' '78acf1908'\n",
      " '1c34a67d7' '51d5f02c1' '985c40910' 'b83511180' '54efb1985' '788ba7aea'\n",
      " '51477cd88' '19505136a' '309707034' 'beb20ea99' 'e7a7bf2e1' 'cad70d692'\n",
      " '116d9fcd9' '8fd64cb59' '5fc007fd3' '95572215a' '987d29cca' '162fc2192'\n",
      " '7a8736321' '8a34317cb' 'e4d51bdd5' '2936160c7' '67721d105' '097ff91b3'\n",
      " '79a82b7c0' 'c3c8b7b13' 'd83ae1b30' '74e5a0bce' '4fa3092a4' '860bb37b4'\n",
      " '5d47a598c' 'eaa89fbcc' '231233ca9' '2837cf7b8' 'e7073f6a2' '1b36c0b8c'\n",
      " '5ff2c0a8c' '73d7ca889' '5a49dd8f6' '43744dfd9' 'b2480a857' '485fc6466'\n",
      " '705cb7579' '077e720aa' '8d1b72979' '27e7dbafa' 'cbb210c0a' '9a70de492'\n",
      " '91e1a9d16' 'aee98fa47' '0ed70b7b1' 'd5febb6ef' '1537295c3' 'f64fe5bc0'\n",
      " 'e19cd8107' '800577110' '7185a30dc' '3c7643929' '49d1a98ef' '1573e6c5f'\n",
      " 'b3e59b54a' '0958071b5' 'd086fd85e' '3aa0689eb' 'd2c8f2916' 'fc791ebea'\n",
      " 'b639793f9' '944531331' 'd9e884466' 'c7201df85' '3ae0ef9f1' '0ef3dda96'\n",
      " '21cb526c2' '1e5e03a86' 'd9e131846' '5f57e7d4f' '8ad083b20' '4abed74f5'\n",
      " '8c8aa1d64' 'ac3e34eff' '19231be54' 'd804d7926' '803f6cece' 'd7fb439cc'\n",
      " 'ed8157b96' '1f2e3f148' '1c7f1ab58' '0249d8675' '144279ac1' '3afd0489b'\n",
      " 'ef1f6146b' 'fe77c71bd' 'bbc311f15' '9fbd66490' '4c6d8f959' '83f07ed50'\n",
      " '163b28322' 'fb1301ef6' '214f24d39' '2c4223dbd' 'f17881964' '3e6a88574'\n",
      " '145d17afb' '8584a02f4' '6c1a5aab7' '40994d768' '527a42dc2' 'bea839b58'\n",
      " 'e866d44ea' 'a148d86df' '310b1a988' '3e2b4aac9' '9a20c66da' '09f69436c'\n",
      " '78e45cd66' '3fe2d05f7' '5e881b059' '2119a6f87' 'd9025a066' '4c183f1ef'\n",
      " '292dea6ab' 'f53d92c1a' 'c0e4c4487' '7cb06ca3c' '99fffb9e9' '1f40b9ca8'\n",
      " 'b8cf041db' '9882f1fa0' 'cc8755307' '95a263224' 'eba84389c' '39981f199'\n",
      " '7322ea1c9' '907d87214' '75645dad3' '2ae2bd37c' 'd39b176b6' '329124d64'\n",
      " 'ae49fec17' 'ec93484e7' 'baf172f58' '989a51202' '435fd233e' 'b2c93e83d'\n",
      " '4d5fc69ae' 'b3f15d742' 'cfc8d0828' 'fc88d723d' 'a9b4474f4' 'e78ce8c35'\n",
      " '9d6fa150a' '0000ee65f' '00e9c15b8' 'f81cde28d' '76ef650e6' '437d8df71'\n",
      " 'b436c2568' '9a92bb693' 'fe0b55cd2' '70a040495' '0b17eaec7' 'ce528707a'\n",
      " '77ab97a87' '906c833b2' '782664588' 'e97824431' 'b7c276ed2' '7433a98da'\n",
      " '2d8a0cf5a' '576b27b37' 'b7d62cb4e' '0516fa0d8' '7cd1571c9' '17e0c4fa9'\n",
      " 'f4689e520' '556aa5d7a' '062cd9a70' '9c5ea36f8' '3fe8e9cba' '1ff467489'\n",
      " '82f75f00e' '27179d6e5' '8367b78fc' '28630a5c8' '26bf5ddd9' '4dcab4fc8'] \n",
      "\n"
     ]
    },
    {
     "name": "stdout",
     "output_type": "stream",
     "text": [
      "nom_7 : ['68f6ad3e9' '3b6dd5612' 'a6a36f527' ... '7aaa810eb' '74a1b69b1'\n",
      " '3460d7c4b'] \n",
      "\n",
      "nom_8 : ['c389000ab' '4cd920251' 'de9c9f684' ... '5361d3b53' 'e4d784581'\n",
      " '44f729e5a'] \n",
      "\n",
      "nom_9 : ['2f4cb3d51' 'f83c56c21' 'ae6800dd0' ... 'c9751f01d' '3b51e3e0d'\n",
      " 'e05e4c676'] \n",
      "\n",
      "ord_0 : [2 1 3] \n",
      "\n",
      "ord_1 : ['Grandmaster' 'Expert' 'Novice' 'Contributor' 'Master'] \n",
      "\n",
      "ord_2 : ['Cold' 'Hot' 'Lava Hot' 'Boiling Hot' 'Freezing' 'Warm'] \n",
      "\n",
      "ord_3 : ['h' 'a' 'i' 'j' 'g' 'e' 'd' 'b' 'k' 'f' 'l' 'n' 'o' 'c' 'm'] \n",
      "\n",
      "ord_4 : ['D' 'A' 'R' 'E' 'P' 'K' 'V' 'Q' 'Z' 'L' 'F' 'T' 'U' 'S' 'Y' 'B' 'H' 'J'\n",
      " 'N' 'G' 'W' 'I' 'O' 'C' 'X' 'M'] \n",
      "\n",
      "ord_5 : ['kr' 'bF' 'Jc' 'kW' 'qP' 'PZ' 'wy' 'Ed' 'qo' 'CZ' 'qX' 'su' 'dP' 'aP'\n",
      " 'MV' 'oC' 'RL' 'fh' 'gJ' 'Hj' 'TR' 'CL' 'Sc' 'eQ' 'kC' 'qK' 'dh' 'gM'\n",
      " 'Jf' 'fO' 'Eg' 'KZ' 'Vx' 'Fo' 'sV' 'eb' 'YC' 'RG' 'Ye' 'qA' 'lL' 'Qh'\n",
      " 'Bd' 'be' 'hT' 'lF' 'nX' 'kK' 'av' 'uS' 'Jt' 'PA' 'Er' 'Qb' 'od' 'ut'\n",
      " 'Dx' 'Xi' 'on' 'Dc' 'sD' 'rZ' 'Uu' 'sn' 'yc' 'Gb' 'Kq' 'dQ' 'hp' 'kL'\n",
      " 'je' 'CU' 'Fd' 'PQ' 'Bn' 'ex' 'hh' 'ac' 'rp' 'dE' 'oG' 'oK' 'cp' 'mm'\n",
      " 'vK' 'ek' 'dO' 'XI' 'CM' 'Vf' 'aO' 'qv' 'jp' 'Zq' 'Qo' 'DN' 'TZ' 'ke'\n",
      " 'cG' 'tP' 'ud' 'tv' 'aM' 'xy' 'lx' 'To' 'uy' 'ZS' 'vy' 'ZR' 'AP' 'GJ'\n",
      " 'Wv' 'ri' 'qw' 'Xh' 'FI' 'nh' 'KR' 'dB' 'BE' 'Bb' 'mc' 'MC' 'tM' 'NV'\n",
      " 'ih' 'IK' 'Ob' 'RP' 'dN' 'us' 'dZ' 'yN' 'Nf' 'QM' 'jV' 'sY' 'wu' 'SB'\n",
      " 'UO' 'Mx' 'JX' 'Ry' 'Uk' 'uJ' 'LE' 'ps' 'kE' 'MO' 'kw' 'yY' 'zU' 'bJ'\n",
      " 'Kf' 'ck' 'mb' 'Os' 'Ps' 'Ml' 'Ai' 'Wc' 'GD' 'll' 'aF' 'iT' 'cA' 'WE'\n",
      " 'Gx' 'Nk' 'OR' 'Rm' 'BA' 'eG' 'cW' 'jS' 'DH' 'hL' 'Mf' 'Yb' 'Aj' 'oH'\n",
      " 'Zc' 'qJ' 'eg' 'xP' 'vq' 'Id' 'pa' 'ux' 'kU' 'Cl'] \n",
      "\n",
      "day : [2 7 5 4 3 1 6] \n",
      "\n",
      "month : [ 2  8  1  4 10  3  7  9 12 11  5  6] \n",
      "\n",
      "target : [0 1] \n",
      "\n"
     ]
    }
   ],
   "source": [
    "for column in train.columns :\n",
    "    print(f'{column} : {train[column].unique()}', '\\n')"
   ]
  },
  {
   "cell_type": "code",
   "execution_count": 21,
   "metadata": {
    "ExecuteTime": {
     "end_time": "2022-06-12T01:29:45.846988Z",
     "start_time": "2022-06-12T01:29:45.743452Z"
    }
   },
   "outputs": [
    {
     "data": {
      "text/html": [
       "<div>\n",
       "<style scoped>\n",
       "    .dataframe tbody tr th:only-of-type {\n",
       "        vertical-align: middle;\n",
       "    }\n",
       "\n",
       "    .dataframe tbody tr th {\n",
       "        vertical-align: top;\n",
       "    }\n",
       "\n",
       "    .dataframe thead tr th {\n",
       "        text-align: left;\n",
       "    }\n",
       "</style>\n",
       "<table border=\"1\" class=\"dataframe\">\n",
       "  <thead>\n",
       "    <tr>\n",
       "      <th></th>\n",
       "      <th colspan=\"5\" halign=\"left\">Train</th>\n",
       "      <th colspan=\"5\" halign=\"left\">Test</th>\n",
       "    </tr>\n",
       "    <tr>\n",
       "      <th></th>\n",
       "      <th>Dtype</th>\n",
       "      <th>Count</th>\n",
       "      <th>Unique value</th>\n",
       "      <th>Null count</th>\n",
       "      <th>Null percent</th>\n",
       "      <th>Dtype</th>\n",
       "      <th>Count</th>\n",
       "      <th>Unique value</th>\n",
       "      <th>Null count</th>\n",
       "      <th>Null percent</th>\n",
       "    </tr>\n",
       "  </thead>\n",
       "  <tbody>\n",
       "    <tr>\n",
       "      <th>nom_7</th>\n",
       "      <td>object</td>\n",
       "      <td>300000</td>\n",
       "      <td>1220</td>\n",
       "      <td>0</td>\n",
       "      <td>0.0</td>\n",
       "      <td>object</td>\n",
       "      <td>200000.0</td>\n",
       "      <td>1219.0</td>\n",
       "      <td>0.0</td>\n",
       "      <td>0.0</td>\n",
       "    </tr>\n",
       "    <tr>\n",
       "      <th>nom_8</th>\n",
       "      <td>object</td>\n",
       "      <td>300000</td>\n",
       "      <td>2215</td>\n",
       "      <td>0</td>\n",
       "      <td>0.0</td>\n",
       "      <td>object</td>\n",
       "      <td>200000.0</td>\n",
       "      <td>2214.0</td>\n",
       "      <td>0.0</td>\n",
       "      <td>0.0</td>\n",
       "    </tr>\n",
       "    <tr>\n",
       "      <th>nom_9</th>\n",
       "      <td>object</td>\n",
       "      <td>300000</td>\n",
       "      <td>11981</td>\n",
       "      <td>0</td>\n",
       "      <td>0.0</td>\n",
       "      <td>object</td>\n",
       "      <td>200000.0</td>\n",
       "      <td>11839.0</td>\n",
       "      <td>0.0</td>\n",
       "      <td>0.0</td>\n",
       "    </tr>\n",
       "    <tr>\n",
       "      <th>target</th>\n",
       "      <td>int64</td>\n",
       "      <td>300000</td>\n",
       "      <td>2</td>\n",
       "      <td>0</td>\n",
       "      <td>0.0</td>\n",
       "      <td>NaN</td>\n",
       "      <td>NaN</td>\n",
       "      <td>NaN</td>\n",
       "      <td>NaN</td>\n",
       "      <td>NaN</td>\n",
       "    </tr>\n",
       "  </tbody>\n",
       "</table>\n",
       "</div>"
      ],
      "text/plain": [
       "         Train                                                 Test            \\\n",
       "         Dtype   Count Unique value Null count Null percent   Dtype     Count   \n",
       "nom_7   object  300000         1220          0          0.0  object  200000.0   \n",
       "nom_8   object  300000         2215          0          0.0  object  200000.0   \n",
       "nom_9   object  300000        11981          0          0.0  object  200000.0   \n",
       "target   int64  300000            2          0          0.0     NaN       NaN   \n",
       "\n",
       "                                             \n",
       "       Unique value Null count Null percent  \n",
       "nom_7        1219.0        0.0          0.0  \n",
       "nom_8        2214.0        0.0          0.0  \n",
       "nom_9       11839.0        0.0          0.0  \n",
       "target          NaN        NaN          NaN  "
      ]
     },
     "execution_count": 21,
     "metadata": {},
     "output_type": "execute_result"
    }
   ],
   "source": [
    "summary[summary['Train']['Unique value'] != summary['Test']['Unique value']]"
   ]
  },
  {
   "cell_type": "code",
   "execution_count": 22,
   "metadata": {
    "ExecuteTime": {
     "end_time": "2022-06-12T01:29:45.940580Z",
     "start_time": "2022-06-12T01:29:45.853814Z"
    }
   },
   "outputs": [
    {
     "data": {
      "text/html": [
       "<div>\n",
       "<style scoped>\n",
       "    .dataframe tbody tr th:only-of-type {\n",
       "        vertical-align: middle;\n",
       "    }\n",
       "\n",
       "    .dataframe tbody tr th {\n",
       "        vertical-align: top;\n",
       "    }\n",
       "\n",
       "    .dataframe thead tr th {\n",
       "        text-align: left;\n",
       "    }\n",
       "</style>\n",
       "<table border=\"1\" class=\"dataframe\">\n",
       "  <thead>\n",
       "    <tr>\n",
       "      <th></th>\n",
       "      <th colspan=\"5\" halign=\"left\">Train</th>\n",
       "      <th colspan=\"5\" halign=\"left\">Test</th>\n",
       "    </tr>\n",
       "    <tr>\n",
       "      <th></th>\n",
       "      <th>Dtype</th>\n",
       "      <th>Count</th>\n",
       "      <th>Unique value</th>\n",
       "      <th>Null count</th>\n",
       "      <th>Null percent</th>\n",
       "      <th>Dtype</th>\n",
       "      <th>Count</th>\n",
       "      <th>Unique value</th>\n",
       "      <th>Null count</th>\n",
       "      <th>Null percent</th>\n",
       "    </tr>\n",
       "  </thead>\n",
       "  <tbody>\n",
       "    <tr>\n",
       "      <th>nom_7</th>\n",
       "      <td>object</td>\n",
       "      <td>300000</td>\n",
       "      <td>1220</td>\n",
       "      <td>0</td>\n",
       "      <td>0.0</td>\n",
       "      <td>object</td>\n",
       "      <td>200000.0</td>\n",
       "      <td>1219.0</td>\n",
       "      <td>0.0</td>\n",
       "      <td>0.0</td>\n",
       "    </tr>\n",
       "    <tr>\n",
       "      <th>nom_8</th>\n",
       "      <td>object</td>\n",
       "      <td>300000</td>\n",
       "      <td>2215</td>\n",
       "      <td>0</td>\n",
       "      <td>0.0</td>\n",
       "      <td>object</td>\n",
       "      <td>200000.0</td>\n",
       "      <td>2214.0</td>\n",
       "      <td>0.0</td>\n",
       "      <td>0.0</td>\n",
       "    </tr>\n",
       "    <tr>\n",
       "      <th>nom_9</th>\n",
       "      <td>object</td>\n",
       "      <td>300000</td>\n",
       "      <td>11981</td>\n",
       "      <td>0</td>\n",
       "      <td>0.0</td>\n",
       "      <td>object</td>\n",
       "      <td>200000.0</td>\n",
       "      <td>11839.0</td>\n",
       "      <td>0.0</td>\n",
       "      <td>0.0</td>\n",
       "    </tr>\n",
       "  </tbody>\n",
       "</table>\n",
       "</div>"
      ],
      "text/plain": [
       "        Train                                                 Test            \\\n",
       "        Dtype   Count Unique value Null count Null percent   Dtype     Count   \n",
       "nom_7  object  300000         1220          0          0.0  object  200000.0   \n",
       "nom_8  object  300000         2215          0          0.0  object  200000.0   \n",
       "nom_9  object  300000        11981          0          0.0  object  200000.0   \n",
       "\n",
       "                                            \n",
       "      Unique value Null count Null percent  \n",
       "nom_7       1219.0        0.0          0.0  \n",
       "nom_8       2214.0        0.0          0.0  \n",
       "nom_9      11839.0        0.0          0.0  "
      ]
     },
     "execution_count": 22,
     "metadata": {},
     "output_type": "execute_result"
    }
   ],
   "source": [
    "# One-hot-encoding 시 주의해야 할 column들\n",
    "summary[(summary['Train']['Unique value'] != summary['Test']['Unique value'])\n",
    "                        & (summary['Train']['Dtype'] == 'object')]"
   ]
  },
  {
   "cell_type": "code",
   "execution_count": 23,
   "metadata": {
    "ExecuteTime": {
     "end_time": "2022-06-12T01:29:46.017754Z",
     "start_time": "2022-06-12T01:29:45.958838Z"
    }
   },
   "outputs": [
    {
     "data": {
      "text/html": [
       "<div>\n",
       "<style scoped>\n",
       "    .dataframe tbody tr th:only-of-type {\n",
       "        vertical-align: middle;\n",
       "    }\n",
       "\n",
       "    .dataframe tbody tr th {\n",
       "        vertical-align: top;\n",
       "    }\n",
       "\n",
       "    .dataframe thead tr th {\n",
       "        text-align: left;\n",
       "    }\n",
       "</style>\n",
       "<table border=\"1\" class=\"dataframe\">\n",
       "  <thead>\n",
       "    <tr>\n",
       "      <th></th>\n",
       "      <th colspan=\"5\" halign=\"left\">Train</th>\n",
       "      <th colspan=\"5\" halign=\"left\">Test</th>\n",
       "    </tr>\n",
       "    <tr>\n",
       "      <th></th>\n",
       "      <th>Dtype</th>\n",
       "      <th>Count</th>\n",
       "      <th>Unique value</th>\n",
       "      <th>Null count</th>\n",
       "      <th>Null percent</th>\n",
       "      <th>Dtype</th>\n",
       "      <th>Count</th>\n",
       "      <th>Unique value</th>\n",
       "      <th>Null count</th>\n",
       "      <th>Null percent</th>\n",
       "    </tr>\n",
       "  </thead>\n",
       "  <tbody>\n",
       "    <tr>\n",
       "      <th>nom_5</th>\n",
       "      <td>object</td>\n",
       "      <td>300000</td>\n",
       "      <td>222</td>\n",
       "      <td>0</td>\n",
       "      <td>0.0</td>\n",
       "      <td>object</td>\n",
       "      <td>200000.0</td>\n",
       "      <td>222.0</td>\n",
       "      <td>0.0</td>\n",
       "      <td>0.0</td>\n",
       "    </tr>\n",
       "    <tr>\n",
       "      <th>nom_6</th>\n",
       "      <td>object</td>\n",
       "      <td>300000</td>\n",
       "      <td>522</td>\n",
       "      <td>0</td>\n",
       "      <td>0.0</td>\n",
       "      <td>object</td>\n",
       "      <td>200000.0</td>\n",
       "      <td>522.0</td>\n",
       "      <td>0.0</td>\n",
       "      <td>0.0</td>\n",
       "    </tr>\n",
       "    <tr>\n",
       "      <th>nom_7</th>\n",
       "      <td>object</td>\n",
       "      <td>300000</td>\n",
       "      <td>1220</td>\n",
       "      <td>0</td>\n",
       "      <td>0.0</td>\n",
       "      <td>object</td>\n",
       "      <td>200000.0</td>\n",
       "      <td>1219.0</td>\n",
       "      <td>0.0</td>\n",
       "      <td>0.0</td>\n",
       "    </tr>\n",
       "    <tr>\n",
       "      <th>nom_8</th>\n",
       "      <td>object</td>\n",
       "      <td>300000</td>\n",
       "      <td>2215</td>\n",
       "      <td>0</td>\n",
       "      <td>0.0</td>\n",
       "      <td>object</td>\n",
       "      <td>200000.0</td>\n",
       "      <td>2214.0</td>\n",
       "      <td>0.0</td>\n",
       "      <td>0.0</td>\n",
       "    </tr>\n",
       "    <tr>\n",
       "      <th>nom_9</th>\n",
       "      <td>object</td>\n",
       "      <td>300000</td>\n",
       "      <td>11981</td>\n",
       "      <td>0</td>\n",
       "      <td>0.0</td>\n",
       "      <td>object</td>\n",
       "      <td>200000.0</td>\n",
       "      <td>11839.0</td>\n",
       "      <td>0.0</td>\n",
       "      <td>0.0</td>\n",
       "    </tr>\n",
       "    <tr>\n",
       "      <th>ord_5</th>\n",
       "      <td>object</td>\n",
       "      <td>300000</td>\n",
       "      <td>192</td>\n",
       "      <td>0</td>\n",
       "      <td>0.0</td>\n",
       "      <td>object</td>\n",
       "      <td>200000.0</td>\n",
       "      <td>192.0</td>\n",
       "      <td>0.0</td>\n",
       "      <td>0.0</td>\n",
       "    </tr>\n",
       "  </tbody>\n",
       "</table>\n",
       "</div>"
      ],
      "text/plain": [
       "        Train                                                 Test            \\\n",
       "        Dtype   Count Unique value Null count Null percent   Dtype     Count   \n",
       "nom_5  object  300000          222          0          0.0  object  200000.0   \n",
       "nom_6  object  300000          522          0          0.0  object  200000.0   \n",
       "nom_7  object  300000         1220          0          0.0  object  200000.0   \n",
       "nom_8  object  300000         2215          0          0.0  object  200000.0   \n",
       "nom_9  object  300000        11981          0          0.0  object  200000.0   \n",
       "ord_5  object  300000          192          0          0.0  object  200000.0   \n",
       "\n",
       "                                            \n",
       "      Unique value Null count Null percent  \n",
       "nom_5        222.0        0.0          0.0  \n",
       "nom_6        522.0        0.0          0.0  \n",
       "nom_7       1219.0        0.0          0.0  \n",
       "nom_8       2214.0        0.0          0.0  \n",
       "nom_9      11839.0        0.0          0.0  \n",
       "ord_5        192.0        0.0          0.0  "
      ]
     },
     "execution_count": 23,
     "metadata": {},
     "output_type": "execute_result"
    }
   ],
   "source": [
    "# 고유값이 너무 많은 column들\n",
    "columns_many = summary[(summary['Train']['Unique value'] > 100) & (summary['Train']['Dtype'] == 'object')]\n",
    "columns_many"
   ]
  },
  {
   "cell_type": "code",
   "execution_count": 24,
   "metadata": {
    "ExecuteTime": {
     "end_time": "2022-06-12T01:29:46.033408Z",
     "start_time": "2022-06-12T01:29:46.024392Z"
    }
   },
   "outputs": [
    {
     "data": {
      "text/plain": [
       "['nom_5', 'nom_6', 'nom_7', 'nom_8', 'nom_9', 'ord_5']"
      ]
     },
     "execution_count": 24,
     "metadata": {},
     "output_type": "execute_result"
    }
   ],
   "source": [
    "list(columns_many.index)"
   ]
  },
  {
   "cell_type": "markdown",
   "metadata": {},
   "source": [
    "## 결측치 확인"
   ]
  },
  {
   "cell_type": "code",
   "execution_count": 25,
   "metadata": {
    "ExecuteTime": {
     "end_time": "2022-06-12T01:29:46.049531Z",
     "start_time": "2022-06-12T01:29:46.037321Z"
    }
   },
   "outputs": [],
   "source": [
    "train_null = train_summary[train_summary['Null count'] > 0]"
   ]
  },
  {
   "cell_type": "code",
   "execution_count": 26,
   "metadata": {
    "ExecuteTime": {
     "end_time": "2022-06-12T01:29:46.064756Z",
     "start_time": "2022-06-12T01:29:46.053281Z"
    }
   },
   "outputs": [],
   "source": [
    "test_null = test_summary[test_summary['Null count'] > 0]"
   ]
  },
  {
   "cell_type": "code",
   "execution_count": 27,
   "metadata": {
    "ExecuteTime": {
     "end_time": "2022-06-12T01:29:46.111133Z",
     "start_time": "2022-06-12T01:29:46.069237Z"
    }
   },
   "outputs": [
    {
     "data": {
      "text/html": [
       "<div>\n",
       "<style scoped>\n",
       "    .dataframe tbody tr th:only-of-type {\n",
       "        vertical-align: middle;\n",
       "    }\n",
       "\n",
       "    .dataframe tbody tr th {\n",
       "        vertical-align: top;\n",
       "    }\n",
       "\n",
       "    .dataframe thead tr th {\n",
       "        text-align: left;\n",
       "    }\n",
       "</style>\n",
       "<table border=\"1\" class=\"dataframe\">\n",
       "  <thead>\n",
       "    <tr>\n",
       "      <th></th>\n",
       "      <th colspan=\"5\" halign=\"left\">Train</th>\n",
       "      <th colspan=\"5\" halign=\"left\">Test</th>\n",
       "    </tr>\n",
       "    <tr>\n",
       "      <th></th>\n",
       "      <th>Dtype</th>\n",
       "      <th>Count</th>\n",
       "      <th>Unique value</th>\n",
       "      <th>Null count</th>\n",
       "      <th>Null percent</th>\n",
       "      <th>Dtype</th>\n",
       "      <th>Count</th>\n",
       "      <th>Unique value</th>\n",
       "      <th>Null count</th>\n",
       "      <th>Null percent</th>\n",
       "    </tr>\n",
       "  </thead>\n",
       "  <tbody>\n",
       "  </tbody>\n",
       "</table>\n",
       "</div>"
      ],
      "text/plain": [
       "Empty DataFrame\n",
       "Columns: [(Train, Dtype), (Train, Count), (Train, Unique value), (Train, Null count), (Train, Null percent), (Test, Dtype), (Test, Count), (Test, Unique value), (Test, Null count), (Test, Null percent)]\n",
       "Index: []"
      ]
     },
     "execution_count": 27,
     "metadata": {},
     "output_type": "execute_result"
    }
   ],
   "source": [
    "null_columns = pd.concat([train_null, test_null], axis=1, keys=['Train', 'Test'])\n",
    "null_columns"
   ]
  },
  {
   "cell_type": "code",
   "execution_count": 28,
   "metadata": {
    "ExecuteTime": {
     "end_time": "2022-06-12T01:29:46.143212Z",
     "start_time": "2022-06-12T01:29:46.116112Z"
    }
   },
   "outputs": [
    {
     "data": {
      "text/plain": [
       "Series([], dtype: int64)"
      ]
     },
     "execution_count": 28,
     "metadata": {},
     "output_type": "execute_result"
    }
   ],
   "source": [
    "train[null_columns.index].dtypes.value_counts()"
   ]
  },
  {
   "cell_type": "code",
   "execution_count": 29,
   "metadata": {
    "ExecuteTime": {
     "end_time": "2022-06-12T01:29:46.173997Z",
     "start_time": "2022-06-12T01:29:46.150024Z"
    }
   },
   "outputs": [
    {
     "data": {
      "text/plain": [
       "Series([], dtype: int64)"
      ]
     },
     "execution_count": 29,
     "metadata": {},
     "output_type": "execute_result"
    }
   ],
   "source": [
    "test[null_columns.index].dtypes.value_counts()"
   ]
  },
  {
   "cell_type": "markdown",
   "metadata": {},
   "source": [
    "# 통계 및 분포 확인"
   ]
  },
  {
   "cell_type": "markdown",
   "metadata": {},
   "source": [
    "## 수치형 data"
   ]
  },
  {
   "cell_type": "code",
   "execution_count": 30,
   "metadata": {
    "ExecuteTime": {
     "end_time": "2022-06-12T01:29:46.378758Z",
     "start_time": "2022-06-12T01:29:46.179945Z"
    }
   },
   "outputs": [
    {
     "data": {
      "text/html": [
       "<div>\n",
       "<style scoped>\n",
       "    .dataframe tbody tr th:only-of-type {\n",
       "        vertical-align: middle;\n",
       "    }\n",
       "\n",
       "    .dataframe tbody tr th {\n",
       "        vertical-align: top;\n",
       "    }\n",
       "\n",
       "    .dataframe thead th {\n",
       "        text-align: right;\n",
       "    }\n",
       "</style>\n",
       "<table border=\"1\" class=\"dataframe\">\n",
       "  <thead>\n",
       "    <tr style=\"text-align: right;\">\n",
       "      <th></th>\n",
       "      <th>bin_0</th>\n",
       "      <th>bin_1</th>\n",
       "      <th>bin_2</th>\n",
       "      <th>ord_0</th>\n",
       "      <th>day</th>\n",
       "      <th>month</th>\n",
       "      <th>target</th>\n",
       "    </tr>\n",
       "  </thead>\n",
       "  <tbody>\n",
       "    <tr>\n",
       "      <th>count</th>\n",
       "      <td>300000.000000</td>\n",
       "      <td>300000.000000</td>\n",
       "      <td>300000.000000</td>\n",
       "      <td>300000.000000</td>\n",
       "      <td>300000.000000</td>\n",
       "      <td>300000.000000</td>\n",
       "      <td>300000.00000</td>\n",
       "    </tr>\n",
       "    <tr>\n",
       "      <th>mean</th>\n",
       "      <td>0.127503</td>\n",
       "      <td>0.256607</td>\n",
       "      <td>0.383223</td>\n",
       "      <td>1.479567</td>\n",
       "      <td>3.007817</td>\n",
       "      <td>5.771113</td>\n",
       "      <td>0.30588</td>\n",
       "    </tr>\n",
       "    <tr>\n",
       "      <th>std</th>\n",
       "      <td>0.333537</td>\n",
       "      <td>0.436761</td>\n",
       "      <td>0.486173</td>\n",
       "      <td>0.712524</td>\n",
       "      <td>1.817949</td>\n",
       "      <td>3.843519</td>\n",
       "      <td>0.46078</td>\n",
       "    </tr>\n",
       "    <tr>\n",
       "      <th>min</th>\n",
       "      <td>0.000000</td>\n",
       "      <td>0.000000</td>\n",
       "      <td>0.000000</td>\n",
       "      <td>1.000000</td>\n",
       "      <td>1.000000</td>\n",
       "      <td>1.000000</td>\n",
       "      <td>0.00000</td>\n",
       "    </tr>\n",
       "    <tr>\n",
       "      <th>25%</th>\n",
       "      <td>0.000000</td>\n",
       "      <td>0.000000</td>\n",
       "      <td>0.000000</td>\n",
       "      <td>1.000000</td>\n",
       "      <td>2.000000</td>\n",
       "      <td>2.000000</td>\n",
       "      <td>0.00000</td>\n",
       "    </tr>\n",
       "    <tr>\n",
       "      <th>50%</th>\n",
       "      <td>0.000000</td>\n",
       "      <td>0.000000</td>\n",
       "      <td>0.000000</td>\n",
       "      <td>1.000000</td>\n",
       "      <td>3.000000</td>\n",
       "      <td>4.000000</td>\n",
       "      <td>0.00000</td>\n",
       "    </tr>\n",
       "    <tr>\n",
       "      <th>75%</th>\n",
       "      <td>0.000000</td>\n",
       "      <td>1.000000</td>\n",
       "      <td>1.000000</td>\n",
       "      <td>2.000000</td>\n",
       "      <td>4.000000</td>\n",
       "      <td>9.000000</td>\n",
       "      <td>1.00000</td>\n",
       "    </tr>\n",
       "    <tr>\n",
       "      <th>max</th>\n",
       "      <td>1.000000</td>\n",
       "      <td>1.000000</td>\n",
       "      <td>1.000000</td>\n",
       "      <td>3.000000</td>\n",
       "      <td>7.000000</td>\n",
       "      <td>12.000000</td>\n",
       "      <td>1.00000</td>\n",
       "    </tr>\n",
       "  </tbody>\n",
       "</table>\n",
       "</div>"
      ],
      "text/plain": [
       "               bin_0          bin_1          bin_2          ord_0  \\\n",
       "count  300000.000000  300000.000000  300000.000000  300000.000000   \n",
       "mean        0.127503       0.256607       0.383223       1.479567   \n",
       "std         0.333537       0.436761       0.486173       0.712524   \n",
       "min         0.000000       0.000000       0.000000       1.000000   \n",
       "25%         0.000000       0.000000       0.000000       1.000000   \n",
       "50%         0.000000       0.000000       0.000000       1.000000   \n",
       "75%         0.000000       1.000000       1.000000       2.000000   \n",
       "max         1.000000       1.000000       1.000000       3.000000   \n",
       "\n",
       "                 day          month        target  \n",
       "count  300000.000000  300000.000000  300000.00000  \n",
       "mean        3.007817       5.771113       0.30588  \n",
       "std         1.817949       3.843519       0.46078  \n",
       "min         1.000000       1.000000       0.00000  \n",
       "25%         2.000000       2.000000       0.00000  \n",
       "50%         3.000000       4.000000       0.00000  \n",
       "75%         4.000000       9.000000       1.00000  \n",
       "max         7.000000      12.000000       1.00000  "
      ]
     },
     "execution_count": 30,
     "metadata": {},
     "output_type": "execute_result"
    }
   ],
   "source": [
    "train.describe()"
   ]
  },
  {
   "cell_type": "code",
   "execution_count": 31,
   "metadata": {
    "ExecuteTime": {
     "end_time": "2022-06-12T01:29:46.598005Z",
     "start_time": "2022-06-12T01:29:46.383440Z"
    }
   },
   "outputs": [],
   "source": [
    "columns_num = train.describe().columns"
   ]
  },
  {
   "cell_type": "code",
   "execution_count": 32,
   "metadata": {
    "ExecuteTime": {
     "end_time": "2022-06-12T01:29:49.870084Z",
     "start_time": "2022-06-12T01:29:46.603053Z"
    },
    "scrolled": false
   },
   "outputs": [
    {
     "data": {
      "text/plain": [
       "array([[<AxesSubplot:title={'center':'bin_0'}>,\n",
       "        <AxesSubplot:title={'center':'bin_1'}>,\n",
       "        <AxesSubplot:title={'center':'bin_2'}>],\n",
       "       [<AxesSubplot:title={'center':'ord_0'}>,\n",
       "        <AxesSubplot:title={'center':'day'}>,\n",
       "        <AxesSubplot:title={'center':'month'}>],\n",
       "       [<AxesSubplot:title={'center':'target'}>, <AxesSubplot:>,\n",
       "        <AxesSubplot:>]], dtype=object)"
      ]
     },
     "execution_count": 32,
     "metadata": {},
     "output_type": "execute_result"
    },
    {
     "data": {
      "image/png": "[encoded data removed]",
      "text/plain": [
       "<Figure size 1440x1080 with 9 Axes>"
      ]
     },
     "metadata": {},
     "output_type": "display_data"
    }
   ],
   "source": [
    "train[columns_num].hist(figsize=(20,15))"
   ]
  },
  {
   "cell_type": "code",
   "execution_count": 33,
   "metadata": {
    "ExecuteTime": {
     "end_time": "2022-06-12T01:29:50.009293Z",
     "start_time": "2022-06-12T01:29:49.874951Z"
    }
   },
   "outputs": [
    {
     "data": {
      "text/html": [
       "<div>\n",
       "<style scoped>\n",
       "    .dataframe tbody tr th:only-of-type {\n",
       "        vertical-align: middle;\n",
       "    }\n",
       "\n",
       "    .dataframe tbody tr th {\n",
       "        vertical-align: top;\n",
       "    }\n",
       "\n",
       "    .dataframe thead th {\n",
       "        text-align: right;\n",
       "    }\n",
       "</style>\n",
       "<table border=\"1\" class=\"dataframe\">\n",
       "  <thead>\n",
       "    <tr style=\"text-align: right;\">\n",
       "      <th></th>\n",
       "      <th>bin_0</th>\n",
       "      <th>bin_1</th>\n",
       "      <th>bin_2</th>\n",
       "      <th>ord_0</th>\n",
       "      <th>day</th>\n",
       "      <th>month</th>\n",
       "    </tr>\n",
       "  </thead>\n",
       "  <tbody>\n",
       "    <tr>\n",
       "      <th>count</th>\n",
       "      <td>200000.000000</td>\n",
       "      <td>200000.000000</td>\n",
       "      <td>200000.000000</td>\n",
       "      <td>200000.000000</td>\n",
       "      <td>200000.000000</td>\n",
       "      <td>200000.000000</td>\n",
       "    </tr>\n",
       "    <tr>\n",
       "      <th>mean</th>\n",
       "      <td>0.127075</td>\n",
       "      <td>0.255865</td>\n",
       "      <td>0.384280</td>\n",
       "      <td>1.477820</td>\n",
       "      <td>3.014070</td>\n",
       "      <td>5.776955</td>\n",
       "    </tr>\n",
       "    <tr>\n",
       "      <th>std</th>\n",
       "      <td>0.333058</td>\n",
       "      <td>0.436347</td>\n",
       "      <td>0.486426</td>\n",
       "      <td>0.711056</td>\n",
       "      <td>1.817248</td>\n",
       "      <td>3.850783</td>\n",
       "    </tr>\n",
       "    <tr>\n",
       "      <th>min</th>\n",
       "      <td>0.000000</td>\n",
       "      <td>0.000000</td>\n",
       "      <td>0.000000</td>\n",
       "      <td>1.000000</td>\n",
       "      <td>1.000000</td>\n",
       "      <td>1.000000</td>\n",
       "    </tr>\n",
       "    <tr>\n",
       "      <th>25%</th>\n",
       "      <td>0.000000</td>\n",
       "      <td>0.000000</td>\n",
       "      <td>0.000000</td>\n",
       "      <td>1.000000</td>\n",
       "      <td>2.000000</td>\n",
       "      <td>2.000000</td>\n",
       "    </tr>\n",
       "    <tr>\n",
       "      <th>50%</th>\n",
       "      <td>0.000000</td>\n",
       "      <td>0.000000</td>\n",
       "      <td>0.000000</td>\n",
       "      <td>1.000000</td>\n",
       "      <td>3.000000</td>\n",
       "      <td>4.000000</td>\n",
       "    </tr>\n",
       "    <tr>\n",
       "      <th>75%</th>\n",
       "      <td>0.000000</td>\n",
       "      <td>1.000000</td>\n",
       "      <td>1.000000</td>\n",
       "      <td>2.000000</td>\n",
       "      <td>4.000000</td>\n",
       "      <td>9.000000</td>\n",
       "    </tr>\n",
       "    <tr>\n",
       "      <th>max</th>\n",
       "      <td>1.000000</td>\n",
       "      <td>1.000000</td>\n",
       "      <td>1.000000</td>\n",
       "      <td>3.000000</td>\n",
       "      <td>7.000000</td>\n",
       "      <td>12.000000</td>\n",
       "    </tr>\n",
       "  </tbody>\n",
       "</table>\n",
       "</div>"
      ],
      "text/plain": [
       "               bin_0          bin_1          bin_2          ord_0  \\\n",
       "count  200000.000000  200000.000000  200000.000000  200000.000000   \n",
       "mean        0.127075       0.255865       0.384280       1.477820   \n",
       "std         0.333058       0.436347       0.486426       0.711056   \n",
       "min         0.000000       0.000000       0.000000       1.000000   \n",
       "25%         0.000000       0.000000       0.000000       1.000000   \n",
       "50%         0.000000       0.000000       0.000000       1.000000   \n",
       "75%         0.000000       1.000000       1.000000       2.000000   \n",
       "max         1.000000       1.000000       1.000000       3.000000   \n",
       "\n",
       "                 day          month  \n",
       "count  200000.000000  200000.000000  \n",
       "mean        3.014070       5.776955  \n",
       "std         1.817248       3.850783  \n",
       "min         1.000000       1.000000  \n",
       "25%         2.000000       2.000000  \n",
       "50%         3.000000       4.000000  \n",
       "75%         4.000000       9.000000  \n",
       "max         7.000000      12.000000  "
      ]
     },
     "execution_count": 33,
     "metadata": {},
     "output_type": "execute_result"
    }
   ],
   "source": [
    "test.describe()"
   ]
  },
  {
   "cell_type": "code",
   "execution_count": 34,
   "metadata": {
    "ExecuteTime": {
     "end_time": "2022-06-12T01:29:50.135568Z",
     "start_time": "2022-06-12T01:29:50.013894Z"
    }
   },
   "outputs": [],
   "source": [
    "columns_num = test.describe().columns"
   ]
  },
  {
   "cell_type": "code",
   "execution_count": 35,
   "metadata": {
    "ExecuteTime": {
     "end_time": "2022-06-12T01:29:53.076434Z",
     "start_time": "2022-06-12T01:29:50.138562Z"
    }
   },
   "outputs": [
    {
     "data": {
      "text/plain": [
       "array([[<AxesSubplot:title={'center':'bin_0'}>,\n",
       "        <AxesSubplot:title={'center':'bin_1'}>],\n",
       "       [<AxesSubplot:title={'center':'bin_2'}>,\n",
       "        <AxesSubplot:title={'center':'ord_0'}>],\n",
       "       [<AxesSubplot:title={'center':'day'}>,\n",
       "        <AxesSubplot:title={'center':'month'}>]], dtype=object)"
      ]
     },
     "execution_count": 35,
     "metadata": {},
     "output_type": "execute_result"
    },
    {
     "data": {
      "image/png": "[encoded data removed]",
      "text/plain": [
       "<Figure size 1440x1080 with 6 Axes>"
      ]
     },
     "metadata": {},
     "output_type": "display_data"
    }
   ],
   "source": [
    "test[columns_num].hist(figsize=(20,15))"
   ]
  },
  {
   "cell_type": "markdown",
   "metadata": {},
   "source": [
    "### 범주형 data 추출"
   ]
  },
  {
   "cell_type": "code",
   "execution_count": 36,
   "metadata": {
    "ExecuteTime": {
     "end_time": "2022-06-12T01:29:53.124282Z",
     "start_time": "2022-06-12T01:29:53.080255Z"
    }
   },
   "outputs": [
    {
     "data": {
      "text/plain": [
       "['bin_0', 'bin_1', 'bin_2', 'ord_0', 'day', 'month', 'target']"
      ]
     },
     "execution_count": 36,
     "metadata": {},
     "output_type": "execute_result"
    }
   ],
   "source": [
    "columns_int = list(train.select_dtypes(include=['int64']).columns)\n",
    "columns_int"
   ]
  },
  {
   "cell_type": "code",
   "execution_count": 37,
   "metadata": {
    "ExecuteTime": {
     "end_time": "2022-06-12T01:29:53.140094Z",
     "start_time": "2022-06-12T01:29:53.128130Z"
    }
   },
   "outputs": [],
   "source": [
    "columns_int.remove('target')"
   ]
  },
  {
   "cell_type": "code",
   "execution_count": 38,
   "metadata": {
    "ExecuteTime": {
     "end_time": "2022-06-12T01:29:53.172013Z",
     "start_time": "2022-06-12T01:29:53.144084Z"
    }
   },
   "outputs": [
    {
     "data": {
      "text/plain": [
       "[]"
      ]
     },
     "execution_count": 38,
     "metadata": {},
     "output_type": "execute_result"
    }
   ],
   "source": [
    "columns_float = list(train.select_dtypes(include=['float64']).columns)\n",
    "columns_float"
   ]
  },
  {
   "cell_type": "code",
   "execution_count": 39,
   "metadata": {
    "ExecuteTime": {
     "end_time": "2022-06-12T01:29:53.188035Z",
     "start_time": "2022-06-12T01:29:53.175997Z"
    }
   },
   "outputs": [
    {
     "data": {
      "text/plain": [
       "['bin_0', 'bin_1', 'bin_2', 'ord_0', 'day', 'month']"
      ]
     },
     "execution_count": 39,
     "metadata": {},
     "output_type": "execute_result"
    }
   ],
   "source": [
    "columns_to_cat = columns_int + columns_float\n",
    "columns_to_cat"
   ]
  },
  {
   "cell_type": "markdown",
   "metadata": {},
   "source": [
    "### binary data 추출"
   ]
  },
  {
   "cell_type": "code",
   "execution_count": 40,
   "metadata": {
    "ExecuteTime": {
     "end_time": "2022-06-12T01:29:53.219881Z",
     "start_time": "2022-06-12T01:29:53.192952Z"
    }
   },
   "outputs": [
    {
     "data": {
      "text/plain": [
       "['bin_0', 'bin_1', 'bin_2', 'target']"
      ]
     },
     "execution_count": 40,
     "metadata": {},
     "output_type": "execute_result"
    }
   ],
   "source": [
    "columns_binary_num = list(train_summary[(train_summary['Dtype'] == 'int64') & (train_summary['Unique value'] == 2)].index)\n",
    "columns_binary_num"
   ]
  },
  {
   "cell_type": "code",
   "execution_count": 41,
   "metadata": {
    "ExecuteTime": {
     "end_time": "2022-06-12T01:29:53.234840Z",
     "start_time": "2022-06-12T01:29:53.225005Z"
    }
   },
   "outputs": [],
   "source": [
    "columns_binary_num.remove('target')"
   ]
  },
  {
   "cell_type": "code",
   "execution_count": 42,
   "metadata": {
    "ExecuteTime": {
     "end_time": "2022-06-12T01:29:53.249837Z",
     "start_time": "2022-06-12T01:29:53.239827Z"
    }
   },
   "outputs": [
    {
     "data": {
      "text/plain": [
       "['columns_binary_num.pkl']"
      ]
     },
     "execution_count": 42,
     "metadata": {},
     "output_type": "execute_result"
    }
   ],
   "source": [
    "joblib.dump(columns_binary_num, 'columns_binary_num.pkl')"
   ]
  },
  {
   "cell_type": "markdown",
   "metadata": {},
   "source": [
    "## 범주형 data"
   ]
  },
  {
   "cell_type": "code",
   "execution_count": 43,
   "metadata": {
    "ExecuteTime": {
     "end_time": "2022-06-12T01:29:53.392158Z",
     "start_time": "2022-06-12T01:29:53.254997Z"
    }
   },
   "outputs": [
    {
     "data": {
      "text/plain": [
       "['bin_3',\n",
       " 'bin_4',\n",
       " 'nom_0',\n",
       " 'nom_1',\n",
       " 'nom_2',\n",
       " 'nom_3',\n",
       " 'nom_4',\n",
       " 'nom_5',\n",
       " 'nom_6',\n",
       " 'nom_7',\n",
       " 'nom_8',\n",
       " 'nom_9',\n",
       " 'ord_1',\n",
       " 'ord_2',\n",
       " 'ord_3',\n",
       " 'ord_4',\n",
       " 'ord_5']"
      ]
     },
     "execution_count": 43,
     "metadata": {},
     "output_type": "execute_result"
    }
   ],
   "source": [
    "columns_str = list(train.select_dtypes(include=['object']).columns)\n",
    "columns_str"
   ]
  },
  {
   "cell_type": "code",
   "execution_count": 44,
   "metadata": {
    "ExecuteTime": {
     "end_time": "2022-06-12T01:29:53.422582Z",
     "start_time": "2022-06-12T01:29:53.395908Z"
    }
   },
   "outputs": [
    {
     "data": {
      "text/plain": [
       "[]"
      ]
     },
     "execution_count": 44,
     "metadata": {},
     "output_type": "execute_result"
    }
   ],
   "source": [
    "columns_bool = list(train.select_dtypes(include=['bool']).columns)\n",
    "columns_bool"
   ]
  },
  {
   "cell_type": "code",
   "execution_count": 45,
   "metadata": {
    "ExecuteTime": {
     "end_time": "2022-06-12T01:29:53.452754Z",
     "start_time": "2022-06-12T01:29:53.426826Z"
    }
   },
   "outputs": [
    {
     "data": {
      "text/plain": [
       "['bin_3',\n",
       " 'bin_4',\n",
       " 'nom_0',\n",
       " 'nom_1',\n",
       " 'nom_2',\n",
       " 'nom_3',\n",
       " 'nom_4',\n",
       " 'nom_5',\n",
       " 'nom_6',\n",
       " 'nom_7',\n",
       " 'nom_8',\n",
       " 'nom_9',\n",
       " 'ord_1',\n",
       " 'ord_2',\n",
       " 'ord_3',\n",
       " 'ord_4',\n",
       " 'ord_5',\n",
       " 'bin_0',\n",
       " 'bin_1',\n",
       " 'bin_2',\n",
       " 'ord_0',\n",
       " 'day',\n",
       " 'month']"
      ]
     },
     "execution_count": 45,
     "metadata": {},
     "output_type": "execute_result"
    }
   ],
   "source": [
    "columns_cat = columns_str + columns_bool + columns_to_cat\n",
    "columns_cat"
   ]
  },
  {
   "cell_type": "code",
   "execution_count": 46,
   "metadata": {
    "ExecuteTime": {
     "end_time": "2022-06-12T01:29:53.468011Z",
     "start_time": "2022-06-12T01:29:53.456745Z"
    }
   },
   "outputs": [],
   "source": [
    "columns_dt = []"
   ]
  },
  {
   "cell_type": "code",
   "execution_count": 47,
   "metadata": {
    "ExecuteTime": {
     "end_time": "2022-06-12T01:29:53.483724Z",
     "start_time": "2022-06-12T01:29:53.472704Z"
    }
   },
   "outputs": [],
   "source": [
    "for column in columns_dt :\n",
    "    columns_cat.remove(column)"
   ]
  },
  {
   "cell_type": "code",
   "execution_count": 48,
   "metadata": {
    "ExecuteTime": {
     "end_time": "2022-06-12T01:29:53.499631Z",
     "start_time": "2022-06-12T01:29:53.488243Z"
    }
   },
   "outputs": [
    {
     "data": {
      "text/plain": [
       "['columns_cat.pkl']"
      ]
     },
     "execution_count": 48,
     "metadata": {},
     "output_type": "execute_result"
    }
   ],
   "source": [
    "joblib.dump(columns_cat, 'columns_cat.pkl')"
   ]
  },
  {
   "cell_type": "code",
   "execution_count": 49,
   "metadata": {
    "ExecuteTime": {
     "end_time": "2022-06-12T01:29:53.515682Z",
     "start_time": "2022-06-12T01:29:53.504617Z"
    }
   },
   "outputs": [
    {
     "data": {
      "text/plain": [
       "['columns_dt.pkl']"
      ]
     },
     "execution_count": 49,
     "metadata": {},
     "output_type": "execute_result"
    }
   ],
   "source": [
    "joblib.dump(columns_dt, 'columns_dt.pkl')"
   ]
  },
  {
   "cell_type": "markdown",
   "metadata": {},
   "source": [
    "### train data"
   ]
  },
  {
   "cell_type": "code",
   "execution_count": 50,
   "metadata": {
    "ExecuteTime": {
     "end_time": "2022-06-12T01:29:55.349660Z",
     "start_time": "2022-06-12T01:29:53.520573Z"
    }
   },
   "outputs": [],
   "source": [
    "# value값을 20개 이하로 가지는 column을 선택\n",
    "# value값이 너무 많으면 countplot을 그리는데 시간이 너무 많이 소요됨\n",
    "columns_cat_count = []\n",
    "\n",
    "for column in columns_cat :\n",
    "    \n",
    "    if len(train[column].value_counts()) <= 20 :\n",
    "        columns_cat_count.append(column)"
   ]
  },
  {
   "cell_type": "code",
   "execution_count": 51,
   "metadata": {
    "ExecuteTime": {
     "end_time": "2022-06-12T01:30:04.949261Z",
     "start_time": "2022-06-12T01:29:55.352643Z"
    },
    "scrolled": false
   },
   "outputs": [
    {
     "data": {
      "image/png": "[encoded data removed]",
      "text/plain": [
       "<Figure size 1152x2880 with 16 Axes>"
      ]
     },
     "metadata": {},
     "output_type": "display_data"
    }
   ],
   "source": [
    "k = len(columns_cat_count)\n",
    "m = math.ceil(k / 2)\n",
    "\n",
    "plt.figure(figsize=(16, 5 * m))\n",
    "grid = plt.GridSpec(m, 2, wspace=0.4, hspace=0.3)\n",
    "\n",
    "for i in range(k) :    \n",
    "    ax = plt.subplot(grid[i])\n",
    "    sns.countplot(data=train, x=columns_cat_count[i], ax=ax)"
   ]
  },
  {
   "cell_type": "markdown",
   "metadata": {},
   "source": [
    "### test data"
   ]
  },
  {
   "cell_type": "code",
   "execution_count": 52,
   "metadata": {
    "ExecuteTime": {
     "end_time": "2022-06-12T01:30:13.817571Z",
     "start_time": "2022-06-12T01:30:04.954068Z"
    },
    "scrolled": false
   },
   "outputs": [
    {
     "data": {
      "image/png": "[encoded data removed]",
      "text/plain": [
       "<Figure size 1152x2880 with 16 Axes>"
      ]
     },
     "metadata": {},
     "output_type": "display_data"
    }
   ],
   "source": [
    "k = len(columns_cat_count)\n",
    "m = math.ceil(k / 2)\n",
    "\n",
    "plt.figure(figsize=(16, 5 * m))\n",
    "grid = plt.GridSpec(m, 2, wspace=0.4, hspace=0.3)\n",
    "\n",
    "for i in range(k) :    \n",
    "    ax = plt.subplot(grid[i])\n",
    "    sns.countplot(data=test, x=columns_cat_count[i], ax=ax)"
   ]
  },
  {
   "cell_type": "markdown",
   "metadata": {},
   "source": [
    "### 전체 dataset"
   ]
  },
  {
   "cell_type": "code",
   "execution_count": 53,
   "metadata": {
    "ExecuteTime": {
     "end_time": "2022-06-12T01:30:14.584662Z",
     "start_time": "2022-06-12T01:30:13.823008Z"
    }
   },
   "outputs": [],
   "source": [
    "data_total = pd.concat([train, test], axis=0, ignore_index=True)\n",
    "data_total.loc[:len(train), 'dataset'] = 'Train'\n",
    "data_total.loc[len(train):, 'dataset'] = 'Test'"
   ]
  },
  {
   "cell_type": "code",
   "execution_count": 54,
   "metadata": {
    "ExecuteTime": {
     "end_time": "2022-06-12T01:30:35.511563Z",
     "start_time": "2022-06-12T01:30:14.589603Z"
    },
    "scrolled": false
   },
   "outputs": [
    {
     "data": {
      "image/png": "[encoded data removed]",
      "text/plain": [
       "<Figure size 1152x2880 with 16 Axes>"
      ]
     },
     "metadata": {},
     "output_type": "display_data"
    }
   ],
   "source": [
    "k = len(columns_cat_count)\n",
    "m = math.ceil(k / 2)\n",
    "\n",
    "plt.figure(figsize=(16, 5 * m))\n",
    "grid = plt.GridSpec(m, 2, wspace=0.4, hspace=0.3)\n",
    "\n",
    "for i in range(k) :    \n",
    "    ax = plt.subplot(grid[i])\n",
    "    sns.countplot(data=data_total, x=columns_cat_count[i], hue='dataset', ax=ax)"
   ]
  },
  {
   "cell_type": "markdown",
   "metadata": {},
   "source": [
    "### binary data 추출"
   ]
  },
  {
   "cell_type": "code",
   "execution_count": 55,
   "metadata": {
    "ExecuteTime": {
     "end_time": "2022-06-12T01:30:35.542452Z",
     "start_time": "2022-06-12T01:30:35.515548Z"
    }
   },
   "outputs": [
    {
     "data": {
      "text/plain": [
       "['bin_3', 'bin_4']"
      ]
     },
     "execution_count": 55,
     "metadata": {},
     "output_type": "execute_result"
    }
   ],
   "source": [
    "columns_binary_cat = list(train_summary[(train_summary['Dtype'] == 'object') & (train_summary['Unique value'] == 2)].index)\n",
    "columns_binary_cat"
   ]
  },
  {
   "cell_type": "code",
   "execution_count": 56,
   "metadata": {
    "ExecuteTime": {
     "end_time": "2022-06-12T01:30:35.558550Z",
     "start_time": "2022-06-12T01:30:35.547437Z"
    }
   },
   "outputs": [],
   "source": [
    "# columns_binary_cat.remove('target')"
   ]
  },
  {
   "cell_type": "code",
   "execution_count": 57,
   "metadata": {
    "ExecuteTime": {
     "end_time": "2022-06-12T01:30:35.589607Z",
     "start_time": "2022-06-12T01:30:35.563392Z"
    }
   },
   "outputs": [
    {
     "data": {
      "text/plain": [
       "['columns_binary_cat.pkl']"
      ]
     },
     "execution_count": 57,
     "metadata": {},
     "output_type": "execute_result"
    }
   ],
   "source": [
    "joblib.dump(columns_binary_cat, 'columns_binary_cat.pkl')"
   ]
  }
 ],
 "metadata": {
  "hide_input": false,
  "kernelspec": {
   "display_name": "Python 3",
   "language": "python",
   "name": "python3"
  },
  "language_info": {
   "codemirror_mode": {
    "name": "ipython",
    "version": 3
   },
   "file_extension": ".py",
   "mimetype": "text/x-python",
   "name": "python",
   "nbconvert_exporter": "python",
   "pygments_lexer": "ipython3",
   "version": "3.7.1"
  },
  "toc": {
   "base_numbering": 1,
   "nav_menu": {},
   "number_sections": true,
   "sideBar": true,
   "skip_h1_title": false,
   "title_cell": "Table of Contents",
   "title_sidebar": "Contents",
   "toc_cell": false,
   "toc_position": {
    "height": "calc(100% - 180px)",
    "left": "10px",
    "top": "150px",
    "width": "303.8px"
   },
   "toc_section_display": true,
   "toc_window_display": true
  },
  "varInspector": {
   "cols": {
    "lenName": 16,
    "lenType": 16,
    "lenVar": 40
   },
   "kernels_config": {
    "python": {
     "delete_cmd_postfix": "",
     "delete_cmd_prefix": "del ",
     "library": "var_list.py",
     "varRefreshCmd": "print(var_dic_list())"
    },
    "r": {
     "delete_cmd_postfix": ") ",
     "delete_cmd_prefix": "rm(",
     "library": "var_list.r",
     "varRefreshCmd": "cat(var_dic_list()) "
    }
   },
   "types_to_exclude": [
    "module",
    "function",
    "builtin_function_or_method",
    "instance",
    "_Feature"
   ],
   "window_display": false
  }
 },
 "nbformat": 4,
 "nbformat_minor": 4
}

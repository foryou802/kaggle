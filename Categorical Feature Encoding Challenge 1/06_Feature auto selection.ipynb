{
 "cells": [
  {
   "cell_type": "code",
   "execution_count": 1,
   "metadata": {
    "ExecuteTime": {
     "end_time": "2021-11-06T06:55:11.321301Z",
     "start_time": "2021-11-06T06:55:08.886060Z"
    }
   },
   "outputs": [],
   "source": [
    "import numpy as np\n",
    "from scipy import stats\n",
    "import pandas as pd\n",
    "import matplotlib.pyplot as plt\n",
    "import seaborn as sns\n",
    "\n",
    "# sns.set()\n",
    "\n",
    "import os\n",
    "\n",
    "import warnings\n",
    "warnings.filterwarnings('ignore')"
   ]
  },
  {
   "cell_type": "code",
   "execution_count": 2,
   "metadata": {
    "ExecuteTime": {
     "end_time": "2021-11-06T06:55:13.917090Z",
     "start_time": "2021-11-06T06:55:11.323411Z"
    }
   },
   "outputs": [],
   "source": [
    "import joblib\n",
    "from sklearn.base import BaseEstimator, TransformerMixin\n",
    "from sklearn.impute import SimpleImputer\n",
    "from sklearn.preprocessing import StandardScaler, MinMaxScaler\n",
    "from sklearn.preprocessing import OneHotEncoder\n",
    "from sklearn.compose import ColumnTransformer, make_column_transformer\n",
    "from sklearn.pipeline import Pipeline, make_pipeline\n",
    "from sklearn.feature_selection import SelectPercentile, f_classif, f_regression, SelectFromModel, RFE\n",
    "from sklearn.model_selection import train_test_split\n",
    "from sklearn.model_selection import cross_val_score, cross_validate\n",
    "from sklearn.metrics import mean_squared_error\n",
    "from sklearn.model_selection import GridSearchCV, RandomizedSearchCV"
   ]
  },
  {
   "cell_type": "code",
   "execution_count": 3,
   "metadata": {
    "ExecuteTime": {
     "end_time": "2021-11-06T06:55:14.087136Z",
     "start_time": "2021-11-06T06:55:13.921515Z"
    }
   },
   "outputs": [],
   "source": [
    "from sklearn.neighbors import KNeighborsClassifier\n",
    "from sklearn.linear_model import LogisticRegression\n",
    "from sklearn.linear_model import SGDClassifier\n",
    "from sklearn.svm import LinearSVC, SVC\n",
    "from sklearn.tree import DecisionTreeClassifier\n",
    "from sklearn.ensemble import RandomForestClassifier\n",
    "from sklearn.ensemble import ExtraTreesClassifier\n",
    "from sklearn.ensemble import GradientBoostingClassifier\n",
    "from xgboost import XGBClassifier\n",
    "# from lightgbm import LGBMClassifier\n",
    "from sklearn.ensemble import AdaBoostClassifier\n",
    "from sklearn.neural_network import MLPClassifier"
   ]
  },
  {
   "cell_type": "code",
   "execution_count": 4,
   "metadata": {
    "ExecuteTime": {
     "end_time": "2021-11-06T06:55:19.331146Z",
     "start_time": "2021-11-06T06:55:14.094014Z"
    }
   },
   "outputs": [],
   "source": [
    "import tensorflow as tf\n",
    "from tensorflow import keras\n",
    "from tensorflow.keras.models import Sequential, Model\n",
    "from tensorflow.keras.layers import Flatten, Dense, Input, concatenate, Embedding, Dot\n",
    "from tensorflow.keras.layers import Activation, ReLU, LeakyReLU, PReLU\n",
    "from tensorflow.keras.layers import BatchNormalization, Dropout, AlphaDropout\n",
    "from tensorflow.keras.callbacks import EarlyStopping, ModelCheckpoint\n",
    "from tensorflow.keras.utils import plot_model\n",
    "\n",
    "from functools import partial"
   ]
  },
  {
   "cell_type": "markdown",
   "metadata": {},
   "source": [
    "# Data load"
   ]
  },
  {
   "cell_type": "code",
   "execution_count": 5,
   "metadata": {
    "ExecuteTime": {
     "end_time": "2021-11-06T06:55:21.448654Z",
     "start_time": "2021-11-06T06:55:19.334103Z"
    }
   },
   "outputs": [],
   "source": [
    "train = pd.read_csv('train.csv')\n",
    "test = pd.read_csv('test.csv')"
   ]
  },
  {
   "cell_type": "markdown",
   "metadata": {},
   "source": [
    "# Column 설정"
   ]
  },
  {
   "cell_type": "code",
   "execution_count": 6,
   "metadata": {
    "ExecuteTime": {
     "end_time": "2021-11-06T06:55:21.464328Z",
     "start_time": "2021-11-06T06:55:21.452689Z"
    }
   },
   "outputs": [],
   "source": [
    "target = 'target'"
   ]
  },
  {
   "cell_type": "code",
   "execution_count": 7,
   "metadata": {
    "ExecuteTime": {
     "end_time": "2021-11-06T06:55:21.495060Z",
     "start_time": "2021-11-06T06:55:21.470017Z"
    }
   },
   "outputs": [],
   "source": [
    "columns_useless = ['id']\n",
    "# columns_useless = columns_useless + ['nom_5', 'nom_6', 'nom_7', 'nom_8', 'nom_9', 'ord_5']"
   ]
  },
  {
   "cell_type": "code",
   "execution_count": 8,
   "metadata": {
    "ExecuteTime": {
     "end_time": "2021-11-06T06:55:21.525974Z",
     "start_time": "2021-11-06T06:55:21.503959Z"
    }
   },
   "outputs": [],
   "source": [
    "columns_num_all = joblib.load('columns_num.pkl')\n",
    "columns_cat_all = joblib.load('columns_cat.pkl')\n",
    "columns_binary_num = joblib.load('columns_binary_num.pkl')\n",
    "columns_binary_cat = joblib.load('columns_binary_cat.pkl')"
   ]
  },
  {
   "cell_type": "code",
   "execution_count": 9,
   "metadata": {
    "ExecuteTime": {
     "end_time": "2021-11-06T06:55:21.541823Z",
     "start_time": "2021-11-06T06:55:21.532850Z"
    }
   },
   "outputs": [],
   "source": [
    "try :\n",
    "    columns_num_all.remove(target)\n",
    "    \n",
    "except :\n",
    "    pass"
   ]
  },
  {
   "cell_type": "code",
   "execution_count": 10,
   "metadata": {
    "ExecuteTime": {
     "end_time": "2021-11-06T06:55:21.557899Z",
     "start_time": "2021-11-06T06:55:21.547471Z"
    }
   },
   "outputs": [],
   "source": [
    "try :\n",
    "    columns_cat_all.remove(target)\n",
    "    \n",
    "except :\n",
    "    pass"
   ]
  },
  {
   "cell_type": "code",
   "execution_count": 11,
   "metadata": {
    "ExecuteTime": {
     "end_time": "2021-11-06T06:55:21.573775Z",
     "start_time": "2021-11-06T06:55:21.560776Z"
    }
   },
   "outputs": [],
   "source": [
    "columns_num = []\n",
    "\n",
    "for column in columns_num_all :\n",
    "    \n",
    "    if column not in columns_useless :\n",
    "        columns_num.append(column)"
   ]
  },
  {
   "cell_type": "code",
   "execution_count": 12,
   "metadata": {
    "ExecuteTime": {
     "end_time": "2021-11-06T06:55:21.589697Z",
     "start_time": "2021-11-06T06:55:21.577888Z"
    }
   },
   "outputs": [],
   "source": [
    "columns_cat = []\n",
    "\n",
    "for column in columns_cat_all :\n",
    "    \n",
    "    if column not in columns_useless :\n",
    "        columns_cat.append(column)"
   ]
  },
  {
   "cell_type": "code",
   "execution_count": 13,
   "metadata": {
    "ExecuteTime": {
     "end_time": "2021-11-06T06:55:21.605754Z",
     "start_time": "2021-11-06T06:55:21.592692Z"
    }
   },
   "outputs": [
    {
     "data": {
      "text/plain": [
       "[]"
      ]
     },
     "execution_count": 13,
     "metadata": {},
     "output_type": "execute_result"
    }
   ],
   "source": [
    "columns_sc = []\n",
    "\n",
    "for column in columns_num :\n",
    "    \n",
    "    if column not in columns_binary_num:\n",
    "        columns_sc.append(column)\n",
    "        \n",
    "columns_sc"
   ]
  },
  {
   "cell_type": "code",
   "execution_count": 14,
   "metadata": {
    "ExecuteTime": {
     "end_time": "2021-11-06T06:55:21.620671Z",
     "start_time": "2021-11-06T06:55:21.608650Z"
    }
   },
   "outputs": [
    {
     "data": {
      "text/plain": [
       "['nom_0',\n",
       " 'nom_1',\n",
       " 'nom_2',\n",
       " 'nom_3',\n",
       " 'nom_4',\n",
       " 'nom_5',\n",
       " 'nom_6',\n",
       " 'nom_7',\n",
       " 'nom_8',\n",
       " 'nom_9',\n",
       " 'ord_1',\n",
       " 'ord_2',\n",
       " 'ord_3',\n",
       " 'ord_4',\n",
       " 'ord_5',\n",
       " 'ord_0',\n",
       " 'day',\n",
       " 'month']"
      ]
     },
     "execution_count": 14,
     "metadata": {},
     "output_type": "execute_result"
    }
   ],
   "source": [
    "columns_en = []\n",
    "\n",
    "for column in columns_cat :\n",
    "    \n",
    "    if (column not in columns_binary_num) and (column not in columns_binary_cat):\n",
    "        columns_en.append(column)\n",
    "        \n",
    "columns_en"
   ]
  },
  {
   "cell_type": "markdown",
   "metadata": {},
   "source": [
    "# Target 분리"
   ]
  },
  {
   "cell_type": "code",
   "execution_count": 15,
   "metadata": {
    "ExecuteTime": {
     "end_time": "2021-11-06T06:55:21.636569Z",
     "start_time": "2021-11-06T06:55:21.623609Z"
    }
   },
   "outputs": [],
   "source": [
    "# y = data[target]\n",
    "# X = data.drop(target, axis=1)"
   ]
  },
  {
   "cell_type": "code",
   "execution_count": 16,
   "metadata": {
    "ExecuteTime": {
     "end_time": "2021-11-06T06:55:21.745388Z",
     "start_time": "2021-11-06T06:55:21.640561Z"
    }
   },
   "outputs": [],
   "source": [
    "y_train = train[target]\n",
    "X_train = train.drop(target, axis=1)\n",
    "\n",
    "y_train_og = y_train.copy()\n",
    "X_train_og = X_train.copy()"
   ]
  },
  {
   "cell_type": "code",
   "execution_count": 17,
   "metadata": {
    "ExecuteTime": {
     "end_time": "2021-11-06T06:55:21.793375Z",
     "start_time": "2021-11-06T06:55:21.749315Z"
    }
   },
   "outputs": [],
   "source": [
    "X_test = test.copy()"
   ]
  },
  {
   "cell_type": "markdown",
   "metadata": {},
   "source": [
    "# 전체 dataset concat"
   ]
  },
  {
   "cell_type": "code",
   "execution_count": 18,
   "metadata": {
    "ExecuteTime": {
     "end_time": "2021-11-06T06:55:22.055507Z",
     "start_time": "2021-11-06T06:55:21.798142Z"
    }
   },
   "outputs": [],
   "source": [
    "all_data = pd.concat([X_train, X_test])"
   ]
  },
  {
   "cell_type": "markdown",
   "metadata": {},
   "source": [
    "# Data preprocessing"
   ]
  },
  {
   "cell_type": "code",
   "execution_count": 19,
   "metadata": {
    "ExecuteTime": {
     "end_time": "2021-11-06T06:55:22.071338Z",
     "start_time": "2021-11-06T06:55:22.058509Z"
    }
   },
   "outputs": [],
   "source": [
    "def preprocessing(data, X_train_og, columns_useless, columns_sc, columns_binary_cat, columns_en) :\n",
    "    \n",
    "    # useless column 제거\n",
    "    data.drop(columns_useless, axis=1, inplace=True)\n",
    "    \n",
    "    # scaling\n",
    "#     scaler = StandardScaler()\n",
    "#     scaler.fit(X_train_og[columns_sc])\n",
    "#     data[columns_sc] = scaler.transform(data[columns_sc])\n",
    "\n",
    "    # binary data 처리\n",
    "    column = columns_binary_cat[0]\n",
    "    index_1 = data[data[column] == 'T'].index\n",
    "    index_0 = data[data[column] == 'F'].index\n",
    "    data.loc[index_1, column] = 1\n",
    "    data.loc[index_0, column] = 0\n",
    "    \n",
    "    column = columns_binary_cat[1]\n",
    "    index_1 = data[data[column] == 'Y'].index\n",
    "    index_0 = data[data[column] == 'N'].index\n",
    "    data.loc[index_1, column] = 1\n",
    "    data.loc[index_0, column] = 0\n",
    "    \n",
    "    data[columns_binary_cat] = data[columns_binary_cat].astype('int64')\n",
    "    \n",
    "    # One-hot-encoding\n",
    "#     data = pd.get_dummies(data, columns=columns_en)\n",
    "    encoder = OneHotEncoder()   # 고윳값을 많이 가진 feature가 있는 경우는 OneHotEncoder를 사용해야 함\n",
    "    data = encoder.fit_transform(data)\n",
    "    \n",
    "    return data"
   ]
  },
  {
   "cell_type": "code",
   "execution_count": 20,
   "metadata": {
    "ExecuteTime": {
     "end_time": "2021-11-06T06:55:28.930441Z",
     "start_time": "2021-11-06T06:55:22.074256Z"
    }
   },
   "outputs": [],
   "source": [
    "all_data = preprocessing(all_data, X_train_og, columns_useless, columns_sc, columns_binary_cat, columns_en)"
   ]
  },
  {
   "cell_type": "markdown",
   "metadata": {},
   "source": [
    "# Train & test set 분리"
   ]
  },
  {
   "cell_type": "code",
   "execution_count": 21,
   "metadata": {
    "ExecuteTime": {
     "end_time": "2021-11-06T06:55:29.147025Z",
     "start_time": "2021-11-06T06:55:28.934321Z"
    }
   },
   "outputs": [],
   "source": [
    "X_train = all_data[:len(train)]\n",
    "X_test = all_data[len(train):]"
   ]
  },
  {
   "cell_type": "code",
   "execution_count": 22,
   "metadata": {
    "ExecuteTime": {
     "end_time": "2021-11-06T06:55:29.225996Z",
     "start_time": "2021-11-06T06:55:29.150877Z"
    }
   },
   "outputs": [],
   "source": [
    "X_train_before = X_train.copy()\n",
    "X_test_before = X_test.copy()"
   ]
  },
  {
   "cell_type": "markdown",
   "metadata": {},
   "source": [
    "# Select Percentile"
   ]
  },
  {
   "cell_type": "code",
   "execution_count": 23,
   "metadata": {
    "ExecuteTime": {
     "end_time": "2021-11-06T06:55:29.508353Z",
     "start_time": "2021-11-06T06:55:29.236027Z"
    }
   },
   "outputs": [
    {
     "data": {
      "text/plain": [
       "SelectPercentile(percentile=30)"
      ]
     },
     "execution_count": 23,
     "metadata": {},
     "output_type": "execute_result"
    }
   ],
   "source": [
    "select = SelectPercentile(score_func=f_classif, percentile=30)\n",
    "select.fit(X_train, y_train)"
   ]
  },
  {
   "cell_type": "code",
   "execution_count": 24,
   "metadata": {
    "ExecuteTime": {
     "end_time": "2021-11-06T06:55:29.618303Z",
     "start_time": "2021-11-06T06:55:29.514232Z"
    },
    "scrolled": true
   },
   "outputs": [
    {
     "data": {
      "text/plain": [
       "(300000, 4965)"
      ]
     },
     "execution_count": 24,
     "metadata": {},
     "output_type": "execute_result"
    }
   ],
   "source": [
    "X_train = select.transform(X_train)\n",
    "X_train.shape"
   ]
  },
  {
   "cell_type": "code",
   "execution_count": 25,
   "metadata": {
    "ExecuteTime": {
     "end_time": "2021-11-06T06:55:29.695948Z",
     "start_time": "2021-11-06T06:55:29.620151Z"
    }
   },
   "outputs": [
    {
     "data": {
      "text/plain": [
       "(200000, 4965)"
      ]
     },
     "execution_count": 25,
     "metadata": {},
     "output_type": "execute_result"
    }
   ],
   "source": [
    "X_test = select.transform(X_test)\n",
    "X_test.shape"
   ]
  },
  {
   "cell_type": "markdown",
   "metadata": {},
   "source": [
    "## Validation set 분리\n",
    "- Train dataset이 너무 커서 cross validation에 너무 오랜 시간이 걸리는 경우\n",
    "- OneHotEncoder를 사용하면 sparse matrix를 return하기 때문에 neural network에서 validation_split를 사용할 수 없는 경우"
   ]
  },
  {
   "cell_type": "code",
   "execution_count": 26,
   "metadata": {
    "ExecuteTime": {
     "end_time": "2021-11-06T06:55:29.929733Z",
     "start_time": "2021-11-06T06:55:29.700939Z"
    }
   },
   "outputs": [],
   "source": [
    "X_train, X_val, y_train, y_val = train_test_split(X_train, y_train, random_state=30)"
   ]
  },
  {
   "cell_type": "markdown",
   "metadata": {},
   "source": [
    "## ML model cross validation"
   ]
  },
  {
   "cell_type": "code",
   "execution_count": 27,
   "metadata": {
    "ExecuteTime": {
     "end_time": "2021-11-06T06:55:29.975791Z",
     "start_time": "2021-11-06T06:55:29.936722Z"
    }
   },
   "outputs": [],
   "source": [
    "knn = KNeighborsClassifier(n_neighbors=5)\n",
    "logit = LogisticRegression(C=1.0, random_state=30)\n",
    "sgd = SGDClassifier(max_iter=1000, eta0=0.0, random_state=30)\n",
    "linsvm = LinearSVC(C=1.0, random_state=30)\n",
    "svm = SVC(kernel='rbf', C=1.0, gamma='scale', random_state=30)\n",
    "dt = DecisionTreeClassifier(max_depth=None, random_state=30)\n",
    "rf = RandomForestClassifier(n_estimators=100, max_depth=None, n_jobs=-1, random_state=30)\n",
    "et = ExtraTreesClassifier(n_estimators=100, max_depth=None, n_jobs=-1, random_state=30)\n",
    "gb = GradientBoostingClassifier(learning_rate=0.1, n_estimators=1000, max_depth=3, random_state=30)\n",
    "xgb = XGBClassifier(learning_rate=0.1, n_estimators=100, max_depth=3, random_state=30)\n",
    "# lgb = LGBMClassifier(random_state=30)\n",
    "adb = AdaBoostClassifier(random_state=30)\n",
    "mlp = MLPClassifier(hidden_layer_sizes=(100,), activation='relu', solver='adam', alpha=0.0001, max_iter=200,\n",
    "                    learning_rate='constant', learning_rate_init=0.001,random_state=30)"
   ]
  },
  {
   "cell_type": "code",
   "execution_count": 28,
   "metadata": {
    "ExecuteTime": {
     "end_time": "2021-11-06T06:55:30.007202Z",
     "start_time": "2021-11-06T06:55:29.984048Z"
    }
   },
   "outputs": [],
   "source": [
    "models = {\n",
    "#     'knn' : knn,\n",
    "    'logit' : logit,\n",
    "    'sgd' : sgd,\n",
    "    'linsvm' : linsvm,\n",
    "#     'svm' : svm,\n",
    "#     'dt' : dt,\n",
    "#     'rf' : rf,\n",
    "#     'et' : et,\n",
    "#     'gb' : gb,\n",
    "#     'xgb' : xgb,\n",
    "#     'lgb' : lgb,\n",
    "#     'adb' : adb,\n",
    "#     'mlp' : mlp\n",
    "}"
   ]
  },
  {
   "cell_type": "code",
   "execution_count": 29,
   "metadata": {
    "ExecuteTime": {
     "end_time": "2021-11-06T06:56:59.113380Z",
     "start_time": "2021-11-06T06:55:30.014987Z"
    }
   },
   "outputs": [],
   "source": [
    "result = []\n",
    "\n",
    "for key, model in models.items() : \n",
    "    score = cross_validate(model, X_train, y_train, cv=5, scoring='roc_auc', return_train_score=True, n_jobs=-1)  \n",
    "    score = pd.DataFrame(score).mean()\n",
    "    \n",
    "    result.append(score)"
   ]
  },
  {
   "cell_type": "code",
   "execution_count": 30,
   "metadata": {
    "ExecuteTime": {
     "end_time": "2021-11-06T06:56:59.145256Z",
     "start_time": "2021-11-06T06:56:59.115338Z"
    }
   },
   "outputs": [
    {
     "data": {
      "text/html": [
       "<div>\n",
       "<style scoped>\n",
       "    .dataframe tbody tr th:only-of-type {\n",
       "        vertical-align: middle;\n",
       "    }\n",
       "\n",
       "    .dataframe tbody tr th {\n",
       "        vertical-align: top;\n",
       "    }\n",
       "\n",
       "    .dataframe thead th {\n",
       "        text-align: right;\n",
       "    }\n",
       "</style>\n",
       "<table border=\"1\" class=\"dataframe\">\n",
       "  <thead>\n",
       "    <tr style=\"text-align: right;\">\n",
       "      <th></th>\n",
       "      <th>test_score</th>\n",
       "      <th>train_score</th>\n",
       "      <th>fit_time</th>\n",
       "      <th>score_time</th>\n",
       "    </tr>\n",
       "  </thead>\n",
       "  <tbody>\n",
       "    <tr>\n",
       "      <th>logit</th>\n",
       "      <td>0.807</td>\n",
       "      <td>0.824</td>\n",
       "      <td>4.793</td>\n",
       "      <td>0.034</td>\n",
       "    </tr>\n",
       "    <tr>\n",
       "      <th>sgd</th>\n",
       "      <td>0.802</td>\n",
       "      <td>0.814</td>\n",
       "      <td>1.748</td>\n",
       "      <td>0.031</td>\n",
       "    </tr>\n",
       "    <tr>\n",
       "      <th>linsvm</th>\n",
       "      <td>0.807</td>\n",
       "      <td>0.831</td>\n",
       "      <td>69.246</td>\n",
       "      <td>0.026</td>\n",
       "    </tr>\n",
       "  </tbody>\n",
       "</table>\n",
       "</div>"
      ],
      "text/plain": [
       "        test_score  train_score  fit_time  score_time\n",
       "logit        0.807        0.824     4.793       0.034\n",
       "sgd          0.802        0.814     1.748       0.031\n",
       "linsvm       0.807        0.831    69.246       0.026"
      ]
     },
     "execution_count": 30,
     "metadata": {},
     "output_type": "execute_result"
    }
   ],
   "source": [
    "result = pd.concat(result, axis=1)\n",
    "result.columns = models.keys()\n",
    "result = result.T\n",
    "result = result[['test_score', 'train_score', 'fit_time', 'score_time']]\n",
    "result = round(result, 3)\n",
    "result"
   ]
  },
  {
   "cell_type": "code",
   "execution_count": 31,
   "metadata": {
    "ExecuteTime": {
     "end_time": "2021-11-06T06:57:38.201123Z",
     "start_time": "2021-11-06T06:56:59.147251Z"
    }
   },
   "outputs": [
    {
     "name": "stdout",
     "output_type": "stream",
     "text": [
      "logit : 0.768\n",
      "sgd : 0.764\n",
      "linsvm : 0.77\n"
     ]
    }
   ],
   "source": [
    "for key, model in models.items() :\n",
    "    model.fit(X_train, y_train)\n",
    "    print(key, ':', round(model.score(X_val, y_val), 3))"
   ]
  },
  {
   "cell_type": "markdown",
   "metadata": {},
   "source": [
    "## Nerual network"
   ]
  },
  {
   "cell_type": "code",
   "execution_count": 32,
   "metadata": {
    "ExecuteTime": {
     "end_time": "2021-11-06T06:57:38.216792Z",
     "start_time": "2021-11-06T06:57:38.203079Z"
    }
   },
   "outputs": [],
   "source": [
    "def plot_result(history) :\n",
    "    plt.figure(figsize=(12, 4))\n",
    "    plt.subplot(1, 2, 1)\n",
    "    plt.plot(history.history['loss'], 'b--', label='loss')\n",
    "    plt.plot(history.history['val_loss'], 'r-', label='val_loss')\n",
    "    plt.xlabel('Epoch')\n",
    "    plt.grid(True)\n",
    "    plt.legend()\n",
    "\n",
    "    plt.subplot(1, 2, 2)\n",
    "    plt.plot(history.history['auc'], 'b--', label='auc')\n",
    "    plt.plot(history.history['val_auc'], 'r-', label='val_auc')\n",
    "    plt.xlabel('Epoch')\n",
    "    plt.grid(True)\n",
    "    plt.legend()"
   ]
  },
  {
   "cell_type": "code",
   "execution_count": 33,
   "metadata": {
    "ExecuteTime": {
     "end_time": "2021-11-06T06:57:38.232866Z",
     "start_time": "2021-11-06T06:57:38.217790Z"
    }
   },
   "outputs": [],
   "source": [
    "np.random.seed(30)\n",
    "tf.random.set_seed(30)"
   ]
  },
  {
   "cell_type": "code",
   "execution_count": 34,
   "metadata": {
    "ExecuteTime": {
     "end_time": "2021-11-06T06:57:38.325518Z",
     "start_time": "2021-11-06T06:57:38.234820Z"
    }
   },
   "outputs": [
    {
     "name": "stdout",
     "output_type": "stream",
     "text": [
      "Model: \"sequential\"\n",
      "_________________________________________________________________\n",
      "Layer (type)                 Output Shape              Param #   \n",
      "=================================================================\n",
      "dense (Dense)                (None, 100)               496600    \n",
      "_________________________________________________________________\n",
      "dense_1 (Dense)              (None, 100)               10100     \n",
      "_________________________________________________________________\n",
      "dense_2 (Dense)              (None, 100)               10100     \n",
      "_________________________________________________________________\n",
      "dense_3 (Dense)              (None, 100)               10100     \n",
      "_________________________________________________________________\n",
      "dense_4 (Dense)              (None, 100)               10100     \n",
      "_________________________________________________________________\n",
      "dense_5 (Dense)              (None, 100)               10100     \n",
      "_________________________________________________________________\n",
      "dense_6 (Dense)              (None, 2)                 202       \n",
      "=================================================================\n",
      "Total params: 547,302\n",
      "Trainable params: 547,302\n",
      "Non-trainable params: 0\n",
      "_________________________________________________________________\n"
     ]
    }
   ],
   "source": [
    "model = Sequential()\n",
    "model.add(Dense(100, activation='selu', kernel_initializer='lecun_normal', input_shape=(X_train.shape[1],)))\n",
    "\n",
    "for layer in range(5):\n",
    "    model.add(Dense(100, activation='selu', kernel_initializer='lecun_normal'))\n",
    "    \n",
    "model.add(Dense(2, activation='softmax'))\n",
    "\n",
    "model.summary()"
   ]
  },
  {
   "cell_type": "code",
   "execution_count": 35,
   "metadata": {
    "ExecuteTime": {
     "end_time": "2021-11-06T06:57:38.341442Z",
     "start_time": "2021-11-06T06:57:38.326485Z"
    }
   },
   "outputs": [],
   "source": [
    "optimizer = keras.optimizers.Adam(lr=0.001, beta_1=0.9, beta_2=0.999)"
   ]
  },
  {
   "cell_type": "code",
   "execution_count": 36,
   "metadata": {
    "ExecuteTime": {
     "end_time": "2021-11-06T06:57:38.356367Z",
     "start_time": "2021-11-06T06:57:38.342431Z"
    }
   },
   "outputs": [],
   "source": [
    "y_train = tf.keras.utils.to_categorical(y_train, num_classes=2)   # metrics로 'AUC'를 사용하기 위해 one-hot-encoding 사용\n",
    "y_val = tf.keras.utils.to_categorical(y_val, num_classes=2)"
   ]
  },
  {
   "cell_type": "code",
   "execution_count": 37,
   "metadata": {
    "ExecuteTime": {
     "end_time": "2021-11-06T06:57:38.372369Z",
     "start_time": "2021-11-06T06:57:38.357366Z"
    }
   },
   "outputs": [],
   "source": [
    "model.compile(loss='categorical_crossentropy', optimizer=optimizer, metrics=['AUC'])"
   ]
  },
  {
   "cell_type": "code",
   "execution_count": 38,
   "metadata": {
    "ExecuteTime": {
     "end_time": "2021-11-06T06:57:38.388281Z",
     "start_time": "2021-11-06T06:57:38.374319Z"
    }
   },
   "outputs": [],
   "source": [
    "early_stopping_cb = keras.callbacks.EarlyStopping(patience=10, restore_best_weights=True)"
   ]
  },
  {
   "cell_type": "code",
   "execution_count": 39,
   "metadata": {
    "ExecuteTime": {
     "end_time": "2021-11-06T06:57:38.403594Z",
     "start_time": "2021-11-06T06:57:38.389279Z"
    },
    "scrolled": false
   },
   "outputs": [],
   "source": [
    "# history = model.fit(X_train, y_train, epochs=20, validation_data=(X_val, y_val), callbacks=early_stopping_cb)"
   ]
  },
  {
   "cell_type": "code",
   "execution_count": 40,
   "metadata": {
    "ExecuteTime": {
     "end_time": "2021-11-06T06:57:38.419534Z",
     "start_time": "2021-11-06T06:57:38.404576Z"
    }
   },
   "outputs": [],
   "source": [
    "# plot_result(history)"
   ]
  },
  {
   "cell_type": "markdown",
   "metadata": {},
   "source": [
    "# Select from model"
   ]
  },
  {
   "cell_type": "code",
   "execution_count": 41,
   "metadata": {
    "ExecuteTime": {
     "end_time": "2021-11-06T06:57:38.482329Z",
     "start_time": "2021-11-06T06:57:38.421492Z"
    }
   },
   "outputs": [],
   "source": [
    "X_train = X_train_before.copy()\n",
    "X_test = X_test_before.copy()\n",
    "\n",
    "y_train = y_train_og.copy()"
   ]
  },
  {
   "cell_type": "code",
   "execution_count": 42,
   "metadata": {
    "ExecuteTime": {
     "end_time": "2021-11-06T06:57:43.186139Z",
     "start_time": "2021-11-06T06:57:38.485320Z"
    }
   },
   "outputs": [
    {
     "data": {
      "text/plain": [
       "SelectFromModel(estimator=LogisticRegression(random_state=30),\n",
       "                threshold='1.5*mean')"
      ]
     },
     "execution_count": 42,
     "metadata": {},
     "output_type": "execute_result"
    }
   ],
   "source": [
    "select = SelectFromModel(logit, threshold='1.5*mean')\n",
    "select.fit(X_train, y_train)"
   ]
  },
  {
   "cell_type": "code",
   "execution_count": 43,
   "metadata": {
    "ExecuteTime": {
     "end_time": "2021-11-06T06:57:43.249008Z",
     "start_time": "2021-11-06T06:57:43.188134Z"
    },
    "scrolled": true
   },
   "outputs": [
    {
     "data": {
      "text/plain": [
       "(300000, 3903)"
      ]
     },
     "execution_count": 43,
     "metadata": {},
     "output_type": "execute_result"
    }
   ],
   "source": [
    "X_train = select.transform(X_train)\n",
    "X_train.shape"
   ]
  },
  {
   "cell_type": "code",
   "execution_count": 44,
   "metadata": {
    "ExecuteTime": {
     "end_time": "2021-11-06T06:57:43.312799Z",
     "start_time": "2021-11-06T06:57:43.250966Z"
    }
   },
   "outputs": [
    {
     "data": {
      "text/plain": [
       "(200000, 3903)"
      ]
     },
     "execution_count": 44,
     "metadata": {},
     "output_type": "execute_result"
    }
   ],
   "source": [
    "X_test = select.transform(X_test)\n",
    "X_test.shape"
   ]
  },
  {
   "cell_type": "markdown",
   "metadata": {},
   "source": [
    "## Validation set 분리\n",
    "- Train dataset이 너무 커서 cross validation에 너무 오랜 시간이 걸리는 경우\n",
    "- OneHotEncoder를 사용하면 sparse matrix를 return하기 때문에 neural network에서 validation_split를 사용할 수 없는 경우"
   ]
  },
  {
   "cell_type": "code",
   "execution_count": 45,
   "metadata": {
    "ExecuteTime": {
     "end_time": "2021-11-06T06:57:43.392641Z",
     "start_time": "2021-11-06T06:57:43.314795Z"
    }
   },
   "outputs": [],
   "source": [
    "X_train, X_val, y_train, y_val = train_test_split(X_train, y_train, random_state=30)"
   ]
  },
  {
   "cell_type": "markdown",
   "metadata": {},
   "source": [
    "## ML model cross validation"
   ]
  },
  {
   "cell_type": "code",
   "execution_count": 46,
   "metadata": {
    "ExecuteTime": {
     "end_time": "2021-11-06T06:57:43.408597Z",
     "start_time": "2021-11-06T06:57:43.396630Z"
    }
   },
   "outputs": [],
   "source": [
    "knn = KNeighborsClassifier(n_neighbors=5)\n",
    "logit = LogisticRegression(C=1.0, random_state=30)\n",
    "sgd = SGDClassifier(max_iter=1000, eta0=0.0, random_state=30)\n",
    "linsvm = LinearSVC(C=1.0, random_state=30)\n",
    "svm = SVC(kernel='rbf', C=1.0, gamma='scale', random_state=30)\n",
    "dt = DecisionTreeClassifier(max_depth=None, random_state=30)\n",
    "rf = RandomForestClassifier(n_estimators=100, max_depth=None, n_jobs=-1, random_state=30)\n",
    "et = ExtraTreesClassifier(n_estimators=100, max_depth=None, n_jobs=-1, random_state=30)\n",
    "gb = GradientBoostingClassifier(learning_rate=0.1, n_estimators=1000, max_depth=3, random_state=30)\n",
    "xgb = XGBClassifier(learning_rate=0.1, n_estimators=100, max_depth=3, random_state=30)\n",
    "# lgb = LGBMClassifier(random_state=30)\n",
    "adb = AdaBoostClassifier(random_state=30)\n",
    "mlp = MLPClassifier(hidden_layer_sizes=(100,), activation='relu', solver='adam', alpha=0.0001, max_iter=200,\n",
    "                    learning_rate='constant', learning_rate_init=0.001,random_state=30)"
   ]
  },
  {
   "cell_type": "code",
   "execution_count": 47,
   "metadata": {
    "ExecuteTime": {
     "end_time": "2021-11-06T06:57:43.424588Z",
     "start_time": "2021-11-06T06:57:43.411589Z"
    }
   },
   "outputs": [],
   "source": [
    "models = {\n",
    "#     'knn' : knn,\n",
    "    'logit' : logit,\n",
    "    'sgd' : sgd,\n",
    "    'linsvm' : linsvm,\n",
    "#     'svm' : svm,\n",
    "#     'dt' : dt,\n",
    "#     'rf' : rf,\n",
    "#     'et' : et,\n",
    "#     'gb' : gb,\n",
    "#     'xgb' : xgb,\n",
    "#     'lgb' : lgb,\n",
    "#     'adb' : adb,\n",
    "#     'mlp' : mlp\n",
    "}"
   ]
  },
  {
   "cell_type": "code",
   "execution_count": 48,
   "metadata": {
    "ExecuteTime": {
     "end_time": "2021-11-06T06:58:11.138918Z",
     "start_time": "2021-11-06T06:57:43.426550Z"
    }
   },
   "outputs": [],
   "source": [
    "result = []\n",
    "\n",
    "for key, model in models.items() : \n",
    "    score = cross_validate(model, X_train, y_train, cv=5, scoring='roc_auc', return_train_score=True, n_jobs=-1)  \n",
    "    score = pd.DataFrame(score).mean()\n",
    "    \n",
    "    result.append(score)"
   ]
  },
  {
   "cell_type": "code",
   "execution_count": 49,
   "metadata": {
    "ExecuteTime": {
     "end_time": "2021-11-06T06:58:11.170781Z",
     "start_time": "2021-11-06T06:58:11.139865Z"
    }
   },
   "outputs": [
    {
     "data": {
      "text/html": [
       "<div>\n",
       "<style scoped>\n",
       "    .dataframe tbody tr th:only-of-type {\n",
       "        vertical-align: middle;\n",
       "    }\n",
       "\n",
       "    .dataframe tbody tr th {\n",
       "        vertical-align: top;\n",
       "    }\n",
       "\n",
       "    .dataframe thead th {\n",
       "        text-align: right;\n",
       "    }\n",
       "</style>\n",
       "<table border=\"1\" class=\"dataframe\">\n",
       "  <thead>\n",
       "    <tr style=\"text-align: right;\">\n",
       "      <th></th>\n",
       "      <th>test_score</th>\n",
       "      <th>train_score</th>\n",
       "      <th>fit_time</th>\n",
       "      <th>score_time</th>\n",
       "    </tr>\n",
       "  </thead>\n",
       "  <tbody>\n",
       "    <tr>\n",
       "      <th>logit</th>\n",
       "      <td>0.775</td>\n",
       "      <td>0.794</td>\n",
       "      <td>3.043</td>\n",
       "      <td>0.027</td>\n",
       "    </tr>\n",
       "    <tr>\n",
       "      <th>sgd</th>\n",
       "      <td>0.770</td>\n",
       "      <td>0.782</td>\n",
       "      <td>0.805</td>\n",
       "      <td>0.021</td>\n",
       "    </tr>\n",
       "    <tr>\n",
       "      <th>linsvm</th>\n",
       "      <td>0.774</td>\n",
       "      <td>0.797</td>\n",
       "      <td>22.146</td>\n",
       "      <td>0.025</td>\n",
       "    </tr>\n",
       "  </tbody>\n",
       "</table>\n",
       "</div>"
      ],
      "text/plain": [
       "        test_score  train_score  fit_time  score_time\n",
       "logit        0.775        0.794     3.043       0.027\n",
       "sgd          0.770        0.782     0.805       0.021\n",
       "linsvm       0.774        0.797    22.146       0.025"
      ]
     },
     "execution_count": 49,
     "metadata": {},
     "output_type": "execute_result"
    }
   ],
   "source": [
    "result = pd.concat(result, axis=1)\n",
    "result.columns = models.keys()\n",
    "result = result.T\n",
    "result = result[['test_score', 'train_score', 'fit_time', 'score_time']]\n",
    "result = round(result, 3)\n",
    "result"
   ]
  },
  {
   "cell_type": "code",
   "execution_count": 50,
   "metadata": {
    "ExecuteTime": {
     "end_time": "2021-11-06T06:58:37.171146Z",
     "start_time": "2021-11-06T06:58:11.172777Z"
    }
   },
   "outputs": [
    {
     "name": "stdout",
     "output_type": "stream",
     "text": [
      "logit : 0.75\n",
      "sgd : 0.746\n",
      "linsvm : 0.75\n"
     ]
    }
   ],
   "source": [
    "for key, model in models.items() :\n",
    "    model.fit(X_train, y_train)\n",
    "    print(key, ':', round(model.score(X_val, y_val), 3))"
   ]
  },
  {
   "cell_type": "markdown",
   "metadata": {},
   "source": [
    "## Nerual network"
   ]
  },
  {
   "cell_type": "code",
   "execution_count": 51,
   "metadata": {
    "ExecuteTime": {
     "end_time": "2021-11-06T06:58:37.233948Z",
     "start_time": "2021-11-06T06:58:37.173143Z"
    }
   },
   "outputs": [
    {
     "name": "stdout",
     "output_type": "stream",
     "text": [
      "Model: \"sequential_1\"\n",
      "_________________________________________________________________\n",
      "Layer (type)                 Output Shape              Param #   \n",
      "=================================================================\n",
      "dense_7 (Dense)              (None, 100)               390400    \n",
      "_________________________________________________________________\n",
      "dense_8 (Dense)              (None, 100)               10100     \n",
      "_________________________________________________________________\n",
      "dense_9 (Dense)              (None, 100)               10100     \n",
      "_________________________________________________________________\n",
      "dense_10 (Dense)             (None, 100)               10100     \n",
      "_________________________________________________________________\n",
      "dense_11 (Dense)             (None, 100)               10100     \n",
      "_________________________________________________________________\n",
      "dense_12 (Dense)             (None, 100)               10100     \n",
      "_________________________________________________________________\n",
      "dense_13 (Dense)             (None, 2)                 202       \n",
      "=================================================================\n",
      "Total params: 441,102\n",
      "Trainable params: 441,102\n",
      "Non-trainable params: 0\n",
      "_________________________________________________________________\n"
     ]
    }
   ],
   "source": [
    "model = Sequential()\n",
    "model.add(Dense(100, activation='selu', kernel_initializer='lecun_normal', input_shape=(X_train.shape[1],)))\n",
    "\n",
    "for layer in range(5):\n",
    "    model.add(Dense(100, activation='selu', kernel_initializer='lecun_normal'))\n",
    "    \n",
    "model.add(Dense(2, activation='softmax'))\n",
    "\n",
    "model.summary()"
   ]
  },
  {
   "cell_type": "code",
   "execution_count": 52,
   "metadata": {
    "ExecuteTime": {
     "end_time": "2021-11-06T06:58:37.249903Z",
     "start_time": "2021-11-06T06:58:37.235940Z"
    }
   },
   "outputs": [],
   "source": [
    "optimizer = keras.optimizers.Adam(lr=0.001, beta_1=0.9, beta_2=0.999)"
   ]
  },
  {
   "cell_type": "code",
   "execution_count": 53,
   "metadata": {
    "ExecuteTime": {
     "end_time": "2021-11-06T06:58:37.265894Z",
     "start_time": "2021-11-06T06:58:37.251898Z"
    }
   },
   "outputs": [],
   "source": [
    "y_train = tf.keras.utils.to_categorical(y_train, num_classes=2)   # metrics로 'AUC'를 사용하기 위해 one-hot-encoding 사용\n",
    "y_val = tf.keras.utils.to_categorical(y_val, num_classes=2)"
   ]
  },
  {
   "cell_type": "code",
   "execution_count": 54,
   "metadata": {
    "ExecuteTime": {
     "end_time": "2021-11-06T06:58:37.281820Z",
     "start_time": "2021-11-06T06:58:37.267856Z"
    }
   },
   "outputs": [],
   "source": [
    "model.compile(loss='categorical_crossentropy', optimizer=optimizer, metrics=['AUC'])"
   ]
  },
  {
   "cell_type": "code",
   "execution_count": 55,
   "metadata": {
    "ExecuteTime": {
     "end_time": "2021-11-06T06:58:37.297776Z",
     "start_time": "2021-11-06T06:58:37.283819Z"
    }
   },
   "outputs": [],
   "source": [
    "early_stopping_cb = keras.callbacks.EarlyStopping(patience=10, restore_best_weights=True)"
   ]
  },
  {
   "cell_type": "code",
   "execution_count": 56,
   "metadata": {
    "ExecuteTime": {
     "end_time": "2021-11-06T06:58:37.313781Z",
     "start_time": "2021-11-06T06:58:37.299771Z"
    },
    "scrolled": false
   },
   "outputs": [],
   "source": [
    "# history = model.fit(X_train, y_train, epochs=20, validation_data=(X_val, y_val), callbacks=early_stopping_cb)"
   ]
  },
  {
   "cell_type": "code",
   "execution_count": 57,
   "metadata": {
    "ExecuteTime": {
     "end_time": "2021-11-06T06:58:37.329691Z",
     "start_time": "2021-11-06T06:58:37.314776Z"
    }
   },
   "outputs": [],
   "source": [
    "# plot_result(history)"
   ]
  },
  {
   "cell_type": "markdown",
   "metadata": {},
   "source": [
    "# Recursive feature elimination"
   ]
  },
  {
   "cell_type": "code",
   "execution_count": 58,
   "metadata": {
    "ExecuteTime": {
     "end_time": "2021-11-06T06:58:37.392076Z",
     "start_time": "2021-11-06T06:58:37.331685Z"
    }
   },
   "outputs": [],
   "source": [
    "X_train = X_train_before.copy()\n",
    "X_test = X_test_before.copy()\n",
    "\n",
    "y_train = y_train_og.copy()"
   ]
  },
  {
   "cell_type": "code",
   "execution_count": 59,
   "metadata": {
    "ExecuteTime": {
     "end_time": "2021-11-06T06:58:37.408255Z",
     "start_time": "2021-11-06T06:58:37.393071Z"
    },
    "scrolled": false
   },
   "outputs": [],
   "source": [
    "# select = RFE(logit, n_features_to_select=100)   # feature 수가 많으면 너무 오래 걸림\n",
    "# select.fit(X_train, y_train)"
   ]
  },
  {
   "cell_type": "code",
   "execution_count": 60,
   "metadata": {
    "ExecuteTime": {
     "end_time": "2021-11-06T06:58:37.423989Z",
     "start_time": "2021-11-06T06:58:37.410026Z"
    },
    "scrolled": true
   },
   "outputs": [],
   "source": [
    "# X_train = select.transform(X_train)\n",
    "# X_train.shape"
   ]
  },
  {
   "cell_type": "code",
   "execution_count": 61,
   "metadata": {
    "ExecuteTime": {
     "end_time": "2021-11-06T06:58:37.440134Z",
     "start_time": "2021-11-06T06:58:37.426115Z"
    }
   },
   "outputs": [],
   "source": [
    "# X_test = select.transform(X_test)\n",
    "# X_test.shape"
   ]
  }
 ],
 "metadata": {
  "hide_input": false,
  "kernelspec": {
   "display_name": "Python 3",
   "language": "python",
   "name": "python3"
  },
  "language_info": {
   "codemirror_mode": {
    "name": "ipython",
    "version": 3
   },
   "file_extension": ".py",
   "mimetype": "text/x-python",
   "name": "python",
   "nbconvert_exporter": "python",
   "pygments_lexer": "ipython3",
   "version": "3.7.1"
  },
  "toc": {
   "base_numbering": 1,
   "nav_menu": {},
   "number_sections": true,
   "sideBar": true,
   "skip_h1_title": false,
   "title_cell": "Table of Contents",
   "title_sidebar": "Contents",
   "toc_cell": false,
   "toc_position": {
    "height": "calc(100% - 180px)",
    "left": "10px",
    "top": "150px",
    "width": "303.825px"
   },
   "toc_section_display": true,
   "toc_window_display": true
  },
  "varInspector": {
   "cols": {
    "lenName": 16,
    "lenType": 16,
    "lenVar": 40
   },
   "kernels_config": {
    "python": {
     "delete_cmd_postfix": "",
     "delete_cmd_prefix": "del ",
     "library": "var_list.py",
     "varRefreshCmd": "print(var_dic_list())"
    },
    "r": {
     "delete_cmd_postfix": ") ",
     "delete_cmd_prefix": "rm(",
     "library": "var_list.r",
     "varRefreshCmd": "cat(var_dic_list()) "
    }
   },
   "types_to_exclude": [
    "module",
    "function",
    "builtin_function_or_method",
    "instance",
    "_Feature"
   ],
   "window_display": false
  }
 },
 "nbformat": 4,
 "nbformat_minor": 4
}

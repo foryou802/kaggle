{
 "cells": [
  {
   "cell_type": "code",
   "execution_count": 1,
   "metadata": {
    "ExecuteTime": {
     "end_time": "2020-12-22T03:19:48.003248Z",
     "start_time": "2020-12-22T03:19:45.616598Z"
    }
   },
   "outputs": [],
   "source": [
    "import numpy as np\n",
    "import pandas as pd\n",
    "import matplotlib.pyplot as plt\n",
    "import seaborn as sns\n",
    "\n",
    "sns.set()\n",
    "\n",
    "import warnings\n",
    "warnings.filterwarnings('ignore')"
   ]
  },
  {
   "cell_type": "code",
   "execution_count": 2,
   "metadata": {
    "ExecuteTime": {
     "end_time": "2020-12-22T03:19:48.142334Z",
     "start_time": "2020-12-22T03:19:48.006088Z"
    }
   },
   "outputs": [],
   "source": [
    "import joblib\n",
    "from ast import literal_eval"
   ]
  },
  {
   "cell_type": "markdown",
   "metadata": {},
   "source": [
    "# Data 전처리 & merge"
   ]
  },
  {
   "cell_type": "markdown",
   "metadata": {},
   "source": [
    "## metadata"
   ]
  },
  {
   "cell_type": "code",
   "execution_count": 3,
   "metadata": {
    "ExecuteTime": {
     "end_time": "2020-12-22T03:19:49.503784Z",
     "start_time": "2020-12-22T03:19:48.154452Z"
    }
   },
   "outputs": [],
   "source": [
    "data1 = pd.read_csv('./dataset/movies_metadata.csv')"
   ]
  },
  {
   "cell_type": "code",
   "execution_count": 4,
   "metadata": {
    "ExecuteTime": {
     "end_time": "2020-12-22T03:19:49.519442Z",
     "start_time": "2020-12-22T03:19:49.507467Z"
    }
   },
   "outputs": [],
   "source": [
    "columns_use = joblib.load(\"./dataset/metadata_columns_use.pkl\")\n",
    "columns_tbd = joblib.load(\"./dataset/metadata_columns_tbd.pkl\")"
   ]
  },
  {
   "cell_type": "code",
   "execution_count": 5,
   "metadata": {
    "ExecuteTime": {
     "end_time": "2020-12-22T03:19:49.560428Z",
     "start_time": "2020-12-22T03:19:49.523135Z"
    }
   },
   "outputs": [],
   "source": [
    "data1 = data1[columns_use]"
   ]
  },
  {
   "cell_type": "code",
   "execution_count": 6,
   "metadata": {
    "ExecuteTime": {
     "end_time": "2020-12-22T03:19:49.590826Z",
     "start_time": "2020-12-22T03:19:49.564274Z"
    }
   },
   "outputs": [
    {
     "data": {
      "text/plain": [
       "(45466, 9)"
      ]
     },
     "execution_count": 6,
     "metadata": {},
     "output_type": "execute_result"
    }
   ],
   "source": [
    "data1.shape"
   ]
  },
  {
   "cell_type": "markdown",
   "metadata": {},
   "source": [
    "### genres"
   ]
  },
  {
   "cell_type": "code",
   "execution_count": 7,
   "metadata": {
    "ExecuteTime": {
     "end_time": "2020-12-22T03:19:49.619968Z",
     "start_time": "2020-12-22T03:19:49.597042Z"
    }
   },
   "outputs": [
    {
     "data": {
      "text/plain": [
       "0"
      ]
     },
     "execution_count": 7,
     "metadata": {},
     "output_type": "execute_result"
    }
   ],
   "source": [
    "data1['genres'].isnull().sum()"
   ]
  },
  {
   "cell_type": "code",
   "execution_count": 8,
   "metadata": {
    "ExecuteTime": {
     "end_time": "2020-12-22T03:19:52.291561Z",
     "start_time": "2020-12-22T03:19:49.626162Z"
    }
   },
   "outputs": [],
   "source": [
    "data1['genres'] = data1['genres'].apply(literal_eval)"
   ]
  },
  {
   "cell_type": "code",
   "execution_count": 9,
   "metadata": {
    "ExecuteTime": {
     "end_time": "2020-12-22T03:19:52.307169Z",
     "start_time": "2020-12-22T03:19:52.294790Z"
    }
   },
   "outputs": [
    {
     "data": {
      "text/plain": [
       "[{'id': 16, 'name': 'Animation'},\n",
       " {'id': 35, 'name': 'Comedy'},\n",
       " {'id': 10751, 'name': 'Family'}]"
      ]
     },
     "execution_count": 9,
     "metadata": {},
     "output_type": "execute_result"
    }
   ],
   "source": [
    "data1['genres'][0]"
   ]
  },
  {
   "cell_type": "code",
   "execution_count": 10,
   "metadata": {
    "ExecuteTime": {
     "end_time": "2020-12-22T03:19:52.332943Z",
     "start_time": "2020-12-22T03:19:52.311986Z"
    }
   },
   "outputs": [
    {
     "data": {
      "text/plain": [
       "list"
      ]
     },
     "execution_count": 10,
     "metadata": {},
     "output_type": "execute_result"
    }
   ],
   "source": [
    "type(data1['genres'][0])"
   ]
  },
  {
   "cell_type": "code",
   "execution_count": 11,
   "metadata": {
    "ExecuteTime": {
     "end_time": "2020-12-22T03:19:52.722945Z",
     "start_time": "2020-12-22T03:19:52.336885Z"
    }
   },
   "outputs": [],
   "source": [
    "data1['genres'] = data1['genres'].apply(lambda x : [d['name'] for d in x]).apply(lambda x : [d.replace(' ', '') for d in x]).apply(lambda x : \" \".join(x))"
   ]
  },
  {
   "cell_type": "code",
   "execution_count": 12,
   "metadata": {
    "ExecuteTime": {
     "end_time": "2020-12-22T03:19:52.748983Z",
     "start_time": "2020-12-22T03:19:52.730011Z"
    }
   },
   "outputs": [
    {
     "data": {
      "text/plain": [
       "'Animation Comedy Family'"
      ]
     },
     "execution_count": 12,
     "metadata": {},
     "output_type": "execute_result"
    }
   ],
   "source": [
    "data1['genres'][0]"
   ]
  },
  {
   "cell_type": "markdown",
   "metadata": {},
   "source": [
    "### id"
   ]
  },
  {
   "cell_type": "code",
   "execution_count": 13,
   "metadata": {
    "ExecuteTime": {
     "end_time": "2020-12-22T03:19:52.774998Z",
     "start_time": "2020-12-22T03:19:52.752971Z"
    }
   },
   "outputs": [
    {
     "data": {
      "text/plain": [
       "0"
      ]
     },
     "execution_count": 13,
     "metadata": {},
     "output_type": "execute_result"
    }
   ],
   "source": [
    "data1['id'].isnull().sum()"
   ]
  },
  {
   "cell_type": "code",
   "execution_count": 14,
   "metadata": {
    "ExecuteTime": {
     "end_time": "2020-12-22T03:19:52.915175Z",
     "start_time": "2020-12-22T03:19:52.780097Z"
    }
   },
   "outputs": [
    {
     "data": {
      "text/html": [
       "<div>\n",
       "<style scoped>\n",
       "    .dataframe tbody tr th:only-of-type {\n",
       "        vertical-align: middle;\n",
       "    }\n",
       "\n",
       "    .dataframe tbody tr th {\n",
       "        vertical-align: top;\n",
       "    }\n",
       "\n",
       "    .dataframe thead th {\n",
       "        text-align: right;\n",
       "    }\n",
       "</style>\n",
       "<table border=\"1\" class=\"dataframe\">\n",
       "  <thead>\n",
       "    <tr style=\"text-align: right;\">\n",
       "      <th></th>\n",
       "      <th>genres</th>\n",
       "      <th>id</th>\n",
       "      <th>original_language</th>\n",
       "      <th>overview</th>\n",
       "      <th>popularity</th>\n",
       "      <th>spoken_languages</th>\n",
       "      <th>title</th>\n",
       "      <th>vote_average</th>\n",
       "      <th>vote_count</th>\n",
       "    </tr>\n",
       "  </thead>\n",
       "  <tbody>\n",
       "    <tr>\n",
       "      <th>19730</th>\n",
       "      <td>CarouselProductions VisionViewEntertainment Te...</td>\n",
       "      <td>1997-08-20</td>\n",
       "      <td>104.0</td>\n",
       "      <td>Released</td>\n",
       "      <td>NaN</td>\n",
       "      <td>NaN</td>\n",
       "      <td>NaN</td>\n",
       "      <td>NaN</td>\n",
       "      <td>NaN</td>\n",
       "    </tr>\n",
       "    <tr>\n",
       "      <th>29503</th>\n",
       "      <td>Aniplex GoHands BROSTATV MardockScrambleProduc...</td>\n",
       "      <td>2012-09-29</td>\n",
       "      <td>68.0</td>\n",
       "      <td>Released</td>\n",
       "      <td>NaN</td>\n",
       "      <td>NaN</td>\n",
       "      <td>NaN</td>\n",
       "      <td>NaN</td>\n",
       "      <td>NaN</td>\n",
       "    </tr>\n",
       "    <tr>\n",
       "      <th>35587</th>\n",
       "      <td>OdysseyMedia PulserProductions RogueState TheC...</td>\n",
       "      <td>2014-01-01</td>\n",
       "      <td>82.0</td>\n",
       "      <td>Released</td>\n",
       "      <td>Beware Of Frost Bites</td>\n",
       "      <td>NaN</td>\n",
       "      <td>NaN</td>\n",
       "      <td>NaN</td>\n",
       "      <td>NaN</td>\n",
       "    </tr>\n",
       "  </tbody>\n",
       "</table>\n",
       "</div>"
      ],
      "text/plain": [
       "                                                  genres          id  \\\n",
       "19730  CarouselProductions VisionViewEntertainment Te...  1997-08-20   \n",
       "29503  Aniplex GoHands BROSTATV MardockScrambleProduc...  2012-09-29   \n",
       "35587  OdysseyMedia PulserProductions RogueState TheC...  2014-01-01   \n",
       "\n",
       "      original_language  overview             popularity spoken_languages  \\\n",
       "19730             104.0  Released                    NaN              NaN   \n",
       "29503              68.0  Released                    NaN              NaN   \n",
       "35587              82.0  Released  Beware Of Frost Bites              NaN   \n",
       "\n",
       "      title  vote_average  vote_count  \n",
       "19730   NaN           NaN         NaN  \n",
       "29503   NaN           NaN         NaN  \n",
       "35587   NaN           NaN         NaN  "
      ]
     },
     "execution_count": 14,
     "metadata": {},
     "output_type": "execute_result"
    }
   ],
   "source": [
    "data1[data1.id.str.contains('[^0-9]')]"
   ]
  },
  {
   "cell_type": "code",
   "execution_count": 15,
   "metadata": {
    "ExecuteTime": {
     "end_time": "2020-12-22T03:19:52.998313Z",
     "start_time": "2020-12-22T03:19:52.918961Z"
    }
   },
   "outputs": [],
   "source": [
    "index = data1[data1.id.str.contains('[^0-9]')].index"
   ]
  },
  {
   "cell_type": "code",
   "execution_count": 16,
   "metadata": {
    "ExecuteTime": {
     "end_time": "2020-12-22T03:19:53.026241Z",
     "start_time": "2020-12-22T03:19:53.001306Z"
    }
   },
   "outputs": [],
   "source": [
    "data1.drop(index=index, axis=0, inplace=True)"
   ]
  },
  {
   "cell_type": "code",
   "execution_count": 17,
   "metadata": {
    "ExecuteTime": {
     "end_time": "2020-12-22T03:19:53.066426Z",
     "start_time": "2020-12-22T03:19:53.031227Z"
    }
   },
   "outputs": [],
   "source": [
    "data1['id'] = data1.id.astype('int64')"
   ]
  },
  {
   "cell_type": "code",
   "execution_count": 18,
   "metadata": {
    "ExecuteTime": {
     "end_time": "2020-12-22T03:19:53.093085Z",
     "start_time": "2020-12-22T03:19:53.069417Z"
    }
   },
   "outputs": [
    {
     "data": {
      "text/plain": [
       "False"
      ]
     },
     "execution_count": 18,
     "metadata": {},
     "output_type": "execute_result"
    }
   ],
   "source": [
    "len(data1['id'].unique()) == len(data1)"
   ]
  },
  {
   "cell_type": "code",
   "execution_count": 19,
   "metadata": {
    "ExecuteTime": {
     "end_time": "2020-12-22T03:19:53.131882Z",
     "start_time": "2020-12-22T03:19:53.095936Z"
    }
   },
   "outputs": [],
   "source": [
    "data1 = data1.drop_duplicates('id')"
   ]
  },
  {
   "cell_type": "code",
   "execution_count": 20,
   "metadata": {
    "ExecuteTime": {
     "end_time": "2020-12-22T03:19:53.162219Z",
     "start_time": "2020-12-22T03:19:53.134900Z"
    }
   },
   "outputs": [
    {
     "data": {
      "text/plain": [
       "True"
      ]
     },
     "execution_count": 20,
     "metadata": {},
     "output_type": "execute_result"
    }
   ],
   "source": [
    "len(data1['id'].unique()) == len(data1)"
   ]
  },
  {
   "cell_type": "markdown",
   "metadata": {},
   "source": [
    "### original_language"
   ]
  },
  {
   "cell_type": "code",
   "execution_count": 21,
   "metadata": {
    "ExecuteTime": {
     "end_time": "2020-12-22T03:19:53.219097Z",
     "start_time": "2020-12-22T03:19:53.165349Z"
    }
   },
   "outputs": [
    {
     "data": {
      "text/html": [
       "<div>\n",
       "<style scoped>\n",
       "    .dataframe tbody tr th:only-of-type {\n",
       "        vertical-align: middle;\n",
       "    }\n",
       "\n",
       "    .dataframe tbody tr th {\n",
       "        vertical-align: top;\n",
       "    }\n",
       "\n",
       "    .dataframe thead th {\n",
       "        text-align: right;\n",
       "    }\n",
       "</style>\n",
       "<table border=\"1\" class=\"dataframe\">\n",
       "  <thead>\n",
       "    <tr style=\"text-align: right;\">\n",
       "      <th></th>\n",
       "      <th>genres</th>\n",
       "      <th>id</th>\n",
       "      <th>original_language</th>\n",
       "      <th>overview</th>\n",
       "      <th>popularity</th>\n",
       "      <th>spoken_languages</th>\n",
       "      <th>title</th>\n",
       "      <th>vote_average</th>\n",
       "      <th>vote_count</th>\n",
       "    </tr>\n",
       "  </thead>\n",
       "  <tbody>\n",
       "    <tr>\n",
       "      <th>19574</th>\n",
       "      <td>Documentary</td>\n",
       "      <td>283101</td>\n",
       "      <td>NaN</td>\n",
       "      <td>Documentary about the production of The Third ...</td>\n",
       "      <td>0.017007</td>\n",
       "      <td>[{'iso_639_1': 'de', 'name': 'Deutsch'}, {'iso...</td>\n",
       "      <td>Shadowing the Third Man</td>\n",
       "      <td>0.0</td>\n",
       "      <td>0.0</td>\n",
       "    </tr>\n",
       "    <tr>\n",
       "      <th>21602</th>\n",
       "      <td>Romance Drama</td>\n",
       "      <td>103902</td>\n",
       "      <td>NaN</td>\n",
       "      <td>An Outback farmer takes in an Afghani woman wh...</td>\n",
       "      <td>0.359818</td>\n",
       "      <td>[{'iso_639_1': 'en', 'name': 'English'}]</td>\n",
       "      <td>Unfinished Sky</td>\n",
       "      <td>6.4</td>\n",
       "      <td>8.0</td>\n",
       "    </tr>\n",
       "    <tr>\n",
       "      <th>22832</th>\n",
       "      <td>War Western</td>\n",
       "      <td>359195</td>\n",
       "      <td>NaN</td>\n",
       "      <td>A group of Union Army soldiers is charged with...</td>\n",
       "      <td>0.070647</td>\n",
       "      <td>[{'iso_639_1': 'en', 'name': 'English'}]</td>\n",
       "      <td>13 Fighting Men</td>\n",
       "      <td>0.0</td>\n",
       "      <td>0.0</td>\n",
       "    </tr>\n",
       "    <tr>\n",
       "      <th>32141</th>\n",
       "      <td>Comedy</td>\n",
       "      <td>147050</td>\n",
       "      <td>NaN</td>\n",
       "      <td>George and Gracie enter an elegant drawing roo...</td>\n",
       "      <td>0.073418</td>\n",
       "      <td>[{'iso_639_1': 'en', 'name': 'English'}]</td>\n",
       "      <td>Lambchops</td>\n",
       "      <td>6.5</td>\n",
       "      <td>2.0</td>\n",
       "    </tr>\n",
       "    <tr>\n",
       "      <th>37407</th>\n",
       "      <td>Animation</td>\n",
       "      <td>257095</td>\n",
       "      <td>NaN</td>\n",
       "      <td>The first fairy tale transformed into a full-l...</td>\n",
       "      <td>0.036841</td>\n",
       "      <td>[{'iso_639_1': 'cs', 'name': 'Český'}]</td>\n",
       "      <td>Prince Bayaya</td>\n",
       "      <td>5.0</td>\n",
       "      <td>1.0</td>\n",
       "    </tr>\n",
       "    <tr>\n",
       "      <th>41047</th>\n",
       "      <td>Documentary</td>\n",
       "      <td>332742</td>\n",
       "      <td>NaN</td>\n",
       "      <td>Until the late 1970s, the Pakistani city of La...</td>\n",
       "      <td>0.373688</td>\n",
       "      <td>[{'iso_639_1': 'ur', 'name': 'اردو'}, {'iso_63...</td>\n",
       "      <td>Song of Lahore</td>\n",
       "      <td>6.5</td>\n",
       "      <td>2.0</td>\n",
       "    </tr>\n",
       "    <tr>\n",
       "      <th>41872</th>\n",
       "      <td>Documentary</td>\n",
       "      <td>144410</td>\n",
       "      <td>NaN</td>\n",
       "      <td>Two dancers perform in succession facing a sta...</td>\n",
       "      <td>1.58434</td>\n",
       "      <td>[{'iso_639_1': 'xx', 'name': 'No Language'}]</td>\n",
       "      <td>Annabelle Serpentine Dance</td>\n",
       "      <td>5.7</td>\n",
       "      <td>20.0</td>\n",
       "    </tr>\n",
       "    <tr>\n",
       "      <th>44057</th>\n",
       "      <td>Drama</td>\n",
       "      <td>380438</td>\n",
       "      <td>NaN</td>\n",
       "      <td>NaN</td>\n",
       "      <td>0.001283</td>\n",
       "      <td>[{'iso_639_1': 'fr', 'name': 'Français'}]</td>\n",
       "      <td>Lettre d'une inconnue</td>\n",
       "      <td>0.0</td>\n",
       "      <td>0.0</td>\n",
       "    </tr>\n",
       "    <tr>\n",
       "      <th>44410</th>\n",
       "      <td>Animation Documentary</td>\n",
       "      <td>381096</td>\n",
       "      <td>NaN</td>\n",
       "      <td>The traditional crafts of crochet and knitting...</td>\n",
       "      <td>0.067624</td>\n",
       "      <td>[{'iso_639_1': 'sv', 'name': 'svenska'}, {'iso...</td>\n",
       "      <td>Yarn</td>\n",
       "      <td>0.0</td>\n",
       "      <td>0.0</td>\n",
       "    </tr>\n",
       "    <tr>\n",
       "      <th>44576</th>\n",
       "      <td></td>\n",
       "      <td>381525</td>\n",
       "      <td>NaN</td>\n",
       "      <td>American investment fund buys Austrian compani...</td>\n",
       "      <td>0.030766</td>\n",
       "      <td>[{'iso_639_1': 'de', 'name': 'Deutsch'}, {'iso...</td>\n",
       "      <td>WiNWiN</td>\n",
       "      <td>0.0</td>\n",
       "      <td>0.0</td>\n",
       "    </tr>\n",
       "    <tr>\n",
       "      <th>44655</th>\n",
       "      <td>Action War Drama History</td>\n",
       "      <td>104473</td>\n",
       "      <td>NaN</td>\n",
       "      <td>Three military men, seen inside a fortificatio...</td>\n",
       "      <td>0.471325</td>\n",
       "      <td>[{'iso_639_1': 'xx', 'name': 'No Language'}]</td>\n",
       "      <td>The Surrender of Tournavos</td>\n",
       "      <td>4.6</td>\n",
       "      <td>5.0</td>\n",
       "    </tr>\n",
       "  </tbody>\n",
       "</table>\n",
       "</div>"
      ],
      "text/plain": [
       "                         genres      id original_language  \\\n",
       "19574               Documentary  283101               NaN   \n",
       "21602             Romance Drama  103902               NaN   \n",
       "22832               War Western  359195               NaN   \n",
       "32141                    Comedy  147050               NaN   \n",
       "37407                 Animation  257095               NaN   \n",
       "41047               Documentary  332742               NaN   \n",
       "41872               Documentary  144410               NaN   \n",
       "44057                     Drama  380438               NaN   \n",
       "44410     Animation Documentary  381096               NaN   \n",
       "44576                            381525               NaN   \n",
       "44655  Action War Drama History  104473               NaN   \n",
       "\n",
       "                                                overview popularity  \\\n",
       "19574  Documentary about the production of The Third ...   0.017007   \n",
       "21602  An Outback farmer takes in an Afghani woman wh...   0.359818   \n",
       "22832  A group of Union Army soldiers is charged with...   0.070647   \n",
       "32141  George and Gracie enter an elegant drawing roo...   0.073418   \n",
       "37407  The first fairy tale transformed into a full-l...   0.036841   \n",
       "41047  Until the late 1970s, the Pakistani city of La...   0.373688   \n",
       "41872  Two dancers perform in succession facing a sta...    1.58434   \n",
       "44057                                                NaN   0.001283   \n",
       "44410  The traditional crafts of crochet and knitting...   0.067624   \n",
       "44576  American investment fund buys Austrian compani...   0.030766   \n",
       "44655  Three military men, seen inside a fortificatio...   0.471325   \n",
       "\n",
       "                                        spoken_languages  \\\n",
       "19574  [{'iso_639_1': 'de', 'name': 'Deutsch'}, {'iso...   \n",
       "21602           [{'iso_639_1': 'en', 'name': 'English'}]   \n",
       "22832           [{'iso_639_1': 'en', 'name': 'English'}]   \n",
       "32141           [{'iso_639_1': 'en', 'name': 'English'}]   \n",
       "37407             [{'iso_639_1': 'cs', 'name': 'Český'}]   \n",
       "41047  [{'iso_639_1': 'ur', 'name': 'اردو'}, {'iso_63...   \n",
       "41872       [{'iso_639_1': 'xx', 'name': 'No Language'}]   \n",
       "44057          [{'iso_639_1': 'fr', 'name': 'Français'}]   \n",
       "44410  [{'iso_639_1': 'sv', 'name': 'svenska'}, {'iso...   \n",
       "44576  [{'iso_639_1': 'de', 'name': 'Deutsch'}, {'iso...   \n",
       "44655       [{'iso_639_1': 'xx', 'name': 'No Language'}]   \n",
       "\n",
       "                            title  vote_average  vote_count  \n",
       "19574     Shadowing the Third Man           0.0         0.0  \n",
       "21602              Unfinished Sky           6.4         8.0  \n",
       "22832             13 Fighting Men           0.0         0.0  \n",
       "32141                   Lambchops           6.5         2.0  \n",
       "37407               Prince Bayaya           5.0         1.0  \n",
       "41047              Song of Lahore           6.5         2.0  \n",
       "41872  Annabelle Serpentine Dance           5.7        20.0  \n",
       "44057       Lettre d'une inconnue           0.0         0.0  \n",
       "44410                        Yarn           0.0         0.0  \n",
       "44576                      WiNWiN           0.0         0.0  \n",
       "44655  The Surrender of Tournavos           4.6         5.0  "
      ]
     },
     "execution_count": 21,
     "metadata": {},
     "output_type": "execute_result"
    }
   ],
   "source": [
    "data1[data1['original_language'].isnull()]"
   ]
  },
  {
   "cell_type": "code",
   "execution_count": 22,
   "metadata": {
    "ExecuteTime": {
     "end_time": "2020-12-22T03:19:53.302213Z",
     "start_time": "2020-12-22T03:19:53.236356Z"
    }
   },
   "outputs": [
    {
     "data": {
      "text/plain": [
       "en    70.985847\n",
       "fr     5.361741\n",
       "it     3.365395\n",
       "ja     2.964805\n",
       "de     2.374926\n",
       "        ...    \n",
       "tg     0.002201\n",
       "rw     0.002201\n",
       "fy     0.002201\n",
       "hy     0.002201\n",
       "la     0.002201\n",
       "Name: original_language, Length: 89, dtype: float64"
      ]
     },
     "execution_count": 22,
     "metadata": {},
     "output_type": "execute_result"
    }
   ],
   "source": [
    "data1['original_language'].value_counts() / len(data1) * 100"
   ]
  },
  {
   "cell_type": "markdown",
   "metadata": {},
   "source": [
    "- 누락값은 모두 en으로 대체"
   ]
  },
  {
   "cell_type": "code",
   "execution_count": 23,
   "metadata": {
    "ExecuteTime": {
     "end_time": "2020-12-22T03:19:53.332168Z",
     "start_time": "2020-12-22T03:19:53.310616Z"
    }
   },
   "outputs": [],
   "source": [
    "index = data1[data1['original_language'].isnull()].index"
   ]
  },
  {
   "cell_type": "code",
   "execution_count": 24,
   "metadata": {
    "ExecuteTime": {
     "end_time": "2020-12-22T03:19:53.350065Z",
     "start_time": "2020-12-22T03:19:53.336753Z"
    }
   },
   "outputs": [],
   "source": [
    "data1.loc[index, 'original_language'] = 'en'"
   ]
  },
  {
   "cell_type": "markdown",
   "metadata": {},
   "source": [
    "### overview"
   ]
  },
  {
   "cell_type": "code",
   "execution_count": 25,
   "metadata": {
    "ExecuteTime": {
     "end_time": "2020-12-22T03:19:53.379088Z",
     "start_time": "2020-12-22T03:19:53.351886Z"
    }
   },
   "outputs": [
    {
     "data": {
      "text/html": [
       "<div>\n",
       "<style scoped>\n",
       "    .dataframe tbody tr th:only-of-type {\n",
       "        vertical-align: middle;\n",
       "    }\n",
       "\n",
       "    .dataframe tbody tr th {\n",
       "        vertical-align: top;\n",
       "    }\n",
       "\n",
       "    .dataframe thead th {\n",
       "        text-align: right;\n",
       "    }\n",
       "</style>\n",
       "<table border=\"1\" class=\"dataframe\">\n",
       "  <thead>\n",
       "    <tr style=\"text-align: right;\">\n",
       "      <th></th>\n",
       "      <th>genres</th>\n",
       "      <th>id</th>\n",
       "      <th>original_language</th>\n",
       "      <th>overview</th>\n",
       "      <th>popularity</th>\n",
       "      <th>spoken_languages</th>\n",
       "      <th>title</th>\n",
       "      <th>vote_average</th>\n",
       "      <th>vote_count</th>\n",
       "    </tr>\n",
       "  </thead>\n",
       "  <tbody>\n",
       "  </tbody>\n",
       "</table>\n",
       "</div>"
      ],
      "text/plain": [
       "Empty DataFrame\n",
       "Columns: [genres, id, original_language, overview, popularity, spoken_languages, title, vote_average, vote_count]\n",
       "Index: []"
      ]
     },
     "execution_count": 25,
     "metadata": {},
     "output_type": "execute_result"
    }
   ],
   "source": [
    "data1[data1['overview'] == 'Released']"
   ]
  },
  {
   "cell_type": "code",
   "execution_count": 26,
   "metadata": {
    "ExecuteTime": {
     "end_time": "2020-12-22T03:19:53.405958Z",
     "start_time": "2020-12-22T03:19:53.381721Z"
    }
   },
   "outputs": [],
   "source": [
    "data1['overview'] = data1['overview'].fillna('')"
   ]
  },
  {
   "cell_type": "code",
   "execution_count": 27,
   "metadata": {
    "ExecuteTime": {
     "end_time": "2020-12-22T03:19:53.563777Z",
     "start_time": "2020-12-22T03:19:53.409743Z"
    }
   },
   "outputs": [
    {
     "data": {
      "text/html": [
       "<div>\n",
       "<style scoped>\n",
       "    .dataframe tbody tr th:only-of-type {\n",
       "        vertical-align: middle;\n",
       "    }\n",
       "\n",
       "    .dataframe tbody tr th {\n",
       "        vertical-align: top;\n",
       "    }\n",
       "\n",
       "    .dataframe thead th {\n",
       "        text-align: right;\n",
       "    }\n",
       "</style>\n",
       "<table border=\"1\" class=\"dataframe\">\n",
       "  <thead>\n",
       "    <tr style=\"text-align: right;\">\n",
       "      <th></th>\n",
       "      <th>genres</th>\n",
       "      <th>id</th>\n",
       "      <th>original_language</th>\n",
       "      <th>overview</th>\n",
       "      <th>popularity</th>\n",
       "      <th>spoken_languages</th>\n",
       "      <th>title</th>\n",
       "      <th>vote_average</th>\n",
       "      <th>vote_count</th>\n",
       "    </tr>\n",
       "  </thead>\n",
       "  <tbody>\n",
       "    <tr>\n",
       "      <th>44</th>\n",
       "      <td>Fantasy Drama Comedy Thriller</td>\n",
       "      <td>577</td>\n",
       "      <td>en</td>\n",
       "      <td>Susan wants to work in television and will the...</td>\n",
       "      <td>10.4485</td>\n",
       "      <td>[{'iso_639_1': 'en', 'name': 'English'}]</td>\n",
       "      <td>To Die For</td>\n",
       "      <td>6.7</td>\n",
       "      <td>177.0</td>\n",
       "    </tr>\n",
       "    <tr>\n",
       "      <th>51</th>\n",
       "      <td>Comedy Romance</td>\n",
       "      <td>11448</td>\n",
       "      <td>en</td>\n",
       "      <td>When Lenny and his wife, Amanda, adopt a baby,...</td>\n",
       "      <td>15.8991</td>\n",
       "      <td>[{'iso_639_1': 'en', 'name': 'English'}]</td>\n",
       "      <td>Mighty Aphrodite</td>\n",
       "      <td>6.7</td>\n",
       "      <td>145.0</td>\n",
       "    </tr>\n",
       "    <tr>\n",
       "      <th>117</th>\n",
       "      <td>Comedy Drama</td>\n",
       "      <td>78406</td>\n",
       "      <td>en</td>\n",
       "      <td>Ruben and Robby are twin brothers, adopted by ...</td>\n",
       "      <td>1.52241</td>\n",
       "      <td>[{'iso_639_1': 'en', 'name': 'English'}]</td>\n",
       "      <td>Steal Big Steal Little</td>\n",
       "      <td>5.1</td>\n",
       "      <td>7.0</td>\n",
       "    </tr>\n",
       "    <tr>\n",
       "      <th>127</th>\n",
       "      <td>Comedy Romance</td>\n",
       "      <td>110972</td>\n",
       "      <td>en</td>\n",
       "      <td>Pie in the Sky is a 1996 American romantic com...</td>\n",
       "      <td>0.699066</td>\n",
       "      <td>[{'iso_639_1': 'en', 'name': 'English'}]</td>\n",
       "      <td>Pie in the Sky</td>\n",
       "      <td>7.0</td>\n",
       "      <td>2.0</td>\n",
       "    </tr>\n",
       "    <tr>\n",
       "      <th>154</th>\n",
       "      <td>Action Comedy</td>\n",
       "      <td>1775</td>\n",
       "      <td>en</td>\n",
       "      <td>Canadian Bacon is the only fictitious film fro...</td>\n",
       "      <td>5.39156</td>\n",
       "      <td>[{'iso_639_1': 'en', 'name': 'English'}]</td>\n",
       "      <td>Canadian Bacon</td>\n",
       "      <td>5.9</td>\n",
       "      <td>57.0</td>\n",
       "    </tr>\n",
       "    <tr>\n",
       "      <th>...</th>\n",
       "      <td>...</td>\n",
       "      <td>...</td>\n",
       "      <td>...</td>\n",
       "      <td>...</td>\n",
       "      <td>...</td>\n",
       "      <td>...</td>\n",
       "      <td>...</td>\n",
       "      <td>...</td>\n",
       "      <td>...</td>\n",
       "    </tr>\n",
       "    <tr>\n",
       "      <th>45216</th>\n",
       "      <td>Comedy</td>\n",
       "      <td>7014</td>\n",
       "      <td>fr</td>\n",
       "      <td>Made without proper language, just gibberish a...</td>\n",
       "      <td>2.018911</td>\n",
       "      <td>[{'iso_639_1': 'xx', 'name': 'No Language'}]</td>\n",
       "      <td>Themroc</td>\n",
       "      <td>7.1</td>\n",
       "      <td>9.0</td>\n",
       "    </tr>\n",
       "    <tr>\n",
       "      <th>45266</th>\n",
       "      <td>Comedy</td>\n",
       "      <td>373247</td>\n",
       "      <td>en</td>\n",
       "      <td>A black comedy set during the aftermath of the...</td>\n",
       "      <td>0.947866</td>\n",
       "      <td>[{'iso_639_1': 'en', 'name': 'English'}]</td>\n",
       "      <td>Down Under</td>\n",
       "      <td>7.2</td>\n",
       "      <td>9.0</td>\n",
       "    </tr>\n",
       "    <tr>\n",
       "      <th>45269</th>\n",
       "      <td>Comedy</td>\n",
       "      <td>454787</td>\n",
       "      <td>en</td>\n",
       "      <td>A comedy about depression, alcoholism, suicide...</td>\n",
       "      <td>1.135015</td>\n",
       "      <td>[{'iso_639_1': 'en', 'name': 'English'}]</td>\n",
       "      <td>Chris Gethard: Career Suicide</td>\n",
       "      <td>7.5</td>\n",
       "      <td>4.0</td>\n",
       "    </tr>\n",
       "    <tr>\n",
       "      <th>45288</th>\n",
       "      <td>ScienceFiction Comedy Fantasy</td>\n",
       "      <td>36391</td>\n",
       "      <td>en</td>\n",
       "      <td>A comedy. The story follows a young scientist ...</td>\n",
       "      <td>0.529836</td>\n",
       "      <td>[{'iso_639_1': 'pl', 'name': 'Polski'}]</td>\n",
       "      <td>King Size</td>\n",
       "      <td>7.3</td>\n",
       "      <td>8.0</td>\n",
       "    </tr>\n",
       "    <tr>\n",
       "      <th>45397</th>\n",
       "      <td></td>\n",
       "      <td>61385</td>\n",
       "      <td>ru</td>\n",
       "      <td>The Tuner (Russian: Настройщик, Nastroyshchik)...</td>\n",
       "      <td>0.969783</td>\n",
       "      <td>[{'iso_639_1': 'ru', 'name': 'Pусский'}]</td>\n",
       "      <td>The Tuner</td>\n",
       "      <td>6.9</td>\n",
       "      <td>7.0</td>\n",
       "    </tr>\n",
       "  </tbody>\n",
       "</table>\n",
       "<p>1109 rows × 9 columns</p>\n",
       "</div>"
      ],
      "text/plain": [
       "                              genres      id original_language  \\\n",
       "44     Fantasy Drama Comedy Thriller     577                en   \n",
       "51                    Comedy Romance   11448                en   \n",
       "117                     Comedy Drama   78406                en   \n",
       "127                   Comedy Romance  110972                en   \n",
       "154                    Action Comedy    1775                en   \n",
       "...                              ...     ...               ...   \n",
       "45216                         Comedy    7014                fr   \n",
       "45266                         Comedy  373247                en   \n",
       "45269                         Comedy  454787                en   \n",
       "45288  ScienceFiction Comedy Fantasy   36391                en   \n",
       "45397                                  61385                ru   \n",
       "\n",
       "                                                overview popularity  \\\n",
       "44     Susan wants to work in television and will the...    10.4485   \n",
       "51     When Lenny and his wife, Amanda, adopt a baby,...    15.8991   \n",
       "117    Ruben and Robby are twin brothers, adopted by ...    1.52241   \n",
       "127    Pie in the Sky is a 1996 American romantic com...   0.699066   \n",
       "154    Canadian Bacon is the only fictitious film fro...    5.39156   \n",
       "...                                                  ...        ...   \n",
       "45216  Made without proper language, just gibberish a...   2.018911   \n",
       "45266  A black comedy set during the aftermath of the...   0.947866   \n",
       "45269  A comedy about depression, alcoholism, suicide...   1.135015   \n",
       "45288  A comedy. The story follows a young scientist ...   0.529836   \n",
       "45397  The Tuner (Russian: Настройщик, Nastroyshchik)...   0.969783   \n",
       "\n",
       "                                   spoken_languages  \\\n",
       "44         [{'iso_639_1': 'en', 'name': 'English'}]   \n",
       "51         [{'iso_639_1': 'en', 'name': 'English'}]   \n",
       "117        [{'iso_639_1': 'en', 'name': 'English'}]   \n",
       "127        [{'iso_639_1': 'en', 'name': 'English'}]   \n",
       "154        [{'iso_639_1': 'en', 'name': 'English'}]   \n",
       "...                                             ...   \n",
       "45216  [{'iso_639_1': 'xx', 'name': 'No Language'}]   \n",
       "45266      [{'iso_639_1': 'en', 'name': 'English'}]   \n",
       "45269      [{'iso_639_1': 'en', 'name': 'English'}]   \n",
       "45288       [{'iso_639_1': 'pl', 'name': 'Polski'}]   \n",
       "45397      [{'iso_639_1': 'ru', 'name': 'Pусский'}]   \n",
       "\n",
       "                               title  vote_average  vote_count  \n",
       "44                        To Die For           6.7       177.0  \n",
       "51                  Mighty Aphrodite           6.7       145.0  \n",
       "117           Steal Big Steal Little           5.1         7.0  \n",
       "127                   Pie in the Sky           7.0         2.0  \n",
       "154                   Canadian Bacon           5.9        57.0  \n",
       "...                              ...           ...         ...  \n",
       "45216                        Themroc           7.1         9.0  \n",
       "45266                     Down Under           7.2         9.0  \n",
       "45269  Chris Gethard: Career Suicide           7.5         4.0  \n",
       "45288                      King Size           7.3         8.0  \n",
       "45397                      The Tuner           6.9         7.0  \n",
       "\n",
       "[1109 rows x 9 columns]"
      ]
     },
     "execution_count": 27,
     "metadata": {},
     "output_type": "execute_result"
    }
   ],
   "source": [
    "data1[data1.overview.str.contains('comedy')]"
   ]
  },
  {
   "cell_type": "markdown",
   "metadata": {},
   "source": [
    "### popularity"
   ]
  },
  {
   "cell_type": "code",
   "execution_count": 28,
   "metadata": {
    "ExecuteTime": {
     "end_time": "2020-12-22T03:19:53.626988Z",
     "start_time": "2020-12-22T03:19:53.563777Z"
    }
   },
   "outputs": [
    {
     "data": {
      "text/html": [
       "<div>\n",
       "<style scoped>\n",
       "    .dataframe tbody tr th:only-of-type {\n",
       "        vertical-align: middle;\n",
       "    }\n",
       "\n",
       "    .dataframe tbody tr th {\n",
       "        vertical-align: top;\n",
       "    }\n",
       "\n",
       "    .dataframe thead th {\n",
       "        text-align: right;\n",
       "    }\n",
       "</style>\n",
       "<table border=\"1\" class=\"dataframe\">\n",
       "  <thead>\n",
       "    <tr style=\"text-align: right;\">\n",
       "      <th></th>\n",
       "      <th>genres</th>\n",
       "      <th>id</th>\n",
       "      <th>original_language</th>\n",
       "      <th>overview</th>\n",
       "      <th>popularity</th>\n",
       "      <th>spoken_languages</th>\n",
       "      <th>title</th>\n",
       "      <th>vote_average</th>\n",
       "      <th>vote_count</th>\n",
       "    </tr>\n",
       "  </thead>\n",
       "  <tbody>\n",
       "    <tr>\n",
       "      <th>19729</th>\n",
       "      <td>Action Thriller Drama</td>\n",
       "      <td>82663</td>\n",
       "      <td>en</td>\n",
       "      <td>British soldiers force a recently captured IRA...</td>\n",
       "      <td>NaN</td>\n",
       "      <td>NaN</td>\n",
       "      <td>NaN</td>\n",
       "      <td>NaN</td>\n",
       "      <td>NaN</td>\n",
       "    </tr>\n",
       "    <tr>\n",
       "      <th>29502</th>\n",
       "      <td>Animation ScienceFiction</td>\n",
       "      <td>122662</td>\n",
       "      <td>ja</td>\n",
       "      <td>Third film of the Mardock Scramble series.</td>\n",
       "      <td>NaN</td>\n",
       "      <td>NaN</td>\n",
       "      <td>NaN</td>\n",
       "      <td>NaN</td>\n",
       "      <td>NaN</td>\n",
       "    </tr>\n",
       "    <tr>\n",
       "      <th>35586</th>\n",
       "      <td>TVMovie Action Horror ScienceFiction</td>\n",
       "      <td>249260</td>\n",
       "      <td>en</td>\n",
       "      <td>A group of skiers are terrorized during spring...</td>\n",
       "      <td>NaN</td>\n",
       "      <td>NaN</td>\n",
       "      <td>NaN</td>\n",
       "      <td>NaN</td>\n",
       "      <td>NaN</td>\n",
       "    </tr>\n",
       "  </tbody>\n",
       "</table>\n",
       "</div>"
      ],
      "text/plain": [
       "                                     genres      id original_language  \\\n",
       "19729                 Action Thriller Drama   82663                en   \n",
       "29502              Animation ScienceFiction  122662                ja   \n",
       "35586  TVMovie Action Horror ScienceFiction  249260                en   \n",
       "\n",
       "                                                overview popularity  \\\n",
       "19729  British soldiers force a recently captured IRA...        NaN   \n",
       "29502         Third film of the Mardock Scramble series.        NaN   \n",
       "35586  A group of skiers are terrorized during spring...        NaN   \n",
       "\n",
       "      spoken_languages title  vote_average  vote_count  \n",
       "19729              NaN   NaN           NaN         NaN  \n",
       "29502              NaN   NaN           NaN         NaN  \n",
       "35586              NaN   NaN           NaN         NaN  "
      ]
     },
     "execution_count": 28,
     "metadata": {},
     "output_type": "execute_result"
    }
   ],
   "source": [
    "data1[data1['popularity'].isnull()]"
   ]
  },
  {
   "cell_type": "code",
   "execution_count": 29,
   "metadata": {
    "ExecuteTime": {
     "end_time": "2020-12-22T03:19:53.653848Z",
     "start_time": "2020-12-22T03:19:53.632892Z"
    }
   },
   "outputs": [],
   "source": [
    "index = data1[data1['popularity'].isnull()].index"
   ]
  },
  {
   "cell_type": "code",
   "execution_count": 30,
   "metadata": {
    "ExecuteTime": {
     "end_time": "2020-12-22T03:19:53.682769Z",
     "start_time": "2020-12-22T03:19:53.658331Z"
    }
   },
   "outputs": [],
   "source": [
    "data1.drop(index=index, axis=0, inplace=True)"
   ]
  },
  {
   "cell_type": "code",
   "execution_count": 31,
   "metadata": {
    "ExecuteTime": {
     "end_time": "2020-12-22T03:19:53.725638Z",
     "start_time": "2020-12-22T03:19:53.686396Z"
    }
   },
   "outputs": [],
   "source": [
    "data1['popularity'] = data1['popularity'].astype('float')"
   ]
  },
  {
   "cell_type": "markdown",
   "metadata": {},
   "source": [
    "### spoken_languages"
   ]
  },
  {
   "cell_type": "code",
   "execution_count": 32,
   "metadata": {
    "ExecuteTime": {
     "end_time": "2020-12-22T03:19:53.768881Z",
     "start_time": "2020-12-22T03:19:53.729408Z"
    }
   },
   "outputs": [
    {
     "data": {
      "text/html": [
       "<div>\n",
       "<style scoped>\n",
       "    .dataframe tbody tr th:only-of-type {\n",
       "        vertical-align: middle;\n",
       "    }\n",
       "\n",
       "    .dataframe tbody tr th {\n",
       "        vertical-align: top;\n",
       "    }\n",
       "\n",
       "    .dataframe thead th {\n",
       "        text-align: right;\n",
       "    }\n",
       "</style>\n",
       "<table border=\"1\" class=\"dataframe\">\n",
       "  <thead>\n",
       "    <tr style=\"text-align: right;\">\n",
       "      <th></th>\n",
       "      <th>genres</th>\n",
       "      <th>id</th>\n",
       "      <th>original_language</th>\n",
       "      <th>overview</th>\n",
       "      <th>popularity</th>\n",
       "      <th>spoken_languages</th>\n",
       "      <th>title</th>\n",
       "      <th>vote_average</th>\n",
       "      <th>vote_count</th>\n",
       "    </tr>\n",
       "  </thead>\n",
       "  <tbody>\n",
       "  </tbody>\n",
       "</table>\n",
       "</div>"
      ],
      "text/plain": [
       "Empty DataFrame\n",
       "Columns: [genres, id, original_language, overview, popularity, spoken_languages, title, vote_average, vote_count]\n",
       "Index: []"
      ]
     },
     "execution_count": 32,
     "metadata": {},
     "output_type": "execute_result"
    }
   ],
   "source": [
    "data1[data1['spoken_languages'].isnull()]"
   ]
  },
  {
   "cell_type": "code",
   "execution_count": 33,
   "metadata": {
    "ExecuteTime": {
     "end_time": "2020-12-22T03:19:55.674321Z",
     "start_time": "2020-12-22T03:19:53.771876Z"
    }
   },
   "outputs": [],
   "source": [
    "data1['spoken_languages'] = data1['spoken_languages'].apply(literal_eval)"
   ]
  },
  {
   "cell_type": "code",
   "execution_count": 34,
   "metadata": {
    "ExecuteTime": {
     "end_time": "2020-12-22T03:19:55.901145Z",
     "start_time": "2020-12-22T03:19:55.679492Z"
    }
   },
   "outputs": [],
   "source": [
    "data1['spoken_languages'] = data1['spoken_languages'].apply(lambda x : [d['name'] for d in x]).apply(lambda x : \" \".join(x))"
   ]
  },
  {
   "cell_type": "markdown",
   "metadata": {},
   "source": [
    "### title"
   ]
  },
  {
   "cell_type": "code",
   "execution_count": 35,
   "metadata": {
    "ExecuteTime": {
     "end_time": "2020-12-22T03:19:55.929282Z",
     "start_time": "2020-12-22T03:19:55.903447Z"
    }
   },
   "outputs": [
    {
     "data": {
      "text/html": [
       "<div>\n",
       "<style scoped>\n",
       "    .dataframe tbody tr th:only-of-type {\n",
       "        vertical-align: middle;\n",
       "    }\n",
       "\n",
       "    .dataframe tbody tr th {\n",
       "        vertical-align: top;\n",
       "    }\n",
       "\n",
       "    .dataframe thead th {\n",
       "        text-align: right;\n",
       "    }\n",
       "</style>\n",
       "<table border=\"1\" class=\"dataframe\">\n",
       "  <thead>\n",
       "    <tr style=\"text-align: right;\">\n",
       "      <th></th>\n",
       "      <th>genres</th>\n",
       "      <th>id</th>\n",
       "      <th>original_language</th>\n",
       "      <th>overview</th>\n",
       "      <th>popularity</th>\n",
       "      <th>spoken_languages</th>\n",
       "      <th>title</th>\n",
       "      <th>vote_average</th>\n",
       "      <th>vote_count</th>\n",
       "    </tr>\n",
       "  </thead>\n",
       "  <tbody>\n",
       "  </tbody>\n",
       "</table>\n",
       "</div>"
      ],
      "text/plain": [
       "Empty DataFrame\n",
       "Columns: [genres, id, original_language, overview, popularity, spoken_languages, title, vote_average, vote_count]\n",
       "Index: []"
      ]
     },
     "execution_count": 35,
     "metadata": {},
     "output_type": "execute_result"
    }
   ],
   "source": [
    "data1[data1['title'].isnull()]"
   ]
  },
  {
   "cell_type": "code",
   "execution_count": 36,
   "metadata": {
    "ExecuteTime": {
     "end_time": "2020-12-22T03:19:56.049213Z",
     "start_time": "2020-12-22T03:19:55.933030Z"
    }
   },
   "outputs": [
    {
     "data": {
      "text/html": [
       "<div>\n",
       "<style scoped>\n",
       "    .dataframe tbody tr th:only-of-type {\n",
       "        vertical-align: middle;\n",
       "    }\n",
       "\n",
       "    .dataframe tbody tr th {\n",
       "        vertical-align: top;\n",
       "    }\n",
       "\n",
       "    .dataframe thead th {\n",
       "        text-align: right;\n",
       "    }\n",
       "</style>\n",
       "<table border=\"1\" class=\"dataframe\">\n",
       "  <thead>\n",
       "    <tr style=\"text-align: right;\">\n",
       "      <th></th>\n",
       "      <th>genres</th>\n",
       "      <th>id</th>\n",
       "      <th>original_language</th>\n",
       "      <th>overview</th>\n",
       "      <th>popularity</th>\n",
       "      <th>spoken_languages</th>\n",
       "      <th>title</th>\n",
       "      <th>vote_average</th>\n",
       "      <th>vote_count</th>\n",
       "    </tr>\n",
       "  </thead>\n",
       "  <tbody>\n",
       "    <tr>\n",
       "      <th>46</th>\n",
       "      <td>Crime Mystery Thriller</td>\n",
       "      <td>807</td>\n",
       "      <td>en</td>\n",
       "      <td>Two homicide detectives are on a desperate hun...</td>\n",
       "      <td>18.457430</td>\n",
       "      <td>English</td>\n",
       "      <td>Se7en</td>\n",
       "      <td>8.1</td>\n",
       "      <td>5915.0</td>\n",
       "    </tr>\n",
       "    <tr>\n",
       "      <th>65</th>\n",
       "      <td>Action ScienceFiction</td>\n",
       "      <td>11525</td>\n",
       "      <td>en</td>\n",
       "      <td>Jobe is resuscitated by Jonathan Walker. He wa...</td>\n",
       "      <td>2.495350</td>\n",
       "      <td>English Magyar</td>\n",
       "      <td>Lawnmower Man 2: Beyond Cyberspace</td>\n",
       "      <td>2.8</td>\n",
       "      <td>32.0</td>\n",
       "    </tr>\n",
       "    <tr>\n",
       "      <th>147</th>\n",
       "      <td>Drama</td>\n",
       "      <td>568</td>\n",
       "      <td>en</td>\n",
       "      <td>The true story of technical troubles that scut...</td>\n",
       "      <td>18.761467</td>\n",
       "      <td>English</td>\n",
       "      <td>Apollo 13</td>\n",
       "      <td>7.3</td>\n",
       "      <td>1637.0</td>\n",
       "    </tr>\n",
       "    <tr>\n",
       "      <th>166</th>\n",
       "      <td>Adventure</td>\n",
       "      <td>9073</td>\n",
       "      <td>en</td>\n",
       "      <td>Jesse becomes reunited with Willy three years ...</td>\n",
       "      <td>7.575098</td>\n",
       "      <td>English Bahasa indonesia Bahasa melayu</td>\n",
       "      <td>Free Willy 2 - The Adventure Home</td>\n",
       "      <td>5.5</td>\n",
       "      <td>130.0</td>\n",
       "    </tr>\n",
       "    <tr>\n",
       "      <th>201</th>\n",
       "      <td>Action Thriller</td>\n",
       "      <td>3512</td>\n",
       "      <td>en</td>\n",
       "      <td>A passenger train has been hijacked by an elec...</td>\n",
       "      <td>7.490247</td>\n",
       "      <td>English</td>\n",
       "      <td>Under Siege 2: Dark Territory</td>\n",
       "      <td>5.6</td>\n",
       "      <td>217.0</td>\n",
       "    </tr>\n",
       "    <tr>\n",
       "      <th>...</th>\n",
       "      <td>...</td>\n",
       "      <td>...</td>\n",
       "      <td>...</td>\n",
       "      <td>...</td>\n",
       "      <td>...</td>\n",
       "      <td>...</td>\n",
       "      <td>...</td>\n",
       "      <td>...</td>\n",
       "      <td>...</td>\n",
       "    </tr>\n",
       "    <tr>\n",
       "      <th>45329</th>\n",
       "      <td>Comedy Drama</td>\n",
       "      <td>43656</td>\n",
       "      <td>en</td>\n",
       "      <td>Can you solve the mystery of the 13 moons?</td>\n",
       "      <td>2.407001</td>\n",
       "      <td>English</td>\n",
       "      <td>13 Moons</td>\n",
       "      <td>5.8</td>\n",
       "      <td>4.0</td>\n",
       "    </tr>\n",
       "    <tr>\n",
       "      <th>45348</th>\n",
       "      <td>Action Adventure Thriller</td>\n",
       "      <td>44918</td>\n",
       "      <td>en</td>\n",
       "      <td>On the 100th anniversary of the original voyag...</td>\n",
       "      <td>4.359886</td>\n",
       "      <td>English</td>\n",
       "      <td>Titanic 2</td>\n",
       "      <td>3.4</td>\n",
       "      <td>55.0</td>\n",
       "    </tr>\n",
       "    <tr>\n",
       "      <th>45381</th>\n",
       "      <td>Horror Thriller Mystery</td>\n",
       "      <td>264269</td>\n",
       "      <td>ru</td>\n",
       "      <td>Sveta and Maxim, a happy newlyweds, are moving...</td>\n",
       "      <td>0.217441</td>\n",
       "      <td>Pусский</td>\n",
       "      <td>Apartment 18</td>\n",
       "      <td>4.4</td>\n",
       "      <td>4.0</td>\n",
       "    </tr>\n",
       "    <tr>\n",
       "      <th>45458</th>\n",
       "      <td>Horror</td>\n",
       "      <td>289923</td>\n",
       "      <td>en</td>\n",
       "      <td>A film archivist revisits the story of Rustin ...</td>\n",
       "      <td>0.386450</td>\n",
       "      <td>English</td>\n",
       "      <td>The Burkittsville 7</td>\n",
       "      <td>7.0</td>\n",
       "      <td>1.0</td>\n",
       "    </tr>\n",
       "    <tr>\n",
       "      <th>45459</th>\n",
       "      <td>ScienceFiction</td>\n",
       "      <td>222848</td>\n",
       "      <td>en</td>\n",
       "      <td>It's the year 3000 AD. The world's most danger...</td>\n",
       "      <td>0.661558</td>\n",
       "      <td>English</td>\n",
       "      <td>Caged Heat 3000</td>\n",
       "      <td>3.5</td>\n",
       "      <td>1.0</td>\n",
       "    </tr>\n",
       "  </tbody>\n",
       "</table>\n",
       "<p>2072 rows × 9 columns</p>\n",
       "</div>"
      ],
      "text/plain": [
       "                          genres      id original_language  \\\n",
       "46        Crime Mystery Thriller     807                en   \n",
       "65         Action ScienceFiction   11525                en   \n",
       "147                        Drama     568                en   \n",
       "166                    Adventure    9073                en   \n",
       "201              Action Thriller    3512                en   \n",
       "...                          ...     ...               ...   \n",
       "45329               Comedy Drama   43656                en   \n",
       "45348  Action Adventure Thriller   44918                en   \n",
       "45381    Horror Thriller Mystery  264269                ru   \n",
       "45458                     Horror  289923                en   \n",
       "45459             ScienceFiction  222848                en   \n",
       "\n",
       "                                                overview  popularity  \\\n",
       "46     Two homicide detectives are on a desperate hun...   18.457430   \n",
       "65     Jobe is resuscitated by Jonathan Walker. He wa...    2.495350   \n",
       "147    The true story of technical troubles that scut...   18.761467   \n",
       "166    Jesse becomes reunited with Willy three years ...    7.575098   \n",
       "201    A passenger train has been hijacked by an elec...    7.490247   \n",
       "...                                                  ...         ...   \n",
       "45329         Can you solve the mystery of the 13 moons?    2.407001   \n",
       "45348  On the 100th anniversary of the original voyag...    4.359886   \n",
       "45381  Sveta and Maxim, a happy newlyweds, are moving...    0.217441   \n",
       "45458  A film archivist revisits the story of Rustin ...    0.386450   \n",
       "45459  It's the year 3000 AD. The world's most danger...    0.661558   \n",
       "\n",
       "                             spoken_languages  \\\n",
       "46                                    English   \n",
       "65                             English Magyar   \n",
       "147                                   English   \n",
       "166    English Bahasa indonesia Bahasa melayu   \n",
       "201                                   English   \n",
       "...                                       ...   \n",
       "45329                                 English   \n",
       "45348                                 English   \n",
       "45381                                 Pусский   \n",
       "45458                                 English   \n",
       "45459                                 English   \n",
       "\n",
       "                                    title  vote_average  vote_count  \n",
       "46                                  Se7en           8.1      5915.0  \n",
       "65     Lawnmower Man 2: Beyond Cyberspace           2.8        32.0  \n",
       "147                             Apollo 13           7.3      1637.0  \n",
       "166     Free Willy 2 - The Adventure Home           5.5       130.0  \n",
       "201         Under Siege 2: Dark Territory           5.6       217.0  \n",
       "...                                   ...           ...         ...  \n",
       "45329                            13 Moons           5.8         4.0  \n",
       "45348                           Titanic 2           3.4        55.0  \n",
       "45381                        Apartment 18           4.4         4.0  \n",
       "45458                 The Burkittsville 7           7.0         1.0  \n",
       "45459                     Caged Heat 3000           3.5         1.0  \n",
       "\n",
       "[2072 rows x 9 columns]"
      ]
     },
     "execution_count": 36,
     "metadata": {},
     "output_type": "execute_result"
    }
   ],
   "source": [
    "data1[data1['title'].str.contains('[0-9]')]"
   ]
  },
  {
   "cell_type": "code",
   "execution_count": 37,
   "metadata": {
    "ExecuteTime": {
     "end_time": "2020-12-22T03:19:56.081613Z",
     "start_time": "2020-12-22T03:19:56.049213Z"
    }
   },
   "outputs": [
    {
     "data": {
      "text/plain": [
       "False"
      ]
     },
     "execution_count": 37,
     "metadata": {},
     "output_type": "execute_result"
    }
   ],
   "source": [
    "len(data1['title'].unique()) == len(data1)"
   ]
  },
  {
   "cell_type": "markdown",
   "metadata": {},
   "source": [
    "### vote_average"
   ]
  },
  {
   "cell_type": "code",
   "execution_count": 38,
   "metadata": {
    "ExecuteTime": {
     "end_time": "2020-12-22T03:19:56.113483Z",
     "start_time": "2020-12-22T03:19:56.083893Z"
    }
   },
   "outputs": [
    {
     "data": {
      "text/html": [
       "<div>\n",
       "<style scoped>\n",
       "    .dataframe tbody tr th:only-of-type {\n",
       "        vertical-align: middle;\n",
       "    }\n",
       "\n",
       "    .dataframe tbody tr th {\n",
       "        vertical-align: top;\n",
       "    }\n",
       "\n",
       "    .dataframe thead th {\n",
       "        text-align: right;\n",
       "    }\n",
       "</style>\n",
       "<table border=\"1\" class=\"dataframe\">\n",
       "  <thead>\n",
       "    <tr style=\"text-align: right;\">\n",
       "      <th></th>\n",
       "      <th>genres</th>\n",
       "      <th>id</th>\n",
       "      <th>original_language</th>\n",
       "      <th>overview</th>\n",
       "      <th>popularity</th>\n",
       "      <th>spoken_languages</th>\n",
       "      <th>title</th>\n",
       "      <th>vote_average</th>\n",
       "      <th>vote_count</th>\n",
       "    </tr>\n",
       "  </thead>\n",
       "  <tbody>\n",
       "  </tbody>\n",
       "</table>\n",
       "</div>"
      ],
      "text/plain": [
       "Empty DataFrame\n",
       "Columns: [genres, id, original_language, overview, popularity, spoken_languages, title, vote_average, vote_count]\n",
       "Index: []"
      ]
     },
     "execution_count": 38,
     "metadata": {},
     "output_type": "execute_result"
    }
   ],
   "source": [
    "data1[data1['vote_average'].isnull()]"
   ]
  },
  {
   "cell_type": "markdown",
   "metadata": {},
   "source": [
    "### vote_count"
   ]
  },
  {
   "cell_type": "code",
   "execution_count": 39,
   "metadata": {
    "ExecuteTime": {
     "end_time": "2020-12-22T03:19:56.142469Z",
     "start_time": "2020-12-22T03:19:56.116477Z"
    }
   },
   "outputs": [
    {
     "data": {
      "text/html": [
       "<div>\n",
       "<style scoped>\n",
       "    .dataframe tbody tr th:only-of-type {\n",
       "        vertical-align: middle;\n",
       "    }\n",
       "\n",
       "    .dataframe tbody tr th {\n",
       "        vertical-align: top;\n",
       "    }\n",
       "\n",
       "    .dataframe thead th {\n",
       "        text-align: right;\n",
       "    }\n",
       "</style>\n",
       "<table border=\"1\" class=\"dataframe\">\n",
       "  <thead>\n",
       "    <tr style=\"text-align: right;\">\n",
       "      <th></th>\n",
       "      <th>genres</th>\n",
       "      <th>id</th>\n",
       "      <th>original_language</th>\n",
       "      <th>overview</th>\n",
       "      <th>popularity</th>\n",
       "      <th>spoken_languages</th>\n",
       "      <th>title</th>\n",
       "      <th>vote_average</th>\n",
       "      <th>vote_count</th>\n",
       "    </tr>\n",
       "  </thead>\n",
       "  <tbody>\n",
       "  </tbody>\n",
       "</table>\n",
       "</div>"
      ],
      "text/plain": [
       "Empty DataFrame\n",
       "Columns: [genres, id, original_language, overview, popularity, spoken_languages, title, vote_average, vote_count]\n",
       "Index: []"
      ]
     },
     "execution_count": 39,
     "metadata": {},
     "output_type": "execute_result"
    }
   ],
   "source": [
    "data1[data1['vote_count'].isnull()]"
   ]
  },
  {
   "cell_type": "code",
   "execution_count": 40,
   "metadata": {
    "ExecuteTime": {
     "end_time": "2020-12-22T03:19:56.155434Z",
     "start_time": "2020-12-22T03:19:56.145461Z"
    }
   },
   "outputs": [],
   "source": [
    "data1['vote_count'] = data1['vote_count'].astype('int64')"
   ]
  },
  {
   "cell_type": "code",
   "execution_count": 41,
   "metadata": {
    "ExecuteTime": {
     "end_time": "2020-12-22T03:19:56.206405Z",
     "start_time": "2020-12-22T03:19:56.159425Z"
    }
   },
   "outputs": [
    {
     "data": {
      "text/plain": [
       "genres               0\n",
       "id                   0\n",
       "original_language    0\n",
       "overview             0\n",
       "popularity           0\n",
       "spoken_languages     0\n",
       "title                0\n",
       "vote_average         0\n",
       "vote_count           0\n",
       "dtype: int64"
      ]
     },
     "execution_count": 41,
     "metadata": {},
     "output_type": "execute_result"
    }
   ],
   "source": [
    "data1.isnull().sum()"
   ]
  },
  {
   "cell_type": "markdown",
   "metadata": {},
   "source": [
    "### new column(score)"
   ]
  },
  {
   "cell_type": "markdown",
   "metadata": {},
   "source": [
    "vote_average값을 변경해주어야 합니다.   \n",
    "현재 vote_average는 조금 **불공정**하게 되어 있습니다.\n",
    "\n",
    "왜냐하면, vote 수가 적은데(예를 들어 3개) 3개 전부 5점이라고 하면 vote가 5점으로 되어 있기 때문입니다.  \n",
    "하지만, vote 수가 많을수록 vote_average가 떨어질 수 밖에 없습니다. 많은 사람들이 평가를 하니까요.  \n",
    "\n",
    "그래서 이런 불공정을 처리하기 위해 imdb에서 처리한 방법이 있습니다.  \n",
    "해당 이슈는 url : https://www.quora.com/How-does-IMDbs-rating-system-work 에서 확인할 수 있습니다.\n",
    "\n",
    "그에 대한 답은 아래와 같습니다.\n",
    "\n",
    "![1](https://user-images.githubusercontent.com/24634054/71774470-d1470c80-2fb2-11ea-8a1e-aa018dd6d25a.JPG)\n",
    "\n",
    "- r : 개별 영화 평점\n",
    "- v : 개별 영화에 평점을 투표한 횟수\n",
    "- m : 250위 안에 들어야 하는 최소 투표 (정하기 나름인듯. 난 500이라고 하면 500으로 해도 되고.)\n",
    "- c : 전체 영화에 대한 평균 평점\n",
    "\n",
    "여기서 m은 **500위로 가정하고 진행하겠습니다.** \n",
    "\n",
    "먼저 m부터 찾아보죠. 500위 정도로 들어오게 하려면 vote_count가 상위 몇 %이어야 할까요?  \n",
    "이는 quantile을 이용해서 구할 수 있습니다."
   ]
  },
  {
   "cell_type": "code",
   "execution_count": 42,
   "metadata": {
    "ExecuteTime": {
     "end_time": "2020-12-22T03:19:56.233330Z",
     "start_time": "2020-12-22T03:19:56.209810Z"
    }
   },
   "outputs": [
    {
     "data": {
      "text/plain": [
       "1.0"
      ]
     },
     "execution_count": 42,
     "metadata": {},
     "output_type": "execute_result"
    }
   ],
   "source": [
    "data1['vote_count'].quantile(0.10)"
   ]
  },
  {
   "cell_type": "code",
   "execution_count": 43,
   "metadata": {
    "ExecuteTime": {
     "end_time": "2020-12-22T03:19:56.248671Z",
     "start_time": "2020-12-22T03:19:56.236396Z"
    }
   },
   "outputs": [
    {
     "data": {
      "text/plain": [
       "10.0"
      ]
     },
     "execution_count": 43,
     "metadata": {},
     "output_type": "execute_result"
    }
   ],
   "source": [
    "data1['vote_count'].quantile(0.50)"
   ]
  },
  {
   "cell_type": "code",
   "execution_count": 44,
   "metadata": {
    "ExecuteTime": {
     "end_time": "2020-12-22T03:19:56.274028Z",
     "start_time": "2020-12-22T03:19:56.249675Z"
    }
   },
   "outputs": [
    {
     "data": {
      "text/plain": [
       "434.0"
      ]
     },
     "execution_count": 44,
     "metadata": {},
     "output_type": "execute_result"
    }
   ],
   "source": [
    "data1['vote_count'].quantile(0.95)"
   ]
  },
  {
   "cell_type": "code",
   "execution_count": 45,
   "metadata": {
    "ExecuteTime": {
     "end_time": "2020-12-22T03:19:56.301273Z",
     "start_time": "2020-12-22T03:19:56.277071Z"
    }
   },
   "outputs": [
    {
     "data": {
      "text/plain": [
       "(2274, 9)"
      ]
     },
     "execution_count": 45,
     "metadata": {},
     "output_type": "execute_result"
    }
   ],
   "source": [
    "tmp_data = data1[data1['vote_count'] >= data1['vote_count'].quantile(0.95)]\n",
    "tmp_data.shape"
   ]
  },
  {
   "cell_type": "markdown",
   "metadata": {},
   "source": [
    "상위 90%로 했을 때 481개가 들어옵니다.   \n",
    "89%로 하면 529개가 들어오게 됩니다. 저는 90%로 가정하고 진행하도록 하겠습니다."
   ]
  },
  {
   "cell_type": "code",
   "execution_count": 46,
   "metadata": {
    "ExecuteTime": {
     "end_time": "2020-12-22T03:19:56.317192Z",
     "start_time": "2020-12-22T03:19:56.302271Z"
    }
   },
   "outputs": [],
   "source": [
    "del tmp_data"
   ]
  },
  {
   "cell_type": "code",
   "execution_count": 47,
   "metadata": {
    "ExecuteTime": {
     "end_time": "2020-12-22T03:19:56.348872Z",
     "start_time": "2020-12-22T03:19:56.319739Z"
    }
   },
   "outputs": [],
   "source": [
    "m = data1['vote_count'].quantile(0.95)\n",
    "data1_reduced = data1[data1['vote_count'] >= m]"
   ]
  },
  {
   "cell_type": "code",
   "execution_count": 48,
   "metadata": {
    "ExecuteTime": {
     "end_time": "2020-12-22T03:19:56.361021Z",
     "start_time": "2020-12-22T03:19:56.352311Z"
    }
   },
   "outputs": [],
   "source": [
    "C = data1['vote_average'].mean()"
   ]
  },
  {
   "cell_type": "code",
   "execution_count": 49,
   "metadata": {
    "ExecuteTime": {
     "end_time": "2020-12-22T03:19:56.373798Z",
     "start_time": "2020-12-22T03:19:56.365062Z"
    }
   },
   "outputs": [
    {
     "name": "stdout",
     "output_type": "stream",
     "text": [
      "5.618329297820528\n",
      "434.0\n"
     ]
    }
   ],
   "source": [
    "print(C)\n",
    "print(m)"
   ]
  },
  {
   "cell_type": "code",
   "execution_count": 50,
   "metadata": {
    "ExecuteTime": {
     "end_time": "2020-12-22T03:19:56.386237Z",
     "start_time": "2020-12-22T03:19:56.377036Z"
    }
   },
   "outputs": [],
   "source": [
    "def weighted_rating(x, m=m, C=C):\n",
    "    v = x['vote_count']\n",
    "    R = x['vote_average']\n",
    "    \n",
    "    return (v / (v + m) * R) + (m / (m + v) * C)"
   ]
  },
  {
   "cell_type": "code",
   "execution_count": 51,
   "metadata": {
    "ExecuteTime": {
     "end_time": "2020-12-22T03:19:56.489783Z",
     "start_time": "2020-12-22T03:19:56.390067Z"
    }
   },
   "outputs": [],
   "source": [
    "data1_reduced['score'] = data1_reduced.apply(weighted_rating, axis=1)"
   ]
  },
  {
   "cell_type": "markdown",
   "metadata": {},
   "source": [
    "## credits"
   ]
  },
  {
   "cell_type": "code",
   "execution_count": 52,
   "metadata": {
    "ExecuteTime": {
     "end_time": "2020-12-22T03:20:00.511442Z",
     "start_time": "2020-12-22T03:19:56.489783Z"
    }
   },
   "outputs": [],
   "source": [
    "data2 = pd.read_csv('./dataset/credits.csv')"
   ]
  },
  {
   "cell_type": "code",
   "execution_count": 53,
   "metadata": {
    "ExecuteTime": {
     "end_time": "2020-12-22T03:20:00.537457Z",
     "start_time": "2020-12-22T03:20:00.516560Z"
    }
   },
   "outputs": [],
   "source": [
    "columns_use = joblib.load(\"./dataset/credits_columns_use.pkl\")\n",
    "columns_tbd = joblib.load(\"./dataset/credits_columns_tbd.pkl\")"
   ]
  },
  {
   "cell_type": "code",
   "execution_count": 54,
   "metadata": {
    "ExecuteTime": {
     "end_time": "2020-12-22T03:20:00.583153Z",
     "start_time": "2020-12-22T03:20:00.544312Z"
    }
   },
   "outputs": [],
   "source": [
    "data2 = data2[columns_use]"
   ]
  },
  {
   "cell_type": "code",
   "execution_count": 55,
   "metadata": {
    "ExecuteTime": {
     "end_time": "2020-12-22T03:20:00.615690Z",
     "start_time": "2020-12-22T03:20:00.590697Z"
    }
   },
   "outputs": [
    {
     "data": {
      "text/plain": [
       "(45476, 3)"
      ]
     },
     "execution_count": 55,
     "metadata": {},
     "output_type": "execute_result"
    }
   ],
   "source": [
    "data2.shape"
   ]
  },
  {
   "cell_type": "code",
   "execution_count": 56,
   "metadata": {
    "ExecuteTime": {
     "end_time": "2020-12-22T03:20:00.682377Z",
     "start_time": "2020-12-22T03:20:00.619774Z"
    }
   },
   "outputs": [
    {
     "data": {
      "text/plain": [
       "cast    0\n",
       "crew    0\n",
       "id      0\n",
       "dtype: int64"
      ]
     },
     "execution_count": 56,
     "metadata": {},
     "output_type": "execute_result"
    }
   ],
   "source": [
    "data2.isnull().sum()"
   ]
  },
  {
   "cell_type": "markdown",
   "metadata": {},
   "source": [
    "### cast"
   ]
  },
  {
   "cell_type": "code",
   "execution_count": 57,
   "metadata": {
    "ExecuteTime": {
     "end_time": "2020-12-22T03:21:00.721494Z",
     "start_time": "2020-12-22T03:20:00.690840Z"
    }
   },
   "outputs": [],
   "source": [
    "data2['cast'] = data2['cast'].apply(literal_eval)"
   ]
  },
  {
   "cell_type": "code",
   "execution_count": 58,
   "metadata": {
    "ExecuteTime": {
     "end_time": "2020-12-22T03:21:04.457515Z",
     "start_time": "2020-12-22T03:21:00.726481Z"
    }
   },
   "outputs": [],
   "source": [
    "data2['cast'] = data2['cast'].apply(lambda x : [d['name'] for d in x]).apply(lambda x : [d.replace(' ', '') for d in x]).apply(lambda x : \" \".join(x))"
   ]
  },
  {
   "cell_type": "code",
   "execution_count": 59,
   "metadata": {
    "ExecuteTime": {
     "end_time": "2020-12-22T03:21:04.537263Z",
     "start_time": "2020-12-22T03:21:04.470443Z"
    }
   },
   "outputs": [
    {
     "data": {
      "text/plain": [
       "'TomHanks TimAllen DonRickles JimVarney WallaceShawn JohnRatzenberger AnniePotts JohnMorris ErikvonDetten LaurieMetcalf R.LeeErmey SarahFreeman PennJillette'"
      ]
     },
     "execution_count": 59,
     "metadata": {},
     "output_type": "execute_result"
    }
   ],
   "source": [
    "data2['cast'][0]"
   ]
  },
  {
   "cell_type": "markdown",
   "metadata": {},
   "source": [
    "### crew"
   ]
  },
  {
   "cell_type": "code",
   "execution_count": 60,
   "metadata": {
    "ExecuteTime": {
     "end_time": "2020-12-22T03:21:26.212912Z",
     "start_time": "2020-12-22T03:21:04.538260Z"
    }
   },
   "outputs": [],
   "source": [
    "data2['crew'] = data2['crew'].apply(literal_eval)"
   ]
  },
  {
   "cell_type": "code",
   "execution_count": 61,
   "metadata": {
    "ExecuteTime": {
     "end_time": "2020-12-22T03:21:26.609223Z",
     "start_time": "2020-12-22T03:21:26.216874Z"
    }
   },
   "outputs": [],
   "source": [
    "data2['crew'] = data2['crew'].apply(lambda x : [d['name'] for d in x if d['job'] == 'Director']).apply(lambda x : [d.replace(' ', '') for d in x]).apply(lambda x : \" \".join(x))"
   ]
  },
  {
   "cell_type": "code",
   "execution_count": 62,
   "metadata": {
    "ExecuteTime": {
     "end_time": "2020-12-22T03:21:26.625198Z",
     "start_time": "2020-12-22T03:21:26.610224Z"
    }
   },
   "outputs": [
    {
     "data": {
      "text/plain": [
       "'JohnLasseter'"
      ]
     },
     "execution_count": 62,
     "metadata": {},
     "output_type": "execute_result"
    }
   ],
   "source": [
    "data2['crew'][0]"
   ]
  },
  {
   "cell_type": "markdown",
   "metadata": {},
   "source": [
    "### merge"
   ]
  },
  {
   "cell_type": "code",
   "execution_count": 63,
   "metadata": {
    "ExecuteTime": {
     "end_time": "2020-12-22T03:21:26.781027Z",
     "start_time": "2020-12-22T03:21:26.629187Z"
    }
   },
   "outputs": [
    {
     "data": {
      "text/html": [
       "<div>\n",
       "<style scoped>\n",
       "    .dataframe tbody tr th:only-of-type {\n",
       "        vertical-align: middle;\n",
       "    }\n",
       "\n",
       "    .dataframe tbody tr th {\n",
       "        vertical-align: top;\n",
       "    }\n",
       "\n",
       "    .dataframe thead th {\n",
       "        text-align: right;\n",
       "    }\n",
       "</style>\n",
       "<table border=\"1\" class=\"dataframe\">\n",
       "  <thead>\n",
       "    <tr style=\"text-align: right;\">\n",
       "      <th></th>\n",
       "      <th>genres</th>\n",
       "      <th>id</th>\n",
       "      <th>original_language</th>\n",
       "      <th>overview</th>\n",
       "      <th>popularity</th>\n",
       "      <th>spoken_languages</th>\n",
       "      <th>title</th>\n",
       "      <th>vote_average</th>\n",
       "      <th>vote_count</th>\n",
       "      <th>score</th>\n",
       "      <th>cast</th>\n",
       "      <th>crew</th>\n",
       "    </tr>\n",
       "  </thead>\n",
       "  <tbody>\n",
       "    <tr>\n",
       "      <th>0</th>\n",
       "      <td>Animation Comedy Family</td>\n",
       "      <td>862</td>\n",
       "      <td>en</td>\n",
       "      <td>Led by Woody, Andy's toys live happily in his ...</td>\n",
       "      <td>21.946943</td>\n",
       "      <td>English</td>\n",
       "      <td>Toy Story</td>\n",
       "      <td>7.7</td>\n",
       "      <td>5415</td>\n",
       "      <td>7.545539</td>\n",
       "      <td>TomHanks TimAllen DonRickles JimVarney Wallace...</td>\n",
       "      <td>JohnLasseter</td>\n",
       "    </tr>\n",
       "    <tr>\n",
       "      <th>1</th>\n",
       "      <td>Adventure Fantasy Family</td>\n",
       "      <td>8844</td>\n",
       "      <td>en</td>\n",
       "      <td>When siblings Judy and Peter discover an encha...</td>\n",
       "      <td>17.015539</td>\n",
       "      <td>English Français</td>\n",
       "      <td>Jumanji</td>\n",
       "      <td>6.9</td>\n",
       "      <td>2413</td>\n",
       "      <td>6.704621</td>\n",
       "      <td>RobinWilliams JonathanHyde KirstenDunst Bradle...</td>\n",
       "      <td>JoeJohnston</td>\n",
       "    </tr>\n",
       "    <tr>\n",
       "      <th>2</th>\n",
       "      <td>Action Crime Drama Thriller</td>\n",
       "      <td>949</td>\n",
       "      <td>en</td>\n",
       "      <td>Obsessive master thief, Neil McCauley leads a ...</td>\n",
       "      <td>17.924927</td>\n",
       "      <td>English Español</td>\n",
       "      <td>Heat</td>\n",
       "      <td>7.7</td>\n",
       "      <td>1886</td>\n",
       "      <td>7.310584</td>\n",
       "      <td>AlPacino RobertDeNiro ValKilmer JonVoight TomS...</td>\n",
       "      <td>MichaelMann</td>\n",
       "    </tr>\n",
       "    <tr>\n",
       "      <th>3</th>\n",
       "      <td>Adventure Action Thriller</td>\n",
       "      <td>710</td>\n",
       "      <td>en</td>\n",
       "      <td>James Bond must unmask the mysterious head of ...</td>\n",
       "      <td>14.686036</td>\n",
       "      <td>English Pусский Español</td>\n",
       "      <td>GoldenEye</td>\n",
       "      <td>6.6</td>\n",
       "      <td>1194</td>\n",
       "      <td>6.338302</td>\n",
       "      <td>PierceBrosnan SeanBean IzabellaScorupco FamkeJ...</td>\n",
       "      <td>MartinCampbell</td>\n",
       "    </tr>\n",
       "    <tr>\n",
       "      <th>4</th>\n",
       "      <td>Drama Crime</td>\n",
       "      <td>524</td>\n",
       "      <td>en</td>\n",
       "      <td>The life of the gambling paradise – Las Vegas ...</td>\n",
       "      <td>10.137389</td>\n",
       "      <td>English</td>\n",
       "      <td>Casino</td>\n",
       "      <td>7.8</td>\n",
       "      <td>1343</td>\n",
       "      <td>7.267167</td>\n",
       "      <td>RobertDeNiro SharonStone JoePesci JamesWoods D...</td>\n",
       "      <td>MartinScorsese</td>\n",
       "    </tr>\n",
       "  </tbody>\n",
       "</table>\n",
       "</div>"
      ],
      "text/plain": [
       "                        genres    id original_language  \\\n",
       "0      Animation Comedy Family   862                en   \n",
       "1     Adventure Fantasy Family  8844                en   \n",
       "2  Action Crime Drama Thriller   949                en   \n",
       "3    Adventure Action Thriller   710                en   \n",
       "4                  Drama Crime   524                en   \n",
       "\n",
       "                                            overview  popularity  \\\n",
       "0  Led by Woody, Andy's toys live happily in his ...   21.946943   \n",
       "1  When siblings Judy and Peter discover an encha...   17.015539   \n",
       "2  Obsessive master thief, Neil McCauley leads a ...   17.924927   \n",
       "3  James Bond must unmask the mysterious head of ...   14.686036   \n",
       "4  The life of the gambling paradise – Las Vegas ...   10.137389   \n",
       "\n",
       "          spoken_languages      title  vote_average  vote_count     score  \\\n",
       "0                  English  Toy Story           7.7        5415  7.545539   \n",
       "1         English Français    Jumanji           6.9        2413  6.704621   \n",
       "2          English Español       Heat           7.7        1886  7.310584   \n",
       "3  English Pусский Español  GoldenEye           6.6        1194  6.338302   \n",
       "4                  English     Casino           7.8        1343  7.267167   \n",
       "\n",
       "                                                cast            crew  \n",
       "0  TomHanks TimAllen DonRickles JimVarney Wallace...    JohnLasseter  \n",
       "1  RobinWilliams JonathanHyde KirstenDunst Bradle...     JoeJohnston  \n",
       "2  AlPacino RobertDeNiro ValKilmer JonVoight TomS...     MichaelMann  \n",
       "3  PierceBrosnan SeanBean IzabellaScorupco FamkeJ...  MartinCampbell  \n",
       "4  RobertDeNiro SharonStone JoePesci JamesWoods D...  MartinScorsese  "
      ]
     },
     "execution_count": 63,
     "metadata": {},
     "output_type": "execute_result"
    }
   ],
   "source": [
    "data = pd.merge(data1_reduced, data2)\n",
    "data.head()"
   ]
  },
  {
   "cell_type": "code",
   "execution_count": 64,
   "metadata": {
    "ExecuteTime": {
     "end_time": "2020-12-22T03:21:26.796259Z",
     "start_time": "2020-12-22T03:21:26.783022Z"
    }
   },
   "outputs": [
    {
     "data": {
      "text/plain": [
       "(2274, 12)"
      ]
     },
     "execution_count": 64,
     "metadata": {},
     "output_type": "execute_result"
    }
   ],
   "source": [
    "data.shape"
   ]
  },
  {
   "cell_type": "code",
   "execution_count": 65,
   "metadata": {
    "ExecuteTime": {
     "end_time": "2020-12-22T03:21:26.812211Z",
     "start_time": "2020-12-22T03:21:26.797256Z"
    }
   },
   "outputs": [
    {
     "data": {
      "text/plain": [
       "genres               0\n",
       "id                   0\n",
       "original_language    0\n",
       "overview             0\n",
       "popularity           0\n",
       "spoken_languages     0\n",
       "title                0\n",
       "vote_average         0\n",
       "vote_count           0\n",
       "score                0\n",
       "cast                 0\n",
       "crew                 0\n",
       "dtype: int64"
      ]
     },
     "execution_count": 65,
     "metadata": {},
     "output_type": "execute_result"
    }
   ],
   "source": [
    "data.isnull().sum()"
   ]
  },
  {
   "cell_type": "markdown",
   "metadata": {},
   "source": [
    "## keywords"
   ]
  },
  {
   "cell_type": "code",
   "execution_count": 66,
   "metadata": {
    "ExecuteTime": {
     "end_time": "2020-12-22T03:21:26.891797Z",
     "start_time": "2020-12-22T03:21:26.813208Z"
    }
   },
   "outputs": [],
   "source": [
    "data3 = pd.read_csv('./dataset/keywords.csv')"
   ]
  },
  {
   "cell_type": "code",
   "execution_count": 67,
   "metadata": {
    "ExecuteTime": {
     "end_time": "2020-12-22T03:21:26.922728Z",
     "start_time": "2020-12-22T03:21:26.904983Z"
    }
   },
   "outputs": [],
   "source": [
    "columns_use = joblib.load(\"./dataset/keywords_columns_use.pkl\")\n",
    "columns_tbd = joblib.load(\"./dataset/keywords_columns_tbd.pkl\")"
   ]
  },
  {
   "cell_type": "code",
   "execution_count": 68,
   "metadata": {
    "ExecuteTime": {
     "end_time": "2020-12-22T03:21:26.938078Z",
     "start_time": "2020-12-22T03:21:26.927717Z"
    }
   },
   "outputs": [],
   "source": [
    "data3 = data3[columns_use]"
   ]
  },
  {
   "cell_type": "code",
   "execution_count": 69,
   "metadata": {
    "ExecuteTime": {
     "end_time": "2020-12-22T03:21:26.969531Z",
     "start_time": "2020-12-22T03:21:26.944115Z"
    }
   },
   "outputs": [
    {
     "data": {
      "text/plain": [
       "(46419, 2)"
      ]
     },
     "execution_count": 69,
     "metadata": {},
     "output_type": "execute_result"
    }
   ],
   "source": [
    "data3.shape"
   ]
  },
  {
   "cell_type": "code",
   "execution_count": 70,
   "metadata": {
    "ExecuteTime": {
     "end_time": "2020-12-22T03:21:26.984767Z",
     "start_time": "2020-12-22T03:21:26.971433Z"
    }
   },
   "outputs": [
    {
     "data": {
      "text/plain": [
       "id          0\n",
       "keywords    0\n",
       "dtype: int64"
      ]
     },
     "execution_count": 70,
     "metadata": {},
     "output_type": "execute_result"
    }
   ],
   "source": [
    "data3.isnull().sum()"
   ]
  },
  {
   "cell_type": "markdown",
   "metadata": {},
   "source": [
    "### keywords"
   ]
  },
  {
   "cell_type": "code",
   "execution_count": 71,
   "metadata": {
    "ExecuteTime": {
     "end_time": "2020-12-22T03:21:28.836640Z",
     "start_time": "2020-12-22T03:21:26.986662Z"
    }
   },
   "outputs": [],
   "source": [
    "data3['keywords'] = data3['keywords'].apply(literal_eval)"
   ]
  },
  {
   "cell_type": "code",
   "execution_count": 72,
   "metadata": {
    "ExecuteTime": {
     "end_time": "2020-12-22T03:21:28.977887Z",
     "start_time": "2020-12-22T03:21:28.837641Z"
    }
   },
   "outputs": [],
   "source": [
    "data3['keywords'] = data3['keywords'].apply(lambda x : [d['name'] for d in x]).apply(lambda x : \" \".join(x))"
   ]
  },
  {
   "cell_type": "markdown",
   "metadata": {},
   "source": [
    "### merge"
   ]
  },
  {
   "cell_type": "code",
   "execution_count": 73,
   "metadata": {
    "ExecuteTime": {
     "end_time": "2020-12-22T03:21:29.008934Z",
     "start_time": "2020-12-22T03:21:28.978631Z"
    }
   },
   "outputs": [
    {
     "data": {
      "text/html": [
       "<div>\n",
       "<style scoped>\n",
       "    .dataframe tbody tr th:only-of-type {\n",
       "        vertical-align: middle;\n",
       "    }\n",
       "\n",
       "    .dataframe tbody tr th {\n",
       "        vertical-align: top;\n",
       "    }\n",
       "\n",
       "    .dataframe thead th {\n",
       "        text-align: right;\n",
       "    }\n",
       "</style>\n",
       "<table border=\"1\" class=\"dataframe\">\n",
       "  <thead>\n",
       "    <tr style=\"text-align: right;\">\n",
       "      <th></th>\n",
       "      <th>genres</th>\n",
       "      <th>id</th>\n",
       "      <th>original_language</th>\n",
       "      <th>overview</th>\n",
       "      <th>popularity</th>\n",
       "      <th>spoken_languages</th>\n",
       "      <th>title</th>\n",
       "      <th>vote_average</th>\n",
       "      <th>vote_count</th>\n",
       "      <th>score</th>\n",
       "      <th>cast</th>\n",
       "      <th>crew</th>\n",
       "      <th>keywords</th>\n",
       "    </tr>\n",
       "  </thead>\n",
       "  <tbody>\n",
       "    <tr>\n",
       "      <th>0</th>\n",
       "      <td>Animation Comedy Family</td>\n",
       "      <td>862</td>\n",
       "      <td>en</td>\n",
       "      <td>Led by Woody, Andy's toys live happily in his ...</td>\n",
       "      <td>21.946943</td>\n",
       "      <td>English</td>\n",
       "      <td>Toy Story</td>\n",
       "      <td>7.7</td>\n",
       "      <td>5415</td>\n",
       "      <td>7.545539</td>\n",
       "      <td>TomHanks TimAllen DonRickles JimVarney Wallace...</td>\n",
       "      <td>JohnLasseter</td>\n",
       "      <td>jealousy toy boy friendship friends rivalry bo...</td>\n",
       "    </tr>\n",
       "    <tr>\n",
       "      <th>1</th>\n",
       "      <td>Adventure Fantasy Family</td>\n",
       "      <td>8844</td>\n",
       "      <td>en</td>\n",
       "      <td>When siblings Judy and Peter discover an encha...</td>\n",
       "      <td>17.015539</td>\n",
       "      <td>English Français</td>\n",
       "      <td>Jumanji</td>\n",
       "      <td>6.9</td>\n",
       "      <td>2413</td>\n",
       "      <td>6.704621</td>\n",
       "      <td>RobinWilliams JonathanHyde KirstenDunst Bradle...</td>\n",
       "      <td>JoeJohnston</td>\n",
       "      <td>board game disappearance based on children's b...</td>\n",
       "    </tr>\n",
       "    <tr>\n",
       "      <th>2</th>\n",
       "      <td>Action Crime Drama Thriller</td>\n",
       "      <td>949</td>\n",
       "      <td>en</td>\n",
       "      <td>Obsessive master thief, Neil McCauley leads a ...</td>\n",
       "      <td>17.924927</td>\n",
       "      <td>English Español</td>\n",
       "      <td>Heat</td>\n",
       "      <td>7.7</td>\n",
       "      <td>1886</td>\n",
       "      <td>7.310584</td>\n",
       "      <td>AlPacino RobertDeNiro ValKilmer JonVoight TomS...</td>\n",
       "      <td>MichaelMann</td>\n",
       "      <td>robbery detective bank obsession chase shootin...</td>\n",
       "    </tr>\n",
       "    <tr>\n",
       "      <th>3</th>\n",
       "      <td>Adventure Action Thriller</td>\n",
       "      <td>710</td>\n",
       "      <td>en</td>\n",
       "      <td>James Bond must unmask the mysterious head of ...</td>\n",
       "      <td>14.686036</td>\n",
       "      <td>English Pусский Español</td>\n",
       "      <td>GoldenEye</td>\n",
       "      <td>6.6</td>\n",
       "      <td>1194</td>\n",
       "      <td>6.338302</td>\n",
       "      <td>PierceBrosnan SeanBean IzabellaScorupco FamkeJ...</td>\n",
       "      <td>MartinCampbell</td>\n",
       "      <td>cuba falsely accused secret identity computer ...</td>\n",
       "    </tr>\n",
       "    <tr>\n",
       "      <th>4</th>\n",
       "      <td>Drama Crime</td>\n",
       "      <td>524</td>\n",
       "      <td>en</td>\n",
       "      <td>The life of the gambling paradise – Las Vegas ...</td>\n",
       "      <td>10.137389</td>\n",
       "      <td>English</td>\n",
       "      <td>Casino</td>\n",
       "      <td>7.8</td>\n",
       "      <td>1343</td>\n",
       "      <td>7.267167</td>\n",
       "      <td>RobertDeNiro SharonStone JoePesci JamesWoods D...</td>\n",
       "      <td>MartinScorsese</td>\n",
       "      <td>poker drug abuse 1970s overdose illegal prosti...</td>\n",
       "    </tr>\n",
       "  </tbody>\n",
       "</table>\n",
       "</div>"
      ],
      "text/plain": [
       "                        genres    id original_language  \\\n",
       "0      Animation Comedy Family   862                en   \n",
       "1     Adventure Fantasy Family  8844                en   \n",
       "2  Action Crime Drama Thriller   949                en   \n",
       "3    Adventure Action Thriller   710                en   \n",
       "4                  Drama Crime   524                en   \n",
       "\n",
       "                                            overview  popularity  \\\n",
       "0  Led by Woody, Andy's toys live happily in his ...   21.946943   \n",
       "1  When siblings Judy and Peter discover an encha...   17.015539   \n",
       "2  Obsessive master thief, Neil McCauley leads a ...   17.924927   \n",
       "3  James Bond must unmask the mysterious head of ...   14.686036   \n",
       "4  The life of the gambling paradise – Las Vegas ...   10.137389   \n",
       "\n",
       "          spoken_languages      title  vote_average  vote_count     score  \\\n",
       "0                  English  Toy Story           7.7        5415  7.545539   \n",
       "1         English Français    Jumanji           6.9        2413  6.704621   \n",
       "2          English Español       Heat           7.7        1886  7.310584   \n",
       "3  English Pусский Español  GoldenEye           6.6        1194  6.338302   \n",
       "4                  English     Casino           7.8        1343  7.267167   \n",
       "\n",
       "                                                cast            crew  \\\n",
       "0  TomHanks TimAllen DonRickles JimVarney Wallace...    JohnLasseter   \n",
       "1  RobinWilliams JonathanHyde KirstenDunst Bradle...     JoeJohnston   \n",
       "2  AlPacino RobertDeNiro ValKilmer JonVoight TomS...     MichaelMann   \n",
       "3  PierceBrosnan SeanBean IzabellaScorupco FamkeJ...  MartinCampbell   \n",
       "4  RobertDeNiro SharonStone JoePesci JamesWoods D...  MartinScorsese   \n",
       "\n",
       "                                            keywords  \n",
       "0  jealousy toy boy friendship friends rivalry bo...  \n",
       "1  board game disappearance based on children's b...  \n",
       "2  robbery detective bank obsession chase shootin...  \n",
       "3  cuba falsely accused secret identity computer ...  \n",
       "4  poker drug abuse 1970s overdose illegal prosti...  "
      ]
     },
     "execution_count": 73,
     "metadata": {},
     "output_type": "execute_result"
    }
   ],
   "source": [
    "data = pd.merge(data, data3, on='id')\n",
    "data.head()"
   ]
  },
  {
   "cell_type": "code",
   "execution_count": 74,
   "metadata": {
    "ExecuteTime": {
     "end_time": "2020-12-22T03:21:29.024466Z",
     "start_time": "2020-12-22T03:21:29.009835Z"
    }
   },
   "outputs": [
    {
     "data": {
      "text/plain": [
       "(2291, 13)"
      ]
     },
     "execution_count": 74,
     "metadata": {},
     "output_type": "execute_result"
    }
   ],
   "source": [
    "data.shape"
   ]
  },
  {
   "cell_type": "code",
   "execution_count": 75,
   "metadata": {
    "ExecuteTime": {
     "end_time": "2020-12-22T03:21:29.040284Z",
     "start_time": "2020-12-22T03:21:29.026244Z"
    }
   },
   "outputs": [
    {
     "data": {
      "text/plain": [
       "genres               0\n",
       "id                   0\n",
       "original_language    0\n",
       "overview             0\n",
       "popularity           0\n",
       "spoken_languages     0\n",
       "title                0\n",
       "vote_average         0\n",
       "vote_count           0\n",
       "score                0\n",
       "cast                 0\n",
       "crew                 0\n",
       "keywords             0\n",
       "dtype: int64"
      ]
     },
     "execution_count": 75,
     "metadata": {},
     "output_type": "execute_result"
    }
   ],
   "source": [
    "data.isnull().sum()"
   ]
  },
  {
   "cell_type": "markdown",
   "metadata": {},
   "source": [
    "## links"
   ]
  },
  {
   "cell_type": "code",
   "execution_count": 76,
   "metadata": {
    "ExecuteTime": {
     "end_time": "2020-12-22T03:21:29.071701Z",
     "start_time": "2020-12-22T03:21:29.042034Z"
    }
   },
   "outputs": [],
   "source": [
    "data4 = pd.read_csv('./dataset/links.csv')"
   ]
  },
  {
   "cell_type": "code",
   "execution_count": 77,
   "metadata": {
    "ExecuteTime": {
     "end_time": "2020-12-22T03:21:29.087663Z",
     "start_time": "2020-12-22T03:21:29.072703Z"
    }
   },
   "outputs": [],
   "source": [
    "columns_use = joblib.load(\"./dataset/links_columns_use.pkl\")\n",
    "columns_tbd = joblib.load(\"./dataset/links_columns_tbd.pkl\")"
   ]
  },
  {
   "cell_type": "code",
   "execution_count": 78,
   "metadata": {
    "ExecuteTime": {
     "end_time": "2020-12-22T03:21:29.103066Z",
     "start_time": "2020-12-22T03:21:29.088627Z"
    }
   },
   "outputs": [],
   "source": [
    "data4 = data4[columns_use]"
   ]
  },
  {
   "cell_type": "code",
   "execution_count": 79,
   "metadata": {
    "ExecuteTime": {
     "end_time": "2020-12-22T03:21:29.118745Z",
     "start_time": "2020-12-22T03:21:29.103973Z"
    }
   },
   "outputs": [
    {
     "data": {
      "text/plain": [
       "(45843, 2)"
      ]
     },
     "execution_count": 79,
     "metadata": {},
     "output_type": "execute_result"
    }
   ],
   "source": [
    "data4.shape"
   ]
  },
  {
   "cell_type": "code",
   "execution_count": 80,
   "metadata": {
    "ExecuteTime": {
     "end_time": "2020-12-22T03:21:29.134565Z",
     "start_time": "2020-12-22T03:21:29.119745Z"
    }
   },
   "outputs": [
    {
     "data": {
      "text/plain": [
       "movieId      0\n",
       "tmdbId     219\n",
       "dtype: int64"
      ]
     },
     "execution_count": 80,
     "metadata": {},
     "output_type": "execute_result"
    }
   ],
   "source": [
    "data4.isnull().sum()"
   ]
  },
  {
   "cell_type": "markdown",
   "metadata": {},
   "source": [
    "#### tmdbId"
   ]
  },
  {
   "cell_type": "code",
   "execution_count": 81,
   "metadata": {
    "ExecuteTime": {
     "end_time": "2020-12-22T03:21:29.150487Z",
     "start_time": "2020-12-22T03:21:29.136525Z"
    }
   },
   "outputs": [
    {
     "data": {
      "text/html": [
       "<div>\n",
       "<style scoped>\n",
       "    .dataframe tbody tr th:only-of-type {\n",
       "        vertical-align: middle;\n",
       "    }\n",
       "\n",
       "    .dataframe tbody tr th {\n",
       "        vertical-align: top;\n",
       "    }\n",
       "\n",
       "    .dataframe thead th {\n",
       "        text-align: right;\n",
       "    }\n",
       "</style>\n",
       "<table border=\"1\" class=\"dataframe\">\n",
       "  <thead>\n",
       "    <tr style=\"text-align: right;\">\n",
       "      <th></th>\n",
       "      <th>movieId</th>\n",
       "      <th>tmdbId</th>\n",
       "    </tr>\n",
       "  </thead>\n",
       "  <tbody>\n",
       "    <tr>\n",
       "      <th>140</th>\n",
       "      <td>142</td>\n",
       "      <td>NaN</td>\n",
       "    </tr>\n",
       "    <tr>\n",
       "      <th>598</th>\n",
       "      <td>604</td>\n",
       "      <td>NaN</td>\n",
       "    </tr>\n",
       "    <tr>\n",
       "      <th>708</th>\n",
       "      <td>720</td>\n",
       "      <td>NaN</td>\n",
       "    </tr>\n",
       "    <tr>\n",
       "      <th>709</th>\n",
       "      <td>721</td>\n",
       "      <td>NaN</td>\n",
       "    </tr>\n",
       "    <tr>\n",
       "      <th>718</th>\n",
       "      <td>730</td>\n",
       "      <td>NaN</td>\n",
       "    </tr>\n",
       "    <tr>\n",
       "      <th>...</th>\n",
       "      <td>...</td>\n",
       "      <td>...</td>\n",
       "    </tr>\n",
       "    <tr>\n",
       "      <th>24673</th>\n",
       "      <td>115254</td>\n",
       "      <td>NaN</td>\n",
       "    </tr>\n",
       "    <tr>\n",
       "      <th>24775</th>\n",
       "      <td>115715</td>\n",
       "      <td>NaN</td>\n",
       "    </tr>\n",
       "    <tr>\n",
       "      <th>24802</th>\n",
       "      <td>115821</td>\n",
       "      <td>NaN</td>\n",
       "    </tr>\n",
       "    <tr>\n",
       "      <th>28570</th>\n",
       "      <td>128734</td>\n",
       "      <td>NaN</td>\n",
       "    </tr>\n",
       "    <tr>\n",
       "      <th>35278</th>\n",
       "      <td>148093</td>\n",
       "      <td>NaN</td>\n",
       "    </tr>\n",
       "  </tbody>\n",
       "</table>\n",
       "<p>219 rows × 2 columns</p>\n",
       "</div>"
      ],
      "text/plain": [
       "       movieId  tmdbId\n",
       "140        142     NaN\n",
       "598        604     NaN\n",
       "708        720     NaN\n",
       "709        721     NaN\n",
       "718        730     NaN\n",
       "...        ...     ...\n",
       "24673   115254     NaN\n",
       "24775   115715     NaN\n",
       "24802   115821     NaN\n",
       "28570   128734     NaN\n",
       "35278   148093     NaN\n",
       "\n",
       "[219 rows x 2 columns]"
      ]
     },
     "execution_count": 81,
     "metadata": {},
     "output_type": "execute_result"
    }
   ],
   "source": [
    "data4[data4.tmdbId.isnull()]"
   ]
  },
  {
   "cell_type": "code",
   "execution_count": 82,
   "metadata": {
    "ExecuteTime": {
     "end_time": "2020-12-22T03:21:29.165835Z",
     "start_time": "2020-12-22T03:21:29.151392Z"
    }
   },
   "outputs": [],
   "source": [
    "data4.dropna(axis=0, inplace=True)"
   ]
  },
  {
   "cell_type": "code",
   "execution_count": 83,
   "metadata": {
    "ExecuteTime": {
     "end_time": "2020-12-22T03:21:29.181883Z",
     "start_time": "2020-12-22T03:21:29.166832Z"
    }
   },
   "outputs": [
    {
     "data": {
      "text/plain": [
       "(45624, 2)"
      ]
     },
     "execution_count": 83,
     "metadata": {},
     "output_type": "execute_result"
    }
   ],
   "source": [
    "data4.shape"
   ]
  },
  {
   "cell_type": "markdown",
   "metadata": {},
   "source": [
    "### merge"
   ]
  },
  {
   "cell_type": "code",
   "execution_count": 84,
   "metadata": {
    "ExecuteTime": {
     "end_time": "2020-12-22T03:21:29.228868Z",
     "start_time": "2020-12-22T03:21:29.182784Z"
    }
   },
   "outputs": [
    {
     "data": {
      "text/html": [
       "<div>\n",
       "<style scoped>\n",
       "    .dataframe tbody tr th:only-of-type {\n",
       "        vertical-align: middle;\n",
       "    }\n",
       "\n",
       "    .dataframe tbody tr th {\n",
       "        vertical-align: top;\n",
       "    }\n",
       "\n",
       "    .dataframe thead th {\n",
       "        text-align: right;\n",
       "    }\n",
       "</style>\n",
       "<table border=\"1\" class=\"dataframe\">\n",
       "  <thead>\n",
       "    <tr style=\"text-align: right;\">\n",
       "      <th></th>\n",
       "      <th>genres</th>\n",
       "      <th>id</th>\n",
       "      <th>original_language</th>\n",
       "      <th>overview</th>\n",
       "      <th>popularity</th>\n",
       "      <th>spoken_languages</th>\n",
       "      <th>title</th>\n",
       "      <th>vote_average</th>\n",
       "      <th>vote_count</th>\n",
       "      <th>score</th>\n",
       "      <th>cast</th>\n",
       "      <th>crew</th>\n",
       "      <th>keywords</th>\n",
       "      <th>movieId</th>\n",
       "    </tr>\n",
       "  </thead>\n",
       "  <tbody>\n",
       "    <tr>\n",
       "      <th>0</th>\n",
       "      <td>Animation Comedy Family</td>\n",
       "      <td>862</td>\n",
       "      <td>en</td>\n",
       "      <td>Led by Woody, Andy's toys live happily in his ...</td>\n",
       "      <td>21.946943</td>\n",
       "      <td>English</td>\n",
       "      <td>Toy Story</td>\n",
       "      <td>7.7</td>\n",
       "      <td>5415</td>\n",
       "      <td>7.545539</td>\n",
       "      <td>TomHanks TimAllen DonRickles JimVarney Wallace...</td>\n",
       "      <td>JohnLasseter</td>\n",
       "      <td>jealousy toy boy friendship friends rivalry bo...</td>\n",
       "      <td>1</td>\n",
       "    </tr>\n",
       "    <tr>\n",
       "      <th>1</th>\n",
       "      <td>Adventure Fantasy Family</td>\n",
       "      <td>8844</td>\n",
       "      <td>en</td>\n",
       "      <td>When siblings Judy and Peter discover an encha...</td>\n",
       "      <td>17.015539</td>\n",
       "      <td>English Français</td>\n",
       "      <td>Jumanji</td>\n",
       "      <td>6.9</td>\n",
       "      <td>2413</td>\n",
       "      <td>6.704621</td>\n",
       "      <td>RobinWilliams JonathanHyde KirstenDunst Bradle...</td>\n",
       "      <td>JoeJohnston</td>\n",
       "      <td>board game disappearance based on children's b...</td>\n",
       "      <td>2</td>\n",
       "    </tr>\n",
       "    <tr>\n",
       "      <th>2</th>\n",
       "      <td>Action Crime Drama Thriller</td>\n",
       "      <td>949</td>\n",
       "      <td>en</td>\n",
       "      <td>Obsessive master thief, Neil McCauley leads a ...</td>\n",
       "      <td>17.924927</td>\n",
       "      <td>English Español</td>\n",
       "      <td>Heat</td>\n",
       "      <td>7.7</td>\n",
       "      <td>1886</td>\n",
       "      <td>7.310584</td>\n",
       "      <td>AlPacino RobertDeNiro ValKilmer JonVoight TomS...</td>\n",
       "      <td>MichaelMann</td>\n",
       "      <td>robbery detective bank obsession chase shootin...</td>\n",
       "      <td>6</td>\n",
       "    </tr>\n",
       "    <tr>\n",
       "      <th>3</th>\n",
       "      <td>Adventure Action Thriller</td>\n",
       "      <td>710</td>\n",
       "      <td>en</td>\n",
       "      <td>James Bond must unmask the mysterious head of ...</td>\n",
       "      <td>14.686036</td>\n",
       "      <td>English Pусский Español</td>\n",
       "      <td>GoldenEye</td>\n",
       "      <td>6.6</td>\n",
       "      <td>1194</td>\n",
       "      <td>6.338302</td>\n",
       "      <td>PierceBrosnan SeanBean IzabellaScorupco FamkeJ...</td>\n",
       "      <td>MartinCampbell</td>\n",
       "      <td>cuba falsely accused secret identity computer ...</td>\n",
       "      <td>10</td>\n",
       "    </tr>\n",
       "    <tr>\n",
       "      <th>4</th>\n",
       "      <td>Drama Crime</td>\n",
       "      <td>524</td>\n",
       "      <td>en</td>\n",
       "      <td>The life of the gambling paradise – Las Vegas ...</td>\n",
       "      <td>10.137389</td>\n",
       "      <td>English</td>\n",
       "      <td>Casino</td>\n",
       "      <td>7.8</td>\n",
       "      <td>1343</td>\n",
       "      <td>7.267167</td>\n",
       "      <td>RobertDeNiro SharonStone JoePesci JamesWoods D...</td>\n",
       "      <td>MartinScorsese</td>\n",
       "      <td>poker drug abuse 1970s overdose illegal prosti...</td>\n",
       "      <td>16</td>\n",
       "    </tr>\n",
       "  </tbody>\n",
       "</table>\n",
       "</div>"
      ],
      "text/plain": [
       "                        genres    id original_language  \\\n",
       "0      Animation Comedy Family   862                en   \n",
       "1     Adventure Fantasy Family  8844                en   \n",
       "2  Action Crime Drama Thriller   949                en   \n",
       "3    Adventure Action Thriller   710                en   \n",
       "4                  Drama Crime   524                en   \n",
       "\n",
       "                                            overview  popularity  \\\n",
       "0  Led by Woody, Andy's toys live happily in his ...   21.946943   \n",
       "1  When siblings Judy and Peter discover an encha...   17.015539   \n",
       "2  Obsessive master thief, Neil McCauley leads a ...   17.924927   \n",
       "3  James Bond must unmask the mysterious head of ...   14.686036   \n",
       "4  The life of the gambling paradise – Las Vegas ...   10.137389   \n",
       "\n",
       "          spoken_languages      title  vote_average  vote_count     score  \\\n",
       "0                  English  Toy Story           7.7        5415  7.545539   \n",
       "1         English Français    Jumanji           6.9        2413  6.704621   \n",
       "2          English Español       Heat           7.7        1886  7.310584   \n",
       "3  English Pусский Español  GoldenEye           6.6        1194  6.338302   \n",
       "4                  English     Casino           7.8        1343  7.267167   \n",
       "\n",
       "                                                cast            crew  \\\n",
       "0  TomHanks TimAllen DonRickles JimVarney Wallace...    JohnLasseter   \n",
       "1  RobinWilliams JonathanHyde KirstenDunst Bradle...     JoeJohnston   \n",
       "2  AlPacino RobertDeNiro ValKilmer JonVoight TomS...     MichaelMann   \n",
       "3  PierceBrosnan SeanBean IzabellaScorupco FamkeJ...  MartinCampbell   \n",
       "4  RobertDeNiro SharonStone JoePesci JamesWoods D...  MartinScorsese   \n",
       "\n",
       "                                            keywords  movieId  \n",
       "0  jealousy toy boy friendship friends rivalry bo...        1  \n",
       "1  board game disappearance based on children's b...        2  \n",
       "2  robbery detective bank obsession chase shootin...        6  \n",
       "3  cuba falsely accused secret identity computer ...       10  \n",
       "4  poker drug abuse 1970s overdose illegal prosti...       16  "
      ]
     },
     "execution_count": 84,
     "metadata": {},
     "output_type": "execute_result"
    }
   ],
   "source": [
    "data = pd.merge(data, data4, left_on='id', right_on='tmdbId').drop('tmdbId', axis=1)\n",
    "data.head()"
   ]
  },
  {
   "cell_type": "code",
   "execution_count": 85,
   "metadata": {
    "ExecuteTime": {
     "end_time": "2020-12-22T03:21:29.244988Z",
     "start_time": "2020-12-22T03:21:29.229906Z"
    }
   },
   "outputs": [
    {
     "data": {
      "text/plain": [
       "(2291, 14)"
      ]
     },
     "execution_count": 85,
     "metadata": {},
     "output_type": "execute_result"
    }
   ],
   "source": [
    "data.shape"
   ]
  },
  {
   "cell_type": "code",
   "execution_count": 86,
   "metadata": {
    "ExecuteTime": {
     "end_time": "2020-12-22T03:21:29.260997Z",
     "start_time": "2020-12-22T03:21:29.246948Z"
    }
   },
   "outputs": [
    {
     "data": {
      "text/plain": [
       "genres               0\n",
       "id                   0\n",
       "original_language    0\n",
       "overview             0\n",
       "popularity           0\n",
       "spoken_languages     0\n",
       "title                0\n",
       "vote_average         0\n",
       "vote_count           0\n",
       "score                0\n",
       "cast                 0\n",
       "crew                 0\n",
       "keywords             0\n",
       "movieId              0\n",
       "dtype: int64"
      ]
     },
     "execution_count": 86,
     "metadata": {},
     "output_type": "execute_result"
    }
   ],
   "source": [
    "data.isnull().sum()"
   ]
  },
  {
   "cell_type": "markdown",
   "metadata": {},
   "source": [
    "## ratings"
   ]
  },
  {
   "cell_type": "code",
   "execution_count": 87,
   "metadata": {
    "ExecuteTime": {
     "end_time": "2020-12-22T03:21:37.381748Z",
     "start_time": "2020-12-22T03:21:29.261996Z"
    }
   },
   "outputs": [],
   "source": [
    "data5 = pd.read_csv('./dataset/ratings.csv')"
   ]
  },
  {
   "cell_type": "code",
   "execution_count": 88,
   "metadata": {
    "ExecuteTime": {
     "end_time": "2020-12-22T03:21:37.397689Z",
     "start_time": "2020-12-22T03:21:37.386483Z"
    }
   },
   "outputs": [],
   "source": [
    "columns_use = joblib.load(\"./dataset/ratings_columns_use.pkl\")\n",
    "columns_tbd = joblib.load(\"./dataset/ratings_columns_tbd.pkl\")"
   ]
  },
  {
   "cell_type": "code",
   "execution_count": 89,
   "metadata": {
    "ExecuteTime": {
     "end_time": "2020-12-22T03:21:37.856627Z",
     "start_time": "2020-12-22T03:21:37.399647Z"
    }
   },
   "outputs": [],
   "source": [
    "data5 = data5[columns_use]"
   ]
  },
  {
   "cell_type": "code",
   "execution_count": 90,
   "metadata": {
    "ExecuteTime": {
     "end_time": "2020-12-22T03:21:37.903563Z",
     "start_time": "2020-12-22T03:21:37.858119Z"
    }
   },
   "outputs": [
    {
     "data": {
      "text/plain": [
       "(26024289, 3)"
      ]
     },
     "execution_count": 90,
     "metadata": {},
     "output_type": "execute_result"
    }
   ],
   "source": [
    "data5.shape"
   ]
  },
  {
   "cell_type": "code",
   "execution_count": 91,
   "metadata": {
    "ExecuteTime": {
     "end_time": "2020-12-22T03:21:38.184874Z",
     "start_time": "2020-12-22T03:21:37.912747Z"
    }
   },
   "outputs": [
    {
     "data": {
      "text/plain": [
       "userId     0\n",
       "movieId    0\n",
       "rating     0\n",
       "dtype: int64"
      ]
     },
     "execution_count": 91,
     "metadata": {},
     "output_type": "execute_result"
    }
   ],
   "source": [
    "data5.isnull().sum()"
   ]
  },
  {
   "cell_type": "markdown",
   "metadata": {},
   "source": [
    "### userId\n",
    "- content based filtering 시에 필요 없으므로 삭제"
   ]
  },
  {
   "cell_type": "code",
   "execution_count": 92,
   "metadata": {
    "ExecuteTime": {
     "end_time": "2020-12-22T03:21:38.422116Z",
     "start_time": "2020-12-22T03:21:38.189903Z"
    }
   },
   "outputs": [],
   "source": [
    "data5.drop('userId', axis=1, inplace=True)"
   ]
  },
  {
   "cell_type": "markdown",
   "metadata": {},
   "source": [
    "### rating"
   ]
  },
  {
   "cell_type": "code",
   "execution_count": 93,
   "metadata": {
    "ExecuteTime": {
     "end_time": "2020-12-22T03:21:39.411814Z",
     "start_time": "2020-12-22T03:21:38.432048Z"
    }
   },
   "outputs": [
    {
     "data": {
      "text/html": [
       "<div>\n",
       "<style scoped>\n",
       "    .dataframe tbody tr th:only-of-type {\n",
       "        vertical-align: middle;\n",
       "    }\n",
       "\n",
       "    .dataframe tbody tr th {\n",
       "        vertical-align: top;\n",
       "    }\n",
       "\n",
       "    .dataframe thead th {\n",
       "        text-align: right;\n",
       "    }\n",
       "</style>\n",
       "<table border=\"1\" class=\"dataframe\">\n",
       "  <thead>\n",
       "    <tr style=\"text-align: right;\">\n",
       "      <th></th>\n",
       "      <th>rating</th>\n",
       "    </tr>\n",
       "    <tr>\n",
       "      <th>movieId</th>\n",
       "      <th></th>\n",
       "    </tr>\n",
       "  </thead>\n",
       "  <tbody>\n",
       "    <tr>\n",
       "      <th>1</th>\n",
       "      <td>3.888157</td>\n",
       "    </tr>\n",
       "    <tr>\n",
       "      <th>2</th>\n",
       "      <td>3.236953</td>\n",
       "    </tr>\n",
       "    <tr>\n",
       "      <th>3</th>\n",
       "      <td>3.175550</td>\n",
       "    </tr>\n",
       "    <tr>\n",
       "      <th>4</th>\n",
       "      <td>2.875713</td>\n",
       "    </tr>\n",
       "    <tr>\n",
       "      <th>5</th>\n",
       "      <td>3.079565</td>\n",
       "    </tr>\n",
       "    <tr>\n",
       "      <th>...</th>\n",
       "      <td>...</td>\n",
       "    </tr>\n",
       "    <tr>\n",
       "      <th>176267</th>\n",
       "      <td>4.000000</td>\n",
       "    </tr>\n",
       "    <tr>\n",
       "      <th>176269</th>\n",
       "      <td>3.500000</td>\n",
       "    </tr>\n",
       "    <tr>\n",
       "      <th>176271</th>\n",
       "      <td>5.000000</td>\n",
       "    </tr>\n",
       "    <tr>\n",
       "      <th>176273</th>\n",
       "      <td>1.000000</td>\n",
       "    </tr>\n",
       "    <tr>\n",
       "      <th>176275</th>\n",
       "      <td>3.000000</td>\n",
       "    </tr>\n",
       "  </tbody>\n",
       "</table>\n",
       "<p>45115 rows × 1 columns</p>\n",
       "</div>"
      ],
      "text/plain": [
       "           rating\n",
       "movieId          \n",
       "1        3.888157\n",
       "2        3.236953\n",
       "3        3.175550\n",
       "4        2.875713\n",
       "5        3.079565\n",
       "...           ...\n",
       "176267   4.000000\n",
       "176269   3.500000\n",
       "176271   5.000000\n",
       "176273   1.000000\n",
       "176275   3.000000\n",
       "\n",
       "[45115 rows x 1 columns]"
      ]
     },
     "execution_count": 93,
     "metadata": {},
     "output_type": "execute_result"
    }
   ],
   "source": [
    "data5_groupby = data5.groupby('movieId').mean()\n",
    "data5_groupby"
   ]
  },
  {
   "cell_type": "code",
   "execution_count": 94,
   "metadata": {
    "ExecuteTime": {
     "end_time": "2020-12-22T03:21:39.443643Z",
     "start_time": "2020-12-22T03:21:39.416800Z"
    }
   },
   "outputs": [
    {
     "data": {
      "text/html": [
       "<div>\n",
       "<style scoped>\n",
       "    .dataframe tbody tr th:only-of-type {\n",
       "        vertical-align: middle;\n",
       "    }\n",
       "\n",
       "    .dataframe tbody tr th {\n",
       "        vertical-align: top;\n",
       "    }\n",
       "\n",
       "    .dataframe thead th {\n",
       "        text-align: right;\n",
       "    }\n",
       "</style>\n",
       "<table border=\"1\" class=\"dataframe\">\n",
       "  <thead>\n",
       "    <tr style=\"text-align: right;\">\n",
       "      <th></th>\n",
       "      <th>movieId</th>\n",
       "      <th>rating</th>\n",
       "    </tr>\n",
       "  </thead>\n",
       "  <tbody>\n",
       "    <tr>\n",
       "      <th>0</th>\n",
       "      <td>1</td>\n",
       "      <td>3.888157</td>\n",
       "    </tr>\n",
       "    <tr>\n",
       "      <th>1</th>\n",
       "      <td>2</td>\n",
       "      <td>3.236953</td>\n",
       "    </tr>\n",
       "    <tr>\n",
       "      <th>2</th>\n",
       "      <td>3</td>\n",
       "      <td>3.175550</td>\n",
       "    </tr>\n",
       "    <tr>\n",
       "      <th>3</th>\n",
       "      <td>4</td>\n",
       "      <td>2.875713</td>\n",
       "    </tr>\n",
       "    <tr>\n",
       "      <th>4</th>\n",
       "      <td>5</td>\n",
       "      <td>3.079565</td>\n",
       "    </tr>\n",
       "    <tr>\n",
       "      <th>...</th>\n",
       "      <td>...</td>\n",
       "      <td>...</td>\n",
       "    </tr>\n",
       "    <tr>\n",
       "      <th>45110</th>\n",
       "      <td>176267</td>\n",
       "      <td>4.000000</td>\n",
       "    </tr>\n",
       "    <tr>\n",
       "      <th>45111</th>\n",
       "      <td>176269</td>\n",
       "      <td>3.500000</td>\n",
       "    </tr>\n",
       "    <tr>\n",
       "      <th>45112</th>\n",
       "      <td>176271</td>\n",
       "      <td>5.000000</td>\n",
       "    </tr>\n",
       "    <tr>\n",
       "      <th>45113</th>\n",
       "      <td>176273</td>\n",
       "      <td>1.000000</td>\n",
       "    </tr>\n",
       "    <tr>\n",
       "      <th>45114</th>\n",
       "      <td>176275</td>\n",
       "      <td>3.000000</td>\n",
       "    </tr>\n",
       "  </tbody>\n",
       "</table>\n",
       "<p>45115 rows × 2 columns</p>\n",
       "</div>"
      ],
      "text/plain": [
       "       movieId    rating\n",
       "0            1  3.888157\n",
       "1            2  3.236953\n",
       "2            3  3.175550\n",
       "3            4  2.875713\n",
       "4            5  3.079565\n",
       "...        ...       ...\n",
       "45110   176267  4.000000\n",
       "45111   176269  3.500000\n",
       "45112   176271  5.000000\n",
       "45113   176273  1.000000\n",
       "45114   176275  3.000000\n",
       "\n",
       "[45115 rows x 2 columns]"
      ]
     },
     "execution_count": 94,
     "metadata": {},
     "output_type": "execute_result"
    }
   ],
   "source": [
    "data5_groupby = data5_groupby.reset_index()\n",
    "data5_groupby"
   ]
  },
  {
   "cell_type": "markdown",
   "metadata": {},
   "source": [
    "### merge"
   ]
  },
  {
   "cell_type": "code",
   "execution_count": 95,
   "metadata": {
    "ExecuteTime": {
     "end_time": "2020-12-22T03:21:39.553224Z",
     "start_time": "2020-12-22T03:21:39.446640Z"
    }
   },
   "outputs": [
    {
     "data": {
      "text/html": [
       "<div>\n",
       "<style scoped>\n",
       "    .dataframe tbody tr th:only-of-type {\n",
       "        vertical-align: middle;\n",
       "    }\n",
       "\n",
       "    .dataframe tbody tr th {\n",
       "        vertical-align: top;\n",
       "    }\n",
       "\n",
       "    .dataframe thead th {\n",
       "        text-align: right;\n",
       "    }\n",
       "</style>\n",
       "<table border=\"1\" class=\"dataframe\">\n",
       "  <thead>\n",
       "    <tr style=\"text-align: right;\">\n",
       "      <th></th>\n",
       "      <th>genres</th>\n",
       "      <th>id</th>\n",
       "      <th>original_language</th>\n",
       "      <th>overview</th>\n",
       "      <th>popularity</th>\n",
       "      <th>spoken_languages</th>\n",
       "      <th>title</th>\n",
       "      <th>vote_average</th>\n",
       "      <th>vote_count</th>\n",
       "      <th>score</th>\n",
       "      <th>cast</th>\n",
       "      <th>crew</th>\n",
       "      <th>keywords</th>\n",
       "      <th>movieId</th>\n",
       "      <th>rating</th>\n",
       "    </tr>\n",
       "  </thead>\n",
       "  <tbody>\n",
       "    <tr>\n",
       "      <th>0</th>\n",
       "      <td>Animation Comedy Family</td>\n",
       "      <td>862</td>\n",
       "      <td>en</td>\n",
       "      <td>Led by Woody, Andy's toys live happily in his ...</td>\n",
       "      <td>21.946943</td>\n",
       "      <td>English</td>\n",
       "      <td>Toy Story</td>\n",
       "      <td>7.7</td>\n",
       "      <td>5415</td>\n",
       "      <td>7.545539</td>\n",
       "      <td>TomHanks TimAllen DonRickles JimVarney Wallace...</td>\n",
       "      <td>JohnLasseter</td>\n",
       "      <td>jealousy toy boy friendship friends rivalry bo...</td>\n",
       "      <td>1</td>\n",
       "      <td>3.888157</td>\n",
       "    </tr>\n",
       "    <tr>\n",
       "      <th>1</th>\n",
       "      <td>Adventure Fantasy Family</td>\n",
       "      <td>8844</td>\n",
       "      <td>en</td>\n",
       "      <td>When siblings Judy and Peter discover an encha...</td>\n",
       "      <td>17.015539</td>\n",
       "      <td>English Français</td>\n",
       "      <td>Jumanji</td>\n",
       "      <td>6.9</td>\n",
       "      <td>2413</td>\n",
       "      <td>6.704621</td>\n",
       "      <td>RobinWilliams JonathanHyde KirstenDunst Bradle...</td>\n",
       "      <td>JoeJohnston</td>\n",
       "      <td>board game disappearance based on children's b...</td>\n",
       "      <td>2</td>\n",
       "      <td>3.236953</td>\n",
       "    </tr>\n",
       "    <tr>\n",
       "      <th>2</th>\n",
       "      <td>Action Crime Drama Thriller</td>\n",
       "      <td>949</td>\n",
       "      <td>en</td>\n",
       "      <td>Obsessive master thief, Neil McCauley leads a ...</td>\n",
       "      <td>17.924927</td>\n",
       "      <td>English Español</td>\n",
       "      <td>Heat</td>\n",
       "      <td>7.7</td>\n",
       "      <td>1886</td>\n",
       "      <td>7.310584</td>\n",
       "      <td>AlPacino RobertDeNiro ValKilmer JonVoight TomS...</td>\n",
       "      <td>MichaelMann</td>\n",
       "      <td>robbery detective bank obsession chase shootin...</td>\n",
       "      <td>6</td>\n",
       "      <td>3.841764</td>\n",
       "    </tr>\n",
       "    <tr>\n",
       "      <th>3</th>\n",
       "      <td>Adventure Action Thriller</td>\n",
       "      <td>710</td>\n",
       "      <td>en</td>\n",
       "      <td>James Bond must unmask the mysterious head of ...</td>\n",
       "      <td>14.686036</td>\n",
       "      <td>English Pусский Español</td>\n",
       "      <td>GoldenEye</td>\n",
       "      <td>6.6</td>\n",
       "      <td>1194</td>\n",
       "      <td>6.338302</td>\n",
       "      <td>PierceBrosnan SeanBean IzabellaScorupco FamkeJ...</td>\n",
       "      <td>MartinCampbell</td>\n",
       "      <td>cuba falsely accused secret identity computer ...</td>\n",
       "      <td>10</td>\n",
       "      <td>3.431841</td>\n",
       "    </tr>\n",
       "    <tr>\n",
       "      <th>4</th>\n",
       "      <td>Drama Crime</td>\n",
       "      <td>524</td>\n",
       "      <td>en</td>\n",
       "      <td>The life of the gambling paradise – Las Vegas ...</td>\n",
       "      <td>10.137389</td>\n",
       "      <td>English</td>\n",
       "      <td>Casino</td>\n",
       "      <td>7.8</td>\n",
       "      <td>1343</td>\n",
       "      <td>7.267167</td>\n",
       "      <td>RobertDeNiro SharonStone JoePesci JamesWoods D...</td>\n",
       "      <td>MartinScorsese</td>\n",
       "      <td>poker drug abuse 1970s overdose illegal prosti...</td>\n",
       "      <td>16</td>\n",
       "      <td>3.795511</td>\n",
       "    </tr>\n",
       "  </tbody>\n",
       "</table>\n",
       "</div>"
      ],
      "text/plain": [
       "                        genres    id original_language  \\\n",
       "0      Animation Comedy Family   862                en   \n",
       "1     Adventure Fantasy Family  8844                en   \n",
       "2  Action Crime Drama Thriller   949                en   \n",
       "3    Adventure Action Thriller   710                en   \n",
       "4                  Drama Crime   524                en   \n",
       "\n",
       "                                            overview  popularity  \\\n",
       "0  Led by Woody, Andy's toys live happily in his ...   21.946943   \n",
       "1  When siblings Judy and Peter discover an encha...   17.015539   \n",
       "2  Obsessive master thief, Neil McCauley leads a ...   17.924927   \n",
       "3  James Bond must unmask the mysterious head of ...   14.686036   \n",
       "4  The life of the gambling paradise – Las Vegas ...   10.137389   \n",
       "\n",
       "          spoken_languages      title  vote_average  vote_count     score  \\\n",
       "0                  English  Toy Story           7.7        5415  7.545539   \n",
       "1         English Français    Jumanji           6.9        2413  6.704621   \n",
       "2          English Español       Heat           7.7        1886  7.310584   \n",
       "3  English Pусский Español  GoldenEye           6.6        1194  6.338302   \n",
       "4                  English     Casino           7.8        1343  7.267167   \n",
       "\n",
       "                                                cast            crew  \\\n",
       "0  TomHanks TimAllen DonRickles JimVarney Wallace...    JohnLasseter   \n",
       "1  RobinWilliams JonathanHyde KirstenDunst Bradle...     JoeJohnston   \n",
       "2  AlPacino RobertDeNiro ValKilmer JonVoight TomS...     MichaelMann   \n",
       "3  PierceBrosnan SeanBean IzabellaScorupco FamkeJ...  MartinCampbell   \n",
       "4  RobertDeNiro SharonStone JoePesci JamesWoods D...  MartinScorsese   \n",
       "\n",
       "                                            keywords  movieId    rating  \n",
       "0  jealousy toy boy friendship friends rivalry bo...        1  3.888157  \n",
       "1  board game disappearance based on children's b...        2  3.236953  \n",
       "2  robbery detective bank obsession chase shootin...        6  3.841764  \n",
       "3  cuba falsely accused secret identity computer ...       10  3.431841  \n",
       "4  poker drug abuse 1970s overdose illegal prosti...       16  3.795511  "
      ]
     },
     "execution_count": 95,
     "metadata": {},
     "output_type": "execute_result"
    }
   ],
   "source": [
    "data = pd.merge(data, data5_groupby)\n",
    "data.head()"
   ]
  },
  {
   "cell_type": "code",
   "execution_count": 96,
   "metadata": {
    "ExecuteTime": {
     "end_time": "2020-12-22T03:21:39.584345Z",
     "start_time": "2020-12-22T03:21:39.567164Z"
    }
   },
   "outputs": [
    {
     "data": {
      "text/plain": [
       "(2291, 15)"
      ]
     },
     "execution_count": 96,
     "metadata": {},
     "output_type": "execute_result"
    }
   ],
   "source": [
    "data.shape"
   ]
  },
  {
   "cell_type": "code",
   "execution_count": 97,
   "metadata": {
    "ExecuteTime": {
     "end_time": "2020-12-22T03:21:39.600144Z",
     "start_time": "2020-12-22T03:21:39.586339Z"
    },
    "scrolled": true
   },
   "outputs": [
    {
     "data": {
      "text/plain": [
       "genres               0\n",
       "id                   0\n",
       "original_language    0\n",
       "overview             0\n",
       "popularity           0\n",
       "spoken_languages     0\n",
       "title                0\n",
       "vote_average         0\n",
       "vote_count           0\n",
       "score                0\n",
       "cast                 0\n",
       "crew                 0\n",
       "keywords             0\n",
       "movieId              0\n",
       "rating               0\n",
       "dtype: int64"
      ]
     },
     "execution_count": 97,
     "metadata": {},
     "output_type": "execute_result"
    }
   ],
   "source": [
    "data.isnull().sum()"
   ]
  },
  {
   "cell_type": "markdown",
   "metadata": {},
   "source": [
    "# Data 저장"
   ]
  },
  {
   "cell_type": "code",
   "execution_count": 98,
   "metadata": {
    "ExecuteTime": {
     "end_time": "2020-12-22T03:21:39.771718Z",
     "start_time": "2020-12-22T03:21:39.611462Z"
    }
   },
   "outputs": [],
   "source": [
    "data.to_csv('./dataset/merged_data.csv', index = False)"
   ]
  }
 ],
 "metadata": {
  "hide_input": false,
  "kernelspec": {
   "display_name": "Python 3",
   "language": "python",
   "name": "python3"
  },
  "language_info": {
   "codemirror_mode": {
    "name": "ipython",
    "version": 3
   },
   "file_extension": ".py",
   "mimetype": "text/x-python",
   "name": "python",
   "nbconvert_exporter": "python",
   "pygments_lexer": "ipython3",
   "version": "3.7.1"
  },
  "toc": {
   "base_numbering": 1,
   "nav_menu": {},
   "number_sections": true,
   "sideBar": true,
   "skip_h1_title": false,
   "title_cell": "Table of Contents",
   "title_sidebar": "Contents",
   "toc_cell": false,
   "toc_position": {
    "height": "calc(100% - 180px)",
    "left": "10px",
    "top": "150px",
    "width": "307.2px"
   },
   "toc_section_display": true,
   "toc_window_display": true
  },
  "varInspector": {
   "cols": {
    "lenName": 16,
    "lenType": 16,
    "lenVar": 40
   },
   "kernels_config": {
    "python": {
     "delete_cmd_postfix": "",
     "delete_cmd_prefix": "del ",
     "library": "var_list.py",
     "varRefreshCmd": "print(var_dic_list())"
    },
    "r": {
     "delete_cmd_postfix": ") ",
     "delete_cmd_prefix": "rm(",
     "library": "var_list.r",
     "varRefreshCmd": "cat(var_dic_list()) "
    }
   },
   "types_to_exclude": [
    "module",
    "function",
    "builtin_function_or_method",
    "instance",
    "_Feature"
   ],
   "window_display": false
  }
 },
 "nbformat": 4,
 "nbformat_minor": 4
}

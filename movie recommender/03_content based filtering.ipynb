{
 "cells": [
  {
   "cell_type": "code",
   "execution_count": 1,
   "metadata": {
    "ExecuteTime": {
     "end_time": "2020-12-21T07:16:51.175291Z",
     "start_time": "2020-12-21T07:16:47.702131Z"
    }
   },
   "outputs": [],
   "source": [
    "import numpy as np\n",
    "import pandas as pd\n",
    "import matplotlib.pyplot as plt\n",
    "import seaborn as sns\n",
    "\n",
    "sns.set()\n",
    "\n",
    "import warnings\n",
    "warnings.filterwarnings('ignore')"
   ]
  },
  {
   "cell_type": "code",
   "execution_count": 2,
   "metadata": {
    "ExecuteTime": {
     "end_time": "2020-12-21T07:16:55.060708Z",
     "start_time": "2020-12-21T07:16:51.181870Z"
    }
   },
   "outputs": [],
   "source": [
    "from sklearn.feature_extraction.text import TfidfVectorizer\n",
    "from sklearn.feature_extraction.text import CountVectorizer\n",
    "from sklearn.metrics.pairwise import cosine_similarity\n",
    "from sklearn.metrics.pairwise import linear_kernel"
   ]
  },
  {
   "cell_type": "markdown",
   "metadata": {},
   "source": [
    "# Data 불러오기"
   ]
  },
  {
   "cell_type": "code",
   "execution_count": 3,
   "metadata": {
    "ExecuteTime": {
     "end_time": "2020-12-21T07:16:55.222713Z",
     "start_time": "2020-12-21T07:16:55.066868Z"
    }
   },
   "outputs": [
    {
     "data": {
      "text/html": [
       "<div>\n",
       "<style scoped>\n",
       "    .dataframe tbody tr th:only-of-type {\n",
       "        vertical-align: middle;\n",
       "    }\n",
       "\n",
       "    .dataframe tbody tr th {\n",
       "        vertical-align: top;\n",
       "    }\n",
       "\n",
       "    .dataframe thead th {\n",
       "        text-align: right;\n",
       "    }\n",
       "</style>\n",
       "<table border=\"1\" class=\"dataframe\">\n",
       "  <thead>\n",
       "    <tr style=\"text-align: right;\">\n",
       "      <th></th>\n",
       "      <th>genres</th>\n",
       "      <th>id</th>\n",
       "      <th>original_language</th>\n",
       "      <th>overview</th>\n",
       "      <th>popularity</th>\n",
       "      <th>spoken_languages</th>\n",
       "      <th>title</th>\n",
       "      <th>vote_average</th>\n",
       "      <th>vote_count</th>\n",
       "      <th>score</th>\n",
       "      <th>cast</th>\n",
       "      <th>crew</th>\n",
       "      <th>keywords</th>\n",
       "      <th>movieId</th>\n",
       "      <th>rating</th>\n",
       "    </tr>\n",
       "  </thead>\n",
       "  <tbody>\n",
       "    <tr>\n",
       "      <th>0</th>\n",
       "      <td>Animation Comedy Family</td>\n",
       "      <td>862</td>\n",
       "      <td>en</td>\n",
       "      <td>Led by Woody, Andy's toys live happily in his ...</td>\n",
       "      <td>21.946943</td>\n",
       "      <td>English</td>\n",
       "      <td>Toy Story</td>\n",
       "      <td>7.7</td>\n",
       "      <td>5415</td>\n",
       "      <td>7.545529</td>\n",
       "      <td>TomHanks TimAllen DonRickles JimVarney Wallace...</td>\n",
       "      <td>JohnLasseter</td>\n",
       "      <td>jealousy toy boy friendship friends rivalry bo...</td>\n",
       "      <td>1</td>\n",
       "      <td>3.888157</td>\n",
       "    </tr>\n",
       "    <tr>\n",
       "      <th>1</th>\n",
       "      <td>Adventure Fantasy Family</td>\n",
       "      <td>8844</td>\n",
       "      <td>en</td>\n",
       "      <td>When siblings Judy and Peter discover an encha...</td>\n",
       "      <td>17.015539</td>\n",
       "      <td>English Français</td>\n",
       "      <td>Jumanji</td>\n",
       "      <td>6.9</td>\n",
       "      <td>2413</td>\n",
       "      <td>6.704601</td>\n",
       "      <td>RobinWilliams JonathanHyde KirstenDunst Bradle...</td>\n",
       "      <td>JoeJohnston</td>\n",
       "      <td>board game disappearance based on children's b...</td>\n",
       "      <td>2</td>\n",
       "      <td>3.236953</td>\n",
       "    </tr>\n",
       "    <tr>\n",
       "      <th>2</th>\n",
       "      <td>Action Crime Drama Thriller</td>\n",
       "      <td>949</td>\n",
       "      <td>en</td>\n",
       "      <td>Obsessive master thief, Neil McCauley leads a ...</td>\n",
       "      <td>17.924927</td>\n",
       "      <td>English Español</td>\n",
       "      <td>Heat</td>\n",
       "      <td>7.7</td>\n",
       "      <td>1886</td>\n",
       "      <td>7.310560</td>\n",
       "      <td>AlPacino RobertDeNiro ValKilmer JonVoight TomS...</td>\n",
       "      <td>MichaelMann</td>\n",
       "      <td>robbery detective bank obsession chase shootin...</td>\n",
       "      <td>6</td>\n",
       "      <td>3.841764</td>\n",
       "    </tr>\n",
       "    <tr>\n",
       "      <th>3</th>\n",
       "      <td>Adventure Action Thriller</td>\n",
       "      <td>710</td>\n",
       "      <td>en</td>\n",
       "      <td>James Bond must unmask the mysterious head of ...</td>\n",
       "      <td>14.686036</td>\n",
       "      <td>English Pусский Español</td>\n",
       "      <td>GoldenEye</td>\n",
       "      <td>6.6</td>\n",
       "      <td>1194</td>\n",
       "      <td>6.338267</td>\n",
       "      <td>PierceBrosnan SeanBean IzabellaScorupco FamkeJ...</td>\n",
       "      <td>MartinCampbell</td>\n",
       "      <td>cuba falsely accused secret identity computer ...</td>\n",
       "      <td>10</td>\n",
       "      <td>3.431841</td>\n",
       "    </tr>\n",
       "    <tr>\n",
       "      <th>4</th>\n",
       "      <td>Drama Crime</td>\n",
       "      <td>524</td>\n",
       "      <td>en</td>\n",
       "      <td>The life of the gambling paradise – Las Vegas ...</td>\n",
       "      <td>10.137389</td>\n",
       "      <td>English</td>\n",
       "      <td>Casino</td>\n",
       "      <td>7.8</td>\n",
       "      <td>1343</td>\n",
       "      <td>7.267135</td>\n",
       "      <td>RobertDeNiro SharonStone JoePesci JamesWoods D...</td>\n",
       "      <td>MartinScorsese</td>\n",
       "      <td>poker drug abuse 1970s overdose illegal prosti...</td>\n",
       "      <td>16</td>\n",
       "      <td>3.795511</td>\n",
       "    </tr>\n",
       "  </tbody>\n",
       "</table>\n",
       "</div>"
      ],
      "text/plain": [
       "                        genres    id original_language  \\\n",
       "0      Animation Comedy Family   862                en   \n",
       "1     Adventure Fantasy Family  8844                en   \n",
       "2  Action Crime Drama Thriller   949                en   \n",
       "3    Adventure Action Thriller   710                en   \n",
       "4                  Drama Crime   524                en   \n",
       "\n",
       "                                            overview  popularity  \\\n",
       "0  Led by Woody, Andy's toys live happily in his ...   21.946943   \n",
       "1  When siblings Judy and Peter discover an encha...   17.015539   \n",
       "2  Obsessive master thief, Neil McCauley leads a ...   17.924927   \n",
       "3  James Bond must unmask the mysterious head of ...   14.686036   \n",
       "4  The life of the gambling paradise – Las Vegas ...   10.137389   \n",
       "\n",
       "          spoken_languages      title  vote_average  vote_count     score  \\\n",
       "0                  English  Toy Story           7.7        5415  7.545529   \n",
       "1         English Français    Jumanji           6.9        2413  6.704601   \n",
       "2          English Español       Heat           7.7        1886  7.310560   \n",
       "3  English Pусский Español  GoldenEye           6.6        1194  6.338267   \n",
       "4                  English     Casino           7.8        1343  7.267135   \n",
       "\n",
       "                                                cast            crew  \\\n",
       "0  TomHanks TimAllen DonRickles JimVarney Wallace...    JohnLasseter   \n",
       "1  RobinWilliams JonathanHyde KirstenDunst Bradle...     JoeJohnston   \n",
       "2  AlPacino RobertDeNiro ValKilmer JonVoight TomS...     MichaelMann   \n",
       "3  PierceBrosnan SeanBean IzabellaScorupco FamkeJ...  MartinCampbell   \n",
       "4  RobertDeNiro SharonStone JoePesci JamesWoods D...  MartinScorsese   \n",
       "\n",
       "                                            keywords  movieId    rating  \n",
       "0  jealousy toy boy friendship friends rivalry bo...        1  3.888157  \n",
       "1  board game disappearance based on children's b...        2  3.236953  \n",
       "2  robbery detective bank obsession chase shootin...        6  3.841764  \n",
       "3  cuba falsely accused secret identity computer ...       10  3.431841  \n",
       "4  poker drug abuse 1970s overdose illegal prosti...       16  3.795511  "
      ]
     },
     "execution_count": 3,
     "metadata": {},
     "output_type": "execute_result"
    }
   ],
   "source": [
    "data = pd.read_csv('./dataset/merged_data.csv')\n",
    "data.head()"
   ]
  },
  {
   "cell_type": "code",
   "execution_count": 4,
   "metadata": {
    "ExecuteTime": {
     "end_time": "2020-12-21T07:16:55.252618Z",
     "start_time": "2020-12-21T07:16:55.226700Z"
    }
   },
   "outputs": [
    {
     "data": {
      "text/plain": [
       "(2291, 15)"
      ]
     },
     "execution_count": 4,
     "metadata": {},
     "output_type": "execute_result"
    }
   ],
   "source": [
    "data.shape"
   ]
  },
  {
   "cell_type": "code",
   "execution_count": 5,
   "metadata": {
    "ExecuteTime": {
     "end_time": "2020-12-21T07:16:55.294535Z",
     "start_time": "2020-12-21T07:16:55.259015Z"
    }
   },
   "outputs": [
    {
     "data": {
      "text/plain": [
       "genres                0\n",
       "id                    0\n",
       "original_language     0\n",
       "overview              0\n",
       "popularity            0\n",
       "spoken_languages      1\n",
       "title                 0\n",
       "vote_average          0\n",
       "vote_count            0\n",
       "score                 0\n",
       "cast                  1\n",
       "crew                  0\n",
       "keywords             25\n",
       "movieId               0\n",
       "rating                0\n",
       "dtype: int64"
      ]
     },
     "execution_count": 5,
     "metadata": {},
     "output_type": "execute_result"
    }
   ],
   "source": [
    "data.isnull().sum()"
   ]
  },
  {
   "cell_type": "code",
   "execution_count": 6,
   "metadata": {
    "ExecuteTime": {
     "end_time": "2020-12-21T07:16:55.323200Z",
     "start_time": "2020-12-21T07:16:55.297761Z"
    }
   },
   "outputs": [],
   "source": [
    "data = data.fillna('')"
   ]
  },
  {
   "cell_type": "markdown",
   "metadata": {},
   "source": [
    "# Countervectorizer"
   ]
  },
  {
   "cell_type": "markdown",
   "metadata": {},
   "source": [
    "## exercise"
   ]
  },
  {
   "cell_type": "code",
   "execution_count": 7,
   "metadata": {
    "ExecuteTime": {
     "end_time": "2020-12-21T07:16:55.339006Z",
     "start_time": "2020-12-21T07:16:55.328989Z"
    }
   },
   "outputs": [],
   "source": [
    "temp_words = ['The fool doth think he is wise,',\n",
    "             'but the wise man knows himself to be a fool.']"
   ]
  },
  {
   "cell_type": "code",
   "execution_count": 8,
   "metadata": {
    "ExecuteTime": {
     "end_time": "2020-12-21T07:16:55.367526Z",
     "start_time": "2020-12-21T07:16:55.352318Z"
    }
   },
   "outputs": [],
   "source": [
    "count_vector = CountVectorizer(ngram_range=(1, 1))"
   ]
  },
  {
   "cell_type": "code",
   "execution_count": 9,
   "metadata": {
    "ExecuteTime": {
     "end_time": "2020-12-21T07:16:55.406243Z",
     "start_time": "2020-12-21T07:16:55.377142Z"
    }
   },
   "outputs": [
    {
     "data": {
      "text/plain": [
       "{'the': 9,\n",
       " 'fool': 3,\n",
       " 'doth': 2,\n",
       " 'think': 10,\n",
       " 'he': 4,\n",
       " 'is': 6,\n",
       " 'wise': 12,\n",
       " 'but': 1,\n",
       " 'man': 8,\n",
       " 'knows': 7,\n",
       " 'himself': 5,\n",
       " 'to': 11,\n",
       " 'be': 0}"
      ]
     },
     "execution_count": 9,
     "metadata": {},
     "output_type": "execute_result"
    }
   ],
   "source": [
    "cv = count_vector.fit(temp_words)\n",
    "cv.vocabulary_"
   ]
  },
  {
   "cell_type": "code",
   "execution_count": 10,
   "metadata": {
    "ExecuteTime": {
     "end_time": "2020-12-21T07:16:55.436915Z",
     "start_time": "2020-12-21T07:16:55.413303Z"
    }
   },
   "outputs": [
    {
     "data": {
      "text/plain": [
       "<2x13 sparse matrix of type '<class 'numpy.int64'>'\n",
       "\twith 16 stored elements in Compressed Sparse Row format>"
      ]
     },
     "execution_count": 10,
     "metadata": {},
     "output_type": "execute_result"
    }
   ],
   "source": [
    "result = count_vector.transform(temp_words)\n",
    "result"
   ]
  },
  {
   "cell_type": "code",
   "execution_count": 11,
   "metadata": {
    "ExecuteTime": {
     "end_time": "2020-12-21T07:16:55.464609Z",
     "start_time": "2020-12-21T07:16:55.443510Z"
    }
   },
   "outputs": [
    {
     "data": {
      "text/plain": [
       "array([[0, 0, 1, 1, 1, 0, 1, 0, 0, 1, 1, 0, 1],\n",
       "       [1, 1, 0, 1, 0, 1, 0, 1, 1, 1, 0, 1, 1]], dtype=int64)"
      ]
     },
     "execution_count": 11,
     "metadata": {},
     "output_type": "execute_result"
    }
   ],
   "source": [
    "result.toarray()"
   ]
  },
  {
   "cell_type": "code",
   "execution_count": 12,
   "metadata": {
    "ExecuteTime": {
     "end_time": "2020-12-21T07:16:55.491496Z",
     "start_time": "2020-12-21T07:16:55.472277Z"
    }
   },
   "outputs": [],
   "source": [
    "count_vector = CountVectorizer(ngram_range=(1, 2))"
   ]
  },
  {
   "cell_type": "code",
   "execution_count": 13,
   "metadata": {
    "ExecuteTime": {
     "end_time": "2020-12-21T07:16:55.524104Z",
     "start_time": "2020-12-21T07:16:55.497468Z"
    }
   },
   "outputs": [
    {
     "data": {
      "text/plain": [
       "{'the': 18,\n",
       " 'fool': 6,\n",
       " 'doth': 4,\n",
       " 'think': 21,\n",
       " 'he': 8,\n",
       " 'is': 12,\n",
       " 'wise': 25,\n",
       " 'the fool': 19,\n",
       " 'fool doth': 7,\n",
       " 'doth think': 5,\n",
       " 'think he': 22,\n",
       " 'he is': 9,\n",
       " 'is wise': 13,\n",
       " 'but': 2,\n",
       " 'man': 16,\n",
       " 'knows': 14,\n",
       " 'himself': 10,\n",
       " 'to': 23,\n",
       " 'be': 0,\n",
       " 'but the': 3,\n",
       " 'the wise': 20,\n",
       " 'wise man': 26,\n",
       " 'man knows': 17,\n",
       " 'knows himself': 15,\n",
       " 'himself to': 11,\n",
       " 'to be': 24,\n",
       " 'be fool': 1}"
      ]
     },
     "execution_count": 13,
     "metadata": {},
     "output_type": "execute_result"
    }
   ],
   "source": [
    "cv = count_vector.fit(temp_words)\n",
    "cv.vocabulary_"
   ]
  },
  {
   "cell_type": "code",
   "execution_count": 14,
   "metadata": {
    "ExecuteTime": {
     "end_time": "2020-12-21T07:16:55.549078Z",
     "start_time": "2020-12-21T07:16:55.529275Z"
    }
   },
   "outputs": [
    {
     "data": {
      "text/plain": [
       "<2x27 sparse matrix of type '<class 'numpy.int64'>'\n",
       "\twith 30 stored elements in Compressed Sparse Row format>"
      ]
     },
     "execution_count": 14,
     "metadata": {},
     "output_type": "execute_result"
    }
   ],
   "source": [
    "result = count_vector.transform(temp_words)\n",
    "result"
   ]
  },
  {
   "cell_type": "code",
   "execution_count": 15,
   "metadata": {
    "ExecuteTime": {
     "end_time": "2020-12-21T07:16:55.574759Z",
     "start_time": "2020-12-21T07:16:55.552786Z"
    }
   },
   "outputs": [
    {
     "data": {
      "text/plain": [
       "array([[0, 0, 0, 0, 1, 1, 1, 1, 1, 1, 0, 0, 1, 1, 0, 0, 0, 0, 1, 1, 0, 1,\n",
       "        1, 0, 0, 1, 0],\n",
       "       [1, 1, 1, 1, 0, 0, 1, 0, 0, 0, 1, 1, 0, 0, 1, 1, 1, 1, 1, 0, 1, 0,\n",
       "        0, 1, 1, 1, 1]], dtype=int64)"
      ]
     },
     "execution_count": 15,
     "metadata": {},
     "output_type": "execute_result"
    }
   ],
   "source": [
    "result.toarray()"
   ]
  },
  {
   "cell_type": "code",
   "execution_count": 16,
   "metadata": {
    "ExecuteTime": {
     "end_time": "2020-12-21T07:16:55.603450Z",
     "start_time": "2020-12-21T07:16:55.583886Z"
    }
   },
   "outputs": [
    {
     "data": {
      "text/plain": [
       "0"
      ]
     },
     "execution_count": 16,
     "metadata": {},
     "output_type": "execute_result"
    }
   ],
   "source": [
    "result[0, 0]"
   ]
  },
  {
   "cell_type": "code",
   "execution_count": 17,
   "metadata": {
    "ExecuteTime": {
     "end_time": "2020-12-21T07:16:55.631407Z",
     "start_time": "2020-12-21T07:16:55.613738Z"
    }
   },
   "outputs": [
    {
     "data": {
      "text/plain": [
       "1"
      ]
     },
     "execution_count": 17,
     "metadata": {},
     "output_type": "execute_result"
    }
   ],
   "source": [
    "result[0, 6]"
   ]
  },
  {
   "cell_type": "code",
   "execution_count": 18,
   "metadata": {
    "ExecuteTime": {
     "end_time": "2020-12-21T07:16:55.658228Z",
     "start_time": "2020-12-21T07:16:55.640592Z"
    }
   },
   "outputs": [
    {
     "data": {
      "text/plain": [
       "(2, 27)"
      ]
     },
     "execution_count": 18,
     "metadata": {},
     "output_type": "execute_result"
    }
   ],
   "source": [
    "result.shape"
   ]
  },
  {
   "cell_type": "code",
   "execution_count": 19,
   "metadata": {
    "ExecuteTime": {
     "end_time": "2020-12-21T07:16:55.684021Z",
     "start_time": "2020-12-21T07:16:55.667284Z"
    }
   },
   "outputs": [],
   "source": [
    "temp_words = 'The fool doth think he is wise.'"
   ]
  },
  {
   "cell_type": "code",
   "execution_count": 20,
   "metadata": {
    "ExecuteTime": {
     "end_time": "2020-12-21T07:16:55.716006Z",
     "start_time": "2020-12-21T07:16:55.691247Z"
    }
   },
   "outputs": [],
   "source": [
    "count_vector = CountVectorizer(ngram_range=(1, 2))"
   ]
  },
  {
   "cell_type": "code",
   "execution_count": 21,
   "metadata": {
    "ExecuteTime": {
     "end_time": "2020-12-21T07:16:55.728825Z",
     "start_time": "2020-12-21T07:16:55.718953Z"
    }
   },
   "outputs": [],
   "source": [
    "# cv = count_vector.fit(temp_words)   # 에러남"
   ]
  },
  {
   "cell_type": "markdown",
   "metadata": {},
   "source": [
    "## genre"
   ]
  },
  {
   "cell_type": "code",
   "execution_count": 22,
   "metadata": {
    "ExecuteTime": {
     "end_time": "2020-12-21T07:16:55.742167Z",
     "start_time": "2020-12-21T07:16:55.731818Z"
    }
   },
   "outputs": [],
   "source": [
    "count_vector = CountVectorizer(ngram_range=(1, 3))"
   ]
  },
  {
   "cell_type": "code",
   "execution_count": 23,
   "metadata": {
    "ExecuteTime": {
     "end_time": "2020-12-21T07:16:55.856994Z",
     "start_time": "2020-12-21T07:16:55.752686Z"
    }
   },
   "outputs": [],
   "source": [
    "cv_genres = count_vector.fit_transform(data['genres'])"
   ]
  },
  {
   "cell_type": "code",
   "execution_count": 24,
   "metadata": {
    "ExecuteTime": {
     "end_time": "2020-12-21T07:16:55.885635Z",
     "start_time": "2020-12-21T07:16:55.866298Z"
    }
   },
   "outputs": [
    {
     "data": {
      "text/plain": [
       "(2291, 819)"
      ]
     },
     "execution_count": 24,
     "metadata": {},
     "output_type": "execute_result"
    }
   ],
   "source": [
    "cv_genres.shape"
   ]
  },
  {
   "cell_type": "markdown",
   "metadata": {},
   "source": [
    "# Cosine similarity"
   ]
  },
  {
   "cell_type": "markdown",
   "metadata": {},
   "source": [
    "이렇게 하면 단어를 벡터화 시켜서 저장할 수 있습니다. \n",
    "\n",
    "이제 각 영화의 유사도를 측정을 하면됩니다. 유사도를 측정하면 장르가 비슷한 영화가 추천되겠죠?  \n",
    "이 유사도 측정은 코사인 유사도(cosine similarity)를 사용합니다.\n",
    "\n",
    "자! 그리고 함수를 하나 만들겁니다. 이 함수의 기능은 아래와 같습니다.  \n",
    "1. 코사인 유사도를 이용해 장르가 비슷한 영화를 추천\n",
    "2. vote_count를 이용해서 vote_count가 높은 것을 기반으로 최종 추천\n"
   ]
  },
  {
   "cell_type": "markdown",
   "metadata": {},
   "source": [
    "## exercise"
   ]
  },
  {
   "cell_type": "code",
   "execution_count": 25,
   "metadata": {
    "ExecuteTime": {
     "end_time": "2020-12-21T07:16:55.898498Z",
     "start_time": "2020-12-21T07:16:55.886682Z"
    }
   },
   "outputs": [],
   "source": [
    "b = np.array([[1, 0], [0, 1]])\n",
    "c = np.array([[0, 2], [1, 0]])\n",
    "d = np.array([[1, 1], [2, 1]])"
   ]
  },
  {
   "cell_type": "code",
   "execution_count": 26,
   "metadata": {
    "ExecuteTime": {
     "end_time": "2020-12-21T07:16:55.941449Z",
     "start_time": "2020-12-21T07:16:55.902997Z"
    }
   },
   "outputs": [
    {
     "data": {
      "text/plain": [
       "array([[1., 0.],\n",
       "       [0., 1.]])"
      ]
     },
     "execution_count": 26,
     "metadata": {},
     "output_type": "execute_result"
    }
   ],
   "source": [
    "cosine_similarity(b, b)"
   ]
  },
  {
   "cell_type": "code",
   "execution_count": 27,
   "metadata": {
    "ExecuteTime": {
     "end_time": "2020-12-21T07:16:55.973429Z",
     "start_time": "2020-12-21T07:16:55.946258Z"
    }
   },
   "outputs": [
    {
     "data": {
      "text/plain": [
       "array([[0., 1.],\n",
       "       [1., 0.]])"
      ]
     },
     "execution_count": 27,
     "metadata": {},
     "output_type": "execute_result"
    }
   ],
   "source": [
    "cosine_similarity(b, c)"
   ]
  },
  {
   "cell_type": "code",
   "execution_count": 28,
   "metadata": {
    "ExecuteTime": {
     "end_time": "2020-12-21T07:16:56.002438Z",
     "start_time": "2020-12-21T07:16:55.974468Z"
    }
   },
   "outputs": [
    {
     "data": {
      "text/plain": [
       "array([[0.70710678, 0.89442719],\n",
       "       [0.70710678, 0.4472136 ]])"
      ]
     },
     "execution_count": 28,
     "metadata": {},
     "output_type": "execute_result"
    }
   ],
   "source": [
    "cosine_similarity(b, d)"
   ]
  },
  {
   "cell_type": "code",
   "execution_count": 29,
   "metadata": {
    "ExecuteTime": {
     "end_time": "2020-12-21T07:16:56.027090Z",
     "start_time": "2020-12-21T07:16:56.003767Z"
    }
   },
   "outputs": [
    {
     "data": {
      "text/plain": [
       "array([[1.       , 0.9486833],\n",
       "       [0.9486833, 1.       ]])"
      ]
     },
     "execution_count": 29,
     "metadata": {},
     "output_type": "execute_result"
    }
   ],
   "source": [
    "cosine_similarity(d, d)"
   ]
  },
  {
   "cell_type": "code",
   "execution_count": 30,
   "metadata": {
    "ExecuteTime": {
     "end_time": "2020-12-21T07:16:56.054024Z",
     "start_time": "2020-12-21T07:16:56.031072Z"
    }
   },
   "outputs": [
    {
     "data": {
      "text/plain": [
       "array([[1.        , 0.        , 0.5547002 , 0.19611614],\n",
       "       [0.        , 1.        , 0.83205029, 0.98058068],\n",
       "       [0.5547002 , 0.83205029, 1.        , 0.9246781 ],\n",
       "       [0.19611614, 0.98058068, 0.9246781 , 1.        ]])"
      ]
     },
     "execution_count": 30,
     "metadata": {},
     "output_type": "execute_result"
    }
   ],
   "source": [
    "b = np.array([[1, 0], [0, 1], [2, 3], [1, 5]])\n",
    "bb = cosine_similarity(b, b)\n",
    "bb"
   ]
  },
  {
   "cell_type": "code",
   "execution_count": 31,
   "metadata": {
    "ExecuteTime": {
     "end_time": "2020-12-21T07:16:56.071812Z",
     "start_time": "2020-12-21T07:16:56.058016Z"
    }
   },
   "outputs": [],
   "source": [
    "a = np.array([1.5, 0.2, 4.2, 2.5])\n",
    "s = a.argsort()"
   ]
  },
  {
   "cell_type": "code",
   "execution_count": 32,
   "metadata": {
    "ExecuteTime": {
     "end_time": "2020-12-21T07:16:56.102832Z",
     "start_time": "2020-12-21T07:16:56.075844Z"
    }
   },
   "outputs": [
    {
     "name": "stdout",
     "output_type": "stream",
     "text": [
      "[1 0 3 2]\n",
      "[0.2 1.5 2.5 4.2]\n"
     ]
    }
   ],
   "source": [
    "print(s)\n",
    "print(a[s])"
   ]
  },
  {
   "cell_type": "code",
   "execution_count": 33,
   "metadata": {
    "ExecuteTime": {
     "end_time": "2020-12-21T07:16:56.130771Z",
     "start_time": "2020-12-21T07:16:56.106826Z"
    }
   },
   "outputs": [
    {
     "data": {
      "text/plain": [
       "array([[1.        , 0.5547002 ],\n",
       "       [0.        , 0.83205029],\n",
       "       [0.5547002 , 1.        ],\n",
       "       [0.19611614, 0.9246781 ]])"
      ]
     },
     "execution_count": 33,
     "metadata": {},
     "output_type": "execute_result"
    }
   ],
   "source": [
    "bb[:, ::2]"
   ]
  },
  {
   "cell_type": "code",
   "execution_count": 34,
   "metadata": {
    "ExecuteTime": {
     "end_time": "2020-12-21T07:16:56.159084Z",
     "start_time": "2020-12-21T07:16:56.134768Z"
    }
   },
   "outputs": [
    {
     "data": {
      "text/plain": [
       "array([[0.19611614, 0.5547002 , 0.        , 1.        ],\n",
       "       [0.98058068, 0.83205029, 1.        , 0.        ],\n",
       "       [0.9246781 , 1.        , 0.83205029, 0.5547002 ],\n",
       "       [1.        , 0.9246781 , 0.98058068, 0.19611614]])"
      ]
     },
     "execution_count": 34,
     "metadata": {},
     "output_type": "execute_result"
    }
   ],
   "source": [
    "bb[:, ::-1]"
   ]
  },
  {
   "cell_type": "code",
   "execution_count": 35,
   "metadata": {
    "ExecuteTime": {
     "end_time": "2020-12-21T07:16:56.185496Z",
     "start_time": "2020-12-21T07:16:56.161903Z"
    }
   },
   "outputs": [
    {
     "data": {
      "text/plain": [
       "array([[1, 3, 2, 0],\n",
       "       [0, 2, 3, 1],\n",
       "       [0, 1, 3, 2],\n",
       "       [0, 2, 1, 3]], dtype=int64)"
      ]
     },
     "execution_count": 35,
     "metadata": {},
     "output_type": "execute_result"
    }
   ],
   "source": [
    "bb.argsort()"
   ]
  },
  {
   "cell_type": "code",
   "execution_count": 36,
   "metadata": {
    "ExecuteTime": {
     "end_time": "2020-12-21T07:16:56.199012Z",
     "start_time": "2020-12-21T07:16:56.189485Z"
    }
   },
   "outputs": [
    {
     "data": {
      "text/plain": [
       "array([[0, 2, 3, 1],\n",
       "       [1, 3, 2, 0],\n",
       "       [2, 3, 1, 0],\n",
       "       [3, 1, 2, 0]], dtype=int64)"
      ]
     },
     "execution_count": 36,
     "metadata": {},
     "output_type": "execute_result"
    }
   ],
   "source": [
    "bb.argsort()[:, ::-1]"
   ]
  },
  {
   "cell_type": "code",
   "execution_count": 37,
   "metadata": {
    "ExecuteTime": {
     "end_time": "2020-12-21T07:16:56.228454Z",
     "start_time": "2020-12-21T07:16:56.203999Z"
    }
   },
   "outputs": [
    {
     "data": {
      "text/plain": [
       "(1.0, 0.5547001962252291, 0.19611613513818404, 0.0)"
      ]
     },
     "execution_count": 37,
     "metadata": {},
     "output_type": "execute_result"
    }
   ],
   "source": [
    "bb[0, 0], bb[0, 2], bb[0, 3], bb[0, 1]"
   ]
  },
  {
   "cell_type": "code",
   "execution_count": 38,
   "metadata": {
    "ExecuteTime": {
     "end_time": "2020-12-21T07:16:56.257400Z",
     "start_time": "2020-12-21T07:16:56.233280Z"
    }
   },
   "outputs": [
    {
     "data": {
      "text/plain": [
       "(1.0, 0.9805806756909202, 0.8320502943378437, 0.0)"
      ]
     },
     "execution_count": 38,
     "metadata": {},
     "output_type": "execute_result"
    }
   ],
   "source": [
    "bb[1, 1], bb[1, 3], bb[1, 2], bb[1, 0]"
   ]
  },
  {
   "cell_type": "markdown",
   "metadata": {},
   "source": [
    "## genre"
   ]
  },
  {
   "cell_type": "code",
   "execution_count": 39,
   "metadata": {
    "ExecuteTime": {
     "end_time": "2020-12-21T07:16:56.756693Z",
     "start_time": "2020-12-21T07:16:56.261372Z"
    }
   },
   "outputs": [],
   "source": [
    "#코사인 유사도를 구한 벡터를 미리 저장\n",
    "genre_cs = cosine_similarity(cv_genres, cv_genres).argsort()[:, ::-1]"
   ]
  },
  {
   "cell_type": "code",
   "execution_count": 40,
   "metadata": {
    "ExecuteTime": {
     "end_time": "2020-12-21T07:16:56.772740Z",
     "start_time": "2020-12-21T07:16:56.761235Z"
    }
   },
   "outputs": [
    {
     "data": {
      "text/plain": [
       "array([[   0,  850, 2263, ..., 1012, 1013, 2290],\n",
       "       [1318,  775,    1, ..., 1114, 1116,  848],\n",
       "       [   2,  576, 1541, ..., 1008, 1005,    0],\n",
       "       ...,\n",
       "       [2288, 2050, 2130, ..., 1008, 1005,    0],\n",
       "       [2289, 1278, 1039, ..., 1630, 1631,    0],\n",
       "       [2290, 1451, 2239, ...,  859,  861,    0]], dtype=int64)"
      ]
     },
     "execution_count": 40,
     "metadata": {},
     "output_type": "execute_result"
    }
   ],
   "source": [
    "genre_cs"
   ]
  },
  {
   "cell_type": "code",
   "execution_count": 41,
   "metadata": {
    "ExecuteTime": {
     "end_time": "2020-12-21T07:16:56.789306Z",
     "start_time": "2020-12-21T07:16:56.778318Z"
    }
   },
   "outputs": [
    {
     "data": {
      "text/plain": [
       "(2291, 2291)"
      ]
     },
     "execution_count": 41,
     "metadata": {},
     "output_type": "execute_result"
    }
   ],
   "source": [
    "genre_cs.shape"
   ]
  },
  {
   "cell_type": "code",
   "execution_count": 42,
   "metadata": {
    "ExecuteTime": {
     "end_time": "2020-12-21T07:16:56.963424Z",
     "start_time": "2020-12-21T07:16:56.795292Z"
    }
   },
   "outputs": [
    {
     "data": {
      "text/plain": [
       "array([[1.        , 0.16666667, 0.        , ..., 0.        , 0.        ,\n",
       "        0.        ],\n",
       "       [0.16666667, 1.        , 0.        , ..., 0.        , 0.13608276,\n",
       "        0.11785113],\n",
       "       [0.        , 0.        , 1.        , ..., 0.28867513, 0.22222222,\n",
       "        0.09622504],\n",
       "       ...,\n",
       "       [0.        , 0.        , 0.28867513, ..., 1.        , 0.19245009,\n",
       "        0.08333333],\n",
       "       [0.        , 0.13608276, 0.22222222, ..., 0.19245009, 1.        ,\n",
       "        0.19245009],\n",
       "       [0.        , 0.11785113, 0.09622504, ..., 0.08333333, 0.19245009,\n",
       "        1.        ]])"
      ]
     },
     "execution_count": 42,
     "metadata": {},
     "output_type": "execute_result"
    }
   ],
   "source": [
    "cosine_similarity(cv_genres, cv_genres)"
   ]
  },
  {
   "cell_type": "code",
   "execution_count": 43,
   "metadata": {
    "ExecuteTime": {
     "end_time": "2020-12-21T07:16:57.451796Z",
     "start_time": "2020-12-21T07:16:56.968109Z"
    }
   },
   "outputs": [
    {
     "data": {
      "text/plain": [
       "array([[2290, 1013, 1012, ..., 2263,  850,    0],\n",
       "       [ 848, 1116, 1114, ...,    1,  775, 1318],\n",
       "       [   0, 1005, 1008, ..., 1541,  576,    2],\n",
       "       ...,\n",
       "       [   0, 1005, 1008, ..., 2130, 2050, 2288],\n",
       "       [   0, 1631, 1630, ..., 1039, 1278, 2289],\n",
       "       [   0,  861,  859, ..., 2239, 1451, 2290]], dtype=int64)"
      ]
     },
     "execution_count": 43,
     "metadata": {},
     "output_type": "execute_result"
    }
   ],
   "source": [
    "cosine_similarity(cv_genres, cv_genres).argsort()"
   ]
  },
  {
   "cell_type": "code",
   "execution_count": 44,
   "metadata": {
    "ExecuteTime": {
     "end_time": "2020-12-21T07:16:57.467218Z",
     "start_time": "2020-12-21T07:16:57.454787Z"
    }
   },
   "outputs": [],
   "source": [
    "def get_recommend_movie_list(df, genre_cs, movie_title, top=30):\n",
    "    # 특정 영화와 비슷한 영화를 추천해야 하기 때문에 '특정 영화' 정보를 뽑아낸다.\n",
    "    target_movie_index = df[df['title'] == movie_title].index.values\n",
    "    \n",
    "    #코사인 유사도 중 비슷한 코사인 유사도를 가진 정보를 뽑아낸다.\n",
    "    sim_index = genre_cs[target_movie_index, :top].reshape(-1)\n",
    "    #본인을 제외\n",
    "    sim_index = sim_index[sim_index != target_movie_index]\n",
    "\n",
    "    #data frame으로 만들고 vote_count으로 정렬한 뒤 return\n",
    "    result = df.iloc[sim_index].sort_values('score', ascending=False)[:10]\n",
    "    return result"
   ]
  },
  {
   "cell_type": "code",
   "execution_count": 45,
   "metadata": {
    "ExecuteTime": {
     "end_time": "2020-12-21T07:16:57.508626Z",
     "start_time": "2020-12-21T07:16:57.471083Z"
    }
   },
   "outputs": [
    {
     "data": {
      "text/html": [
       "<div>\n",
       "<style scoped>\n",
       "    .dataframe tbody tr th:only-of-type {\n",
       "        vertical-align: middle;\n",
       "    }\n",
       "\n",
       "    .dataframe tbody tr th {\n",
       "        vertical-align: top;\n",
       "    }\n",
       "\n",
       "    .dataframe thead th {\n",
       "        text-align: right;\n",
       "    }\n",
       "</style>\n",
       "<table border=\"1\" class=\"dataframe\">\n",
       "  <thead>\n",
       "    <tr style=\"text-align: right;\">\n",
       "      <th></th>\n",
       "      <th>genres</th>\n",
       "      <th>id</th>\n",
       "      <th>original_language</th>\n",
       "      <th>overview</th>\n",
       "      <th>popularity</th>\n",
       "      <th>spoken_languages</th>\n",
       "      <th>title</th>\n",
       "      <th>vote_average</th>\n",
       "      <th>vote_count</th>\n",
       "      <th>score</th>\n",
       "      <th>cast</th>\n",
       "      <th>crew</th>\n",
       "      <th>keywords</th>\n",
       "      <th>movieId</th>\n",
       "      <th>rating</th>\n",
       "    </tr>\n",
       "  </thead>\n",
       "  <tbody>\n",
       "    <tr>\n",
       "      <th>1541</th>\n",
       "      <td>Action Crime Drama Thriller</td>\n",
       "      <td>49026</td>\n",
       "      <td>en</td>\n",
       "      <td>Following the death of District Attorney Harve...</td>\n",
       "      <td>20.58258</td>\n",
       "      <td>English</td>\n",
       "      <td>The Dark Knight Rises</td>\n",
       "      <td>7.6</td>\n",
       "      <td>9263</td>\n",
       "      <td>7.511302</td>\n",
       "      <td>ChristianBale MichaelCaine GaryOldman AnneHath...</td>\n",
       "      <td>ChristopherNolan</td>\n",
       "      <td>dc comics crime fighter terrorist secret ident...</td>\n",
       "      <td>91529</td>\n",
       "      <td>3.973056</td>\n",
       "    </tr>\n",
       "  </tbody>\n",
       "</table>\n",
       "</div>"
      ],
      "text/plain": [
       "                           genres     id original_language  \\\n",
       "1541  Action Crime Drama Thriller  49026                en   \n",
       "\n",
       "                                               overview  popularity  \\\n",
       "1541  Following the death of District Attorney Harve...    20.58258   \n",
       "\n",
       "     spoken_languages                  title  vote_average  vote_count  \\\n",
       "1541          English  The Dark Knight Rises           7.6        9263   \n",
       "\n",
       "         score                                               cast  \\\n",
       "1541  7.511302  ChristianBale MichaelCaine GaryOldman AnneHath...   \n",
       "\n",
       "                  crew                                           keywords  \\\n",
       "1541  ChristopherNolan  dc comics crime fighter terrorist secret ident...   \n",
       "\n",
       "      movieId    rating  \n",
       "1541    91529  3.973056  "
      ]
     },
     "execution_count": 45,
     "metadata": {},
     "output_type": "execute_result"
    }
   ],
   "source": [
    "data[data['title'] == 'The Dark Knight Rises']"
   ]
  },
  {
   "cell_type": "code",
   "execution_count": 46,
   "metadata": {
    "ExecuteTime": {
     "end_time": "2020-12-21T07:16:57.537414Z",
     "start_time": "2020-12-21T07:16:57.511824Z"
    }
   },
   "outputs": [
    {
     "data": {
      "text/plain": [
       "array([   2,  576, 1541,  988, 1105, 1227, 1822,   63,  611, 2192, 1619,\n",
       "       1911, 1435, 1651,  238,  451, 2249, 1099,  140,  794,  919, 1985,\n",
       "       1836,  902, 1032,  108, 1382,  789,  644,  322], dtype=int64)"
      ]
     },
     "execution_count": 46,
     "metadata": {},
     "output_type": "execute_result"
    }
   ],
   "source": [
    "genre_cs[1541, :30]"
   ]
  },
  {
   "cell_type": "code",
   "execution_count": 47,
   "metadata": {
    "ExecuteTime": {
     "end_time": "2020-12-21T07:16:57.593457Z",
     "start_time": "2020-12-21T07:16:57.539446Z"
    }
   },
   "outputs": [
    {
     "data": {
      "text/html": [
       "<div>\n",
       "<style scoped>\n",
       "    .dataframe tbody tr th:only-of-type {\n",
       "        vertical-align: middle;\n",
       "    }\n",
       "\n",
       "    .dataframe tbody tr th {\n",
       "        vertical-align: top;\n",
       "    }\n",
       "\n",
       "    .dataframe thead th {\n",
       "        text-align: right;\n",
       "    }\n",
       "</style>\n",
       "<table border=\"1\" class=\"dataframe\">\n",
       "  <thead>\n",
       "    <tr style=\"text-align: right;\">\n",
       "      <th></th>\n",
       "      <th>genres</th>\n",
       "      <th>id</th>\n",
       "      <th>original_language</th>\n",
       "      <th>overview</th>\n",
       "      <th>popularity</th>\n",
       "      <th>spoken_languages</th>\n",
       "      <th>title</th>\n",
       "      <th>vote_average</th>\n",
       "      <th>vote_count</th>\n",
       "      <th>score</th>\n",
       "      <th>cast</th>\n",
       "      <th>crew</th>\n",
       "      <th>keywords</th>\n",
       "      <th>movieId</th>\n",
       "      <th>rating</th>\n",
       "    </tr>\n",
       "  </thead>\n",
       "  <tbody>\n",
       "    <tr>\n",
       "      <th>576</th>\n",
       "      <td>Action Crime Drama Thriller</td>\n",
       "      <td>111</td>\n",
       "      <td>en</td>\n",
       "      <td>After getting a green card in exchange for ass...</td>\n",
       "      <td>11.299673</td>\n",
       "      <td>English Español</td>\n",
       "      <td>Scarface</td>\n",
       "      <td>8.0</td>\n",
       "      <td>3017</td>\n",
       "      <td>7.700463</td>\n",
       "      <td>AlPacino StevenBauer MichellePfeiffer MaryEliz...</td>\n",
       "      <td>BrianDePalma</td>\n",
       "      <td>miami corruption capitalism cuba prohibition b...</td>\n",
       "      <td>4262</td>\n",
       "      <td>3.936454</td>\n",
       "    </tr>\n",
       "    <tr>\n",
       "      <th>1099</th>\n",
       "      <td>Crime Drama Thriller</td>\n",
       "      <td>6977</td>\n",
       "      <td>en</td>\n",
       "      <td>Llewelyn Moss stumbles upon dead bodies, $2 mi...</td>\n",
       "      <td>15.565484</td>\n",
       "      <td>English Español</td>\n",
       "      <td>No Country for Old Men</td>\n",
       "      <td>7.7</td>\n",
       "      <td>3083</td>\n",
       "      <td>7.443104</td>\n",
       "      <td>TommyLeeJones JavierBardem JoshBrolin WoodyHar...</td>\n",
       "      <td>JoelCoen EthanCoen</td>\n",
       "      <td>texas drug traffic hitman united states–mexico...</td>\n",
       "      <td>55820</td>\n",
       "      <td>3.997974</td>\n",
       "    </tr>\n",
       "    <tr>\n",
       "      <th>902</th>\n",
       "      <td>Action Crime Drama</td>\n",
       "      <td>272</td>\n",
       "      <td>en</td>\n",
       "      <td>Driven by tragedy, billionaire Bruce Wayne ded...</td>\n",
       "      <td>28.505341</td>\n",
       "      <td>English اردو 普通话</td>\n",
       "      <td>Batman Begins</td>\n",
       "      <td>7.5</td>\n",
       "      <td>7511</td>\n",
       "      <td>7.397206</td>\n",
       "      <td>ChristianBale MichaelCaine LiamNeeson KatieHol...</td>\n",
       "      <td>ChristopherNolan</td>\n",
       "      <td>himalaya martial arts dc comics crime fighter ...</td>\n",
       "      <td>33794</td>\n",
       "      <td>3.944856</td>\n",
       "    </tr>\n",
       "    <tr>\n",
       "      <th>1911</th>\n",
       "      <td>Crime Drama Thriller</td>\n",
       "      <td>242582</td>\n",
       "      <td>en</td>\n",
       "      <td>When Lou Bloom, desperate for work, muscles in...</td>\n",
       "      <td>21.277073</td>\n",
       "      <td>English</td>\n",
       "      <td>Nightcrawler</td>\n",
       "      <td>7.6</td>\n",
       "      <td>3475</td>\n",
       "      <td>7.379969</td>\n",
       "      <td>JakeGyllenhaal ReneRusso RizAhmed BillPaxton K...</td>\n",
       "      <td>DanGilroy</td>\n",
       "      <td>journalism underground tv station sociopath ho...</td>\n",
       "      <td>115569</td>\n",
       "      <td>3.917608</td>\n",
       "    </tr>\n",
       "    <tr>\n",
       "      <th>2</th>\n",
       "      <td>Action Crime Drama Thriller</td>\n",
       "      <td>949</td>\n",
       "      <td>en</td>\n",
       "      <td>Obsessive master thief, Neil McCauley leads a ...</td>\n",
       "      <td>17.924927</td>\n",
       "      <td>English Español</td>\n",
       "      <td>Heat</td>\n",
       "      <td>7.7</td>\n",
       "      <td>1886</td>\n",
       "      <td>7.310560</td>\n",
       "      <td>AlPacino RobertDeNiro ValKilmer JonVoight TomS...</td>\n",
       "      <td>MichaelMann</td>\n",
       "      <td>robbery detective bank obsession chase shootin...</td>\n",
       "      <td>6</td>\n",
       "      <td>3.841764</td>\n",
       "    </tr>\n",
       "    <tr>\n",
       "      <th>63</th>\n",
       "      <td>Action Crime Drama Thriller</td>\n",
       "      <td>6075</td>\n",
       "      <td>en</td>\n",
       "      <td>A Puerto-Rican ex-con, just released from pris...</td>\n",
       "      <td>8.698509</td>\n",
       "      <td>English Español</td>\n",
       "      <td>Carlito's Way</td>\n",
       "      <td>7.7</td>\n",
       "      <td>805</td>\n",
       "      <td>6.970782</td>\n",
       "      <td>AlPacino SeanPenn PenelopeAnnMiller JohnLeguiz...</td>\n",
       "      <td>BrianDePalma</td>\n",
       "      <td>prison 1970s puerto rican release from prison ...</td>\n",
       "      <td>431</td>\n",
       "      <td>3.698139</td>\n",
       "    </tr>\n",
       "    <tr>\n",
       "      <th>611</th>\n",
       "      <td>Action Crime Drama Thriller</td>\n",
       "      <td>2034</td>\n",
       "      <td>en</td>\n",
       "      <td>On his first day on the job as a narcotics off...</td>\n",
       "      <td>13.664622</td>\n",
       "      <td>English Pусский Español 한국어/조선말</td>\n",
       "      <td>Training Day</td>\n",
       "      <td>7.3</td>\n",
       "      <td>1665</td>\n",
       "      <td>6.952262</td>\n",
       "      <td>DenzelWashington EthanHawke ScottGlenn TomBere...</td>\n",
       "      <td>AntoineFuqua</td>\n",
       "      <td>police brutality war on drugs drug traffic dru...</td>\n",
       "      <td>4776</td>\n",
       "      <td>3.705817</td>\n",
       "    </tr>\n",
       "    <tr>\n",
       "      <th>238</th>\n",
       "      <td>Crime Drama Thriller</td>\n",
       "      <td>9366</td>\n",
       "      <td>en</td>\n",
       "      <td>An FBI undercover agent infilitrates the mob a...</td>\n",
       "      <td>12.201954</td>\n",
       "      <td>日本語 English Italiano</td>\n",
       "      <td>Donnie Brasco</td>\n",
       "      <td>7.4</td>\n",
       "      <td>1175</td>\n",
       "      <td>6.919390</td>\n",
       "      <td>JohnnyDepp AlPacino MichaelMadsen BrunoKirby J...</td>\n",
       "      <td>MikeNewell</td>\n",
       "      <td>undercover colombia mafia mobster dirty cop in...</td>\n",
       "      <td>1466</td>\n",
       "      <td>3.801000</td>\n",
       "    </tr>\n",
       "    <tr>\n",
       "      <th>789</th>\n",
       "      <td>Crime Drama Thriller</td>\n",
       "      <td>553</td>\n",
       "      <td>da</td>\n",
       "      <td>A barren soundstage is stylishly utilized to c...</td>\n",
       "      <td>9.808595</td>\n",
       "      <td>English</td>\n",
       "      <td>Dogville</td>\n",
       "      <td>7.6</td>\n",
       "      <td>619</td>\n",
       "      <td>6.783189</td>\n",
       "      <td>NicoleKidman HarrietAndersson LaurenBacall Jea...</td>\n",
       "      <td>LarsvonTrier</td>\n",
       "      <td>rape bondage refugee mountain village life bla...</td>\n",
       "      <td>7371</td>\n",
       "      <td>3.850281</td>\n",
       "    </tr>\n",
       "    <tr>\n",
       "      <th>322</th>\n",
       "      <td>Crime Drama Thriller</td>\n",
       "      <td>242</td>\n",
       "      <td>en</td>\n",
       "      <td>In the midst of trying to legitimize his busin...</td>\n",
       "      <td>17.185349</td>\n",
       "      <td>English Italiano Deutsch Latin</td>\n",
       "      <td>The Godfather: Part III</td>\n",
       "      <td>7.1</td>\n",
       "      <td>1589</td>\n",
       "      <td>6.782105</td>\n",
       "      <td>AlPacino DianeKeaton AndyGarcía TaliaShire Sof...</td>\n",
       "      <td>FrancisFordCoppola</td>\n",
       "      <td>italy christianity new york assassination ital...</td>\n",
       "      <td>2023</td>\n",
       "      <td>3.445889</td>\n",
       "    </tr>\n",
       "  </tbody>\n",
       "</table>\n",
       "</div>"
      ],
      "text/plain": [
       "                           genres      id original_language  \\\n",
       "576   Action Crime Drama Thriller     111                en   \n",
       "1099         Crime Drama Thriller    6977                en   \n",
       "902            Action Crime Drama     272                en   \n",
       "1911         Crime Drama Thriller  242582                en   \n",
       "2     Action Crime Drama Thriller     949                en   \n",
       "63    Action Crime Drama Thriller    6075                en   \n",
       "611   Action Crime Drama Thriller    2034                en   \n",
       "238          Crime Drama Thriller    9366                en   \n",
       "789          Crime Drama Thriller     553                da   \n",
       "322          Crime Drama Thriller     242                en   \n",
       "\n",
       "                                               overview  popularity  \\\n",
       "576   After getting a green card in exchange for ass...   11.299673   \n",
       "1099  Llewelyn Moss stumbles upon dead bodies, $2 mi...   15.565484   \n",
       "902   Driven by tragedy, billionaire Bruce Wayne ded...   28.505341   \n",
       "1911  When Lou Bloom, desperate for work, muscles in...   21.277073   \n",
       "2     Obsessive master thief, Neil McCauley leads a ...   17.924927   \n",
       "63    A Puerto-Rican ex-con, just released from pris...    8.698509   \n",
       "611   On his first day on the job as a narcotics off...   13.664622   \n",
       "238   An FBI undercover agent infilitrates the mob a...   12.201954   \n",
       "789   A barren soundstage is stylishly utilized to c...    9.808595   \n",
       "322   In the midst of trying to legitimize his busin...   17.185349   \n",
       "\n",
       "                     spoken_languages                    title  vote_average  \\\n",
       "576                   English Español                 Scarface           8.0   \n",
       "1099                  English Español   No Country for Old Men           7.7   \n",
       "902                  English اردو 普通话            Batman Begins           7.5   \n",
       "1911                          English             Nightcrawler           7.6   \n",
       "2                     English Español                     Heat           7.7   \n",
       "63                    English Español            Carlito's Way           7.7   \n",
       "611   English Pусский Español 한국어/조선말             Training Day           7.3   \n",
       "238              日本語 English Italiano            Donnie Brasco           7.4   \n",
       "789                           English                 Dogville           7.6   \n",
       "322    English Italiano Deutsch Latin  The Godfather: Part III           7.1   \n",
       "\n",
       "      vote_count     score                                               cast  \\\n",
       "576         3017  7.700463  AlPacino StevenBauer MichellePfeiffer MaryEliz...   \n",
       "1099        3083  7.443104  TommyLeeJones JavierBardem JoshBrolin WoodyHar...   \n",
       "902         7511  7.397206  ChristianBale MichaelCaine LiamNeeson KatieHol...   \n",
       "1911        3475  7.379969  JakeGyllenhaal ReneRusso RizAhmed BillPaxton K...   \n",
       "2           1886  7.310560  AlPacino RobertDeNiro ValKilmer JonVoight TomS...   \n",
       "63           805  6.970782  AlPacino SeanPenn PenelopeAnnMiller JohnLeguiz...   \n",
       "611         1665  6.952262  DenzelWashington EthanHawke ScottGlenn TomBere...   \n",
       "238         1175  6.919390  JohnnyDepp AlPacino MichaelMadsen BrunoKirby J...   \n",
       "789          619  6.783189  NicoleKidman HarrietAndersson LaurenBacall Jea...   \n",
       "322         1589  6.782105  AlPacino DianeKeaton AndyGarcía TaliaShire Sof...   \n",
       "\n",
       "                    crew                                           keywords  \\\n",
       "576         BrianDePalma  miami corruption capitalism cuba prohibition b...   \n",
       "1099  JoelCoen EthanCoen  texas drug traffic hitman united states–mexico...   \n",
       "902     ChristopherNolan  himalaya martial arts dc comics crime fighter ...   \n",
       "1911           DanGilroy  journalism underground tv station sociopath ho...   \n",
       "2            MichaelMann  robbery detective bank obsession chase shootin...   \n",
       "63          BrianDePalma  prison 1970s puerto rican release from prison ...   \n",
       "611         AntoineFuqua  police brutality war on drugs drug traffic dru...   \n",
       "238           MikeNewell  undercover colombia mafia mobster dirty cop in...   \n",
       "789         LarsvonTrier  rape bondage refugee mountain village life bla...   \n",
       "322   FrancisFordCoppola  italy christianity new york assassination ital...   \n",
       "\n",
       "      movieId    rating  \n",
       "576      4262  3.936454  \n",
       "1099    55820  3.997974  \n",
       "902     33794  3.944856  \n",
       "1911   115569  3.917608  \n",
       "2           6  3.841764  \n",
       "63        431  3.698139  \n",
       "611      4776  3.705817  \n",
       "238      1466  3.801000  \n",
       "789      7371  3.850281  \n",
       "322      2023  3.445889  "
      ]
     },
     "execution_count": 47,
     "metadata": {},
     "output_type": "execute_result"
    }
   ],
   "source": [
    "cv_cs = get_recommend_movie_list(data, genre_cs, movie_title='The Dark Knight Rises')\n",
    "cv_cs"
   ]
  },
  {
   "cell_type": "markdown",
   "metadata": {},
   "source": [
    "이렇게 하면 The Dark Knight Rises와 비슷한 영화가 content based filtering 방법으로 추천이 됩니다.\n",
    "\n",
    "The Dark Knight Rise 영화의 장르는 Action, Crime, Drama, Thriller 종류입니다. 추천된 종류 역시 이와 같이 비슷한 장르의 특성을 보여주고 있음을 알 수 있습니다.\n"
   ]
  },
  {
   "cell_type": "markdown",
   "metadata": {},
   "source": [
    "# TfidfVectorizer"
   ]
  },
  {
   "cell_type": "markdown",
   "metadata": {},
   "source": [
    "## exercise"
   ]
  },
  {
   "cell_type": "code",
   "execution_count": 48,
   "metadata": {
    "ExecuteTime": {
     "end_time": "2020-12-21T07:16:57.607083Z",
     "start_time": "2020-12-21T07:16:57.594489Z"
    }
   },
   "outputs": [],
   "source": [
    "temp_words = ['The fool doth think he is wise,',\n",
    "             'but the wise man knows himself to be a fool.']"
   ]
  },
  {
   "cell_type": "code",
   "execution_count": 49,
   "metadata": {
    "ExecuteTime": {
     "end_time": "2020-12-21T07:16:57.620802Z",
     "start_time": "2020-12-21T07:16:57.609277Z"
    }
   },
   "outputs": [],
   "source": [
    "tfidf = TfidfVectorizer()"
   ]
  },
  {
   "cell_type": "code",
   "execution_count": 50,
   "metadata": {
    "ExecuteTime": {
     "end_time": "2020-12-21T07:16:57.646773Z",
     "start_time": "2020-12-21T07:16:57.624804Z"
    }
   },
   "outputs": [
    {
     "data": {
      "text/plain": [
       "{'the': 9,\n",
       " 'fool': 3,\n",
       " 'doth': 2,\n",
       " 'think': 10,\n",
       " 'he': 4,\n",
       " 'is': 6,\n",
       " 'wise': 12,\n",
       " 'but': 1,\n",
       " 'man': 8,\n",
       " 'knows': 7,\n",
       " 'himself': 5,\n",
       " 'to': 11,\n",
       " 'be': 0}"
      ]
     },
     "execution_count": 50,
     "metadata": {},
     "output_type": "execute_result"
    }
   ],
   "source": [
    "tfidf.fit(temp_words).vocabulary_"
   ]
  },
  {
   "cell_type": "code",
   "execution_count": 51,
   "metadata": {
    "ExecuteTime": {
     "end_time": "2020-12-21T07:16:57.674485Z",
     "start_time": "2020-12-21T07:16:57.650766Z"
    }
   },
   "outputs": [],
   "source": [
    "result = tfidf.fit_transform(temp_words)"
   ]
  },
  {
   "cell_type": "code",
   "execution_count": 52,
   "metadata": {
    "ExecuteTime": {
     "end_time": "2020-12-21T07:16:57.702385Z",
     "start_time": "2020-12-21T07:16:57.678500Z"
    }
   },
   "outputs": [
    {
     "data": {
      "text/plain": [
       "array([[0.        , 0.        , 0.42567716, 0.30287281, 0.42567716,\n",
       "        0.        , 0.42567716, 0.        , 0.        , 0.30287281,\n",
       "        0.42567716, 0.        , 0.30287281],\n",
       "       [0.36469323, 0.36469323, 0.        , 0.25948224, 0.        ,\n",
       "        0.36469323, 0.        , 0.36469323, 0.36469323, 0.25948224,\n",
       "        0.        , 0.36469323, 0.25948224]])"
      ]
     },
     "execution_count": 52,
     "metadata": {},
     "output_type": "execute_result"
    }
   ],
   "source": [
    "result.toarray()"
   ]
  },
  {
   "cell_type": "code",
   "execution_count": 53,
   "metadata": {
    "ExecuteTime": {
     "end_time": "2020-12-21T07:16:57.716860Z",
     "start_time": "2020-12-21T07:16:57.703438Z"
    }
   },
   "outputs": [],
   "source": [
    "tfidf = TfidfVectorizer(stop_words='english')"
   ]
  },
  {
   "cell_type": "code",
   "execution_count": 54,
   "metadata": {
    "ExecuteTime": {
     "end_time": "2020-12-21T07:16:57.742689Z",
     "start_time": "2020-12-21T07:16:57.721801Z"
    }
   },
   "outputs": [
    {
     "data": {
      "text/plain": [
       "{'fool': 1, 'doth': 0, 'think': 4, 'wise': 5, 'man': 3, 'knows': 2}"
      ]
     },
     "execution_count": 54,
     "metadata": {},
     "output_type": "execute_result"
    }
   ],
   "source": [
    "tfidf.fit(temp_words).vocabulary_"
   ]
  },
  {
   "cell_type": "code",
   "execution_count": 55,
   "metadata": {
    "ExecuteTime": {
     "end_time": "2020-12-21T07:16:57.756650Z",
     "start_time": "2020-12-21T07:16:57.745678Z"
    }
   },
   "outputs": [],
   "source": [
    "result = tfidf.fit_transform(temp_words)"
   ]
  },
  {
   "cell_type": "code",
   "execution_count": 56,
   "metadata": {
    "ExecuteTime": {
     "end_time": "2020-12-21T07:16:57.772608Z",
     "start_time": "2020-12-21T07:16:57.759642Z"
    }
   },
   "outputs": [
    {
     "data": {
      "text/plain": [
       "array([[0.57615236, 0.40993715, 0.        , 0.        , 0.57615236,\n",
       "        0.40993715],\n",
       "       [0.        , 0.40993715, 0.57615236, 0.57615236, 0.        ,\n",
       "        0.40993715]])"
      ]
     },
     "execution_count": 56,
     "metadata": {},
     "output_type": "execute_result"
    }
   ],
   "source": [
    "result.toarray()"
   ]
  },
  {
   "cell_type": "markdown",
   "metadata": {},
   "source": [
    "## genre"
   ]
  },
  {
   "cell_type": "code",
   "execution_count": 57,
   "metadata": {
    "ExecuteTime": {
     "end_time": "2020-12-21T07:16:57.828691Z",
     "start_time": "2020-12-21T07:16:57.775599Z"
    }
   },
   "outputs": [],
   "source": [
    "tfidf_genres = tfidf.fit_transform(data['genres'])"
   ]
  },
  {
   "cell_type": "code",
   "execution_count": 58,
   "metadata": {
    "ExecuteTime": {
     "end_time": "2020-12-21T07:16:57.842378Z",
     "start_time": "2020-12-21T07:16:57.830684Z"
    }
   },
   "outputs": [
    {
     "data": {
      "text/plain": [
       "<2291x19 sparse matrix of type '<class 'numpy.float64'>'\n",
       "\twith 6305 stored elements in Compressed Sparse Row format>"
      ]
     },
     "execution_count": 58,
     "metadata": {},
     "output_type": "execute_result"
    }
   ],
   "source": [
    "tfidf_genres"
   ]
  },
  {
   "cell_type": "code",
   "execution_count": 59,
   "metadata": {
    "ExecuteTime": {
     "end_time": "2020-12-21T07:16:57.855169Z",
     "start_time": "2020-12-21T07:16:57.846097Z"
    }
   },
   "outputs": [
    {
     "data": {
      "text/plain": [
       "(2291, 19)"
      ]
     },
     "execution_count": 59,
     "metadata": {},
     "output_type": "execute_result"
    }
   ],
   "source": [
    "tfidf_genres.shape"
   ]
  },
  {
   "cell_type": "code",
   "execution_count": 60,
   "metadata": {
    "ExecuteTime": {
     "end_time": "2020-12-21T07:16:58.431129Z",
     "start_time": "2020-12-21T07:16:57.857197Z"
    }
   },
   "outputs": [],
   "source": [
    "#코사인 유사도를 구한 벡터를 미리 저장\n",
    "genre_cs = cosine_similarity(tfidf_genres, tfidf_genres).argsort()[:, ::-1]"
   ]
  },
  {
   "cell_type": "code",
   "execution_count": 61,
   "metadata": {
    "ExecuteTime": {
     "end_time": "2020-12-21T07:16:58.447047Z",
     "start_time": "2020-12-21T07:16:58.435078Z"
    }
   },
   "outputs": [
    {
     "data": {
      "text/plain": [
       "array([[   0, 2263,  520, ..., 1160, 2005, 2290],\n",
       "       [1145, 1255, 2026, ..., 1187, 1189,  922],\n",
       "       [1227, 1822, 1657, ..., 1008, 1005,    0],\n",
       "       ...,\n",
       "       [2288, 2162, 2050, ..., 1008, 1005,    0],\n",
       "       [1953,  807,  910, ...,  791, 1694,    0],\n",
       "       [2290, 1431,  414, ..., 1863,  947,    0]], dtype=int64)"
      ]
     },
     "execution_count": 61,
     "metadata": {},
     "output_type": "execute_result"
    }
   ],
   "source": [
    "genre_cs"
   ]
  },
  {
   "cell_type": "code",
   "execution_count": 62,
   "metadata": {
    "ExecuteTime": {
     "end_time": "2020-12-21T07:16:58.474620Z",
     "start_time": "2020-12-21T07:16:58.452060Z"
    }
   },
   "outputs": [
    {
     "data": {
      "text/plain": [
       "(2291, 2291)"
      ]
     },
     "execution_count": 62,
     "metadata": {},
     "output_type": "execute_result"
    }
   ],
   "source": [
    "genre_cs.shape"
   ]
  },
  {
   "cell_type": "code",
   "execution_count": 63,
   "metadata": {
    "ExecuteTime": {
     "end_time": "2020-12-21T07:16:58.546366Z",
     "start_time": "2020-12-21T07:16:58.478565Z"
    }
   },
   "outputs": [
    {
     "data": {
      "text/html": [
       "<div>\n",
       "<style scoped>\n",
       "    .dataframe tbody tr th:only-of-type {\n",
       "        vertical-align: middle;\n",
       "    }\n",
       "\n",
       "    .dataframe tbody tr th {\n",
       "        vertical-align: top;\n",
       "    }\n",
       "\n",
       "    .dataframe thead th {\n",
       "        text-align: right;\n",
       "    }\n",
       "</style>\n",
       "<table border=\"1\" class=\"dataframe\">\n",
       "  <thead>\n",
       "    <tr style=\"text-align: right;\">\n",
       "      <th></th>\n",
       "      <th>genres</th>\n",
       "      <th>id</th>\n",
       "      <th>original_language</th>\n",
       "      <th>overview</th>\n",
       "      <th>popularity</th>\n",
       "      <th>spoken_languages</th>\n",
       "      <th>title</th>\n",
       "      <th>vote_average</th>\n",
       "      <th>vote_count</th>\n",
       "      <th>score</th>\n",
       "      <th>cast</th>\n",
       "      <th>crew</th>\n",
       "      <th>keywords</th>\n",
       "      <th>movieId</th>\n",
       "      <th>rating</th>\n",
       "    </tr>\n",
       "  </thead>\n",
       "  <tbody>\n",
       "    <tr>\n",
       "      <th>1135</th>\n",
       "      <td>Drama Action Crime Thriller</td>\n",
       "      <td>155</td>\n",
       "      <td>en</td>\n",
       "      <td>Batman raises the stakes in his war on crime. ...</td>\n",
       "      <td>123.167259</td>\n",
       "      <td>English 普通话</td>\n",
       "      <td>The Dark Knight</td>\n",
       "      <td>8.3</td>\n",
       "      <td>12269</td>\n",
       "      <td>8.208376</td>\n",
       "      <td>ChristianBale MichaelCaine HeathLedger AaronEc...</td>\n",
       "      <td>ChristopherNolan</td>\n",
       "      <td>dc comics crime fighter secret identity scarec...</td>\n",
       "      <td>58559</td>\n",
       "      <td>4.182071</td>\n",
       "    </tr>\n",
       "    <tr>\n",
       "      <th>576</th>\n",
       "      <td>Action Crime Drama Thriller</td>\n",
       "      <td>111</td>\n",
       "      <td>en</td>\n",
       "      <td>After getting a green card in exchange for ass...</td>\n",
       "      <td>11.299673</td>\n",
       "      <td>English Español</td>\n",
       "      <td>Scarface</td>\n",
       "      <td>8.0</td>\n",
       "      <td>3017</td>\n",
       "      <td>7.700463</td>\n",
       "      <td>AlPacino StevenBauer MichellePfeiffer MaryEliz...</td>\n",
       "      <td>BrianDePalma</td>\n",
       "      <td>miami corruption capitalism cuba prohibition b...</td>\n",
       "      <td>4262</td>\n",
       "      <td>3.936454</td>\n",
       "    </tr>\n",
       "    <tr>\n",
       "      <th>793</th>\n",
       "      <td>Action Crime Thriller</td>\n",
       "      <td>393</td>\n",
       "      <td>en</td>\n",
       "      <td>The Bride unwaveringly continues on her roarin...</td>\n",
       "      <td>21.533072</td>\n",
       "      <td>English 普通话 Español 广州话 / 廣州話</td>\n",
       "      <td>Kill Bill: Vol. 2</td>\n",
       "      <td>7.7</td>\n",
       "      <td>4061</td>\n",
       "      <td>7.498999</td>\n",
       "      <td>UmaThurman DavidCarradine DarylHannah MichaelM...</td>\n",
       "      <td>QuentinTarantino</td>\n",
       "      <td>brother brother relationship swordplay katana ...</td>\n",
       "      <td>7438</td>\n",
       "      <td>3.831550</td>\n",
       "    </tr>\n",
       "    <tr>\n",
       "      <th>2</th>\n",
       "      <td>Action Crime Drama Thriller</td>\n",
       "      <td>949</td>\n",
       "      <td>en</td>\n",
       "      <td>Obsessive master thief, Neil McCauley leads a ...</td>\n",
       "      <td>17.924927</td>\n",
       "      <td>English Español</td>\n",
       "      <td>Heat</td>\n",
       "      <td>7.7</td>\n",
       "      <td>1886</td>\n",
       "      <td>7.310560</td>\n",
       "      <td>AlPacino RobertDeNiro ValKilmer JonVoight TomS...</td>\n",
       "      <td>MichaelMann</td>\n",
       "      <td>robbery detective bank obsession chase shootin...</td>\n",
       "      <td>6</td>\n",
       "      <td>3.841764</td>\n",
       "    </tr>\n",
       "    <tr>\n",
       "      <th>1485</th>\n",
       "      <td>Drama Action Thriller Crime</td>\n",
       "      <td>64690</td>\n",
       "      <td>en</td>\n",
       "      <td>A Hollywood stunt performer who moonlights as ...</td>\n",
       "      <td>15.388875</td>\n",
       "      <td>English</td>\n",
       "      <td>Drive</td>\n",
       "      <td>7.4</td>\n",
       "      <td>3832</td>\n",
       "      <td>7.218729</td>\n",
       "      <td>RyanGosling CareyMulligan BryanCranston Albert...</td>\n",
       "      <td>NicolasWindingRefn</td>\n",
       "      <td>stuntman blood splatter independent film polic...</td>\n",
       "      <td>88129</td>\n",
       "      <td>3.814720</td>\n",
       "    </tr>\n",
       "    <tr>\n",
       "      <th>63</th>\n",
       "      <td>Action Crime Drama Thriller</td>\n",
       "      <td>6075</td>\n",
       "      <td>en</td>\n",
       "      <td>A Puerto-Rican ex-con, just released from pris...</td>\n",
       "      <td>8.698509</td>\n",
       "      <td>English Español</td>\n",
       "      <td>Carlito's Way</td>\n",
       "      <td>7.7</td>\n",
       "      <td>805</td>\n",
       "      <td>6.970782</td>\n",
       "      <td>AlPacino SeanPenn PenelopeAnnMiller JohnLeguiz...</td>\n",
       "      <td>BrianDePalma</td>\n",
       "      <td>prison 1970s puerto rican release from prison ...</td>\n",
       "      <td>431</td>\n",
       "      <td>3.698139</td>\n",
       "    </tr>\n",
       "    <tr>\n",
       "      <th>611</th>\n",
       "      <td>Action Crime Drama Thriller</td>\n",
       "      <td>2034</td>\n",
       "      <td>en</td>\n",
       "      <td>On his first day on the job as a narcotics off...</td>\n",
       "      <td>13.664622</td>\n",
       "      <td>English Pусский Español 한국어/조선말</td>\n",
       "      <td>Training Day</td>\n",
       "      <td>7.3</td>\n",
       "      <td>1665</td>\n",
       "      <td>6.952262</td>\n",
       "      <td>DenzelWashington EthanHawke ScottGlenn TomBere...</td>\n",
       "      <td>AntoineFuqua</td>\n",
       "      <td>police brutality war on drugs drug traffic dru...</td>\n",
       "      <td>4776</td>\n",
       "      <td>3.705817</td>\n",
       "    </tr>\n",
       "    <tr>\n",
       "      <th>796</th>\n",
       "      <td>Action Drama Thriller Crime</td>\n",
       "      <td>9509</td>\n",
       "      <td>en</td>\n",
       "      <td>Jaded ex-CIA operative John Creasy reluctantly...</td>\n",
       "      <td>9.635691</td>\n",
       "      <td>English Español</td>\n",
       "      <td>Man on Fire</td>\n",
       "      <td>7.3</td>\n",
       "      <td>1583</td>\n",
       "      <td>6.938125</td>\n",
       "      <td>DenzelWashington DakotaFanning MarcAnthony Rad...</td>\n",
       "      <td>TonyScott</td>\n",
       "      <td>mexico cia kidnapping diary bible bodyguard st...</td>\n",
       "      <td>7445</td>\n",
       "      <td>3.806181</td>\n",
       "    </tr>\n",
       "    <tr>\n",
       "      <th>195</th>\n",
       "      <td>Drama Action Thriller Crime</td>\n",
       "      <td>832</td>\n",
       "      <td>de</td>\n",
       "      <td>In this classic German thriller, Hans Beckert,...</td>\n",
       "      <td>12.752421</td>\n",
       "      <td>Deutsch</td>\n",
       "      <td>M</td>\n",
       "      <td>8.0</td>\n",
       "      <td>465</td>\n",
       "      <td>6.850165</td>\n",
       "      <td>PeterLorre EllenWidmann IngeLandgut OttoWernic...</td>\n",
       "      <td>FritzLang</td>\n",
       "      <td>germany berlin underworld child murderer detec...</td>\n",
       "      <td>1260</td>\n",
       "      <td>4.163554</td>\n",
       "    </tr>\n",
       "    <tr>\n",
       "      <th>1227</th>\n",
       "      <td>Action Crime Drama Thriller</td>\n",
       "      <td>13804</td>\n",
       "      <td>en</td>\n",
       "      <td>When a crime brings them back to L.A., fugitiv...</td>\n",
       "      <td>1.498902</td>\n",
       "      <td>English</td>\n",
       "      <td>Fast &amp; Furious</td>\n",
       "      <td>6.5</td>\n",
       "      <td>2426</td>\n",
       "      <td>6.366188</td>\n",
       "      <td>VinDiesel PaulWalker MichelleRodriguez Jordana...</td>\n",
       "      <td>JustinLin</td>\n",
       "      <td>gambling brother sister relationship ex-lover ...</td>\n",
       "      <td>67923</td>\n",
       "      <td>3.216334</td>\n",
       "    </tr>\n",
       "  </tbody>\n",
       "</table>\n",
       "</div>"
      ],
      "text/plain": [
       "                           genres     id original_language  \\\n",
       "1135  Drama Action Crime Thriller    155                en   \n",
       "576   Action Crime Drama Thriller    111                en   \n",
       "793         Action Crime Thriller    393                en   \n",
       "2     Action Crime Drama Thriller    949                en   \n",
       "1485  Drama Action Thriller Crime  64690                en   \n",
       "63    Action Crime Drama Thriller   6075                en   \n",
       "611   Action Crime Drama Thriller   2034                en   \n",
       "796   Action Drama Thriller Crime   9509                en   \n",
       "195   Drama Action Thriller Crime    832                de   \n",
       "1227  Action Crime Drama Thriller  13804                en   \n",
       "\n",
       "                                               overview  popularity  \\\n",
       "1135  Batman raises the stakes in his war on crime. ...  123.167259   \n",
       "576   After getting a green card in exchange for ass...   11.299673   \n",
       "793   The Bride unwaveringly continues on her roarin...   21.533072   \n",
       "2     Obsessive master thief, Neil McCauley leads a ...   17.924927   \n",
       "1485  A Hollywood stunt performer who moonlights as ...   15.388875   \n",
       "63    A Puerto-Rican ex-con, just released from pris...    8.698509   \n",
       "611   On his first day on the job as a narcotics off...   13.664622   \n",
       "796   Jaded ex-CIA operative John Creasy reluctantly...    9.635691   \n",
       "195   In this classic German thriller, Hans Beckert,...   12.752421   \n",
       "1227  When a crime brings them back to L.A., fugitiv...    1.498902   \n",
       "\n",
       "                     spoken_languages              title  vote_average  \\\n",
       "1135                      English 普通话    The Dark Knight           8.3   \n",
       "576                   English Español           Scarface           8.0   \n",
       "793     English 普通话 Español 广州话 / 廣州話  Kill Bill: Vol. 2           7.7   \n",
       "2                     English Español               Heat           7.7   \n",
       "1485                          English              Drive           7.4   \n",
       "63                    English Español      Carlito's Way           7.7   \n",
       "611   English Pусский Español 한국어/조선말       Training Day           7.3   \n",
       "796                   English Español        Man on Fire           7.3   \n",
       "195                           Deutsch                  M           8.0   \n",
       "1227                          English     Fast & Furious           6.5   \n",
       "\n",
       "      vote_count     score                                               cast  \\\n",
       "1135       12269  8.208376  ChristianBale MichaelCaine HeathLedger AaronEc...   \n",
       "576         3017  7.700463  AlPacino StevenBauer MichellePfeiffer MaryEliz...   \n",
       "793         4061  7.498999  UmaThurman DavidCarradine DarylHannah MichaelM...   \n",
       "2           1886  7.310560  AlPacino RobertDeNiro ValKilmer JonVoight TomS...   \n",
       "1485        3832  7.218729  RyanGosling CareyMulligan BryanCranston Albert...   \n",
       "63           805  6.970782  AlPacino SeanPenn PenelopeAnnMiller JohnLeguiz...   \n",
       "611         1665  6.952262  DenzelWashington EthanHawke ScottGlenn TomBere...   \n",
       "796         1583  6.938125  DenzelWashington DakotaFanning MarcAnthony Rad...   \n",
       "195          465  6.850165  PeterLorre EllenWidmann IngeLandgut OttoWernic...   \n",
       "1227        2426  6.366188  VinDiesel PaulWalker MichelleRodriguez Jordana...   \n",
       "\n",
       "                    crew                                           keywords  \\\n",
       "1135    ChristopherNolan  dc comics crime fighter secret identity scarec...   \n",
       "576         BrianDePalma  miami corruption capitalism cuba prohibition b...   \n",
       "793     QuentinTarantino  brother brother relationship swordplay katana ...   \n",
       "2            MichaelMann  robbery detective bank obsession chase shootin...   \n",
       "1485  NicolasWindingRefn  stuntman blood splatter independent film polic...   \n",
       "63          BrianDePalma  prison 1970s puerto rican release from prison ...   \n",
       "611         AntoineFuqua  police brutality war on drugs drug traffic dru...   \n",
       "796            TonyScott  mexico cia kidnapping diary bible bodyguard st...   \n",
       "195            FritzLang  germany berlin underworld child murderer detec...   \n",
       "1227           JustinLin  gambling brother sister relationship ex-lover ...   \n",
       "\n",
       "      movieId    rating  \n",
       "1135    58559  4.182071  \n",
       "576      4262  3.936454  \n",
       "793      7438  3.831550  \n",
       "2           6  3.841764  \n",
       "1485    88129  3.814720  \n",
       "63        431  3.698139  \n",
       "611      4776  3.705817  \n",
       "796      7445  3.806181  \n",
       "195      1260  4.163554  \n",
       "1227    67923  3.216334  "
      ]
     },
     "execution_count": 63,
     "metadata": {},
     "output_type": "execute_result"
    }
   ],
   "source": [
    "tf_cs = get_recommend_movie_list(data, genre_cs, movie_title='The Dark Knight Rises')\n",
    "tf_cs"
   ]
  },
  {
   "cell_type": "code",
   "execution_count": 64,
   "metadata": {
    "ExecuteTime": {
     "end_time": "2020-12-21T07:16:58.559775Z",
     "start_time": "2020-12-21T07:16:58.546366Z"
    }
   },
   "outputs": [
    {
     "data": {
      "text/plain": [
       "False"
      ]
     },
     "execution_count": 64,
     "metadata": {},
     "output_type": "execute_result"
    }
   ],
   "source": [
    "sorted(cv_cs['id']) == sorted(tf_cs['id'])"
   ]
  },
  {
   "cell_type": "markdown",
   "metadata": {},
   "source": [
    "# linear_kernel"
   ]
  },
  {
   "cell_type": "markdown",
   "metadata": {},
   "source": [
    "## exercise"
   ]
  },
  {
   "cell_type": "code",
   "execution_count": 65,
   "metadata": {
    "ExecuteTime": {
     "end_time": "2020-12-21T07:16:58.572651Z",
     "start_time": "2020-12-21T07:16:58.560772Z"
    }
   },
   "outputs": [],
   "source": [
    "b = np.array([[1, 0], [0, 1]])\n",
    "c = np.array([[0, 2], [1, 0]])\n",
    "d = np.array([[1, 1], [2, 1]])"
   ]
  },
  {
   "cell_type": "code",
   "execution_count": 66,
   "metadata": {
    "ExecuteTime": {
     "end_time": "2020-12-21T07:16:58.601611Z",
     "start_time": "2020-12-21T07:16:58.574273Z"
    }
   },
   "outputs": [
    {
     "data": {
      "text/plain": [
       "array([[1., 0.],\n",
       "       [0., 1.]])"
      ]
     },
     "execution_count": 66,
     "metadata": {},
     "output_type": "execute_result"
    }
   ],
   "source": [
    "linear_kernel(b, b)"
   ]
  },
  {
   "cell_type": "code",
   "execution_count": 67,
   "metadata": {
    "ExecuteTime": {
     "end_time": "2020-12-21T07:16:58.631554Z",
     "start_time": "2020-12-21T07:16:58.605566Z"
    }
   },
   "outputs": [
    {
     "data": {
      "text/plain": [
       "array([[0., 1.],\n",
       "       [2., 0.]])"
      ]
     },
     "execution_count": 67,
     "metadata": {},
     "output_type": "execute_result"
    }
   ],
   "source": [
    "linear_kernel(b, c)"
   ]
  },
  {
   "cell_type": "code",
   "execution_count": 68,
   "metadata": {
    "ExecuteTime": {
     "end_time": "2020-12-21T07:16:58.673778Z",
     "start_time": "2020-12-21T07:16:58.661147Z"
    }
   },
   "outputs": [
    {
     "data": {
      "text/plain": [
       "array([[1., 2.],\n",
       "       [1., 1.]])"
      ]
     },
     "execution_count": 68,
     "metadata": {},
     "output_type": "execute_result"
    }
   ],
   "source": [
    "linear_kernel(b, d)"
   ]
  },
  {
   "cell_type": "markdown",
   "metadata": {},
   "source": [
    "## genre"
   ]
  },
  {
   "cell_type": "code",
   "execution_count": 69,
   "metadata": {
    "ExecuteTime": {
     "end_time": "2020-12-21T07:16:59.272021Z",
     "start_time": "2020-12-21T07:16:58.687634Z"
    }
   },
   "outputs": [],
   "source": [
    "genre_cs = linear_kernel(tfidf_genres, tfidf_genres).argsort()[:, ::-1]"
   ]
  },
  {
   "cell_type": "code",
   "execution_count": 70,
   "metadata": {
    "ExecuteTime": {
     "end_time": "2020-12-21T07:16:59.286365Z",
     "start_time": "2020-12-21T07:16:59.276063Z"
    }
   },
   "outputs": [
    {
     "data": {
      "text/plain": [
       "array([[   0, 2263,  520, ..., 1160, 2005, 2290],\n",
       "       [1145, 1255, 2026, ..., 1187, 1189,  922],\n",
       "       [1227, 1822, 1657, ..., 1008, 1005,    0],\n",
       "       ...,\n",
       "       [2288, 2162, 2050, ..., 1008, 1005,    0],\n",
       "       [1953,  807,  910, ...,  791, 1694,    0],\n",
       "       [2290, 1431,  414, ..., 1863,  947,    0]], dtype=int64)"
      ]
     },
     "execution_count": 70,
     "metadata": {},
     "output_type": "execute_result"
    }
   ],
   "source": [
    "genre_cs"
   ]
  },
  {
   "cell_type": "code",
   "execution_count": 71,
   "metadata": {
    "ExecuteTime": {
     "end_time": "2020-12-21T07:16:59.300807Z",
     "start_time": "2020-12-21T07:16:59.291195Z"
    }
   },
   "outputs": [
    {
     "data": {
      "text/plain": [
       "(2291, 2291)"
      ]
     },
     "execution_count": 71,
     "metadata": {},
     "output_type": "execute_result"
    }
   ],
   "source": [
    "genre_cs.shape"
   ]
  },
  {
   "cell_type": "code",
   "execution_count": 72,
   "metadata": {
    "ExecuteTime": {
     "end_time": "2020-12-21T07:16:59.359258Z",
     "start_time": "2020-12-21T07:16:59.302805Z"
    }
   },
   "outputs": [
    {
     "data": {
      "text/html": [
       "<div>\n",
       "<style scoped>\n",
       "    .dataframe tbody tr th:only-of-type {\n",
       "        vertical-align: middle;\n",
       "    }\n",
       "\n",
       "    .dataframe tbody tr th {\n",
       "        vertical-align: top;\n",
       "    }\n",
       "\n",
       "    .dataframe thead th {\n",
       "        text-align: right;\n",
       "    }\n",
       "</style>\n",
       "<table border=\"1\" class=\"dataframe\">\n",
       "  <thead>\n",
       "    <tr style=\"text-align: right;\">\n",
       "      <th></th>\n",
       "      <th>genres</th>\n",
       "      <th>id</th>\n",
       "      <th>original_language</th>\n",
       "      <th>overview</th>\n",
       "      <th>popularity</th>\n",
       "      <th>spoken_languages</th>\n",
       "      <th>title</th>\n",
       "      <th>vote_average</th>\n",
       "      <th>vote_count</th>\n",
       "      <th>score</th>\n",
       "      <th>cast</th>\n",
       "      <th>crew</th>\n",
       "      <th>keywords</th>\n",
       "      <th>movieId</th>\n",
       "      <th>rating</th>\n",
       "    </tr>\n",
       "  </thead>\n",
       "  <tbody>\n",
       "    <tr>\n",
       "      <th>1135</th>\n",
       "      <td>Drama Action Crime Thriller</td>\n",
       "      <td>155</td>\n",
       "      <td>en</td>\n",
       "      <td>Batman raises the stakes in his war on crime. ...</td>\n",
       "      <td>123.167259</td>\n",
       "      <td>English 普通话</td>\n",
       "      <td>The Dark Knight</td>\n",
       "      <td>8.3</td>\n",
       "      <td>12269</td>\n",
       "      <td>8.208376</td>\n",
       "      <td>ChristianBale MichaelCaine HeathLedger AaronEc...</td>\n",
       "      <td>ChristopherNolan</td>\n",
       "      <td>dc comics crime fighter secret identity scarec...</td>\n",
       "      <td>58559</td>\n",
       "      <td>4.182071</td>\n",
       "    </tr>\n",
       "    <tr>\n",
       "      <th>576</th>\n",
       "      <td>Action Crime Drama Thriller</td>\n",
       "      <td>111</td>\n",
       "      <td>en</td>\n",
       "      <td>After getting a green card in exchange for ass...</td>\n",
       "      <td>11.299673</td>\n",
       "      <td>English Español</td>\n",
       "      <td>Scarface</td>\n",
       "      <td>8.0</td>\n",
       "      <td>3017</td>\n",
       "      <td>7.700463</td>\n",
       "      <td>AlPacino StevenBauer MichellePfeiffer MaryEliz...</td>\n",
       "      <td>BrianDePalma</td>\n",
       "      <td>miami corruption capitalism cuba prohibition b...</td>\n",
       "      <td>4262</td>\n",
       "      <td>3.936454</td>\n",
       "    </tr>\n",
       "    <tr>\n",
       "      <th>793</th>\n",
       "      <td>Action Crime Thriller</td>\n",
       "      <td>393</td>\n",
       "      <td>en</td>\n",
       "      <td>The Bride unwaveringly continues on her roarin...</td>\n",
       "      <td>21.533072</td>\n",
       "      <td>English 普通话 Español 广州话 / 廣州話</td>\n",
       "      <td>Kill Bill: Vol. 2</td>\n",
       "      <td>7.7</td>\n",
       "      <td>4061</td>\n",
       "      <td>7.498999</td>\n",
       "      <td>UmaThurman DavidCarradine DarylHannah MichaelM...</td>\n",
       "      <td>QuentinTarantino</td>\n",
       "      <td>brother brother relationship swordplay katana ...</td>\n",
       "      <td>7438</td>\n",
       "      <td>3.831550</td>\n",
       "    </tr>\n",
       "    <tr>\n",
       "      <th>2</th>\n",
       "      <td>Action Crime Drama Thriller</td>\n",
       "      <td>949</td>\n",
       "      <td>en</td>\n",
       "      <td>Obsessive master thief, Neil McCauley leads a ...</td>\n",
       "      <td>17.924927</td>\n",
       "      <td>English Español</td>\n",
       "      <td>Heat</td>\n",
       "      <td>7.7</td>\n",
       "      <td>1886</td>\n",
       "      <td>7.310560</td>\n",
       "      <td>AlPacino RobertDeNiro ValKilmer JonVoight TomS...</td>\n",
       "      <td>MichaelMann</td>\n",
       "      <td>robbery detective bank obsession chase shootin...</td>\n",
       "      <td>6</td>\n",
       "      <td>3.841764</td>\n",
       "    </tr>\n",
       "    <tr>\n",
       "      <th>1485</th>\n",
       "      <td>Drama Action Thriller Crime</td>\n",
       "      <td>64690</td>\n",
       "      <td>en</td>\n",
       "      <td>A Hollywood stunt performer who moonlights as ...</td>\n",
       "      <td>15.388875</td>\n",
       "      <td>English</td>\n",
       "      <td>Drive</td>\n",
       "      <td>7.4</td>\n",
       "      <td>3832</td>\n",
       "      <td>7.218729</td>\n",
       "      <td>RyanGosling CareyMulligan BryanCranston Albert...</td>\n",
       "      <td>NicolasWindingRefn</td>\n",
       "      <td>stuntman blood splatter independent film polic...</td>\n",
       "      <td>88129</td>\n",
       "      <td>3.814720</td>\n",
       "    </tr>\n",
       "    <tr>\n",
       "      <th>63</th>\n",
       "      <td>Action Crime Drama Thriller</td>\n",
       "      <td>6075</td>\n",
       "      <td>en</td>\n",
       "      <td>A Puerto-Rican ex-con, just released from pris...</td>\n",
       "      <td>8.698509</td>\n",
       "      <td>English Español</td>\n",
       "      <td>Carlito's Way</td>\n",
       "      <td>7.7</td>\n",
       "      <td>805</td>\n",
       "      <td>6.970782</td>\n",
       "      <td>AlPacino SeanPenn PenelopeAnnMiller JohnLeguiz...</td>\n",
       "      <td>BrianDePalma</td>\n",
       "      <td>prison 1970s puerto rican release from prison ...</td>\n",
       "      <td>431</td>\n",
       "      <td>3.698139</td>\n",
       "    </tr>\n",
       "    <tr>\n",
       "      <th>611</th>\n",
       "      <td>Action Crime Drama Thriller</td>\n",
       "      <td>2034</td>\n",
       "      <td>en</td>\n",
       "      <td>On his first day on the job as a narcotics off...</td>\n",
       "      <td>13.664622</td>\n",
       "      <td>English Pусский Español 한국어/조선말</td>\n",
       "      <td>Training Day</td>\n",
       "      <td>7.3</td>\n",
       "      <td>1665</td>\n",
       "      <td>6.952262</td>\n",
       "      <td>DenzelWashington EthanHawke ScottGlenn TomBere...</td>\n",
       "      <td>AntoineFuqua</td>\n",
       "      <td>police brutality war on drugs drug traffic dru...</td>\n",
       "      <td>4776</td>\n",
       "      <td>3.705817</td>\n",
       "    </tr>\n",
       "    <tr>\n",
       "      <th>796</th>\n",
       "      <td>Action Drama Thriller Crime</td>\n",
       "      <td>9509</td>\n",
       "      <td>en</td>\n",
       "      <td>Jaded ex-CIA operative John Creasy reluctantly...</td>\n",
       "      <td>9.635691</td>\n",
       "      <td>English Español</td>\n",
       "      <td>Man on Fire</td>\n",
       "      <td>7.3</td>\n",
       "      <td>1583</td>\n",
       "      <td>6.938125</td>\n",
       "      <td>DenzelWashington DakotaFanning MarcAnthony Rad...</td>\n",
       "      <td>TonyScott</td>\n",
       "      <td>mexico cia kidnapping diary bible bodyguard st...</td>\n",
       "      <td>7445</td>\n",
       "      <td>3.806181</td>\n",
       "    </tr>\n",
       "    <tr>\n",
       "      <th>195</th>\n",
       "      <td>Drama Action Thriller Crime</td>\n",
       "      <td>832</td>\n",
       "      <td>de</td>\n",
       "      <td>In this classic German thriller, Hans Beckert,...</td>\n",
       "      <td>12.752421</td>\n",
       "      <td>Deutsch</td>\n",
       "      <td>M</td>\n",
       "      <td>8.0</td>\n",
       "      <td>465</td>\n",
       "      <td>6.850165</td>\n",
       "      <td>PeterLorre EllenWidmann IngeLandgut OttoWernic...</td>\n",
       "      <td>FritzLang</td>\n",
       "      <td>germany berlin underworld child murderer detec...</td>\n",
       "      <td>1260</td>\n",
       "      <td>4.163554</td>\n",
       "    </tr>\n",
       "    <tr>\n",
       "      <th>1227</th>\n",
       "      <td>Action Crime Drama Thriller</td>\n",
       "      <td>13804</td>\n",
       "      <td>en</td>\n",
       "      <td>When a crime brings them back to L.A., fugitiv...</td>\n",
       "      <td>1.498902</td>\n",
       "      <td>English</td>\n",
       "      <td>Fast &amp; Furious</td>\n",
       "      <td>6.5</td>\n",
       "      <td>2426</td>\n",
       "      <td>6.366188</td>\n",
       "      <td>VinDiesel PaulWalker MichelleRodriguez Jordana...</td>\n",
       "      <td>JustinLin</td>\n",
       "      <td>gambling brother sister relationship ex-lover ...</td>\n",
       "      <td>67923</td>\n",
       "      <td>3.216334</td>\n",
       "    </tr>\n",
       "  </tbody>\n",
       "</table>\n",
       "</div>"
      ],
      "text/plain": [
       "                           genres     id original_language  \\\n",
       "1135  Drama Action Crime Thriller    155                en   \n",
       "576   Action Crime Drama Thriller    111                en   \n",
       "793         Action Crime Thriller    393                en   \n",
       "2     Action Crime Drama Thriller    949                en   \n",
       "1485  Drama Action Thriller Crime  64690                en   \n",
       "63    Action Crime Drama Thriller   6075                en   \n",
       "611   Action Crime Drama Thriller   2034                en   \n",
       "796   Action Drama Thriller Crime   9509                en   \n",
       "195   Drama Action Thriller Crime    832                de   \n",
       "1227  Action Crime Drama Thriller  13804                en   \n",
       "\n",
       "                                               overview  popularity  \\\n",
       "1135  Batman raises the stakes in his war on crime. ...  123.167259   \n",
       "576   After getting a green card in exchange for ass...   11.299673   \n",
       "793   The Bride unwaveringly continues on her roarin...   21.533072   \n",
       "2     Obsessive master thief, Neil McCauley leads a ...   17.924927   \n",
       "1485  A Hollywood stunt performer who moonlights as ...   15.388875   \n",
       "63    A Puerto-Rican ex-con, just released from pris...    8.698509   \n",
       "611   On his first day on the job as a narcotics off...   13.664622   \n",
       "796   Jaded ex-CIA operative John Creasy reluctantly...    9.635691   \n",
       "195   In this classic German thriller, Hans Beckert,...   12.752421   \n",
       "1227  When a crime brings them back to L.A., fugitiv...    1.498902   \n",
       "\n",
       "                     spoken_languages              title  vote_average  \\\n",
       "1135                      English 普通话    The Dark Knight           8.3   \n",
       "576                   English Español           Scarface           8.0   \n",
       "793     English 普通话 Español 广州话 / 廣州話  Kill Bill: Vol. 2           7.7   \n",
       "2                     English Español               Heat           7.7   \n",
       "1485                          English              Drive           7.4   \n",
       "63                    English Español      Carlito's Way           7.7   \n",
       "611   English Pусский Español 한국어/조선말       Training Day           7.3   \n",
       "796                   English Español        Man on Fire           7.3   \n",
       "195                           Deutsch                  M           8.0   \n",
       "1227                          English     Fast & Furious           6.5   \n",
       "\n",
       "      vote_count     score                                               cast  \\\n",
       "1135       12269  8.208376  ChristianBale MichaelCaine HeathLedger AaronEc...   \n",
       "576         3017  7.700463  AlPacino StevenBauer MichellePfeiffer MaryEliz...   \n",
       "793         4061  7.498999  UmaThurman DavidCarradine DarylHannah MichaelM...   \n",
       "2           1886  7.310560  AlPacino RobertDeNiro ValKilmer JonVoight TomS...   \n",
       "1485        3832  7.218729  RyanGosling CareyMulligan BryanCranston Albert...   \n",
       "63           805  6.970782  AlPacino SeanPenn PenelopeAnnMiller JohnLeguiz...   \n",
       "611         1665  6.952262  DenzelWashington EthanHawke ScottGlenn TomBere...   \n",
       "796         1583  6.938125  DenzelWashington DakotaFanning MarcAnthony Rad...   \n",
       "195          465  6.850165  PeterLorre EllenWidmann IngeLandgut OttoWernic...   \n",
       "1227        2426  6.366188  VinDiesel PaulWalker MichelleRodriguez Jordana...   \n",
       "\n",
       "                    crew                                           keywords  \\\n",
       "1135    ChristopherNolan  dc comics crime fighter secret identity scarec...   \n",
       "576         BrianDePalma  miami corruption capitalism cuba prohibition b...   \n",
       "793     QuentinTarantino  brother brother relationship swordplay katana ...   \n",
       "2            MichaelMann  robbery detective bank obsession chase shootin...   \n",
       "1485  NicolasWindingRefn  stuntman blood splatter independent film polic...   \n",
       "63          BrianDePalma  prison 1970s puerto rican release from prison ...   \n",
       "611         AntoineFuqua  police brutality war on drugs drug traffic dru...   \n",
       "796            TonyScott  mexico cia kidnapping diary bible bodyguard st...   \n",
       "195            FritzLang  germany berlin underworld child murderer detec...   \n",
       "1227           JustinLin  gambling brother sister relationship ex-lover ...   \n",
       "\n",
       "      movieId    rating  \n",
       "1135    58559  4.182071  \n",
       "576      4262  3.936454  \n",
       "793      7438  3.831550  \n",
       "2           6  3.841764  \n",
       "1485    88129  3.814720  \n",
       "63        431  3.698139  \n",
       "611      4776  3.705817  \n",
       "796      7445  3.806181  \n",
       "195      1260  4.163554  \n",
       "1227    67923  3.216334  "
      ]
     },
     "execution_count": 72,
     "metadata": {},
     "output_type": "execute_result"
    }
   ],
   "source": [
    "tf_lk = get_recommend_movie_list(data, genre_cs, movie_title='The Dark Knight Rises')\n",
    "tf_lk"
   ]
  },
  {
   "cell_type": "code",
   "execution_count": 73,
   "metadata": {
    "ExecuteTime": {
     "end_time": "2020-12-21T07:16:59.372752Z",
     "start_time": "2020-12-21T07:16:59.360255Z"
    }
   },
   "outputs": [
    {
     "data": {
      "text/plain": [
       "True"
      ]
     },
     "execution_count": 73,
     "metadata": {},
     "output_type": "execute_result"
    }
   ],
   "source": [
    "sorted(tf_cs['id']) == sorted(tf_lk['id'])"
   ]
  },
  {
   "cell_type": "code",
   "execution_count": 74,
   "metadata": {
    "ExecuteTime": {
     "end_time": "2020-12-21T07:16:59.415186Z",
     "start_time": "2020-12-21T07:16:59.376952Z"
    }
   },
   "outputs": [
    {
     "data": {
      "text/html": [
       "<div>\n",
       "<style scoped>\n",
       "    .dataframe tbody tr th:only-of-type {\n",
       "        vertical-align: middle;\n",
       "    }\n",
       "\n",
       "    .dataframe tbody tr th {\n",
       "        vertical-align: top;\n",
       "    }\n",
       "\n",
       "    .dataframe thead th {\n",
       "        text-align: right;\n",
       "    }\n",
       "</style>\n",
       "<table border=\"1\" class=\"dataframe\">\n",
       "  <thead>\n",
       "    <tr style=\"text-align: right;\">\n",
       "      <th></th>\n",
       "      <th>genres</th>\n",
       "      <th>id</th>\n",
       "      <th>original_language</th>\n",
       "      <th>overview</th>\n",
       "      <th>popularity</th>\n",
       "      <th>spoken_languages</th>\n",
       "      <th>title</th>\n",
       "      <th>vote_average</th>\n",
       "      <th>vote_count</th>\n",
       "      <th>score</th>\n",
       "      <th>cast</th>\n",
       "      <th>crew</th>\n",
       "      <th>keywords</th>\n",
       "      <th>movieId</th>\n",
       "      <th>rating</th>\n",
       "    </tr>\n",
       "  </thead>\n",
       "  <tbody>\n",
       "    <tr>\n",
       "      <th>1504</th>\n",
       "      <td>ScienceFiction Action Adventure</td>\n",
       "      <td>24428</td>\n",
       "      <td>en</td>\n",
       "      <td>When an unexpected enemy emerges and threatens...</td>\n",
       "      <td>89.887648</td>\n",
       "      <td>English</td>\n",
       "      <td>The Avengers</td>\n",
       "      <td>7.4</td>\n",
       "      <td>12000</td>\n",
       "      <td>7.337808</td>\n",
       "      <td>RobertDowneyJr. ChrisEvans MarkRuffalo ChrisHe...</td>\n",
       "      <td>JossWhedon</td>\n",
       "      <td>new york shield marvel comic superhero based o...</td>\n",
       "      <td>89745</td>\n",
       "      <td>3.816396</td>\n",
       "    </tr>\n",
       "  </tbody>\n",
       "</table>\n",
       "</div>"
      ],
      "text/plain": [
       "                               genres     id original_language  \\\n",
       "1504  ScienceFiction Action Adventure  24428                en   \n",
       "\n",
       "                                               overview  popularity  \\\n",
       "1504  When an unexpected enemy emerges and threatens...   89.887648   \n",
       "\n",
       "     spoken_languages         title  vote_average  vote_count     score  \\\n",
       "1504          English  The Avengers           7.4       12000  7.337808   \n",
       "\n",
       "                                                   cast        crew  \\\n",
       "1504  RobertDowneyJr. ChrisEvans MarkRuffalo ChrisHe...  JossWhedon   \n",
       "\n",
       "                                               keywords  movieId    rating  \n",
       "1504  new york shield marvel comic superhero based o...    89745  3.816396  "
      ]
     },
     "execution_count": 74,
     "metadata": {},
     "output_type": "execute_result"
    }
   ],
   "source": [
    "data[data['title'] == 'The Avengers']"
   ]
  },
  {
   "cell_type": "code",
   "execution_count": 75,
   "metadata": {
    "ExecuteTime": {
     "end_time": "2020-12-21T07:16:59.474355Z",
     "start_time": "2020-12-21T07:16:59.416683Z"
    }
   },
   "outputs": [
    {
     "data": {
      "text/html": [
       "<div>\n",
       "<style scoped>\n",
       "    .dataframe tbody tr th:only-of-type {\n",
       "        vertical-align: middle;\n",
       "    }\n",
       "\n",
       "    .dataframe tbody tr th {\n",
       "        vertical-align: top;\n",
       "    }\n",
       "\n",
       "    .dataframe thead th {\n",
       "        text-align: right;\n",
       "    }\n",
       "</style>\n",
       "<table border=\"1\" class=\"dataframe\">\n",
       "  <thead>\n",
       "    <tr style=\"text-align: right;\">\n",
       "      <th></th>\n",
       "      <th>genres</th>\n",
       "      <th>id</th>\n",
       "      <th>original_language</th>\n",
       "      <th>overview</th>\n",
       "      <th>popularity</th>\n",
       "      <th>spoken_languages</th>\n",
       "      <th>title</th>\n",
       "      <th>vote_average</th>\n",
       "      <th>vote_count</th>\n",
       "      <th>score</th>\n",
       "      <th>cast</th>\n",
       "      <th>crew</th>\n",
       "      <th>keywords</th>\n",
       "      <th>movieId</th>\n",
       "      <th>rating</th>\n",
       "    </tr>\n",
       "  </thead>\n",
       "  <tbody>\n",
       "    <tr>\n",
       "      <th>159</th>\n",
       "      <td>Adventure Action ScienceFiction</td>\n",
       "      <td>1891</td>\n",
       "      <td>en</td>\n",
       "      <td>The epic saga continues as Luke Skywalker, in ...</td>\n",
       "      <td>19.470959</td>\n",
       "      <td>English</td>\n",
       "      <td>The Empire Strikes Back</td>\n",
       "      <td>8.2</td>\n",
       "      <td>5998</td>\n",
       "      <td>8.025793</td>\n",
       "      <td>MarkHamill HarrisonFord CarrieFisher BillyDeeW...</td>\n",
       "      <td>IrvinKershner</td>\n",
       "      <td>rebel android asteroid space battle snow storm...</td>\n",
       "      <td>1196</td>\n",
       "      <td>4.142536</td>\n",
       "    </tr>\n",
       "    <tr>\n",
       "      <th>1870</th>\n",
       "      <td>Action ScienceFiction Adventure</td>\n",
       "      <td>118340</td>\n",
       "      <td>en</td>\n",
       "      <td>Light years from Earth, 26 years after being a...</td>\n",
       "      <td>53.291601</td>\n",
       "      <td>English</td>\n",
       "      <td>Guardians of the Galaxy</td>\n",
       "      <td>7.9</td>\n",
       "      <td>10014</td>\n",
       "      <td>7.805216</td>\n",
       "      <td>ChrisPratt ZoeSaldana DaveBautista VinDiesel B...</td>\n",
       "      <td>JamesGunn</td>\n",
       "      <td>marvel comic spaceship space outer space orpha...</td>\n",
       "      <td>112852</td>\n",
       "      <td>3.927768</td>\n",
       "    </tr>\n",
       "    <tr>\n",
       "      <th>171</th>\n",
       "      <td>Adventure Action ScienceFiction</td>\n",
       "      <td>1892</td>\n",
       "      <td>en</td>\n",
       "      <td>As Rebel leaders map their strategy for an all...</td>\n",
       "      <td>14.586087</td>\n",
       "      <td>English</td>\n",
       "      <td>Return of the Jedi</td>\n",
       "      <td>7.9</td>\n",
       "      <td>4763</td>\n",
       "      <td>7.709447</td>\n",
       "      <td>MarkHamill HarrisonFord CarrieFisher BillyDeeW...</td>\n",
       "      <td>RichardMarquand</td>\n",
       "      <td>rebel brother sister relationship emperor spac...</td>\n",
       "      <td>1210</td>\n",
       "      <td>3.989612</td>\n",
       "    </tr>\n",
       "    <tr>\n",
       "      <th>1781</th>\n",
       "      <td>Adventure Action ScienceFiction</td>\n",
       "      <td>101299</td>\n",
       "      <td>en</td>\n",
       "      <td>Katniss Everdeen has returned home safe after ...</td>\n",
       "      <td>25.309139</td>\n",
       "      <td>English</td>\n",
       "      <td>The Hunger Games: Catching Fire</td>\n",
       "      <td>7.4</td>\n",
       "      <td>6656</td>\n",
       "      <td>7.290931</td>\n",
       "      <td>JenniferLawrence JoshHutcherson LiamHemsworth ...</td>\n",
       "      <td>FrancisLawrence</td>\n",
       "      <td>competition based on novel mentor secret facto...</td>\n",
       "      <td>106487</td>\n",
       "      <td>3.544752</td>\n",
       "    </tr>\n",
       "    <tr>\n",
       "      <th>2237</th>\n",
       "      <td>Action Adventure ScienceFiction</td>\n",
       "      <td>330459</td>\n",
       "      <td>en</td>\n",
       "      <td>A rogue band of resistance fighters unite for ...</td>\n",
       "      <td>36.567575</td>\n",
       "      <td>English</td>\n",
       "      <td>Rogue One: A Star Wars Story</td>\n",
       "      <td>7.4</td>\n",
       "      <td>5111</td>\n",
       "      <td>7.260541</td>\n",
       "      <td>FelicityJones DiegoLuna BenMendelsohn DonnieYe...</td>\n",
       "      <td>GarethEdwards</td>\n",
       "      <td>rebel space battle space travel war prequel sp...</td>\n",
       "      <td>166528</td>\n",
       "      <td>3.877362</td>\n",
       "    </tr>\n",
       "    <tr>\n",
       "      <th>1235</th>\n",
       "      <td>ScienceFiction Action Adventure</td>\n",
       "      <td>13475</td>\n",
       "      <td>en</td>\n",
       "      <td>The fate of the galaxy rests in the hands of b...</td>\n",
       "      <td>15.362632</td>\n",
       "      <td>English</td>\n",
       "      <td>Star Trek</td>\n",
       "      <td>7.4</td>\n",
       "      <td>4574</td>\n",
       "      <td>7.245587</td>\n",
       "      <td>ChrisPine ZacharyQuinto LeonardNimoy EricBana ...</td>\n",
       "      <td>J.J.Abrams</td>\n",
       "      <td>spacecraft teleportation space mission parachu...</td>\n",
       "      <td>68358</td>\n",
       "      <td>3.872353</td>\n",
       "    </tr>\n",
       "    <tr>\n",
       "      <th>1700</th>\n",
       "      <td>Action Adventure ScienceFiction</td>\n",
       "      <td>54138</td>\n",
       "      <td>en</td>\n",
       "      <td>When the crew of the Enterprise is called back...</td>\n",
       "      <td>15.781290</td>\n",
       "      <td>English</td>\n",
       "      <td>Star Trek Into Darkness</td>\n",
       "      <td>7.4</td>\n",
       "      <td>4479</td>\n",
       "      <td>7.242601</td>\n",
       "      <td>ChrisPine ZacharyQuinto ZoeSaldana KarlUrban S...</td>\n",
       "      <td>J.J.Abrams</td>\n",
       "      <td>spacecraft friendship sequel futuristic space ...</td>\n",
       "      <td>102445</td>\n",
       "      <td>3.765821</td>\n",
       "    </tr>\n",
       "    <tr>\n",
       "      <th>1472</th>\n",
       "      <td>Action ScienceFiction Adventure</td>\n",
       "      <td>49538</td>\n",
       "      <td>en</td>\n",
       "      <td>Before Charles Xavier and Erik Lensherr took t...</td>\n",
       "      <td>0.738633</td>\n",
       "      <td>Deutsch English Español Français Pусский</td>\n",
       "      <td>X-Men: First Class</td>\n",
       "      <td>7.1</td>\n",
       "      <td>5252</td>\n",
       "      <td>6.986897</td>\n",
       "      <td>JamesMcAvoy MichaelFassbender JenniferLawrence...</td>\n",
       "      <td>MatthewVaughn</td>\n",
       "      <td>cia mutant mine marvel comic superhero based o...</td>\n",
       "      <td>87232</td>\n",
       "      <td>3.774063</td>\n",
       "    </tr>\n",
       "    <tr>\n",
       "      <th>897</th>\n",
       "      <td>ScienceFiction Adventure Action</td>\n",
       "      <td>1895</td>\n",
       "      <td>en</td>\n",
       "      <td>Years after the onset of the Clone Wars, the n...</td>\n",
       "      <td>13.165421</td>\n",
       "      <td>English</td>\n",
       "      <td>Star Wars: Episode III - Revenge of the Sith</td>\n",
       "      <td>7.1</td>\n",
       "      <td>4200</td>\n",
       "      <td>6.961221</td>\n",
       "      <td>EwanMcGregor NataliePortman HaydenChristensen ...</td>\n",
       "      <td>GeorgeLucas</td>\n",
       "      <td>showdown death star vision cult figure hatred ...</td>\n",
       "      <td>33493</td>\n",
       "      <td>3.414713</td>\n",
       "    </tr>\n",
       "    <tr>\n",
       "      <th>432</th>\n",
       "      <td>Action Adventure ScienceFiction</td>\n",
       "      <td>861</td>\n",
       "      <td>en</td>\n",
       "      <td>Construction worker Douglas Quaid discovers a ...</td>\n",
       "      <td>12.954444</td>\n",
       "      <td>English</td>\n",
       "      <td>Total Recall</td>\n",
       "      <td>7.1</td>\n",
       "      <td>1745</td>\n",
       "      <td>6.804864</td>\n",
       "      <td>ArnoldSchwarzenegger SharonStone RachelTicotin...</td>\n",
       "      <td>PaulVerhoeven</td>\n",
       "      <td>oxygen falsely accused resistance mars double ...</td>\n",
       "      <td>2916</td>\n",
       "      <td>3.591540</td>\n",
       "    </tr>\n",
       "  </tbody>\n",
       "</table>\n",
       "</div>"
      ],
      "text/plain": [
       "                               genres      id original_language  \\\n",
       "159   Adventure Action ScienceFiction    1891                en   \n",
       "1870  Action ScienceFiction Adventure  118340                en   \n",
       "171   Adventure Action ScienceFiction    1892                en   \n",
       "1781  Adventure Action ScienceFiction  101299                en   \n",
       "2237  Action Adventure ScienceFiction  330459                en   \n",
       "1235  ScienceFiction Action Adventure   13475                en   \n",
       "1700  Action Adventure ScienceFiction   54138                en   \n",
       "1472  Action ScienceFiction Adventure   49538                en   \n",
       "897   ScienceFiction Adventure Action    1895                en   \n",
       "432   Action Adventure ScienceFiction     861                en   \n",
       "\n",
       "                                               overview  popularity  \\\n",
       "159   The epic saga continues as Luke Skywalker, in ...   19.470959   \n",
       "1870  Light years from Earth, 26 years after being a...   53.291601   \n",
       "171   As Rebel leaders map their strategy for an all...   14.586087   \n",
       "1781  Katniss Everdeen has returned home safe after ...   25.309139   \n",
       "2237  A rogue band of resistance fighters unite for ...   36.567575   \n",
       "1235  The fate of the galaxy rests in the hands of b...   15.362632   \n",
       "1700  When the crew of the Enterprise is called back...   15.781290   \n",
       "1472  Before Charles Xavier and Erik Lensherr took t...    0.738633   \n",
       "897   Years after the onset of the Clone Wars, the n...   13.165421   \n",
       "432   Construction worker Douglas Quaid discovers a ...   12.954444   \n",
       "\n",
       "                              spoken_languages  \\\n",
       "159                                    English   \n",
       "1870                                   English   \n",
       "171                                    English   \n",
       "1781                                   English   \n",
       "2237                                   English   \n",
       "1235                                   English   \n",
       "1700                                   English   \n",
       "1472  Deutsch English Español Français Pусский   \n",
       "897                                    English   \n",
       "432                                    English   \n",
       "\n",
       "                                             title  vote_average  vote_count  \\\n",
       "159                        The Empire Strikes Back           8.2        5998   \n",
       "1870                       Guardians of the Galaxy           7.9       10014   \n",
       "171                             Return of the Jedi           7.9        4763   \n",
       "1781               The Hunger Games: Catching Fire           7.4        6656   \n",
       "2237                  Rogue One: A Star Wars Story           7.4        5111   \n",
       "1235                                     Star Trek           7.4        4574   \n",
       "1700                       Star Trek Into Darkness           7.4        4479   \n",
       "1472                            X-Men: First Class           7.1        5252   \n",
       "897   Star Wars: Episode III - Revenge of the Sith           7.1        4200   \n",
       "432                                   Total Recall           7.1        1745   \n",
       "\n",
       "         score                                               cast  \\\n",
       "159   8.025793  MarkHamill HarrisonFord CarrieFisher BillyDeeW...   \n",
       "1870  7.805216  ChrisPratt ZoeSaldana DaveBautista VinDiesel B...   \n",
       "171   7.709447  MarkHamill HarrisonFord CarrieFisher BillyDeeW...   \n",
       "1781  7.290931  JenniferLawrence JoshHutcherson LiamHemsworth ...   \n",
       "2237  7.260541  FelicityJones DiegoLuna BenMendelsohn DonnieYe...   \n",
       "1235  7.245587  ChrisPine ZacharyQuinto LeonardNimoy EricBana ...   \n",
       "1700  7.242601  ChrisPine ZacharyQuinto ZoeSaldana KarlUrban S...   \n",
       "1472  6.986897  JamesMcAvoy MichaelFassbender JenniferLawrence...   \n",
       "897   6.961221  EwanMcGregor NataliePortman HaydenChristensen ...   \n",
       "432   6.804864  ArnoldSchwarzenegger SharonStone RachelTicotin...   \n",
       "\n",
       "                 crew                                           keywords  \\\n",
       "159     IrvinKershner  rebel android asteroid space battle snow storm...   \n",
       "1870        JamesGunn  marvel comic spaceship space outer space orpha...   \n",
       "171   RichardMarquand  rebel brother sister relationship emperor spac...   \n",
       "1781  FrancisLawrence  competition based on novel mentor secret facto...   \n",
       "2237    GarethEdwards  rebel space battle space travel war prequel sp...   \n",
       "1235       J.J.Abrams  spacecraft teleportation space mission parachu...   \n",
       "1700       J.J.Abrams  spacecraft friendship sequel futuristic space ...   \n",
       "1472    MatthewVaughn  cia mutant mine marvel comic superhero based o...   \n",
       "897       GeorgeLucas  showdown death star vision cult figure hatred ...   \n",
       "432     PaulVerhoeven  oxygen falsely accused resistance mars double ...   \n",
       "\n",
       "      movieId    rating  \n",
       "159      1196  4.142536  \n",
       "1870   112852  3.927768  \n",
       "171      1210  3.989612  \n",
       "1781   106487  3.544752  \n",
       "2237   166528  3.877362  \n",
       "1235    68358  3.872353  \n",
       "1700   102445  3.765821  \n",
       "1472    87232  3.774063  \n",
       "897     33493  3.414713  \n",
       "432      2916  3.591540  "
      ]
     },
     "execution_count": 75,
     "metadata": {},
     "output_type": "execute_result"
    }
   ],
   "source": [
    "get_recommend_movie_list(data, genre_cs, movie_title='The Avengers')"
   ]
  },
  {
   "cell_type": "markdown",
   "metadata": {},
   "source": [
    "## overview"
   ]
  },
  {
   "cell_type": "code",
   "execution_count": 76,
   "metadata": {
    "ExecuteTime": {
     "end_time": "2020-12-21T07:16:59.892595Z",
     "start_time": "2020-12-21T07:16:59.475646Z"
    }
   },
   "outputs": [],
   "source": [
    "tfidf_overview = tfidf.fit_transform(data['overview'])"
   ]
  },
  {
   "cell_type": "code",
   "execution_count": 77,
   "metadata": {
    "ExecuteTime": {
     "end_time": "2020-12-21T07:16:59.906046Z",
     "start_time": "2020-12-21T07:16:59.896590Z"
    }
   },
   "outputs": [
    {
     "data": {
      "text/plain": [
       "(2291, 13570)"
      ]
     },
     "execution_count": 77,
     "metadata": {},
     "output_type": "execute_result"
    }
   ],
   "source": [
    "tfidf_overview.shape"
   ]
  },
  {
   "cell_type": "code",
   "execution_count": 78,
   "metadata": {
    "ExecuteTime": {
     "end_time": "2020-12-21T07:17:00.408946Z",
     "start_time": "2020-12-21T07:16:59.910681Z"
    }
   },
   "outputs": [],
   "source": [
    "#코사인 유사도를 구한 벡터를 미리 저장\n",
    "overview_cs = cosine_similarity(tfidf_overview, tfidf_overview).argsort()[:, ::-1]"
   ]
  },
  {
   "cell_type": "code",
   "execution_count": 79,
   "metadata": {
    "ExecuteTime": {
     "end_time": "2020-12-21T07:17:00.435296Z",
     "start_time": "2020-12-21T07:17:00.412981Z"
    }
   },
   "outputs": [
    {
     "data": {
      "text/plain": [
       "array([[   0, 1358,  460, ..., 1484, 1485, 1145],\n",
       "       [   1, 2024, 1636, ..., 1091, 1092,  954],\n",
       "       [   2, 1388,  930, ..., 1443, 1444,    0],\n",
       "       ...,\n",
       "       [2288,  866, 1230, ..., 1433, 1434,    0],\n",
       "       [2289, 1248, 1478, ..., 1451, 1452,    0],\n",
       "       [2290, 1412,  250, ..., 1094, 1095,    0]], dtype=int64)"
      ]
     },
     "execution_count": 79,
     "metadata": {},
     "output_type": "execute_result"
    }
   ],
   "source": [
    "overview_cs"
   ]
  },
  {
   "cell_type": "code",
   "execution_count": 80,
   "metadata": {
    "ExecuteTime": {
     "end_time": "2020-12-21T07:17:00.450633Z",
     "start_time": "2020-12-21T07:17:00.439282Z"
    }
   },
   "outputs": [
    {
     "data": {
      "text/plain": [
       "(2291, 2291)"
      ]
     },
     "execution_count": 80,
     "metadata": {},
     "output_type": "execute_result"
    }
   ],
   "source": [
    "overview_cs.shape"
   ]
  },
  {
   "cell_type": "code",
   "execution_count": 81,
   "metadata": {
    "ExecuteTime": {
     "end_time": "2020-12-21T07:17:00.476852Z",
     "start_time": "2020-12-21T07:17:00.452629Z"
    }
   },
   "outputs": [
    {
     "data": {
      "text/plain": [
       "1541    Following the death of District Attorney Harve...\n",
       "Name: overview, dtype: object"
      ]
     },
     "execution_count": 81,
     "metadata": {},
     "output_type": "execute_result"
    }
   ],
   "source": [
    "data[data['title'] == 'The Dark Knight Rises']['overview']"
   ]
  },
  {
   "cell_type": "code",
   "execution_count": 82,
   "metadata": {
    "ExecuteTime": {
     "end_time": "2020-12-21T07:17:00.538923Z",
     "start_time": "2020-12-21T07:17:00.480997Z"
    },
    "scrolled": false
   },
   "outputs": [
    {
     "data": {
      "text/html": [
       "<div>\n",
       "<style scoped>\n",
       "    .dataframe tbody tr th:only-of-type {\n",
       "        vertical-align: middle;\n",
       "    }\n",
       "\n",
       "    .dataframe tbody tr th {\n",
       "        vertical-align: top;\n",
       "    }\n",
       "\n",
       "    .dataframe thead th {\n",
       "        text-align: right;\n",
       "    }\n",
       "</style>\n",
       "<table border=\"1\" class=\"dataframe\">\n",
       "  <thead>\n",
       "    <tr style=\"text-align: right;\">\n",
       "      <th></th>\n",
       "      <th>genres</th>\n",
       "      <th>id</th>\n",
       "      <th>original_language</th>\n",
       "      <th>overview</th>\n",
       "      <th>popularity</th>\n",
       "      <th>spoken_languages</th>\n",
       "      <th>title</th>\n",
       "      <th>vote_average</th>\n",
       "      <th>vote_count</th>\n",
       "      <th>score</th>\n",
       "      <th>cast</th>\n",
       "      <th>crew</th>\n",
       "      <th>keywords</th>\n",
       "      <th>movieId</th>\n",
       "      <th>rating</th>\n",
       "    </tr>\n",
       "  </thead>\n",
       "  <tbody>\n",
       "    <tr>\n",
       "      <th>1135</th>\n",
       "      <td>Drama Action Crime Thriller</td>\n",
       "      <td>155</td>\n",
       "      <td>en</td>\n",
       "      <td>Batman raises the stakes in his war on crime. ...</td>\n",
       "      <td>123.167259</td>\n",
       "      <td>English 普通话</td>\n",
       "      <td>The Dark Knight</td>\n",
       "      <td>8.3</td>\n",
       "      <td>12269</td>\n",
       "      <td>8.208376</td>\n",
       "      <td>ChristianBale MichaelCaine HeathLedger AaronEc...</td>\n",
       "      <td>ChristopherNolan</td>\n",
       "      <td>dc comics crime fighter secret identity scarec...</td>\n",
       "      <td>58559</td>\n",
       "      <td>4.182071</td>\n",
       "    </tr>\n",
       "    <tr>\n",
       "      <th>902</th>\n",
       "      <td>Action Crime Drama</td>\n",
       "      <td>272</td>\n",
       "      <td>en</td>\n",
       "      <td>Driven by tragedy, billionaire Bruce Wayne ded...</td>\n",
       "      <td>28.505341</td>\n",
       "      <td>English اردو 普通话</td>\n",
       "      <td>Batman Begins</td>\n",
       "      <td>7.5</td>\n",
       "      <td>7511</td>\n",
       "      <td>7.397206</td>\n",
       "      <td>ChristianBale MichaelCaine LiamNeeson KatieHol...</td>\n",
       "      <td>ChristopherNolan</td>\n",
       "      <td>himalaya martial arts dc comics crime fighter ...</td>\n",
       "      <td>33794</td>\n",
       "      <td>3.944856</td>\n",
       "    </tr>\n",
       "    <tr>\n",
       "      <th>1856</th>\n",
       "      <td>Fantasy Action Adventure Animation Comedy Family</td>\n",
       "      <td>82702</td>\n",
       "      <td>en</td>\n",
       "      <td>The thrilling second chapter of the epic How T...</td>\n",
       "      <td>12.256689</td>\n",
       "      <td>English</td>\n",
       "      <td>How to Train Your Dragon 2</td>\n",
       "      <td>7.6</td>\n",
       "      <td>3163</td>\n",
       "      <td>7.360884</td>\n",
       "      <td>JayBaruchel GerardButler KristenWiig JonahHill...</td>\n",
       "      <td>DeanDeBlois</td>\n",
       "      <td>father son relationship wife husband relations...</td>\n",
       "      <td>112175</td>\n",
       "      <td>3.740234</td>\n",
       "    </tr>\n",
       "    <tr>\n",
       "      <th>1896</th>\n",
       "      <td>War Action</td>\n",
       "      <td>190859</td>\n",
       "      <td>en</td>\n",
       "      <td>U.S. Navy SEAL Chris Kyle takes his sole missi...</td>\n",
       "      <td>19.228561</td>\n",
       "      <td>English</td>\n",
       "      <td>American Sniper</td>\n",
       "      <td>7.4</td>\n",
       "      <td>4600</td>\n",
       "      <td>7.246384</td>\n",
       "      <td>BradleyCooper SiennaMiller KyleGallner ColeKon...</td>\n",
       "      <td>ClintEastwood</td>\n",
       "      <td>sniper biography iraq navy seal u.s. soldier</td>\n",
       "      <td>114662</td>\n",
       "      <td>3.474305</td>\n",
       "    </tr>\n",
       "    <tr>\n",
       "      <th>316</th>\n",
       "      <td>Drama ScienceFiction</td>\n",
       "      <td>19</td>\n",
       "      <td>de</td>\n",
       "      <td>In a futuristic city sharply divided between t...</td>\n",
       "      <td>14.487867</td>\n",
       "      <td>No Language</td>\n",
       "      <td>Metropolis</td>\n",
       "      <td>8.0</td>\n",
       "      <td>666</td>\n",
       "      <td>7.060271</td>\n",
       "      <td>BrigitteHelm AlfredAbel GustavFröhlich RudolfK...</td>\n",
       "      <td>FritzLang</td>\n",
       "      <td>man vs machine underground world inventor metr...</td>\n",
       "      <td>2010</td>\n",
       "      <td>3.974882</td>\n",
       "    </tr>\n",
       "    <tr>\n",
       "      <th>1282</th>\n",
       "      <td>Drama Crime Thriller</td>\n",
       "      <td>22803</td>\n",
       "      <td>en</td>\n",
       "      <td>A frustrated man decides to take justice into ...</td>\n",
       "      <td>16.639047</td>\n",
       "      <td>English</td>\n",
       "      <td>Law Abiding Citizen</td>\n",
       "      <td>7.2</td>\n",
       "      <td>1522</td>\n",
       "      <td>6.849028</td>\n",
       "      <td>JamieFoxx GerardButler ColmMeaney BruceMcGill ...</td>\n",
       "      <td>F.GaryGray</td>\n",
       "      <td>tattoo secret passage baseball bat deal explos...</td>\n",
       "      <td>71838</td>\n",
       "      <td>3.674976</td>\n",
       "    </tr>\n",
       "    <tr>\n",
       "      <th>2252</th>\n",
       "      <td>Action Animation Comedy Family Fantasy</td>\n",
       "      <td>324849</td>\n",
       "      <td>en</td>\n",
       "      <td>In the irreverent spirit of fun that made “The...</td>\n",
       "      <td>17.070748</td>\n",
       "      <td>English</td>\n",
       "      <td>The Lego Batman Movie</td>\n",
       "      <td>7.2</td>\n",
       "      <td>1473</td>\n",
       "      <td>6.840010</td>\n",
       "      <td>WillArnett ZachGalifianakis MichaelCera Rosari...</td>\n",
       "      <td>ChrisMcKay</td>\n",
       "      <td>superhero based on comic based on toy spin off...</td>\n",
       "      <td>167746</td>\n",
       "      <td>3.574866</td>\n",
       "    </tr>\n",
       "    <tr>\n",
       "      <th>86</th>\n",
       "      <td>Fantasy Action</td>\n",
       "      <td>268</td>\n",
       "      <td>en</td>\n",
       "      <td>The Dark Knight of Gotham City begins his war ...</td>\n",
       "      <td>19.106730</td>\n",
       "      <td>English Français</td>\n",
       "      <td>Batman</td>\n",
       "      <td>7.0</td>\n",
       "      <td>2145</td>\n",
       "      <td>6.767467</td>\n",
       "      <td>JackNicholson MichaelKeaton KimBasinger Michae...</td>\n",
       "      <td>TimBurton</td>\n",
       "      <td>double life dc comics dual identity chemical c...</td>\n",
       "      <td>592</td>\n",
       "      <td>3.384822</td>\n",
       "    </tr>\n",
       "    <tr>\n",
       "      <th>1200</th>\n",
       "      <td>Drama Romance</td>\n",
       "      <td>8055</td>\n",
       "      <td>en</td>\n",
       "      <td>The story of Michael Berg, a German lawyer who...</td>\n",
       "      <td>7.931732</td>\n",
       "      <td>English Deutsch ελληνικά Latin</td>\n",
       "      <td>The Reader</td>\n",
       "      <td>7.2</td>\n",
       "      <td>835</td>\n",
       "      <td>6.659022</td>\n",
       "      <td>KateWinslet RalphFiennes DavidKross JeanetteHa...</td>\n",
       "      <td>StephenDaldry</td>\n",
       "      <td>germany war crimes trial female prisoner teena...</td>\n",
       "      <td>64622</td>\n",
       "      <td>3.781915</td>\n",
       "    </tr>\n",
       "    <tr>\n",
       "      <th>484</th>\n",
       "      <td>Drama Thriller History</td>\n",
       "      <td>820</td>\n",
       "      <td>en</td>\n",
       "      <td>New Orleans District Attorney Jim Garrison dis...</td>\n",
       "      <td>13.813146</td>\n",
       "      <td>English Español</td>\n",
       "      <td>JFK</td>\n",
       "      <td>7.5</td>\n",
       "      <td>513</td>\n",
       "      <td>6.637591</td>\n",
       "      <td>KevinCostner TommyLeeJones GaryOldman KevinBac...</td>\n",
       "      <td>OliverStone</td>\n",
       "      <td>assassination cia homophobia new orleans vietn...</td>\n",
       "      <td>3386</td>\n",
       "      <td>3.651879</td>\n",
       "    </tr>\n",
       "  </tbody>\n",
       "</table>\n",
       "</div>"
      ],
      "text/plain": [
       "                                                genres      id  \\\n",
       "1135                       Drama Action Crime Thriller     155   \n",
       "902                                 Action Crime Drama     272   \n",
       "1856  Fantasy Action Adventure Animation Comedy Family   82702   \n",
       "1896                                        War Action  190859   \n",
       "316                               Drama ScienceFiction      19   \n",
       "1282                              Drama Crime Thriller   22803   \n",
       "2252            Action Animation Comedy Family Fantasy  324849   \n",
       "86                                      Fantasy Action     268   \n",
       "1200                                     Drama Romance    8055   \n",
       "484                             Drama Thriller History     820   \n",
       "\n",
       "     original_language                                           overview  \\\n",
       "1135                en  Batman raises the stakes in his war on crime. ...   \n",
       "902                 en  Driven by tragedy, billionaire Bruce Wayne ded...   \n",
       "1856                en  The thrilling second chapter of the epic How T...   \n",
       "1896                en  U.S. Navy SEAL Chris Kyle takes his sole missi...   \n",
       "316                 de  In a futuristic city sharply divided between t...   \n",
       "1282                en  A frustrated man decides to take justice into ...   \n",
       "2252                en  In the irreverent spirit of fun that made “The...   \n",
       "86                  en  The Dark Knight of Gotham City begins his war ...   \n",
       "1200                en  The story of Michael Berg, a German lawyer who...   \n",
       "484                 en  New Orleans District Attorney Jim Garrison dis...   \n",
       "\n",
       "      popularity                spoken_languages                       title  \\\n",
       "1135  123.167259                     English 普通话             The Dark Knight   \n",
       "902    28.505341                English اردو 普通话               Batman Begins   \n",
       "1856   12.256689                         English  How to Train Your Dragon 2   \n",
       "1896   19.228561                         English             American Sniper   \n",
       "316    14.487867                     No Language                  Metropolis   \n",
       "1282   16.639047                         English         Law Abiding Citizen   \n",
       "2252   17.070748                         English       The Lego Batman Movie   \n",
       "86     19.106730                English Français                      Batman   \n",
       "1200    7.931732  English Deutsch ελληνικά Latin                  The Reader   \n",
       "484    13.813146                 English Español                         JFK   \n",
       "\n",
       "      vote_average  vote_count     score  \\\n",
       "1135           8.3       12269  8.208376   \n",
       "902            7.5        7511  7.397206   \n",
       "1856           7.6        3163  7.360884   \n",
       "1896           7.4        4600  7.246384   \n",
       "316            8.0         666  7.060271   \n",
       "1282           7.2        1522  6.849028   \n",
       "2252           7.2        1473  6.840010   \n",
       "86             7.0        2145  6.767467   \n",
       "1200           7.2         835  6.659022   \n",
       "484            7.5         513  6.637591   \n",
       "\n",
       "                                                   cast              crew  \\\n",
       "1135  ChristianBale MichaelCaine HeathLedger AaronEc...  ChristopherNolan   \n",
       "902   ChristianBale MichaelCaine LiamNeeson KatieHol...  ChristopherNolan   \n",
       "1856  JayBaruchel GerardButler KristenWiig JonahHill...       DeanDeBlois   \n",
       "1896  BradleyCooper SiennaMiller KyleGallner ColeKon...     ClintEastwood   \n",
       "316   BrigitteHelm AlfredAbel GustavFröhlich RudolfK...         FritzLang   \n",
       "1282  JamieFoxx GerardButler ColmMeaney BruceMcGill ...        F.GaryGray   \n",
       "2252  WillArnett ZachGalifianakis MichaelCera Rosari...        ChrisMcKay   \n",
       "86    JackNicholson MichaelKeaton KimBasinger Michae...         TimBurton   \n",
       "1200  KateWinslet RalphFiennes DavidKross JeanetteHa...     StephenDaldry   \n",
       "484   KevinCostner TommyLeeJones GaryOldman KevinBac...       OliverStone   \n",
       "\n",
       "                                               keywords  movieId    rating  \n",
       "1135  dc comics crime fighter secret identity scarec...    58559  4.182071  \n",
       "902   himalaya martial arts dc comics crime fighter ...    33794  3.944856  \n",
       "1856  father son relationship wife husband relations...   112175  3.740234  \n",
       "1896       sniper biography iraq navy seal u.s. soldier   114662  3.474305  \n",
       "316   man vs machine underground world inventor metr...     2010  3.974882  \n",
       "1282  tattoo secret passage baseball bat deal explos...    71838  3.674976  \n",
       "2252  superhero based on comic based on toy spin off...   167746  3.574866  \n",
       "86    double life dc comics dual identity chemical c...      592  3.384822  \n",
       "1200  germany war crimes trial female prisoner teena...    64622  3.781915  \n",
       "484   assassination cia homophobia new orleans vietn...     3386  3.651879  "
      ]
     },
     "execution_count": 82,
     "metadata": {},
     "output_type": "execute_result"
    }
   ],
   "source": [
    "get_recommend_movie_list(data, overview_cs, movie_title='The Dark Knight Rises')"
   ]
  },
  {
   "cell_type": "code",
   "execution_count": 83,
   "metadata": {
    "ExecuteTime": {
     "end_time": "2020-12-21T07:17:00.567390Z",
     "start_time": "2020-12-21T07:17:00.542918Z"
    }
   },
   "outputs": [
    {
     "data": {
      "text/plain": [
       "1504    When an unexpected enemy emerges and threatens...\n",
       "Name: overview, dtype: object"
      ]
     },
     "execution_count": 83,
     "metadata": {},
     "output_type": "execute_result"
    }
   ],
   "source": [
    "data[data['title'] == 'The Avengers']['overview']"
   ]
  },
  {
   "cell_type": "code",
   "execution_count": 84,
   "metadata": {
    "ExecuteTime": {
     "end_time": "2020-12-21T07:17:00.652008Z",
     "start_time": "2020-12-21T07:17:00.571388Z"
    }
   },
   "outputs": [
    {
     "data": {
      "text/html": [
       "<div>\n",
       "<style scoped>\n",
       "    .dataframe tbody tr th:only-of-type {\n",
       "        vertical-align: middle;\n",
       "    }\n",
       "\n",
       "    .dataframe tbody tr th {\n",
       "        vertical-align: top;\n",
       "    }\n",
       "\n",
       "    .dataframe thead th {\n",
       "        text-align: right;\n",
       "    }\n",
       "</style>\n",
       "<table border=\"1\" class=\"dataframe\">\n",
       "  <thead>\n",
       "    <tr style=\"text-align: right;\">\n",
       "      <th></th>\n",
       "      <th>genres</th>\n",
       "      <th>id</th>\n",
       "      <th>original_language</th>\n",
       "      <th>overview</th>\n",
       "      <th>popularity</th>\n",
       "      <th>spoken_languages</th>\n",
       "      <th>title</th>\n",
       "      <th>vote_average</th>\n",
       "      <th>vote_count</th>\n",
       "      <th>score</th>\n",
       "      <th>cast</th>\n",
       "      <th>crew</th>\n",
       "      <th>keywords</th>\n",
       "      <th>movieId</th>\n",
       "      <th>rating</th>\n",
       "    </tr>\n",
       "  </thead>\n",
       "  <tbody>\n",
       "    <tr>\n",
       "      <th>1944</th>\n",
       "      <td>Crime Comedy Action Adventure</td>\n",
       "      <td>207703</td>\n",
       "      <td>en</td>\n",
       "      <td>The story of a super-secret spy organization t...</td>\n",
       "      <td>28.224212</td>\n",
       "      <td>English</td>\n",
       "      <td>Kingsman: The Secret Service</td>\n",
       "      <td>7.6</td>\n",
       "      <td>6069</td>\n",
       "      <td>7.467738</td>\n",
       "      <td>ColinFirth SamuelL.Jackson MarkStrong TaronEge...</td>\n",
       "      <td>MatthewVaughn</td>\n",
       "      <td>spy great britain secret organization secret a...</td>\n",
       "      <td>119145</td>\n",
       "      <td>3.805290</td>\n",
       "    </tr>\n",
       "    <tr>\n",
       "      <th>1958</th>\n",
       "      <td>Action Adventure ScienceFiction</td>\n",
       "      <td>99861</td>\n",
       "      <td>en</td>\n",
       "      <td>When Tony Stark tries to jumpstart a dormant p...</td>\n",
       "      <td>37.379420</td>\n",
       "      <td>English</td>\n",
       "      <td>Avengers: Age of Ultron</td>\n",
       "      <td>7.3</td>\n",
       "      <td>6908</td>\n",
       "      <td>7.200585</td>\n",
       "      <td>RobertDowneyJr. ChrisHemsworth MarkRuffalo Chr...</td>\n",
       "      <td>JossWhedon</td>\n",
       "      <td>marvel comic sequel superhero based on comic v...</td>\n",
       "      <td>122892</td>\n",
       "      <td>3.594980</td>\n",
       "    </tr>\n",
       "    <tr>\n",
       "      <th>1707</th>\n",
       "      <td>Thriller Crime</td>\n",
       "      <td>75656</td>\n",
       "      <td>en</td>\n",
       "      <td>An FBI agent and an Interpol detective track a...</td>\n",
       "      <td>17.852022</td>\n",
       "      <td>Français English</td>\n",
       "      <td>Now You See Me</td>\n",
       "      <td>7.3</td>\n",
       "      <td>5635</td>\n",
       "      <td>7.179733</td>\n",
       "      <td>JesseEisenberg MarkRuffalo WoodyHarrelson Méla...</td>\n",
       "      <td>LouisLeterrier</td>\n",
       "      <td>paris bank secret fbi vault magic new orleans ...</td>\n",
       "      <td>102903</td>\n",
       "      <td>3.664363</td>\n",
       "    </tr>\n",
       "    <tr>\n",
       "      <th>395</th>\n",
       "      <td>Comedy Crime</td>\n",
       "      <td>100</td>\n",
       "      <td>en</td>\n",
       "      <td>A card sharp and his unwillingly-enlisted frie...</td>\n",
       "      <td>4.607860</td>\n",
       "      <td>English</td>\n",
       "      <td>Lock, Stock and Two Smoking Barrels</td>\n",
       "      <td>7.5</td>\n",
       "      <td>1671</td>\n",
       "      <td>7.112018</td>\n",
       "      <td>JasonFlemyng DexterFletcher NickMoran JasonSta...</td>\n",
       "      <td>GuyRitchie</td>\n",
       "      <td>ambush alcohol shotgun tea joint machismo cock...</td>\n",
       "      <td>2542</td>\n",
       "      <td>4.010810</td>\n",
       "    </tr>\n",
       "    <tr>\n",
       "      <th>2108</th>\n",
       "      <td>Comedy Drama</td>\n",
       "      <td>318846</td>\n",
       "      <td>en</td>\n",
       "      <td>The men who made millions from a global econom...</td>\n",
       "      <td>13.143061</td>\n",
       "      <td>English</td>\n",
       "      <td>The Big Short</td>\n",
       "      <td>7.3</td>\n",
       "      <td>2679</td>\n",
       "      <td>7.065531</td>\n",
       "      <td>ChristianBale SteveCarell RyanGosling BradPitt...</td>\n",
       "      <td>AdamMcKay</td>\n",
       "      <td>bank fraud biography wall street finances base...</td>\n",
       "      <td>148626</td>\n",
       "      <td>4.005573</td>\n",
       "    </tr>\n",
       "    <tr>\n",
       "      <th>1387</th>\n",
       "      <td>Drama</td>\n",
       "      <td>37799</td>\n",
       "      <td>en</td>\n",
       "      <td>On a fall night in 2003, Harvard undergrad and...</td>\n",
       "      <td>16.972995</td>\n",
       "      <td>English</td>\n",
       "      <td>The Social Network</td>\n",
       "      <td>7.1</td>\n",
       "      <td>3492</td>\n",
       "      <td>6.936194</td>\n",
       "      <td>JesseEisenberg AndrewGarfield JustinTimberlake...</td>\n",
       "      <td>DavidFincher</td>\n",
       "      <td>hacker hacking creator frat party social netwo...</td>\n",
       "      <td>80463</td>\n",
       "      <td>3.773740</td>\n",
       "    </tr>\n",
       "    <tr>\n",
       "      <th>1852</th>\n",
       "      <td>Action Adventure Thriller</td>\n",
       "      <td>177677</td>\n",
       "      <td>en</td>\n",
       "      <td>Ethan and team take on their most impossible m...</td>\n",
       "      <td>17.836882</td>\n",
       "      <td>Deutsch English svenska</td>\n",
       "      <td>Mission: Impossible - Rogue Nation</td>\n",
       "      <td>7.1</td>\n",
       "      <td>3274</td>\n",
       "      <td>6.926564</td>\n",
       "      <td>TomCruise RebeccaFerguson SimonPegg JeremyRenn...</td>\n",
       "      <td>ChristopherMcQuarrie</td>\n",
       "      <td>london england spy austria villain sequel miss...</td>\n",
       "      <td>111781</td>\n",
       "      <td>3.609460</td>\n",
       "    </tr>\n",
       "    <tr>\n",
       "      <th>2016</th>\n",
       "      <td>Action Comedy ScienceFiction Fantasy</td>\n",
       "      <td>251516</td>\n",
       "      <td>en</td>\n",
       "      <td>During an unfortunate series of events, a frie...</td>\n",
       "      <td>7.741143</td>\n",
       "      <td>English Deutsch svenska</td>\n",
       "      <td>Kung Fury</td>\n",
       "      <td>7.6</td>\n",
       "      <td>762</td>\n",
       "      <td>6.880852</td>\n",
       "      <td>DavidSandberg JormaTaccone LeopoldNilsson Andr...</td>\n",
       "      <td>DavidSandberg</td>\n",
       "      <td>video game martial arts kung fu hacker nazis a...</td>\n",
       "      <td>134170</td>\n",
       "      <td>3.601395</td>\n",
       "    </tr>\n",
       "    <tr>\n",
       "      <th>2018</th>\n",
       "      <td>Action Comedy Crime</td>\n",
       "      <td>238713</td>\n",
       "      <td>en</td>\n",
       "      <td>A desk-bound CIA analyst volunteers to go unde...</td>\n",
       "      <td>13.257467</td>\n",
       "      <td>Deutsch English Français Italiano</td>\n",
       "      <td>Spy</td>\n",
       "      <td>6.9</td>\n",
       "      <td>2590</td>\n",
       "      <td>6.716038</td>\n",
       "      <td>MelissaMcCarthy JudeLaw RoseByrne JasonStatham...</td>\n",
       "      <td>PaulFeig</td>\n",
       "      <td>spy cia undercover arms dealer disaster female...</td>\n",
       "      <td>134368</td>\n",
       "      <td>3.567259</td>\n",
       "    </tr>\n",
       "    <tr>\n",
       "      <th>234</th>\n",
       "      <td>Crime Horror Mystery</td>\n",
       "      <td>4232</td>\n",
       "      <td>en</td>\n",
       "      <td>A killer known as Ghostface begins killing off...</td>\n",
       "      <td>13.326443</td>\n",
       "      <td>English</td>\n",
       "      <td>Scream</td>\n",
       "      <td>7.0</td>\n",
       "      <td>1520</td>\n",
       "      <td>6.693090</td>\n",
       "      <td>DavidArquette NeveCampbell CourteneyCox Matthe...</td>\n",
       "      <td>WesCraven</td>\n",
       "      <td>halloween gore serial killer slasher tabloid n...</td>\n",
       "      <td>1407</td>\n",
       "      <td>3.269929</td>\n",
       "    </tr>\n",
       "  </tbody>\n",
       "</table>\n",
       "</div>"
      ],
      "text/plain": [
       "                                    genres      id original_language  \\\n",
       "1944         Crime Comedy Action Adventure  207703                en   \n",
       "1958       Action Adventure ScienceFiction   99861                en   \n",
       "1707                        Thriller Crime   75656                en   \n",
       "395                           Comedy Crime     100                en   \n",
       "2108                          Comedy Drama  318846                en   \n",
       "1387                                 Drama   37799                en   \n",
       "1852             Action Adventure Thriller  177677                en   \n",
       "2016  Action Comedy ScienceFiction Fantasy  251516                en   \n",
       "2018                   Action Comedy Crime  238713                en   \n",
       "234                   Crime Horror Mystery    4232                en   \n",
       "\n",
       "                                               overview  popularity  \\\n",
       "1944  The story of a super-secret spy organization t...   28.224212   \n",
       "1958  When Tony Stark tries to jumpstart a dormant p...   37.379420   \n",
       "1707  An FBI agent and an Interpol detective track a...   17.852022   \n",
       "395   A card sharp and his unwillingly-enlisted frie...    4.607860   \n",
       "2108  The men who made millions from a global econom...   13.143061   \n",
       "1387  On a fall night in 2003, Harvard undergrad and...   16.972995   \n",
       "1852  Ethan and team take on their most impossible m...   17.836882   \n",
       "2016  During an unfortunate series of events, a frie...    7.741143   \n",
       "2018  A desk-bound CIA analyst volunteers to go unde...   13.257467   \n",
       "234   A killer known as Ghostface begins killing off...   13.326443   \n",
       "\n",
       "                       spoken_languages                                title  \\\n",
       "1944                            English         Kingsman: The Secret Service   \n",
       "1958                            English              Avengers: Age of Ultron   \n",
       "1707                   Français English                       Now You See Me   \n",
       "395                             English  Lock, Stock and Two Smoking Barrels   \n",
       "2108                            English                        The Big Short   \n",
       "1387                            English                   The Social Network   \n",
       "1852            Deutsch English svenska   Mission: Impossible - Rogue Nation   \n",
       "2016            English Deutsch svenska                            Kung Fury   \n",
       "2018  Deutsch English Français Italiano                                  Spy   \n",
       "234                             English                               Scream   \n",
       "\n",
       "      vote_average  vote_count     score  \\\n",
       "1944           7.6        6069  7.467738   \n",
       "1958           7.3        6908  7.200585   \n",
       "1707           7.3        5635  7.179733   \n",
       "395            7.5        1671  7.112018   \n",
       "2108           7.3        2679  7.065531   \n",
       "1387           7.1        3492  6.936194   \n",
       "1852           7.1        3274  6.926564   \n",
       "2016           7.6         762  6.880852   \n",
       "2018           6.9        2590  6.716038   \n",
       "234            7.0        1520  6.693090   \n",
       "\n",
       "                                                   cast                  crew  \\\n",
       "1944  ColinFirth SamuelL.Jackson MarkStrong TaronEge...         MatthewVaughn   \n",
       "1958  RobertDowneyJr. ChrisHemsworth MarkRuffalo Chr...            JossWhedon   \n",
       "1707  JesseEisenberg MarkRuffalo WoodyHarrelson Méla...        LouisLeterrier   \n",
       "395   JasonFlemyng DexterFletcher NickMoran JasonSta...            GuyRitchie   \n",
       "2108  ChristianBale SteveCarell RyanGosling BradPitt...             AdamMcKay   \n",
       "1387  JesseEisenberg AndrewGarfield JustinTimberlake...          DavidFincher   \n",
       "1852  TomCruise RebeccaFerguson SimonPegg JeremyRenn...  ChristopherMcQuarrie   \n",
       "2016  DavidSandberg JormaTaccone LeopoldNilsson Andr...         DavidSandberg   \n",
       "2018  MelissaMcCarthy JudeLaw RoseByrne JasonStatham...              PaulFeig   \n",
       "234   DavidArquette NeveCampbell CourteneyCox Matthe...             WesCraven   \n",
       "\n",
       "                                               keywords  movieId    rating  \n",
       "1944  spy great britain secret organization secret a...   119145  3.805290  \n",
       "1958  marvel comic sequel superhero based on comic v...   122892  3.594980  \n",
       "1707  paris bank secret fbi vault magic new orleans ...   102903  3.664363  \n",
       "395   ambush alcohol shotgun tea joint machismo cock...     2542  4.010810  \n",
       "2108  bank fraud biography wall street finances base...   148626  4.005573  \n",
       "1387  hacker hacking creator frat party social netwo...    80463  3.773740  \n",
       "1852  london england spy austria villain sequel miss...   111781  3.609460  \n",
       "2016  video game martial arts kung fu hacker nazis a...   134170  3.601395  \n",
       "2018  spy cia undercover arms dealer disaster female...   134368  3.567259  \n",
       "234   halloween gore serial killer slasher tabloid n...     1407  3.269929  "
      ]
     },
     "execution_count": 84,
     "metadata": {},
     "output_type": "execute_result"
    }
   ],
   "source": [
    "get_recommend_movie_list(data, overview_cs, movie_title='The Avengers')"
   ]
  },
  {
   "cell_type": "markdown",
   "metadata": {},
   "source": [
    "## keywords"
   ]
  },
  {
   "cell_type": "code",
   "execution_count": 85,
   "metadata": {
    "ExecuteTime": {
     "end_time": "2020-12-21T07:17:00.814554Z",
     "start_time": "2020-12-21T07:17:00.655409Z"
    }
   },
   "outputs": [],
   "source": [
    "tfidf_keywords = tfidf.fit_transform(data['keywords'])"
   ]
  },
  {
   "cell_type": "code",
   "execution_count": 86,
   "metadata": {
    "ExecuteTime": {
     "end_time": "2020-12-21T07:17:00.839115Z",
     "start_time": "2020-12-21T07:17:00.818546Z"
    }
   },
   "outputs": [
    {
     "data": {
      "text/plain": [
       "(2291, 5649)"
      ]
     },
     "execution_count": 86,
     "metadata": {},
     "output_type": "execute_result"
    }
   ],
   "source": [
    "tfidf_keywords.shape"
   ]
  },
  {
   "cell_type": "code",
   "execution_count": 87,
   "metadata": {
    "ExecuteTime": {
     "end_time": "2020-12-21T07:17:01.192704Z",
     "start_time": "2020-12-21T07:17:00.842109Z"
    }
   },
   "outputs": [],
   "source": [
    "#코사인 유사도를 구한 벡터를 미리 저장\n",
    "keywords_cs = cosine_similarity(tfidf_keywords, tfidf_keywords).argsort()[:, ::-1]"
   ]
  },
  {
   "cell_type": "code",
   "execution_count": 88,
   "metadata": {
    "ExecuteTime": {
     "end_time": "2020-12-21T07:17:01.206581Z",
     "start_time": "2020-12-21T07:17:01.196675Z"
    }
   },
   "outputs": [
    {
     "data": {
      "text/plain": [
       "array([[   0,  295, 1358, ..., 2107, 1343, 2290],\n",
       "       [   1, 1281, 1675, ..., 1272, 1273, 1011],\n",
       "       [   2, 2080, 2273, ..., 1429, 1432,    0],\n",
       "       ...,\n",
       "       [2288,  581, 1424, ..., 1495, 1496,    0],\n",
       "       [2289, 1069,  893, ..., 1536, 1537,    0],\n",
       "       [2290, 1813, 1849, ..., 1385, 1387,    0]], dtype=int64)"
      ]
     },
     "execution_count": 88,
     "metadata": {},
     "output_type": "execute_result"
    }
   ],
   "source": [
    "keywords_cs"
   ]
  },
  {
   "cell_type": "code",
   "execution_count": 89,
   "metadata": {
    "ExecuteTime": {
     "end_time": "2020-12-21T07:17:01.237737Z",
     "start_time": "2020-12-21T07:17:01.212663Z"
    }
   },
   "outputs": [
    {
     "data": {
      "text/plain": [
       "(2291, 2291)"
      ]
     },
     "execution_count": 89,
     "metadata": {},
     "output_type": "execute_result"
    }
   ],
   "source": [
    "keywords_cs.shape"
   ]
  },
  {
   "cell_type": "code",
   "execution_count": 90,
   "metadata": {
    "ExecuteTime": {
     "end_time": "2020-12-21T07:17:01.262869Z",
     "start_time": "2020-12-21T07:17:01.242692Z"
    }
   },
   "outputs": [
    {
     "data": {
      "text/plain": [
       "1541    dc comics crime fighter terrorist secret ident...\n",
       "Name: keywords, dtype: object"
      ]
     },
     "execution_count": 90,
     "metadata": {},
     "output_type": "execute_result"
    }
   ],
   "source": [
    "data[data['title'] == 'The Dark Knight Rises']['keywords']"
   ]
  },
  {
   "cell_type": "code",
   "execution_count": 91,
   "metadata": {
    "ExecuteTime": {
     "end_time": "2020-12-21T07:17:01.345242Z",
     "start_time": "2020-12-21T07:17:01.267015Z"
    },
    "scrolled": false
   },
   "outputs": [
    {
     "data": {
      "text/html": [
       "<div>\n",
       "<style scoped>\n",
       "    .dataframe tbody tr th:only-of-type {\n",
       "        vertical-align: middle;\n",
       "    }\n",
       "\n",
       "    .dataframe tbody tr th {\n",
       "        vertical-align: top;\n",
       "    }\n",
       "\n",
       "    .dataframe thead th {\n",
       "        text-align: right;\n",
       "    }\n",
       "</style>\n",
       "<table border=\"1\" class=\"dataframe\">\n",
       "  <thead>\n",
       "    <tr style=\"text-align: right;\">\n",
       "      <th></th>\n",
       "      <th>genres</th>\n",
       "      <th>id</th>\n",
       "      <th>original_language</th>\n",
       "      <th>overview</th>\n",
       "      <th>popularity</th>\n",
       "      <th>spoken_languages</th>\n",
       "      <th>title</th>\n",
       "      <th>vote_average</th>\n",
       "      <th>vote_count</th>\n",
       "      <th>score</th>\n",
       "      <th>cast</th>\n",
       "      <th>crew</th>\n",
       "      <th>keywords</th>\n",
       "      <th>movieId</th>\n",
       "      <th>rating</th>\n",
       "    </tr>\n",
       "  </thead>\n",
       "  <tbody>\n",
       "    <tr>\n",
       "      <th>1135</th>\n",
       "      <td>Drama Action Crime Thriller</td>\n",
       "      <td>155</td>\n",
       "      <td>en</td>\n",
       "      <td>Batman raises the stakes in his war on crime. ...</td>\n",
       "      <td>123.167259</td>\n",
       "      <td>English 普通话</td>\n",
       "      <td>The Dark Knight</td>\n",
       "      <td>8.3</td>\n",
       "      <td>12269</td>\n",
       "      <td>8.208376</td>\n",
       "      <td>ChristianBale MichaelCaine HeathLedger AaronEc...</td>\n",
       "      <td>ChristopherNolan</td>\n",
       "      <td>dc comics crime fighter secret identity scarec...</td>\n",
       "      <td>58559</td>\n",
       "      <td>4.182071</td>\n",
       "    </tr>\n",
       "    <tr>\n",
       "      <th>902</th>\n",
       "      <td>Action Crime Drama</td>\n",
       "      <td>272</td>\n",
       "      <td>en</td>\n",
       "      <td>Driven by tragedy, billionaire Bruce Wayne ded...</td>\n",
       "      <td>28.505341</td>\n",
       "      <td>English اردو 普通话</td>\n",
       "      <td>Batman Begins</td>\n",
       "      <td>7.5</td>\n",
       "      <td>7511</td>\n",
       "      <td>7.397206</td>\n",
       "      <td>ChristianBale MichaelCaine LiamNeeson KatieHol...</td>\n",
       "      <td>ChristopherNolan</td>\n",
       "      <td>himalaya martial arts dc comics crime fighter ...</td>\n",
       "      <td>33794</td>\n",
       "      <td>3.944856</td>\n",
       "    </tr>\n",
       "    <tr>\n",
       "      <th>354</th>\n",
       "      <td>Fantasy Drama Romance</td>\n",
       "      <td>162</td>\n",
       "      <td>en</td>\n",
       "      <td>A small suburban town receives a visit from a ...</td>\n",
       "      <td>17.612244</td>\n",
       "      <td>English</td>\n",
       "      <td>Edward Scissorhands</td>\n",
       "      <td>7.5</td>\n",
       "      <td>3731</td>\n",
       "      <td>7.303913</td>\n",
       "      <td>JohnnyDepp WinonaRyder DianneWiest AlanArkin A...</td>\n",
       "      <td>TimBurton</td>\n",
       "      <td>underdog love at first sight hairdresser small...</td>\n",
       "      <td>2291</td>\n",
       "      <td>3.722712</td>\n",
       "    </tr>\n",
       "    <tr>\n",
       "      <th>845</th>\n",
       "      <td>Action Adventure Animation Family</td>\n",
       "      <td>9806</td>\n",
       "      <td>en</td>\n",
       "      <td>Bob Parr has given up his superhero days to lo...</td>\n",
       "      <td>22.220214</td>\n",
       "      <td>Français English</td>\n",
       "      <td>The Incredibles</td>\n",
       "      <td>7.4</td>\n",
       "      <td>5290</td>\n",
       "      <td>7.264902</td>\n",
       "      <td>CraigT.Nelson HollyHunter SamuelL.Jackson Jaso...</td>\n",
       "      <td>BradBird</td>\n",
       "      <td>secret identity secret hero island wretch supe...</td>\n",
       "      <td>8961</td>\n",
       "      <td>3.857842</td>\n",
       "    </tr>\n",
       "    <tr>\n",
       "      <th>2091</th>\n",
       "      <td>Action Adventure Fantasy</td>\n",
       "      <td>297762</td>\n",
       "      <td>en</td>\n",
       "      <td>An Amazon princess comes to the world of Man t...</td>\n",
       "      <td>294.337037</td>\n",
       "      <td>Deutsch English</td>\n",
       "      <td>Wonder Woman</td>\n",
       "      <td>7.2</td>\n",
       "      <td>5025</td>\n",
       "      <td>7.074244</td>\n",
       "      <td>GalGadot ChrisPine RobinWright DannyHuston Dav...</td>\n",
       "      <td>PattyJenkins</td>\n",
       "      <td>dc comics hero greek mythology island world wa...</td>\n",
       "      <td>143355</td>\n",
       "      <td>3.747344</td>\n",
       "    </tr>\n",
       "    <tr>\n",
       "      <th>1339</th>\n",
       "      <td>Action Crime</td>\n",
       "      <td>23483</td>\n",
       "      <td>en</td>\n",
       "      <td>Dave Lizewski is an unnoticed high school stud...</td>\n",
       "      <td>17.260450</td>\n",
       "      <td>English</td>\n",
       "      <td>Kick-Ass</td>\n",
       "      <td>7.1</td>\n",
       "      <td>4747</td>\n",
       "      <td>6.975873</td>\n",
       "      <td>AaronTaylor-Johnson ChloëGraceMoretz Christoph...</td>\n",
       "      <td>MatthewVaughn</td>\n",
       "      <td>crime fighter secret identity comic book super...</td>\n",
       "      <td>76251</td>\n",
       "      <td>3.650602</td>\n",
       "    </tr>\n",
       "    <tr>\n",
       "      <th>195</th>\n",
       "      <td>Drama Action Thriller Crime</td>\n",
       "      <td>832</td>\n",
       "      <td>de</td>\n",
       "      <td>In this classic German thriller, Hans Beckert,...</td>\n",
       "      <td>12.752421</td>\n",
       "      <td>Deutsch</td>\n",
       "      <td>M</td>\n",
       "      <td>8.0</td>\n",
       "      <td>465</td>\n",
       "      <td>6.850165</td>\n",
       "      <td>PeterLorre EllenWidmann IngeLandgut OttoWernic...</td>\n",
       "      <td>FritzLang</td>\n",
       "      <td>germany berlin underworld child murderer detec...</td>\n",
       "      <td>1260</td>\n",
       "      <td>4.163554</td>\n",
       "    </tr>\n",
       "    <tr>\n",
       "      <th>1160</th>\n",
       "      <td>Action Mystery ScienceFiction</td>\n",
       "      <td>13183</td>\n",
       "      <td>en</td>\n",
       "      <td>In a gritty and alternate 1985 the glory days ...</td>\n",
       "      <td>16.551503</td>\n",
       "      <td>English</td>\n",
       "      <td>Watchmen</td>\n",
       "      <td>7.0</td>\n",
       "      <td>2892</td>\n",
       "      <td>6.819693</td>\n",
       "      <td>MalinÅkerman BillyCrudup MatthewGoode JackieEa...</td>\n",
       "      <td>ZackSnyder</td>\n",
       "      <td>dc comics secret identity mass murder retireme...</td>\n",
       "      <td>60684</td>\n",
       "      <td>3.712461</td>\n",
       "    </tr>\n",
       "    <tr>\n",
       "      <th>86</th>\n",
       "      <td>Fantasy Action</td>\n",
       "      <td>268</td>\n",
       "      <td>en</td>\n",
       "      <td>The Dark Knight of Gotham City begins his war ...</td>\n",
       "      <td>19.106730</td>\n",
       "      <td>English Français</td>\n",
       "      <td>Batman</td>\n",
       "      <td>7.0</td>\n",
       "      <td>2145</td>\n",
       "      <td>6.767467</td>\n",
       "      <td>JackNicholson MichaelKeaton KimBasinger Michae...</td>\n",
       "      <td>TimBurton</td>\n",
       "      <td>double life dc comics dual identity chemical c...</td>\n",
       "      <td>592</td>\n",
       "      <td>3.384822</td>\n",
       "    </tr>\n",
       "    <tr>\n",
       "      <th>2150</th>\n",
       "      <td>Action Drama Comedy Thriller ScienceFiction</td>\n",
       "      <td>364433</td>\n",
       "      <td>it</td>\n",
       "      <td>Enzo Ceccotti comes into contact with a radioa...</td>\n",
       "      <td>10.649494</td>\n",
       "      <td>Italiano</td>\n",
       "      <td>They Call Me Jeeg Robot</td>\n",
       "      <td>7.5</td>\n",
       "      <td>575</td>\n",
       "      <td>6.690583</td>\n",
       "      <td>ClaudioSantamaria IleniaPastorelli LucaMarinel...</td>\n",
       "      <td>GabrieleMainetti</td>\n",
       "      <td>superhero</td>\n",
       "      <td>155078</td>\n",
       "      <td>3.732143</td>\n",
       "    </tr>\n",
       "  </tbody>\n",
       "</table>\n",
       "</div>"
      ],
      "text/plain": [
       "                                           genres      id original_language  \\\n",
       "1135                  Drama Action Crime Thriller     155                en   \n",
       "902                            Action Crime Drama     272                en   \n",
       "354                         Fantasy Drama Romance     162                en   \n",
       "845             Action Adventure Animation Family    9806                en   \n",
       "2091                     Action Adventure Fantasy  297762                en   \n",
       "1339                                 Action Crime   23483                en   \n",
       "195                   Drama Action Thriller Crime     832                de   \n",
       "1160                Action Mystery ScienceFiction   13183                en   \n",
       "86                                 Fantasy Action     268                en   \n",
       "2150  Action Drama Comedy Thriller ScienceFiction  364433                it   \n",
       "\n",
       "                                               overview  popularity  \\\n",
       "1135  Batman raises the stakes in his war on crime. ...  123.167259   \n",
       "902   Driven by tragedy, billionaire Bruce Wayne ded...   28.505341   \n",
       "354   A small suburban town receives a visit from a ...   17.612244   \n",
       "845   Bob Parr has given up his superhero days to lo...   22.220214   \n",
       "2091  An Amazon princess comes to the world of Man t...  294.337037   \n",
       "1339  Dave Lizewski is an unnoticed high school stud...   17.260450   \n",
       "195   In this classic German thriller, Hans Beckert,...   12.752421   \n",
       "1160  In a gritty and alternate 1985 the glory days ...   16.551503   \n",
       "86    The Dark Knight of Gotham City begins his war ...   19.106730   \n",
       "2150  Enzo Ceccotti comes into contact with a radioa...   10.649494   \n",
       "\n",
       "      spoken_languages                    title  vote_average  vote_count  \\\n",
       "1135       English 普通话          The Dark Knight           8.3       12269   \n",
       "902   English اردو 普通话            Batman Begins           7.5        7511   \n",
       "354            English      Edward Scissorhands           7.5        3731   \n",
       "845   Français English          The Incredibles           7.4        5290   \n",
       "2091   Deutsch English             Wonder Woman           7.2        5025   \n",
       "1339           English                 Kick-Ass           7.1        4747   \n",
       "195            Deutsch                        M           8.0         465   \n",
       "1160           English                 Watchmen           7.0        2892   \n",
       "86    English Français                   Batman           7.0        2145   \n",
       "2150          Italiano  They Call Me Jeeg Robot           7.5         575   \n",
       "\n",
       "         score                                               cast  \\\n",
       "1135  8.208376  ChristianBale MichaelCaine HeathLedger AaronEc...   \n",
       "902   7.397206  ChristianBale MichaelCaine LiamNeeson KatieHol...   \n",
       "354   7.303913  JohnnyDepp WinonaRyder DianneWiest AlanArkin A...   \n",
       "845   7.264902  CraigT.Nelson HollyHunter SamuelL.Jackson Jaso...   \n",
       "2091  7.074244  GalGadot ChrisPine RobinWright DannyHuston Dav...   \n",
       "1339  6.975873  AaronTaylor-Johnson ChloëGraceMoretz Christoph...   \n",
       "195   6.850165  PeterLorre EllenWidmann IngeLandgut OttoWernic...   \n",
       "1160  6.819693  MalinÅkerman BillyCrudup MatthewGoode JackieEa...   \n",
       "86    6.767467  JackNicholson MichaelKeaton KimBasinger Michae...   \n",
       "2150  6.690583  ClaudioSantamaria IleniaPastorelli LucaMarinel...   \n",
       "\n",
       "                  crew                                           keywords  \\\n",
       "1135  ChristopherNolan  dc comics crime fighter secret identity scarec...   \n",
       "902   ChristopherNolan  himalaya martial arts dc comics crime fighter ...   \n",
       "354          TimBurton  underdog love at first sight hairdresser small...   \n",
       "845           BradBird  secret identity secret hero island wretch supe...   \n",
       "2091      PattyJenkins  dc comics hero greek mythology island world wa...   \n",
       "1339     MatthewVaughn  crime fighter secret identity comic book super...   \n",
       "195          FritzLang  germany berlin underworld child murderer detec...   \n",
       "1160        ZackSnyder  dc comics secret identity mass murder retireme...   \n",
       "86           TimBurton  double life dc comics dual identity chemical c...   \n",
       "2150  GabrieleMainetti                                          superhero   \n",
       "\n",
       "      movieId    rating  \n",
       "1135    58559  4.182071  \n",
       "902     33794  3.944856  \n",
       "354      2291  3.722712  \n",
       "845      8961  3.857842  \n",
       "2091   143355  3.747344  \n",
       "1339    76251  3.650602  \n",
       "195      1260  4.163554  \n",
       "1160    60684  3.712461  \n",
       "86        592  3.384822  \n",
       "2150   155078  3.732143  "
      ]
     },
     "execution_count": 91,
     "metadata": {},
     "output_type": "execute_result"
    }
   ],
   "source": [
    "get_recommend_movie_list(data, keywords_cs, movie_title='The Dark Knight Rises')"
   ]
  },
  {
   "cell_type": "code",
   "execution_count": 92,
   "metadata": {
    "ExecuteTime": {
     "end_time": "2020-12-21T07:17:01.371142Z",
     "start_time": "2020-12-21T07:17:01.346940Z"
    }
   },
   "outputs": [
    {
     "data": {
      "text/plain": [
       "1504    new york shield marvel comic superhero based o...\n",
       "Name: keywords, dtype: object"
      ]
     },
     "execution_count": 92,
     "metadata": {},
     "output_type": "execute_result"
    }
   ],
   "source": [
    "data[data['title'] == 'The Avengers']['keywords']"
   ]
  },
  {
   "cell_type": "code",
   "execution_count": 93,
   "metadata": {
    "ExecuteTime": {
     "end_time": "2020-12-21T07:17:01.458486Z",
     "start_time": "2020-12-21T07:17:01.376158Z"
    }
   },
   "outputs": [
    {
     "data": {
      "text/html": [
       "<div>\n",
       "<style scoped>\n",
       "    .dataframe tbody tr th:only-of-type {\n",
       "        vertical-align: middle;\n",
       "    }\n",
       "\n",
       "    .dataframe tbody tr th {\n",
       "        vertical-align: top;\n",
       "    }\n",
       "\n",
       "    .dataframe thead th {\n",
       "        text-align: right;\n",
       "    }\n",
       "</style>\n",
       "<table border=\"1\" class=\"dataframe\">\n",
       "  <thead>\n",
       "    <tr style=\"text-align: right;\">\n",
       "      <th></th>\n",
       "      <th>genres</th>\n",
       "      <th>id</th>\n",
       "      <th>original_language</th>\n",
       "      <th>overview</th>\n",
       "      <th>popularity</th>\n",
       "      <th>spoken_languages</th>\n",
       "      <th>title</th>\n",
       "      <th>vote_average</th>\n",
       "      <th>vote_count</th>\n",
       "      <th>score</th>\n",
       "      <th>cast</th>\n",
       "      <th>crew</th>\n",
       "      <th>keywords</th>\n",
       "      <th>movieId</th>\n",
       "      <th>rating</th>\n",
       "    </tr>\n",
       "  </thead>\n",
       "  <tbody>\n",
       "    <tr>\n",
       "      <th>1870</th>\n",
       "      <td>Action ScienceFiction Adventure</td>\n",
       "      <td>118340</td>\n",
       "      <td>en</td>\n",
       "      <td>Light years from Earth, 26 years after being a...</td>\n",
       "      <td>53.291601</td>\n",
       "      <td>English</td>\n",
       "      <td>Guardians of the Galaxy</td>\n",
       "      <td>7.9</td>\n",
       "      <td>10014</td>\n",
       "      <td>7.805216</td>\n",
       "      <td>ChrisPratt ZoeSaldana DaveBautista VinDiesel B...</td>\n",
       "      <td>JamesGunn</td>\n",
       "      <td>marvel comic spaceship space outer space orpha...</td>\n",
       "      <td>112852</td>\n",
       "      <td>3.927768</td>\n",
       "    </tr>\n",
       "    <tr>\n",
       "      <th>1944</th>\n",
       "      <td>Crime Comedy Action Adventure</td>\n",
       "      <td>207703</td>\n",
       "      <td>en</td>\n",
       "      <td>The story of a super-secret spy organization t...</td>\n",
       "      <td>28.224212</td>\n",
       "      <td>English</td>\n",
       "      <td>Kingsman: The Secret Service</td>\n",
       "      <td>7.6</td>\n",
       "      <td>6069</td>\n",
       "      <td>7.467738</td>\n",
       "      <td>ColinFirth SamuelL.Jackson MarkStrong TaronEge...</td>\n",
       "      <td>MatthewVaughn</td>\n",
       "      <td>spy great britain secret organization secret a...</td>\n",
       "      <td>119145</td>\n",
       "      <td>3.805290</td>\n",
       "    </tr>\n",
       "    <tr>\n",
       "      <th>1824</th>\n",
       "      <td>Action Adventure ScienceFiction</td>\n",
       "      <td>100402</td>\n",
       "      <td>en</td>\n",
       "      <td>After the cataclysmic events in New York with ...</td>\n",
       "      <td>18.717704</td>\n",
       "      <td>English</td>\n",
       "      <td>Captain America: The Winter Soldier</td>\n",
       "      <td>7.6</td>\n",
       "      <td>5881</td>\n",
       "      <td>7.463800</td>\n",
       "      <td>ChrisEvans SamuelL.Jackson ScarlettJohansson R...</td>\n",
       "      <td>AnthonyRusso JoeRusso</td>\n",
       "      <td>washington d.c. future shield marvel comic sup...</td>\n",
       "      <td>110102</td>\n",
       "      <td>3.720278</td>\n",
       "    </tr>\n",
       "    <tr>\n",
       "      <th>1963</th>\n",
       "      <td>Action Adventure Comedy ScienceFiction</td>\n",
       "      <td>283995</td>\n",
       "      <td>en</td>\n",
       "      <td>The Guardians must fight to keep their newfoun...</td>\n",
       "      <td>185.330992</td>\n",
       "      <td>English</td>\n",
       "      <td>Guardians of the Galaxy Vol. 2</td>\n",
       "      <td>7.6</td>\n",
       "      <td>4858</td>\n",
       "      <td>7.437471</td>\n",
       "      <td>ChrisPratt ZoeSaldana DaveBautista VinDiesel B...</td>\n",
       "      <td>JamesGunn</td>\n",
       "      <td>sequel superhero based on comic misfit space o...</td>\n",
       "      <td>122918</td>\n",
       "      <td>3.890255</td>\n",
       "    </tr>\n",
       "    <tr>\n",
       "      <th>1841</th>\n",
       "      <td>Action Adventure Fantasy ScienceFiction</td>\n",
       "      <td>127585</td>\n",
       "      <td>en</td>\n",
       "      <td>The ultimate X-Men ensemble fights a war for t...</td>\n",
       "      <td>26.058586</td>\n",
       "      <td>English</td>\n",
       "      <td>X-Men: Days of Future Past</td>\n",
       "      <td>7.5</td>\n",
       "      <td>6155</td>\n",
       "      <td>7.376051</td>\n",
       "      <td>HughJackman JamesMcAvoy MichaelFassbender Jenn...</td>\n",
       "      <td>BryanSinger</td>\n",
       "      <td>1970s mutant time travel marvel comic based on...</td>\n",
       "      <td>111362</td>\n",
       "      <td>3.775989</td>\n",
       "    </tr>\n",
       "    <tr>\n",
       "      <th>1962</th>\n",
       "      <td>Action Adventure Comedy</td>\n",
       "      <td>293660</td>\n",
       "      <td>en</td>\n",
       "      <td>Deadpool tells the origin story of former Spec...</td>\n",
       "      <td>187.860492</td>\n",
       "      <td>English</td>\n",
       "      <td>Deadpool</td>\n",
       "      <td>7.4</td>\n",
       "      <td>11444</td>\n",
       "      <td>7.334896</td>\n",
       "      <td>RyanReynolds MorenaBaccarin EdSkrein T.J.Mille...</td>\n",
       "      <td>TimMiller</td>\n",
       "      <td>anti hero mercenary marvel comic superhero bas...</td>\n",
       "      <td>122904</td>\n",
       "      <td>3.859518</td>\n",
       "    </tr>\n",
       "    <tr>\n",
       "      <th>1141</th>\n",
       "      <td>Action ScienceFiction Adventure</td>\n",
       "      <td>1726</td>\n",
       "      <td>en</td>\n",
       "      <td>After being held captive in an Afghan cave, bi...</td>\n",
       "      <td>22.073099</td>\n",
       "      <td>English فارسی اردو العربية</td>\n",
       "      <td>Iron Man</td>\n",
       "      <td>7.4</td>\n",
       "      <td>8951</td>\n",
       "      <td>7.317602</td>\n",
       "      <td>RobertDowneyJr. TerrenceHoward JeffBridges Sha...</td>\n",
       "      <td>JonFavreau</td>\n",
       "      <td>middle east arms dealer malibu marvel comic su...</td>\n",
       "      <td>59315</td>\n",
       "      <td>3.855210</td>\n",
       "    </tr>\n",
       "    <tr>\n",
       "      <th>1958</th>\n",
       "      <td>Action Adventure ScienceFiction</td>\n",
       "      <td>99861</td>\n",
       "      <td>en</td>\n",
       "      <td>When Tony Stark tries to jumpstart a dormant p...</td>\n",
       "      <td>37.379420</td>\n",
       "      <td>English</td>\n",
       "      <td>Avengers: Age of Ultron</td>\n",
       "      <td>7.3</td>\n",
       "      <td>6908</td>\n",
       "      <td>7.200585</td>\n",
       "      <td>RobertDowneyJr. ChrisHemsworth MarkRuffalo Chr...</td>\n",
       "      <td>JossWhedon</td>\n",
       "      <td>marvel comic sequel superhero based on comic v...</td>\n",
       "      <td>122892</td>\n",
       "      <td>3.594980</td>\n",
       "    </tr>\n",
       "    <tr>\n",
       "      <th>1964</th>\n",
       "      <td>Adventure Action ScienceFiction</td>\n",
       "      <td>271110</td>\n",
       "      <td>en</td>\n",
       "      <td>Following the events of Age of Ultron, the col...</td>\n",
       "      <td>145.882135</td>\n",
       "      <td>Română English Deutsch Pусский</td>\n",
       "      <td>Captain America: Civil War</td>\n",
       "      <td>7.1</td>\n",
       "      <td>7462</td>\n",
       "      <td>7.018554</td>\n",
       "      <td>ChrisEvans RobertDowneyJr. ScarlettJohansson S...</td>\n",
       "      <td>AnthonyRusso JoeRusso</td>\n",
       "      <td>civil war war marvel comic sequel superhero ba...</td>\n",
       "      <td>122920</td>\n",
       "      <td>3.724678</td>\n",
       "    </tr>\n",
       "    <tr>\n",
       "      <th>1965</th>\n",
       "      <td>Action Adventure Fantasy ScienceFiction</td>\n",
       "      <td>284052</td>\n",
       "      <td>en</td>\n",
       "      <td>After his career is destroyed, a brilliant but...</td>\n",
       "      <td>43.847654</td>\n",
       "      <td>English</td>\n",
       "      <td>Doctor Strange</td>\n",
       "      <td>7.1</td>\n",
       "      <td>5880</td>\n",
       "      <td>6.998147</td>\n",
       "      <td>BenedictCumberbatch ChiwetelEjiofor RachelMcAd...</td>\n",
       "      <td>ScottDerrickson</td>\n",
       "      <td>magic marvel comic superhero based on comic so...</td>\n",
       "      <td>122922</td>\n",
       "      <td>3.742311</td>\n",
       "    </tr>\n",
       "  </tbody>\n",
       "</table>\n",
       "</div>"
      ],
      "text/plain": [
       "                                       genres      id original_language  \\\n",
       "1870          Action ScienceFiction Adventure  118340                en   \n",
       "1944            Crime Comedy Action Adventure  207703                en   \n",
       "1824          Action Adventure ScienceFiction  100402                en   \n",
       "1963   Action Adventure Comedy ScienceFiction  283995                en   \n",
       "1841  Action Adventure Fantasy ScienceFiction  127585                en   \n",
       "1962                  Action Adventure Comedy  293660                en   \n",
       "1141          Action ScienceFiction Adventure    1726                en   \n",
       "1958          Action Adventure ScienceFiction   99861                en   \n",
       "1964          Adventure Action ScienceFiction  271110                en   \n",
       "1965  Action Adventure Fantasy ScienceFiction  284052                en   \n",
       "\n",
       "                                               overview  popularity  \\\n",
       "1870  Light years from Earth, 26 years after being a...   53.291601   \n",
       "1944  The story of a super-secret spy organization t...   28.224212   \n",
       "1824  After the cataclysmic events in New York with ...   18.717704   \n",
       "1963  The Guardians must fight to keep their newfoun...  185.330992   \n",
       "1841  The ultimate X-Men ensemble fights a war for t...   26.058586   \n",
       "1962  Deadpool tells the origin story of former Spec...  187.860492   \n",
       "1141  After being held captive in an Afghan cave, bi...   22.073099   \n",
       "1958  When Tony Stark tries to jumpstart a dormant p...   37.379420   \n",
       "1964  Following the events of Age of Ultron, the col...  145.882135   \n",
       "1965  After his career is destroyed, a brilliant but...   43.847654   \n",
       "\n",
       "                    spoken_languages                                title  \\\n",
       "1870                         English              Guardians of the Galaxy   \n",
       "1944                         English         Kingsman: The Secret Service   \n",
       "1824                         English  Captain America: The Winter Soldier   \n",
       "1963                         English       Guardians of the Galaxy Vol. 2   \n",
       "1841                         English           X-Men: Days of Future Past   \n",
       "1962                         English                             Deadpool   \n",
       "1141      English فارسی اردو العربية                             Iron Man   \n",
       "1958                         English              Avengers: Age of Ultron   \n",
       "1964  Română English Deutsch Pусский           Captain America: Civil War   \n",
       "1965                         English                       Doctor Strange   \n",
       "\n",
       "      vote_average  vote_count     score  \\\n",
       "1870           7.9       10014  7.805216   \n",
       "1944           7.6        6069  7.467738   \n",
       "1824           7.6        5881  7.463800   \n",
       "1963           7.6        4858  7.437471   \n",
       "1841           7.5        6155  7.376051   \n",
       "1962           7.4       11444  7.334896   \n",
       "1141           7.4        8951  7.317602   \n",
       "1958           7.3        6908  7.200585   \n",
       "1964           7.1        7462  7.018554   \n",
       "1965           7.1        5880  6.998147   \n",
       "\n",
       "                                                   cast  \\\n",
       "1870  ChrisPratt ZoeSaldana DaveBautista VinDiesel B...   \n",
       "1944  ColinFirth SamuelL.Jackson MarkStrong TaronEge...   \n",
       "1824  ChrisEvans SamuelL.Jackson ScarlettJohansson R...   \n",
       "1963  ChrisPratt ZoeSaldana DaveBautista VinDiesel B...   \n",
       "1841  HughJackman JamesMcAvoy MichaelFassbender Jenn...   \n",
       "1962  RyanReynolds MorenaBaccarin EdSkrein T.J.Mille...   \n",
       "1141  RobertDowneyJr. TerrenceHoward JeffBridges Sha...   \n",
       "1958  RobertDowneyJr. ChrisHemsworth MarkRuffalo Chr...   \n",
       "1964  ChrisEvans RobertDowneyJr. ScarlettJohansson S...   \n",
       "1965  BenedictCumberbatch ChiwetelEjiofor RachelMcAd...   \n",
       "\n",
       "                       crew  \\\n",
       "1870              JamesGunn   \n",
       "1944          MatthewVaughn   \n",
       "1824  AnthonyRusso JoeRusso   \n",
       "1963              JamesGunn   \n",
       "1841            BryanSinger   \n",
       "1962              TimMiller   \n",
       "1141             JonFavreau   \n",
       "1958             JossWhedon   \n",
       "1964  AnthonyRusso JoeRusso   \n",
       "1965        ScottDerrickson   \n",
       "\n",
       "                                               keywords  movieId    rating  \n",
       "1870  marvel comic spaceship space outer space orpha...   112852  3.927768  \n",
       "1944  spy great britain secret organization secret a...   119145  3.805290  \n",
       "1824  washington d.c. future shield marvel comic sup...   110102  3.720278  \n",
       "1963  sequel superhero based on comic misfit space o...   122918  3.890255  \n",
       "1841  1970s mutant time travel marvel comic based on...   111362  3.775989  \n",
       "1962  anti hero mercenary marvel comic superhero bas...   122904  3.859518  \n",
       "1141  middle east arms dealer malibu marvel comic su...    59315  3.855210  \n",
       "1958  marvel comic sequel superhero based on comic v...   122892  3.594980  \n",
       "1964  civil war war marvel comic sequel superhero ba...   122920  3.724678  \n",
       "1965  magic marvel comic superhero based on comic so...   122922  3.742311  "
      ]
     },
     "execution_count": 93,
     "metadata": {},
     "output_type": "execute_result"
    }
   ],
   "source": [
    "get_recommend_movie_list(data, keywords_cs, movie_title='The Avengers')"
   ]
  },
  {
   "cell_type": "markdown",
   "metadata": {},
   "source": [
    "## cast"
   ]
  },
  {
   "cell_type": "code",
   "execution_count": 94,
   "metadata": {
    "ExecuteTime": {
     "end_time": "2020-12-21T07:17:01.997329Z",
     "start_time": "2020-12-21T07:17:01.463309Z"
    }
   },
   "outputs": [],
   "source": [
    "tfidf_cast = tfidf.fit_transform(data['cast'])"
   ]
  },
  {
   "cell_type": "code",
   "execution_count": 95,
   "metadata": {
    "ExecuteTime": {
     "end_time": "2020-12-21T07:17:02.025950Z",
     "start_time": "2020-12-21T07:17:02.003498Z"
    }
   },
   "outputs": [
    {
     "data": {
      "text/plain": [
       "(2291, 42484)"
      ]
     },
     "execution_count": 95,
     "metadata": {},
     "output_type": "execute_result"
    }
   ],
   "source": [
    "tfidf_cast.shape"
   ]
  },
  {
   "cell_type": "code",
   "execution_count": 96,
   "metadata": {
    "ExecuteTime": {
     "end_time": "2020-12-21T07:17:02.332097Z",
     "start_time": "2020-12-21T07:17:02.029545Z"
    }
   },
   "outputs": [],
   "source": [
    "#코사인 유사도를 구한 벡터를 미리 저장\n",
    "cast_cs = cosine_similarity(tfidf_cast, tfidf_cast).argsort()[:, ::-1]"
   ]
  },
  {
   "cell_type": "code",
   "execution_count": 97,
   "metadata": {
    "ExecuteTime": {
     "end_time": "2020-12-21T07:17:02.358366Z",
     "start_time": "2020-12-21T07:17:02.336932Z"
    }
   },
   "outputs": [
    {
     "data": {
      "text/plain": [
       "array([[   0,  460, 1358, ..., 1525, 1526, 1145],\n",
       "       [   1, 1233,  240, ..., 1527, 1528,    0],\n",
       "       [   2, 2058,  634, ..., 1514, 1516,    0],\n",
       "       ...,\n",
       "       [2288, 1365, 1837, ..., 1511, 1512,    0],\n",
       "       [2289, 1478, 1859, ..., 1453, 1454,    0],\n",
       "       [2290, 1618, 1554, ..., 1508, 1509,    0]], dtype=int64)"
      ]
     },
     "execution_count": 97,
     "metadata": {},
     "output_type": "execute_result"
    }
   ],
   "source": [
    "cast_cs"
   ]
  },
  {
   "cell_type": "code",
   "execution_count": 98,
   "metadata": {
    "ExecuteTime": {
     "end_time": "2020-12-21T07:17:02.384536Z",
     "start_time": "2020-12-21T07:17:02.360365Z"
    }
   },
   "outputs": [
    {
     "data": {
      "text/plain": [
       "(2291, 2291)"
      ]
     },
     "execution_count": 98,
     "metadata": {},
     "output_type": "execute_result"
    }
   ],
   "source": [
    "cast_cs.shape"
   ]
  },
  {
   "cell_type": "code",
   "execution_count": 99,
   "metadata": {
    "ExecuteTime": {
     "end_time": "2020-12-21T07:17:02.414159Z",
     "start_time": "2020-12-21T07:17:02.387524Z"
    }
   },
   "outputs": [
    {
     "data": {
      "text/plain": [
       "1541    ChristianBale MichaelCaine GaryOldman AnneHath...\n",
       "Name: cast, dtype: object"
      ]
     },
     "execution_count": 99,
     "metadata": {},
     "output_type": "execute_result"
    }
   ],
   "source": [
    "data[data['title'] == 'The Dark Knight Rises']['cast']"
   ]
  },
  {
   "cell_type": "code",
   "execution_count": 100,
   "metadata": {
    "ExecuteTime": {
     "end_time": "2020-12-21T07:17:02.496786Z",
     "start_time": "2020-12-21T07:17:02.418471Z"
    },
    "scrolled": false
   },
   "outputs": [
    {
     "data": {
      "text/html": [
       "<div>\n",
       "<style scoped>\n",
       "    .dataframe tbody tr th:only-of-type {\n",
       "        vertical-align: middle;\n",
       "    }\n",
       "\n",
       "    .dataframe tbody tr th {\n",
       "        vertical-align: top;\n",
       "    }\n",
       "\n",
       "    .dataframe thead th {\n",
       "        text-align: right;\n",
       "    }\n",
       "</style>\n",
       "<table border=\"1\" class=\"dataframe\">\n",
       "  <thead>\n",
       "    <tr style=\"text-align: right;\">\n",
       "      <th></th>\n",
       "      <th>genres</th>\n",
       "      <th>id</th>\n",
       "      <th>original_language</th>\n",
       "      <th>overview</th>\n",
       "      <th>popularity</th>\n",
       "      <th>spoken_languages</th>\n",
       "      <th>title</th>\n",
       "      <th>vote_average</th>\n",
       "      <th>vote_count</th>\n",
       "      <th>score</th>\n",
       "      <th>cast</th>\n",
       "      <th>crew</th>\n",
       "      <th>keywords</th>\n",
       "      <th>movieId</th>\n",
       "      <th>rating</th>\n",
       "    </tr>\n",
       "  </thead>\n",
       "  <tbody>\n",
       "    <tr>\n",
       "      <th>1135</th>\n",
       "      <td>Drama Action Crime Thriller</td>\n",
       "      <td>155</td>\n",
       "      <td>en</td>\n",
       "      <td>Batman raises the stakes in his war on crime. ...</td>\n",
       "      <td>123.167259</td>\n",
       "      <td>English 普通话</td>\n",
       "      <td>The Dark Knight</td>\n",
       "      <td>8.3</td>\n",
       "      <td>12269</td>\n",
       "      <td>8.208376</td>\n",
       "      <td>ChristianBale MichaelCaine HeathLedger AaronEc...</td>\n",
       "      <td>ChristopherNolan</td>\n",
       "      <td>dc comics crime fighter secret identity scarec...</td>\n",
       "      <td>58559</td>\n",
       "      <td>4.182071</td>\n",
       "    </tr>\n",
       "    <tr>\n",
       "      <th>1365</th>\n",
       "      <td>Action Thriller ScienceFiction Mystery Adventure</td>\n",
       "      <td>27205</td>\n",
       "      <td>en</td>\n",
       "      <td>Cobb, a skilled thief who commits corporate es...</td>\n",
       "      <td>29.108149</td>\n",
       "      <td>English</td>\n",
       "      <td>Inception</td>\n",
       "      <td>8.1</td>\n",
       "      <td>14075</td>\n",
       "      <td>8.025763</td>\n",
       "      <td>LeonardoDiCaprio JosephGordon-Levitt EllenPage...</td>\n",
       "      <td>ChristopherNolan</td>\n",
       "      <td>loss of lover dream kidnapping sleep subconsci...</td>\n",
       "      <td>79132</td>\n",
       "      <td>4.161756</td>\n",
       "    </tr>\n",
       "    <tr>\n",
       "      <th>1816</th>\n",
       "      <td>Adventure Drama ScienceFiction</td>\n",
       "      <td>157336</td>\n",
       "      <td>en</td>\n",
       "      <td>Interstellar chronicles the adventures of a gr...</td>\n",
       "      <td>32.213481</td>\n",
       "      <td>English</td>\n",
       "      <td>Interstellar</td>\n",
       "      <td>8.1</td>\n",
       "      <td>11187</td>\n",
       "      <td>8.007314</td>\n",
       "      <td>MatthewMcConaughey JessicaChastain AnneHathawa...</td>\n",
       "      <td>ChristopherNolan</td>\n",
       "      <td>saving the world artificial intelligence fathe...</td>\n",
       "      <td>109487</td>\n",
       "      <td>4.086824</td>\n",
       "    </tr>\n",
       "    <tr>\n",
       "      <th>571</th>\n",
       "      <td>Mystery Thriller</td>\n",
       "      <td>77</td>\n",
       "      <td>en</td>\n",
       "      <td>Suffering short-term memory loss after a head ...</td>\n",
       "      <td>15.450789</td>\n",
       "      <td>English</td>\n",
       "      <td>Memento</td>\n",
       "      <td>8.1</td>\n",
       "      <td>4168</td>\n",
       "      <td>7.865949</td>\n",
       "      <td>GuyPearce Carrie-AnneMoss JoePantoliano MarkBo...</td>\n",
       "      <td>ChristopherNolan</td>\n",
       "      <td>individual insulin tattoo waitress amnesia mot...</td>\n",
       "      <td>4226</td>\n",
       "      <td>4.157078</td>\n",
       "    </tr>\n",
       "    <tr>\n",
       "      <th>1014</th>\n",
       "      <td>Drama Mystery Thriller</td>\n",
       "      <td>1124</td>\n",
       "      <td>en</td>\n",
       "      <td>A mysterious story of two magicians whose inte...</td>\n",
       "      <td>16.945560</td>\n",
       "      <td>English</td>\n",
       "      <td>The Prestige</td>\n",
       "      <td>8.0</td>\n",
       "      <td>4510</td>\n",
       "      <td>7.790918</td>\n",
       "      <td>HughJackman ChristianBale MichaelCaine Scarlet...</td>\n",
       "      <td>ChristopherNolan</td>\n",
       "      <td>competition secret obsession magic dying and d...</td>\n",
       "      <td>48780</td>\n",
       "      <td>4.078295</td>\n",
       "    </tr>\n",
       "    <tr>\n",
       "      <th>1787</th>\n",
       "      <td>Crime Drama Comedy</td>\n",
       "      <td>106646</td>\n",
       "      <td>en</td>\n",
       "      <td>A New York stockbroker refuses to cooperate in...</td>\n",
       "      <td>16.382422</td>\n",
       "      <td>Français English</td>\n",
       "      <td>The Wolf of Wall Street</td>\n",
       "      <td>7.9</td>\n",
       "      <td>6768</td>\n",
       "      <td>7.762496</td>\n",
       "      <td>LeonardoDiCaprio JonahHill MargotRobbie KyleCh...</td>\n",
       "      <td>MartinScorsese</td>\n",
       "      <td>corruption sex sexuality bank humor biography ...</td>\n",
       "      <td>106782</td>\n",
       "      <td>3.858644</td>\n",
       "    </tr>\n",
       "    <tr>\n",
       "      <th>902</th>\n",
       "      <td>Action Crime Drama</td>\n",
       "      <td>272</td>\n",
       "      <td>en</td>\n",
       "      <td>Driven by tragedy, billionaire Bruce Wayne ded...</td>\n",
       "      <td>28.505341</td>\n",
       "      <td>English اردو 普通话</td>\n",
       "      <td>Batman Begins</td>\n",
       "      <td>7.5</td>\n",
       "      <td>7511</td>\n",
       "      <td>7.397206</td>\n",
       "      <td>ChristianBale MichaelCaine LiamNeeson KatieHol...</td>\n",
       "      <td>ChristopherNolan</td>\n",
       "      <td>himalaya martial arts dc comics crime fighter ...</td>\n",
       "      <td>33794</td>\n",
       "      <td>3.944856</td>\n",
       "    </tr>\n",
       "    <tr>\n",
       "      <th>1504</th>\n",
       "      <td>ScienceFiction Action Adventure</td>\n",
       "      <td>24428</td>\n",
       "      <td>en</td>\n",
       "      <td>When an unexpected enemy emerges and threatens...</td>\n",
       "      <td>89.887648</td>\n",
       "      <td>English</td>\n",
       "      <td>The Avengers</td>\n",
       "      <td>7.4</td>\n",
       "      <td>12000</td>\n",
       "      <td>7.337808</td>\n",
       "      <td>RobertDowneyJr. ChrisEvans MarkRuffalo ChrisHe...</td>\n",
       "      <td>JossWhedon</td>\n",
       "      <td>new york shield marvel comic superhero based o...</td>\n",
       "      <td>89745</td>\n",
       "      <td>3.816396</td>\n",
       "    </tr>\n",
       "    <tr>\n",
       "      <th>2288</th>\n",
       "      <td>Action Drama History Thriller War</td>\n",
       "      <td>374720</td>\n",
       "      <td>en</td>\n",
       "      <td>The miraculous evacuation of Allied soldiers f...</td>\n",
       "      <td>30.938854</td>\n",
       "      <td>English Français Deutsch</td>\n",
       "      <td>Dunkirk</td>\n",
       "      <td>7.5</td>\n",
       "      <td>2712</td>\n",
       "      <td>7.240400</td>\n",
       "      <td>FionnWhitehead TomGlynn-Carney JackLowden Harr...</td>\n",
       "      <td>ChristopherNolan</td>\n",
       "      <td>france beach world war ii evacuation german pi...</td>\n",
       "      <td>174055</td>\n",
       "      <td>4.113475</td>\n",
       "    </tr>\n",
       "    <tr>\n",
       "      <th>2233</th>\n",
       "      <td>Adventure Animation Family</td>\n",
       "      <td>277834</td>\n",
       "      <td>en</td>\n",
       "      <td>In Ancient Polynesia, when a terrible curse in...</td>\n",
       "      <td>9.143457</td>\n",
       "      <td>English</td>\n",
       "      <td>Moana</td>\n",
       "      <td>7.3</td>\n",
       "      <td>3471</td>\n",
       "      <td>7.113085</td>\n",
       "      <td>Auli'iCravalho DwayneJohnson RachelHouse Temue...</td>\n",
       "      <td>RonClements JohnMusker</td>\n",
       "      <td>ocean sailboat mythology island musical animat...</td>\n",
       "      <td>166461</td>\n",
       "      <td>3.847451</td>\n",
       "    </tr>\n",
       "  </tbody>\n",
       "</table>\n",
       "</div>"
      ],
      "text/plain": [
       "                                                genres      id  \\\n",
       "1135                       Drama Action Crime Thriller     155   \n",
       "1365  Action Thriller ScienceFiction Mystery Adventure   27205   \n",
       "1816                    Adventure Drama ScienceFiction  157336   \n",
       "571                                   Mystery Thriller      77   \n",
       "1014                            Drama Mystery Thriller    1124   \n",
       "1787                                Crime Drama Comedy  106646   \n",
       "902                                 Action Crime Drama     272   \n",
       "1504                   ScienceFiction Action Adventure   24428   \n",
       "2288                 Action Drama History Thriller War  374720   \n",
       "2233                        Adventure Animation Family  277834   \n",
       "\n",
       "     original_language                                           overview  \\\n",
       "1135                en  Batman raises the stakes in his war on crime. ...   \n",
       "1365                en  Cobb, a skilled thief who commits corporate es...   \n",
       "1816                en  Interstellar chronicles the adventures of a gr...   \n",
       "571                 en  Suffering short-term memory loss after a head ...   \n",
       "1014                en  A mysterious story of two magicians whose inte...   \n",
       "1787                en  A New York stockbroker refuses to cooperate in...   \n",
       "902                 en  Driven by tragedy, billionaire Bruce Wayne ded...   \n",
       "1504                en  When an unexpected enemy emerges and threatens...   \n",
       "2288                en  The miraculous evacuation of Allied soldiers f...   \n",
       "2233                en  In Ancient Polynesia, when a terrible curse in...   \n",
       "\n",
       "      popularity          spoken_languages                    title  \\\n",
       "1135  123.167259               English 普通话          The Dark Knight   \n",
       "1365   29.108149                   English                Inception   \n",
       "1816   32.213481                   English             Interstellar   \n",
       "571    15.450789                   English                  Memento   \n",
       "1014   16.945560                   English             The Prestige   \n",
       "1787   16.382422          Français English  The Wolf of Wall Street   \n",
       "902    28.505341          English اردو 普通话            Batman Begins   \n",
       "1504   89.887648                   English             The Avengers   \n",
       "2288   30.938854  English Français Deutsch                  Dunkirk   \n",
       "2233    9.143457                   English                    Moana   \n",
       "\n",
       "      vote_average  vote_count     score  \\\n",
       "1135           8.3       12269  8.208376   \n",
       "1365           8.1       14075  8.025763   \n",
       "1816           8.1       11187  8.007314   \n",
       "571            8.1        4168  7.865949   \n",
       "1014           8.0        4510  7.790918   \n",
       "1787           7.9        6768  7.762496   \n",
       "902            7.5        7511  7.397206   \n",
       "1504           7.4       12000  7.337808   \n",
       "2288           7.5        2712  7.240400   \n",
       "2233           7.3        3471  7.113085   \n",
       "\n",
       "                                                   cast  \\\n",
       "1135  ChristianBale MichaelCaine HeathLedger AaronEc...   \n",
       "1365  LeonardoDiCaprio JosephGordon-Levitt EllenPage...   \n",
       "1816  MatthewMcConaughey JessicaChastain AnneHathawa...   \n",
       "571   GuyPearce Carrie-AnneMoss JoePantoliano MarkBo...   \n",
       "1014  HughJackman ChristianBale MichaelCaine Scarlet...   \n",
       "1787  LeonardoDiCaprio JonahHill MargotRobbie KyleCh...   \n",
       "902   ChristianBale MichaelCaine LiamNeeson KatieHol...   \n",
       "1504  RobertDowneyJr. ChrisEvans MarkRuffalo ChrisHe...   \n",
       "2288  FionnWhitehead TomGlynn-Carney JackLowden Harr...   \n",
       "2233  Auli'iCravalho DwayneJohnson RachelHouse Temue...   \n",
       "\n",
       "                        crew  \\\n",
       "1135        ChristopherNolan   \n",
       "1365        ChristopherNolan   \n",
       "1816        ChristopherNolan   \n",
       "571         ChristopherNolan   \n",
       "1014        ChristopherNolan   \n",
       "1787          MartinScorsese   \n",
       "902         ChristopherNolan   \n",
       "1504              JossWhedon   \n",
       "2288        ChristopherNolan   \n",
       "2233  RonClements JohnMusker   \n",
       "\n",
       "                                               keywords  movieId    rating  \n",
       "1135  dc comics crime fighter secret identity scarec...    58559  4.182071  \n",
       "1365  loss of lover dream kidnapping sleep subconsci...    79132  4.161756  \n",
       "1816  saving the world artificial intelligence fathe...   109487  4.086824  \n",
       "571   individual insulin tattoo waitress amnesia mot...     4226  4.157078  \n",
       "1014  competition secret obsession magic dying and d...    48780  4.078295  \n",
       "1787  corruption sex sexuality bank humor biography ...   106782  3.858644  \n",
       "902   himalaya martial arts dc comics crime fighter ...    33794  3.944856  \n",
       "1504  new york shield marvel comic superhero based o...    89745  3.816396  \n",
       "2288  france beach world war ii evacuation german pi...   174055  4.113475  \n",
       "2233  ocean sailboat mythology island musical animat...   166461  3.847451  "
      ]
     },
     "execution_count": 100,
     "metadata": {},
     "output_type": "execute_result"
    }
   ],
   "source": [
    "get_recommend_movie_list(data, cast_cs, movie_title='The Dark Knight Rises')"
   ]
  },
  {
   "cell_type": "code",
   "execution_count": 101,
   "metadata": {
    "ExecuteTime": {
     "end_time": "2020-12-21T07:17:02.524490Z",
     "start_time": "2020-12-21T07:17:02.498499Z"
    }
   },
   "outputs": [
    {
     "data": {
      "text/plain": [
       "1504    RobertDowneyJr. ChrisEvans MarkRuffalo ChrisHe...\n",
       "Name: cast, dtype: object"
      ]
     },
     "execution_count": 101,
     "metadata": {},
     "output_type": "execute_result"
    }
   ],
   "source": [
    "data[data['title'] == 'The Avengers']['cast']"
   ]
  },
  {
   "cell_type": "code",
   "execution_count": 102,
   "metadata": {
    "ExecuteTime": {
     "end_time": "2020-12-21T07:17:02.578830Z",
     "start_time": "2020-12-21T07:17:02.529482Z"
    },
    "scrolled": false
   },
   "outputs": [
    {
     "data": {
      "text/html": [
       "<div>\n",
       "<style scoped>\n",
       "    .dataframe tbody tr th:only-of-type {\n",
       "        vertical-align: middle;\n",
       "    }\n",
       "\n",
       "    .dataframe tbody tr th {\n",
       "        vertical-align: top;\n",
       "    }\n",
       "\n",
       "    .dataframe thead th {\n",
       "        text-align: right;\n",
       "    }\n",
       "</style>\n",
       "<table border=\"1\" class=\"dataframe\">\n",
       "  <thead>\n",
       "    <tr style=\"text-align: right;\">\n",
       "      <th></th>\n",
       "      <th>genres</th>\n",
       "      <th>id</th>\n",
       "      <th>original_language</th>\n",
       "      <th>overview</th>\n",
       "      <th>popularity</th>\n",
       "      <th>spoken_languages</th>\n",
       "      <th>title</th>\n",
       "      <th>vote_average</th>\n",
       "      <th>vote_count</th>\n",
       "      <th>score</th>\n",
       "      <th>cast</th>\n",
       "      <th>crew</th>\n",
       "      <th>keywords</th>\n",
       "      <th>movieId</th>\n",
       "      <th>rating</th>\n",
       "    </tr>\n",
       "  </thead>\n",
       "  <tbody>\n",
       "    <tr>\n",
       "      <th>173</th>\n",
       "      <td>Horror Action Thriller ScienceFiction</td>\n",
       "      <td>348</td>\n",
       "      <td>en</td>\n",
       "      <td>During its return to the earth, commercial spa...</td>\n",
       "      <td>23.377420</td>\n",
       "      <td>English Español</td>\n",
       "      <td>Alien</td>\n",
       "      <td>7.9</td>\n",
       "      <td>4564</td>\n",
       "      <td>7.701860</td>\n",
       "      <td>TomSkerritt SigourneyWeaver VeronicaCartwright...</td>\n",
       "      <td>RidleyScott</td>\n",
       "      <td>android countdown space marine space suit behe...</td>\n",
       "      <td>1214</td>\n",
       "      <td>4.047350</td>\n",
       "    </tr>\n",
       "    <tr>\n",
       "      <th>1541</th>\n",
       "      <td>Action Crime Drama Thriller</td>\n",
       "      <td>49026</td>\n",
       "      <td>en</td>\n",
       "      <td>Following the death of District Attorney Harve...</td>\n",
       "      <td>20.582580</td>\n",
       "      <td>English</td>\n",
       "      <td>The Dark Knight Rises</td>\n",
       "      <td>7.6</td>\n",
       "      <td>9263</td>\n",
       "      <td>7.511302</td>\n",
       "      <td>ChristianBale MichaelCaine GaryOldman AnneHath...</td>\n",
       "      <td>ChristopherNolan</td>\n",
       "      <td>dc comics crime fighter terrorist secret ident...</td>\n",
       "      <td>91529</td>\n",
       "      <td>3.973056</td>\n",
       "    </tr>\n",
       "    <tr>\n",
       "      <th>1824</th>\n",
       "      <td>Action Adventure ScienceFiction</td>\n",
       "      <td>100402</td>\n",
       "      <td>en</td>\n",
       "      <td>After the cataclysmic events in New York with ...</td>\n",
       "      <td>18.717704</td>\n",
       "      <td>English</td>\n",
       "      <td>Captain America: The Winter Soldier</td>\n",
       "      <td>7.6</td>\n",
       "      <td>5881</td>\n",
       "      <td>7.463800</td>\n",
       "      <td>ChrisEvans SamuelL.Jackson ScarlettJohansson R...</td>\n",
       "      <td>AnthonyRusso JoeRusso</td>\n",
       "      <td>washington d.c. future shield marvel comic sup...</td>\n",
       "      <td>110102</td>\n",
       "      <td>3.720278</td>\n",
       "    </tr>\n",
       "    <tr>\n",
       "      <th>1141</th>\n",
       "      <td>Action ScienceFiction Adventure</td>\n",
       "      <td>1726</td>\n",
       "      <td>en</td>\n",
       "      <td>After being held captive in an Afghan cave, bi...</td>\n",
       "      <td>22.073099</td>\n",
       "      <td>English فارسی اردو العربية</td>\n",
       "      <td>Iron Man</td>\n",
       "      <td>7.4</td>\n",
       "      <td>8951</td>\n",
       "      <td>7.317602</td>\n",
       "      <td>RobertDowneyJr. TerrenceHoward JeffBridges Sha...</td>\n",
       "      <td>JonFavreau</td>\n",
       "      <td>middle east arms dealer malibu marvel comic su...</td>\n",
       "      <td>59315</td>\n",
       "      <td>3.855210</td>\n",
       "    </tr>\n",
       "    <tr>\n",
       "      <th>1958</th>\n",
       "      <td>Action Adventure ScienceFiction</td>\n",
       "      <td>99861</td>\n",
       "      <td>en</td>\n",
       "      <td>When Tony Stark tries to jumpstart a dormant p...</td>\n",
       "      <td>37.379420</td>\n",
       "      <td>English</td>\n",
       "      <td>Avengers: Age of Ultron</td>\n",
       "      <td>7.3</td>\n",
       "      <td>6908</td>\n",
       "      <td>7.200585</td>\n",
       "      <td>RobertDowneyJr. ChrisHemsworth MarkRuffalo Chr...</td>\n",
       "      <td>JossWhedon</td>\n",
       "      <td>marvel comic sequel superhero based on comic v...</td>\n",
       "      <td>122892</td>\n",
       "      <td>3.594980</td>\n",
       "    </tr>\n",
       "    <tr>\n",
       "      <th>1964</th>\n",
       "      <td>Adventure Action ScienceFiction</td>\n",
       "      <td>271110</td>\n",
       "      <td>en</td>\n",
       "      <td>Following the events of Age of Ultron, the col...</td>\n",
       "      <td>145.882135</td>\n",
       "      <td>Română English Deutsch Pусский</td>\n",
       "      <td>Captain America: Civil War</td>\n",
       "      <td>7.1</td>\n",
       "      <td>7462</td>\n",
       "      <td>7.018554</td>\n",
       "      <td>ChrisEvans RobertDowneyJr. ScarlettJohansson S...</td>\n",
       "      <td>AnthonyRusso JoeRusso</td>\n",
       "      <td>civil war war marvel comic sequel superhero ba...</td>\n",
       "      <td>122920</td>\n",
       "      <td>3.724678</td>\n",
       "    </tr>\n",
       "    <tr>\n",
       "      <th>1040</th>\n",
       "      <td>Crime Drama Mystery Thriller</td>\n",
       "      <td>1949</td>\n",
       "      <td>en</td>\n",
       "      <td>The true story of the investigation of 'The Zo...</td>\n",
       "      <td>19.083823</td>\n",
       "      <td>English</td>\n",
       "      <td>Zodiac</td>\n",
       "      <td>7.3</td>\n",
       "      <td>2080</td>\n",
       "      <td>7.009665</td>\n",
       "      <td>JakeGyllenhaal RobertDowneyJr. MarkRuffalo Ant...</td>\n",
       "      <td>DavidFincher</td>\n",
       "      <td>california san francisco killing journalist ne...</td>\n",
       "      <td>51540</td>\n",
       "      <td>3.701229</td>\n",
       "    </tr>\n",
       "    <tr>\n",
       "      <th>2274</th>\n",
       "      <td>Drama</td>\n",
       "      <td>400928</td>\n",
       "      <td>en</td>\n",
       "      <td>Frank, a single man raising his child prodigy ...</td>\n",
       "      <td>16.025911</td>\n",
       "      <td>English</td>\n",
       "      <td>Gifted</td>\n",
       "      <td>7.7</td>\n",
       "      <td>549</td>\n",
       "      <td>6.780873</td>\n",
       "      <td>ChrisEvans MckennaGrace LindsayDuncan JennySla...</td>\n",
       "      <td>MarcWebb</td>\n",
       "      <td>cat intellectually gifted child prodigy mathem...</td>\n",
       "      <td>170697</td>\n",
       "      <td>4.000000</td>\n",
       "    </tr>\n",
       "    <tr>\n",
       "      <th>1697</th>\n",
       "      <td>Action Adventure ScienceFiction</td>\n",
       "      <td>68721</td>\n",
       "      <td>en</td>\n",
       "      <td>When Tony Stark's world is torn apart by a for...</td>\n",
       "      <td>23.721243</td>\n",
       "      <td>English</td>\n",
       "      <td>Iron Man 3</td>\n",
       "      <td>6.8</td>\n",
       "      <td>8951</td>\n",
       "      <td>6.745349</td>\n",
       "      <td>RobertDowneyJr. GwynethPaltrow DonCheadle GuyP...</td>\n",
       "      <td>ShaneBlack</td>\n",
       "      <td>terrorist war on terror tennessee malibu marve...</td>\n",
       "      <td>102125</td>\n",
       "      <td>3.557847</td>\n",
       "    </tr>\n",
       "    <tr>\n",
       "      <th>1776</th>\n",
       "      <td>Action Adventure Fantasy</td>\n",
       "      <td>76338</td>\n",
       "      <td>en</td>\n",
       "      <td>Thor fights to restore order across the cosmos...</td>\n",
       "      <td>34.905447</td>\n",
       "      <td>English</td>\n",
       "      <td>Thor: The Dark World</td>\n",
       "      <td>6.8</td>\n",
       "      <td>4873</td>\n",
       "      <td>6.703354</td>\n",
       "      <td>ChrisHemsworth NataliePortman TomHiddleston An...</td>\n",
       "      <td>AlanTaylor</td>\n",
       "      <td>marvel comic superhero based on comic hostile ...</td>\n",
       "      <td>106072</td>\n",
       "      <td>3.378876</td>\n",
       "    </tr>\n",
       "  </tbody>\n",
       "</table>\n",
       "</div>"
      ],
      "text/plain": [
       "                                     genres      id original_language  \\\n",
       "173   Horror Action Thriller ScienceFiction     348                en   \n",
       "1541            Action Crime Drama Thriller   49026                en   \n",
       "1824        Action Adventure ScienceFiction  100402                en   \n",
       "1141        Action ScienceFiction Adventure    1726                en   \n",
       "1958        Action Adventure ScienceFiction   99861                en   \n",
       "1964        Adventure Action ScienceFiction  271110                en   \n",
       "1040           Crime Drama Mystery Thriller    1949                en   \n",
       "2274                                  Drama  400928                en   \n",
       "1697        Action Adventure ScienceFiction   68721                en   \n",
       "1776               Action Adventure Fantasy   76338                en   \n",
       "\n",
       "                                               overview  popularity  \\\n",
       "173   During its return to the earth, commercial spa...   23.377420   \n",
       "1541  Following the death of District Attorney Harve...   20.582580   \n",
       "1824  After the cataclysmic events in New York with ...   18.717704   \n",
       "1141  After being held captive in an Afghan cave, bi...   22.073099   \n",
       "1958  When Tony Stark tries to jumpstart a dormant p...   37.379420   \n",
       "1964  Following the events of Age of Ultron, the col...  145.882135   \n",
       "1040  The true story of the investigation of 'The Zo...   19.083823   \n",
       "2274  Frank, a single man raising his child prodigy ...   16.025911   \n",
       "1697  When Tony Stark's world is torn apart by a for...   23.721243   \n",
       "1776  Thor fights to restore order across the cosmos...   34.905447   \n",
       "\n",
       "                    spoken_languages                                title  \\\n",
       "173                  English Español                                Alien   \n",
       "1541                         English                The Dark Knight Rises   \n",
       "1824                         English  Captain America: The Winter Soldier   \n",
       "1141      English فارسی اردو العربية                             Iron Man   \n",
       "1958                         English              Avengers: Age of Ultron   \n",
       "1964  Română English Deutsch Pусский           Captain America: Civil War   \n",
       "1040                         English                               Zodiac   \n",
       "2274                         English                               Gifted   \n",
       "1697                         English                           Iron Man 3   \n",
       "1776                         English                 Thor: The Dark World   \n",
       "\n",
       "      vote_average  vote_count     score  \\\n",
       "173            7.9        4564  7.701860   \n",
       "1541           7.6        9263  7.511302   \n",
       "1824           7.6        5881  7.463800   \n",
       "1141           7.4        8951  7.317602   \n",
       "1958           7.3        6908  7.200585   \n",
       "1964           7.1        7462  7.018554   \n",
       "1040           7.3        2080  7.009665   \n",
       "2274           7.7         549  6.780873   \n",
       "1697           6.8        8951  6.745349   \n",
       "1776           6.8        4873  6.703354   \n",
       "\n",
       "                                                   cast  \\\n",
       "173   TomSkerritt SigourneyWeaver VeronicaCartwright...   \n",
       "1541  ChristianBale MichaelCaine GaryOldman AnneHath...   \n",
       "1824  ChrisEvans SamuelL.Jackson ScarlettJohansson R...   \n",
       "1141  RobertDowneyJr. TerrenceHoward JeffBridges Sha...   \n",
       "1958  RobertDowneyJr. ChrisHemsworth MarkRuffalo Chr...   \n",
       "1964  ChrisEvans RobertDowneyJr. ScarlettJohansson S...   \n",
       "1040  JakeGyllenhaal RobertDowneyJr. MarkRuffalo Ant...   \n",
       "2274  ChrisEvans MckennaGrace LindsayDuncan JennySla...   \n",
       "1697  RobertDowneyJr. GwynethPaltrow DonCheadle GuyP...   \n",
       "1776  ChrisHemsworth NataliePortman TomHiddleston An...   \n",
       "\n",
       "                       crew  \\\n",
       "173             RidleyScott   \n",
       "1541       ChristopherNolan   \n",
       "1824  AnthonyRusso JoeRusso   \n",
       "1141             JonFavreau   \n",
       "1958             JossWhedon   \n",
       "1964  AnthonyRusso JoeRusso   \n",
       "1040           DavidFincher   \n",
       "2274               MarcWebb   \n",
       "1697             ShaneBlack   \n",
       "1776             AlanTaylor   \n",
       "\n",
       "                                               keywords  movieId    rating  \n",
       "173   android countdown space marine space suit behe...     1214  4.047350  \n",
       "1541  dc comics crime fighter terrorist secret ident...    91529  3.973056  \n",
       "1824  washington d.c. future shield marvel comic sup...   110102  3.720278  \n",
       "1141  middle east arms dealer malibu marvel comic su...    59315  3.855210  \n",
       "1958  marvel comic sequel superhero based on comic v...   122892  3.594980  \n",
       "1964  civil war war marvel comic sequel superhero ba...   122920  3.724678  \n",
       "1040  california san francisco killing journalist ne...    51540  3.701229  \n",
       "2274  cat intellectually gifted child prodigy mathem...   170697  4.000000  \n",
       "1697  terrorist war on terror tennessee malibu marve...   102125  3.557847  \n",
       "1776  marvel comic superhero based on comic hostile ...   106072  3.378876  "
      ]
     },
     "execution_count": 102,
     "metadata": {},
     "output_type": "execute_result"
    }
   ],
   "source": [
    "get_recommend_movie_list(data, cast_cs, movie_title='The Avengers')"
   ]
  },
  {
   "cell_type": "markdown",
   "metadata": {},
   "source": [
    "## crew"
   ]
  },
  {
   "cell_type": "code",
   "execution_count": 103,
   "metadata": {
    "ExecuteTime": {
     "end_time": "2020-12-21T07:17:02.651235Z",
     "start_time": "2020-12-21T07:17:02.579831Z"
    }
   },
   "outputs": [],
   "source": [
    "tfidf_crew = tfidf.fit_transform(data['crew'])"
   ]
  },
  {
   "cell_type": "code",
   "execution_count": 104,
   "metadata": {
    "ExecuteTime": {
     "end_time": "2020-12-21T07:17:02.682099Z",
     "start_time": "2020-12-21T07:17:02.652235Z"
    }
   },
   "outputs": [
    {
     "data": {
      "text/plain": [
       "(2291, 1116)"
      ]
     },
     "execution_count": 104,
     "metadata": {},
     "output_type": "execute_result"
    }
   ],
   "source": [
    "tfidf_crew.shape"
   ]
  },
  {
   "cell_type": "code",
   "execution_count": 105,
   "metadata": {
    "ExecuteTime": {
     "end_time": "2020-12-21T07:17:03.141096Z",
     "start_time": "2020-12-21T07:17:02.686051Z"
    }
   },
   "outputs": [],
   "source": [
    "#코사인 유사도를 구한 벡터를 미리 저장\n",
    "crew_cs = linear_kernel(tfidf_crew, tfidf_crew).argsort()[:, ::-1]"
   ]
  },
  {
   "cell_type": "code",
   "execution_count": 106,
   "metadata": {
    "ExecuteTime": {
     "end_time": "2020-12-21T07:17:03.173338Z",
     "start_time": "2020-12-21T07:17:03.145056Z"
    }
   },
   "outputs": [
    {
     "data": {
      "text/plain": [
       "array([[   0,  364,  460, ..., 1535, 1536, 1145],\n",
       "       [ 325, 1315, 1486, ..., 1535, 1536,    0],\n",
       "       [ 450, 1000,    2, ..., 1534, 1535,    0],\n",
       "       ...,\n",
       "       [ 571, 1365, 1014, ..., 1533, 1534,    0],\n",
       "       [1069, 1695,  729, ..., 1533, 1534,    0],\n",
       "       [2290,  760,  766, ..., 1535, 1536,    0]], dtype=int64)"
      ]
     },
     "execution_count": 106,
     "metadata": {},
     "output_type": "execute_result"
    }
   ],
   "source": [
    "crew_cs"
   ]
  },
  {
   "cell_type": "code",
   "execution_count": 107,
   "metadata": {
    "ExecuteTime": {
     "end_time": "2020-12-21T07:17:03.203699Z",
     "start_time": "2020-12-21T07:17:03.180934Z"
    }
   },
   "outputs": [
    {
     "data": {
      "text/plain": [
       "(2291, 2291)"
      ]
     },
     "execution_count": 107,
     "metadata": {},
     "output_type": "execute_result"
    }
   ],
   "source": [
    "crew_cs.shape"
   ]
  },
  {
   "cell_type": "code",
   "execution_count": 108,
   "metadata": {
    "ExecuteTime": {
     "end_time": "2020-12-21T07:17:03.242846Z",
     "start_time": "2020-12-21T07:17:03.208487Z"
    }
   },
   "outputs": [
    {
     "data": {
      "text/plain": [
       "1541    ChristopherNolan\n",
       "Name: crew, dtype: object"
      ]
     },
     "execution_count": 108,
     "metadata": {},
     "output_type": "execute_result"
    }
   ],
   "source": [
    "data[data['title'] == 'The Dark Knight Rises']['crew']"
   ]
  },
  {
   "cell_type": "code",
   "execution_count": 109,
   "metadata": {
    "ExecuteTime": {
     "end_time": "2020-12-21T07:17:03.359623Z",
     "start_time": "2020-12-21T07:17:03.250226Z"
    },
    "scrolled": false
   },
   "outputs": [
    {
     "data": {
      "text/html": [
       "<div>\n",
       "<style scoped>\n",
       "    .dataframe tbody tr th:only-of-type {\n",
       "        vertical-align: middle;\n",
       "    }\n",
       "\n",
       "    .dataframe tbody tr th {\n",
       "        vertical-align: top;\n",
       "    }\n",
       "\n",
       "    .dataframe thead th {\n",
       "        text-align: right;\n",
       "    }\n",
       "</style>\n",
       "<table border=\"1\" class=\"dataframe\">\n",
       "  <thead>\n",
       "    <tr style=\"text-align: right;\">\n",
       "      <th></th>\n",
       "      <th>genres</th>\n",
       "      <th>id</th>\n",
       "      <th>original_language</th>\n",
       "      <th>overview</th>\n",
       "      <th>popularity</th>\n",
       "      <th>spoken_languages</th>\n",
       "      <th>title</th>\n",
       "      <th>vote_average</th>\n",
       "      <th>vote_count</th>\n",
       "      <th>score</th>\n",
       "      <th>cast</th>\n",
       "      <th>crew</th>\n",
       "      <th>keywords</th>\n",
       "      <th>movieId</th>\n",
       "      <th>rating</th>\n",
       "    </tr>\n",
       "  </thead>\n",
       "  <tbody>\n",
       "    <tr>\n",
       "      <th>1135</th>\n",
       "      <td>Drama Action Crime Thriller</td>\n",
       "      <td>155</td>\n",
       "      <td>en</td>\n",
       "      <td>Batman raises the stakes in his war on crime. ...</td>\n",
       "      <td>123.167259</td>\n",
       "      <td>English 普通话</td>\n",
       "      <td>The Dark Knight</td>\n",
       "      <td>8.3</td>\n",
       "      <td>12269</td>\n",
       "      <td>8.208376</td>\n",
       "      <td>ChristianBale MichaelCaine HeathLedger AaronEc...</td>\n",
       "      <td>ChristopherNolan</td>\n",
       "      <td>dc comics crime fighter secret identity scarec...</td>\n",
       "      <td>58559</td>\n",
       "      <td>4.182071</td>\n",
       "    </tr>\n",
       "    <tr>\n",
       "      <th>1365</th>\n",
       "      <td>Action Thriller ScienceFiction Mystery Adventure</td>\n",
       "      <td>27205</td>\n",
       "      <td>en</td>\n",
       "      <td>Cobb, a skilled thief who commits corporate es...</td>\n",
       "      <td>29.108149</td>\n",
       "      <td>English</td>\n",
       "      <td>Inception</td>\n",
       "      <td>8.1</td>\n",
       "      <td>14075</td>\n",
       "      <td>8.025763</td>\n",
       "      <td>LeonardoDiCaprio JosephGordon-Levitt EllenPage...</td>\n",
       "      <td>ChristopherNolan</td>\n",
       "      <td>loss of lover dream kidnapping sleep subconsci...</td>\n",
       "      <td>79132</td>\n",
       "      <td>4.161756</td>\n",
       "    </tr>\n",
       "    <tr>\n",
       "      <th>1816</th>\n",
       "      <td>Adventure Drama ScienceFiction</td>\n",
       "      <td>157336</td>\n",
       "      <td>en</td>\n",
       "      <td>Interstellar chronicles the adventures of a gr...</td>\n",
       "      <td>32.213481</td>\n",
       "      <td>English</td>\n",
       "      <td>Interstellar</td>\n",
       "      <td>8.1</td>\n",
       "      <td>11187</td>\n",
       "      <td>8.007314</td>\n",
       "      <td>MatthewMcConaughey JessicaChastain AnneHathawa...</td>\n",
       "      <td>ChristopherNolan</td>\n",
       "      <td>saving the world artificial intelligence fathe...</td>\n",
       "      <td>109487</td>\n",
       "      <td>4.086824</td>\n",
       "    </tr>\n",
       "    <tr>\n",
       "      <th>770</th>\n",
       "      <td>Adventure Fantasy Action</td>\n",
       "      <td>122</td>\n",
       "      <td>en</td>\n",
       "      <td>Aragorn is revealed as the heir to the ancient...</td>\n",
       "      <td>29.324358</td>\n",
       "      <td>English</td>\n",
       "      <td>The Lord of the Rings: The Return of the King</td>\n",
       "      <td>8.1</td>\n",
       "      <td>8226</td>\n",
       "      <td>7.975623</td>\n",
       "      <td>ElijahWood IanMcKellen ViggoMortensen LivTyler...</td>\n",
       "      <td>PeterJackson</td>\n",
       "      <td>elves orcs middle-earth (tolkien) based on nov...</td>\n",
       "      <td>7153</td>\n",
       "      <td>4.109478</td>\n",
       "    </tr>\n",
       "    <tr>\n",
       "      <th>571</th>\n",
       "      <td>Mystery Thriller</td>\n",
       "      <td>77</td>\n",
       "      <td>en</td>\n",
       "      <td>Suffering short-term memory loss after a head ...</td>\n",
       "      <td>15.450789</td>\n",
       "      <td>English</td>\n",
       "      <td>Memento</td>\n",
       "      <td>8.1</td>\n",
       "      <td>4168</td>\n",
       "      <td>7.865949</td>\n",
       "      <td>GuyPearce Carrie-AnneMoss JoePantoliano MarkBo...</td>\n",
       "      <td>ChristopherNolan</td>\n",
       "      <td>individual insulin tattoo waitress amnesia mot...</td>\n",
       "      <td>4226</td>\n",
       "      <td>4.157078</td>\n",
       "    </tr>\n",
       "    <tr>\n",
       "      <th>1014</th>\n",
       "      <td>Drama Mystery Thriller</td>\n",
       "      <td>1124</td>\n",
       "      <td>en</td>\n",
       "      <td>A mysterious story of two magicians whose inte...</td>\n",
       "      <td>16.945560</td>\n",
       "      <td>English</td>\n",
       "      <td>The Prestige</td>\n",
       "      <td>8.0</td>\n",
       "      <td>4510</td>\n",
       "      <td>7.790918</td>\n",
       "      <td>HughJackman ChristianBale MichaelCaine Scarlet...</td>\n",
       "      <td>ChristopherNolan</td>\n",
       "      <td>competition secret obsession magic dying and d...</td>\n",
       "      <td>48780</td>\n",
       "      <td>4.078295</td>\n",
       "    </tr>\n",
       "    <tr>\n",
       "      <th>902</th>\n",
       "      <td>Action Crime Drama</td>\n",
       "      <td>272</td>\n",
       "      <td>en</td>\n",
       "      <td>Driven by tragedy, billionaire Bruce Wayne ded...</td>\n",
       "      <td>28.505341</td>\n",
       "      <td>English اردو 普通话</td>\n",
       "      <td>Batman Begins</td>\n",
       "      <td>7.5</td>\n",
       "      <td>7511</td>\n",
       "      <td>7.397206</td>\n",
       "      <td>ChristianBale MichaelCaine LiamNeeson KatieHol...</td>\n",
       "      <td>ChristopherNolan</td>\n",
       "      <td>himalaya martial arts dc comics crime fighter ...</td>\n",
       "      <td>33794</td>\n",
       "      <td>3.944856</td>\n",
       "    </tr>\n",
       "    <tr>\n",
       "      <th>769</th>\n",
       "      <td>Adventure Fantasy Drama</td>\n",
       "      <td>587</td>\n",
       "      <td>en</td>\n",
       "      <td>Throughout his life Edward Bloom has always be...</td>\n",
       "      <td>14.739983</td>\n",
       "      <td>English</td>\n",
       "      <td>Big Fish</td>\n",
       "      <td>7.6</td>\n",
       "      <td>2064</td>\n",
       "      <td>7.255684</td>\n",
       "      <td>EwanMcGregor AlbertFinney BillyCrudup JessicaL...</td>\n",
       "      <td>TimBurton</td>\n",
       "      <td>circus father son relationship witch fish fish...</td>\n",
       "      <td>7147</td>\n",
       "      <td>3.808669</td>\n",
       "    </tr>\n",
       "    <tr>\n",
       "      <th>2288</th>\n",
       "      <td>Action Drama History Thriller War</td>\n",
       "      <td>374720</td>\n",
       "      <td>en</td>\n",
       "      <td>The miraculous evacuation of Allied soldiers f...</td>\n",
       "      <td>30.938854</td>\n",
       "      <td>English Français Deutsch</td>\n",
       "      <td>Dunkirk</td>\n",
       "      <td>7.5</td>\n",
       "      <td>2712</td>\n",
       "      <td>7.240400</td>\n",
       "      <td>FionnWhitehead TomGlynn-Carney JackLowden Harr...</td>\n",
       "      <td>ChristopherNolan</td>\n",
       "      <td>france beach world war ii evacuation german pi...</td>\n",
       "      <td>174055</td>\n",
       "      <td>4.113475</td>\n",
       "    </tr>\n",
       "    <tr>\n",
       "      <th>768</th>\n",
       "      <td>Drama Action War History</td>\n",
       "      <td>616</td>\n",
       "      <td>en</td>\n",
       "      <td>Nathan Algren is an American hired to instruct...</td>\n",
       "      <td>19.582325</td>\n",
       "      <td>English 日本語</td>\n",
       "      <td>The Last Samurai</td>\n",
       "      <td>7.3</td>\n",
       "      <td>1946</td>\n",
       "      <td>6.993319</td>\n",
       "      <td>TomCruise KenWatanabe WilliamAtherton ChadLind...</td>\n",
       "      <td>EdwardZwick</td>\n",
       "      <td>japan war crimes sense of guilt swordplay gene...</td>\n",
       "      <td>7143</td>\n",
       "      <td>3.673578</td>\n",
       "    </tr>\n",
       "  </tbody>\n",
       "</table>\n",
       "</div>"
      ],
      "text/plain": [
       "                                                genres      id  \\\n",
       "1135                       Drama Action Crime Thriller     155   \n",
       "1365  Action Thriller ScienceFiction Mystery Adventure   27205   \n",
       "1816                    Adventure Drama ScienceFiction  157336   \n",
       "770                           Adventure Fantasy Action     122   \n",
       "571                                   Mystery Thriller      77   \n",
       "1014                            Drama Mystery Thriller    1124   \n",
       "902                                 Action Crime Drama     272   \n",
       "769                            Adventure Fantasy Drama     587   \n",
       "2288                 Action Drama History Thriller War  374720   \n",
       "768                           Drama Action War History     616   \n",
       "\n",
       "     original_language                                           overview  \\\n",
       "1135                en  Batman raises the stakes in his war on crime. ...   \n",
       "1365                en  Cobb, a skilled thief who commits corporate es...   \n",
       "1816                en  Interstellar chronicles the adventures of a gr...   \n",
       "770                 en  Aragorn is revealed as the heir to the ancient...   \n",
       "571                 en  Suffering short-term memory loss after a head ...   \n",
       "1014                en  A mysterious story of two magicians whose inte...   \n",
       "902                 en  Driven by tragedy, billionaire Bruce Wayne ded...   \n",
       "769                 en  Throughout his life Edward Bloom has always be...   \n",
       "2288                en  The miraculous evacuation of Allied soldiers f...   \n",
       "768                 en  Nathan Algren is an American hired to instruct...   \n",
       "\n",
       "      popularity          spoken_languages  \\\n",
       "1135  123.167259               English 普通话   \n",
       "1365   29.108149                   English   \n",
       "1816   32.213481                   English   \n",
       "770    29.324358                   English   \n",
       "571    15.450789                   English   \n",
       "1014   16.945560                   English   \n",
       "902    28.505341          English اردو 普通话   \n",
       "769    14.739983                   English   \n",
       "2288   30.938854  English Français Deutsch   \n",
       "768    19.582325               English 日本語   \n",
       "\n",
       "                                              title  vote_average  vote_count  \\\n",
       "1135                                The Dark Knight           8.3       12269   \n",
       "1365                                      Inception           8.1       14075   \n",
       "1816                                   Interstellar           8.1       11187   \n",
       "770   The Lord of the Rings: The Return of the King           8.1        8226   \n",
       "571                                         Memento           8.1        4168   \n",
       "1014                                   The Prestige           8.0        4510   \n",
       "902                                   Batman Begins           7.5        7511   \n",
       "769                                        Big Fish           7.6        2064   \n",
       "2288                                        Dunkirk           7.5        2712   \n",
       "768                                The Last Samurai           7.3        1946   \n",
       "\n",
       "         score                                               cast  \\\n",
       "1135  8.208376  ChristianBale MichaelCaine HeathLedger AaronEc...   \n",
       "1365  8.025763  LeonardoDiCaprio JosephGordon-Levitt EllenPage...   \n",
       "1816  8.007314  MatthewMcConaughey JessicaChastain AnneHathawa...   \n",
       "770   7.975623  ElijahWood IanMcKellen ViggoMortensen LivTyler...   \n",
       "571   7.865949  GuyPearce Carrie-AnneMoss JoePantoliano MarkBo...   \n",
       "1014  7.790918  HughJackman ChristianBale MichaelCaine Scarlet...   \n",
       "902   7.397206  ChristianBale MichaelCaine LiamNeeson KatieHol...   \n",
       "769   7.255684  EwanMcGregor AlbertFinney BillyCrudup JessicaL...   \n",
       "2288  7.240400  FionnWhitehead TomGlynn-Carney JackLowden Harr...   \n",
       "768   6.993319  TomCruise KenWatanabe WilliamAtherton ChadLind...   \n",
       "\n",
       "                  crew                                           keywords  \\\n",
       "1135  ChristopherNolan  dc comics crime fighter secret identity scarec...   \n",
       "1365  ChristopherNolan  loss of lover dream kidnapping sleep subconsci...   \n",
       "1816  ChristopherNolan  saving the world artificial intelligence fathe...   \n",
       "770       PeterJackson  elves orcs middle-earth (tolkien) based on nov...   \n",
       "571   ChristopherNolan  individual insulin tattoo waitress amnesia mot...   \n",
       "1014  ChristopherNolan  competition secret obsession magic dying and d...   \n",
       "902   ChristopherNolan  himalaya martial arts dc comics crime fighter ...   \n",
       "769          TimBurton  circus father son relationship witch fish fish...   \n",
       "2288  ChristopherNolan  france beach world war ii evacuation german pi...   \n",
       "768        EdwardZwick  japan war crimes sense of guilt swordplay gene...   \n",
       "\n",
       "      movieId    rating  \n",
       "1135    58559  4.182071  \n",
       "1365    79132  4.161756  \n",
       "1816   109487  4.086824  \n",
       "770      7153  4.109478  \n",
       "571      4226  4.157078  \n",
       "1014    48780  4.078295  \n",
       "902     33794  3.944856  \n",
       "769      7147  3.808669  \n",
       "2288   174055  4.113475  \n",
       "768      7143  3.673578  "
      ]
     },
     "execution_count": 109,
     "metadata": {},
     "output_type": "execute_result"
    }
   ],
   "source": [
    "get_recommend_movie_list(data, crew_cs, movie_title='The Dark Knight Rises')"
   ]
  },
  {
   "cell_type": "code",
   "execution_count": 110,
   "metadata": {
    "ExecuteTime": {
     "end_time": "2020-12-21T07:17:03.403630Z",
     "start_time": "2020-12-21T07:17:03.366866Z"
    }
   },
   "outputs": [
    {
     "data": {
      "text/plain": [
       "1504    JossWhedon\n",
       "Name: crew, dtype: object"
      ]
     },
     "execution_count": 110,
     "metadata": {},
     "output_type": "execute_result"
    }
   ],
   "source": [
    "data[data['title'] == 'The Avengers']['crew']"
   ]
  },
  {
   "cell_type": "code",
   "execution_count": 111,
   "metadata": {
    "ExecuteTime": {
     "end_time": "2020-12-21T07:17:03.507720Z",
     "start_time": "2020-12-21T07:17:03.409687Z"
    }
   },
   "outputs": [
    {
     "data": {
      "text/html": [
       "<div>\n",
       "<style scoped>\n",
       "    .dataframe tbody tr th:only-of-type {\n",
       "        vertical-align: middle;\n",
       "    }\n",
       "\n",
       "    .dataframe tbody tr th {\n",
       "        vertical-align: top;\n",
       "    }\n",
       "\n",
       "    .dataframe thead th {\n",
       "        text-align: right;\n",
       "    }\n",
       "</style>\n",
       "<table border=\"1\" class=\"dataframe\">\n",
       "  <thead>\n",
       "    <tr style=\"text-align: right;\">\n",
       "      <th></th>\n",
       "      <th>genres</th>\n",
       "      <th>id</th>\n",
       "      <th>original_language</th>\n",
       "      <th>overview</th>\n",
       "      <th>popularity</th>\n",
       "      <th>spoken_languages</th>\n",
       "      <th>title</th>\n",
       "      <th>vote_average</th>\n",
       "      <th>vote_count</th>\n",
       "      <th>score</th>\n",
       "      <th>cast</th>\n",
       "      <th>crew</th>\n",
       "      <th>keywords</th>\n",
       "      <th>movieId</th>\n",
       "      <th>rating</th>\n",
       "    </tr>\n",
       "  </thead>\n",
       "  <tbody>\n",
       "    <tr>\n",
       "      <th>769</th>\n",
       "      <td>Adventure Fantasy Drama</td>\n",
       "      <td>587</td>\n",
       "      <td>en</td>\n",
       "      <td>Throughout his life Edward Bloom has always be...</td>\n",
       "      <td>14.739983</td>\n",
       "      <td>English</td>\n",
       "      <td>Big Fish</td>\n",
       "      <td>7.6</td>\n",
       "      <td>2064</td>\n",
       "      <td>7.255684</td>\n",
       "      <td>EwanMcGregor AlbertFinney BillyCrudup JessicaL...</td>\n",
       "      <td>TimBurton</td>\n",
       "      <td>circus father son relationship witch fish fish...</td>\n",
       "      <td>7147</td>\n",
       "      <td>3.808669</td>\n",
       "    </tr>\n",
       "    <tr>\n",
       "      <th>1958</th>\n",
       "      <td>Action Adventure ScienceFiction</td>\n",
       "      <td>99861</td>\n",
       "      <td>en</td>\n",
       "      <td>When Tony Stark tries to jumpstart a dormant p...</td>\n",
       "      <td>37.379420</td>\n",
       "      <td>English</td>\n",
       "      <td>Avengers: Age of Ultron</td>\n",
       "      <td>7.3</td>\n",
       "      <td>6908</td>\n",
       "      <td>7.200585</td>\n",
       "      <td>RobertDowneyJr. ChrisHemsworth MarkRuffalo Chr...</td>\n",
       "      <td>JossWhedon</td>\n",
       "      <td>marvel comic sequel superhero based on comic v...</td>\n",
       "      <td>122892</td>\n",
       "      <td>3.594980</td>\n",
       "    </tr>\n",
       "    <tr>\n",
       "      <th>777</th>\n",
       "      <td>ScienceFiction Thriller</td>\n",
       "      <td>1954</td>\n",
       "      <td>en</td>\n",
       "      <td>A young man struggles to access sublimated chi...</td>\n",
       "      <td>12.994939</td>\n",
       "      <td>English</td>\n",
       "      <td>The Butterfly Effect</td>\n",
       "      <td>7.3</td>\n",
       "      <td>2119</td>\n",
       "      <td>7.014100</td>\n",
       "      <td>AshtonKutcher MeloraWalters AmySmart EldenHens...</td>\n",
       "      <td>EricBress J.MackyeGruber</td>\n",
       "      <td>amnesia chaos theory blackout time travel flas...</td>\n",
       "      <td>7254</td>\n",
       "      <td>3.707217</td>\n",
       "    </tr>\n",
       "    <tr>\n",
       "      <th>768</th>\n",
       "      <td>Drama Action War History</td>\n",
       "      <td>616</td>\n",
       "      <td>en</td>\n",
       "      <td>Nathan Algren is an American hired to instruct...</td>\n",
       "      <td>19.582325</td>\n",
       "      <td>English 日本語</td>\n",
       "      <td>The Last Samurai</td>\n",
       "      <td>7.3</td>\n",
       "      <td>1946</td>\n",
       "      <td>6.993319</td>\n",
       "      <td>TomCruise KenWatanabe WilliamAtherton ChadLind...</td>\n",
       "      <td>EdwardZwick</td>\n",
       "      <td>japan war crimes sense of guilt swordplay gene...</td>\n",
       "      <td>7143</td>\n",
       "      <td>3.673578</td>\n",
       "    </tr>\n",
       "    <tr>\n",
       "      <th>767</th>\n",
       "      <td>Adventure Animation Fantasy</td>\n",
       "      <td>81</td>\n",
       "      <td>ja</td>\n",
       "      <td>After a global war, the seaside kingdom known ...</td>\n",
       "      <td>11.267366</td>\n",
       "      <td>日本語</td>\n",
       "      <td>Nausicaä of the Valley of the Wind</td>\n",
       "      <td>7.7</td>\n",
       "      <td>808</td>\n",
       "      <td>6.972543</td>\n",
       "      <td>SumiShimamoto IchirōNagai GorōNaya YōjiMatsuda...</td>\n",
       "      <td>HayaoMiyazaki</td>\n",
       "      <td>saving the world human vs nature fungus spores...</td>\n",
       "      <td>7099</td>\n",
       "      <td>4.069051</td>\n",
       "    </tr>\n",
       "    <tr>\n",
       "      <th>910</th>\n",
       "      <td>ScienceFiction Action Adventure Thriller</td>\n",
       "      <td>16320</td>\n",
       "      <td>en</td>\n",
       "      <td>When the renegade crew of Serenity agrees to h...</td>\n",
       "      <td>11.919995</td>\n",
       "      <td>English 普通话</td>\n",
       "      <td>Serenity</td>\n",
       "      <td>7.4</td>\n",
       "      <td>1287</td>\n",
       "      <td>6.950667</td>\n",
       "      <td>NathanFillion GinaTorres AlanTudyk MorenaBacca...</td>\n",
       "      <td>JossWhedon</td>\n",
       "      <td>martial arts telepathy dystopia spaceship fugi...</td>\n",
       "      <td>34405</td>\n",
       "      <td>3.988671</td>\n",
       "    </tr>\n",
       "    <tr>\n",
       "      <th>765</th>\n",
       "      <td>Drama Thriller Adventure</td>\n",
       "      <td>3176</td>\n",
       "      <td>ja</td>\n",
       "      <td>In the future, the Japanese government capture...</td>\n",
       "      <td>12.701098</td>\n",
       "      <td>日本語</td>\n",
       "      <td>Battle Royale</td>\n",
       "      <td>7.3</td>\n",
       "      <td>992</td>\n",
       "      <td>6.788148</td>\n",
       "      <td>TakeshiKitano TsuyakoKinoshita EriIshikawa Say...</td>\n",
       "      <td>KinjiFukasaku</td>\n",
       "      <td>island television survivor soldier battle deat...</td>\n",
       "      <td>7022</td>\n",
       "      <td>3.794012</td>\n",
       "    </tr>\n",
       "    <tr>\n",
       "      <th>756</th>\n",
       "      <td>Comedy Romance Drama</td>\n",
       "      <td>508</td>\n",
       "      <td>en</td>\n",
       "      <td>Follows seemingly unrelated people as their li...</td>\n",
       "      <td>10.586815</td>\n",
       "      <td>English Français Português</td>\n",
       "      <td>Love Actually</td>\n",
       "      <td>7.0</td>\n",
       "      <td>1917</td>\n",
       "      <td>6.744916</td>\n",
       "      <td>KeiraKnightley HeikeMakatsch EmmaThompson Laur...</td>\n",
       "      <td>RichardCurtis</td>\n",
       "      <td>london england male nudity female nudity love ...</td>\n",
       "      <td>6942</td>\n",
       "      <td>3.749628</td>\n",
       "    </tr>\n",
       "    <tr>\n",
       "      <th>759</th>\n",
       "      <td>Drama Crime Thriller</td>\n",
       "      <td>470</td>\n",
       "      <td>en</td>\n",
       "      <td>This is the story of three gentle persons: Pau...</td>\n",
       "      <td>6.372278</td>\n",
       "      <td>English</td>\n",
       "      <td>21 Grams</td>\n",
       "      <td>7.2</td>\n",
       "      <td>943</td>\n",
       "      <td>6.701451</td>\n",
       "      <td>SeanPenn NaomiWatts BeniciodelToro DannyHuston...</td>\n",
       "      <td>AlejandroGonzálezIñárritu</td>\n",
       "      <td>life and death transplantation suicide attempt...</td>\n",
       "      <td>6953</td>\n",
       "      <td>3.692590</td>\n",
       "    </tr>\n",
       "    <tr>\n",
       "      <th>782</th>\n",
       "      <td>Comedy Drama Romance</td>\n",
       "      <td>338</td>\n",
       "      <td>de</td>\n",
       "      <td>An affectionate and refreshing East/West-Germa...</td>\n",
       "      <td>10.605595</td>\n",
       "      <td>Deutsch</td>\n",
       "      <td>Good bye, Lenin!</td>\n",
       "      <td>7.4</td>\n",
       "      <td>602</td>\n",
       "      <td>6.653570</td>\n",
       "      <td>DanielBrühl KatrinSass ChulpanKhamatova MariaS...</td>\n",
       "      <td>WolfgangBecker</td>\n",
       "      <td>bureaucracy berlin wall police state coma loss...</td>\n",
       "      <td>7323</td>\n",
       "      <td>3.887241</td>\n",
       "    </tr>\n",
       "  </tbody>\n",
       "</table>\n",
       "</div>"
      ],
      "text/plain": [
       "                                        genres     id original_language  \\\n",
       "769                    Adventure Fantasy Drama    587                en   \n",
       "1958           Action Adventure ScienceFiction  99861                en   \n",
       "777                    ScienceFiction Thriller   1954                en   \n",
       "768                   Drama Action War History    616                en   \n",
       "767                Adventure Animation Fantasy     81                ja   \n",
       "910   ScienceFiction Action Adventure Thriller  16320                en   \n",
       "765                   Drama Thriller Adventure   3176                ja   \n",
       "756                       Comedy Romance Drama    508                en   \n",
       "759                       Drama Crime Thriller    470                en   \n",
       "782                       Comedy Drama Romance    338                de   \n",
       "\n",
       "                                               overview  popularity  \\\n",
       "769   Throughout his life Edward Bloom has always be...   14.739983   \n",
       "1958  When Tony Stark tries to jumpstart a dormant p...   37.379420   \n",
       "777   A young man struggles to access sublimated chi...   12.994939   \n",
       "768   Nathan Algren is an American hired to instruct...   19.582325   \n",
       "767   After a global war, the seaside kingdom known ...   11.267366   \n",
       "910   When the renegade crew of Serenity agrees to h...   11.919995   \n",
       "765   In the future, the Japanese government capture...   12.701098   \n",
       "756   Follows seemingly unrelated people as their li...   10.586815   \n",
       "759   This is the story of three gentle persons: Pau...    6.372278   \n",
       "782   An affectionate and refreshing East/West-Germa...   10.605595   \n",
       "\n",
       "                spoken_languages                               title  \\\n",
       "769                      English                            Big Fish   \n",
       "1958                     English             Avengers: Age of Ultron   \n",
       "777                      English                The Butterfly Effect   \n",
       "768                  English 日本語                    The Last Samurai   \n",
       "767                          日本語  Nausicaä of the Valley of the Wind   \n",
       "910                  English 普通话                            Serenity   \n",
       "765                          日本語                       Battle Royale   \n",
       "756   English Français Português                       Love Actually   \n",
       "759                      English                            21 Grams   \n",
       "782                      Deutsch                    Good bye, Lenin!   \n",
       "\n",
       "      vote_average  vote_count     score  \\\n",
       "769            7.6        2064  7.255684   \n",
       "1958           7.3        6908  7.200585   \n",
       "777            7.3        2119  7.014100   \n",
       "768            7.3        1946  6.993319   \n",
       "767            7.7         808  6.972543   \n",
       "910            7.4        1287  6.950667   \n",
       "765            7.3         992  6.788148   \n",
       "756            7.0        1917  6.744916   \n",
       "759            7.2         943  6.701451   \n",
       "782            7.4         602  6.653570   \n",
       "\n",
       "                                                   cast  \\\n",
       "769   EwanMcGregor AlbertFinney BillyCrudup JessicaL...   \n",
       "1958  RobertDowneyJr. ChrisHemsworth MarkRuffalo Chr...   \n",
       "777   AshtonKutcher MeloraWalters AmySmart EldenHens...   \n",
       "768   TomCruise KenWatanabe WilliamAtherton ChadLind...   \n",
       "767   SumiShimamoto IchirōNagai GorōNaya YōjiMatsuda...   \n",
       "910   NathanFillion GinaTorres AlanTudyk MorenaBacca...   \n",
       "765   TakeshiKitano TsuyakoKinoshita EriIshikawa Say...   \n",
       "756   KeiraKnightley HeikeMakatsch EmmaThompson Laur...   \n",
       "759   SeanPenn NaomiWatts BeniciodelToro DannyHuston...   \n",
       "782   DanielBrühl KatrinSass ChulpanKhamatova MariaS...   \n",
       "\n",
       "                           crew  \\\n",
       "769                   TimBurton   \n",
       "1958                 JossWhedon   \n",
       "777    EricBress J.MackyeGruber   \n",
       "768                 EdwardZwick   \n",
       "767               HayaoMiyazaki   \n",
       "910                  JossWhedon   \n",
       "765               KinjiFukasaku   \n",
       "756               RichardCurtis   \n",
       "759   AlejandroGonzálezIñárritu   \n",
       "782              WolfgangBecker   \n",
       "\n",
       "                                               keywords  movieId    rating  \n",
       "769   circus father son relationship witch fish fish...     7147  3.808669  \n",
       "1958  marvel comic sequel superhero based on comic v...   122892  3.594980  \n",
       "777   amnesia chaos theory blackout time travel flas...     7254  3.707217  \n",
       "768   japan war crimes sense of guilt swordplay gene...     7143  3.673578  \n",
       "767   saving the world human vs nature fungus spores...     7099  4.069051  \n",
       "910   martial arts telepathy dystopia spaceship fugi...    34405  3.988671  \n",
       "765   island television survivor soldier battle deat...     7022  3.794012  \n",
       "756   london england male nudity female nudity love ...     6942  3.749628  \n",
       "759   life and death transplantation suicide attempt...     6953  3.692590  \n",
       "782   bureaucracy berlin wall police state coma loss...     7323  3.887241  "
      ]
     },
     "execution_count": 111,
     "metadata": {},
     "output_type": "execute_result"
    }
   ],
   "source": [
    "get_recommend_movie_list(data, crew_cs, movie_title='The Avengers')"
   ]
  },
  {
   "cell_type": "markdown",
   "metadata": {},
   "source": [
    "## all"
   ]
  },
  {
   "cell_type": "code",
   "execution_count": 112,
   "metadata": {
    "ExecuteTime": {
     "end_time": "2020-12-21T07:17:03.627406Z",
     "start_time": "2020-12-21T07:17:03.513363Z"
    }
   },
   "outputs": [],
   "source": [
    "data['all'] = data['genres'] + ' ' + data['overview'] + ' ' + data['keywords'] + ' ' + data['cast'] + ' ' + data['crew']"
   ]
  },
  {
   "cell_type": "code",
   "execution_count": 113,
   "metadata": {
    "ExecuteTime": {
     "end_time": "2020-12-21T07:17:05.129402Z",
     "start_time": "2020-12-21T07:17:03.635863Z"
    }
   },
   "outputs": [],
   "source": [
    "tfidf_all = tfidf.fit_transform(data['all'])"
   ]
  },
  {
   "cell_type": "code",
   "execution_count": 114,
   "metadata": {
    "ExecuteTime": {
     "end_time": "2020-12-21T07:17:05.155455Z",
     "start_time": "2020-12-21T07:17:05.133612Z"
    }
   },
   "outputs": [
    {
     "data": {
      "text/plain": [
       "(2291, 58299)"
      ]
     },
     "execution_count": 114,
     "metadata": {},
     "output_type": "execute_result"
    }
   ],
   "source": [
    "tfidf_all.shape"
   ]
  },
  {
   "cell_type": "code",
   "execution_count": 115,
   "metadata": {
    "ExecuteTime": {
     "end_time": "2020-12-21T07:17:06.151400Z",
     "start_time": "2020-12-21T07:17:05.160660Z"
    }
   },
   "outputs": [],
   "source": [
    "#코사인 유사도를 구한 벡터를 미리 저장\n",
    "all_cs = linear_kernel(tfidf_all, tfidf_all).argsort()[:, ::-1]"
   ]
  },
  {
   "cell_type": "code",
   "execution_count": 116,
   "metadata": {
    "ExecuteTime": {
     "end_time": "2020-12-21T07:17:06.180759Z",
     "start_time": "2020-12-21T07:17:06.156455Z"
    }
   },
   "outputs": [
    {
     "data": {
      "text/plain": [
       "array([[   0,  460, 1358, ..., 2051, 2050, 2290],\n",
       "       [   1, 1910,  943, ...,  907, 2202, 1028],\n",
       "       [   2,  930, 1707, ...,  949,  952,    0],\n",
       "       ...,\n",
       "       [2288,  183,  323, ...,  641, 1843,    0],\n",
       "       [2289, 1248, 1478, ..., 1374,  512,    0],\n",
       "       [2290, 1412,   27, ...,  453, 1173,    0]], dtype=int64)"
      ]
     },
     "execution_count": 116,
     "metadata": {},
     "output_type": "execute_result"
    }
   ],
   "source": [
    "all_cs"
   ]
  },
  {
   "cell_type": "code",
   "execution_count": 117,
   "metadata": {
    "ExecuteTime": {
     "end_time": "2020-12-21T07:17:06.206239Z",
     "start_time": "2020-12-21T07:17:06.184699Z"
    }
   },
   "outputs": [
    {
     "data": {
      "text/plain": [
       "(2291, 2291)"
      ]
     },
     "execution_count": 117,
     "metadata": {},
     "output_type": "execute_result"
    }
   ],
   "source": [
    "all_cs.shape"
   ]
  },
  {
   "cell_type": "code",
   "execution_count": 118,
   "metadata": {
    "ExecuteTime": {
     "end_time": "2020-12-21T07:17:06.233936Z",
     "start_time": "2020-12-21T07:17:06.210233Z"
    }
   },
   "outputs": [
    {
     "data": {
      "text/plain": [
       "1541    Action Crime Drama Thriller Following the deat...\n",
       "Name: all, dtype: object"
      ]
     },
     "execution_count": 118,
     "metadata": {},
     "output_type": "execute_result"
    }
   ],
   "source": [
    "data[data['title'] == 'The Dark Knight Rises']['all']"
   ]
  },
  {
   "cell_type": "code",
   "execution_count": 119,
   "metadata": {
    "ExecuteTime": {
     "end_time": "2020-12-21T07:17:06.316554Z",
     "start_time": "2020-12-21T07:17:06.236775Z"
    },
    "scrolled": false
   },
   "outputs": [
    {
     "data": {
      "text/html": [
       "<div>\n",
       "<style scoped>\n",
       "    .dataframe tbody tr th:only-of-type {\n",
       "        vertical-align: middle;\n",
       "    }\n",
       "\n",
       "    .dataframe tbody tr th {\n",
       "        vertical-align: top;\n",
       "    }\n",
       "\n",
       "    .dataframe thead th {\n",
       "        text-align: right;\n",
       "    }\n",
       "</style>\n",
       "<table border=\"1\" class=\"dataframe\">\n",
       "  <thead>\n",
       "    <tr style=\"text-align: right;\">\n",
       "      <th></th>\n",
       "      <th>genres</th>\n",
       "      <th>id</th>\n",
       "      <th>original_language</th>\n",
       "      <th>overview</th>\n",
       "      <th>popularity</th>\n",
       "      <th>spoken_languages</th>\n",
       "      <th>title</th>\n",
       "      <th>vote_average</th>\n",
       "      <th>vote_count</th>\n",
       "      <th>score</th>\n",
       "      <th>cast</th>\n",
       "      <th>crew</th>\n",
       "      <th>keywords</th>\n",
       "      <th>movieId</th>\n",
       "      <th>rating</th>\n",
       "      <th>all</th>\n",
       "    </tr>\n",
       "  </thead>\n",
       "  <tbody>\n",
       "    <tr>\n",
       "      <th>1135</th>\n",
       "      <td>Drama Action Crime Thriller</td>\n",
       "      <td>155</td>\n",
       "      <td>en</td>\n",
       "      <td>Batman raises the stakes in his war on crime. ...</td>\n",
       "      <td>123.167259</td>\n",
       "      <td>English 普通话</td>\n",
       "      <td>The Dark Knight</td>\n",
       "      <td>8.3</td>\n",
       "      <td>12269</td>\n",
       "      <td>8.208376</td>\n",
       "      <td>ChristianBale MichaelCaine HeathLedger AaronEc...</td>\n",
       "      <td>ChristopherNolan</td>\n",
       "      <td>dc comics crime fighter secret identity scarec...</td>\n",
       "      <td>58559</td>\n",
       "      <td>4.182071</td>\n",
       "      <td>Drama Action Crime Thriller Batman raises the ...</td>\n",
       "    </tr>\n",
       "    <tr>\n",
       "      <th>1365</th>\n",
       "      <td>Action Thriller ScienceFiction Mystery Adventure</td>\n",
       "      <td>27205</td>\n",
       "      <td>en</td>\n",
       "      <td>Cobb, a skilled thief who commits corporate es...</td>\n",
       "      <td>29.108149</td>\n",
       "      <td>English</td>\n",
       "      <td>Inception</td>\n",
       "      <td>8.1</td>\n",
       "      <td>14075</td>\n",
       "      <td>8.025763</td>\n",
       "      <td>LeonardoDiCaprio JosephGordon-Levitt EllenPage...</td>\n",
       "      <td>ChristopherNolan</td>\n",
       "      <td>loss of lover dream kidnapping sleep subconsci...</td>\n",
       "      <td>79132</td>\n",
       "      <td>4.161756</td>\n",
       "      <td>Action Thriller ScienceFiction Mystery Adventu...</td>\n",
       "    </tr>\n",
       "    <tr>\n",
       "      <th>1816</th>\n",
       "      <td>Adventure Drama ScienceFiction</td>\n",
       "      <td>157336</td>\n",
       "      <td>en</td>\n",
       "      <td>Interstellar chronicles the adventures of a gr...</td>\n",
       "      <td>32.213481</td>\n",
       "      <td>English</td>\n",
       "      <td>Interstellar</td>\n",
       "      <td>8.1</td>\n",
       "      <td>11187</td>\n",
       "      <td>8.007314</td>\n",
       "      <td>MatthewMcConaughey JessicaChastain AnneHathawa...</td>\n",
       "      <td>ChristopherNolan</td>\n",
       "      <td>saving the world artificial intelligence fathe...</td>\n",
       "      <td>109487</td>\n",
       "      <td>4.086824</td>\n",
       "      <td>Adventure Drama ScienceFiction Interstellar ch...</td>\n",
       "    </tr>\n",
       "    <tr>\n",
       "      <th>1014</th>\n",
       "      <td>Drama Mystery Thriller</td>\n",
       "      <td>1124</td>\n",
       "      <td>en</td>\n",
       "      <td>A mysterious story of two magicians whose inte...</td>\n",
       "      <td>16.945560</td>\n",
       "      <td>English</td>\n",
       "      <td>The Prestige</td>\n",
       "      <td>8.0</td>\n",
       "      <td>4510</td>\n",
       "      <td>7.790918</td>\n",
       "      <td>HughJackman ChristianBale MichaelCaine Scarlet...</td>\n",
       "      <td>ChristopherNolan</td>\n",
       "      <td>competition secret obsession magic dying and d...</td>\n",
       "      <td>48780</td>\n",
       "      <td>4.078295</td>\n",
       "      <td>Drama Mystery Thriller A mysterious story of t...</td>\n",
       "    </tr>\n",
       "    <tr>\n",
       "      <th>1787</th>\n",
       "      <td>Crime Drama Comedy</td>\n",
       "      <td>106646</td>\n",
       "      <td>en</td>\n",
       "      <td>A New York stockbroker refuses to cooperate in...</td>\n",
       "      <td>16.382422</td>\n",
       "      <td>Français English</td>\n",
       "      <td>The Wolf of Wall Street</td>\n",
       "      <td>7.9</td>\n",
       "      <td>6768</td>\n",
       "      <td>7.762496</td>\n",
       "      <td>LeonardoDiCaprio JonahHill MargotRobbie KyleCh...</td>\n",
       "      <td>MartinScorsese</td>\n",
       "      <td>corruption sex sexuality bank humor biography ...</td>\n",
       "      <td>106782</td>\n",
       "      <td>3.858644</td>\n",
       "      <td>Crime Drama Comedy A New York stockbroker refu...</td>\n",
       "    </tr>\n",
       "    <tr>\n",
       "      <th>902</th>\n",
       "      <td>Action Crime Drama</td>\n",
       "      <td>272</td>\n",
       "      <td>en</td>\n",
       "      <td>Driven by tragedy, billionaire Bruce Wayne ded...</td>\n",
       "      <td>28.505341</td>\n",
       "      <td>English اردو 普通话</td>\n",
       "      <td>Batman Begins</td>\n",
       "      <td>7.5</td>\n",
       "      <td>7511</td>\n",
       "      <td>7.397206</td>\n",
       "      <td>ChristianBale MichaelCaine LiamNeeson KatieHol...</td>\n",
       "      <td>ChristopherNolan</td>\n",
       "      <td>himalaya martial arts dc comics crime fighter ...</td>\n",
       "      <td>33794</td>\n",
       "      <td>3.944856</td>\n",
       "      <td>Action Crime Drama Driven by tragedy, billiona...</td>\n",
       "    </tr>\n",
       "    <tr>\n",
       "      <th>1247</th>\n",
       "      <td>Drama Thriller War</td>\n",
       "      <td>12162</td>\n",
       "      <td>en</td>\n",
       "      <td>Forced to play a dangerous game of cat-and-mou...</td>\n",
       "      <td>9.403724</td>\n",
       "      <td>English العربية Türkçe</td>\n",
       "      <td>The Hurt Locker</td>\n",
       "      <td>7.2</td>\n",
       "      <td>1881</td>\n",
       "      <td>6.903455</td>\n",
       "      <td>JeremyRenner AnthonyMackie BrianGeraghty GuyPe...</td>\n",
       "      <td>KathrynBigelow</td>\n",
       "      <td>sniper explosive loyalty u.s. army iraq car bo...</td>\n",
       "      <td>69481</td>\n",
       "      <td>3.741221</td>\n",
       "      <td>Drama Thriller War Forced to play a dangerous ...</td>\n",
       "    </tr>\n",
       "    <tr>\n",
       "      <th>195</th>\n",
       "      <td>Drama Action Thriller Crime</td>\n",
       "      <td>832</td>\n",
       "      <td>de</td>\n",
       "      <td>In this classic German thriller, Hans Beckert,...</td>\n",
       "      <td>12.752421</td>\n",
       "      <td>Deutsch</td>\n",
       "      <td>M</td>\n",
       "      <td>8.0</td>\n",
       "      <td>465</td>\n",
       "      <td>6.850165</td>\n",
       "      <td>PeterLorre EllenWidmann IngeLandgut OttoWernic...</td>\n",
       "      <td>FritzLang</td>\n",
       "      <td>germany berlin underworld child murderer detec...</td>\n",
       "      <td>1260</td>\n",
       "      <td>4.163554</td>\n",
       "      <td>Drama Action Thriller Crime In this classic Ge...</td>\n",
       "    </tr>\n",
       "    <tr>\n",
       "      <th>1282</th>\n",
       "      <td>Drama Crime Thriller</td>\n",
       "      <td>22803</td>\n",
       "      <td>en</td>\n",
       "      <td>A frustrated man decides to take justice into ...</td>\n",
       "      <td>16.639047</td>\n",
       "      <td>English</td>\n",
       "      <td>Law Abiding Citizen</td>\n",
       "      <td>7.2</td>\n",
       "      <td>1522</td>\n",
       "      <td>6.849028</td>\n",
       "      <td>JamieFoxx GerardButler ColmMeaney BruceMcGill ...</td>\n",
       "      <td>F.GaryGray</td>\n",
       "      <td>tattoo secret passage baseball bat deal explos...</td>\n",
       "      <td>71838</td>\n",
       "      <td>3.674976</td>\n",
       "      <td>Drama Crime Thriller A frustrated man decides ...</td>\n",
       "    </tr>\n",
       "    <tr>\n",
       "      <th>2252</th>\n",
       "      <td>Action Animation Comedy Family Fantasy</td>\n",
       "      <td>324849</td>\n",
       "      <td>en</td>\n",
       "      <td>In the irreverent spirit of fun that made “The...</td>\n",
       "      <td>17.070748</td>\n",
       "      <td>English</td>\n",
       "      <td>The Lego Batman Movie</td>\n",
       "      <td>7.2</td>\n",
       "      <td>1473</td>\n",
       "      <td>6.840010</td>\n",
       "      <td>WillArnett ZachGalifianakis MichaelCera Rosari...</td>\n",
       "      <td>ChrisMcKay</td>\n",
       "      <td>superhero based on comic based on toy spin off...</td>\n",
       "      <td>167746</td>\n",
       "      <td>3.574866</td>\n",
       "      <td>Action Animation Comedy Family Fantasy In the ...</td>\n",
       "    </tr>\n",
       "  </tbody>\n",
       "</table>\n",
       "</div>"
      ],
      "text/plain": [
       "                                                genres      id  \\\n",
       "1135                       Drama Action Crime Thriller     155   \n",
       "1365  Action Thriller ScienceFiction Mystery Adventure   27205   \n",
       "1816                    Adventure Drama ScienceFiction  157336   \n",
       "1014                            Drama Mystery Thriller    1124   \n",
       "1787                                Crime Drama Comedy  106646   \n",
       "902                                 Action Crime Drama     272   \n",
       "1247                                Drama Thriller War   12162   \n",
       "195                        Drama Action Thriller Crime     832   \n",
       "1282                              Drama Crime Thriller   22803   \n",
       "2252            Action Animation Comedy Family Fantasy  324849   \n",
       "\n",
       "     original_language                                           overview  \\\n",
       "1135                en  Batman raises the stakes in his war on crime. ...   \n",
       "1365                en  Cobb, a skilled thief who commits corporate es...   \n",
       "1816                en  Interstellar chronicles the adventures of a gr...   \n",
       "1014                en  A mysterious story of two magicians whose inte...   \n",
       "1787                en  A New York stockbroker refuses to cooperate in...   \n",
       "902                 en  Driven by tragedy, billionaire Bruce Wayne ded...   \n",
       "1247                en  Forced to play a dangerous game of cat-and-mou...   \n",
       "195                 de  In this classic German thriller, Hans Beckert,...   \n",
       "1282                en  A frustrated man decides to take justice into ...   \n",
       "2252                en  In the irreverent spirit of fun that made “The...   \n",
       "\n",
       "      popularity        spoken_languages                    title  \\\n",
       "1135  123.167259             English 普通话          The Dark Knight   \n",
       "1365   29.108149                 English                Inception   \n",
       "1816   32.213481                 English             Interstellar   \n",
       "1014   16.945560                 English             The Prestige   \n",
       "1787   16.382422        Français English  The Wolf of Wall Street   \n",
       "902    28.505341        English اردو 普通话            Batman Begins   \n",
       "1247    9.403724  English العربية Türkçe          The Hurt Locker   \n",
       "195    12.752421                 Deutsch                        M   \n",
       "1282   16.639047                 English      Law Abiding Citizen   \n",
       "2252   17.070748                 English    The Lego Batman Movie   \n",
       "\n",
       "      vote_average  vote_count     score  \\\n",
       "1135           8.3       12269  8.208376   \n",
       "1365           8.1       14075  8.025763   \n",
       "1816           8.1       11187  8.007314   \n",
       "1014           8.0        4510  7.790918   \n",
       "1787           7.9        6768  7.762496   \n",
       "902            7.5        7511  7.397206   \n",
       "1247           7.2        1881  6.903455   \n",
       "195            8.0         465  6.850165   \n",
       "1282           7.2        1522  6.849028   \n",
       "2252           7.2        1473  6.840010   \n",
       "\n",
       "                                                   cast              crew  \\\n",
       "1135  ChristianBale MichaelCaine HeathLedger AaronEc...  ChristopherNolan   \n",
       "1365  LeonardoDiCaprio JosephGordon-Levitt EllenPage...  ChristopherNolan   \n",
       "1816  MatthewMcConaughey JessicaChastain AnneHathawa...  ChristopherNolan   \n",
       "1014  HughJackman ChristianBale MichaelCaine Scarlet...  ChristopherNolan   \n",
       "1787  LeonardoDiCaprio JonahHill MargotRobbie KyleCh...    MartinScorsese   \n",
       "902   ChristianBale MichaelCaine LiamNeeson KatieHol...  ChristopherNolan   \n",
       "1247  JeremyRenner AnthonyMackie BrianGeraghty GuyPe...    KathrynBigelow   \n",
       "195   PeterLorre EllenWidmann IngeLandgut OttoWernic...         FritzLang   \n",
       "1282  JamieFoxx GerardButler ColmMeaney BruceMcGill ...        F.GaryGray   \n",
       "2252  WillArnett ZachGalifianakis MichaelCera Rosari...        ChrisMcKay   \n",
       "\n",
       "                                               keywords  movieId    rating  \\\n",
       "1135  dc comics crime fighter secret identity scarec...    58559  4.182071   \n",
       "1365  loss of lover dream kidnapping sleep subconsci...    79132  4.161756   \n",
       "1816  saving the world artificial intelligence fathe...   109487  4.086824   \n",
       "1014  competition secret obsession magic dying and d...    48780  4.078295   \n",
       "1787  corruption sex sexuality bank humor biography ...   106782  3.858644   \n",
       "902   himalaya martial arts dc comics crime fighter ...    33794  3.944856   \n",
       "1247  sniper explosive loyalty u.s. army iraq car bo...    69481  3.741221   \n",
       "195   germany berlin underworld child murderer detec...     1260  4.163554   \n",
       "1282  tattoo secret passage baseball bat deal explos...    71838  3.674976   \n",
       "2252  superhero based on comic based on toy spin off...   167746  3.574866   \n",
       "\n",
       "                                                    all  \n",
       "1135  Drama Action Crime Thriller Batman raises the ...  \n",
       "1365  Action Thriller ScienceFiction Mystery Adventu...  \n",
       "1816  Adventure Drama ScienceFiction Interstellar ch...  \n",
       "1014  Drama Mystery Thriller A mysterious story of t...  \n",
       "1787  Crime Drama Comedy A New York stockbroker refu...  \n",
       "902   Action Crime Drama Driven by tragedy, billiona...  \n",
       "1247  Drama Thriller War Forced to play a dangerous ...  \n",
       "195   Drama Action Thriller Crime In this classic Ge...  \n",
       "1282  Drama Crime Thriller A frustrated man decides ...  \n",
       "2252  Action Animation Comedy Family Fantasy In the ...  "
      ]
     },
     "execution_count": 119,
     "metadata": {},
     "output_type": "execute_result"
    }
   ],
   "source": [
    "get_recommend_movie_list(data, all_cs, movie_title='The Dark Knight Rises')"
   ]
  },
  {
   "cell_type": "code",
   "execution_count": 120,
   "metadata": {
    "ExecuteTime": {
     "end_time": "2020-12-21T07:17:06.349741Z",
     "start_time": "2020-12-21T07:17:06.321317Z"
    }
   },
   "outputs": [
    {
     "data": {
      "text/plain": [
       "1504    ScienceFiction Action Adventure When an unexpe...\n",
       "Name: all, dtype: object"
      ]
     },
     "execution_count": 120,
     "metadata": {},
     "output_type": "execute_result"
    }
   ],
   "source": [
    "data[data['title'] == 'The Avengers']['all']"
   ]
  },
  {
   "cell_type": "code",
   "execution_count": 121,
   "metadata": {
    "ExecuteTime": {
     "end_time": "2020-12-21T07:17:06.433527Z",
     "start_time": "2020-12-21T07:17:06.355458Z"
    }
   },
   "outputs": [
    {
     "data": {
      "text/html": [
       "<div>\n",
       "<style scoped>\n",
       "    .dataframe tbody tr th:only-of-type {\n",
       "        vertical-align: middle;\n",
       "    }\n",
       "\n",
       "    .dataframe tbody tr th {\n",
       "        vertical-align: top;\n",
       "    }\n",
       "\n",
       "    .dataframe thead th {\n",
       "        text-align: right;\n",
       "    }\n",
       "</style>\n",
       "<table border=\"1\" class=\"dataframe\">\n",
       "  <thead>\n",
       "    <tr style=\"text-align: right;\">\n",
       "      <th></th>\n",
       "      <th>genres</th>\n",
       "      <th>id</th>\n",
       "      <th>original_language</th>\n",
       "      <th>overview</th>\n",
       "      <th>popularity</th>\n",
       "      <th>spoken_languages</th>\n",
       "      <th>title</th>\n",
       "      <th>vote_average</th>\n",
       "      <th>vote_count</th>\n",
       "      <th>score</th>\n",
       "      <th>cast</th>\n",
       "      <th>crew</th>\n",
       "      <th>keywords</th>\n",
       "      <th>movieId</th>\n",
       "      <th>rating</th>\n",
       "      <th>all</th>\n",
       "    </tr>\n",
       "  </thead>\n",
       "  <tbody>\n",
       "    <tr>\n",
       "      <th>1870</th>\n",
       "      <td>Action ScienceFiction Adventure</td>\n",
       "      <td>118340</td>\n",
       "      <td>en</td>\n",
       "      <td>Light years from Earth, 26 years after being a...</td>\n",
       "      <td>53.291601</td>\n",
       "      <td>English</td>\n",
       "      <td>Guardians of the Galaxy</td>\n",
       "      <td>7.9</td>\n",
       "      <td>10014</td>\n",
       "      <td>7.805216</td>\n",
       "      <td>ChrisPratt ZoeSaldana DaveBautista VinDiesel B...</td>\n",
       "      <td>JamesGunn</td>\n",
       "      <td>marvel comic spaceship space outer space orpha...</td>\n",
       "      <td>112852</td>\n",
       "      <td>3.927768</td>\n",
       "      <td>Action ScienceFiction Adventure Light years fr...</td>\n",
       "    </tr>\n",
       "    <tr>\n",
       "      <th>1944</th>\n",
       "      <td>Crime Comedy Action Adventure</td>\n",
       "      <td>207703</td>\n",
       "      <td>en</td>\n",
       "      <td>The story of a super-secret spy organization t...</td>\n",
       "      <td>28.224212</td>\n",
       "      <td>English</td>\n",
       "      <td>Kingsman: The Secret Service</td>\n",
       "      <td>7.6</td>\n",
       "      <td>6069</td>\n",
       "      <td>7.467738</td>\n",
       "      <td>ColinFirth SamuelL.Jackson MarkStrong TaronEge...</td>\n",
       "      <td>MatthewVaughn</td>\n",
       "      <td>spy great britain secret organization secret a...</td>\n",
       "      <td>119145</td>\n",
       "      <td>3.805290</td>\n",
       "      <td>Crime Comedy Action Adventure The story of a s...</td>\n",
       "    </tr>\n",
       "    <tr>\n",
       "      <th>1824</th>\n",
       "      <td>Action Adventure ScienceFiction</td>\n",
       "      <td>100402</td>\n",
       "      <td>en</td>\n",
       "      <td>After the cataclysmic events in New York with ...</td>\n",
       "      <td>18.717704</td>\n",
       "      <td>English</td>\n",
       "      <td>Captain America: The Winter Soldier</td>\n",
       "      <td>7.6</td>\n",
       "      <td>5881</td>\n",
       "      <td>7.463800</td>\n",
       "      <td>ChrisEvans SamuelL.Jackson ScarlettJohansson R...</td>\n",
       "      <td>AnthonyRusso JoeRusso</td>\n",
       "      <td>washington d.c. future shield marvel comic sup...</td>\n",
       "      <td>110102</td>\n",
       "      <td>3.720278</td>\n",
       "      <td>Action Adventure ScienceFiction After the cata...</td>\n",
       "    </tr>\n",
       "    <tr>\n",
       "      <th>1962</th>\n",
       "      <td>Action Adventure Comedy</td>\n",
       "      <td>293660</td>\n",
       "      <td>en</td>\n",
       "      <td>Deadpool tells the origin story of former Spec...</td>\n",
       "      <td>187.860492</td>\n",
       "      <td>English</td>\n",
       "      <td>Deadpool</td>\n",
       "      <td>7.4</td>\n",
       "      <td>11444</td>\n",
       "      <td>7.334896</td>\n",
       "      <td>RyanReynolds MorenaBaccarin EdSkrein T.J.Mille...</td>\n",
       "      <td>TimMiller</td>\n",
       "      <td>anti hero mercenary marvel comic superhero bas...</td>\n",
       "      <td>122904</td>\n",
       "      <td>3.859518</td>\n",
       "      <td>Action Adventure Comedy Deadpool tells the ori...</td>\n",
       "    </tr>\n",
       "    <tr>\n",
       "      <th>1141</th>\n",
       "      <td>Action ScienceFiction Adventure</td>\n",
       "      <td>1726</td>\n",
       "      <td>en</td>\n",
       "      <td>After being held captive in an Afghan cave, bi...</td>\n",
       "      <td>22.073099</td>\n",
       "      <td>English فارسی اردو العربية</td>\n",
       "      <td>Iron Man</td>\n",
       "      <td>7.4</td>\n",
       "      <td>8951</td>\n",
       "      <td>7.317602</td>\n",
       "      <td>RobertDowneyJr. TerrenceHoward JeffBridges Sha...</td>\n",
       "      <td>JonFavreau</td>\n",
       "      <td>middle east arms dealer malibu marvel comic su...</td>\n",
       "      <td>59315</td>\n",
       "      <td>3.855210</td>\n",
       "      <td>Action ScienceFiction Adventure After being he...</td>\n",
       "    </tr>\n",
       "    <tr>\n",
       "      <th>1958</th>\n",
       "      <td>Action Adventure ScienceFiction</td>\n",
       "      <td>99861</td>\n",
       "      <td>en</td>\n",
       "      <td>When Tony Stark tries to jumpstart a dormant p...</td>\n",
       "      <td>37.379420</td>\n",
       "      <td>English</td>\n",
       "      <td>Avengers: Age of Ultron</td>\n",
       "      <td>7.3</td>\n",
       "      <td>6908</td>\n",
       "      <td>7.200585</td>\n",
       "      <td>RobertDowneyJr. ChrisHemsworth MarkRuffalo Chr...</td>\n",
       "      <td>JossWhedon</td>\n",
       "      <td>marvel comic sequel superhero based on comic v...</td>\n",
       "      <td>122892</td>\n",
       "      <td>3.594980</td>\n",
       "      <td>Action Adventure ScienceFiction When Tony Star...</td>\n",
       "    </tr>\n",
       "    <tr>\n",
       "      <th>1964</th>\n",
       "      <td>Adventure Action ScienceFiction</td>\n",
       "      <td>271110</td>\n",
       "      <td>en</td>\n",
       "      <td>Following the events of Age of Ultron, the col...</td>\n",
       "      <td>145.882135</td>\n",
       "      <td>Română English Deutsch Pусский</td>\n",
       "      <td>Captain America: Civil War</td>\n",
       "      <td>7.1</td>\n",
       "      <td>7462</td>\n",
       "      <td>7.018554</td>\n",
       "      <td>ChrisEvans RobertDowneyJr. ScarlettJohansson S...</td>\n",
       "      <td>AnthonyRusso JoeRusso</td>\n",
       "      <td>civil war war marvel comic sequel superhero ba...</td>\n",
       "      <td>122920</td>\n",
       "      <td>3.724678</td>\n",
       "      <td>Adventure Action ScienceFiction Following the ...</td>\n",
       "    </tr>\n",
       "    <tr>\n",
       "      <th>1965</th>\n",
       "      <td>Action Adventure Fantasy ScienceFiction</td>\n",
       "      <td>284052</td>\n",
       "      <td>en</td>\n",
       "      <td>After his career is destroyed, a brilliant but...</td>\n",
       "      <td>43.847654</td>\n",
       "      <td>English</td>\n",
       "      <td>Doctor Strange</td>\n",
       "      <td>7.1</td>\n",
       "      <td>5880</td>\n",
       "      <td>6.998147</td>\n",
       "      <td>BenedictCumberbatch ChiwetelEjiofor RachelMcAd...</td>\n",
       "      <td>ScottDerrickson</td>\n",
       "      <td>magic marvel comic superhero based on comic so...</td>\n",
       "      <td>122922</td>\n",
       "      <td>3.742311</td>\n",
       "      <td>Action Adventure Fantasy ScienceFiction After ...</td>\n",
       "    </tr>\n",
       "    <tr>\n",
       "      <th>1472</th>\n",
       "      <td>Action ScienceFiction Adventure</td>\n",
       "      <td>49538</td>\n",
       "      <td>en</td>\n",
       "      <td>Before Charles Xavier and Erik Lensherr took t...</td>\n",
       "      <td>0.738633</td>\n",
       "      <td>Deutsch English Español Français Pусский</td>\n",
       "      <td>X-Men: First Class</td>\n",
       "      <td>7.1</td>\n",
       "      <td>5252</td>\n",
       "      <td>6.986897</td>\n",
       "      <td>JamesMcAvoy MichaelFassbender JenniferLawrence...</td>\n",
       "      <td>MatthewVaughn</td>\n",
       "      <td>cia mutant mine marvel comic superhero based o...</td>\n",
       "      <td>87232</td>\n",
       "      <td>3.774063</td>\n",
       "      <td>Action ScienceFiction Adventure Before Charles...</td>\n",
       "    </tr>\n",
       "    <tr>\n",
       "      <th>1960</th>\n",
       "      <td>ScienceFiction Action Adventure</td>\n",
       "      <td>102899</td>\n",
       "      <td>en</td>\n",
       "      <td>Armed with the astonishing ability to shrink i...</td>\n",
       "      <td>26.882388</td>\n",
       "      <td>English</td>\n",
       "      <td>Ant-Man</td>\n",
       "      <td>7.0</td>\n",
       "      <td>6029</td>\n",
       "      <td>6.907210</td>\n",
       "      <td>PaulRudd MichaelDouglas EvangelineLilly CoreyS...</td>\n",
       "      <td>PeytonReed</td>\n",
       "      <td>marvel comic superhero based on comic aftercre...</td>\n",
       "      <td>122900</td>\n",
       "      <td>3.600346</td>\n",
       "      <td>ScienceFiction Action Adventure Armed with the...</td>\n",
       "    </tr>\n",
       "  </tbody>\n",
       "</table>\n",
       "</div>"
      ],
      "text/plain": [
       "                                       genres      id original_language  \\\n",
       "1870          Action ScienceFiction Adventure  118340                en   \n",
       "1944            Crime Comedy Action Adventure  207703                en   \n",
       "1824          Action Adventure ScienceFiction  100402                en   \n",
       "1962                  Action Adventure Comedy  293660                en   \n",
       "1141          Action ScienceFiction Adventure    1726                en   \n",
       "1958          Action Adventure ScienceFiction   99861                en   \n",
       "1964          Adventure Action ScienceFiction  271110                en   \n",
       "1965  Action Adventure Fantasy ScienceFiction  284052                en   \n",
       "1472          Action ScienceFiction Adventure   49538                en   \n",
       "1960          ScienceFiction Action Adventure  102899                en   \n",
       "\n",
       "                                               overview  popularity  \\\n",
       "1870  Light years from Earth, 26 years after being a...   53.291601   \n",
       "1944  The story of a super-secret spy organization t...   28.224212   \n",
       "1824  After the cataclysmic events in New York with ...   18.717704   \n",
       "1962  Deadpool tells the origin story of former Spec...  187.860492   \n",
       "1141  After being held captive in an Afghan cave, bi...   22.073099   \n",
       "1958  When Tony Stark tries to jumpstart a dormant p...   37.379420   \n",
       "1964  Following the events of Age of Ultron, the col...  145.882135   \n",
       "1965  After his career is destroyed, a brilliant but...   43.847654   \n",
       "1472  Before Charles Xavier and Erik Lensherr took t...    0.738633   \n",
       "1960  Armed with the astonishing ability to shrink i...   26.882388   \n",
       "\n",
       "                              spoken_languages  \\\n",
       "1870                                   English   \n",
       "1944                                   English   \n",
       "1824                                   English   \n",
       "1962                                   English   \n",
       "1141                English فارسی اردو العربية   \n",
       "1958                                   English   \n",
       "1964            Română English Deutsch Pусский   \n",
       "1965                                   English   \n",
       "1472  Deutsch English Español Français Pусский   \n",
       "1960                                   English   \n",
       "\n",
       "                                    title  vote_average  vote_count     score  \\\n",
       "1870              Guardians of the Galaxy           7.9       10014  7.805216   \n",
       "1944         Kingsman: The Secret Service           7.6        6069  7.467738   \n",
       "1824  Captain America: The Winter Soldier           7.6        5881  7.463800   \n",
       "1962                             Deadpool           7.4       11444  7.334896   \n",
       "1141                             Iron Man           7.4        8951  7.317602   \n",
       "1958              Avengers: Age of Ultron           7.3        6908  7.200585   \n",
       "1964           Captain America: Civil War           7.1        7462  7.018554   \n",
       "1965                       Doctor Strange           7.1        5880  6.998147   \n",
       "1472                   X-Men: First Class           7.1        5252  6.986897   \n",
       "1960                              Ant-Man           7.0        6029  6.907210   \n",
       "\n",
       "                                                   cast  \\\n",
       "1870  ChrisPratt ZoeSaldana DaveBautista VinDiesel B...   \n",
       "1944  ColinFirth SamuelL.Jackson MarkStrong TaronEge...   \n",
       "1824  ChrisEvans SamuelL.Jackson ScarlettJohansson R...   \n",
       "1962  RyanReynolds MorenaBaccarin EdSkrein T.J.Mille...   \n",
       "1141  RobertDowneyJr. TerrenceHoward JeffBridges Sha...   \n",
       "1958  RobertDowneyJr. ChrisHemsworth MarkRuffalo Chr...   \n",
       "1964  ChrisEvans RobertDowneyJr. ScarlettJohansson S...   \n",
       "1965  BenedictCumberbatch ChiwetelEjiofor RachelMcAd...   \n",
       "1472  JamesMcAvoy MichaelFassbender JenniferLawrence...   \n",
       "1960  PaulRudd MichaelDouglas EvangelineLilly CoreyS...   \n",
       "\n",
       "                       crew  \\\n",
       "1870              JamesGunn   \n",
       "1944          MatthewVaughn   \n",
       "1824  AnthonyRusso JoeRusso   \n",
       "1962              TimMiller   \n",
       "1141             JonFavreau   \n",
       "1958             JossWhedon   \n",
       "1964  AnthonyRusso JoeRusso   \n",
       "1965        ScottDerrickson   \n",
       "1472          MatthewVaughn   \n",
       "1960             PeytonReed   \n",
       "\n",
       "                                               keywords  movieId    rating  \\\n",
       "1870  marvel comic spaceship space outer space orpha...   112852  3.927768   \n",
       "1944  spy great britain secret organization secret a...   119145  3.805290   \n",
       "1824  washington d.c. future shield marvel comic sup...   110102  3.720278   \n",
       "1962  anti hero mercenary marvel comic superhero bas...   122904  3.859518   \n",
       "1141  middle east arms dealer malibu marvel comic su...    59315  3.855210   \n",
       "1958  marvel comic sequel superhero based on comic v...   122892  3.594980   \n",
       "1964  civil war war marvel comic sequel superhero ba...   122920  3.724678   \n",
       "1965  magic marvel comic superhero based on comic so...   122922  3.742311   \n",
       "1472  cia mutant mine marvel comic superhero based o...    87232  3.774063   \n",
       "1960  marvel comic superhero based on comic aftercre...   122900  3.600346   \n",
       "\n",
       "                                                    all  \n",
       "1870  Action ScienceFiction Adventure Light years fr...  \n",
       "1944  Crime Comedy Action Adventure The story of a s...  \n",
       "1824  Action Adventure ScienceFiction After the cata...  \n",
       "1962  Action Adventure Comedy Deadpool tells the ori...  \n",
       "1141  Action ScienceFiction Adventure After being he...  \n",
       "1958  Action Adventure ScienceFiction When Tony Star...  \n",
       "1964  Adventure Action ScienceFiction Following the ...  \n",
       "1965  Action Adventure Fantasy ScienceFiction After ...  \n",
       "1472  Action ScienceFiction Adventure Before Charles...  \n",
       "1960  ScienceFiction Action Adventure Armed with the...  "
      ]
     },
     "execution_count": 121,
     "metadata": {},
     "output_type": "execute_result"
    }
   ],
   "source": [
    "get_recommend_movie_list(data, all_cs, movie_title='The Avengers')"
   ]
  },
  {
   "cell_type": "code",
   "execution_count": null,
   "metadata": {},
   "outputs": [],
   "source": []
  }
 ],
 "metadata": {
  "hide_input": false,
  "kernelspec": {
   "display_name": "Python 3",
   "language": "python",
   "name": "python3"
  },
  "language_info": {
   "codemirror_mode": {
    "name": "ipython",
    "version": 3
   },
   "file_extension": ".py",
   "mimetype": "text/x-python",
   "name": "python",
   "nbconvert_exporter": "python",
   "pygments_lexer": "ipython3",
   "version": "3.7.1"
  },
  "toc": {
   "base_numbering": 1,
   "nav_menu": {},
   "number_sections": true,
   "sideBar": true,
   "skip_h1_title": false,
   "title_cell": "Table of Contents",
   "title_sidebar": "Contents",
   "toc_cell": false,
   "toc_position": {
    "height": "calc(100% - 180px)",
    "left": "10px",
    "top": "150px",
    "width": "307.2px"
   },
   "toc_section_display": true,
   "toc_window_display": true
  },
  "varInspector": {
   "cols": {
    "lenName": 16,
    "lenType": 16,
    "lenVar": 40
   },
   "kernels_config": {
    "python": {
     "delete_cmd_postfix": "",
     "delete_cmd_prefix": "del ",
     "library": "var_list.py",
     "varRefreshCmd": "print(var_dic_list())"
    },
    "r": {
     "delete_cmd_postfix": ") ",
     "delete_cmd_prefix": "rm(",
     "library": "var_list.r",
     "varRefreshCmd": "cat(var_dic_list()) "
    }
   },
   "types_to_exclude": [
    "module",
    "function",
    "builtin_function_or_method",
    "instance",
    "_Feature"
   ],
   "window_display": false
  }
 },
 "nbformat": 4,
 "nbformat_minor": 4
}

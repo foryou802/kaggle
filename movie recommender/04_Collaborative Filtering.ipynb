{
 "cells": [
  {
   "cell_type": "code",
   "execution_count": 1,
   "metadata": {
    "ExecuteTime": {
     "end_time": "2020-12-23T01:24:23.225243Z",
     "start_time": "2020-12-23T01:24:18.141698Z"
    }
   },
   "outputs": [],
   "source": [
    "import numpy as np\n",
    "import pandas as pd\n",
    "import matplotlib.pyplot as plt\n",
    "import seaborn as sns\n",
    "\n",
    "sns.set()\n",
    "\n",
    "import warnings\n",
    "warnings.filterwarnings('ignore')"
   ]
  },
  {
   "cell_type": "code",
   "execution_count": 2,
   "metadata": {
    "ExecuteTime": {
     "end_time": "2020-12-23T01:24:27.633534Z",
     "start_time": "2020-12-23T01:24:23.229240Z"
    }
   },
   "outputs": [],
   "source": [
    "from sklearn.metrics.pairwise import cosine_similarity"
   ]
  },
  {
   "cell_type": "markdown",
   "metadata": {},
   "source": [
    "# Data 불러오기"
   ]
  },
  {
   "cell_type": "code",
   "execution_count": 3,
   "metadata": {
    "ExecuteTime": {
     "end_time": "2020-12-23T01:24:27.727213Z",
     "start_time": "2020-12-23T01:24:27.637599Z"
    }
   },
   "outputs": [],
   "source": [
    "data = pd.read_csv('./dataset/merged_data.csv')"
   ]
  },
  {
   "cell_type": "code",
   "execution_count": 4,
   "metadata": {
    "ExecuteTime": {
     "end_time": "2020-12-23T01:24:27.766383Z",
     "start_time": "2020-12-23T01:24:27.731201Z"
    }
   },
   "outputs": [
    {
     "name": "stdout",
     "output_type": "stream",
     "text": [
      "<class 'pandas.core.frame.DataFrame'>\n",
      "RangeIndex: 2291 entries, 0 to 2290\n",
      "Data columns (total 15 columns):\n",
      " #   Column             Non-Null Count  Dtype  \n",
      "---  ------             --------------  -----  \n",
      " 0   genres             2291 non-null   object \n",
      " 1   id                 2291 non-null   int64  \n",
      " 2   original_language  2291 non-null   object \n",
      " 3   overview           2291 non-null   object \n",
      " 4   popularity         2291 non-null   float64\n",
      " 5   spoken_languages   2290 non-null   object \n",
      " 6   title              2291 non-null   object \n",
      " 7   vote_average       2291 non-null   float64\n",
      " 8   vote_count         2291 non-null   int64  \n",
      " 9   score              2291 non-null   float64\n",
      " 10  cast               2290 non-null   object \n",
      " 11  crew               2291 non-null   object \n",
      " 12  keywords           2266 non-null   object \n",
      " 13  movieId            2291 non-null   int64  \n",
      " 14  rating             2291 non-null   float64\n",
      "dtypes: float64(4), int64(3), object(8)\n",
      "memory usage: 268.6+ KB\n"
     ]
    }
   ],
   "source": [
    "data.info()"
   ]
  },
  {
   "cell_type": "code",
   "execution_count": 5,
   "metadata": {
    "ExecuteTime": {
     "end_time": "2020-12-23T01:24:27.779532Z",
     "start_time": "2020-12-23T01:24:27.767381Z"
    }
   },
   "outputs": [],
   "source": [
    "data.drop(['rating'], axis=1, inplace=True)"
   ]
  },
  {
   "cell_type": "markdown",
   "metadata": {},
   "source": [
    "- 이미 ratings 파일과 merge되었기 때문에, 해당 열을 다시 삭제"
   ]
  },
  {
   "cell_type": "code",
   "execution_count": 6,
   "metadata": {
    "ExecuteTime": {
     "end_time": "2020-12-23T01:24:27.808499Z",
     "start_time": "2020-12-23T01:24:27.783346Z"
    }
   },
   "outputs": [
    {
     "data": {
      "text/plain": [
       "False"
      ]
     },
     "execution_count": 6,
     "metadata": {},
     "output_type": "execute_result"
    }
   ],
   "source": [
    "len(data) == len(data['title'].unique())"
   ]
  },
  {
   "cell_type": "markdown",
   "metadata": {},
   "source": [
    "- title이 같은 영화가 있음\n",
    "- movieId를 사용하는 것이 가장 적절하나, 편의상 중복을 삭제하여 title을 사용"
   ]
  },
  {
   "cell_type": "code",
   "execution_count": 7,
   "metadata": {
    "ExecuteTime": {
     "end_time": "2020-12-23T01:24:27.902024Z",
     "start_time": "2020-12-23T01:24:27.812861Z"
    }
   },
   "outputs": [
    {
     "data": {
      "text/html": [
       "<div>\n",
       "<style scoped>\n",
       "    .dataframe tbody tr th:only-of-type {\n",
       "        vertical-align: middle;\n",
       "    }\n",
       "\n",
       "    .dataframe tbody tr th {\n",
       "        vertical-align: top;\n",
       "    }\n",
       "\n",
       "    .dataframe thead th {\n",
       "        text-align: right;\n",
       "    }\n",
       "</style>\n",
       "<table border=\"1\" class=\"dataframe\">\n",
       "  <thead>\n",
       "    <tr style=\"text-align: right;\">\n",
       "      <th></th>\n",
       "      <th>genres</th>\n",
       "      <th>id</th>\n",
       "      <th>original_language</th>\n",
       "      <th>overview</th>\n",
       "      <th>popularity</th>\n",
       "      <th>spoken_languages</th>\n",
       "      <th>title</th>\n",
       "      <th>vote_average</th>\n",
       "      <th>vote_count</th>\n",
       "      <th>score</th>\n",
       "      <th>cast</th>\n",
       "      <th>crew</th>\n",
       "      <th>keywords</th>\n",
       "      <th>movieId</th>\n",
       "    </tr>\n",
       "  </thead>\n",
       "  <tbody>\n",
       "    <tr>\n",
       "      <th>0</th>\n",
       "      <td>Animation Comedy Family</td>\n",
       "      <td>862</td>\n",
       "      <td>en</td>\n",
       "      <td>Led by Woody, Andy's toys live happily in his ...</td>\n",
       "      <td>21.946943</td>\n",
       "      <td>English</td>\n",
       "      <td>Toy Story</td>\n",
       "      <td>7.7</td>\n",
       "      <td>5415</td>\n",
       "      <td>7.545539</td>\n",
       "      <td>TomHanks TimAllen DonRickles JimVarney Wallace...</td>\n",
       "      <td>JohnLasseter</td>\n",
       "      <td>jealousy toy boy friendship friends rivalry bo...</td>\n",
       "      <td>1</td>\n",
       "    </tr>\n",
       "    <tr>\n",
       "      <th>1</th>\n",
       "      <td>Adventure Fantasy Family</td>\n",
       "      <td>8844</td>\n",
       "      <td>en</td>\n",
       "      <td>When siblings Judy and Peter discover an encha...</td>\n",
       "      <td>17.015539</td>\n",
       "      <td>English Français</td>\n",
       "      <td>Jumanji</td>\n",
       "      <td>6.9</td>\n",
       "      <td>2413</td>\n",
       "      <td>6.704621</td>\n",
       "      <td>RobinWilliams JonathanHyde KirstenDunst Bradle...</td>\n",
       "      <td>JoeJohnston</td>\n",
       "      <td>board game disappearance based on children's b...</td>\n",
       "      <td>2</td>\n",
       "    </tr>\n",
       "    <tr>\n",
       "      <th>2</th>\n",
       "      <td>Action Crime Drama Thriller</td>\n",
       "      <td>949</td>\n",
       "      <td>en</td>\n",
       "      <td>Obsessive master thief, Neil McCauley leads a ...</td>\n",
       "      <td>17.924927</td>\n",
       "      <td>English Español</td>\n",
       "      <td>Heat</td>\n",
       "      <td>7.7</td>\n",
       "      <td>1886</td>\n",
       "      <td>7.310584</td>\n",
       "      <td>AlPacino RobertDeNiro ValKilmer JonVoight TomS...</td>\n",
       "      <td>MichaelMann</td>\n",
       "      <td>robbery detective bank obsession chase shootin...</td>\n",
       "      <td>6</td>\n",
       "    </tr>\n",
       "    <tr>\n",
       "      <th>3</th>\n",
       "      <td>Adventure Action Thriller</td>\n",
       "      <td>710</td>\n",
       "      <td>en</td>\n",
       "      <td>James Bond must unmask the mysterious head of ...</td>\n",
       "      <td>14.686036</td>\n",
       "      <td>English Pусский Español</td>\n",
       "      <td>GoldenEye</td>\n",
       "      <td>6.6</td>\n",
       "      <td>1194</td>\n",
       "      <td>6.338302</td>\n",
       "      <td>PierceBrosnan SeanBean IzabellaScorupco FamkeJ...</td>\n",
       "      <td>MartinCampbell</td>\n",
       "      <td>cuba falsely accused secret identity computer ...</td>\n",
       "      <td>10</td>\n",
       "    </tr>\n",
       "    <tr>\n",
       "      <th>4</th>\n",
       "      <td>Drama Crime</td>\n",
       "      <td>524</td>\n",
       "      <td>en</td>\n",
       "      <td>The life of the gambling paradise – Las Vegas ...</td>\n",
       "      <td>10.137389</td>\n",
       "      <td>English</td>\n",
       "      <td>Casino</td>\n",
       "      <td>7.8</td>\n",
       "      <td>1343</td>\n",
       "      <td>7.267167</td>\n",
       "      <td>RobertDeNiro SharonStone JoePesci JamesWoods D...</td>\n",
       "      <td>MartinScorsese</td>\n",
       "      <td>poker drug abuse 1970s overdose illegal prosti...</td>\n",
       "      <td>16</td>\n",
       "    </tr>\n",
       "    <tr>\n",
       "      <th>...</th>\n",
       "      <td>...</td>\n",
       "      <td>...</td>\n",
       "      <td>...</td>\n",
       "      <td>...</td>\n",
       "      <td>...</td>\n",
       "      <td>...</td>\n",
       "      <td>...</td>\n",
       "      <td>...</td>\n",
       "      <td>...</td>\n",
       "      <td>...</td>\n",
       "      <td>...</td>\n",
       "      <td>...</td>\n",
       "      <td>...</td>\n",
       "      <td>...</td>\n",
       "    </tr>\n",
       "    <tr>\n",
       "      <th>2286</th>\n",
       "      <td>ScienceFiction Thriller</td>\n",
       "      <td>406990</td>\n",
       "      <td>en</td>\n",
       "      <td>In a world where families are limited to one c...</td>\n",
       "      <td>60.581223</td>\n",
       "      <td>English</td>\n",
       "      <td>What Happened to Monday</td>\n",
       "      <td>7.3</td>\n",
       "      <td>598</td>\n",
       "      <td>6.592786</td>\n",
       "      <td>NoomiRapace MarwanKenzari ChristianRubeck Glen...</td>\n",
       "      <td>TommyWirkola</td>\n",
       "      <td>chase false identity overpopulation investigat...</td>\n",
       "      <td>173925</td>\n",
       "    </tr>\n",
       "    <tr>\n",
       "      <th>2287</th>\n",
       "      <td>Action Thriller</td>\n",
       "      <td>341013</td>\n",
       "      <td>en</td>\n",
       "      <td>An undercover MI6 agent is sent to Berlin duri...</td>\n",
       "      <td>14.455104</td>\n",
       "      <td>svenska English Deutsch Pусский</td>\n",
       "      <td>Atomic Blonde</td>\n",
       "      <td>6.1</td>\n",
       "      <td>748</td>\n",
       "      <td>5.923143</td>\n",
       "      <td>CharlizeTheron JamesMcAvoy SofiaBoutella Eddie...</td>\n",
       "      <td>DavidLeitch</td>\n",
       "      <td>berlin spy undercover cold war double agent un...</td>\n",
       "      <td>173941</td>\n",
       "    </tr>\n",
       "    <tr>\n",
       "      <th>2288</th>\n",
       "      <td>Action Drama History Thriller War</td>\n",
       "      <td>374720</td>\n",
       "      <td>en</td>\n",
       "      <td>The miraculous evacuation of Allied soldiers f...</td>\n",
       "      <td>30.938854</td>\n",
       "      <td>English Français Deutsch</td>\n",
       "      <td>Dunkirk</td>\n",
       "      <td>7.5</td>\n",
       "      <td>2712</td>\n",
       "      <td>7.240418</td>\n",
       "      <td>FionnWhitehead TomGlynn-Carney JackLowden Harr...</td>\n",
       "      <td>ChristopherNolan</td>\n",
       "      <td>france beach world war ii evacuation german pi...</td>\n",
       "      <td>174055</td>\n",
       "    </tr>\n",
       "    <tr>\n",
       "      <th>2289</th>\n",
       "      <td>Action ScienceFiction Thriller Adventure</td>\n",
       "      <td>335988</td>\n",
       "      <td>en</td>\n",
       "      <td>Autobots and Decepticons are at war, with huma...</td>\n",
       "      <td>39.186819</td>\n",
       "      <td>English</td>\n",
       "      <td>Transformers: The Last Knight</td>\n",
       "      <td>6.2</td>\n",
       "      <td>1440</td>\n",
       "      <td>6.065291</td>\n",
       "      <td>MarkWahlberg JoshDuhamel LauraHaddock AnthonyH...</td>\n",
       "      <td>MichaelBay</td>\n",
       "      <td>knight transformers</td>\n",
       "      <td>174585</td>\n",
       "    </tr>\n",
       "    <tr>\n",
       "      <th>2290</th>\n",
       "      <td>Action Western ScienceFiction Fantasy Horror</td>\n",
       "      <td>353491</td>\n",
       "      <td>en</td>\n",
       "      <td>The last Gunslinger, Roland Deschain, has been...</td>\n",
       "      <td>50.903593</td>\n",
       "      <td>English</td>\n",
       "      <td>The Dark Tower</td>\n",
       "      <td>5.7</td>\n",
       "      <td>688</td>\n",
       "      <td>5.668409</td>\n",
       "      <td>IdrisElba MatthewMcConaughey TomTaylor Claudia...</td>\n",
       "      <td>NikolajArcel</td>\n",
       "      <td>gunslinger based on novel</td>\n",
       "      <td>175197</td>\n",
       "    </tr>\n",
       "  </tbody>\n",
       "</table>\n",
       "<p>2240 rows × 14 columns</p>\n",
       "</div>"
      ],
      "text/plain": [
       "                                            genres      id original_language  \\\n",
       "0                          Animation Comedy Family     862                en   \n",
       "1                         Adventure Fantasy Family    8844                en   \n",
       "2                      Action Crime Drama Thriller     949                en   \n",
       "3                        Adventure Action Thriller     710                en   \n",
       "4                                      Drama Crime     524                en   \n",
       "...                                            ...     ...               ...   \n",
       "2286                       ScienceFiction Thriller  406990                en   \n",
       "2287                               Action Thriller  341013                en   \n",
       "2288             Action Drama History Thriller War  374720                en   \n",
       "2289      Action ScienceFiction Thriller Adventure  335988                en   \n",
       "2290  Action Western ScienceFiction Fantasy Horror  353491                en   \n",
       "\n",
       "                                               overview  popularity  \\\n",
       "0     Led by Woody, Andy's toys live happily in his ...   21.946943   \n",
       "1     When siblings Judy and Peter discover an encha...   17.015539   \n",
       "2     Obsessive master thief, Neil McCauley leads a ...   17.924927   \n",
       "3     James Bond must unmask the mysterious head of ...   14.686036   \n",
       "4     The life of the gambling paradise – Las Vegas ...   10.137389   \n",
       "...                                                 ...         ...   \n",
       "2286  In a world where families are limited to one c...   60.581223   \n",
       "2287  An undercover MI6 agent is sent to Berlin duri...   14.455104   \n",
       "2288  The miraculous evacuation of Allied soldiers f...   30.938854   \n",
       "2289  Autobots and Decepticons are at war, with huma...   39.186819   \n",
       "2290  The last Gunslinger, Roland Deschain, has been...   50.903593   \n",
       "\n",
       "                     spoken_languages                          title  \\\n",
       "0                             English                      Toy Story   \n",
       "1                    English Français                        Jumanji   \n",
       "2                     English Español                           Heat   \n",
       "3             English Pусский Español                      GoldenEye   \n",
       "4                             English                         Casino   \n",
       "...                               ...                            ...   \n",
       "2286                          English        What Happened to Monday   \n",
       "2287  svenska English Deutsch Pусский                  Atomic Blonde   \n",
       "2288         English Français Deutsch                        Dunkirk   \n",
       "2289                          English  Transformers: The Last Knight   \n",
       "2290                          English                 The Dark Tower   \n",
       "\n",
       "      vote_average  vote_count     score  \\\n",
       "0              7.7        5415  7.545539   \n",
       "1              6.9        2413  6.704621   \n",
       "2              7.7        1886  7.310584   \n",
       "3              6.6        1194  6.338302   \n",
       "4              7.8        1343  7.267167   \n",
       "...            ...         ...       ...   \n",
       "2286           7.3         598  6.592786   \n",
       "2287           6.1         748  5.923143   \n",
       "2288           7.5        2712  7.240418   \n",
       "2289           6.2        1440  6.065291   \n",
       "2290           5.7         688  5.668409   \n",
       "\n",
       "                                                   cast              crew  \\\n",
       "0     TomHanks TimAllen DonRickles JimVarney Wallace...      JohnLasseter   \n",
       "1     RobinWilliams JonathanHyde KirstenDunst Bradle...       JoeJohnston   \n",
       "2     AlPacino RobertDeNiro ValKilmer JonVoight TomS...       MichaelMann   \n",
       "3     PierceBrosnan SeanBean IzabellaScorupco FamkeJ...    MartinCampbell   \n",
       "4     RobertDeNiro SharonStone JoePesci JamesWoods D...    MartinScorsese   \n",
       "...                                                 ...               ...   \n",
       "2286  NoomiRapace MarwanKenzari ChristianRubeck Glen...      TommyWirkola   \n",
       "2287  CharlizeTheron JamesMcAvoy SofiaBoutella Eddie...       DavidLeitch   \n",
       "2288  FionnWhitehead TomGlynn-Carney JackLowden Harr...  ChristopherNolan   \n",
       "2289  MarkWahlberg JoshDuhamel LauraHaddock AnthonyH...        MichaelBay   \n",
       "2290  IdrisElba MatthewMcConaughey TomTaylor Claudia...      NikolajArcel   \n",
       "\n",
       "                                               keywords  movieId  \n",
       "0     jealousy toy boy friendship friends rivalry bo...        1  \n",
       "1     board game disappearance based on children's b...        2  \n",
       "2     robbery detective bank obsession chase shootin...        6  \n",
       "3     cuba falsely accused secret identity computer ...       10  \n",
       "4     poker drug abuse 1970s overdose illegal prosti...       16  \n",
       "...                                                 ...      ...  \n",
       "2286  chase false identity overpopulation investigat...   173925  \n",
       "2287  berlin spy undercover cold war double agent un...   173941  \n",
       "2288  france beach world war ii evacuation german pi...   174055  \n",
       "2289                                knight transformers   174585  \n",
       "2290                          gunslinger based on novel   175197  \n",
       "\n",
       "[2240 rows x 14 columns]"
      ]
     },
     "execution_count": 7,
     "metadata": {},
     "output_type": "execute_result"
    }
   ],
   "source": [
    "data.drop_duplicates('title')"
   ]
  },
  {
   "cell_type": "code",
   "execution_count": 8,
   "metadata": {
    "ExecuteTime": {
     "end_time": "2020-12-23T01:24:44.701551Z",
     "start_time": "2020-12-23T01:24:27.908667Z"
    }
   },
   "outputs": [],
   "source": [
    "ratings = pd.read_csv('./dataset/ratings.csv')"
   ]
  },
  {
   "cell_type": "code",
   "execution_count": 9,
   "metadata": {
    "ExecuteTime": {
     "end_time": "2020-12-23T01:24:44.732137Z",
     "start_time": "2020-12-23T01:24:44.706711Z"
    }
   },
   "outputs": [
    {
     "data": {
      "text/html": [
       "<div>\n",
       "<style scoped>\n",
       "    .dataframe tbody tr th:only-of-type {\n",
       "        vertical-align: middle;\n",
       "    }\n",
       "\n",
       "    .dataframe tbody tr th {\n",
       "        vertical-align: top;\n",
       "    }\n",
       "\n",
       "    .dataframe thead th {\n",
       "        text-align: right;\n",
       "    }\n",
       "</style>\n",
       "<table border=\"1\" class=\"dataframe\">\n",
       "  <thead>\n",
       "    <tr style=\"text-align: right;\">\n",
       "      <th></th>\n",
       "      <th>userId</th>\n",
       "      <th>movieId</th>\n",
       "      <th>rating</th>\n",
       "      <th>timestamp</th>\n",
       "    </tr>\n",
       "  </thead>\n",
       "  <tbody>\n",
       "    <tr>\n",
       "      <th>0</th>\n",
       "      <td>1</td>\n",
       "      <td>110</td>\n",
       "      <td>1.0</td>\n",
       "      <td>1425941529</td>\n",
       "    </tr>\n",
       "    <tr>\n",
       "      <th>1</th>\n",
       "      <td>1</td>\n",
       "      <td>147</td>\n",
       "      <td>4.5</td>\n",
       "      <td>1425942435</td>\n",
       "    </tr>\n",
       "    <tr>\n",
       "      <th>2</th>\n",
       "      <td>1</td>\n",
       "      <td>858</td>\n",
       "      <td>5.0</td>\n",
       "      <td>1425941523</td>\n",
       "    </tr>\n",
       "    <tr>\n",
       "      <th>3</th>\n",
       "      <td>1</td>\n",
       "      <td>1221</td>\n",
       "      <td>5.0</td>\n",
       "      <td>1425941546</td>\n",
       "    </tr>\n",
       "    <tr>\n",
       "      <th>4</th>\n",
       "      <td>1</td>\n",
       "      <td>1246</td>\n",
       "      <td>5.0</td>\n",
       "      <td>1425941556</td>\n",
       "    </tr>\n",
       "  </tbody>\n",
       "</table>\n",
       "</div>"
      ],
      "text/plain": [
       "   userId  movieId  rating   timestamp\n",
       "0       1      110     1.0  1425941529\n",
       "1       1      147     4.5  1425942435\n",
       "2       1      858     5.0  1425941523\n",
       "3       1     1221     5.0  1425941546\n",
       "4       1     1246     5.0  1425941556"
      ]
     },
     "execution_count": 9,
     "metadata": {},
     "output_type": "execute_result"
    }
   ],
   "source": [
    "ratings.head()"
   ]
  },
  {
   "cell_type": "markdown",
   "metadata": {},
   "source": [
    "지금은 userId 컬럼과 movieId 컬럼이 따로따로 존재합니다.   \n",
    "아이템 기반 협업 필터링(item based collaborative filtering) 기반으로 추천 시스템을 만드려면 user-item 테이블로 만들어주어야 합니다.\n",
    "\n",
    "pivot_table을 이용해서 만들어주겠습니다."
   ]
  },
  {
   "cell_type": "code",
   "execution_count": 10,
   "metadata": {
    "ExecuteTime": {
     "end_time": "2020-12-23T01:24:45.245223Z",
     "start_time": "2020-12-23T01:24:44.732137Z"
    }
   },
   "outputs": [],
   "source": [
    "ratings.drop('timestamp', axis=1, inplace=True)"
   ]
  },
  {
   "cell_type": "markdown",
   "metadata": {},
   "source": [
    "# Pivoting"
   ]
  },
  {
   "cell_type": "code",
   "execution_count": 11,
   "metadata": {
    "ExecuteTime": {
     "end_time": "2020-12-23T01:25:08.247118Z",
     "start_time": "2020-12-23T01:24:45.248409Z"
    }
   },
   "outputs": [
    {
     "data": {
      "text/plain": [
       "(16441173, 16)"
      ]
     },
     "execution_count": 11,
     "metadata": {},
     "output_type": "execute_result"
    }
   ],
   "source": [
    "data = pd.merge(data, ratings)\n",
    "data.shape"
   ]
  },
  {
   "cell_type": "code",
   "execution_count": 12,
   "metadata": {
    "ExecuteTime": {
     "end_time": "2020-12-23T01:28:53.739546Z",
     "start_time": "2020-12-23T01:25:08.250113Z"
    }
   },
   "outputs": [],
   "source": [
    "pivot = data.pivot_table('rating', index = 'title', columns = 'userId').fillna(0)"
   ]
  },
  {
   "cell_type": "code",
   "execution_count": 13,
   "metadata": {
    "ExecuteTime": {
     "end_time": "2020-12-23T01:28:53.816030Z",
     "start_time": "2020-12-23T01:28:53.776136Z"
    }
   },
   "outputs": [
    {
     "data": {
      "text/plain": [
       "(2240, 268071)"
      ]
     },
     "execution_count": 13,
     "metadata": {},
     "output_type": "execute_result"
    }
   ],
   "source": [
    "pivot.shape"
   ]
  },
  {
   "cell_type": "code",
   "execution_count": 14,
   "metadata": {
    "ExecuteTime": {
     "end_time": "2020-12-23T01:28:54.046113Z",
     "start_time": "2020-12-23T01:28:53.819021Z"
    }
   },
   "outputs": [
    {
     "data": {
      "text/html": [
       "<div>\n",
       "<style scoped>\n",
       "    .dataframe tbody tr th:only-of-type {\n",
       "        vertical-align: middle;\n",
       "    }\n",
       "\n",
       "    .dataframe tbody tr th {\n",
       "        vertical-align: top;\n",
       "    }\n",
       "\n",
       "    .dataframe thead th {\n",
       "        text-align: right;\n",
       "    }\n",
       "</style>\n",
       "<table border=\"1\" class=\"dataframe\">\n",
       "  <thead>\n",
       "    <tr style=\"text-align: right;\">\n",
       "      <th>userId</th>\n",
       "      <th>1</th>\n",
       "      <th>2</th>\n",
       "      <th>3</th>\n",
       "      <th>4</th>\n",
       "      <th>5</th>\n",
       "      <th>6</th>\n",
       "      <th>7</th>\n",
       "      <th>8</th>\n",
       "      <th>9</th>\n",
       "      <th>10</th>\n",
       "      <th>...</th>\n",
       "      <th>270887</th>\n",
       "      <th>270888</th>\n",
       "      <th>270889</th>\n",
       "      <th>270890</th>\n",
       "      <th>270891</th>\n",
       "      <th>270892</th>\n",
       "      <th>270893</th>\n",
       "      <th>270894</th>\n",
       "      <th>270895</th>\n",
       "      <th>270896</th>\n",
       "    </tr>\n",
       "    <tr>\n",
       "      <th>title</th>\n",
       "      <th></th>\n",
       "      <th></th>\n",
       "      <th></th>\n",
       "      <th></th>\n",
       "      <th></th>\n",
       "      <th></th>\n",
       "      <th></th>\n",
       "      <th></th>\n",
       "      <th></th>\n",
       "      <th></th>\n",
       "      <th></th>\n",
       "      <th></th>\n",
       "      <th></th>\n",
       "      <th></th>\n",
       "      <th></th>\n",
       "      <th></th>\n",
       "      <th></th>\n",
       "      <th></th>\n",
       "      <th></th>\n",
       "      <th></th>\n",
       "      <th></th>\n",
       "    </tr>\n",
       "  </thead>\n",
       "  <tbody>\n",
       "    <tr>\n",
       "      <th>(500) Days of Summer</th>\n",
       "      <td>0.0</td>\n",
       "      <td>0.0</td>\n",
       "      <td>0.0</td>\n",
       "      <td>0.0</td>\n",
       "      <td>0.0</td>\n",
       "      <td>0.0</td>\n",
       "      <td>0.0</td>\n",
       "      <td>0.0</td>\n",
       "      <td>0.0</td>\n",
       "      <td>0.0</td>\n",
       "      <td>...</td>\n",
       "      <td>0.0</td>\n",
       "      <td>0.0</td>\n",
       "      <td>0.0</td>\n",
       "      <td>0.0</td>\n",
       "      <td>0.0</td>\n",
       "      <td>0.0</td>\n",
       "      <td>0.0</td>\n",
       "      <td>0.0</td>\n",
       "      <td>0.0</td>\n",
       "      <td>0.0</td>\n",
       "    </tr>\n",
       "    <tr>\n",
       "      <th>10 Cloverfield Lane</th>\n",
       "      <td>0.0</td>\n",
       "      <td>0.0</td>\n",
       "      <td>0.0</td>\n",
       "      <td>0.0</td>\n",
       "      <td>0.0</td>\n",
       "      <td>0.0</td>\n",
       "      <td>0.0</td>\n",
       "      <td>0.0</td>\n",
       "      <td>0.0</td>\n",
       "      <td>0.0</td>\n",
       "      <td>...</td>\n",
       "      <td>5.0</td>\n",
       "      <td>0.0</td>\n",
       "      <td>0.0</td>\n",
       "      <td>0.0</td>\n",
       "      <td>0.0</td>\n",
       "      <td>0.0</td>\n",
       "      <td>0.0</td>\n",
       "      <td>0.0</td>\n",
       "      <td>0.0</td>\n",
       "      <td>0.0</td>\n",
       "    </tr>\n",
       "    <tr>\n",
       "      <th>10 Things I Hate About You</th>\n",
       "      <td>0.0</td>\n",
       "      <td>0.0</td>\n",
       "      <td>0.0</td>\n",
       "      <td>0.0</td>\n",
       "      <td>0.0</td>\n",
       "      <td>0.0</td>\n",
       "      <td>0.0</td>\n",
       "      <td>0.0</td>\n",
       "      <td>0.0</td>\n",
       "      <td>0.0</td>\n",
       "      <td>...</td>\n",
       "      <td>0.0</td>\n",
       "      <td>0.0</td>\n",
       "      <td>0.0</td>\n",
       "      <td>0.0</td>\n",
       "      <td>0.0</td>\n",
       "      <td>0.0</td>\n",
       "      <td>0.0</td>\n",
       "      <td>0.0</td>\n",
       "      <td>0.0</td>\n",
       "      <td>0.0</td>\n",
       "    </tr>\n",
       "    <tr>\n",
       "      <th>10,000 BC</th>\n",
       "      <td>0.0</td>\n",
       "      <td>0.0</td>\n",
       "      <td>0.0</td>\n",
       "      <td>0.0</td>\n",
       "      <td>0.0</td>\n",
       "      <td>0.0</td>\n",
       "      <td>0.0</td>\n",
       "      <td>0.0</td>\n",
       "      <td>0.0</td>\n",
       "      <td>0.0</td>\n",
       "      <td>...</td>\n",
       "      <td>1.0</td>\n",
       "      <td>0.0</td>\n",
       "      <td>0.0</td>\n",
       "      <td>0.0</td>\n",
       "      <td>0.0</td>\n",
       "      <td>0.0</td>\n",
       "      <td>0.0</td>\n",
       "      <td>0.0</td>\n",
       "      <td>0.0</td>\n",
       "      <td>0.0</td>\n",
       "    </tr>\n",
       "    <tr>\n",
       "      <th>101 Dalmatians</th>\n",
       "      <td>0.0</td>\n",
       "      <td>0.0</td>\n",
       "      <td>0.0</td>\n",
       "      <td>0.0</td>\n",
       "      <td>0.0</td>\n",
       "      <td>0.0</td>\n",
       "      <td>0.0</td>\n",
       "      <td>0.0</td>\n",
       "      <td>0.0</td>\n",
       "      <td>0.0</td>\n",
       "      <td>...</td>\n",
       "      <td>1.0</td>\n",
       "      <td>0.0</td>\n",
       "      <td>0.0</td>\n",
       "      <td>0.0</td>\n",
       "      <td>0.0</td>\n",
       "      <td>0.0</td>\n",
       "      <td>0.0</td>\n",
       "      <td>0.0</td>\n",
       "      <td>0.0</td>\n",
       "      <td>0.0</td>\n",
       "    </tr>\n",
       "  </tbody>\n",
       "</table>\n",
       "<p>5 rows × 268071 columns</p>\n",
       "</div>"
      ],
      "text/plain": [
       "userId                      1       2       3       4       5       6       \\\n",
       "title                                                                        \n",
       "(500) Days of Summer           0.0     0.0     0.0     0.0     0.0     0.0   \n",
       "10 Cloverfield Lane            0.0     0.0     0.0     0.0     0.0     0.0   \n",
       "10 Things I Hate About You     0.0     0.0     0.0     0.0     0.0     0.0   \n",
       "10,000 BC                      0.0     0.0     0.0     0.0     0.0     0.0   \n",
       "101 Dalmatians                 0.0     0.0     0.0     0.0     0.0     0.0   \n",
       "\n",
       "userId                      7       8       9       10      ...  270887  \\\n",
       "title                                                       ...           \n",
       "(500) Days of Summer           0.0     0.0     0.0     0.0  ...     0.0   \n",
       "10 Cloverfield Lane            0.0     0.0     0.0     0.0  ...     5.0   \n",
       "10 Things I Hate About You     0.0     0.0     0.0     0.0  ...     0.0   \n",
       "10,000 BC                      0.0     0.0     0.0     0.0  ...     1.0   \n",
       "101 Dalmatians                 0.0     0.0     0.0     0.0  ...     1.0   \n",
       "\n",
       "userId                      270888  270889  270890  270891  270892  270893  \\\n",
       "title                                                                        \n",
       "(500) Days of Summer           0.0     0.0     0.0     0.0     0.0     0.0   \n",
       "10 Cloverfield Lane            0.0     0.0     0.0     0.0     0.0     0.0   \n",
       "10 Things I Hate About You     0.0     0.0     0.0     0.0     0.0     0.0   \n",
       "10,000 BC                      0.0     0.0     0.0     0.0     0.0     0.0   \n",
       "101 Dalmatians                 0.0     0.0     0.0     0.0     0.0     0.0   \n",
       "\n",
       "userId                      270894  270895  270896  \n",
       "title                                               \n",
       "(500) Days of Summer           0.0     0.0     0.0  \n",
       "10 Cloverfield Lane            0.0     0.0     0.0  \n",
       "10 Things I Hate About You     0.0     0.0     0.0  \n",
       "10,000 BC                      0.0     0.0     0.0  \n",
       "101 Dalmatians                 0.0     0.0     0.0  \n",
       "\n",
       "[5 rows x 268071 columns]"
      ]
     },
     "execution_count": 14,
     "metadata": {},
     "output_type": "execute_result"
    }
   ],
   "source": [
    "pivot.head()"
   ]
  },
  {
   "cell_type": "markdown",
   "metadata": {},
   "source": [
    "# cosine similarity"
   ]
  },
  {
   "cell_type": "code",
   "execution_count": 15,
   "metadata": {
    "ExecuteTime": {
     "end_time": "2020-12-23T01:32:18.234390Z",
     "start_time": "2020-12-23T01:28:54.049176Z"
    }
   },
   "outputs": [
    {
     "data": {
      "text/plain": [
       "(2240, 2240)"
      ]
     },
     "execution_count": 15,
     "metadata": {},
     "output_type": "execute_result"
    }
   ],
   "source": [
    "movie_sim = cosine_similarity(pivot, pivot)\n",
    "movie_sim.shape"
   ]
  },
  {
   "cell_type": "code",
   "execution_count": 16,
   "metadata": {
    "ExecuteTime": {
     "end_time": "2020-12-23T01:32:18.306477Z",
     "start_time": "2020-12-23T01:32:18.250321Z"
    }
   },
   "outputs": [
    {
     "data": {
      "text/plain": [
       "array([[1.        , 0.16128458, 0.24146379, ..., 0.02490169, 0.05886088,\n",
       "        0.12340987],\n",
       "       [0.16128458, 1.        , 0.0749956 , ..., 0.07458865, 0.06283113,\n",
       "        0.10884767],\n",
       "       [0.24146379, 0.0749956 , 1.        , ..., 0.02283157, 0.07210706,\n",
       "        0.13650028],\n",
       "       ...,\n",
       "       [0.02490169, 0.07458865, 0.02283157, ..., 1.        , 0.12385108,\n",
       "        0.0821507 ],\n",
       "       [0.05886088, 0.06283113, 0.07210706, ..., 0.12385108, 1.        ,\n",
       "        0.19567401],\n",
       "       [0.12340987, 0.10884767, 0.13650028, ..., 0.0821507 , 0.19567401,\n",
       "        1.        ]])"
      ]
     },
     "execution_count": 16,
     "metadata": {},
     "output_type": "execute_result"
    }
   ],
   "source": [
    "movie_sim"
   ]
  },
  {
   "cell_type": "code",
   "execution_count": 17,
   "metadata": {
    "ExecuteTime": {
     "end_time": "2020-12-23T01:32:18.358475Z",
     "start_time": "2020-12-23T01:32:18.311534Z"
    }
   },
   "outputs": [],
   "source": [
    "movie_sim_df = pd.DataFrame(data = movie_sim, index = pivot.index, columns = pivot.index)"
   ]
  },
  {
   "cell_type": "code",
   "execution_count": 18,
   "metadata": {
    "ExecuteTime": {
     "end_time": "2020-12-23T01:32:18.503166Z",
     "start_time": "2020-12-23T01:32:18.361504Z"
    }
   },
   "outputs": [
    {
     "data": {
      "text/html": [
       "<div>\n",
       "<style scoped>\n",
       "    .dataframe tbody tr th:only-of-type {\n",
       "        vertical-align: middle;\n",
       "    }\n",
       "\n",
       "    .dataframe tbody tr th {\n",
       "        vertical-align: top;\n",
       "    }\n",
       "\n",
       "    .dataframe thead th {\n",
       "        text-align: right;\n",
       "    }\n",
       "</style>\n",
       "<table border=\"1\" class=\"dataframe\">\n",
       "  <thead>\n",
       "    <tr style=\"text-align: right;\">\n",
       "      <th>title</th>\n",
       "      <th>(500) Days of Summer</th>\n",
       "      <th>10 Cloverfield Lane</th>\n",
       "      <th>10 Things I Hate About You</th>\n",
       "      <th>10,000 BC</th>\n",
       "      <th>101 Dalmatians</th>\n",
       "      <th>12 Angry Men</th>\n",
       "      <th>12 Years a Slave</th>\n",
       "      <th>127 Hours</th>\n",
       "      <th>13 Going on 30</th>\n",
       "      <th>13 Hours: The Secret Soldiers of Benghazi</th>\n",
       "      <th>...</th>\n",
       "      <th>Zoolander</th>\n",
       "      <th>Zoolander 2</th>\n",
       "      <th>Zootopia</th>\n",
       "      <th>[REC]</th>\n",
       "      <th>[REC]²</th>\n",
       "      <th>eXistenZ</th>\n",
       "      <th>xXx</th>\n",
       "      <th>xXx: Return of Xander Cage</th>\n",
       "      <th>xXx: State of the Union</th>\n",
       "      <th>Æon Flux</th>\n",
       "    </tr>\n",
       "    <tr>\n",
       "      <th>title</th>\n",
       "      <th></th>\n",
       "      <th></th>\n",
       "      <th></th>\n",
       "      <th></th>\n",
       "      <th></th>\n",
       "      <th></th>\n",
       "      <th></th>\n",
       "      <th></th>\n",
       "      <th></th>\n",
       "      <th></th>\n",
       "      <th></th>\n",
       "      <th></th>\n",
       "      <th></th>\n",
       "      <th></th>\n",
       "      <th></th>\n",
       "      <th></th>\n",
       "      <th></th>\n",
       "      <th></th>\n",
       "      <th></th>\n",
       "      <th></th>\n",
       "      <th></th>\n",
       "    </tr>\n",
       "  </thead>\n",
       "  <tbody>\n",
       "    <tr>\n",
       "      <th>(500) Days of Summer</th>\n",
       "      <td>1.000000</td>\n",
       "      <td>0.161285</td>\n",
       "      <td>0.241464</td>\n",
       "      <td>0.126556</td>\n",
       "      <td>0.102766</td>\n",
       "      <td>0.169856</td>\n",
       "      <td>0.231415</td>\n",
       "      <td>0.301303</td>\n",
       "      <td>0.217456</td>\n",
       "      <td>0.065402</td>\n",
       "      <td>...</td>\n",
       "      <td>0.204045</td>\n",
       "      <td>0.065484</td>\n",
       "      <td>0.179281</td>\n",
       "      <td>0.126878</td>\n",
       "      <td>0.070502</td>\n",
       "      <td>0.087719</td>\n",
       "      <td>0.116647</td>\n",
       "      <td>0.024902</td>\n",
       "      <td>0.058861</td>\n",
       "      <td>0.123410</td>\n",
       "    </tr>\n",
       "    <tr>\n",
       "      <th>10 Cloverfield Lane</th>\n",
       "      <td>0.161285</td>\n",
       "      <td>1.000000</td>\n",
       "      <td>0.074996</td>\n",
       "      <td>0.087457</td>\n",
       "      <td>0.044924</td>\n",
       "      <td>0.099667</td>\n",
       "      <td>0.227109</td>\n",
       "      <td>0.207810</td>\n",
       "      <td>0.080230</td>\n",
       "      <td>0.184597</td>\n",
       "      <td>...</td>\n",
       "      <td>0.131359</td>\n",
       "      <td>0.149906</td>\n",
       "      <td>0.270170</td>\n",
       "      <td>0.176289</td>\n",
       "      <td>0.115028</td>\n",
       "      <td>0.085670</td>\n",
       "      <td>0.099623</td>\n",
       "      <td>0.074589</td>\n",
       "      <td>0.062831</td>\n",
       "      <td>0.108848</td>\n",
       "    </tr>\n",
       "    <tr>\n",
       "      <th>10 Things I Hate About You</th>\n",
       "      <td>0.241464</td>\n",
       "      <td>0.074996</td>\n",
       "      <td>1.000000</td>\n",
       "      <td>0.121770</td>\n",
       "      <td>0.213107</td>\n",
       "      <td>0.148263</td>\n",
       "      <td>0.092465</td>\n",
       "      <td>0.120639</td>\n",
       "      <td>0.314702</td>\n",
       "      <td>0.038903</td>\n",
       "      <td>...</td>\n",
       "      <td>0.251897</td>\n",
       "      <td>0.044438</td>\n",
       "      <td>0.100955</td>\n",
       "      <td>0.063457</td>\n",
       "      <td>0.040445</td>\n",
       "      <td>0.136318</td>\n",
       "      <td>0.180391</td>\n",
       "      <td>0.022832</td>\n",
       "      <td>0.072107</td>\n",
       "      <td>0.136500</td>\n",
       "    </tr>\n",
       "    <tr>\n",
       "      <th>10,000 BC</th>\n",
       "      <td>0.126556</td>\n",
       "      <td>0.087457</td>\n",
       "      <td>0.121770</td>\n",
       "      <td>1.000000</td>\n",
       "      <td>0.109090</td>\n",
       "      <td>0.071814</td>\n",
       "      <td>0.094253</td>\n",
       "      <td>0.121231</td>\n",
       "      <td>0.126269</td>\n",
       "      <td>0.069239</td>\n",
       "      <td>...</td>\n",
       "      <td>0.110842</td>\n",
       "      <td>0.046654</td>\n",
       "      <td>0.072829</td>\n",
       "      <td>0.094678</td>\n",
       "      <td>0.069171</td>\n",
       "      <td>0.068578</td>\n",
       "      <td>0.148535</td>\n",
       "      <td>0.049657</td>\n",
       "      <td>0.140346</td>\n",
       "      <td>0.203384</td>\n",
       "    </tr>\n",
       "    <tr>\n",
       "      <th>101 Dalmatians</th>\n",
       "      <td>0.102766</td>\n",
       "      <td>0.044924</td>\n",
       "      <td>0.213107</td>\n",
       "      <td>0.109090</td>\n",
       "      <td>1.000000</td>\n",
       "      <td>0.118178</td>\n",
       "      <td>0.058960</td>\n",
       "      <td>0.074234</td>\n",
       "      <td>0.179013</td>\n",
       "      <td>0.024722</td>\n",
       "      <td>...</td>\n",
       "      <td>0.148296</td>\n",
       "      <td>0.032150</td>\n",
       "      <td>0.063366</td>\n",
       "      <td>0.057655</td>\n",
       "      <td>0.030357</td>\n",
       "      <td>0.070654</td>\n",
       "      <td>0.133436</td>\n",
       "      <td>0.022734</td>\n",
       "      <td>0.065987</td>\n",
       "      <td>0.108745</td>\n",
       "    </tr>\n",
       "  </tbody>\n",
       "</table>\n",
       "<p>5 rows × 2240 columns</p>\n",
       "</div>"
      ],
      "text/plain": [
       "title                       (500) Days of Summer  10 Cloverfield Lane  \\\n",
       "title                                                                   \n",
       "(500) Days of Summer                    1.000000             0.161285   \n",
       "10 Cloverfield Lane                     0.161285             1.000000   \n",
       "10 Things I Hate About You              0.241464             0.074996   \n",
       "10,000 BC                               0.126556             0.087457   \n",
       "101 Dalmatians                          0.102766             0.044924   \n",
       "\n",
       "title                       10 Things I Hate About You  10,000 BC  \\\n",
       "title                                                               \n",
       "(500) Days of Summer                          0.241464   0.126556   \n",
       "10 Cloverfield Lane                           0.074996   0.087457   \n",
       "10 Things I Hate About You                    1.000000   0.121770   \n",
       "10,000 BC                                     0.121770   1.000000   \n",
       "101 Dalmatians                                0.213107   0.109090   \n",
       "\n",
       "title                       101 Dalmatians  12 Angry Men  12 Years a Slave  \\\n",
       "title                                                                        \n",
       "(500) Days of Summer              0.102766      0.169856          0.231415   \n",
       "10 Cloverfield Lane               0.044924      0.099667          0.227109   \n",
       "10 Things I Hate About You        0.213107      0.148263          0.092465   \n",
       "10,000 BC                         0.109090      0.071814          0.094253   \n",
       "101 Dalmatians                    1.000000      0.118178          0.058960   \n",
       "\n",
       "title                       127 Hours  13 Going on 30  \\\n",
       "title                                                   \n",
       "(500) Days of Summer         0.301303        0.217456   \n",
       "10 Cloverfield Lane          0.207810        0.080230   \n",
       "10 Things I Hate About You   0.120639        0.314702   \n",
       "10,000 BC                    0.121231        0.126269   \n",
       "101 Dalmatians               0.074234        0.179013   \n",
       "\n",
       "title                       13 Hours: The Secret Soldiers of Benghazi  ...  \\\n",
       "title                                                                  ...   \n",
       "(500) Days of Summer                                         0.065402  ...   \n",
       "10 Cloverfield Lane                                          0.184597  ...   \n",
       "10 Things I Hate About You                                   0.038903  ...   \n",
       "10,000 BC                                                    0.069239  ...   \n",
       "101 Dalmatians                                               0.024722  ...   \n",
       "\n",
       "title                       Zoolander  Zoolander 2  Zootopia     [REC]  \\\n",
       "title                                                                    \n",
       "(500) Days of Summer         0.204045     0.065484  0.179281  0.126878   \n",
       "10 Cloverfield Lane          0.131359     0.149906  0.270170  0.176289   \n",
       "10 Things I Hate About You   0.251897     0.044438  0.100955  0.063457   \n",
       "10,000 BC                    0.110842     0.046654  0.072829  0.094678   \n",
       "101 Dalmatians               0.148296     0.032150  0.063366  0.057655   \n",
       "\n",
       "title                         [REC]²  eXistenZ       xXx  \\\n",
       "title                                                      \n",
       "(500) Days of Summer        0.070502  0.087719  0.116647   \n",
       "10 Cloverfield Lane         0.115028  0.085670  0.099623   \n",
       "10 Things I Hate About You  0.040445  0.136318  0.180391   \n",
       "10,000 BC                   0.069171  0.068578  0.148535   \n",
       "101 Dalmatians              0.030357  0.070654  0.133436   \n",
       "\n",
       "title                       xXx: Return of Xander Cage  \\\n",
       "title                                                    \n",
       "(500) Days of Summer                          0.024902   \n",
       "10 Cloverfield Lane                           0.074589   \n",
       "10 Things I Hate About You                    0.022832   \n",
       "10,000 BC                                     0.049657   \n",
       "101 Dalmatians                                0.022734   \n",
       "\n",
       "title                       xXx: State of the Union  Æon Flux  \n",
       "title                                                          \n",
       "(500) Days of Summer                       0.058861  0.123410  \n",
       "10 Cloverfield Lane                        0.062831  0.108848  \n",
       "10 Things I Hate About You                 0.072107  0.136500  \n",
       "10,000 BC                                  0.140346  0.203384  \n",
       "101 Dalmatians                             0.065987  0.108745  \n",
       "\n",
       "[5 rows x 2240 columns]"
      ]
     },
     "execution_count": 18,
     "metadata": {},
     "output_type": "execute_result"
    }
   ],
   "source": [
    "movie_sim_df.head()"
   ]
  },
  {
   "cell_type": "markdown",
   "metadata": {},
   "source": [
    "그러면 이제 특정 영화와 비교했을 때 그 영화와 유사한 영화들을 추천해주면 됩니다."
   ]
  },
  {
   "cell_type": "code",
   "execution_count": 19,
   "metadata": {
    "ExecuteTime": {
     "end_time": "2020-12-23T01:32:18.559766Z",
     "start_time": "2020-12-23T01:32:18.506735Z"
    }
   },
   "outputs": [
    {
     "data": {
      "text/plain": [
       "title\n",
       "X-Men: The Last Stand                  0.493659\n",
       "X-Men: First Class                     0.473584\n",
       "Iron Man 2                             0.460773\n",
       "The Incredible Hulk                    0.452307\n",
       "Thor                                   0.444001\n",
       "Captain America: The First Avenger     0.439527\n",
       "The Wolverine                          0.434007\n",
       "Transformers: Revenge of the Fallen    0.428829\n",
       "Terminator Salvation                   0.428546\n",
       "Hancock                                0.422578\n",
       "Name: X-Men Origins: Wolverine, dtype: float64"
      ]
     },
     "execution_count": 19,
     "metadata": {},
     "output_type": "execute_result"
    }
   ],
   "source": [
    "movie_sim_df[\"X-Men Origins: Wolverine\"].sort_values(ascending=False)[1:11]"
   ]
  },
  {
   "cell_type": "code",
   "execution_count": 20,
   "metadata": {
    "ExecuteTime": {
     "end_time": "2020-12-23T01:32:18.585437Z",
     "start_time": "2020-12-23T01:32:18.563767Z"
    }
   },
   "outputs": [
    {
     "data": {
      "text/plain": [
       "title\n",
       "Harry Potter and the Deathly Hallows: Part 1    0.748248\n",
       "Harry Potter and the Order of the Phoenix       0.690604\n",
       "Harry Potter and the Deathly Hallows: Part 2    0.675202\n",
       "Harry Potter and the Goblet of Fire             0.633262\n",
       "Harry Potter and the Prisoner of Azkaban        0.589819\n",
       "Harry Potter and the Philosopher's Stone        0.505116\n",
       "Harry Potter and the Chamber of Secrets         0.503854\n",
       "The Hunger Games                                0.449095\n",
       "The Hobbit: An Unexpected Journey               0.442008\n",
       "Avatar                                          0.436682\n",
       "Name: Harry Potter and the Half-Blood Prince, dtype: float64"
      ]
     },
     "execution_count": 20,
     "metadata": {},
     "output_type": "execute_result"
    }
   ],
   "source": [
    "movie_sim_df[\"Harry Potter and the Half-Blood Prince\"].sort_values(ascending=False)[1:11]"
   ]
  },
  {
   "cell_type": "code",
   "execution_count": 21,
   "metadata": {
    "ExecuteTime": {
     "end_time": "2020-12-23T01:32:18.613407Z",
     "start_time": "2020-12-23T01:32:18.590146Z"
    }
   },
   "outputs": [
    {
     "data": {
      "text/plain": [
       "title\n",
       "War of the Worlds                                                 0.470805\n",
       "Spider-Man 2                                                      0.429493\n",
       "Star Wars: Episode III - Revenge of the Sith                      0.414435\n",
       "X-Men: The Last Stand                                             0.414001\n",
       "Superman Returns                                                  0.411219\n",
       "Pirates of the Caribbean: Dead Man's Chest                        0.404468\n",
       "The Chronicles of Narnia: The Lion, the Witch and the Wardrobe    0.399526\n",
       "Hellboy                                                           0.398361\n",
       "I, Robot                                                          0.396771\n",
       "Charlie and the Chocolate Factory                                 0.394558\n",
       "Name: King Kong, dtype: float64"
      ]
     },
     "execution_count": 21,
     "metadata": {},
     "output_type": "execute_result"
    }
   ],
   "source": [
    "movie_sim_df[\"King Kong\"].sort_values(ascending=False)[1:11]"
   ]
  },
  {
   "cell_type": "code",
   "execution_count": 22,
   "metadata": {
    "ExecuteTime": {
     "end_time": "2020-12-23T01:32:18.639809Z",
     "start_time": "2020-12-23T01:32:18.620399Z"
    }
   },
   "outputs": [
    {
     "data": {
      "text/plain": [
       "title\n",
       "The Avengers               0.609856\n",
       "Django Unchained           0.574199\n",
       "Inception                  0.571691\n",
       "The Dark Knight            0.569218\n",
       "Interstellar               0.520746\n",
       "Guardians of the Galaxy    0.513397\n",
       "Batman Begins              0.498658\n",
       "X-Men: First Class         0.498474\n",
       "Iron Man                   0.496751\n",
       "Shutter Island             0.495844\n",
       "Name: The Dark Knight Rises, dtype: float64"
      ]
     },
     "execution_count": 22,
     "metadata": {},
     "output_type": "execute_result"
    }
   ],
   "source": [
    "movie_sim_df[\"The Dark Knight Rises\"].sort_values(ascending=False)[1:11]"
   ]
  },
  {
   "cell_type": "code",
   "execution_count": 23,
   "metadata": {
    "ExecuteTime": {
     "end_time": "2020-12-23T01:32:18.694501Z",
     "start_time": "2020-12-23T01:32:18.665021Z"
    }
   },
   "outputs": [
    {
     "data": {
      "text/plain": [
       "title\n",
       "The Dark Knight Rises                  0.609856\n",
       "Guardians of the Galaxy                0.599658\n",
       "X-Men: First Class                     0.593308\n",
       "Iron Man                               0.576998\n",
       "Captain America: The Winter Soldier    0.572532\n",
       "Iron Man 2                             0.571376\n",
       "Iron Man 3                             0.567199\n",
       "Captain America: The First Avenger     0.561280\n",
       "X-Men: Days of Future Past             0.551384\n",
       "Avengers: Age of Ultron                0.536395\n",
       "Name: The Avengers, dtype: float64"
      ]
     },
     "execution_count": 23,
     "metadata": {},
     "output_type": "execute_result"
    }
   ],
   "source": [
    "movie_sim_df[\"The Avengers\"].sort_values(ascending=False)[1:11]"
   ]
  }
 ],
 "metadata": {
  "hide_input": false,
  "kernelspec": {
   "display_name": "Python 3",
   "language": "python",
   "name": "python3"
  },
  "language_info": {
   "codemirror_mode": {
    "name": "ipython",
    "version": 3
   },
   "file_extension": ".py",
   "mimetype": "text/x-python",
   "name": "python",
   "nbconvert_exporter": "python",
   "pygments_lexer": "ipython3",
   "version": "3.7.1"
  },
  "toc": {
   "base_numbering": 1,
   "nav_menu": {},
   "number_sections": true,
   "sideBar": true,
   "skip_h1_title": false,
   "title_cell": "Table of Contents",
   "title_sidebar": "Contents",
   "toc_cell": false,
   "toc_position": {
    "height": "calc(100% - 180px)",
    "left": "10px",
    "top": "150px",
    "width": "307.2px"
   },
   "toc_section_display": true,
   "toc_window_display": true
  },
  "varInspector": {
   "cols": {
    "lenName": 16,
    "lenType": 16,
    "lenVar": 40
   },
   "kernels_config": {
    "python": {
     "delete_cmd_postfix": "",
     "delete_cmd_prefix": "del ",
     "library": "var_list.py",
     "varRefreshCmd": "print(var_dic_list())"
    },
    "r": {
     "delete_cmd_postfix": ") ",
     "delete_cmd_prefix": "rm(",
     "library": "var_list.r",
     "varRefreshCmd": "cat(var_dic_list()) "
    }
   },
   "types_to_exclude": [
    "module",
    "function",
    "builtin_function_or_method",
    "instance",
    "_Feature"
   ],
   "window_display": false
  }
 },
 "nbformat": 4,
 "nbformat_minor": 4
}

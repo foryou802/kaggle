{
 "cells": [
  {
   "cell_type": "code",
   "execution_count": 1,
   "metadata": {},
   "outputs": [],
   "source": [
    "import numpy as np\n",
    "from scipy import stats\n",
    "import pandas as pd\n",
    "import matplotlib.pyplot as plt\n",
    "import seaborn as sns\n",
    "\n",
    "sns.set()\n",
    "\n",
    "import warnings\n",
    "warnings.filterwarnings('ignore')"
   ]
  },
  {
   "cell_type": "code",
   "execution_count": 2,
   "metadata": {},
   "outputs": [],
   "source": [
    "from sklearn.base import BaseEstimator, TransformerMixin\n",
    "from sklearn.preprocessing import StandardScaler, MinMaxScaler\n",
    "from sklearn.model_selection import train_test_split\n",
    "from sklearn.pipeline import Pipeline, make_pipeline\n",
    "from sklearn.model_selection import cross_val_score\n",
    "from sklearn.externals import joblib\n",
    "from sklearn.model_selection import GridSearchCV, RandomizedSearchCV\n",
    "from my_transformer import change_to_datetime, divide_datetime, add_dayofweek, feature_selection, one_hot_encoding, standard_scaler, concat, drop_feature"
   ]
  },
  {
   "cell_type": "code",
   "execution_count": 3,
   "metadata": {},
   "outputs": [],
   "source": [
    "from sklearn.neighbors import KNeighborsRegressor\n",
    "from sklearn.linear_model import LinearRegression\n",
    "from sklearn.linear_model import SGDRegressor\n",
    "from sklearn.linear_model import Ridge\n",
    "from sklearn.linear_model import Lasso\n",
    "from sklearn.linear_model import ElasticNet\n",
    "from sklearn.tree import DecisionTreeRegressor\n",
    "from sklearn.ensemble import RandomForestRegressor\n",
    "from sklearn.ensemble import GradientBoostingRegressor\n",
    "from sklearn.svm import SVR"
   ]
  },
  {
   "cell_type": "code",
   "execution_count": 4,
   "metadata": {},
   "outputs": [],
   "source": [
    "knn = KNeighborsRegressor(n_neighbors=5)\n",
    "linear = LinearRegression()\n",
    "sgd = SGDRegressor(max_iter=None, eta0=0.01, penalty='l2', random_state=30)\n",
    "ridge = Ridge(alpha=1, random_state=30)\n",
    "lasso = Lasso(alpha=1, random_state=30)\n",
    "elastic = ElasticNet(alpha=1, l1_ratio=0.5, random_state=30)\n",
    "dt = DecisionTreeRegressor(max_depth=None, random_state=30)\n",
    "rf = RandomForestRegressor(n_estimators=100, max_depth=None, random_state=30, n_jobs=-1)\n",
    "gb = GradientBoostingRegressor(n_estimators=100, learning_rate=0.1, max_depth=3, random_state=30)\n",
    "svm = SVR(C=1, kernel='rbf', gamma='auto_deprecated')"
   ]
  },
  {
   "cell_type": "code",
   "execution_count": 5,
   "metadata": {},
   "outputs": [],
   "source": [
    "from sklearn.metrics import make_scorer\n",
    "\n",
    "def rmsle(predicted_values, actual_values):\n",
    "    # 넘파이로 배열 형태로 바꿔준다.\n",
    "    predicted_values = np.array(predicted_values)\n",
    "    actual_values = np.array(actual_values)\n",
    "    \n",
    "    # 예측값과 실제 값에 1을 더하고 로그를 씌워준다.\n",
    "    log_predict = np.log(predicted_values + 1)\n",
    "    log_actual = np.log(actual_values + 1)\n",
    "    \n",
    "    # 위에서 계산한 예측값에서 실제값을 빼주고 제곱을 해준다.\n",
    "    difference = log_predict - log_actual\n",
    "    # difference = (log_predict - log_actual) ** 2\n",
    "    difference = np.square(difference)\n",
    "    \n",
    "    # 평균을 낸다.\n",
    "    mean_difference = difference.mean()\n",
    "    \n",
    "    # 다시 루트를 씌운다.\n",
    "    score = np.sqrt(mean_difference)\n",
    "    \n",
    "    return score\n",
    "\n",
    "rmsle_scorer = make_scorer(rmsle)"
   ]
  },
  {
   "cell_type": "code",
   "execution_count": 6,
   "metadata": {},
   "outputs": [],
   "source": [
    "from sklearn.metrics import make_scorer\n",
    "\n",
    "def neg_rmsle(predicted_values, actual_values):\n",
    "    # 넘파이로 배열 형태로 바꿔준다.\n",
    "    predicted_values = np.array(predicted_values)\n",
    "    actual_values = np.array(actual_values)\n",
    "    \n",
    "    # 예측값과 실제 값에 1을 더하고 로그를 씌워준다.\n",
    "    log_predict = np.log(predicted_values + 1)\n",
    "    log_actual = np.log(actual_values + 1)\n",
    "    \n",
    "    # 위에서 계산한 예측값에서 실제값을 빼주고 제곱을 해준다.\n",
    "    difference = log_predict - log_actual\n",
    "    # difference = (log_predict - log_actual) ** 2\n",
    "    difference = np.square(difference)\n",
    "    \n",
    "    # 평균을 낸다.\n",
    "    mean_difference = difference.mean()\n",
    "    \n",
    "    # 다시 루트를 씌운다.\n",
    "    score = np.sqrt(mean_difference) * (-1)\n",
    "    \n",
    "    return score\n",
    "\n",
    "neg_rmsle_scorer = make_scorer(neg_rmsle)"
   ]
  },
  {
   "cell_type": "code",
   "execution_count": 7,
   "metadata": {},
   "outputs": [],
   "source": [
    "preparation = joblib.load(\"preparation.pkl\")\n",
    "pipeline_cat = joblib.load(\"pipeline_cat.pkl\")\n",
    "pipeline_num = joblib.load(\"pipeline_num.pkl\")"
   ]
  },
  {
   "cell_type": "code",
   "execution_count": 8,
   "metadata": {},
   "outputs": [],
   "source": [
    "train = pd.read_csv('train.csv')\n",
    "# train = pd.read_csv(\"data/train.csv\", parse_dates=[\"datetime\"]) 와 같이 불러오면 data type을 변경할 필요 없음\n",
    "test = pd.read_csv('test.csv')"
   ]
  },
  {
   "cell_type": "code",
   "execution_count": 9,
   "metadata": {},
   "outputs": [],
   "source": [
    "data = train.drop(['casual', 'registered', 'count'], axis=1)\n",
    "y = train['count']"
   ]
  },
  {
   "cell_type": "code",
   "execution_count": 10,
   "metadata": {},
   "outputs": [
    {
     "data": {
      "text/html": [
       "<div>\n",
       "<style scoped>\n",
       "    .dataframe tbody tr th:only-of-type {\n",
       "        vertical-align: middle;\n",
       "    }\n",
       "\n",
       "    .dataframe tbody tr th {\n",
       "        vertical-align: top;\n",
       "    }\n",
       "\n",
       "    .dataframe thead th {\n",
       "        text-align: right;\n",
       "    }\n",
       "</style>\n",
       "<table border=\"1\" class=\"dataframe\">\n",
       "  <thead>\n",
       "    <tr style=\"text-align: right;\">\n",
       "      <th></th>\n",
       "      <th>datetime</th>\n",
       "      <th>season</th>\n",
       "      <th>holiday</th>\n",
       "      <th>workingday</th>\n",
       "      <th>weather</th>\n",
       "      <th>temp</th>\n",
       "      <th>atemp</th>\n",
       "      <th>humidity</th>\n",
       "      <th>windspeed</th>\n",
       "      <th>year</th>\n",
       "      <th>month</th>\n",
       "      <th>day</th>\n",
       "      <th>hour</th>\n",
       "      <th>dayofweek</th>\n",
       "    </tr>\n",
       "  </thead>\n",
       "  <tbody>\n",
       "    <tr>\n",
       "      <th>0</th>\n",
       "      <td>2011-01-01 00:00:00</td>\n",
       "      <td>1</td>\n",
       "      <td>0</td>\n",
       "      <td>0</td>\n",
       "      <td>1</td>\n",
       "      <td>9.84</td>\n",
       "      <td>14.395</td>\n",
       "      <td>81</td>\n",
       "      <td>0.0</td>\n",
       "      <td>2011</td>\n",
       "      <td>1</td>\n",
       "      <td>1</td>\n",
       "      <td>0</td>\n",
       "      <td>5</td>\n",
       "    </tr>\n",
       "    <tr>\n",
       "      <th>1</th>\n",
       "      <td>2011-01-01 01:00:00</td>\n",
       "      <td>1</td>\n",
       "      <td>0</td>\n",
       "      <td>0</td>\n",
       "      <td>1</td>\n",
       "      <td>9.02</td>\n",
       "      <td>13.635</td>\n",
       "      <td>80</td>\n",
       "      <td>0.0</td>\n",
       "      <td>2011</td>\n",
       "      <td>1</td>\n",
       "      <td>1</td>\n",
       "      <td>1</td>\n",
       "      <td>5</td>\n",
       "    </tr>\n",
       "    <tr>\n",
       "      <th>2</th>\n",
       "      <td>2011-01-01 02:00:00</td>\n",
       "      <td>1</td>\n",
       "      <td>0</td>\n",
       "      <td>0</td>\n",
       "      <td>1</td>\n",
       "      <td>9.02</td>\n",
       "      <td>13.635</td>\n",
       "      <td>80</td>\n",
       "      <td>0.0</td>\n",
       "      <td>2011</td>\n",
       "      <td>1</td>\n",
       "      <td>1</td>\n",
       "      <td>2</td>\n",
       "      <td>5</td>\n",
       "    </tr>\n",
       "    <tr>\n",
       "      <th>3</th>\n",
       "      <td>2011-01-01 03:00:00</td>\n",
       "      <td>1</td>\n",
       "      <td>0</td>\n",
       "      <td>0</td>\n",
       "      <td>1</td>\n",
       "      <td>9.84</td>\n",
       "      <td>14.395</td>\n",
       "      <td>75</td>\n",
       "      <td>0.0</td>\n",
       "      <td>2011</td>\n",
       "      <td>1</td>\n",
       "      <td>1</td>\n",
       "      <td>3</td>\n",
       "      <td>5</td>\n",
       "    </tr>\n",
       "    <tr>\n",
       "      <th>4</th>\n",
       "      <td>2011-01-01 04:00:00</td>\n",
       "      <td>1</td>\n",
       "      <td>0</td>\n",
       "      <td>0</td>\n",
       "      <td>1</td>\n",
       "      <td>9.84</td>\n",
       "      <td>14.395</td>\n",
       "      <td>75</td>\n",
       "      <td>0.0</td>\n",
       "      <td>2011</td>\n",
       "      <td>1</td>\n",
       "      <td>1</td>\n",
       "      <td>4</td>\n",
       "      <td>5</td>\n",
       "    </tr>\n",
       "  </tbody>\n",
       "</table>\n",
       "</div>"
      ],
      "text/plain": [
       "             datetime  season  holiday  workingday  weather  temp   atemp  \\\n",
       "0 2011-01-01 00:00:00       1        0           0        1  9.84  14.395   \n",
       "1 2011-01-01 01:00:00       1        0           0        1  9.02  13.635   \n",
       "2 2011-01-01 02:00:00       1        0           0        1  9.02  13.635   \n",
       "3 2011-01-01 03:00:00       1        0           0        1  9.84  14.395   \n",
       "4 2011-01-01 04:00:00       1        0           0        1  9.84  14.395   \n",
       "\n",
       "   humidity  windspeed  year  month  day  hour  dayofweek  \n",
       "0        81        0.0  2011      1    1     0          5  \n",
       "1        80        0.0  2011      1    1     1          5  \n",
       "2        80        0.0  2011      1    1     2          5  \n",
       "3        75        0.0  2011      1    1     3          5  \n",
       "4        75        0.0  2011      1    1     4          5  "
      ]
     },
     "execution_count": 10,
     "metadata": {},
     "output_type": "execute_result"
    }
   ],
   "source": [
    "data = preparation.transform(data)\n",
    "data.head()"
   ]
  },
  {
   "cell_type": "code",
   "execution_count": 11,
   "metadata": {},
   "outputs": [],
   "source": [
    "feature_cat = ['holiday', 'workingday', 'weather', 'year', 'month', 'hour', 'dayofweek']\n",
    "feature_num = ['temp', 'humidity', 'windspeed']"
   ]
  },
  {
   "cell_type": "code",
   "execution_count": 12,
   "metadata": {},
   "outputs": [],
   "source": [
    "X_cat = pipeline_cat.transform(data)\n",
    "X_num = pipeline_num.transform(data)\n",
    "X = concat(X_cat, X_num)"
   ]
  },
  {
   "cell_type": "code",
   "execution_count": 13,
   "metadata": {},
   "outputs": [
    {
     "data": {
      "text/plain": [
       "RandomizedSearchCV(cv=5, error_score='raise-deprecating',\n",
       "          estimator=RandomForestRegressor(bootstrap=True, criterion='mse', max_depth=None,\n",
       "           max_features='auto', max_leaf_nodes=None,\n",
       "           min_impurity_decrease=0.0, min_impurity_split=None,\n",
       "           min_samples_leaf=1, min_samples_split=2,\n",
       "           min_weight_fraction_leaf=0.0, n_estimators='warn', n_jobs=None,\n",
       "           oob_score=False, random_state=30, verbose=0, warm_start=False),\n",
       "          fit_params=None, iid='warn', n_iter=10, n_jobs=-1,\n",
       "          param_distributions={'n_estimators': <scipy.stats._distn_infrastructure.rv_frozen object at 0x0000019AEBE0EF28>, 'max_depth': <scipy.stats._distn_infrastructure.rv_frozen object at 0x0000019AEBE240B8>},\n",
       "          pre_dispatch='2*n_jobs', random_state=30, refit=True,\n",
       "          return_train_score='warn', scoring=make_scorer(neg_rmsle),\n",
       "          verbose=0)"
      ]
     },
     "execution_count": 13,
     "metadata": {},
     "output_type": "execute_result"
    }
   ],
   "source": [
    "param = {\n",
    "        'n_estimators' : stats.randint(low=1, high=1000),\n",
    "        'max_depth' : stats.randint(low=1, high=30)\n",
    "}\n",
    "\n",
    "rf= RandomForestRegressor(random_state=30)\n",
    "search = RandomizedSearchCV(rf, param_distributions=param, n_iter=10, cv=5, scoring=neg_rmsle_scorer, random_state=30, n_jobs=-1)\n",
    "search.fit(X, y)"
   ]
  },
  {
   "cell_type": "code",
   "execution_count": 14,
   "metadata": {},
   "outputs": [
    {
     "data": {
      "text/plain": [
       "{'max_depth': 24, 'n_estimators': 899}"
      ]
     },
     "execution_count": 14,
     "metadata": {},
     "output_type": "execute_result"
    }
   ],
   "source": [
    "search.best_params_"
   ]
  },
  {
   "cell_type": "code",
   "execution_count": 16,
   "metadata": {},
   "outputs": [
    {
     "name": "stdout",
     "output_type": "stream",
     "text": [
      "{'max_depth': 6, 'n_estimators': 422} : 1.3487\n",
      "{'max_depth': 14, 'n_estimators': 814} : 0.8828\n",
      "{'max_depth': 21, 'n_estimators': 141} : 0.7082\n",
      "{'max_depth': 24, 'n_estimators': 899} : 0.6840\n",
      "{'max_depth': 22, 'n_estimators': 764} : 0.6979\n",
      "{'max_depth': 18, 'n_estimators': 431} : 0.7569\n",
      "{'max_depth': 4, 'n_estimators': 426} : 1.4424\n",
      "{'max_depth': 8, 'n_estimators': 888} : 1.2464\n",
      "{'max_depth': 2, 'n_estimators': 690} : 1.5226\n",
      "{'max_depth': 14, 'n_estimators': 446} : 0.8836\n"
     ]
    }
   ],
   "source": [
    "result = search.cv_results_\n",
    "for mean_score, params in zip(result[\"mean_test_score\"], result[\"params\"]):\n",
    "    print('{} : {:.4f}' .format(params, abs(mean_score)))"
   ]
  },
  {
   "cell_type": "code",
   "execution_count": 17,
   "metadata": {},
   "outputs": [
    {
     "data": {
      "text/plain": [
       "[(0.15742381033571048, 'temp'),\n",
       " (0.12485890508210071, 'humidity'),\n",
       " (0.0955936147621362, 'workingday'),\n",
       " (0.0943242406451773, 'hour_17'),\n",
       " (0.08074016806683793, 'year'),\n",
       " (0.07868086491838505, 'hour_18'),\n",
       " (0.06335967570837714, 'hour_8'),\n",
       " (0.031156830495310744, 'hour_19'),\n",
       " (0.01748325941933721, 'hour_7'),\n",
       " (0.015709825015631947, 'hour_1'),\n",
       " (0.015305625446356944, 'hour_2'),\n",
       " (0.014442305900229898, 'hour_16'),\n",
       " (0.014191986134753306, 'hour_3'),\n",
       " (0.014077295371444762, 'hour_0'),\n",
       " (0.013748440226626243, 'hour_4'),\n",
       " (0.012510992734035302, 'hour_5'),\n",
       " (0.012319034502139056, 'windspeed'),\n",
       " (0.011303837170929455, 'hour_20'),\n",
       " (0.011032993959880747, 'hour_9'),\n",
       " (0.010297024163384474, 'hour_23'),\n",
       " (0.009696930824612005, 'weather_3'),\n",
       " (0.007286785111055465, 'hour_6'),\n",
       " (0.00634976642278545, 'hour_22'),\n",
       " (0.005816175420065543, 'hour_21'),\n",
       " (0.005325244258616551, 'month_11'),\n",
       " (0.005029750873118724, 'month_12'),\n",
       " (0.004768415575268778, 'month_10'),\n",
       " (0.004684022580792121, 'hour_10'),\n",
       " (0.004360273182889524, 'dayofweek_5'),\n",
       " (0.004123805530456072, 'dayofweek_4'),\n",
       " (0.003908912286428497, 'hour_12'),\n",
       " (0.0035996889857487268, 'dayofweek_6'),\n",
       " (0.003564342783056425, 'month_1'),\n",
       " (0.003535516241248448, 'hour_11'),\n",
       " (0.003409587442940192, 'month_3'),\n",
       " (0.0033625866791849937, 'month_7'),\n",
       " (0.003350701298669076, 'hour_13'),\n",
       " (0.0031529063479805467, 'month_2'),\n",
       " (0.002927712646818178, 'month_9'),\n",
       " (0.002847213614231994, 'month_4'),\n",
       " (0.002433261532127869, 'hour_14'),\n",
       " (0.0024020664632970644, 'hour_15'),\n",
       " (0.002258226272209764, 'weather_1'),\n",
       " (0.001959622100958679, 'dayofweek_1'),\n",
       " (0.0019245635063692202, 'dayofweek_0'),\n",
       " (0.001721125006322431, 'month_5'),\n",
       " (0.0016795948120315524, 'dayofweek_2'),\n",
       " (0.0016488592134154556, 'holiday'),\n",
       " (0.0013304654175060693, 'weather_2'),\n",
       " (0.0012906007323440101, 'dayofweek_3'),\n",
       " (0.0009108673664216411, 'month_6'),\n",
       " (0.0007783821406870019, 'month_8'),\n",
       " (1.2972715572138363e-06, 'weather_4')]"
      ]
     },
     "execution_count": 17,
     "metadata": {},
     "output_type": "execute_result"
    }
   ],
   "source": [
    "feature_importances = search.best_estimator_.feature_importances_\n",
    "sorted(zip(feature_importances, X.columns), reverse=True)"
   ]
  },
  {
   "cell_type": "code",
   "execution_count": null,
   "metadata": {},
   "outputs": [],
   "source": []
  }
 ],
 "metadata": {
  "kernelspec": {
   "display_name": "Python 3",
   "language": "python",
   "name": "python3"
  },
  "language_info": {
   "codemirror_mode": {
    "name": "ipython",
    "version": 3
   },
   "file_extension": ".py",
   "mimetype": "text/x-python",
   "name": "python",
   "nbconvert_exporter": "python",
   "pygments_lexer": "ipython3",
   "version": "3.7.1"
  }
 },
 "nbformat": 4,
 "nbformat_minor": 2
}

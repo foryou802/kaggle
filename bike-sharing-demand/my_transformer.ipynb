{
 "cells": [
  {
   "cell_type": "code",
   "execution_count": 1,
   "metadata": {},
   "outputs": [],
   "source": [
    "import numpy as np\n",
    "from scipy import stats\n",
    "import pandas as pd\n",
    "import matplotlib.pyplot as plt\n",
    "import seaborn as sns\n",
    "\n",
    "sns.set()\n",
    "\n",
    "import warnings\n",
    "warnings.filterwarnings('ignore')"
   ]
  },
  {
   "cell_type": "code",
   "execution_count": 2,
   "metadata": {},
   "outputs": [],
   "source": [
    "from sklearn.base import BaseEstimator, TransformerMixin\n",
    "from sklearn.preprocessing import StandardScaler, MinMaxScaler\n",
    "from sklearn.model_selection import train_test_split\n",
    "from sklearn.pipeline import Pipeline, make_pipeline\n",
    "from sklearn.compose import ColumnTransformer, make_column_transformer\n",
    "from sklearn.model_selection import cross_val_score\n",
    "from sklearn.externals import joblib"
   ]
  },
  {
   "cell_type": "code",
   "execution_count": 3,
   "metadata": {},
   "outputs": [],
   "source": [
    "class change_to_datetime(BaseEstimator, TransformerMixin):\n",
    "    def __init__(self, column_name=None):\n",
    "        self.column_name = column_name\n",
    "        \n",
    "    def fit(self, df_X, y=None):\n",
    "        return self\n",
    "    \n",
    "    def transform(self, df_X):\n",
    "        df_X[self.column_name] = pd.to_datetime(df_X[self.column_name])\n",
    "        return df_X"
   ]
  },
  {
   "cell_type": "code",
   "execution_count": 4,
   "metadata": {},
   "outputs": [],
   "source": [
    "class divide_datetime(BaseEstimator, TransformerMixin):       \n",
    "    def fit(self, df_X, y=None):\n",
    "        return self\n",
    "    \n",
    "    def transform(self, df_X):\n",
    "        df_X[\"year\"] = df_X[\"datetime\"].dt.year\n",
    "        df_X[\"month\"] = df_X[\"datetime\"].dt.month\n",
    "        df_X[\"day\"] = df_X[\"datetime\"].dt.day\n",
    "        df_X[\"hour\"] = df_X[\"datetime\"].dt.hour\n",
    "        return df_X"
   ]
  },
  {
   "cell_type": "code",
   "execution_count": 5,
   "metadata": {},
   "outputs": [],
   "source": [
    "class add_dayofweek(BaseEstimator, TransformerMixin):       \n",
    "    def fit(self, df_X, y=None):\n",
    "        return self\n",
    "    \n",
    "    def transform(self, df_X):\n",
    "        df_X[\"dayofweek\"] = df_X[\"datetime\"].dt.dayofweek\n",
    "        return df_X"
   ]
  },
  {
   "cell_type": "code",
   "execution_count": 6,
   "metadata": {},
   "outputs": [],
   "source": [
    "class feature_selection(BaseEstimator, TransformerMixin):\n",
    "    def __init__(self, columns=None):\n",
    "        self.columns = columns\n",
    "        \n",
    "    def fit(self, df_X, y=None):\n",
    "        return self\n",
    "    \n",
    "    def transform(self, df_X):\n",
    "        return df_X[self.columns]"
   ]
  },
  {
   "cell_type": "code",
   "execution_count": 7,
   "metadata": {},
   "outputs": [],
   "source": [
    "class one_hot_encoding(BaseEstimator, TransformerMixin):\n",
    "    def __init__(self, column_name=None, prefix=None):\n",
    "        self.column_name = column_name\n",
    "        self.prefix = prefix\n",
    "        \n",
    "    def fit(self, df_X, y=None):\n",
    "        return self\n",
    "    \n",
    "    def transform(self, df_X):\n",
    "        onehotencoding = pd.get_dummies(df_X[self.column_name], prefix = self.prefix)\n",
    "        df_X.drop(self.column_name, axis=1, inplace=True)\n",
    "        return pd.concat([df_X, onehotencoding], axis=1)"
   ]
  },
  {
   "cell_type": "code",
   "execution_count": 8,
   "metadata": {},
   "outputs": [],
   "source": [
    "class standard_scaler(BaseEstimator, TransformerMixin):      \n",
    "    def fit(self, df_X, y=None):\n",
    "        return self\n",
    "    \n",
    "    def transform(self, df_X, y=None):\n",
    "        scaler = StandardScaler()\n",
    "        scaler.fit(df_X)\n",
    "        X = scaler.transform(df_X)\n",
    "        df_X = pd.DataFrame(X, columns=df_X.columns, index=df_X.index)\n",
    "        return df_X"
   ]
  },
  {
   "cell_type": "code",
   "execution_count": 9,
   "metadata": {},
   "outputs": [],
   "source": [
    "def concat(df_A, df_B) : \n",
    "    return pd.concat([df_A, df_B], axis=1)"
   ]
  },
  {
   "cell_type": "code",
   "execution_count": 10,
   "metadata": {},
   "outputs": [],
   "source": [
    "class drop_feature(BaseEstimator, TransformerMixin):\n",
    "    def __init__(self, columns=None):\n",
    "        self.columns = columns\n",
    "        \n",
    "    def fit(self, df_X, y=None):\n",
    "        return self\n",
    "    \n",
    "    def transform(self, df_X):\n",
    "        df_X.drop(self.columns, axis=1, inplace=True)\n",
    "        return df_X"
   ]
  }
 ],
 "metadata": {
  "kernelspec": {
   "display_name": "Python 3",
   "language": "python",
   "name": "python3"
  },
  "language_info": {
   "codemirror_mode": {
    "name": "ipython",
    "version": 3
   },
   "file_extension": ".py",
   "mimetype": "text/x-python",
   "name": "python",
   "nbconvert_exporter": "python",
   "pygments_lexer": "ipython3",
   "version": "3.7.1"
  }
 },
 "nbformat": 4,
 "nbformat_minor": 2
}

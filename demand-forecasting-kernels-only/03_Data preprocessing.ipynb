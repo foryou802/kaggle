{
 "cells": [
  {
   "cell_type": "code",
   "execution_count": 1,
   "metadata": {
    "ExecuteTime": {
     "end_time": "2021-12-06T11:20:25.292989Z",
     "start_time": "2021-12-06T11:20:22.310395Z"
    }
   },
   "outputs": [],
   "source": [
    "import numpy as np\n",
    "from scipy import stats\n",
    "import pandas as pd\n",
    "import matplotlib.pyplot as plt\n",
    "import seaborn as sns\n",
    "\n",
    "sns.set()\n",
    "\n",
    "import os\n",
    "\n",
    "import warnings\n",
    "warnings.filterwarnings('ignore')"
   ]
  },
  {
   "cell_type": "code",
   "execution_count": 2,
   "metadata": {
    "ExecuteTime": {
     "end_time": "2021-12-06T11:20:28.753152Z",
     "start_time": "2021-12-06T11:20:25.295964Z"
    }
   },
   "outputs": [],
   "source": [
    "import joblib\n",
    "from sklearn.base import BaseEstimator, TransformerMixin\n",
    "from sklearn.impute import SimpleImputer\n",
    "from sklearn.preprocessing import StandardScaler, MinMaxScaler\n",
    "from sklearn.preprocessing import OneHotEncoder\n",
    "from sklearn.pipeline import Pipeline, make_pipeline\n",
    "from sklearn.compose import ColumnTransformer, make_column_transformer\n",
    "from sklearn.model_selection import train_test_split\n",
    "from sklearn.model_selection import cross_val_score\n",
    "from sklearn.metrics import mean_squared_error\n",
    "from sklearn.model_selection import GridSearchCV, RandomizedSearchCV"
   ]
  },
  {
   "cell_type": "markdown",
   "metadata": {},
   "source": [
    "# Data load"
   ]
  },
  {
   "cell_type": "code",
   "execution_count": 3,
   "metadata": {
    "ExecuteTime": {
     "end_time": "2021-12-06T11:20:31.656091Z",
     "start_time": "2021-12-06T11:20:28.755838Z"
    }
   },
   "outputs": [],
   "source": [
    "# train = pd.read_csv('train.csv')\n",
    "# test = pd.read_csv('test.csv')\n",
    "\n",
    "train = pd.read_csv('train.csv', parse_dates=['date'])\n",
    "test = pd.read_csv('test.csv', parse_dates=['date'])"
   ]
  },
  {
   "cell_type": "code",
   "execution_count": 4,
   "metadata": {
    "ExecuteTime": {
     "end_time": "2021-12-06T11:20:31.767920Z",
     "start_time": "2021-12-06T11:20:31.662034Z"
    }
   },
   "outputs": [],
   "source": [
    "items = pd.read_csv('items.csv')\n",
    "items.drop('item_name', axis=1, inplace=True)\n",
    "\n",
    "item_categories = pd.read_csv('item_categories_pre.csv')"
   ]
  },
  {
   "cell_type": "code",
   "execution_count": 5,
   "metadata": {
    "ExecuteTime": {
     "end_time": "2021-12-06T11:20:34.056496Z",
     "start_time": "2021-12-06T11:20:31.771807Z"
    }
   },
   "outputs": [],
   "source": [
    "train = pd.merge(train, items)\n",
    "train = pd.merge(train, item_categories)\n",
    "\n",
    "test = pd.merge(test, items)\n",
    "test = pd.merge(test, item_categories)"
   ]
  },
  {
   "cell_type": "code",
   "execution_count": 6,
   "metadata": {
    "ExecuteTime": {
     "end_time": "2021-12-06T11:20:34.150042Z",
     "start_time": "2021-12-06T11:20:34.060427Z"
    }
   },
   "outputs": [],
   "source": [
    "train['revenue'] = train['item_price'] * train['item_cnt_day']"
   ]
  },
  {
   "cell_type": "markdown",
   "metadata": {},
   "source": [
    "# Column 설정"
   ]
  },
  {
   "cell_type": "code",
   "execution_count": 7,
   "metadata": {
    "ExecuteTime": {
     "end_time": "2021-12-06T11:20:34.165197Z",
     "start_time": "2021-12-06T11:20:34.155721Z"
    }
   },
   "outputs": [],
   "source": [
    "target = 'item_cnt_day'"
   ]
  },
  {
   "cell_type": "code",
   "execution_count": 8,
   "metadata": {
    "ExecuteTime": {
     "end_time": "2021-12-06T11:20:34.180654Z",
     "start_time": "2021-12-06T11:20:34.171736Z"
    }
   },
   "outputs": [],
   "source": [
    "columns_useless = []"
   ]
  },
  {
   "cell_type": "code",
   "execution_count": 9,
   "metadata": {
    "ExecuteTime": {
     "end_time": "2021-12-06T11:20:34.226970Z",
     "start_time": "2021-12-06T11:20:34.195617Z"
    }
   },
   "outputs": [],
   "source": [
    "columns_num_all = joblib.load('columns_num.pkl')\n",
    "columns_cat_all = joblib.load('columns_cat.pkl')\n",
    "columns_binary_num = joblib.load('columns_binary_num.pkl')\n",
    "columns_binary_cat = joblib.load('columns_binary_cat.pkl')\n",
    "columns_dt = joblib.load('columns_dt.pkl')"
   ]
  },
  {
   "cell_type": "code",
   "execution_count": 10,
   "metadata": {
    "ExecuteTime": {
     "end_time": "2021-12-06T11:20:34.257626Z",
     "start_time": "2021-12-06T11:20:34.236503Z"
    }
   },
   "outputs": [],
   "source": [
    "try :\n",
    "    columns_num_all.remove(target)\n",
    "    \n",
    "except :\n",
    "    pass"
   ]
  },
  {
   "cell_type": "code",
   "execution_count": 11,
   "metadata": {
    "ExecuteTime": {
     "end_time": "2021-12-06T11:20:34.273007Z",
     "start_time": "2021-12-06T11:20:34.263820Z"
    }
   },
   "outputs": [],
   "source": [
    "try :\n",
    "    columns_cat_all.remove(target)\n",
    "    \n",
    "except :\n",
    "    pass"
   ]
  },
  {
   "cell_type": "code",
   "execution_count": 12,
   "metadata": {
    "ExecuteTime": {
     "end_time": "2021-12-06T11:20:34.288366Z",
     "start_time": "2021-12-06T11:20:34.278392Z"
    }
   },
   "outputs": [],
   "source": [
    "columns_num = []\n",
    "\n",
    "for column in columns_num_all :\n",
    "    \n",
    "    if column not in columns_useless :\n",
    "        columns_num.append(column)"
   ]
  },
  {
   "cell_type": "code",
   "execution_count": 13,
   "metadata": {
    "ExecuteTime": {
     "end_time": "2021-12-06T11:20:34.303328Z",
     "start_time": "2021-12-06T11:20:34.294349Z"
    }
   },
   "outputs": [],
   "source": [
    "columns_cat = []\n",
    "\n",
    "for column in columns_cat_all :\n",
    "    \n",
    "    if column not in columns_useless :\n",
    "        columns_cat.append(column)"
   ]
  },
  {
   "cell_type": "code",
   "execution_count": 14,
   "metadata": {
    "ExecuteTime": {
     "end_time": "2021-12-06T11:20:34.335430Z",
     "start_time": "2021-12-06T11:20:34.308314Z"
    }
   },
   "outputs": [
    {
     "data": {
      "text/plain": [
       "['date_block_num', 'item_price', 'revenue']"
      ]
     },
     "execution_count": 14,
     "metadata": {},
     "output_type": "execute_result"
    }
   ],
   "source": [
    "columns_sc = []\n",
    "\n",
    "for column in columns_num :\n",
    "    \n",
    "    if column not in columns_binary_num:\n",
    "        columns_sc.append(column)\n",
    "        \n",
    "columns_sc"
   ]
  },
  {
   "cell_type": "code",
   "execution_count": 15,
   "metadata": {
    "ExecuteTime": {
     "end_time": "2021-12-06T11:20:34.350198Z",
     "start_time": "2021-12-06T11:20:34.338232Z"
    }
   },
   "outputs": [],
   "source": [
    "columns_sc.remove('date_block_num')"
   ]
  },
  {
   "cell_type": "code",
   "execution_count": 16,
   "metadata": {
    "ExecuteTime": {
     "end_time": "2021-12-06T11:20:34.365247Z",
     "start_time": "2021-12-06T11:20:34.353192Z"
    }
   },
   "outputs": [
    {
     "data": {
      "text/plain": [
       "['shop_id', 'item_id', 'item_category_id', 'type_id', 'subtype_id']"
      ]
     },
     "execution_count": 16,
     "metadata": {},
     "output_type": "execute_result"
    }
   ],
   "source": [
    "columns_en = []\n",
    "\n",
    "for column in columns_cat :\n",
    "    \n",
    "    if (column not in columns_binary_num) and (column not in columns_binary_cat):\n",
    "        columns_en.append(column)\n",
    "        \n",
    "columns_en"
   ]
  },
  {
   "cell_type": "markdown",
   "metadata": {},
   "source": [
    "## datetime 설정"
   ]
  },
  {
   "cell_type": "code",
   "execution_count": 17,
   "metadata": {
    "ExecuteTime": {
     "end_time": "2021-12-06T11:20:34.381201Z",
     "start_time": "2021-12-06T11:20:34.368152Z"
    }
   },
   "outputs": [],
   "source": [
    "def data_summary(data):\n",
    "    summary = pd.DataFrame(data.dtypes, columns=['Dtype'])\n",
    "    summary = summary.rename(columns={'index': 'Feature'})\n",
    "    summary['Unique value'] = data.nunique().values\n",
    "    summary['Null count'] = data.isnull().sum().values\n",
    "    summary['Null percent'] = data.isnull().sum().values / len(data) * 100\n",
    "    summary['Null percent'] = round(summary['Null percent'], 1)\n",
    "    \n",
    "    return summary"
   ]
  },
  {
   "cell_type": "code",
   "execution_count": 18,
   "metadata": {
    "ExecuteTime": {
     "end_time": "2021-12-06T11:20:44.686808Z",
     "start_time": "2021-12-06T11:20:34.384144Z"
    }
   },
   "outputs": [],
   "source": [
    "train['year'] = train['date'].apply(lambda x : x.split('.')[2])\n",
    "train['month'] = train['date'].apply(lambda x : x.split('.')[1])\n",
    "train['day'] = train['date'].apply(lambda x : x.split('.')[0])"
   ]
  },
  {
   "cell_type": "code",
   "execution_count": 19,
   "metadata": {
    "ExecuteTime": {
     "end_time": "2021-12-06T11:20:48.677593Z",
     "start_time": "2021-12-06T11:20:44.690796Z"
    }
   },
   "outputs": [],
   "source": [
    "train['year'] = train['year'].astype('str')\n",
    "train['month'] = train['month'].astype('str')\n",
    "train['day'] = train['day'].astype('str')"
   ]
  },
  {
   "cell_type": "code",
   "execution_count": 20,
   "metadata": {
    "ExecuteTime": {
     "end_time": "2021-12-06T11:20:50.916740Z",
     "start_time": "2021-12-06T11:20:48.681418Z"
    }
   },
   "outputs": [],
   "source": [
    "train.drop('date', axis=1, inplace=True)"
   ]
  },
  {
   "cell_type": "code",
   "execution_count": 21,
   "metadata": {
    "ExecuteTime": {
     "end_time": "2021-12-06T11:20:50.995183Z",
     "start_time": "2021-12-06T11:20:50.920718Z"
    }
   },
   "outputs": [
    {
     "data": {
      "text/html": [
       "<div>\n",
       "<style scoped>\n",
       "    .dataframe tbody tr th:only-of-type {\n",
       "        vertical-align: middle;\n",
       "    }\n",
       "\n",
       "    .dataframe tbody tr th {\n",
       "        vertical-align: top;\n",
       "    }\n",
       "\n",
       "    .dataframe thead th {\n",
       "        text-align: right;\n",
       "    }\n",
       "</style>\n",
       "<table border=\"1\" class=\"dataframe\">\n",
       "  <thead>\n",
       "    <tr style=\"text-align: right;\">\n",
       "      <th></th>\n",
       "      <th>date_block_num</th>\n",
       "      <th>shop_id</th>\n",
       "      <th>item_id</th>\n",
       "      <th>item_price</th>\n",
       "      <th>item_cnt_day</th>\n",
       "      <th>item_category_id</th>\n",
       "      <th>type_id</th>\n",
       "      <th>subtype_id</th>\n",
       "      <th>revenue</th>\n",
       "      <th>year</th>\n",
       "      <th>month</th>\n",
       "      <th>day</th>\n",
       "    </tr>\n",
       "  </thead>\n",
       "  <tbody>\n",
       "    <tr>\n",
       "      <th>0</th>\n",
       "      <td>0</td>\n",
       "      <td>59</td>\n",
       "      <td>22154</td>\n",
       "      <td>999.0</td>\n",
       "      <td>1.0</td>\n",
       "      <td>37</td>\n",
       "      <td>11</td>\n",
       "      <td>1</td>\n",
       "      <td>999.0</td>\n",
       "      <td>2013</td>\n",
       "      <td>01</td>\n",
       "      <td>02</td>\n",
       "    </tr>\n",
       "    <tr>\n",
       "      <th>1</th>\n",
       "      <td>0</td>\n",
       "      <td>24</td>\n",
       "      <td>22154</td>\n",
       "      <td>999.0</td>\n",
       "      <td>1.0</td>\n",
       "      <td>37</td>\n",
       "      <td>11</td>\n",
       "      <td>1</td>\n",
       "      <td>999.0</td>\n",
       "      <td>2013</td>\n",
       "      <td>01</td>\n",
       "      <td>23</td>\n",
       "    </tr>\n",
       "    <tr>\n",
       "      <th>2</th>\n",
       "      <td>0</td>\n",
       "      <td>27</td>\n",
       "      <td>22154</td>\n",
       "      <td>999.0</td>\n",
       "      <td>1.0</td>\n",
       "      <td>37</td>\n",
       "      <td>11</td>\n",
       "      <td>1</td>\n",
       "      <td>999.0</td>\n",
       "      <td>2013</td>\n",
       "      <td>01</td>\n",
       "      <td>20</td>\n",
       "    </tr>\n",
       "    <tr>\n",
       "      <th>3</th>\n",
       "      <td>0</td>\n",
       "      <td>25</td>\n",
       "      <td>22154</td>\n",
       "      <td>999.0</td>\n",
       "      <td>1.0</td>\n",
       "      <td>37</td>\n",
       "      <td>11</td>\n",
       "      <td>1</td>\n",
       "      <td>999.0</td>\n",
       "      <td>2013</td>\n",
       "      <td>01</td>\n",
       "      <td>02</td>\n",
       "    </tr>\n",
       "    <tr>\n",
       "      <th>4</th>\n",
       "      <td>0</td>\n",
       "      <td>25</td>\n",
       "      <td>22154</td>\n",
       "      <td>999.0</td>\n",
       "      <td>1.0</td>\n",
       "      <td>37</td>\n",
       "      <td>11</td>\n",
       "      <td>1</td>\n",
       "      <td>999.0</td>\n",
       "      <td>2013</td>\n",
       "      <td>01</td>\n",
       "      <td>03</td>\n",
       "    </tr>\n",
       "    <tr>\n",
       "      <th>...</th>\n",
       "      <td>...</td>\n",
       "      <td>...</td>\n",
       "      <td>...</td>\n",
       "      <td>...</td>\n",
       "      <td>...</td>\n",
       "      <td>...</td>\n",
       "      <td>...</td>\n",
       "      <td>...</td>\n",
       "      <td>...</td>\n",
       "      <td>...</td>\n",
       "      <td>...</td>\n",
       "      <td>...</td>\n",
       "    </tr>\n",
       "    <tr>\n",
       "      <th>2935844</th>\n",
       "      <td>33</td>\n",
       "      <td>55</td>\n",
       "      <td>13093</td>\n",
       "      <td>250.0</td>\n",
       "      <td>1.0</td>\n",
       "      <td>36</td>\n",
       "      <td>9</td>\n",
       "      <td>15</td>\n",
       "      <td>250.0</td>\n",
       "      <td>2015</td>\n",
       "      <td>10</td>\n",
       "      <td>22</td>\n",
       "    </tr>\n",
       "    <tr>\n",
       "      <th>2935845</th>\n",
       "      <td>32</td>\n",
       "      <td>55</td>\n",
       "      <td>13091</td>\n",
       "      <td>1000.0</td>\n",
       "      <td>1.0</td>\n",
       "      <td>36</td>\n",
       "      <td>9</td>\n",
       "      <td>15</td>\n",
       "      <td>1000.0</td>\n",
       "      <td>2015</td>\n",
       "      <td>09</td>\n",
       "      <td>21</td>\n",
       "    </tr>\n",
       "    <tr>\n",
       "      <th>2935846</th>\n",
       "      <td>32</td>\n",
       "      <td>55</td>\n",
       "      <td>13094</td>\n",
       "      <td>2500.0</td>\n",
       "      <td>1.0</td>\n",
       "      <td>36</td>\n",
       "      <td>9</td>\n",
       "      <td>15</td>\n",
       "      <td>2500.0</td>\n",
       "      <td>2015</td>\n",
       "      <td>09</td>\n",
       "      <td>16</td>\n",
       "    </tr>\n",
       "    <tr>\n",
       "      <th>2935847</th>\n",
       "      <td>32</td>\n",
       "      <td>55</td>\n",
       "      <td>13094</td>\n",
       "      <td>2500.0</td>\n",
       "      <td>2.0</td>\n",
       "      <td>36</td>\n",
       "      <td>9</td>\n",
       "      <td>15</td>\n",
       "      <td>5000.0</td>\n",
       "      <td>2015</td>\n",
       "      <td>09</td>\n",
       "      <td>22</td>\n",
       "    </tr>\n",
       "    <tr>\n",
       "      <th>2935848</th>\n",
       "      <td>33</td>\n",
       "      <td>55</td>\n",
       "      <td>13092</td>\n",
       "      <td>2000.0</td>\n",
       "      <td>1.0</td>\n",
       "      <td>36</td>\n",
       "      <td>9</td>\n",
       "      <td>15</td>\n",
       "      <td>2000.0</td>\n",
       "      <td>2015</td>\n",
       "      <td>10</td>\n",
       "      <td>26</td>\n",
       "    </tr>\n",
       "  </tbody>\n",
       "</table>\n",
       "<p>2935849 rows × 12 columns</p>\n",
       "</div>"
      ],
      "text/plain": [
       "         date_block_num  shop_id  item_id  item_price  item_cnt_day  \\\n",
       "0                     0       59    22154       999.0           1.0   \n",
       "1                     0       24    22154       999.0           1.0   \n",
       "2                     0       27    22154       999.0           1.0   \n",
       "3                     0       25    22154       999.0           1.0   \n",
       "4                     0       25    22154       999.0           1.0   \n",
       "...                 ...      ...      ...         ...           ...   \n",
       "2935844              33       55    13093       250.0           1.0   \n",
       "2935845              32       55    13091      1000.0           1.0   \n",
       "2935846              32       55    13094      2500.0           1.0   \n",
       "2935847              32       55    13094      2500.0           2.0   \n",
       "2935848              33       55    13092      2000.0           1.0   \n",
       "\n",
       "         item_category_id  type_id  subtype_id  revenue  year month day  \n",
       "0                      37       11           1    999.0  2013    01  02  \n",
       "1                      37       11           1    999.0  2013    01  23  \n",
       "2                      37       11           1    999.0  2013    01  20  \n",
       "3                      37       11           1    999.0  2013    01  02  \n",
       "4                      37       11           1    999.0  2013    01  03  \n",
       "...                   ...      ...         ...      ...   ...   ...  ..  \n",
       "2935844                36        9          15    250.0  2015    10  22  \n",
       "2935845                36        9          15   1000.0  2015    09  21  \n",
       "2935846                36        9          15   2500.0  2015    09  16  \n",
       "2935847                36        9          15   5000.0  2015    09  22  \n",
       "2935848                36        9          15   2000.0  2015    10  26  \n",
       "\n",
       "[2935849 rows x 12 columns]"
      ]
     },
     "execution_count": 21,
     "metadata": {},
     "output_type": "execute_result"
    }
   ],
   "source": [
    "train"
   ]
  },
  {
   "cell_type": "code",
   "execution_count": 22,
   "metadata": {
    "ExecuteTime": {
     "end_time": "2021-12-06T11:20:55.014491Z",
     "start_time": "2021-12-06T11:20:50.999819Z"
    }
   },
   "outputs": [
    {
     "data": {
      "text/html": [
       "<div>\n",
       "<style scoped>\n",
       "    .dataframe tbody tr th:only-of-type {\n",
       "        vertical-align: middle;\n",
       "    }\n",
       "\n",
       "    .dataframe tbody tr th {\n",
       "        vertical-align: top;\n",
       "    }\n",
       "\n",
       "    .dataframe thead th {\n",
       "        text-align: right;\n",
       "    }\n",
       "</style>\n",
       "<table border=\"1\" class=\"dataframe\">\n",
       "  <thead>\n",
       "    <tr style=\"text-align: right;\">\n",
       "      <th></th>\n",
       "      <th>Dtype</th>\n",
       "      <th>Unique value</th>\n",
       "      <th>Null count</th>\n",
       "      <th>Null percent</th>\n",
       "    </tr>\n",
       "  </thead>\n",
       "  <tbody>\n",
       "    <tr>\n",
       "      <th>date_block_num</th>\n",
       "      <td>int64</td>\n",
       "      <td>34</td>\n",
       "      <td>0</td>\n",
       "      <td>0.0</td>\n",
       "    </tr>\n",
       "    <tr>\n",
       "      <th>shop_id</th>\n",
       "      <td>int64</td>\n",
       "      <td>60</td>\n",
       "      <td>0</td>\n",
       "      <td>0.0</td>\n",
       "    </tr>\n",
       "    <tr>\n",
       "      <th>item_id</th>\n",
       "      <td>int64</td>\n",
       "      <td>21807</td>\n",
       "      <td>0</td>\n",
       "      <td>0.0</td>\n",
       "    </tr>\n",
       "    <tr>\n",
       "      <th>item_price</th>\n",
       "      <td>float64</td>\n",
       "      <td>19993</td>\n",
       "      <td>0</td>\n",
       "      <td>0.0</td>\n",
       "    </tr>\n",
       "    <tr>\n",
       "      <th>item_cnt_day</th>\n",
       "      <td>float64</td>\n",
       "      <td>198</td>\n",
       "      <td>0</td>\n",
       "      <td>0.0</td>\n",
       "    </tr>\n",
       "    <tr>\n",
       "      <th>item_category_id</th>\n",
       "      <td>int64</td>\n",
       "      <td>84</td>\n",
       "      <td>0</td>\n",
       "      <td>0.0</td>\n",
       "    </tr>\n",
       "    <tr>\n",
       "      <th>type_id</th>\n",
       "      <td>int64</td>\n",
       "      <td>20</td>\n",
       "      <td>0</td>\n",
       "      <td>0.0</td>\n",
       "    </tr>\n",
       "    <tr>\n",
       "      <th>subtype_id</th>\n",
       "      <td>int64</td>\n",
       "      <td>65</td>\n",
       "      <td>0</td>\n",
       "      <td>0.0</td>\n",
       "    </tr>\n",
       "    <tr>\n",
       "      <th>revenue</th>\n",
       "      <td>float64</td>\n",
       "      <td>24775</td>\n",
       "      <td>0</td>\n",
       "      <td>0.0</td>\n",
       "    </tr>\n",
       "    <tr>\n",
       "      <th>year</th>\n",
       "      <td>object</td>\n",
       "      <td>3</td>\n",
       "      <td>0</td>\n",
       "      <td>0.0</td>\n",
       "    </tr>\n",
       "    <tr>\n",
       "      <th>month</th>\n",
       "      <td>object</td>\n",
       "      <td>12</td>\n",
       "      <td>0</td>\n",
       "      <td>0.0</td>\n",
       "    </tr>\n",
       "    <tr>\n",
       "      <th>day</th>\n",
       "      <td>object</td>\n",
       "      <td>31</td>\n",
       "      <td>0</td>\n",
       "      <td>0.0</td>\n",
       "    </tr>\n",
       "  </tbody>\n",
       "</table>\n",
       "</div>"
      ],
      "text/plain": [
       "                    Dtype  Unique value  Null count  Null percent\n",
       "date_block_num      int64            34           0           0.0\n",
       "shop_id             int64            60           0           0.0\n",
       "item_id             int64         21807           0           0.0\n",
       "item_price        float64         19993           0           0.0\n",
       "item_cnt_day      float64           198           0           0.0\n",
       "item_category_id    int64            84           0           0.0\n",
       "type_id             int64            20           0           0.0\n",
       "subtype_id          int64            65           0           0.0\n",
       "revenue           float64         24775           0           0.0\n",
       "year               object             3           0           0.0\n",
       "month              object            12           0           0.0\n",
       "day                object            31           0           0.0"
      ]
     },
     "execution_count": 22,
     "metadata": {},
     "output_type": "execute_result"
    }
   ],
   "source": [
    "train_summary = data_summary(train)\n",
    "train_summary"
   ]
  },
  {
   "cell_type": "code",
   "execution_count": 23,
   "metadata": {
    "ExecuteTime": {
     "end_time": "2021-12-06T11:20:55.030419Z",
     "start_time": "2021-12-06T11:20:55.019409Z"
    }
   },
   "outputs": [],
   "source": [
    "columns_cat.extend(['year', 'month', 'day'])"
   ]
  },
  {
   "cell_type": "markdown",
   "metadata": {},
   "source": [
    "# Data 분리"
   ]
  },
  {
   "cell_type": "markdown",
   "metadata": {},
   "source": [
    "## target 분리"
   ]
  },
  {
   "cell_type": "code",
   "execution_count": 24,
   "metadata": {
    "ExecuteTime": {
     "end_time": "2021-12-06T11:20:55.046500Z",
     "start_time": "2021-12-06T11:20:55.035365Z"
    }
   },
   "outputs": [],
   "source": [
    "# y = data[target]\n",
    "# X = data.drop(target, axis=1)"
   ]
  },
  {
   "cell_type": "code",
   "execution_count": 25,
   "metadata": {
    "ExecuteTime": {
     "end_time": "2021-12-06T11:20:56.394075Z",
     "start_time": "2021-12-06T11:20:55.050363Z"
    }
   },
   "outputs": [],
   "source": [
    "y_train = train[target]\n",
    "X_train = train.drop(target, axis=1)\n",
    "X_train_og = X_train.copy()"
   ]
  },
  {
   "cell_type": "code",
   "execution_count": 26,
   "metadata": {
    "ExecuteTime": {
     "end_time": "2021-12-06T11:20:56.424837Z",
     "start_time": "2021-12-06T11:20:56.399895Z"
    }
   },
   "outputs": [],
   "source": [
    "X_test = test.copy()"
   ]
  },
  {
   "cell_type": "markdown",
   "metadata": {},
   "source": [
    "## Train & test set 분리"
   ]
  },
  {
   "cell_type": "code",
   "execution_count": 27,
   "metadata": {
    "ExecuteTime": {
     "end_time": "2021-12-06T11:20:56.455705Z",
     "start_time": "2021-12-06T11:20:56.441744Z"
    }
   },
   "outputs": [],
   "source": [
    "# X_train, X_test, y_train, y_test = train_test_split(X, y, random_state=30)\n",
    "# X_train_og = X_train.copy()"
   ]
  },
  {
   "cell_type": "markdown",
   "metadata": {},
   "source": [
    "# useless column 제거"
   ]
  },
  {
   "cell_type": "code",
   "execution_count": 28,
   "metadata": {
    "ExecuteTime": {
     "end_time": "2021-12-06T11:20:57.795012Z",
     "start_time": "2021-12-06T11:20:56.466850Z"
    }
   },
   "outputs": [],
   "source": [
    "X_train.drop(columns_useless, axis=1, inplace=True)"
   ]
  },
  {
   "cell_type": "markdown",
   "metadata": {},
   "source": [
    "# 누락값 처리"
   ]
  },
  {
   "cell_type": "markdown",
   "metadata": {},
   "source": [
    "# Error 및 outlier 처리"
   ]
  },
  {
   "cell_type": "markdown",
   "metadata": {},
   "source": [
    "# 수치형 data 전처리"
   ]
  },
  {
   "cell_type": "markdown",
   "metadata": {},
   "source": [
    "## Scaling"
   ]
  },
  {
   "cell_type": "code",
   "execution_count": 29,
   "metadata": {
    "ExecuteTime": {
     "end_time": "2021-12-06T11:20:57.810968Z",
     "start_time": "2021-12-06T11:20:57.799000Z"
    }
   },
   "outputs": [],
   "source": [
    "scaler = StandardScaler()"
   ]
  },
  {
   "cell_type": "code",
   "execution_count": 30,
   "metadata": {
    "ExecuteTime": {
     "end_time": "2021-12-06T11:21:00.418464Z",
     "start_time": "2021-12-06T11:20:57.814987Z"
    }
   },
   "outputs": [],
   "source": [
    "scaler.fit(X_train[columns_sc])\n",
    "X_train[columns_sc] = scaler.transform(X_train[columns_sc])"
   ]
  },
  {
   "cell_type": "code",
   "execution_count": 31,
   "metadata": {
    "ExecuteTime": {
     "end_time": "2021-12-06T11:21:00.480987Z",
     "start_time": "2021-12-06T11:21:00.422419Z"
    }
   },
   "outputs": [
    {
     "data": {
      "text/html": [
       "<div>\n",
       "<style scoped>\n",
       "    .dataframe tbody tr th:only-of-type {\n",
       "        vertical-align: middle;\n",
       "    }\n",
       "\n",
       "    .dataframe tbody tr th {\n",
       "        vertical-align: top;\n",
       "    }\n",
       "\n",
       "    .dataframe thead th {\n",
       "        text-align: right;\n",
       "    }\n",
       "</style>\n",
       "<table border=\"1\" class=\"dataframe\">\n",
       "  <thead>\n",
       "    <tr style=\"text-align: right;\">\n",
       "      <th></th>\n",
       "      <th>date_block_num</th>\n",
       "      <th>shop_id</th>\n",
       "      <th>item_id</th>\n",
       "      <th>item_price</th>\n",
       "      <th>item_category_id</th>\n",
       "      <th>type_id</th>\n",
       "      <th>subtype_id</th>\n",
       "      <th>revenue</th>\n",
       "      <th>year</th>\n",
       "      <th>month</th>\n",
       "      <th>day</th>\n",
       "    </tr>\n",
       "  </thead>\n",
       "  <tbody>\n",
       "    <tr>\n",
       "      <th>0</th>\n",
       "      <td>0</td>\n",
       "      <td>59</td>\n",
       "      <td>22154</td>\n",
       "      <td>0.062520</td>\n",
       "      <td>37</td>\n",
       "      <td>11</td>\n",
       "      <td>1</td>\n",
       "      <td>-0.027928</td>\n",
       "      <td>2013</td>\n",
       "      <td>01</td>\n",
       "      <td>02</td>\n",
       "    </tr>\n",
       "    <tr>\n",
       "      <th>1</th>\n",
       "      <td>0</td>\n",
       "      <td>24</td>\n",
       "      <td>22154</td>\n",
       "      <td>0.062520</td>\n",
       "      <td>37</td>\n",
       "      <td>11</td>\n",
       "      <td>1</td>\n",
       "      <td>-0.027928</td>\n",
       "      <td>2013</td>\n",
       "      <td>01</td>\n",
       "      <td>23</td>\n",
       "    </tr>\n",
       "    <tr>\n",
       "      <th>2</th>\n",
       "      <td>0</td>\n",
       "      <td>27</td>\n",
       "      <td>22154</td>\n",
       "      <td>0.062520</td>\n",
       "      <td>37</td>\n",
       "      <td>11</td>\n",
       "      <td>1</td>\n",
       "      <td>-0.027928</td>\n",
       "      <td>2013</td>\n",
       "      <td>01</td>\n",
       "      <td>20</td>\n",
       "    </tr>\n",
       "    <tr>\n",
       "      <th>3</th>\n",
       "      <td>0</td>\n",
       "      <td>25</td>\n",
       "      <td>22154</td>\n",
       "      <td>0.062520</td>\n",
       "      <td>37</td>\n",
       "      <td>11</td>\n",
       "      <td>1</td>\n",
       "      <td>-0.027928</td>\n",
       "      <td>2013</td>\n",
       "      <td>01</td>\n",
       "      <td>02</td>\n",
       "    </tr>\n",
       "    <tr>\n",
       "      <th>4</th>\n",
       "      <td>0</td>\n",
       "      <td>25</td>\n",
       "      <td>22154</td>\n",
       "      <td>0.062520</td>\n",
       "      <td>37</td>\n",
       "      <td>11</td>\n",
       "      <td>1</td>\n",
       "      <td>-0.027928</td>\n",
       "      <td>2013</td>\n",
       "      <td>01</td>\n",
       "      <td>03</td>\n",
       "    </tr>\n",
       "    <tr>\n",
       "      <th>...</th>\n",
       "      <td>...</td>\n",
       "      <td>...</td>\n",
       "      <td>...</td>\n",
       "      <td>...</td>\n",
       "      <td>...</td>\n",
       "      <td>...</td>\n",
       "      <td>...</td>\n",
       "      <td>...</td>\n",
       "      <td>...</td>\n",
       "      <td>...</td>\n",
       "      <td>...</td>\n",
       "    </tr>\n",
       "    <tr>\n",
       "      <th>2935844</th>\n",
       "      <td>33</td>\n",
       "      <td>55</td>\n",
       "      <td>13093</td>\n",
       "      <td>-0.370478</td>\n",
       "      <td>36</td>\n",
       "      <td>9</td>\n",
       "      <td>15</td>\n",
       "      <td>-0.159711</td>\n",
       "      <td>2015</td>\n",
       "      <td>10</td>\n",
       "      <td>22</td>\n",
       "    </tr>\n",
       "    <tr>\n",
       "      <th>2935845</th>\n",
       "      <td>32</td>\n",
       "      <td>55</td>\n",
       "      <td>13091</td>\n",
       "      <td>0.063098</td>\n",
       "      <td>36</td>\n",
       "      <td>9</td>\n",
       "      <td>15</td>\n",
       "      <td>-0.027752</td>\n",
       "      <td>2015</td>\n",
       "      <td>09</td>\n",
       "      <td>21</td>\n",
       "    </tr>\n",
       "    <tr>\n",
       "      <th>2935846</th>\n",
       "      <td>32</td>\n",
       "      <td>55</td>\n",
       "      <td>13094</td>\n",
       "      <td>0.930251</td>\n",
       "      <td>36</td>\n",
       "      <td>9</td>\n",
       "      <td>15</td>\n",
       "      <td>0.236165</td>\n",
       "      <td>2015</td>\n",
       "      <td>09</td>\n",
       "      <td>16</td>\n",
       "    </tr>\n",
       "    <tr>\n",
       "      <th>2935847</th>\n",
       "      <td>32</td>\n",
       "      <td>55</td>\n",
       "      <td>13094</td>\n",
       "      <td>0.930251</td>\n",
       "      <td>36</td>\n",
       "      <td>9</td>\n",
       "      <td>15</td>\n",
       "      <td>0.676027</td>\n",
       "      <td>2015</td>\n",
       "      <td>09</td>\n",
       "      <td>22</td>\n",
       "    </tr>\n",
       "    <tr>\n",
       "      <th>2935848</th>\n",
       "      <td>33</td>\n",
       "      <td>55</td>\n",
       "      <td>13092</td>\n",
       "      <td>0.641200</td>\n",
       "      <td>36</td>\n",
       "      <td>9</td>\n",
       "      <td>15</td>\n",
       "      <td>0.148193</td>\n",
       "      <td>2015</td>\n",
       "      <td>10</td>\n",
       "      <td>26</td>\n",
       "    </tr>\n",
       "  </tbody>\n",
       "</table>\n",
       "<p>2935849 rows × 11 columns</p>\n",
       "</div>"
      ],
      "text/plain": [
       "         date_block_num  shop_id  item_id  item_price  item_category_id  \\\n",
       "0                     0       59    22154    0.062520                37   \n",
       "1                     0       24    22154    0.062520                37   \n",
       "2                     0       27    22154    0.062520                37   \n",
       "3                     0       25    22154    0.062520                37   \n",
       "4                     0       25    22154    0.062520                37   \n",
       "...                 ...      ...      ...         ...               ...   \n",
       "2935844              33       55    13093   -0.370478                36   \n",
       "2935845              32       55    13091    0.063098                36   \n",
       "2935846              32       55    13094    0.930251                36   \n",
       "2935847              32       55    13094    0.930251                36   \n",
       "2935848              33       55    13092    0.641200                36   \n",
       "\n",
       "         type_id  subtype_id   revenue  year month day  \n",
       "0             11           1 -0.027928  2013    01  02  \n",
       "1             11           1 -0.027928  2013    01  23  \n",
       "2             11           1 -0.027928  2013    01  20  \n",
       "3             11           1 -0.027928  2013    01  02  \n",
       "4             11           1 -0.027928  2013    01  03  \n",
       "...          ...         ...       ...   ...   ...  ..  \n",
       "2935844        9          15 -0.159711  2015    10  22  \n",
       "2935845        9          15 -0.027752  2015    09  21  \n",
       "2935846        9          15  0.236165  2015    09  16  \n",
       "2935847        9          15  0.676027  2015    09  22  \n",
       "2935848        9          15  0.148193  2015    10  26  \n",
       "\n",
       "[2935849 rows x 11 columns]"
      ]
     },
     "execution_count": 31,
     "metadata": {},
     "output_type": "execute_result"
    }
   ],
   "source": [
    "X_train"
   ]
  },
  {
   "cell_type": "markdown",
   "metadata": {},
   "source": [
    "# 범주형 data 전처리"
   ]
  },
  {
   "cell_type": "markdown",
   "metadata": {},
   "source": [
    "## binary data 처리"
   ]
  },
  {
   "cell_type": "markdown",
   "metadata": {},
   "source": [
    "## One-hot-encoding"
   ]
  },
  {
   "cell_type": "code",
   "execution_count": 32,
   "metadata": {
    "ExecuteTime": {
     "end_time": "2021-12-06T11:21:12.760067Z",
     "start_time": "2021-12-06T11:21:00.485976Z"
    }
   },
   "outputs": [],
   "source": [
    "# X_train = pd.get_dummies(X_train, columns=columns_en)\n",
    "encoder = OneHotEncoder()   # 고윳값을 많이 가진 feature가 있는 경우는 OneHotEncoder를 사용해야 함\n",
    "X_train = encoder.fit_transform(X_train)"
   ]
  },
  {
   "cell_type": "code",
   "execution_count": 33,
   "metadata": {
    "ExecuteTime": {
     "end_time": "2021-12-06T11:21:12.775800Z",
     "start_time": "2021-12-06T11:21:12.764829Z"
    }
   },
   "outputs": [
    {
     "data": {
      "text/plain": [
       "<2935849x66878 sparse matrix of type '<class 'numpy.float64'>'\n",
       "\twith 32294339 stored elements in Compressed Sparse Row format>"
      ]
     },
     "execution_count": 33,
     "metadata": {},
     "output_type": "execute_result"
    }
   ],
   "source": [
    "X_train"
   ]
  },
  {
   "cell_type": "code",
   "execution_count": 34,
   "metadata": {
    "ExecuteTime": {
     "end_time": "2021-12-06T11:21:12.791756Z",
     "start_time": "2021-12-06T11:21:12.781783Z"
    }
   },
   "outputs": [
    {
     "data": {
      "text/plain": [
       "(2935849, 66878)"
      ]
     },
     "execution_count": 34,
     "metadata": {},
     "output_type": "execute_result"
    }
   ],
   "source": [
    "X_train.shape"
   ]
  },
  {
   "cell_type": "markdown",
   "metadata": {},
   "source": [
    "# Data preprocessing 함수\n",
    "- 함수는 dump 안 됨"
   ]
  },
  {
   "cell_type": "code",
   "execution_count": 35,
   "metadata": {
    "ExecuteTime": {
     "end_time": "2021-12-06T11:21:12.838631Z",
     "start_time": "2021-12-06T11:21:12.797531Z"
    }
   },
   "outputs": [],
   "source": [
    "def preprocessing(data, X_data_og, columns_useless, columns_sc, columns_binary_cat, columns_en) :\n",
    "    \n",
    "    # datetime 변환\n",
    "    data['year'] = data['date'].apply(lambda x : x.split('.')[2])\n",
    "    data['month'] = data['date'].apply(lambda x : x.split('.')[1])\n",
    "    data['day'] = data['date'].apply(lambda x : x.split('.')[0])\n",
    "    \n",
    "    data['year'] = data['year'].astype('str')\n",
    "    data['month'] = data['month'].astype('str')\n",
    "    data['day'] = data['day'].astype('str')\n",
    "    \n",
    "    data.drop('date', axis=1, inplace=True)\n",
    "    \n",
    "    columns_cat.extend(['year', 'month', 'day'])\n",
    "    \n",
    "    # useless column 제거\n",
    "    data.drop(columns_useless, axis=1, inplace=True)\n",
    "    \n",
    "    # scaling\n",
    "    scaler = StandardScaler()\n",
    "    scaler.fit(X_data_og[columns_sc])\n",
    "    data[columns_sc] = scaler.transform(data[columns_sc])\n",
    "   \n",
    "    # One-hot-encoding\n",
    "#     data = pd.get_dummies(data, columns=columns_en)\n",
    "    encoder = OneHotEncoder()   # 고윳값을 많이 가진 feature가 있는 경우는 OneHotEncoder를 사용해야 함\n",
    "    data = encoder.fit_transform(data)\n",
    "    \n",
    "    return data"
   ]
  }
 ],
 "metadata": {
  "hide_input": false,
  "kernelspec": {
   "display_name": "Python 3",
   "language": "python",
   "name": "python3"
  },
  "language_info": {
   "codemirror_mode": {
    "name": "ipython",
    "version": 3
   },
   "file_extension": ".py",
   "mimetype": "text/x-python",
   "name": "python",
   "nbconvert_exporter": "python",
   "pygments_lexer": "ipython3",
   "version": "3.7.1"
  },
  "toc": {
   "base_numbering": 1,
   "nav_menu": {},
   "number_sections": true,
   "sideBar": true,
   "skip_h1_title": false,
   "title_cell": "Table of Contents",
   "title_sidebar": "Contents",
   "toc_cell": false,
   "toc_position": {
    "height": "calc(100% - 180px)",
    "left": "10px",
    "top": "150px",
    "width": "303.825px"
   },
   "toc_section_display": true,
   "toc_window_display": true
  },
  "varInspector": {
   "cols": {
    "lenName": 16,
    "lenType": 16,
    "lenVar": 40
   },
   "kernels_config": {
    "python": {
     "delete_cmd_postfix": "",
     "delete_cmd_prefix": "del ",
     "library": "var_list.py",
     "varRefreshCmd": "print(var_dic_list())"
    },
    "r": {
     "delete_cmd_postfix": ") ",
     "delete_cmd_prefix": "rm(",
     "library": "var_list.r",
     "varRefreshCmd": "cat(var_dic_list()) "
    }
   },
   "types_to_exclude": [
    "module",
    "function",
    "builtin_function_or_method",
    "instance",
    "_Feature"
   ],
   "window_display": false
  }
 },
 "nbformat": 4,
 "nbformat_minor": 4
}

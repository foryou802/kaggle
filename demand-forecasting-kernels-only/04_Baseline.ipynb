{
 "cells": [
  {
   "cell_type": "code",
   "execution_count": 1,
   "metadata": {
    "ExecuteTime": {
     "end_time": "2022-07-05T09:32:54.745021Z",
     "start_time": "2022-07-05T09:32:49.773857Z"
    }
   },
   "outputs": [],
   "source": [
    "import numpy as np\n",
    "from scipy import stats\n",
    "import pandas as pd\n",
    "import matplotlib.pyplot as plt\n",
    "import seaborn as sns\n",
    "\n",
    "# sns.set()\n",
    "\n",
    "import os\n",
    "\n",
    "import warnings\n",
    "warnings.filterwarnings('ignore')"
   ]
  },
  {
   "cell_type": "code",
   "execution_count": 2,
   "metadata": {
    "ExecuteTime": {
     "end_time": "2022-07-05T09:32:59.639528Z",
     "start_time": "2022-07-05T09:32:54.750716Z"
    }
   },
   "outputs": [],
   "source": [
    "import joblib\n",
    "from sklearn.base import BaseEstimator, TransformerMixin\n",
    "from sklearn.impute import SimpleImputer\n",
    "from sklearn.preprocessing import StandardScaler, MinMaxScaler\n",
    "from sklearn.preprocessing import OneHotEncoder\n",
    "from sklearn.compose import ColumnTransformer, make_column_transformer\n",
    "from sklearn.pipeline import Pipeline, make_pipeline\n",
    "from sklearn.feature_selection import SelectPercentile, f_classif, f_regression, SelectFromModel, RFE\n",
    "from sklearn.model_selection import train_test_split\n",
    "from sklearn.model_selection import cross_val_score, cross_validate\n",
    "from sklearn.metrics import mean_squared_error\n",
    "from sklearn.model_selection import GridSearchCV, RandomizedSearchCV"
   ]
  },
  {
   "cell_type": "code",
   "execution_count": 3,
   "metadata": {
    "ExecuteTime": {
     "end_time": "2022-07-05T09:32:59.824868Z",
     "start_time": "2022-07-05T09:32:59.645512Z"
    }
   },
   "outputs": [],
   "source": [
    "from sklearn.neighbors import KNeighborsRegressor\n",
    "from sklearn.linear_model import LinearRegression\n",
    "from sklearn.linear_model import Ridge\n",
    "from sklearn.linear_model import Lasso\n",
    "from sklearn.linear_model import ElasticNet\n",
    "from sklearn.linear_model import SGDRegressor\n",
    "from sklearn.svm import SVR\n",
    "from sklearn.tree import DecisionTreeRegressor\n",
    "from sklearn.ensemble import RandomForestRegressor\n",
    "from sklearn.ensemble import ExtraTreesRegressor\n",
    "from sklearn.ensemble import GradientBoostingRegressor\n",
    "from xgboost import XGBRegressor\n",
    "# from lightgbm import LGBMRegressor\n",
    "from sklearn.ensemble import AdaBoostRegressor\n",
    "from sklearn.neural_network import MLPRegressor"
   ]
  },
  {
   "cell_type": "code",
   "execution_count": 4,
   "metadata": {
    "ExecuteTime": {
     "end_time": "2022-07-05T09:33:08.260524Z",
     "start_time": "2022-07-05T09:32:59.829799Z"
    }
   },
   "outputs": [],
   "source": [
    "import tensorflow as tf\n",
    "from tensorflow import keras\n",
    "from tensorflow.keras.models import Sequential, Model\n",
    "from tensorflow.keras.layers import Flatten, Dense, Input, concatenate, Embedding, Dot\n",
    "from tensorflow.keras.layers import Activation, ReLU, LeakyReLU, PReLU\n",
    "from tensorflow.keras.layers import BatchNormalization, Dropout, AlphaDropout\n",
    "from tensorflow.keras.callbacks import EarlyStopping, ModelCheckpoint\n",
    "from tensorflow.keras.utils import plot_model\n",
    "\n",
    "from functools import partial"
   ]
  },
  {
   "cell_type": "code",
   "execution_count": 5,
   "metadata": {
    "ExecuteTime": {
     "end_time": "2022-07-05T09:33:08.292444Z",
     "start_time": "2022-07-05T09:33:08.265517Z"
    }
   },
   "outputs": [
    {
     "data": {
      "text/plain": [
       "make_scorer(smape)"
      ]
     },
     "execution_count": 5,
     "metadata": {},
     "output_type": "execute_result"
    }
   ],
   "source": [
    "from sklearn.metrics import make_scorer\n",
    "\n",
    "def smape(predicted_values, actual_values):\n",
    "    predicted_values = np.array(predicted_values)\n",
    "    actual_values = np.array(actual_values)\n",
    "    \n",
    "    epsilon = 0.001\n",
    "    default = 0.5\n",
    "    \n",
    "    numerator = np.abs(actual_values - predicted_values)\n",
    "    denominator = np.maximum(np.abs(actual_values) + np.abs(predicted_values) + epsilon, default)\n",
    "    \n",
    "    abs_percent = numerator / denominator\n",
    "\n",
    "    sym_mean_abs_percent = - abs_percent.mean() * 100\n",
    "    \n",
    "    return sym_mean_abs_percent\n",
    "\n",
    "smape_scorer = make_scorer(smape)\n",
    "smape_scorer"
   ]
  },
  {
   "cell_type": "markdown",
   "metadata": {
    "heading_collapsed": true
   },
   "source": [
    "# Data load"
   ]
  },
  {
   "cell_type": "code",
   "execution_count": 6,
   "metadata": {
    "ExecuteTime": {
     "end_time": "2022-07-05T09:33:09.966754Z",
     "start_time": "2022-07-05T09:33:08.296459Z"
    },
    "hidden": true
   },
   "outputs": [],
   "source": [
    "# train = pd.read_csv('train.csv')\n",
    "# test = pd.read_csv('test.csv')\n",
    "\n",
    "train = pd.read_csv('train.csv', parse_dates=['date'])\n",
    "test = pd.read_csv('test.csv', parse_dates=['date'])"
   ]
  },
  {
   "cell_type": "markdown",
   "metadata": {},
   "source": [
    "# Column 설정"
   ]
  },
  {
   "cell_type": "code",
   "execution_count": 7,
   "metadata": {
    "ExecuteTime": {
     "end_time": "2022-07-05T09:33:09.982812Z",
     "start_time": "2022-07-05T09:33:09.970750Z"
    }
   },
   "outputs": [],
   "source": [
    "target = 'sales'"
   ]
  },
  {
   "cell_type": "code",
   "execution_count": 8,
   "metadata": {
    "ExecuteTime": {
     "end_time": "2022-07-05T09:33:09.998763Z",
     "start_time": "2022-07-05T09:33:09.990695Z"
    }
   },
   "outputs": [],
   "source": [
    "columns_useless = ['id']"
   ]
  },
  {
   "cell_type": "code",
   "execution_count": 9,
   "metadata": {
    "ExecuteTime": {
     "end_time": "2022-07-05T09:33:10.028638Z",
     "start_time": "2022-07-05T09:33:10.005690Z"
    }
   },
   "outputs": [],
   "source": [
    "columns_num_all = joblib.load('columns_num.pkl')\n",
    "columns_cat_all = joblib.load('columns_cat.pkl')\n",
    "columns_binary_num = joblib.load('columns_binary_num.pkl')\n",
    "columns_binary_cat = joblib.load('columns_binary_cat.pkl')\n",
    "columns_dt = joblib.load('columns_dt.pkl')"
   ]
  },
  {
   "cell_type": "code",
   "execution_count": 10,
   "metadata": {
    "ExecuteTime": {
     "end_time": "2022-07-05T09:33:10.044014Z",
     "start_time": "2022-07-05T09:33:10.033126Z"
    }
   },
   "outputs": [],
   "source": [
    "try :\n",
    "    columns_num_all.remove(target)\n",
    "    \n",
    "except :\n",
    "    pass"
   ]
  },
  {
   "cell_type": "code",
   "execution_count": 11,
   "metadata": {
    "ExecuteTime": {
     "end_time": "2022-07-05T09:33:10.059553Z",
     "start_time": "2022-07-05T09:33:10.048857Z"
    }
   },
   "outputs": [],
   "source": [
    "try :\n",
    "    columns_cat_all.remove(target)\n",
    "    \n",
    "except :\n",
    "    pass"
   ]
  },
  {
   "cell_type": "code",
   "execution_count": 12,
   "metadata": {
    "ExecuteTime": {
     "end_time": "2022-07-05T09:33:10.090621Z",
     "start_time": "2022-07-05T09:33:10.064544Z"
    }
   },
   "outputs": [
    {
     "data": {
      "text/plain": [
       "[]"
      ]
     },
     "execution_count": 12,
     "metadata": {},
     "output_type": "execute_result"
    }
   ],
   "source": [
    "columns_num = []\n",
    "\n",
    "for column in columns_num_all :\n",
    "    \n",
    "    if column not in columns_useless :\n",
    "        columns_num.append(column)\n",
    "        \n",
    "columns_num"
   ]
  },
  {
   "cell_type": "code",
   "execution_count": 13,
   "metadata": {
    "ExecuteTime": {
     "end_time": "2022-07-05T09:33:10.106552Z",
     "start_time": "2022-07-05T09:33:10.095458Z"
    }
   },
   "outputs": [
    {
     "data": {
      "text/plain": [
       "['store', 'item']"
      ]
     },
     "execution_count": 13,
     "metadata": {},
     "output_type": "execute_result"
    }
   ],
   "source": [
    "columns_cat = []\n",
    "\n",
    "for column in columns_cat_all :\n",
    "    \n",
    "    if column not in columns_useless :\n",
    "        columns_cat.append(column)\n",
    "        \n",
    "columns_cat"
   ]
  },
  {
   "cell_type": "code",
   "execution_count": 14,
   "metadata": {
    "ExecuteTime": {
     "end_time": "2022-07-05T09:33:10.137485Z",
     "start_time": "2022-07-05T09:33:10.111414Z"
    }
   },
   "outputs": [
    {
     "data": {
      "text/plain": [
       "[]"
      ]
     },
     "execution_count": 14,
     "metadata": {},
     "output_type": "execute_result"
    }
   ],
   "source": [
    "columns_sc = []\n",
    "\n",
    "for column in columns_num :\n",
    "    \n",
    "    if column not in columns_binary_num:\n",
    "        columns_sc.append(column)\n",
    "        \n",
    "columns_sc"
   ]
  },
  {
   "cell_type": "code",
   "execution_count": 15,
   "metadata": {
    "ExecuteTime": {
     "end_time": "2022-07-05T09:33:10.153335Z",
     "start_time": "2022-07-05T09:33:10.142331Z"
    }
   },
   "outputs": [],
   "source": [
    "# columns_sc.remove('date_block_num')"
   ]
  },
  {
   "cell_type": "code",
   "execution_count": 16,
   "metadata": {
    "ExecuteTime": {
     "end_time": "2022-07-05T09:33:10.184229Z",
     "start_time": "2022-07-05T09:33:10.158289Z"
    }
   },
   "outputs": [
    {
     "data": {
      "text/plain": [
       "['store', 'item']"
      ]
     },
     "execution_count": 16,
     "metadata": {},
     "output_type": "execute_result"
    }
   ],
   "source": [
    "columns_en = []\n",
    "\n",
    "for column in columns_cat :\n",
    "    \n",
    "    if (column not in columns_binary_num) and (column not in columns_binary_cat):\n",
    "        columns_en.append(column)\n",
    "        \n",
    "columns_en"
   ]
  },
  {
   "cell_type": "markdown",
   "metadata": {},
   "source": [
    "# Target 분리"
   ]
  },
  {
   "cell_type": "code",
   "execution_count": 17,
   "metadata": {
    "ExecuteTime": {
     "end_time": "2022-07-05T09:33:10.229356Z",
     "start_time": "2022-07-05T09:33:10.189208Z"
    }
   },
   "outputs": [],
   "source": [
    "y_train = train[target]\n",
    "X_train = train.drop(target, axis=1)\n",
    "X_train_og = X_train.copy()"
   ]
  },
  {
   "cell_type": "code",
   "execution_count": 18,
   "metadata": {
    "ExecuteTime": {
     "end_time": "2022-07-05T09:33:10.245095Z",
     "start_time": "2022-07-05T09:33:10.233093Z"
    }
   },
   "outputs": [],
   "source": [
    "X_test = test.copy()"
   ]
  },
  {
   "cell_type": "markdown",
   "metadata": {},
   "source": [
    "# 전체 dataset concat"
   ]
  },
  {
   "cell_type": "code",
   "execution_count": 19,
   "metadata": {
    "ExecuteTime": {
     "end_time": "2022-07-05T09:33:10.293037Z",
     "start_time": "2022-07-05T09:33:10.249051Z"
    }
   },
   "outputs": [],
   "source": [
    "all_data = pd.concat([X_train, X_test])"
   ]
  },
  {
   "cell_type": "markdown",
   "metadata": {},
   "source": [
    "# Data preprocessing"
   ]
  },
  {
   "cell_type": "code",
   "execution_count": 20,
   "metadata": {
    "ExecuteTime": {
     "end_time": "2022-07-05T09:33:10.308886Z",
     "start_time": "2022-07-05T09:33:10.296922Z"
    }
   },
   "outputs": [],
   "source": [
    "def date_features(data, column):\n",
    "    data['year'] = data[column].dt.year\n",
    "    data['quarter'] = data[column].dt.quarter\n",
    "    data['month'] = data[column].dt.month   # Data preprocessing 때 string으로 변환해야함\n",
    "    data['day'] = data[column].dt.day\n",
    "    data['day_of_week'] = data[column].dt.dayofweek   # Monday = 0, Sunday = 6\n",
    "    data['is_weekend'] = data[column].dt.weekday // 5\n",
    "    \n",
    "    data.drop(column, axis=1, inplace=True)\n",
    "    \n",
    "    date_columns = data.columns[-6:].to_list()\n",
    "    other_columns = data.columns[:-6].to_list()\n",
    "    columns = date_columns + other_columns\n",
    "    \n",
    "    data = data[columns]\n",
    "    \n",
    "    return data"
   ]
  },
  {
   "cell_type": "code",
   "execution_count": 21,
   "metadata": {
    "ExecuteTime": {
     "end_time": "2022-07-05T09:33:10.324940Z",
     "start_time": "2022-07-05T09:33:10.313874Z"
    }
   },
   "outputs": [],
   "source": [
    "def preprocessing(data, X_data_og, columns_useless, columns_sc, columns_binary_cat, columns_en) :\n",
    "    \n",
    "    # datetime 변환\n",
    "    data = date_features(data, 'date')\n",
    "    \n",
    "    columns_num.extend(['year'])\n",
    "    columns_en.extend(['quarter', 'month', 'day', 'day_of_week', 'is_weekend'])\n",
    "    \n",
    "    # useless column 제거\n",
    "    try :\n",
    "        data.drop(columns_useless, axis=1, inplace=True)\n",
    "\n",
    "    except :\n",
    "        pass\n",
    "    \n",
    "    # scaling\n",
    "#     scaler = StandardScaler()\n",
    "#     scaler.fit(X_data_og[columns_sc])\n",
    "#     data[columns_sc] = scaler.transform(data[columns_sc])\n",
    "   \n",
    "    # One-hot-encoding\n",
    "    data = pd.get_dummies(data, columns=columns_en)\n",
    "#     encoder = OneHotEncoder()   # 고윳값을 많이 가진 feature가 있는 경우는 OneHotEncoder를 사용해야 함\n",
    "#     data = encoder.fit_transform(data)\n",
    "    \n",
    "    return data"
   ]
  },
  {
   "cell_type": "code",
   "execution_count": 22,
   "metadata": {
    "ExecuteTime": {
     "end_time": "2022-07-05T09:33:12.756481Z",
     "start_time": "2022-07-05T09:33:10.329848Z"
    }
   },
   "outputs": [],
   "source": [
    "all_data = preprocessing(all_data, X_train_og, columns_useless, columns_sc, columns_binary_cat, columns_en)"
   ]
  },
  {
   "cell_type": "markdown",
   "metadata": {},
   "source": [
    "# Train & test set 분리"
   ]
  },
  {
   "cell_type": "code",
   "execution_count": 23,
   "metadata": {
    "ExecuteTime": {
     "end_time": "2022-07-05T09:33:12.788649Z",
     "start_time": "2022-07-05T09:33:12.769492Z"
    }
   },
   "outputs": [],
   "source": [
    "X_train = all_data[:len(train)]\n",
    "X_test = all_data[len(train):]"
   ]
  },
  {
   "cell_type": "markdown",
   "metadata": {},
   "source": [
    "# Sampling\n",
    "- dataset이 너무 크기 때문에 sampling 진행"
   ]
  },
  {
   "cell_type": "code",
   "execution_count": 24,
   "metadata": {
    "ExecuteTime": {
     "end_time": "2022-07-05T09:33:12.803358Z",
     "start_time": "2022-07-05T09:33:12.797373Z"
    }
   },
   "outputs": [],
   "source": [
    "# train_sp = train.sample(frac=0.01, random_state=30)"
   ]
  },
  {
   "cell_type": "code",
   "execution_count": 25,
   "metadata": {
    "ExecuteTime": {
     "end_time": "2022-07-05T09:33:14.336726Z",
     "start_time": "2022-07-05T09:33:12.807347Z"
    }
   },
   "outputs": [],
   "source": [
    "X_train, X_left, y_train, y_letf = train_test_split(X_train, y_train, train_size=0.1, random_state=30)"
   ]
  },
  {
   "cell_type": "markdown",
   "metadata": {},
   "source": [
    "# Validation set 분리\n",
    "- Train dataset이 너무 커서 cross validation에 너무 오랜 시간이 걸리는 경우\n",
    "- OneHotEncoder를 사용하면 sparse matrix를 return하기 때문에 neural network에서 validation_split를 사용할 수 없는 경우"
   ]
  },
  {
   "cell_type": "code",
   "execution_count": 26,
   "metadata": {
    "ExecuteTime": {
     "end_time": "2022-07-05T09:33:14.495967Z",
     "start_time": "2022-07-05T09:33:14.340873Z"
    }
   },
   "outputs": [],
   "source": [
    "X_train, X_val, y_train, y_val = train_test_split(X_train, y_train, random_state=30)"
   ]
  },
  {
   "cell_type": "code",
   "execution_count": 27,
   "metadata": {
    "ExecuteTime": {
     "end_time": "2022-07-05T09:33:14.511289Z",
     "start_time": "2022-07-05T09:33:14.500182Z"
    }
   },
   "outputs": [
    {
     "data": {
      "text/plain": [
       "((68475, 117), (68475,))"
      ]
     },
     "execution_count": 27,
     "metadata": {},
     "output_type": "execute_result"
    }
   ],
   "source": [
    "X_train.shape, y_train.shape"
   ]
  },
  {
   "cell_type": "code",
   "execution_count": 28,
   "metadata": {
    "ExecuteTime": {
     "end_time": "2022-07-05T09:33:14.527244Z",
     "start_time": "2022-07-05T09:33:14.515280Z"
    }
   },
   "outputs": [
    {
     "data": {
      "text/plain": [
       "((22825, 117), (22825,))"
      ]
     },
     "execution_count": 28,
     "metadata": {},
     "output_type": "execute_result"
    }
   ],
   "source": [
    "X_val.shape, y_val.shape"
   ]
  },
  {
   "cell_type": "markdown",
   "metadata": {},
   "source": [
    "# ML model cross validation"
   ]
  },
  {
   "cell_type": "code",
   "execution_count": 29,
   "metadata": {
    "ExecuteTime": {
     "end_time": "2022-07-05T09:33:14.558167Z",
     "start_time": "2022-07-05T09:33:14.532408Z"
    }
   },
   "outputs": [],
   "source": [
    "knn = KNeighborsRegressor(n_neighbors=5)\n",
    "linear = LinearRegression()\n",
    "ridge = Ridge(alpha=1, random_state=30)\n",
    "lasso = Lasso(alpha=1, random_state=30)\n",
    "elastic = ElasticNet(alpha=1, l1_ratio=0.5, random_state=30)\n",
    "sgd = SGDRegressor(max_iter=1000, eta0=0.01, penalty='l2', random_state=30)\n",
    "svm = SVR(kernel='rbf', C=1.0, gamma='scale')\n",
    "dt = DecisionTreeRegressor(max_depth=None, random_state=30)\n",
    "rf = RandomForestRegressor(n_estimators=100, max_depth=None, n_jobs=-1, random_state=30)\n",
    "et = ExtraTreesRegressor(n_estimators=100, max_depth=None, n_jobs=-1, random_state=30)\n",
    "gb = GradientBoostingRegressor(learning_rate=0.1, n_estimators=1000, max_depth=3, random_state=30)\n",
    "xgb = XGBRegressor(learning_rate=0.1, n_estimators=100, max_depth=3, n_jobs=-1, random_state=30)\n",
    "# lgb = LGBMRegressor(random_state=30)\n",
    "adb = AdaBoostRegressor(random_state=30)\n",
    "mlp = MLPRegressor(hidden_layer_sizes=(100,), activation='relu', solver='adam', alpha=0.0001, max_iter=200,\n",
    "                    learning_rate='constant', learning_rate_init=0.001, random_state=30)"
   ]
  },
  {
   "cell_type": "code",
   "execution_count": 30,
   "metadata": {
    "ExecuteTime": {
     "end_time": "2022-07-05T09:33:14.573124Z",
     "start_time": "2022-07-05T09:33:14.565146Z"
    }
   },
   "outputs": [],
   "source": [
    "models = {\n",
    "#     'knn' : knn,\n",
    "#     'linear' : linear,\n",
    "#     'ridge' : ridge,\n",
    "#     'lasso' : lasso,\n",
    "#     'elastic' : elastic,\n",
    "#     'sgd' : sgd,\n",
    "#     'svm' : svm,\n",
    "#     'dt' : dt,\n",
    "#     'rf' : rf,\n",
    "#     'et' : et,\n",
    "    'gb' : gb,\n",
    "#     'xgb' : xgb,\n",
    "# #     'lgb' : lgb,\n",
    "#     'adb' : adb,\n",
    "#     'mlp' : mlp\n",
    "}"
   ]
  },
  {
   "cell_type": "code",
   "execution_count": 31,
   "metadata": {
    "ExecuteTime": {
     "end_time": "2022-07-05T09:40:33.005285Z",
     "start_time": "2022-07-05T09:33:14.580144Z"
    },
    "scrolled": false
   },
   "outputs": [
    {
     "name": "stdout",
     "output_type": "stream",
     "text": [
      "gb\n"
     ]
    }
   ],
   "source": [
    "result = []\n",
    "\n",
    "for key, model in models.items() : \n",
    "    score = cross_validate(model, X_train, y_train, cv=5, scoring=smape_scorer, return_train_score=True, n_jobs=-1)  \n",
    "    score = pd.DataFrame(score).mean()\n",
    "    score = - score\n",
    "    \n",
    "    result.append(score)\n",
    "    \n",
    "    print(key)"
   ]
  },
  {
   "cell_type": "code",
   "execution_count": 32,
   "metadata": {
    "ExecuteTime": {
     "end_time": "2022-07-05T09:40:33.082001Z",
     "start_time": "2022-07-05T09:40:33.012277Z"
    }
   },
   "outputs": [
    {
     "data": {
      "text/html": [
       "<div>\n",
       "<style scoped>\n",
       "    .dataframe tbody tr th:only-of-type {\n",
       "        vertical-align: middle;\n",
       "    }\n",
       "\n",
       "    .dataframe tbody tr th {\n",
       "        vertical-align: top;\n",
       "    }\n",
       "\n",
       "    .dataframe thead th {\n",
       "        text-align: right;\n",
       "    }\n",
       "</style>\n",
       "<table border=\"1\" class=\"dataframe\">\n",
       "  <thead>\n",
       "    <tr style=\"text-align: right;\">\n",
       "      <th></th>\n",
       "      <th>test_score</th>\n",
       "      <th>train_score</th>\n",
       "      <th>fit_time</th>\n",
       "      <th>score_time</th>\n",
       "    </tr>\n",
       "  </thead>\n",
       "  <tbody>\n",
       "    <tr>\n",
       "      <th>gb</th>\n",
       "      <td>8.803</td>\n",
       "      <td>8.542</td>\n",
       "      <td>-423.112</td>\n",
       "      <td>-1.327</td>\n",
       "    </tr>\n",
       "  </tbody>\n",
       "</table>\n",
       "</div>"
      ],
      "text/plain": [
       "    test_score  train_score  fit_time  score_time\n",
       "gb       8.803        8.542  -423.112      -1.327"
      ]
     },
     "execution_count": 32,
     "metadata": {},
     "output_type": "execute_result"
    }
   ],
   "source": [
    "result = pd.concat(result, axis=1)\n",
    "result.columns = models.keys()\n",
    "result = result.T\n",
    "result = result[['test_score', 'train_score', 'fit_time', 'score_time']]\n",
    "result = round(result, 3)\n",
    "result"
   ]
  },
  {
   "cell_type": "code",
   "execution_count": 33,
   "metadata": {
    "ExecuteTime": {
     "end_time": "2022-07-05T09:40:33.127834Z",
     "start_time": "2022-07-05T09:40:33.089941Z"
    }
   },
   "outputs": [],
   "source": [
    "result.to_csv('result.csv')"
   ]
  },
  {
   "cell_type": "code",
   "execution_count": null,
   "metadata": {
    "ExecuteTime": {
     "start_time": "2022-07-05T09:32:49.941Z"
    },
    "scrolled": true
   },
   "outputs": [],
   "source": [
    "for key, model in models.items() :\n",
    "    model.fit(X_train, y_train)\n",
    "    print(key, ':', round(model.score(X_val, y_val), 3))"
   ]
  },
  {
   "cell_type": "markdown",
   "metadata": {},
   "source": [
    "- knn : 0.415\n",
    "- linear : 0.867\n",
    "- ridge : 0.867\n",
    "- lasso : 0.178\n",
    "- elastic : 0.125\n",
    "- sgd : -7.121322175320087e+25\n",
    "- dt : 0.831\n",
    "- rf : 0.906\n",
    "- et : 0.873"
   ]
  },
  {
   "cell_type": "markdown",
   "metadata": {},
   "source": [
    "- 회귀에서 score는 R2 score를 반환"
   ]
  },
  {
   "cell_type": "code",
   "execution_count": null,
   "metadata": {
    "ExecuteTime": {
     "start_time": "2022-07-05T09:32:49.947Z"
    }
   },
   "outputs": [],
   "source": [
    "raise"
   ]
  },
  {
   "cell_type": "markdown",
   "metadata": {},
   "source": [
    "# Nerual network"
   ]
  },
  {
   "cell_type": "code",
   "execution_count": null,
   "metadata": {
    "ExecuteTime": {
     "start_time": "2022-07-05T09:32:49.955Z"
    }
   },
   "outputs": [],
   "source": [
    "def plot_result(history) :\n",
    "    plt.plot(history.history['loss'], 'b--', label='loss')\n",
    "    plt.plot(history.history['val_loss'], 'r-', label='val_loss')\n",
    "    plt.xlabel('Epoch')\n",
    "    plt.grid(True)\n",
    "    plt.legend()"
   ]
  },
  {
   "cell_type": "code",
   "execution_count": null,
   "metadata": {
    "ExecuteTime": {
     "start_time": "2022-07-05T09:32:49.961Z"
    }
   },
   "outputs": [],
   "source": [
    "np.random.seed(30)\n",
    "tf.random.set_seed(30)"
   ]
  },
  {
   "cell_type": "code",
   "execution_count": null,
   "metadata": {
    "ExecuteTime": {
     "start_time": "2022-07-05T09:32:49.965Z"
    }
   },
   "outputs": [],
   "source": [
    "model = Sequential()\n",
    "model.add(Dense(100, activation='selu', kernel_initializer='lecun_normal', input_shape=(X_train.shape[1],)))\n",
    "\n",
    "for layer in range(5):\n",
    "    model.add(Dense(100, activation='selu', kernel_initializer='lecun_normal'))\n",
    "    \n",
    "model.add(Dense(2, activation='softmax'))\n",
    "\n",
    "model.summary()"
   ]
  },
  {
   "cell_type": "code",
   "execution_count": null,
   "metadata": {
    "ExecuteTime": {
     "start_time": "2022-07-05T09:32:49.971Z"
    }
   },
   "outputs": [],
   "source": [
    "type(X_train)"
   ]
  },
  {
   "cell_type": "code",
   "execution_count": null,
   "metadata": {
    "ExecuteTime": {
     "start_time": "2022-07-05T09:32:49.977Z"
    }
   },
   "outputs": [],
   "source": [
    "# Keras can't work with csr_matrix. Convert to a numpy array.\n",
    "X_train = X_train.toarray()\n",
    "X_val = X_val.toarray()"
   ]
  },
  {
   "cell_type": "code",
   "execution_count": null,
   "metadata": {
    "ExecuteTime": {
     "start_time": "2022-07-05T09:32:49.981Z"
    }
   },
   "outputs": [],
   "source": [
    "optimizer = keras.optimizers.Adam(lr=0.001, beta_1=0.9, beta_2=0.999)"
   ]
  },
  {
   "cell_type": "code",
   "execution_count": null,
   "metadata": {
    "ExecuteTime": {
     "start_time": "2022-07-05T09:32:49.986Z"
    }
   },
   "outputs": [],
   "source": [
    "model.compile(loss='mape', optimizer=optimizer)"
   ]
  },
  {
   "cell_type": "code",
   "execution_count": null,
   "metadata": {
    "ExecuteTime": {
     "start_time": "2022-07-05T09:32:49.990Z"
    }
   },
   "outputs": [],
   "source": [
    "early_stopping_cb = keras.callbacks.EarlyStopping(patience=20, restore_best_weights=True)"
   ]
  },
  {
   "cell_type": "code",
   "execution_count": null,
   "metadata": {
    "ExecuteTime": {
     "start_time": "2022-07-05T09:32:49.994Z"
    },
    "scrolled": false
   },
   "outputs": [],
   "source": [
    "history = model.fit(X_train, y_train, epochs=100, validation_data=(X_val, y_val), callbacks=early_stopping_cb)"
   ]
  },
  {
   "cell_type": "code",
   "execution_count": null,
   "metadata": {
    "ExecuteTime": {
     "start_time": "2022-07-05T09:32:49.999Z"
    }
   },
   "outputs": [],
   "source": [
    "plot_result(history)"
   ]
  }
 ],
 "metadata": {
  "hide_input": false,
  "kernelspec": {
   "display_name": "Python 3",
   "language": "python",
   "name": "python3"
  },
  "language_info": {
   "codemirror_mode": {
    "name": "ipython",
    "version": 3
   },
   "file_extension": ".py",
   "mimetype": "text/x-python",
   "name": "python",
   "nbconvert_exporter": "python",
   "pygments_lexer": "ipython3",
   "version": "3.7.1"
  },
  "toc": {
   "base_numbering": 1,
   "nav_menu": {},
   "number_sections": true,
   "sideBar": true,
   "skip_h1_title": false,
   "title_cell": "Table of Contents",
   "title_sidebar": "Contents",
   "toc_cell": false,
   "toc_position": {
    "height": "573.6px",
    "left": "42px",
    "top": "111.125px",
    "width": "243.825px"
   },
   "toc_section_display": true,
   "toc_window_display": true
  },
  "varInspector": {
   "cols": {
    "lenName": 16,
    "lenType": 16,
    "lenVar": 40
   },
   "kernels_config": {
    "python": {
     "delete_cmd_postfix": "",
     "delete_cmd_prefix": "del ",
     "library": "var_list.py",
     "varRefreshCmd": "print(var_dic_list())"
    },
    "r": {
     "delete_cmd_postfix": ") ",
     "delete_cmd_prefix": "rm(",
     "library": "var_list.r",
     "varRefreshCmd": "cat(var_dic_list()) "
    }
   },
   "types_to_exclude": [
    "module",
    "function",
    "builtin_function_or_method",
    "instance",
    "_Feature"
   ],
   "window_display": false
  }
 },
 "nbformat": 4,
 "nbformat_minor": 4
}

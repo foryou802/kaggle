{
 "cells": [
  {
   "cell_type": "code",
   "execution_count": 1,
   "metadata": {
    "ExecuteTime": {
     "end_time": "2022-07-06T12:03:12.127178Z",
     "start_time": "2022-07-06T12:03:08.321411Z"
    }
   },
   "outputs": [],
   "source": [
    "import numpy as np\n",
    "from scipy import stats\n",
    "import pandas as pd\n",
    "import matplotlib.pyplot as plt\n",
    "import seaborn as sns\n",
    "\n",
    "# sns.set()\n",
    "\n",
    "import os\n",
    "\n",
    "import warnings\n",
    "warnings.filterwarnings('ignore')"
   ]
  },
  {
   "cell_type": "code",
   "execution_count": 2,
   "metadata": {
    "ExecuteTime": {
     "end_time": "2022-07-06T12:03:17.393206Z",
     "start_time": "2022-07-06T12:03:12.131166Z"
    }
   },
   "outputs": [],
   "source": [
    "import joblib\n",
    "from sklearn.base import BaseEstimator, TransformerMixin\n",
    "from sklearn.impute import SimpleImputer\n",
    "from sklearn.preprocessing import StandardScaler, MinMaxScaler\n",
    "from sklearn.preprocessing import OneHotEncoder\n",
    "from sklearn.compose import ColumnTransformer, make_column_transformer\n",
    "from sklearn.pipeline import Pipeline, make_pipeline\n",
    "from sklearn.feature_selection import SelectPercentile, f_classif, f_regression, SelectFromModel, RFE\n",
    "from sklearn.model_selection import train_test_split\n",
    "from sklearn.model_selection import cross_val_score, cross_validate\n",
    "from sklearn.metrics import mean_squared_error\n",
    "from sklearn.model_selection import GridSearchCV, RandomizedSearchCV"
   ]
  },
  {
   "cell_type": "code",
   "execution_count": 3,
   "metadata": {
    "ExecuteTime": {
     "end_time": "2022-07-06T12:03:17.580706Z",
     "start_time": "2022-07-06T12:03:17.396200Z"
    }
   },
   "outputs": [],
   "source": [
    "from sklearn.neighbors import KNeighborsRegressor\n",
    "from sklearn.linear_model import LinearRegression\n",
    "from sklearn.linear_model import Ridge\n",
    "from sklearn.linear_model import Lasso\n",
    "from sklearn.linear_model import ElasticNet\n",
    "from sklearn.linear_model import SGDRegressor\n",
    "from sklearn.svm import SVR\n",
    "from sklearn.tree import DecisionTreeRegressor\n",
    "from sklearn.ensemble import RandomForestRegressor\n",
    "from sklearn.ensemble import ExtraTreesRegressor\n",
    "from sklearn.ensemble import GradientBoostingRegressor\n",
    "from xgboost import XGBRegressor\n",
    "# from lightgbm import LGBMRegressor\n",
    "from sklearn.ensemble import AdaBoostRegressor\n",
    "from sklearn.neural_network import MLPRegressor"
   ]
  },
  {
   "cell_type": "code",
   "execution_count": 4,
   "metadata": {
    "ExecuteTime": {
     "end_time": "2022-07-06T12:03:26.594596Z",
     "start_time": "2022-07-06T12:03:17.583697Z"
    }
   },
   "outputs": [],
   "source": [
    "import tensorflow as tf\n",
    "from tensorflow import keras\n",
    "from tensorflow.keras.models import Sequential, Model\n",
    "from tensorflow.keras.layers import Flatten, Dense, Input, concatenate, Embedding, Dot\n",
    "from tensorflow.keras.layers import Activation, ReLU, LeakyReLU, PReLU\n",
    "from tensorflow.keras.layers import BatchNormalization, Dropout, AlphaDropout\n",
    "from tensorflow.keras.callbacks import EarlyStopping, ModelCheckpoint\n",
    "from tensorflow.keras.utils import plot_model\n",
    "\n",
    "from functools import partial"
   ]
  },
  {
   "cell_type": "code",
   "execution_count": 5,
   "metadata": {
    "ExecuteTime": {
     "end_time": "2022-07-06T12:03:26.625511Z",
     "start_time": "2022-07-06T12:03:26.606563Z"
    }
   },
   "outputs": [
    {
     "data": {
      "text/plain": [
       "make_scorer(smape)"
      ]
     },
     "execution_count": 5,
     "metadata": {},
     "output_type": "execute_result"
    }
   ],
   "source": [
    "from sklearn.metrics import make_scorer\n",
    "\n",
    "def smape(predicted_values, actual_values):\n",
    "    predicted_values = np.array(predicted_values)\n",
    "    actual_values = np.array(actual_values)\n",
    "    \n",
    "    epsilon = 0.001\n",
    "    default = 0.5\n",
    "    \n",
    "    numerator = np.abs(actual_values - predicted_values)\n",
    "    denominator = np.maximum(np.abs(actual_values) + np.abs(predicted_values) + epsilon, default)\n",
    "    \n",
    "    abs_percent = numerator / denominator\n",
    "\n",
    "    sym_mean_abs_percent = - abs_percent.mean() * 100\n",
    "    \n",
    "    return sym_mean_abs_percent\n",
    "\n",
    "smape_scorer = make_scorer(smape)\n",
    "smape_scorer"
   ]
  },
  {
   "cell_type": "markdown",
   "metadata": {},
   "source": [
    "# Data load"
   ]
  },
  {
   "cell_type": "code",
   "execution_count": 6,
   "metadata": {
    "ExecuteTime": {
     "end_time": "2022-07-06T12:03:28.317985Z",
     "start_time": "2022-07-06T12:03:26.628504Z"
    }
   },
   "outputs": [],
   "source": [
    "# train = pd.read_csv('train.csv')\n",
    "# test = pd.read_csv('test.csv')\n",
    "\n",
    "train = pd.read_csv('train.csv', parse_dates=['date'])\n",
    "test = pd.read_csv('test.csv', parse_dates=['date'])"
   ]
  },
  {
   "cell_type": "markdown",
   "metadata": {},
   "source": [
    "# Column 설정"
   ]
  },
  {
   "cell_type": "code",
   "execution_count": 7,
   "metadata": {
    "ExecuteTime": {
     "end_time": "2022-07-06T12:03:28.332945Z",
     "start_time": "2022-07-06T12:03:28.320980Z"
    }
   },
   "outputs": [],
   "source": [
    "target = 'sales'"
   ]
  },
  {
   "cell_type": "code",
   "execution_count": 8,
   "metadata": {
    "ExecuteTime": {
     "end_time": "2022-07-06T12:03:28.347906Z",
     "start_time": "2022-07-06T12:03:28.337933Z"
    }
   },
   "outputs": [],
   "source": [
    "columns_useless = ['id']"
   ]
  },
  {
   "cell_type": "code",
   "execution_count": 9,
   "metadata": {
    "ExecuteTime": {
     "end_time": "2022-07-06T12:03:28.396775Z",
     "start_time": "2022-07-06T12:03:28.351898Z"
    }
   },
   "outputs": [],
   "source": [
    "columns_num_all = joblib.load('columns_num.pkl')\n",
    "columns_cat_all = joblib.load('columns_cat.pkl')\n",
    "columns_binary_num = joblib.load('columns_binary_num.pkl')\n",
    "columns_binary_cat = joblib.load('columns_binary_cat.pkl')\n",
    "columns_dt = joblib.load('columns_dt.pkl')"
   ]
  },
  {
   "cell_type": "code",
   "execution_count": 10,
   "metadata": {
    "ExecuteTime": {
     "end_time": "2022-07-06T12:03:28.409739Z",
     "start_time": "2022-07-06T12:03:28.403755Z"
    }
   },
   "outputs": [],
   "source": [
    "try :\n",
    "    columns_num_all.remove(target)\n",
    "    \n",
    "except :\n",
    "    pass"
   ]
  },
  {
   "cell_type": "code",
   "execution_count": 11,
   "metadata": {
    "ExecuteTime": {
     "end_time": "2022-07-06T12:03:28.424702Z",
     "start_time": "2022-07-06T12:03:28.412732Z"
    }
   },
   "outputs": [],
   "source": [
    "try :\n",
    "    columns_cat_all.remove(target)\n",
    "    \n",
    "except :\n",
    "    pass"
   ]
  },
  {
   "cell_type": "code",
   "execution_count": 12,
   "metadata": {
    "ExecuteTime": {
     "end_time": "2022-07-06T12:03:28.439659Z",
     "start_time": "2022-07-06T12:03:28.427692Z"
    }
   },
   "outputs": [
    {
     "data": {
      "text/plain": [
       "[]"
      ]
     },
     "execution_count": 12,
     "metadata": {},
     "output_type": "execute_result"
    }
   ],
   "source": [
    "columns_num = []\n",
    "\n",
    "for column in columns_num_all :\n",
    "    \n",
    "    if column not in columns_useless :\n",
    "        columns_num.append(column)\n",
    "        \n",
    "columns_num"
   ]
  },
  {
   "cell_type": "code",
   "execution_count": 13,
   "metadata": {
    "ExecuteTime": {
     "end_time": "2022-07-06T12:03:28.455619Z",
     "start_time": "2022-07-06T12:03:28.442652Z"
    }
   },
   "outputs": [
    {
     "data": {
      "text/plain": [
       "['store', 'item']"
      ]
     },
     "execution_count": 13,
     "metadata": {},
     "output_type": "execute_result"
    }
   ],
   "source": [
    "columns_cat = []\n",
    "\n",
    "for column in columns_cat_all :\n",
    "    \n",
    "    if column not in columns_useless :\n",
    "        columns_cat.append(column)\n",
    "        \n",
    "columns_cat"
   ]
  },
  {
   "cell_type": "code",
   "execution_count": 14,
   "metadata": {
    "ExecuteTime": {
     "end_time": "2022-07-06T12:03:28.534407Z",
     "start_time": "2022-07-06T12:03:28.458608Z"
    }
   },
   "outputs": [
    {
     "data": {
      "text/plain": [
       "[]"
      ]
     },
     "execution_count": 14,
     "metadata": {},
     "output_type": "execute_result"
    }
   ],
   "source": [
    "columns_sc = []\n",
    "\n",
    "for column in columns_num :\n",
    "    \n",
    "    if column not in columns_binary_num:\n",
    "        columns_sc.append(column)\n",
    "        \n",
    "columns_sc"
   ]
  },
  {
   "cell_type": "code",
   "execution_count": 15,
   "metadata": {
    "ExecuteTime": {
     "end_time": "2022-07-06T12:03:28.549368Z",
     "start_time": "2022-07-06T12:03:28.537398Z"
    }
   },
   "outputs": [],
   "source": [
    "# columns_sc.remove('date_block_num')"
   ]
  },
  {
   "cell_type": "code",
   "execution_count": 16,
   "metadata": {
    "ExecuteTime": {
     "end_time": "2022-07-06T12:03:28.565323Z",
     "start_time": "2022-07-06T12:03:28.552359Z"
    }
   },
   "outputs": [
    {
     "data": {
      "text/plain": [
       "['store', 'item']"
      ]
     },
     "execution_count": 16,
     "metadata": {},
     "output_type": "execute_result"
    }
   ],
   "source": [
    "columns_en = []\n",
    "\n",
    "for column in columns_cat :\n",
    "    \n",
    "    if (column not in columns_binary_num) and (column not in columns_binary_cat):\n",
    "        columns_en.append(column)\n",
    "        \n",
    "columns_en"
   ]
  },
  {
   "cell_type": "markdown",
   "metadata": {},
   "source": [
    "# Target 분리"
   ]
  },
  {
   "cell_type": "code",
   "execution_count": 17,
   "metadata": {
    "ExecuteTime": {
     "end_time": "2022-07-06T12:03:28.641124Z",
     "start_time": "2022-07-06T12:03:28.568315Z"
    }
   },
   "outputs": [],
   "source": [
    "y_train = train[target]\n",
    "X_train = train.drop(target, axis=1)\n",
    "X_train_og = X_train.copy()"
   ]
  },
  {
   "cell_type": "code",
   "execution_count": 18,
   "metadata": {
    "ExecuteTime": {
     "end_time": "2022-07-06T12:03:28.673038Z",
     "start_time": "2022-07-06T12:03:28.644113Z"
    }
   },
   "outputs": [],
   "source": [
    "X_test = test.copy()"
   ]
  },
  {
   "cell_type": "markdown",
   "metadata": {},
   "source": [
    "# 전체 dataset concat"
   ]
  },
  {
   "cell_type": "code",
   "execution_count": 19,
   "metadata": {
    "ExecuteTime": {
     "end_time": "2022-07-06T12:03:28.780747Z",
     "start_time": "2022-07-06T12:03:28.676027Z"
    }
   },
   "outputs": [],
   "source": [
    "all_data = pd.concat([X_train, X_test])"
   ]
  },
  {
   "cell_type": "markdown",
   "metadata": {},
   "source": [
    "# Data preprocessing"
   ]
  },
  {
   "cell_type": "code",
   "execution_count": 20,
   "metadata": {
    "ExecuteTime": {
     "end_time": "2022-07-06T12:03:28.798698Z",
     "start_time": "2022-07-06T12:03:28.783739Z"
    }
   },
   "outputs": [],
   "source": [
    "def date_features(data, column):\n",
    "    data['year'] = data[column].dt.year\n",
    "    data['quarter'] = data[column].dt.quarter\n",
    "    data['month'] = data[column].dt.month   # Data preprocessing 때 string으로 변환해야함\n",
    "    data['day'] = data[column].dt.day\n",
    "    data['day_of_week'] = data[column].dt.dayofweek   # Monday = 0, Sunday = 6\n",
    "    data['is_weekend'] = data[column].dt.weekday // 5\n",
    "    \n",
    "    data.drop(column, axis=1, inplace=True)\n",
    "    \n",
    "    date_columns = data.columns[-6:].to_list()\n",
    "    other_columns = data.columns[:-6].to_list()\n",
    "    columns = date_columns + other_columns\n",
    "    \n",
    "    data = data[columns]\n",
    "    \n",
    "    return data"
   ]
  },
  {
   "cell_type": "code",
   "execution_count": 21,
   "metadata": {
    "ExecuteTime": {
     "end_time": "2022-07-06T12:03:28.844579Z",
     "start_time": "2022-07-06T12:03:28.803686Z"
    }
   },
   "outputs": [],
   "source": [
    "def preprocessing(data, X_data_og, columns_useless, columns_sc, columns_binary_cat, columns_en) :\n",
    "    \n",
    "    # datetime 변환\n",
    "    data = date_features(data, 'date')\n",
    "    \n",
    "    columns_num.extend(['year'])\n",
    "    columns_en.extend(['quarter', 'month', 'day', 'day_of_week', 'is_weekend'])\n",
    "    \n",
    "    # useless column 제거\n",
    "    try :\n",
    "        data.drop(columns_useless, axis=1, inplace=True)\n",
    "\n",
    "    except :\n",
    "        pass\n",
    "    \n",
    "    # scaling\n",
    "#     scaler = StandardScaler()\n",
    "#     scaler.fit(X_data_og[columns_sc])\n",
    "#     data[columns_sc] = scaler.transform(data[columns_sc])\n",
    "   \n",
    "    # One-hot-encoding\n",
    "    data = pd.get_dummies(data, columns=columns_en)\n",
    "#     encoder = OneHotEncoder()   # 고윳값을 많이 가진 feature가 있는 경우는 OneHotEncoder를 사용해야 함\n",
    "#     data = encoder.fit_transform(data)\n",
    "    \n",
    "    return data"
   ]
  },
  {
   "cell_type": "code",
   "execution_count": 22,
   "metadata": {
    "ExecuteTime": {
     "end_time": "2022-07-06T12:03:31.410711Z",
     "start_time": "2022-07-06T12:03:28.847569Z"
    }
   },
   "outputs": [],
   "source": [
    "all_data = preprocessing(all_data, X_train_og, columns_useless, columns_sc, columns_binary_cat, columns_en)"
   ]
  },
  {
   "cell_type": "markdown",
   "metadata": {},
   "source": [
    "# Train & test set 분리"
   ]
  },
  {
   "cell_type": "code",
   "execution_count": 23,
   "metadata": {
    "ExecuteTime": {
     "end_time": "2022-07-06T12:03:31.441630Z",
     "start_time": "2022-07-06T12:03:31.422679Z"
    }
   },
   "outputs": [],
   "source": [
    "X_train = all_data[:len(train)]\n",
    "X_test = all_data[len(train):]"
   ]
  },
  {
   "cell_type": "markdown",
   "metadata": {},
   "source": [
    "# Sampling\n",
    "- dataset이 너무 크기 때문에 sampling 진행"
   ]
  },
  {
   "cell_type": "code",
   "execution_count": 24,
   "metadata": {
    "ExecuteTime": {
     "end_time": "2022-07-06T12:03:31.456588Z",
     "start_time": "2022-07-06T12:03:31.448610Z"
    }
   },
   "outputs": [],
   "source": [
    "# train_sp = train.sample(frac=0.01, random_state=30)"
   ]
  },
  {
   "cell_type": "code",
   "execution_count": 25,
   "metadata": {
    "ExecuteTime": {
     "end_time": "2022-07-06T12:03:33.773393Z",
     "start_time": "2022-07-06T12:03:31.460580Z"
    }
   },
   "outputs": [],
   "source": [
    "X_train, X_left, y_train, y_letf = train_test_split(X_train, y_train, train_size=0.1, random_state=30)"
   ]
  },
  {
   "cell_type": "markdown",
   "metadata": {},
   "source": [
    "# Validation set 분리\n",
    "- Train dataset이 너무 커서 cross validation에 너무 오랜 시간이 걸리는 경우\n",
    "- OneHotEncoder를 사용하면 sparse matrix를 return하기 때문에 neural network에서 validation_split를 사용할 수 없는 경우"
   ]
  },
  {
   "cell_type": "code",
   "execution_count": 26,
   "metadata": {
    "ExecuteTime": {
     "end_time": "2022-07-06T12:03:34.022728Z",
     "start_time": "2022-07-06T12:03:33.776386Z"
    }
   },
   "outputs": [],
   "source": [
    "X_train, X_val, y_train, y_val = train_test_split(X_train, y_train, random_state=30)"
   ]
  },
  {
   "cell_type": "code",
   "execution_count": 27,
   "metadata": {
    "ExecuteTime": {
     "end_time": "2022-07-06T12:03:34.038684Z",
     "start_time": "2022-07-06T12:03:34.026716Z"
    }
   },
   "outputs": [
    {
     "data": {
      "text/plain": [
       "((68475, 117), (68475,))"
      ]
     },
     "execution_count": 27,
     "metadata": {},
     "output_type": "execute_result"
    }
   ],
   "source": [
    "X_train.shape, y_train.shape"
   ]
  },
  {
   "cell_type": "code",
   "execution_count": 28,
   "metadata": {
    "ExecuteTime": {
     "end_time": "2022-07-06T12:03:34.053644Z",
     "start_time": "2022-07-06T12:03:34.041677Z"
    }
   },
   "outputs": [
    {
     "data": {
      "text/plain": [
       "((22825, 117), (22825,))"
      ]
     },
     "execution_count": 28,
     "metadata": {},
     "output_type": "execute_result"
    }
   ],
   "source": [
    "X_val.shape, y_val.shape"
   ]
  },
  {
   "cell_type": "markdown",
   "metadata": {},
   "source": [
    "# ML model cross validation"
   ]
  },
  {
   "cell_type": "code",
   "execution_count": 29,
   "metadata": {
    "ExecuteTime": {
     "end_time": "2022-07-06T12:03:34.099521Z",
     "start_time": "2022-07-06T12:03:34.056636Z"
    }
   },
   "outputs": [],
   "source": [
    "knn = KNeighborsRegressor(n_neighbors=5)\n",
    "linear = LinearRegression()\n",
    "ridge = Ridge(alpha=1, random_state=30)\n",
    "lasso = Lasso(alpha=1, random_state=30)\n",
    "elastic = ElasticNet(alpha=1, l1_ratio=0.5, random_state=30)\n",
    "sgd = SGDRegressor(max_iter=1000, eta0=0.01, penalty='l2', random_state=30)\n",
    "svm = SVR(kernel='rbf', C=1.0, gamma='scale')\n",
    "dt = DecisionTreeRegressor(max_depth=None, random_state=30)\n",
    "rf = RandomForestRegressor(n_estimators=100, max_depth=None, n_jobs=-1, random_state=30)\n",
    "et = ExtraTreesRegressor(n_estimators=100, max_depth=None, n_jobs=-1, random_state=30)\n",
    "gb = GradientBoostingRegressor(learning_rate=0.1, n_estimators=1000, max_depth=3, random_state=30)\n",
    "xgb = XGBRegressor(learning_rate=0.1, n_estimators=100, max_depth=3, n_jobs=-1, random_state=30)\n",
    "# lgb = LGBMRegressor(random_state=30)\n",
    "adb = AdaBoostRegressor(random_state=30)\n",
    "mlp = MLPRegressor(hidden_layer_sizes=(100,), activation='relu', solver='adam', alpha=0.0001, max_iter=200,\n",
    "                    learning_rate='constant', learning_rate_init=0.001, random_state=30)"
   ]
  },
  {
   "cell_type": "code",
   "execution_count": 30,
   "metadata": {
    "ExecuteTime": {
     "end_time": "2022-07-06T12:03:34.114482Z",
     "start_time": "2022-07-06T12:03:34.103511Z"
    }
   },
   "outputs": [],
   "source": [
    "models = {\n",
    "    'knn' : knn,\n",
    "    'linear' : linear,\n",
    "    'ridge' : ridge,\n",
    "    'lasso' : lasso,\n",
    "    'elastic' : elastic,\n",
    "    'sgd' : sgd,\n",
    "    'svm' : svm,\n",
    "    'dt' : dt,\n",
    "    'rf' : rf,\n",
    "    'et' : et,\n",
    "    'gb' : gb,\n",
    "    'xgb' : xgb,\n",
    "#     'lgb' : lgb,\n",
    "    'adb' : adb,\n",
    "    'mlp' : mlp\n",
    "}"
   ]
  },
  {
   "cell_type": "code",
   "execution_count": 31,
   "metadata": {
    "ExecuteTime": {
     "end_time": "2022-07-06T12:03:34.129440Z",
     "start_time": "2022-07-06T12:03:34.117473Z"
    }
   },
   "outputs": [],
   "source": [
    "# result = []\n",
    "\n",
    "# for key, model in models.items() : \n",
    "#     score = cross_validate(model, X_train, y_train, cv=5, scoring=smape_scorer, return_train_score=True, n_jobs=-1)  \n",
    "#     score = pd.DataFrame(score).mean()\n",
    "#     score = - score\n",
    "    \n",
    "#     result.append(score)\n",
    "    \n",
    "#     print(key)"
   ]
  },
  {
   "cell_type": "code",
   "execution_count": 32,
   "metadata": {
    "ExecuteTime": {
     "end_time": "2022-07-06T12:03:34.145400Z",
     "start_time": "2022-07-06T12:03:34.132433Z"
    }
   },
   "outputs": [],
   "source": [
    "# result = pd.concat(result, axis=1)\n",
    "# result.columns = models.keys()\n",
    "# result = result.T\n",
    "# result = result[['test_score', 'train_score', 'fit_time', 'score_time']]\n",
    "# result = round(result, 3)\n",
    "# result"
   ]
  },
  {
   "cell_type": "code",
   "execution_count": 33,
   "metadata": {
    "ExecuteTime": {
     "end_time": "2022-07-06T12:03:34.176315Z",
     "start_time": "2022-07-06T12:03:34.165347Z"
    }
   },
   "outputs": [],
   "source": [
    "# result.to_csv('result.csv')"
   ]
  },
  {
   "cell_type": "code",
   "execution_count": 34,
   "metadata": {
    "ExecuteTime": {
     "end_time": "2022-07-06T12:03:34.254111Z",
     "start_time": "2022-07-06T12:03:34.181302Z"
    }
   },
   "outputs": [
    {
     "data": {
      "text/html": [
       "<div>\n",
       "<style scoped>\n",
       "    .dataframe tbody tr th:only-of-type {\n",
       "        vertical-align: middle;\n",
       "    }\n",
       "\n",
       "    .dataframe tbody tr th {\n",
       "        vertical-align: top;\n",
       "    }\n",
       "\n",
       "    .dataframe thead th {\n",
       "        text-align: right;\n",
       "    }\n",
       "</style>\n",
       "<table border=\"1\" class=\"dataframe\">\n",
       "  <thead>\n",
       "    <tr style=\"text-align: right;\">\n",
       "      <th></th>\n",
       "      <th>test_score</th>\n",
       "      <th>train_score</th>\n",
       "      <th>fit_time</th>\n",
       "      <th>score_time</th>\n",
       "    </tr>\n",
       "  </thead>\n",
       "  <tbody>\n",
       "    <tr>\n",
       "      <th>knn</th>\n",
       "      <td>18.030</td>\n",
       "      <td>15.057</td>\n",
       "      <td>-25.675</td>\n",
       "      <td>-332.871</td>\n",
       "    </tr>\n",
       "    <tr>\n",
       "      <th>linear</th>\n",
       "      <td>11.559</td>\n",
       "      <td>11.540</td>\n",
       "      <td>-2.219</td>\n",
       "      <td>-0.111</td>\n",
       "    </tr>\n",
       "    <tr>\n",
       "      <th>ridge</th>\n",
       "      <td>11.547</td>\n",
       "      <td>11.528</td>\n",
       "      <td>-0.618</td>\n",
       "      <td>-0.065</td>\n",
       "    </tr>\n",
       "    <tr>\n",
       "      <th>lasso</th>\n",
       "      <td>21.452</td>\n",
       "      <td>21.448</td>\n",
       "      <td>-0.793</td>\n",
       "      <td>-0.052</td>\n",
       "    </tr>\n",
       "    <tr>\n",
       "      <th>elastic</th>\n",
       "      <td>22.052</td>\n",
       "      <td>22.050</td>\n",
       "      <td>-0.806</td>\n",
       "      <td>-0.079</td>\n",
       "    </tr>\n",
       "    <tr>\n",
       "      <th>sgd</th>\n",
       "      <td>100.000</td>\n",
       "      <td>100.000</td>\n",
       "      <td>-2.846</td>\n",
       "      <td>-0.048</td>\n",
       "    </tr>\n",
       "    <tr>\n",
       "      <th>svm</th>\n",
       "      <td>23.033</td>\n",
       "      <td>23.033</td>\n",
       "      <td>-1354.701</td>\n",
       "      <td>-297.162</td>\n",
       "    </tr>\n",
       "    <tr>\n",
       "      <th>dt</th>\n",
       "      <td>10.071</td>\n",
       "      <td>0.000</td>\n",
       "      <td>-4.764</td>\n",
       "      <td>-0.042</td>\n",
       "    </tr>\n",
       "    <tr>\n",
       "      <th>rf</th>\n",
       "      <td>7.483</td>\n",
       "      <td>2.882</td>\n",
       "      <td>-247.605</td>\n",
       "      <td>-2.134</td>\n",
       "    </tr>\n",
       "    <tr>\n",
       "      <th>et</th>\n",
       "      <td>8.731</td>\n",
       "      <td>0.000</td>\n",
       "      <td>-389.343</td>\n",
       "      <td>-1.515</td>\n",
       "    </tr>\n",
       "    <tr>\n",
       "      <th>gb</th>\n",
       "      <td>8.803</td>\n",
       "      <td>8.542</td>\n",
       "      <td>-423.112</td>\n",
       "      <td>-1.327</td>\n",
       "    </tr>\n",
       "    <tr>\n",
       "      <th>xgb</th>\n",
       "      <td>13.440</td>\n",
       "      <td>13.368</td>\n",
       "      <td>-41.957</td>\n",
       "      <td>-0.145</td>\n",
       "    </tr>\n",
       "    <tr>\n",
       "      <th>adb</th>\n",
       "      <td>22.971</td>\n",
       "      <td>22.963</td>\n",
       "      <td>-46.578</td>\n",
       "      <td>-0.589</td>\n",
       "    </tr>\n",
       "    <tr>\n",
       "      <th>mlp</th>\n",
       "      <td>11.965</td>\n",
       "      <td>11.893</td>\n",
       "      <td>-39.063</td>\n",
       "      <td>-0.079</td>\n",
       "    </tr>\n",
       "  </tbody>\n",
       "</table>\n",
       "</div>"
      ],
      "text/plain": [
       "         test_score  train_score  fit_time  score_time\n",
       "knn          18.030       15.057   -25.675    -332.871\n",
       "linear       11.559       11.540    -2.219      -0.111\n",
       "ridge        11.547       11.528    -0.618      -0.065\n",
       "lasso        21.452       21.448    -0.793      -0.052\n",
       "elastic      22.052       22.050    -0.806      -0.079\n",
       "sgd         100.000      100.000    -2.846      -0.048\n",
       "svm          23.033       23.033 -1354.701    -297.162\n",
       "dt           10.071        0.000    -4.764      -0.042\n",
       "rf            7.483        2.882  -247.605      -2.134\n",
       "et            8.731        0.000  -389.343      -1.515\n",
       "gb            8.803        8.542  -423.112      -1.327\n",
       "xgb          13.440       13.368   -41.957      -0.145\n",
       "adb          22.971       22.963   -46.578      -0.589\n",
       "mlp          11.965       11.893   -39.063      -0.079"
      ]
     },
     "execution_count": 34,
     "metadata": {},
     "output_type": "execute_result"
    }
   ],
   "source": [
    "result = pd.read_csv('ML_result.csv', index_col=0)\n",
    "result"
   ]
  },
  {
   "cell_type": "code",
   "execution_count": 35,
   "metadata": {
    "ExecuteTime": {
     "end_time": "2022-07-06T12:03:34.269067Z",
     "start_time": "2022-07-06T12:03:34.257099Z"
    },
    "scrolled": true
   },
   "outputs": [],
   "source": [
    "# for key, model in models.items() :\n",
    "#     model.fit(X_train, y_train)\n",
    "#     print(key, ':', round(model.score(X_val, y_val), 3))"
   ]
  },
  {
   "cell_type": "markdown",
   "metadata": {},
   "source": [
    "- knn : 0.415\n",
    "- linear : 0.867\n",
    "- ridge : 0.867\n",
    "- lasso : 0.178\n",
    "- elastic : 0.125\n",
    "- sgd : -7.121322175320087e+25\n",
    "- dt : 0.831\n",
    "- rf : 0.906\n",
    "- et : 0.873\n",
    "- gb : 0.909\n",
    "- xgb : 0.686\n",
    "- adb : 0.146\n",
    "- mlp : 0.832"
   ]
  },
  {
   "cell_type": "markdown",
   "metadata": {},
   "source": [
    "- 회귀에서 score는 R2 score를 반환"
   ]
  },
  {
   "cell_type": "markdown",
   "metadata": {},
   "source": [
    "# Nerual network"
   ]
  },
  {
   "cell_type": "code",
   "execution_count": 36,
   "metadata": {
    "ExecuteTime": {
     "end_time": "2022-07-06T12:03:34.285023Z",
     "start_time": "2022-07-06T12:03:34.272060Z"
    }
   },
   "outputs": [],
   "source": [
    "def plot_result(history) :\n",
    "    plt.figure(figsize=(12, 4))\n",
    "    plt.subplot(1, 2, 1)\n",
    "    plt.plot(history.history['loss'], 'b--', label='loss')\n",
    "    plt.plot(history.history['val_loss'], 'r-', label='val_loss')\n",
    "    plt.xlabel('Epoch')\n",
    "    plt.grid(True)\n",
    "    plt.legend()\n",
    "\n",
    "    plt.subplot(1, 2, 2)\n",
    "    plt.plot(history.history['mape'], 'b--', label='mape')\n",
    "    plt.plot(history.history['val_mape'], 'r-', label='val_mape')\n",
    "    plt.xlabel('Epoch')\n",
    "    plt.grid(True)\n",
    "    plt.legend()"
   ]
  },
  {
   "cell_type": "code",
   "execution_count": 37,
   "metadata": {
    "ExecuteTime": {
     "end_time": "2022-07-06T12:03:34.314944Z",
     "start_time": "2022-07-06T12:03:34.288018Z"
    }
   },
   "outputs": [],
   "source": [
    "np.random.seed(30)\n",
    "tf.random.set_seed(30)"
   ]
  },
  {
   "cell_type": "code",
   "execution_count": 38,
   "metadata": {
    "ExecuteTime": {
     "end_time": "2022-07-06T12:03:34.954236Z",
     "start_time": "2022-07-06T12:03:34.317937Z"
    }
   },
   "outputs": [
    {
     "name": "stdout",
     "output_type": "stream",
     "text": [
      "Model: \"sequential\"\n",
      "_________________________________________________________________\n",
      "Layer (type)                 Output Shape              Param #   \n",
      "=================================================================\n",
      "dense (Dense)                (None, 100)               11800     \n",
      "_________________________________________________________________\n",
      "dense_1 (Dense)              (None, 100)               10100     \n",
      "_________________________________________________________________\n",
      "dense_2 (Dense)              (None, 100)               10100     \n",
      "_________________________________________________________________\n",
      "dense_3 (Dense)              (None, 100)               10100     \n",
      "_________________________________________________________________\n",
      "dense_4 (Dense)              (None, 100)               10100     \n",
      "_________________________________________________________________\n",
      "dense_5 (Dense)              (None, 100)               10100     \n",
      "_________________________________________________________________\n",
      "dense_6 (Dense)              (None, 1)                 101       \n",
      "=================================================================\n",
      "Total params: 62,401\n",
      "Trainable params: 62,401\n",
      "Non-trainable params: 0\n",
      "_________________________________________________________________\n"
     ]
    }
   ],
   "source": [
    "model = Sequential()\n",
    "model.add(Dense(100, activation='selu', kernel_initializer='lecun_normal', input_shape=(X_train.shape[1],)))\n",
    "\n",
    "for layer in range(5):\n",
    "    model.add(Dense(100, activation='selu', kernel_initializer='lecun_normal'))\n",
    "    \n",
    "model.add(Dense(1))\n",
    "\n",
    "model.summary()"
   ]
  },
  {
   "cell_type": "code",
   "execution_count": 39,
   "metadata": {
    "ExecuteTime": {
     "end_time": "2022-07-06T12:03:34.970192Z",
     "start_time": "2022-07-06T12:03:34.957227Z"
    }
   },
   "outputs": [
    {
     "data": {
      "text/plain": [
       "pandas.core.frame.DataFrame"
      ]
     },
     "execution_count": 39,
     "metadata": {},
     "output_type": "execute_result"
    }
   ],
   "source": [
    "type(X_train)"
   ]
  },
  {
   "cell_type": "code",
   "execution_count": 40,
   "metadata": {
    "ExecuteTime": {
     "end_time": "2022-07-06T12:03:34.986150Z",
     "start_time": "2022-07-06T12:03:34.973184Z"
    }
   },
   "outputs": [],
   "source": [
    "# Keras can't work with csr_matrix. Convert to a numpy array.\n",
    "# X_train = X_train.toarray()\n",
    "# X_val = X_val.toarray()"
   ]
  },
  {
   "cell_type": "code",
   "execution_count": 41,
   "metadata": {
    "ExecuteTime": {
     "end_time": "2022-07-06T12:03:35.032027Z",
     "start_time": "2022-07-06T12:03:34.989140Z"
    }
   },
   "outputs": [],
   "source": [
    "optimizer = keras.optimizers.Adam(lr=0.001, beta_1=0.9, beta_2=0.999)"
   ]
  },
  {
   "cell_type": "code",
   "execution_count": 42,
   "metadata": {
    "ExecuteTime": {
     "end_time": "2022-07-06T12:03:35.063952Z",
     "start_time": "2022-07-06T12:03:35.035019Z"
    }
   },
   "outputs": [],
   "source": [
    "model.compile(loss='mse', optimizer=optimizer, metrics=['mape'])"
   ]
  },
  {
   "cell_type": "code",
   "execution_count": 43,
   "metadata": {
    "ExecuteTime": {
     "end_time": "2022-07-06T12:03:35.078912Z",
     "start_time": "2022-07-06T12:03:35.066932Z"
    }
   },
   "outputs": [],
   "source": [
    "early_stopping_cb = keras.callbacks.EarlyStopping(patience=20, restore_best_weights=True)"
   ]
  },
  {
   "cell_type": "code",
   "execution_count": 44,
   "metadata": {
    "ExecuteTime": {
     "end_time": "2022-07-06T12:11:29.724122Z",
     "start_time": "2022-07-06T12:03:35.081893Z"
    },
    "scrolled": false
   },
   "outputs": [
    {
     "name": "stdout",
     "output_type": "stream",
     "text": [
      "Epoch 1/100\n",
      "2140/2140 [==============================] - 9s 4ms/step - loss: 556.5522 - mape: 49.9229 - val_loss: 124.8026 - val_mape: 19.9727\n",
      "Epoch 2/100\n",
      "2140/2140 [==============================] - 8s 4ms/step - loss: 130.5861 - mape: 20.5733 - val_loss: 101.1075 - val_mape: 18.8110\n",
      "Epoch 3/100\n",
      "2140/2140 [==============================] - 8s 4ms/step - loss: 124.4476 - mape: 19.5352 - val_loss: 96.5901 - val_mape: 17.3388\n",
      "Epoch 4/100\n",
      "2140/2140 [==============================] - 8s 4ms/step - loss: 114.0583 - mape: 18.4651 - val_loss: 104.1294 - val_mape: 16.0602\n",
      "Epoch 5/100\n",
      "2140/2140 [==============================] - 8s 4ms/step - loss: 111.6070 - mape: 18.3366 - val_loss: 133.1401 - val_mape: 17.5172\n",
      "Epoch 6/100\n",
      "2140/2140 [==============================] - 8s 4ms/step - loss: 110.5189 - mape: 18.1729 - val_loss: 148.2396 - val_mape: 17.8911\n",
      "Epoch 7/100\n",
      "2140/2140 [==============================] - 8s 4ms/step - loss: 112.0246 - mape: 18.2572 - val_loss: 111.7421 - val_mape: 21.2168\n",
      "Epoch 8/100\n",
      "2140/2140 [==============================] - 8s 4ms/step - loss: 109.7942 - mape: 18.0845 - val_loss: 99.7877 - val_mape: 17.7605\n",
      "Epoch 9/100\n",
      "2140/2140 [==============================] - 8s 4ms/step - loss: 104.9725 - mape: 17.7070 - val_loss: 110.7252 - val_mape: 16.4325\n",
      "Epoch 10/100\n",
      "2140/2140 [==============================] - 8s 4ms/step - loss: 104.2828 - mape: 17.7201 - val_loss: 104.9605 - val_mape: 16.1185\n",
      "Epoch 11/100\n",
      "2140/2140 [==============================] - 8s 4ms/step - loss: 107.5633 - mape: 17.8681 - val_loss: 103.2800 - val_mape: 16.4654\n",
      "Epoch 12/100\n",
      "2140/2140 [==============================] - 8s 4ms/step - loss: 104.4567 - mape: 17.7088 - val_loss: 98.3741 - val_mape: 17.4120\n",
      "Epoch 13/100\n",
      "2140/2140 [==============================] - 7s 3ms/step - loss: 104.9170 - mape: 17.7076 - val_loss: 112.4288 - val_mape: 16.3063\n",
      "Epoch 14/100\n",
      "2140/2140 [==============================] - 8s 4ms/step - loss: 106.0355 - mape: 17.7551 - val_loss: 91.4928 - val_mape: 16.3191\n",
      "Epoch 15/100\n",
      "2140/2140 [==============================] - 8s 4ms/step - loss: 103.2073 - mape: 17.6285 - val_loss: 149.7469 - val_mape: 17.4817\n",
      "Epoch 16/100\n",
      "2140/2140 [==============================] - 8s 4ms/step - loss: 101.5430 - mape: 17.4604 - val_loss: 209.1720 - val_mape: 28.5948\n",
      "Epoch 17/100\n",
      "2140/2140 [==============================] - 8s 4ms/step - loss: 101.5660 - mape: 17.5014 - val_loss: 98.8494 - val_mape: 16.6122\n",
      "Epoch 18/100\n",
      "2140/2140 [==============================] - 8s 4ms/step - loss: 101.1665 - mape: 17.4231 - val_loss: 126.9538 - val_mape: 21.7117\n",
      "Epoch 19/100\n",
      "2140/2140 [==============================] - 7s 3ms/step - loss: 100.6365 - mape: 17.3711 - val_loss: 90.7919 - val_mape: 16.5728\n",
      "Epoch 20/100\n",
      "2140/2140 [==============================] - 8s 4ms/step - loss: 100.8515 - mape: 17.3508 - val_loss: 91.9218 - val_mape: 16.5515s - loss: 100.4334 - \n",
      "Epoch 21/100\n",
      "2140/2140 [==============================] - 8s 4ms/step - loss: 99.1862 - mape: 17.2688 - val_loss: 99.0186 - val_mape: 18.6045\n",
      "Epoch 22/100\n",
      "2140/2140 [==============================] - 8s 4ms/step - loss: 99.9400 - mape: 17.3075 - val_loss: 94.5775 - val_mape: 17.0844\n",
      "Epoch 23/100\n",
      "2140/2140 [==============================] - 8s 4ms/step - loss: 100.5572 - mape: 17.2960 - val_loss: 92.6553 - val_mape: 17.0244\n",
      "Epoch 24/100\n",
      "2140/2140 [==============================] - 8s 4ms/step - loss: 100.0920 - mape: 17.3031 - val_loss: 97.7562 - val_mape: 18.2187\n",
      "Epoch 25/100\n",
      "2140/2140 [==============================] - 7s 3ms/step - loss: 100.5786 - mape: 17.3121 - val_loss: 93.9530 - val_mape: 16.2054\n",
      "Epoch 26/100\n",
      "2140/2140 [==============================] - 8s 4ms/step - loss: 99.6864 - mape: 17.2913 - val_loss: 97.2128 - val_mape: 16.1200\n",
      "Epoch 27/100\n",
      "2140/2140 [==============================] - 8s 4ms/step - loss: 98.5657 - mape: 17.1673 - val_loss: 99.7544 - val_mape: 18.1641\n",
      "Epoch 28/100\n",
      "2140/2140 [==============================] - 8s 4ms/step - loss: 99.5225 - mape: 17.2155 - val_loss: 115.1930 - val_mape: 16.7468\n",
      "Epoch 29/100\n",
      "2140/2140 [==============================] - 8s 4ms/step - loss: 98.7849 - mape: 17.2095 - val_loss: 105.4830 - val_mape: 16.1328\n",
      "Epoch 30/100\n",
      "2140/2140 [==============================] - 8s 4ms/step - loss: 98.2672 - mape: 17.1416 - val_loss: 91.9533 - val_mape: 16.4728\n",
      "Epoch 31/100\n",
      "2140/2140 [==============================] - 8s 4ms/step - loss: 99.2679 - mape: 17.2140 - val_loss: 91.5840 - val_mape: 16.9078\n",
      "Epoch 32/100\n",
      "2140/2140 [==============================] - 8s 4ms/step - loss: 99.2502 - mape: 17.2054 - val_loss: 104.3580 - val_mape: 16.0091\n",
      "Epoch 33/100\n",
      "2140/2140 [==============================] - 7s 3ms/step - loss: 98.4721 - mape: 17.1481 - val_loss: 92.0574 - val_mape: 16.7792\n",
      "Epoch 34/100\n",
      "2140/2140 [==============================] - 8s 4ms/step - loss: 97.9912 - mape: 17.1083 - val_loss: 94.5581 - val_mape: 17.1035\n",
      "Epoch 35/100\n",
      "2140/2140 [==============================] - 8s 4ms/step - loss: 98.0582 - mape: 17.1058 - val_loss: 90.9677 - val_mape: 16.5530\n",
      "Epoch 36/100\n",
      "2140/2140 [==============================] - 8s 4ms/step - loss: 98.2226 - mape: 17.1890 - val_loss: 91.4166 - val_mape: 17.1913\n",
      "Epoch 37/100\n",
      "2140/2140 [==============================] - 8s 4ms/step - loss: 98.7926 - mape: 17.2112 - val_loss: 94.4691 - val_mape: 16.8430\n",
      "Epoch 38/100\n",
      "2140/2140 [==============================] - 8s 4ms/step - loss: 98.0646 - mape: 17.1365 - val_loss: 90.5618 - val_mape: 16.4827\n",
      "Epoch 39/100\n",
      "2140/2140 [==============================] - 7s 3ms/step - loss: 97.5295 - mape: 17.1071 - val_loss: 90.3497 - val_mape: 16.2838\n",
      "Epoch 40/100\n",
      "2140/2140 [==============================] - 8s 4ms/step - loss: 96.3540 - mape: 17.0125 - val_loss: 91.7859 - val_mape: 16.6178\n",
      "Epoch 41/100\n",
      "2140/2140 [==============================] - 8s 4ms/step - loss: 97.7439 - mape: 17.1300 - val_loss: 92.4714 - val_mape: 16.8918\n",
      "Epoch 42/100\n",
      "2140/2140 [==============================] - 8s 4ms/step - loss: 97.2129 - mape: 17.1142 - val_loss: 99.5432 - val_mape: 16.0177\n",
      "Epoch 43/100\n",
      "2140/2140 [==============================] - 8s 4ms/step - loss: 95.1748 - mape: 16.9615 - val_loss: 95.9059 - val_mape: 15.9156\n",
      "Epoch 44/100\n",
      "2140/2140 [==============================] - 8s 4ms/step - loss: 96.2629 - mape: 17.0190 - val_loss: 92.7265 - val_mape: 15.9676\n",
      "Epoch 45/100\n",
      "2140/2140 [==============================] - 7s 3ms/step - loss: 95.6415 - mape: 16.9757 - val_loss: 120.3153 - val_mape: 16.6974\n",
      "Epoch 46/100\n",
      "2140/2140 [==============================] - 8s 4ms/step - loss: 96.1031 - mape: 16.9676 - val_loss: 97.5683 - val_mape: 16.0554\n",
      "Epoch 47/100\n",
      "2140/2140 [==============================] - 8s 4ms/step - loss: 96.6094 - mape: 17.0142 - val_loss: 109.9901 - val_mape: 16.1400\n",
      "Epoch 48/100\n",
      "2140/2140 [==============================] - 8s 4ms/step - loss: 96.3517 - mape: 17.0358 - val_loss: 96.1187 - val_mape: 17.3470\n",
      "Epoch 49/100\n",
      "2140/2140 [==============================] - 8s 4ms/step - loss: 95.8585 - mape: 16.9792 - val_loss: 101.4074 - val_mape: 18.4828\n",
      "Epoch 50/100\n",
      "2140/2140 [==============================] - 8s 4ms/step - loss: 97.1583 - mape: 17.0788 - val_loss: 108.1537 - val_mape: 17.9518\n",
      "Epoch 51/100\n",
      "2140/2140 [==============================] - 7s 3ms/step - loss: 94.7271 - mape: 16.9109 - val_loss: 99.6504 - val_mape: 16.0179\n",
      "Epoch 52/100\n",
      "2140/2140 [==============================] - 8s 4ms/step - loss: 95.7126 - mape: 16.9864 - val_loss: 91.6320 - val_mape: 16.2047\n",
      "Epoch 53/100\n",
      "2140/2140 [==============================] - 8s 4ms/step - loss: 96.6206 - mape: 17.0424 - val_loss: 90.5573 - val_mape: 16.1343\n",
      "Epoch 54/100\n",
      "2140/2140 [==============================] - 8s 4ms/step - loss: 95.7225 - mape: 16.9735 - val_loss: 96.8372 - val_mape: 17.3178\n",
      "Epoch 55/100\n",
      "2140/2140 [==============================] - 8s 4ms/step - loss: 95.1714 - mape: 16.9031 - val_loss: 91.8035 - val_mape: 15.9059\n",
      "Epoch 56/100\n",
      "2140/2140 [==============================] - 8s 4ms/step - loss: 96.0544 - mape: 17.0213 - val_loss: 98.6263 - val_mape: 18.0456\n",
      "Epoch 57/100\n",
      "2140/2140 [==============================] - 8s 4ms/step - loss: 96.8550 - mape: 17.0501 - val_loss: 96.3663 - val_mape: 16.0044\n",
      "Epoch 58/100\n",
      "2140/2140 [==============================] - 8s 4ms/step - loss: 95.5326 - mape: 16.9331 - val_loss: 91.7834 - val_mape: 15.8832\n",
      "Epoch 59/100\n",
      "2140/2140 [==============================] - 8s 4ms/step - loss: 94.7281 - mape: 16.9302 - val_loss: 91.3410 - val_mape: 16.3573\n"
     ]
    }
   ],
   "source": [
    "history = model.fit(X_train, y_train, epochs=100, validation_data=(X_val, y_val), callbacks=early_stopping_cb)"
   ]
  },
  {
   "cell_type": "code",
   "execution_count": 45,
   "metadata": {
    "ExecuteTime": {
     "end_time": "2022-07-06T12:11:30.564873Z",
     "start_time": "2022-07-06T12:11:29.728111Z"
    }
   },
   "outputs": [
    {
     "data": {
      "image/png": "[encoded data removed]",
      "text/plain": [
       "<Figure size 864x288 with 2 Axes>"
      ]
     },
     "metadata": {
      "needs_background": "light"
     },
     "output_type": "display_data"
    }
   ],
   "source": [
    "plot_result(history)"
   ]
  }
 ],
 "metadata": {
  "hide_input": false,
  "kernelspec": {
   "display_name": "Python 3",
   "language": "python",
   "name": "python3"
  },
  "language_info": {
   "codemirror_mode": {
    "name": "ipython",
    "version": 3
   },
   "file_extension": ".py",
   "mimetype": "text/x-python",
   "name": "python",
   "nbconvert_exporter": "python",
   "pygments_lexer": "ipython3",
   "version": "3.7.1"
  },
  "toc": {
   "base_numbering": 1,
   "nav_menu": {},
   "number_sections": true,
   "sideBar": true,
   "skip_h1_title": false,
   "title_cell": "Table of Contents",
   "title_sidebar": "Contents",
   "toc_cell": false,
   "toc_position": {
    "height": "573.6px",
    "left": "42px",
    "top": "111.125px",
    "width": "243.825px"
   },
   "toc_section_display": true,
   "toc_window_display": true
  },
  "varInspector": {
   "cols": {
    "lenName": 16,
    "lenType": 16,
    "lenVar": 40
   },
   "kernels_config": {
    "python": {
     "delete_cmd_postfix": "",
     "delete_cmd_prefix": "del ",
     "library": "var_list.py",
     "varRefreshCmd": "print(var_dic_list())"
    },
    "r": {
     "delete_cmd_postfix": ") ",
     "delete_cmd_prefix": "rm(",
     "library": "var_list.r",
     "varRefreshCmd": "cat(var_dic_list()) "
    }
   },
   "types_to_exclude": [
    "module",
    "function",
    "builtin_function_or_method",
    "instance",
    "_Feature"
   ],
   "window_display": false
  }
 },
 "nbformat": 4,
 "nbformat_minor": 4
}

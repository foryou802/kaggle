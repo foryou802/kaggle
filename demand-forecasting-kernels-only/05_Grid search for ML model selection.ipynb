{
 "cells": [
  {
   "cell_type": "code",
   "execution_count": 1,
   "metadata": {
    "ExecuteTime": {
     "end_time": "2022-07-09T04:53:58.930490Z",
     "start_time": "2022-07-09T04:53:56.285814Z"
    }
   },
   "outputs": [],
   "source": [
    "import numpy as np\n",
    "from scipy import stats\n",
    "import pandas as pd\n",
    "import matplotlib.pyplot as plt\n",
    "import seaborn as sns\n",
    "\n",
    "# sns.set()\n",
    "\n",
    "import os\n",
    "\n",
    "import warnings\n",
    "warnings.filterwarnings('ignore')"
   ]
  },
  {
   "cell_type": "code",
   "execution_count": 2,
   "metadata": {
    "ExecuteTime": {
     "end_time": "2022-07-09T04:54:01.316117Z",
     "start_time": "2022-07-09T04:53:58.933445Z"
    }
   },
   "outputs": [],
   "source": [
    "import joblib\n",
    "from sklearn.base import BaseEstimator, TransformerMixin\n",
    "from sklearn.impute import SimpleImputer\n",
    "from sklearn.preprocessing import StandardScaler, MinMaxScaler\n",
    "from sklearn.preprocessing import OneHotEncoder\n",
    "from sklearn.compose import ColumnTransformer, make_column_transformer\n",
    "from sklearn.pipeline import Pipeline, make_pipeline\n",
    "from sklearn.feature_selection import SelectPercentile, f_classif, f_regression, SelectFromModel, RFE\n",
    "from sklearn.model_selection import train_test_split\n",
    "from sklearn.model_selection import cross_val_score, cross_validate\n",
    "from sklearn.metrics import mean_squared_error\n",
    "from sklearn.model_selection import GridSearchCV, RandomizedSearchCV"
   ]
  },
  {
   "cell_type": "code",
   "execution_count": 3,
   "metadata": {
    "ExecuteTime": {
     "end_time": "2022-07-09T04:54:01.791001Z",
     "start_time": "2022-07-09T04:54:01.323055Z"
    }
   },
   "outputs": [],
   "source": [
    "from sklearn.neighbors import KNeighborsRegressor\n",
    "from sklearn.linear_model import LinearRegression\n",
    "from sklearn.linear_model import Ridge\n",
    "from sklearn.linear_model import Lasso\n",
    "from sklearn.linear_model import ElasticNet\n",
    "from sklearn.linear_model import SGDRegressor\n",
    "from sklearn.svm import SVR\n",
    "from sklearn.tree import DecisionTreeRegressor\n",
    "from sklearn.ensemble import RandomForestRegressor\n",
    "from sklearn.ensemble import ExtraTreesRegressor\n",
    "from sklearn.ensemble import GradientBoostingRegressor\n",
    "from xgboost import XGBRegressor\n",
    "# from lightgbm import LGBMRegressor\n",
    "from sklearn.ensemble import AdaBoostRegressor\n",
    "from sklearn.neural_network import MLPRegressor"
   ]
  },
  {
   "cell_type": "code",
   "execution_count": 4,
   "metadata": {
    "ExecuteTime": {
     "end_time": "2022-07-09T04:54:13.194585Z",
     "start_time": "2022-07-09T04:54:01.793952Z"
    }
   },
   "outputs": [],
   "source": [
    "import tensorflow as tf\n",
    "from tensorflow import keras\n",
    "from tensorflow.keras.models import Sequential, Model\n",
    "from tensorflow.keras.layers import Flatten, Dense, Input, concatenate, Embedding, Dot\n",
    "from tensorflow.keras.layers import Activation, ReLU, LeakyReLU, PReLU\n",
    "from tensorflow.keras.layers import BatchNormalization, Dropout, AlphaDropout\n",
    "from tensorflow.keras.callbacks import EarlyStopping, ModelCheckpoint\n",
    "from tensorflow.keras.utils import plot_model\n",
    "\n",
    "from functools import partial"
   ]
  },
  {
   "cell_type": "code",
   "execution_count": 5,
   "metadata": {
    "ExecuteTime": {
     "end_time": "2022-07-09T04:54:13.210599Z",
     "start_time": "2022-07-09T04:54:13.195590Z"
    }
   },
   "outputs": [
    {
     "data": {
      "text/plain": [
       "make_scorer(smape)"
      ]
     },
     "execution_count": 5,
     "metadata": {},
     "output_type": "execute_result"
    }
   ],
   "source": [
    "from sklearn.metrics import make_scorer\n",
    "\n",
    "def smape(predicted_values, actual_values):\n",
    "    predicted_values = np.array(predicted_values)\n",
    "    actual_values = np.array(actual_values)\n",
    "    \n",
    "    epsilon = 0.001\n",
    "    default = 0.5\n",
    "    \n",
    "    numerator = np.abs(actual_values - predicted_values)\n",
    "    denominator = np.maximum(np.abs(actual_values) + np.abs(predicted_values) + epsilon, default)\n",
    "    \n",
    "    abs_percent = numerator / denominator\n",
    "\n",
    "    sym_mean_abs_percent = - abs_percent.mean() * 100\n",
    "    \n",
    "    return sym_mean_abs_percent\n",
    "\n",
    "smape_scorer = make_scorer(smape)\n",
    "smape_scorer"
   ]
  },
  {
   "cell_type": "markdown",
   "metadata": {},
   "source": [
    "# Data load"
   ]
  },
  {
   "cell_type": "code",
   "execution_count": 6,
   "metadata": {
    "ExecuteTime": {
     "end_time": "2022-07-09T04:54:13.891632Z",
     "start_time": "2022-07-09T04:54:13.213545Z"
    }
   },
   "outputs": [],
   "source": [
    "# train = pd.read_csv('train.csv')\n",
    "# test = pd.read_csv('test.csv')\n",
    "\n",
    "train = pd.read_csv('train.csv', parse_dates=['date'])\n",
    "test = pd.read_csv('test.csv', parse_dates=['date'])"
   ]
  },
  {
   "cell_type": "markdown",
   "metadata": {},
   "source": [
    "# Column 설정"
   ]
  },
  {
   "cell_type": "code",
   "execution_count": 7,
   "metadata": {
    "ExecuteTime": {
     "end_time": "2022-07-09T04:54:13.907328Z",
     "start_time": "2022-07-09T04:54:13.894367Z"
    }
   },
   "outputs": [],
   "source": [
    "target = 'sales'"
   ]
  },
  {
   "cell_type": "code",
   "execution_count": 8,
   "metadata": {
    "ExecuteTime": {
     "end_time": "2022-07-09T04:54:13.923247Z",
     "start_time": "2022-07-09T04:54:13.910280Z"
    }
   },
   "outputs": [],
   "source": [
    "columns_useless = ['id']"
   ]
  },
  {
   "cell_type": "code",
   "execution_count": 9,
   "metadata": {
    "ExecuteTime": {
     "end_time": "2022-07-09T04:54:13.938579Z",
     "start_time": "2022-07-09T04:54:13.926240Z"
    }
   },
   "outputs": [],
   "source": [
    "columns_num_all = joblib.load('columns_num.pkl')\n",
    "columns_cat_all = joblib.load('columns_cat.pkl')\n",
    "columns_binary_num = joblib.load('columns_binary_num.pkl')\n",
    "columns_binary_cat = joblib.load('columns_binary_cat.pkl')\n",
    "columns_dt = joblib.load('columns_dt.pkl')"
   ]
  },
  {
   "cell_type": "code",
   "execution_count": 10,
   "metadata": {
    "ExecuteTime": {
     "end_time": "2022-07-09T04:54:13.954469Z",
     "start_time": "2022-07-09T04:54:13.941575Z"
    }
   },
   "outputs": [],
   "source": [
    "try :\n",
    "    columns_num_all.remove(target)\n",
    "    \n",
    "except :\n",
    "    pass"
   ]
  },
  {
   "cell_type": "code",
   "execution_count": 11,
   "metadata": {
    "ExecuteTime": {
     "end_time": "2022-07-09T04:54:13.970492Z",
     "start_time": "2022-07-09T04:54:13.957474Z"
    }
   },
   "outputs": [],
   "source": [
    "try :\n",
    "    columns_cat_all.remove(target)\n",
    "    \n",
    "except :\n",
    "    pass"
   ]
  },
  {
   "cell_type": "code",
   "execution_count": 12,
   "metadata": {
    "ExecuteTime": {
     "end_time": "2022-07-09T04:54:13.984825Z",
     "start_time": "2022-07-09T04:54:13.973490Z"
    }
   },
   "outputs": [
    {
     "data": {
      "text/plain": [
       "[]"
      ]
     },
     "execution_count": 12,
     "metadata": {},
     "output_type": "execute_result"
    }
   ],
   "source": [
    "columns_num = []\n",
    "\n",
    "for column in columns_num_all :\n",
    "    \n",
    "    if column not in columns_useless :\n",
    "        columns_num.append(column)\n",
    "        \n",
    "columns_num"
   ]
  },
  {
   "cell_type": "code",
   "execution_count": 13,
   "metadata": {
    "ExecuteTime": {
     "end_time": "2022-07-09T04:54:14.000461Z",
     "start_time": "2022-07-09T04:54:13.986456Z"
    }
   },
   "outputs": [
    {
     "data": {
      "text/plain": [
       "['store', 'item']"
      ]
     },
     "execution_count": 13,
     "metadata": {},
     "output_type": "execute_result"
    }
   ],
   "source": [
    "columns_cat = []\n",
    "\n",
    "for column in columns_cat_all :\n",
    "    \n",
    "    if column not in columns_useless :\n",
    "        columns_cat.append(column)\n",
    "        \n",
    "columns_cat"
   ]
  },
  {
   "cell_type": "code",
   "execution_count": 14,
   "metadata": {
    "ExecuteTime": {
     "end_time": "2022-07-09T04:54:14.016375Z",
     "start_time": "2022-07-09T04:54:14.002413Z"
    }
   },
   "outputs": [
    {
     "data": {
      "text/plain": [
       "[]"
      ]
     },
     "execution_count": 14,
     "metadata": {},
     "output_type": "execute_result"
    }
   ],
   "source": [
    "columns_sc = []\n",
    "\n",
    "for column in columns_num :\n",
    "    \n",
    "    if column not in columns_binary_num:\n",
    "        columns_sc.append(column)\n",
    "        \n",
    "columns_sc"
   ]
  },
  {
   "cell_type": "code",
   "execution_count": 15,
   "metadata": {
    "ExecuteTime": {
     "end_time": "2022-07-09T04:54:14.032375Z",
     "start_time": "2022-07-09T04:54:14.018369Z"
    }
   },
   "outputs": [],
   "source": [
    "# columns_sc.remove('date_block_num')"
   ]
  },
  {
   "cell_type": "code",
   "execution_count": 16,
   "metadata": {
    "ExecuteTime": {
     "end_time": "2022-07-09T04:54:14.048290Z",
     "start_time": "2022-07-09T04:54:14.034327Z"
    }
   },
   "outputs": [
    {
     "data": {
      "text/plain": [
       "['store', 'item']"
      ]
     },
     "execution_count": 16,
     "metadata": {},
     "output_type": "execute_result"
    }
   ],
   "source": [
    "columns_en = []\n",
    "\n",
    "for column in columns_cat :\n",
    "    \n",
    "    if (column not in columns_binary_num) and (column not in columns_binary_cat):\n",
    "        columns_en.append(column)\n",
    "        \n",
    "columns_en"
   ]
  },
  {
   "cell_type": "markdown",
   "metadata": {},
   "source": [
    "# Target 분리"
   ]
  },
  {
   "cell_type": "code",
   "execution_count": 17,
   "metadata": {
    "ExecuteTime": {
     "end_time": "2022-07-09T04:54:14.080204Z",
     "start_time": "2022-07-09T04:54:14.050286Z"
    }
   },
   "outputs": [],
   "source": [
    "y_train = train[target]\n",
    "X_train = train.drop(target, axis=1)\n",
    "X_train_og = X_train.copy()"
   ]
  },
  {
   "cell_type": "code",
   "execution_count": 18,
   "metadata": {
    "ExecuteTime": {
     "end_time": "2022-07-09T04:54:14.096160Z",
     "start_time": "2022-07-09T04:54:14.083197Z"
    }
   },
   "outputs": [],
   "source": [
    "X_test = test.copy()"
   ]
  },
  {
   "cell_type": "markdown",
   "metadata": {},
   "source": [
    "# 전체 dataset concat"
   ]
  },
  {
   "cell_type": "code",
   "execution_count": 19,
   "metadata": {
    "ExecuteTime": {
     "end_time": "2022-07-09T04:54:14.144034Z",
     "start_time": "2022-07-09T04:54:14.098157Z"
    }
   },
   "outputs": [],
   "source": [
    "all_data = pd.concat([X_train, X_test])"
   ]
  },
  {
   "cell_type": "markdown",
   "metadata": {},
   "source": [
    "# Data preprocessing"
   ]
  },
  {
   "cell_type": "code",
   "execution_count": 20,
   "metadata": {
    "ExecuteTime": {
     "end_time": "2022-07-09T04:54:14.159994Z",
     "start_time": "2022-07-09T04:54:14.148060Z"
    }
   },
   "outputs": [],
   "source": [
    "def date_features(data, column):\n",
    "    data['year'] = data[column].dt.year\n",
    "    data['quarter'] = data[column].dt.quarter\n",
    "    data['month'] = data[column].dt.month   # Data preprocessing 때 string으로 변환해야함\n",
    "    data['day'] = data[column].dt.day\n",
    "    data['day_of_week'] = data[column].dt.dayofweek   # Monday = 0, Sunday = 6\n",
    "    data['is_weekend'] = data[column].dt.weekday // 5\n",
    "    \n",
    "    data.drop(column, axis=1, inplace=True)\n",
    "    \n",
    "    date_columns = data.columns[-6:].to_list()\n",
    "    other_columns = data.columns[:-6].to_list()\n",
    "    columns = date_columns + other_columns\n",
    "    \n",
    "    data = data[columns]\n",
    "    \n",
    "    return data"
   ]
  },
  {
   "cell_type": "code",
   "execution_count": 21,
   "metadata": {
    "ExecuteTime": {
     "end_time": "2022-07-09T04:54:14.175948Z",
     "start_time": "2022-07-09T04:54:14.161986Z"
    }
   },
   "outputs": [],
   "source": [
    "def preprocessing(data, X_data_og, columns_useless, columns_sc, columns_binary_cat, columns_en) :\n",
    "    \n",
    "    # datetime 변환\n",
    "    data = date_features(data, 'date')\n",
    "    \n",
    "    columns_num.extend(['year'])\n",
    "    columns_en.extend(['quarter', 'month', 'day', 'day_of_week', 'is_weekend'])\n",
    "    \n",
    "    # useless column 제거\n",
    "    try :\n",
    "        data.drop(columns_useless, axis=1, inplace=True)\n",
    "\n",
    "    except :\n",
    "        pass\n",
    "    \n",
    "    # scaling\n",
    "#     scaler = StandardScaler()\n",
    "#     scaler.fit(X_data_og[columns_sc])\n",
    "#     data[columns_sc] = scaler.transform(data[columns_sc])\n",
    "   \n",
    "    # One-hot-encoding\n",
    "    data = pd.get_dummies(data, columns=columns_en)\n",
    "#     encoder = OneHotEncoder()   # 고윳값을 많이 가진 feature가 있는 경우는 OneHotEncoder를 사용해야 함\n",
    "#     data = encoder.fit_transform(data)\n",
    "    \n",
    "    return data"
   ]
  },
  {
   "cell_type": "code",
   "execution_count": 22,
   "metadata": {
    "ExecuteTime": {
     "end_time": "2022-07-09T04:54:15.568122Z",
     "start_time": "2022-07-09T04:54:14.182931Z"
    }
   },
   "outputs": [],
   "source": [
    "all_data = preprocessing(all_data, X_train_og, columns_useless, columns_sc, columns_binary_cat, columns_en)"
   ]
  },
  {
   "cell_type": "markdown",
   "metadata": {},
   "source": [
    "# Train & test set 분리"
   ]
  },
  {
   "cell_type": "code",
   "execution_count": 23,
   "metadata": {
    "ExecuteTime": {
     "end_time": "2022-07-09T04:54:15.583475Z",
     "start_time": "2022-07-09T04:54:15.572501Z"
    }
   },
   "outputs": [],
   "source": [
    "X_train = all_data[:len(train)]\n",
    "X_test = all_data[len(train):]"
   ]
  },
  {
   "cell_type": "markdown",
   "metadata": {},
   "source": [
    "# Sampling\n",
    "- dataset이 너무 크기 때문에 sampling 진행"
   ]
  },
  {
   "cell_type": "code",
   "execution_count": 24,
   "metadata": {
    "ExecuteTime": {
     "end_time": "2022-07-09T04:54:15.599430Z",
     "start_time": "2022-07-09T04:54:15.586467Z"
    }
   },
   "outputs": [],
   "source": [
    "# train_sp = train.sample(frac=0.01, random_state=30)"
   ]
  },
  {
   "cell_type": "code",
   "execution_count": 25,
   "metadata": {
    "ExecuteTime": {
     "end_time": "2022-07-09T04:54:16.392474Z",
     "start_time": "2022-07-09T04:54:15.602422Z"
    }
   },
   "outputs": [],
   "source": [
    "X_train, X_left, y_train, y_letf = train_test_split(X_train, y_train, train_size=0.1, random_state=30)"
   ]
  },
  {
   "cell_type": "markdown",
   "metadata": {},
   "source": [
    "# Validation set 분리\n",
    "- Train dataset이 너무 커서 cross validation에 너무 오랜 시간이 걸리는 경우\n",
    "- OneHotEncoder를 사용하면 sparse matrix를 return하기 때문에 neural network에서 validation_split를 사용할 수 없는 경우"
   ]
  },
  {
   "cell_type": "code",
   "execution_count": 26,
   "metadata": {
    "ExecuteTime": {
     "end_time": "2022-07-09T04:54:16.470506Z",
     "start_time": "2022-07-09T04:54:16.394472Z"
    }
   },
   "outputs": [],
   "source": [
    "X_train, X_val, y_train, y_val = train_test_split(X_train, y_train, random_state=30)"
   ]
  },
  {
   "cell_type": "code",
   "execution_count": 27,
   "metadata": {
    "ExecuteTime": {
     "end_time": "2022-07-09T04:54:16.486105Z",
     "start_time": "2022-07-09T04:54:16.472460Z"
    }
   },
   "outputs": [
    {
     "data": {
      "text/plain": [
       "((68475, 117), (68475,))"
      ]
     },
     "execution_count": 27,
     "metadata": {},
     "output_type": "execute_result"
    }
   ],
   "source": [
    "X_train.shape, y_train.shape"
   ]
  },
  {
   "cell_type": "code",
   "execution_count": 28,
   "metadata": {
    "ExecuteTime": {
     "end_time": "2022-07-09T04:54:16.501273Z",
     "start_time": "2022-07-09T04:54:16.488111Z"
    }
   },
   "outputs": [
    {
     "data": {
      "text/plain": [
       "((22825, 117), (22825,))"
      ]
     },
     "execution_count": 28,
     "metadata": {},
     "output_type": "execute_result"
    }
   ],
   "source": [
    "X_val.shape, y_val.shape"
   ]
  },
  {
   "cell_type": "markdown",
   "metadata": {},
   "source": [
    "# Grid search"
   ]
  },
  {
   "cell_type": "markdown",
   "metadata": {},
   "source": [
    "## RandomForest"
   ]
  },
  {
   "cell_type": "code",
   "execution_count": 29,
   "metadata": {
    "ExecuteTime": {
     "end_time": "2022-07-09T04:54:16.517030Z",
     "start_time": "2022-07-09T04:54:16.505077Z"
    }
   },
   "outputs": [],
   "source": [
    "model = RandomForestRegressor(n_estimators=100, max_depth=None, n_jobs=-1, random_state=30)"
   ]
  },
  {
   "cell_type": "code",
   "execution_count": 30,
   "metadata": {
    "ExecuteTime": {
     "end_time": "2022-07-09T04:54:16.532986Z",
     "start_time": "2022-07-09T04:54:16.521029Z"
    }
   },
   "outputs": [],
   "source": [
    "param_grid = {\n",
    "    'n_estimators' : [100, 500, 1000],\n",
    "    'max_depth': [3, 6, 9],\n",
    "}"
   ]
  },
  {
   "cell_type": "code",
   "execution_count": 31,
   "metadata": {
    "ExecuteTime": {
     "end_time": "2022-07-09T05:24:20.428788Z",
     "start_time": "2022-07-09T04:54:16.535979Z"
    },
    "scrolled": false
   },
   "outputs": [
    {
     "data": {
      "text/plain": [
       "GridSearchCV(cv=5, estimator=RandomForestRegressor(n_jobs=-1, random_state=30),\n",
       "             param_grid={'max_depth': [3, 6, 9],\n",
       "                         'n_estimators': [100, 500, 1000]},\n",
       "             return_train_score=True, scoring=make_scorer(smape))"
      ]
     },
     "execution_count": 31,
     "metadata": {},
     "output_type": "execute_result"
    }
   ],
   "source": [
    "grid = GridSearchCV(model, param_grid, cv=5, scoring=smape_scorer, return_train_score=True)\n",
    "grid.fit(X_train, y_train)"
   ]
  },
  {
   "cell_type": "code",
   "execution_count": 32,
   "metadata": {
    "ExecuteTime": {
     "end_time": "2022-07-09T05:24:20.508047Z",
     "start_time": "2022-07-09T05:24:20.434773Z"
    }
   },
   "outputs": [
    {
     "data": {
      "text/html": [
       "<div>\n",
       "<style scoped>\n",
       "    .dataframe tbody tr th:only-of-type {\n",
       "        vertical-align: middle;\n",
       "    }\n",
       "\n",
       "    .dataframe tbody tr th {\n",
       "        vertical-align: top;\n",
       "    }\n",
       "\n",
       "    .dataframe thead th {\n",
       "        text-align: right;\n",
       "    }\n",
       "</style>\n",
       "<table border=\"1\" class=\"dataframe\">\n",
       "  <thead>\n",
       "    <tr style=\"text-align: right;\">\n",
       "      <th></th>\n",
       "      <th>params</th>\n",
       "      <th>mean_test_score</th>\n",
       "      <th>mean_train_score</th>\n",
       "      <th>mean_fit_time</th>\n",
       "      <th>mean_score_time</th>\n",
       "    </tr>\n",
       "  </thead>\n",
       "  <tbody>\n",
       "    <tr>\n",
       "      <th>0</th>\n",
       "      <td>{'max_depth': 3, 'n_estimators': 100}</td>\n",
       "      <td>-21.689</td>\n",
       "      <td>-21.655</td>\n",
       "      <td>5.878</td>\n",
       "      <td>0.125</td>\n",
       "    </tr>\n",
       "    <tr>\n",
       "      <th>1</th>\n",
       "      <td>{'max_depth': 3, 'n_estimators': 500}</td>\n",
       "      <td>-21.684</td>\n",
       "      <td>-21.651</td>\n",
       "      <td>19.514</td>\n",
       "      <td>0.239</td>\n",
       "    </tr>\n",
       "    <tr>\n",
       "      <th>2</th>\n",
       "      <td>{'max_depth': 3, 'n_estimators': 1000}</td>\n",
       "      <td>-21.684</td>\n",
       "      <td>-21.652</td>\n",
       "      <td>35.696</td>\n",
       "      <td>0.442</td>\n",
       "    </tr>\n",
       "    <tr>\n",
       "      <th>3</th>\n",
       "      <td>{'max_depth': 6, 'n_estimators': 100}</td>\n",
       "      <td>-20.389</td>\n",
       "      <td>-20.295</td>\n",
       "      <td>7.437</td>\n",
       "      <td>0.130</td>\n",
       "    </tr>\n",
       "    <tr>\n",
       "      <th>4</th>\n",
       "      <td>{'max_depth': 6, 'n_estimators': 500}</td>\n",
       "      <td>-20.391</td>\n",
       "      <td>-20.297</td>\n",
       "      <td>34.303</td>\n",
       "      <td>0.234</td>\n",
       "    </tr>\n",
       "    <tr>\n",
       "      <th>5</th>\n",
       "      <td>{'max_depth': 6, 'n_estimators': 1000}</td>\n",
       "      <td>-20.394</td>\n",
       "      <td>-20.300</td>\n",
       "      <td>66.841</td>\n",
       "      <td>0.327</td>\n",
       "    </tr>\n",
       "    <tr>\n",
       "      <th>6</th>\n",
       "      <td>{'max_depth': 9, 'n_estimators': 100}</td>\n",
       "      <td>-19.069</td>\n",
       "      <td>-18.873</td>\n",
       "      <td>10.441</td>\n",
       "      <td>0.127</td>\n",
       "    </tr>\n",
       "    <tr>\n",
       "      <th>7</th>\n",
       "      <td>{'max_depth': 9, 'n_estimators': 500}</td>\n",
       "      <td>-19.042</td>\n",
       "      <td>-18.849</td>\n",
       "      <td>50.251</td>\n",
       "      <td>0.238</td>\n",
       "    </tr>\n",
       "    <tr>\n",
       "      <th>8</th>\n",
       "      <td>{'max_depth': 9, 'n_estimators': 1000}</td>\n",
       "      <td>-19.041</td>\n",
       "      <td>-18.846</td>\n",
       "      <td>100.145</td>\n",
       "      <td>0.353</td>\n",
       "    </tr>\n",
       "  </tbody>\n",
       "</table>\n",
       "</div>"
      ],
      "text/plain": [
       "                                   params  mean_test_score  mean_train_score  \\\n",
       "0   {'max_depth': 3, 'n_estimators': 100}          -21.689           -21.655   \n",
       "1   {'max_depth': 3, 'n_estimators': 500}          -21.684           -21.651   \n",
       "2  {'max_depth': 3, 'n_estimators': 1000}          -21.684           -21.652   \n",
       "3   {'max_depth': 6, 'n_estimators': 100}          -20.389           -20.295   \n",
       "4   {'max_depth': 6, 'n_estimators': 500}          -20.391           -20.297   \n",
       "5  {'max_depth': 6, 'n_estimators': 1000}          -20.394           -20.300   \n",
       "6   {'max_depth': 9, 'n_estimators': 100}          -19.069           -18.873   \n",
       "7   {'max_depth': 9, 'n_estimators': 500}          -19.042           -18.849   \n",
       "8  {'max_depth': 9, 'n_estimators': 1000}          -19.041           -18.846   \n",
       "\n",
       "   mean_fit_time  mean_score_time  \n",
       "0          5.878            0.125  \n",
       "1         19.514            0.239  \n",
       "2         35.696            0.442  \n",
       "3          7.437            0.130  \n",
       "4         34.303            0.234  \n",
       "5         66.841            0.327  \n",
       "6         10.441            0.127  \n",
       "7         50.251            0.238  \n",
       "8        100.145            0.353  "
      ]
     },
     "metadata": {},
     "output_type": "display_data"
    }
   ],
   "source": [
    "results = round(pd.DataFrame(grid.cv_results_), 3)\n",
    "results = results[['params', 'mean_test_score', 'mean_train_score', 'mean_fit_time', 'mean_score_time']]\n",
    "display(results)"
   ]
  },
  {
   "cell_type": "code",
   "execution_count": 33,
   "metadata": {
    "ExecuteTime": {
     "end_time": "2022-07-09T05:24:20.743027Z",
     "start_time": "2022-07-09T05:24:20.509046Z"
    }
   },
   "outputs": [
    {
     "data": {
      "text/plain": [
       "Text(87.0, 0.5, 'max_depth')"
      ]
     },
     "execution_count": 33,
     "metadata": {},
     "output_type": "execute_result"
    },
    {
     "data": {
      "image/png": "[encoded data removed]",
      "text/plain": [
       "<Figure size 864x720 with 2 Axes>"
      ]
     },
     "metadata": {
      "needs_background": "light"
     },
     "output_type": "display_data"
    }
   ],
   "source": [
    "score = np.array(results.mean_train_score).reshape(len(list(param_grid.values())[1]), len(list(param_grid.values())[0]))\n",
    "\n",
    "fig, ax = plt.subplots(figsize=(12, 10))\n",
    "sns.heatmap(score, xticklabels=list(param_grid.values())[0], yticklabels=list(param_grid.values())[1], \n",
    "            annot=True, fmt='.3f', square=True, cbar=True, cmap='YlOrRd')\n",
    "\n",
    "plt.xlabel(list(param_grid.keys())[0])\n",
    "plt.ylabel(list(param_grid.keys())[1])"
   ]
  },
  {
   "cell_type": "code",
   "execution_count": 34,
   "metadata": {
    "ExecuteTime": {
     "end_time": "2022-07-09T05:24:20.916567Z",
     "start_time": "2022-07-09T05:24:20.744031Z"
    }
   },
   "outputs": [
    {
     "data": {
      "text/plain": [
       "Text(87.0, 0.5, 'max_depth')"
      ]
     },
     "execution_count": 34,
     "metadata": {},
     "output_type": "execute_result"
    },
    {
     "data": {
      "image/png": "[encoded data removed]",
      "text/plain": [
       "<Figure size 864x720 with 2 Axes>"
      ]
     },
     "metadata": {
      "needs_background": "light"
     },
     "output_type": "display_data"
    }
   ],
   "source": [
    "score = np.array(results.mean_test_score).reshape(len(list(param_grid.values())[1]), len(list(param_grid.values())[0]))\n",
    "\n",
    "fig, ax = plt.subplots(figsize=(12, 10))\n",
    "sns.heatmap(score, xticklabels=list(param_grid.values())[0], yticklabels=list(param_grid.values())[1], \n",
    "            annot=True, fmt='.3f', square=True, cbar=True, cmap='YlOrRd')\n",
    "\n",
    "plt.xlabel(list(param_grid.keys())[0])\n",
    "plt.ylabel(list(param_grid.keys())[1])"
   ]
  },
  {
   "cell_type": "code",
   "execution_count": 35,
   "metadata": {
    "ExecuteTime": {
     "end_time": "2022-07-09T05:24:20.932523Z",
     "start_time": "2022-07-09T05:24:20.918561Z"
    },
    "scrolled": true
   },
   "outputs": [
    {
     "name": "stdout",
     "output_type": "stream",
     "text": [
      "best hyperpameter : \n",
      "{'max_depth': 9, 'n_estimators': 1000} \n",
      "\n",
      "best score : -19.041\n"
     ]
    }
   ],
   "source": [
    "print('best hyperpameter : \\n{}' .format(grid.best_params_), '\\n')\n",
    "print(\"best score : {:.3f}\".format(grid.best_score_))"
   ]
  },
  {
   "cell_type": "markdown",
   "metadata": {},
   "source": [
    "## ExtraTrees"
   ]
  },
  {
   "cell_type": "code",
   "execution_count": 36,
   "metadata": {
    "ExecuteTime": {
     "end_time": "2022-07-09T05:24:20.948514Z",
     "start_time": "2022-07-09T05:24:20.934518Z"
    }
   },
   "outputs": [],
   "source": [
    "model = ExtraTreesRegressor(n_estimators=100, max_depth=None, n_jobs=-1, random_state=30)\n",
    "gb = GradientBoostingRegressor(learning_rate=0.1, n_estimators=1000, max_depth=3, random_state=30)"
   ]
  },
  {
   "cell_type": "code",
   "execution_count": 37,
   "metadata": {
    "ExecuteTime": {
     "end_time": "2022-07-09T05:24:20.964520Z",
     "start_time": "2022-07-09T05:24:20.950510Z"
    }
   },
   "outputs": [],
   "source": [
    "param_grid = {\n",
    "    'n_estimators' : [100, 500, 1000],\n",
    "    'max_depth': [3, 6, 9],\n",
    "}"
   ]
  },
  {
   "cell_type": "code",
   "execution_count": 38,
   "metadata": {
    "ExecuteTime": {
     "end_time": "2022-07-09T06:01:52.509907Z",
     "start_time": "2022-07-09T05:24:20.969511Z"
    }
   },
   "outputs": [
    {
     "data": {
      "text/plain": [
       "GridSearchCV(cv=5, estimator=ExtraTreesRegressor(n_jobs=-1, random_state=30),\n",
       "             param_grid={'max_depth': [3, 6, 9],\n",
       "                         'n_estimators': [100, 500, 1000]},\n",
       "             return_train_score=True, scoring=make_scorer(smape))"
      ]
     },
     "execution_count": 38,
     "metadata": {},
     "output_type": "execute_result"
    }
   ],
   "source": [
    "grid = GridSearchCV(model, param_grid, cv=5, scoring=smape_scorer, return_train_score=True)\n",
    "grid.fit(X_train, y_train)"
   ]
  },
  {
   "cell_type": "code",
   "execution_count": 39,
   "metadata": {
    "ExecuteTime": {
     "end_time": "2022-07-09T06:01:52.557068Z",
     "start_time": "2022-07-09T06:01:52.513851Z"
    }
   },
   "outputs": [
    {
     "data": {
      "text/html": [
       "<div>\n",
       "<style scoped>\n",
       "    .dataframe tbody tr th:only-of-type {\n",
       "        vertical-align: middle;\n",
       "    }\n",
       "\n",
       "    .dataframe tbody tr th {\n",
       "        vertical-align: top;\n",
       "    }\n",
       "\n",
       "    .dataframe thead th {\n",
       "        text-align: right;\n",
       "    }\n",
       "</style>\n",
       "<table border=\"1\" class=\"dataframe\">\n",
       "  <thead>\n",
       "    <tr style=\"text-align: right;\">\n",
       "      <th></th>\n",
       "      <th>params</th>\n",
       "      <th>mean_test_score</th>\n",
       "      <th>mean_train_score</th>\n",
       "      <th>mean_fit_time</th>\n",
       "      <th>mean_score_time</th>\n",
       "    </tr>\n",
       "  </thead>\n",
       "  <tbody>\n",
       "    <tr>\n",
       "      <th>0</th>\n",
       "      <td>{'max_depth': 3, 'n_estimators': 100}</td>\n",
       "      <td>-21.906</td>\n",
       "      <td>-21.860</td>\n",
       "      <td>4.785</td>\n",
       "      <td>0.124</td>\n",
       "    </tr>\n",
       "    <tr>\n",
       "      <th>1</th>\n",
       "      <td>{'max_depth': 3, 'n_estimators': 500}</td>\n",
       "      <td>-21.906</td>\n",
       "      <td>-21.860</td>\n",
       "      <td>22.139</td>\n",
       "      <td>0.242</td>\n",
       "    </tr>\n",
       "    <tr>\n",
       "      <th>2</th>\n",
       "      <td>{'max_depth': 3, 'n_estimators': 1000}</td>\n",
       "      <td>-21.906</td>\n",
       "      <td>-21.860</td>\n",
       "      <td>44.164</td>\n",
       "      <td>0.381</td>\n",
       "    </tr>\n",
       "    <tr>\n",
       "      <th>3</th>\n",
       "      <td>{'max_depth': 6, 'n_estimators': 100}</td>\n",
       "      <td>-20.804</td>\n",
       "      <td>-20.683</td>\n",
       "      <td>9.614</td>\n",
       "      <td>0.134</td>\n",
       "    </tr>\n",
       "    <tr>\n",
       "      <th>4</th>\n",
       "      <td>{'max_depth': 6, 'n_estimators': 500}</td>\n",
       "      <td>-20.804</td>\n",
       "      <td>-20.683</td>\n",
       "      <td>44.589</td>\n",
       "      <td>0.239</td>\n",
       "    </tr>\n",
       "    <tr>\n",
       "      <th>5</th>\n",
       "      <td>{'max_depth': 6, 'n_estimators': 1000}</td>\n",
       "      <td>-20.804</td>\n",
       "      <td>-20.683</td>\n",
       "      <td>88.353</td>\n",
       "      <td>0.366</td>\n",
       "    </tr>\n",
       "    <tr>\n",
       "      <th>6</th>\n",
       "      <td>{'max_depth': 9, 'n_estimators': 100}</td>\n",
       "      <td>-19.610</td>\n",
       "      <td>-19.341</td>\n",
       "      <td>13.680</td>\n",
       "      <td>0.125</td>\n",
       "    </tr>\n",
       "    <tr>\n",
       "      <th>7</th>\n",
       "      <td>{'max_depth': 9, 'n_estimators': 500}</td>\n",
       "      <td>-19.609</td>\n",
       "      <td>-19.340</td>\n",
       "      <td>67.217</td>\n",
       "      <td>0.237</td>\n",
       "    </tr>\n",
       "    <tr>\n",
       "      <th>8</th>\n",
       "      <td>{'max_depth': 9, 'n_estimators': 1000}</td>\n",
       "      <td>-19.609</td>\n",
       "      <td>-19.340</td>\n",
       "      <td>134.007</td>\n",
       "      <td>0.345</td>\n",
       "    </tr>\n",
       "  </tbody>\n",
       "</table>\n",
       "</div>"
      ],
      "text/plain": [
       "                                   params  mean_test_score  mean_train_score  \\\n",
       "0   {'max_depth': 3, 'n_estimators': 100}          -21.906           -21.860   \n",
       "1   {'max_depth': 3, 'n_estimators': 500}          -21.906           -21.860   \n",
       "2  {'max_depth': 3, 'n_estimators': 1000}          -21.906           -21.860   \n",
       "3   {'max_depth': 6, 'n_estimators': 100}          -20.804           -20.683   \n",
       "4   {'max_depth': 6, 'n_estimators': 500}          -20.804           -20.683   \n",
       "5  {'max_depth': 6, 'n_estimators': 1000}          -20.804           -20.683   \n",
       "6   {'max_depth': 9, 'n_estimators': 100}          -19.610           -19.341   \n",
       "7   {'max_depth': 9, 'n_estimators': 500}          -19.609           -19.340   \n",
       "8  {'max_depth': 9, 'n_estimators': 1000}          -19.609           -19.340   \n",
       "\n",
       "   mean_fit_time  mean_score_time  \n",
       "0          4.785            0.124  \n",
       "1         22.139            0.242  \n",
       "2         44.164            0.381  \n",
       "3          9.614            0.134  \n",
       "4         44.589            0.239  \n",
       "5         88.353            0.366  \n",
       "6         13.680            0.125  \n",
       "7         67.217            0.237  \n",
       "8        134.007            0.345  "
      ]
     },
     "metadata": {},
     "output_type": "display_data"
    }
   ],
   "source": [
    "results = round(pd.DataFrame(grid.cv_results_), 3)\n",
    "results = results[['params', 'mean_test_score', 'mean_train_score', 'mean_fit_time', 'mean_score_time']]\n",
    "display(results)"
   ]
  },
  {
   "cell_type": "code",
   "execution_count": 40,
   "metadata": {
    "ExecuteTime": {
     "end_time": "2022-07-09T06:01:52.747752Z",
     "start_time": "2022-07-09T06:01:52.559066Z"
    }
   },
   "outputs": [
    {
     "data": {
      "text/plain": [
       "Text(87.0, 0.5, 'max_depth')"
      ]
     },
     "execution_count": 40,
     "metadata": {},
     "output_type": "execute_result"
    },
    {
     "data": {
      "image/png": "[encoded data removed]",
      "text/plain": [
       "<Figure size 864x720 with 2 Axes>"
      ]
     },
     "metadata": {
      "needs_background": "light"
     },
     "output_type": "display_data"
    }
   ],
   "source": [
    "score = np.array(results.mean_train_score).reshape(len(list(param_grid.values())[1]), len(list(param_grid.values())[0]))\n",
    "\n",
    "fig, ax = plt.subplots(figsize=(12, 10))\n",
    "sns.heatmap(score, xticklabels=list(param_grid.values())[0], yticklabels=list(param_grid.values())[1], \n",
    "            annot=True, fmt='.3f', square=True, cbar=True, cmap='YlOrRd')\n",
    "\n",
    "plt.xlabel(list(param_grid.keys())[0])\n",
    "plt.ylabel(list(param_grid.keys())[1])"
   ]
  },
  {
   "cell_type": "code",
   "execution_count": 41,
   "metadata": {
    "ExecuteTime": {
     "end_time": "2022-07-09T06:01:52.934220Z",
     "start_time": "2022-07-09T06:01:52.751693Z"
    }
   },
   "outputs": [
    {
     "data": {
      "text/plain": [
       "Text(87.0, 0.5, 'max_depth')"
      ]
     },
     "execution_count": 41,
     "metadata": {},
     "output_type": "execute_result"
    },
    {
     "data": {
      "image/png": "[encoded data removed]",
      "text/plain": [
       "<Figure size 864x720 with 2 Axes>"
      ]
     },
     "metadata": {
      "needs_background": "light"
     },
     "output_type": "display_data"
    }
   ],
   "source": [
    "score = np.array(results.mean_test_score).reshape(len(list(param_grid.values())[1]), len(list(param_grid.values())[0]))\n",
    "\n",
    "fig, ax = plt.subplots(figsize=(12, 10))\n",
    "sns.heatmap(score, xticklabels=list(param_grid.values())[0], yticklabels=list(param_grid.values())[1], \n",
    "            annot=True, fmt='.3f', square=True, cbar=True, cmap='YlOrRd')\n",
    "\n",
    "plt.xlabel(list(param_grid.keys())[0])\n",
    "plt.ylabel(list(param_grid.keys())[1])"
   ]
  },
  {
   "cell_type": "code",
   "execution_count": 42,
   "metadata": {
    "ExecuteTime": {
     "end_time": "2022-07-09T06:01:52.950435Z",
     "start_time": "2022-07-09T06:01:52.937212Z"
    },
    "scrolled": true
   },
   "outputs": [
    {
     "name": "stdout",
     "output_type": "stream",
     "text": [
      "best hyperpameter : \n",
      "{'max_depth': 9, 'n_estimators': 500} \n",
      "\n",
      "best score : -19.609\n"
     ]
    }
   ],
   "source": [
    "print('best hyperpameter : \\n{}' .format(grid.best_params_), '\\n')\n",
    "print(\"best score : {:.3f}\".format(grid.best_score_))"
   ]
  },
  {
   "cell_type": "markdown",
   "metadata": {},
   "source": [
    "## GradientBoosting"
   ]
  },
  {
   "cell_type": "code",
   "execution_count": 43,
   "metadata": {
    "ExecuteTime": {
     "end_time": "2022-07-09T06:01:52.966171Z",
     "start_time": "2022-07-09T06:01:52.953170Z"
    }
   },
   "outputs": [],
   "source": [
    "model = GradientBoostingRegressor(learning_rate=0.1, n_estimators=1000, max_depth=3, random_state=30)"
   ]
  },
  {
   "cell_type": "code",
   "execution_count": 46,
   "metadata": {
    "ExecuteTime": {
     "end_time": "2022-07-09T06:08:42.108304Z",
     "start_time": "2022-07-09T06:08:42.099357Z"
    }
   },
   "outputs": [],
   "source": [
    "param_grid = {\n",
    "    'n_estimators' : [100, 500, 1000],\n",
    "    'max_features': [0.3, 0.6, 0.9],\n",
    "}"
   ]
  },
  {
   "cell_type": "code",
   "execution_count": 47,
   "metadata": {
    "ExecuteTime": {
     "end_time": "2022-07-09T06:42:24.127349Z",
     "start_time": "2022-07-09T06:08:43.138613Z"
    },
    "scrolled": false
   },
   "outputs": [
    {
     "data": {
      "text/plain": [
       "GridSearchCV(cv=5,\n",
       "             estimator=GradientBoostingRegressor(n_estimators=1000,\n",
       "                                                 random_state=30),\n",
       "             param_grid={'max_features': [0.3, 0.6, 0.9],\n",
       "                         'n_estimators': [100, 500, 1000]},\n",
       "             return_train_score=True, scoring=make_scorer(smape))"
      ]
     },
     "execution_count": 47,
     "metadata": {},
     "output_type": "execute_result"
    }
   ],
   "source": [
    "grid = GridSearchCV(model, param_grid, cv=5, scoring=smape_scorer, return_train_score=True)\n",
    "grid.fit(X_train, y_train)"
   ]
  },
  {
   "cell_type": "code",
   "execution_count": 48,
   "metadata": {
    "ExecuteTime": {
     "end_time": "2022-07-09T06:42:24.597422Z",
     "start_time": "2022-07-09T06:42:24.568459Z"
    }
   },
   "outputs": [
    {
     "data": {
      "text/html": [
       "<div>\n",
       "<style scoped>\n",
       "    .dataframe tbody tr th:only-of-type {\n",
       "        vertical-align: middle;\n",
       "    }\n",
       "\n",
       "    .dataframe tbody tr th {\n",
       "        vertical-align: top;\n",
       "    }\n",
       "\n",
       "    .dataframe thead th {\n",
       "        text-align: right;\n",
       "    }\n",
       "</style>\n",
       "<table border=\"1\" class=\"dataframe\">\n",
       "  <thead>\n",
       "    <tr style=\"text-align: right;\">\n",
       "      <th></th>\n",
       "      <th>params</th>\n",
       "      <th>mean_test_score</th>\n",
       "      <th>mean_train_score</th>\n",
       "      <th>mean_fit_time</th>\n",
       "      <th>mean_score_time</th>\n",
       "    </tr>\n",
       "  </thead>\n",
       "  <tbody>\n",
       "    <tr>\n",
       "      <th>0</th>\n",
       "      <td>{'max_features': 0.3, 'n_estimators': 100}</td>\n",
       "      <td>-13.642</td>\n",
       "      <td>-13.578</td>\n",
       "      <td>10.697</td>\n",
       "      <td>0.129</td>\n",
       "    </tr>\n",
       "    <tr>\n",
       "      <th>1</th>\n",
       "      <td>{'max_features': 0.3, 'n_estimators': 500}</td>\n",
       "      <td>-9.085</td>\n",
       "      <td>-8.957</td>\n",
       "      <td>19.846</td>\n",
       "      <td>0.131</td>\n",
       "    </tr>\n",
       "    <tr>\n",
       "      <th>2</th>\n",
       "      <td>{'max_features': 0.3, 'n_estimators': 1000}</td>\n",
       "      <td>-8.896</td>\n",
       "      <td>-8.669</td>\n",
       "      <td>39.352</td>\n",
       "      <td>0.260</td>\n",
       "    </tr>\n",
       "    <tr>\n",
       "      <th>3</th>\n",
       "      <td>{'max_features': 0.6, 'n_estimators': 100}</td>\n",
       "      <td>-13.491</td>\n",
       "      <td>-13.429</td>\n",
       "      <td>7.645</td>\n",
       "      <td>0.039</td>\n",
       "    </tr>\n",
       "    <tr>\n",
       "      <th>4</th>\n",
       "      <td>{'max_features': 0.6, 'n_estimators': 500}</td>\n",
       "      <td>-9.061</td>\n",
       "      <td>-8.906</td>\n",
       "      <td>37.514</td>\n",
       "      <td>0.132</td>\n",
       "    </tr>\n",
       "    <tr>\n",
       "      <th>5</th>\n",
       "      <td>{'max_features': 0.6, 'n_estimators': 1000}</td>\n",
       "      <td>-8.818</td>\n",
       "      <td>-8.556</td>\n",
       "      <td>75.037</td>\n",
       "      <td>0.263</td>\n",
       "    </tr>\n",
       "    <tr>\n",
       "      <th>6</th>\n",
       "      <td>{'max_features': 0.9, 'n_estimators': 100}</td>\n",
       "      <td>-13.450</td>\n",
       "      <td>-13.379</td>\n",
       "      <td>11.191</td>\n",
       "      <td>0.039</td>\n",
       "    </tr>\n",
       "    <tr>\n",
       "      <th>7</th>\n",
       "      <td>{'max_features': 0.9, 'n_estimators': 500}</td>\n",
       "      <td>-9.057</td>\n",
       "      <td>-8.897</td>\n",
       "      <td>55.139</td>\n",
       "      <td>0.131</td>\n",
       "    </tr>\n",
       "    <tr>\n",
       "      <th>8</th>\n",
       "      <td>{'max_features': 0.9, 'n_estimators': 1000}</td>\n",
       "      <td>-8.810</td>\n",
       "      <td>-8.545</td>\n",
       "      <td>110.168</td>\n",
       "      <td>0.264</td>\n",
       "    </tr>\n",
       "  </tbody>\n",
       "</table>\n",
       "</div>"
      ],
      "text/plain": [
       "                                        params  mean_test_score  \\\n",
       "0   {'max_features': 0.3, 'n_estimators': 100}          -13.642   \n",
       "1   {'max_features': 0.3, 'n_estimators': 500}           -9.085   \n",
       "2  {'max_features': 0.3, 'n_estimators': 1000}           -8.896   \n",
       "3   {'max_features': 0.6, 'n_estimators': 100}          -13.491   \n",
       "4   {'max_features': 0.6, 'n_estimators': 500}           -9.061   \n",
       "5  {'max_features': 0.6, 'n_estimators': 1000}           -8.818   \n",
       "6   {'max_features': 0.9, 'n_estimators': 100}          -13.450   \n",
       "7   {'max_features': 0.9, 'n_estimators': 500}           -9.057   \n",
       "8  {'max_features': 0.9, 'n_estimators': 1000}           -8.810   \n",
       "\n",
       "   mean_train_score  mean_fit_time  mean_score_time  \n",
       "0           -13.578         10.697            0.129  \n",
       "1            -8.957         19.846            0.131  \n",
       "2            -8.669         39.352            0.260  \n",
       "3           -13.429          7.645            0.039  \n",
       "4            -8.906         37.514            0.132  \n",
       "5            -8.556         75.037            0.263  \n",
       "6           -13.379         11.191            0.039  \n",
       "7            -8.897         55.139            0.131  \n",
       "8            -8.545        110.168            0.264  "
      ]
     },
     "metadata": {},
     "output_type": "display_data"
    }
   ],
   "source": [
    "results = round(pd.DataFrame(grid.cv_results_), 3)\n",
    "results = results[['params', 'mean_test_score', 'mean_train_score', 'mean_fit_time', 'mean_score_time']]\n",
    "display(results)"
   ]
  },
  {
   "cell_type": "code",
   "execution_count": 49,
   "metadata": {
    "ExecuteTime": {
     "end_time": "2022-07-09T06:42:25.209686Z",
     "start_time": "2022-07-09T06:42:25.042410Z"
    }
   },
   "outputs": [
    {
     "data": {
      "text/plain": [
       "Text(87.0, 0.5, 'max_features')"
      ]
     },
     "execution_count": 49,
     "metadata": {},
     "output_type": "execute_result"
    },
    {
     "data": {
      "image/png": "[encoded data removed]",
      "text/plain": [
       "<Figure size 864x720 with 2 Axes>"
      ]
     },
     "metadata": {
      "needs_background": "light"
     },
     "output_type": "display_data"
    }
   ],
   "source": [
    "score = np.array(results.mean_train_score).reshape(len(list(param_grid.values())[1]), len(list(param_grid.values())[0]))\n",
    "\n",
    "fig, ax = plt.subplots(figsize=(12, 10))\n",
    "sns.heatmap(score, xticklabels=list(param_grid.values())[0], yticklabels=list(param_grid.values())[1], \n",
    "            annot=True, fmt='.3f', square=True, cbar=True, cmap='YlOrRd')\n",
    "\n",
    "plt.xlabel(list(param_grid.keys())[0])\n",
    "plt.ylabel(list(param_grid.keys())[1])"
   ]
  },
  {
   "cell_type": "code",
   "execution_count": 50,
   "metadata": {
    "ExecuteTime": {
     "end_time": "2022-07-09T06:42:25.824186Z",
     "start_time": "2022-07-09T06:42:25.653173Z"
    }
   },
   "outputs": [
    {
     "data": {
      "text/plain": [
       "Text(87.0, 0.5, 'max_features')"
      ]
     },
     "execution_count": 50,
     "metadata": {},
     "output_type": "execute_result"
    },
    {
     "data": {
      "image/png": "[encoded data removed]",
      "text/plain": [
       "<Figure size 864x720 with 2 Axes>"
      ]
     },
     "metadata": {
      "needs_background": "light"
     },
     "output_type": "display_data"
    }
   ],
   "source": [
    "score = np.array(results.mean_test_score).reshape(len(list(param_grid.values())[1]), len(list(param_grid.values())[0]))\n",
    "\n",
    "fig, ax = plt.subplots(figsize=(12, 10))\n",
    "sns.heatmap(score, xticklabels=list(param_grid.values())[0], yticklabels=list(param_grid.values())[1], \n",
    "            annot=True, fmt='.3f', square=True, cbar=True, cmap='YlOrRd')\n",
    "\n",
    "plt.xlabel(list(param_grid.keys())[0])\n",
    "plt.ylabel(list(param_grid.keys())[1])"
   ]
  },
  {
   "cell_type": "code",
   "execution_count": 51,
   "metadata": {
    "ExecuteTime": {
     "end_time": "2022-07-09T06:42:26.284242Z",
     "start_time": "2022-07-09T06:42:26.274305Z"
    },
    "scrolled": true
   },
   "outputs": [
    {
     "name": "stdout",
     "output_type": "stream",
     "text": [
      "best hyperpameter : \n",
      "{'max_features': 0.9, 'n_estimators': 1000} \n",
      "\n",
      "best score : -8.810\n"
     ]
    }
   ],
   "source": [
    "print('best hyperpameter : \\n{}' .format(grid.best_params_), '\\n')\n",
    "print(\"best score : {:.3f}\".format(grid.best_score_))"
   ]
  }
 ],
 "metadata": {
  "hide_input": false,
  "kernelspec": {
   "display_name": "Python 3",
   "language": "python",
   "name": "python3"
  },
  "language_info": {
   "codemirror_mode": {
    "name": "ipython",
    "version": 3
   },
   "file_extension": ".py",
   "mimetype": "text/x-python",
   "name": "python",
   "nbconvert_exporter": "python",
   "pygments_lexer": "ipython3",
   "version": "3.7.1"
  },
  "toc": {
   "base_numbering": 1,
   "nav_menu": {},
   "number_sections": true,
   "sideBar": true,
   "skip_h1_title": false,
   "title_cell": "Table of Contents",
   "title_sidebar": "Contents",
   "toc_cell": false,
   "toc_position": {
    "height": "calc(100% - 180px)",
    "left": "10px",
    "top": "150px",
    "width": "303.825px"
   },
   "toc_section_display": true,
   "toc_window_display": true
  },
  "varInspector": {
   "cols": {
    "lenName": 16,
    "lenType": 16,
    "lenVar": 40
   },
   "kernels_config": {
    "python": {
     "delete_cmd_postfix": "",
     "delete_cmd_prefix": "del ",
     "library": "var_list.py",
     "varRefreshCmd": "print(var_dic_list())"
    },
    "r": {
     "delete_cmd_postfix": ") ",
     "delete_cmd_prefix": "rm(",
     "library": "var_list.r",
     "varRefreshCmd": "cat(var_dic_list()) "
    }
   },
   "types_to_exclude": [
    "module",
    "function",
    "builtin_function_or_method",
    "instance",
    "_Feature"
   ],
   "window_display": false
  }
 },
 "nbformat": 4,
 "nbformat_minor": 4
}

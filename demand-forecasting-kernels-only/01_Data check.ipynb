{
 "cells": [
  {
   "cell_type": "code",
   "execution_count": 1,
   "metadata": {
    "ExecuteTime": {
     "end_time": "2022-04-25T12:13:04.626220Z",
     "start_time": "2022-04-25T12:13:00.591543Z"
    }
   },
   "outputs": [],
   "source": [
    "import numpy as np\n",
    "from scipy import stats\n",
    "import pandas as pd\n",
    "import matplotlib.pyplot as plt\n",
    "import seaborn as sns\n",
    "\n",
    "sns.set()\n",
    "\n",
    "import os\n",
    "\n",
    "import warnings\n",
    "warnings.filterwarnings('ignore')"
   ]
  },
  {
   "cell_type": "code",
   "execution_count": 2,
   "metadata": {
    "ExecuteTime": {
     "end_time": "2022-04-25T12:13:04.657652Z",
     "start_time": "2022-04-25T12:13:04.633206Z"
    }
   },
   "outputs": [],
   "source": [
    "import platform, matplotlib\n",
    "from matplotlib import rc\n",
    "\n",
    "# '-' 기호 제대로 보이기\n",
    "matplotlib.rcParams['axes.unicode_minus'] = False\n",
    "\n",
    "# 윈도우\n",
    "if platform.system() == 'Windows':\n",
    "    rc('font', family=\"Malgun Gothic\")\n",
    "# 맥\n",
    "elif platform.system() == 'Darwin':\n",
    "    rc('font', family='AppleGothic')\n",
    "# 리눅스\n",
    "elif platform.system() == 'Linux':\n",
    "    rc('font', family='NanumBarunGothic')"
   ]
  },
  {
   "cell_type": "code",
   "execution_count": 3,
   "metadata": {
    "ExecuteTime": {
     "end_time": "2022-04-25T12:13:04.934871Z",
     "start_time": "2022-04-25T12:13:04.667734Z"
    }
   },
   "outputs": [],
   "source": [
    "import joblib"
   ]
  },
  {
   "cell_type": "code",
   "execution_count": 4,
   "metadata": {
    "ExecuteTime": {
     "end_time": "2022-04-25T12:13:05.012842Z",
     "start_time": "2022-04-25T12:13:04.940922Z"
    }
   },
   "outputs": [],
   "source": [
    "import math\n",
    "import re\n",
    "from wordcloud import WordCloud"
   ]
  },
  {
   "cell_type": "markdown",
   "metadata": {},
   "source": [
    "# Data check"
   ]
  },
  {
   "cell_type": "markdown",
   "metadata": {},
   "source": [
    "## Shape"
   ]
  },
  {
   "cell_type": "code",
   "execution_count": 5,
   "metadata": {
    "ExecuteTime": {
     "end_time": "2022-04-25T12:13:05.696565Z",
     "start_time": "2022-04-25T12:13:05.016708Z"
    },
    "scrolled": true
   },
   "outputs": [
    {
     "name": "stdout",
     "output_type": "stream",
     "text": [
      "(913000, 4)\n",
      "(45000, 4)\n"
     ]
    }
   ],
   "source": [
    "train = pd.read_csv('train.csv')\n",
    "test = pd.read_csv('test.csv')\n",
    "\n",
    "print(train.shape)\n",
    "print(test.shape)"
   ]
  },
  {
   "cell_type": "code",
   "execution_count": 6,
   "metadata": {
    "ExecuteTime": {
     "end_time": "2022-04-25T12:13:05.743773Z",
     "start_time": "2022-04-25T12:13:05.701618Z"
    }
   },
   "outputs": [
    {
     "data": {
      "text/html": [
       "<div>\n",
       "<style scoped>\n",
       "    .dataframe tbody tr th:only-of-type {\n",
       "        vertical-align: middle;\n",
       "    }\n",
       "\n",
       "    .dataframe tbody tr th {\n",
       "        vertical-align: top;\n",
       "    }\n",
       "\n",
       "    .dataframe thead th {\n",
       "        text-align: right;\n",
       "    }\n",
       "</style>\n",
       "<table border=\"1\" class=\"dataframe\">\n",
       "  <thead>\n",
       "    <tr style=\"text-align: right;\">\n",
       "      <th></th>\n",
       "      <th>date</th>\n",
       "      <th>store</th>\n",
       "      <th>item</th>\n",
       "      <th>sales</th>\n",
       "    </tr>\n",
       "  </thead>\n",
       "  <tbody>\n",
       "    <tr>\n",
       "      <th>0</th>\n",
       "      <td>2013-01-01</td>\n",
       "      <td>1</td>\n",
       "      <td>1</td>\n",
       "      <td>13</td>\n",
       "    </tr>\n",
       "    <tr>\n",
       "      <th>1</th>\n",
       "      <td>2013-01-02</td>\n",
       "      <td>1</td>\n",
       "      <td>1</td>\n",
       "      <td>11</td>\n",
       "    </tr>\n",
       "    <tr>\n",
       "      <th>2</th>\n",
       "      <td>2013-01-03</td>\n",
       "      <td>1</td>\n",
       "      <td>1</td>\n",
       "      <td>14</td>\n",
       "    </tr>\n",
       "    <tr>\n",
       "      <th>3</th>\n",
       "      <td>2013-01-04</td>\n",
       "      <td>1</td>\n",
       "      <td>1</td>\n",
       "      <td>13</td>\n",
       "    </tr>\n",
       "    <tr>\n",
       "      <th>4</th>\n",
       "      <td>2013-01-05</td>\n",
       "      <td>1</td>\n",
       "      <td>1</td>\n",
       "      <td>10</td>\n",
       "    </tr>\n",
       "  </tbody>\n",
       "</table>\n",
       "</div>"
      ],
      "text/plain": [
       "         date  store  item  sales\n",
       "0  2013-01-01      1     1     13\n",
       "1  2013-01-02      1     1     11\n",
       "2  2013-01-03      1     1     14\n",
       "3  2013-01-04      1     1     13\n",
       "4  2013-01-05      1     1     10"
      ]
     },
     "execution_count": 6,
     "metadata": {},
     "output_type": "execute_result"
    }
   ],
   "source": [
    "train.head()"
   ]
  },
  {
   "cell_type": "code",
   "execution_count": 7,
   "metadata": {
    "ExecuteTime": {
     "end_time": "2022-04-25T12:13:05.790479Z",
     "start_time": "2022-04-25T12:13:05.748542Z"
    }
   },
   "outputs": [
    {
     "data": {
      "text/html": [
       "<div>\n",
       "<style scoped>\n",
       "    .dataframe tbody tr th:only-of-type {\n",
       "        vertical-align: middle;\n",
       "    }\n",
       "\n",
       "    .dataframe tbody tr th {\n",
       "        vertical-align: top;\n",
       "    }\n",
       "\n",
       "    .dataframe thead th {\n",
       "        text-align: right;\n",
       "    }\n",
       "</style>\n",
       "<table border=\"1\" class=\"dataframe\">\n",
       "  <thead>\n",
       "    <tr style=\"text-align: right;\">\n",
       "      <th></th>\n",
       "      <th>0</th>\n",
       "      <th>1</th>\n",
       "      <th>2</th>\n",
       "      <th>3</th>\n",
       "      <th>4</th>\n",
       "    </tr>\n",
       "  </thead>\n",
       "  <tbody>\n",
       "    <tr>\n",
       "      <th>date</th>\n",
       "      <td>2013-01-01</td>\n",
       "      <td>2013-01-02</td>\n",
       "      <td>2013-01-03</td>\n",
       "      <td>2013-01-04</td>\n",
       "      <td>2013-01-05</td>\n",
       "    </tr>\n",
       "    <tr>\n",
       "      <th>store</th>\n",
       "      <td>1</td>\n",
       "      <td>1</td>\n",
       "      <td>1</td>\n",
       "      <td>1</td>\n",
       "      <td>1</td>\n",
       "    </tr>\n",
       "    <tr>\n",
       "      <th>item</th>\n",
       "      <td>1</td>\n",
       "      <td>1</td>\n",
       "      <td>1</td>\n",
       "      <td>1</td>\n",
       "      <td>1</td>\n",
       "    </tr>\n",
       "    <tr>\n",
       "      <th>sales</th>\n",
       "      <td>13</td>\n",
       "      <td>11</td>\n",
       "      <td>14</td>\n",
       "      <td>13</td>\n",
       "      <td>10</td>\n",
       "    </tr>\n",
       "  </tbody>\n",
       "</table>\n",
       "</div>"
      ],
      "text/plain": [
       "                0           1           2           3           4\n",
       "date   2013-01-01  2013-01-02  2013-01-03  2013-01-04  2013-01-05\n",
       "store           1           1           1           1           1\n",
       "item            1           1           1           1           1\n",
       "sales          13          11          14          13          10"
      ]
     },
     "execution_count": 7,
     "metadata": {},
     "output_type": "execute_result"
    }
   ],
   "source": [
    "train.head().T"
   ]
  },
  {
   "cell_type": "code",
   "execution_count": 8,
   "metadata": {
    "ExecuteTime": {
     "end_time": "2022-04-25T12:13:05.822438Z",
     "start_time": "2022-04-25T12:13:05.794456Z"
    }
   },
   "outputs": [
    {
     "data": {
      "text/html": [
       "<div>\n",
       "<style scoped>\n",
       "    .dataframe tbody tr th:only-of-type {\n",
       "        vertical-align: middle;\n",
       "    }\n",
       "\n",
       "    .dataframe tbody tr th {\n",
       "        vertical-align: top;\n",
       "    }\n",
       "\n",
       "    .dataframe thead th {\n",
       "        text-align: right;\n",
       "    }\n",
       "</style>\n",
       "<table border=\"1\" class=\"dataframe\">\n",
       "  <thead>\n",
       "    <tr style=\"text-align: right;\">\n",
       "      <th></th>\n",
       "      <th>id</th>\n",
       "      <th>date</th>\n",
       "      <th>store</th>\n",
       "      <th>item</th>\n",
       "    </tr>\n",
       "  </thead>\n",
       "  <tbody>\n",
       "    <tr>\n",
       "      <th>0</th>\n",
       "      <td>0</td>\n",
       "      <td>2018-01-01</td>\n",
       "      <td>1</td>\n",
       "      <td>1</td>\n",
       "    </tr>\n",
       "    <tr>\n",
       "      <th>1</th>\n",
       "      <td>1</td>\n",
       "      <td>2018-01-02</td>\n",
       "      <td>1</td>\n",
       "      <td>1</td>\n",
       "    </tr>\n",
       "    <tr>\n",
       "      <th>2</th>\n",
       "      <td>2</td>\n",
       "      <td>2018-01-03</td>\n",
       "      <td>1</td>\n",
       "      <td>1</td>\n",
       "    </tr>\n",
       "    <tr>\n",
       "      <th>3</th>\n",
       "      <td>3</td>\n",
       "      <td>2018-01-04</td>\n",
       "      <td>1</td>\n",
       "      <td>1</td>\n",
       "    </tr>\n",
       "    <tr>\n",
       "      <th>4</th>\n",
       "      <td>4</td>\n",
       "      <td>2018-01-05</td>\n",
       "      <td>1</td>\n",
       "      <td>1</td>\n",
       "    </tr>\n",
       "  </tbody>\n",
       "</table>\n",
       "</div>"
      ],
      "text/plain": [
       "   id        date  store  item\n",
       "0   0  2018-01-01      1     1\n",
       "1   1  2018-01-02      1     1\n",
       "2   2  2018-01-03      1     1\n",
       "3   3  2018-01-04      1     1\n",
       "4   4  2018-01-05      1     1"
      ]
     },
     "execution_count": 8,
     "metadata": {},
     "output_type": "execute_result"
    }
   ],
   "source": [
    "test.head()"
   ]
  },
  {
   "cell_type": "markdown",
   "metadata": {},
   "source": [
    "## Info"
   ]
  },
  {
   "cell_type": "code",
   "execution_count": 9,
   "metadata": {
    "ExecuteTime": {
     "end_time": "2022-04-25T12:13:05.853859Z",
     "start_time": "2022-04-25T12:13:05.834309Z"
    }
   },
   "outputs": [],
   "source": [
    "def data_summary(data):\n",
    "    summary = pd.DataFrame(data.dtypes, columns=['Dtype'])\n",
    "    summary = summary.rename(columns={'index': 'Feature'})\n",
    "    summary['Count'] = data.shape[0]\n",
    "    summary['Unique value'] = data.nunique().values\n",
    "    summary['Null count'] = data.isnull().sum().values\n",
    "    summary['Null percent'] = data.isnull().sum().values / len(data) * 100\n",
    "    summary['Null percent'] = round(summary['Null percent'], 1)\n",
    "    \n",
    "    return summary"
   ]
  },
  {
   "cell_type": "code",
   "execution_count": 10,
   "metadata": {
    "ExecuteTime": {
     "end_time": "2022-04-25T12:13:06.199898Z",
     "start_time": "2022-04-25T12:13:05.863231Z"
    }
   },
   "outputs": [],
   "source": [
    "train_summary = data_summary(train)"
   ]
  },
  {
   "cell_type": "code",
   "execution_count": 11,
   "metadata": {
    "ExecuteTime": {
     "end_time": "2022-04-25T12:13:06.309420Z",
     "start_time": "2022-04-25T12:13:06.205651Z"
    }
   },
   "outputs": [],
   "source": [
    "test_summary = data_summary(test)"
   ]
  },
  {
   "cell_type": "code",
   "execution_count": 12,
   "metadata": {
    "ExecuteTime": {
     "end_time": "2022-04-25T12:13:06.435107Z",
     "start_time": "2022-04-25T12:13:06.320190Z"
    }
   },
   "outputs": [
    {
     "data": {
      "text/html": [
       "<div>\n",
       "<style scoped>\n",
       "    .dataframe tbody tr th:only-of-type {\n",
       "        vertical-align: middle;\n",
       "    }\n",
       "\n",
       "    .dataframe tbody tr th {\n",
       "        vertical-align: top;\n",
       "    }\n",
       "\n",
       "    .dataframe thead tr th {\n",
       "        text-align: left;\n",
       "    }\n",
       "</style>\n",
       "<table border=\"1\" class=\"dataframe\">\n",
       "  <thead>\n",
       "    <tr>\n",
       "      <th></th>\n",
       "      <th colspan=\"5\" halign=\"left\">Train</th>\n",
       "      <th colspan=\"5\" halign=\"left\">Test</th>\n",
       "    </tr>\n",
       "    <tr>\n",
       "      <th></th>\n",
       "      <th>Dtype</th>\n",
       "      <th>Count</th>\n",
       "      <th>Unique value</th>\n",
       "      <th>Null count</th>\n",
       "      <th>Null percent</th>\n",
       "      <th>Dtype</th>\n",
       "      <th>Count</th>\n",
       "      <th>Unique value</th>\n",
       "      <th>Null count</th>\n",
       "      <th>Null percent</th>\n",
       "    </tr>\n",
       "  </thead>\n",
       "  <tbody>\n",
       "    <tr>\n",
       "      <th>date</th>\n",
       "      <td>object</td>\n",
       "      <td>913000.0</td>\n",
       "      <td>1826.0</td>\n",
       "      <td>0.0</td>\n",
       "      <td>0.0</td>\n",
       "      <td>object</td>\n",
       "      <td>45000.0</td>\n",
       "      <td>90.0</td>\n",
       "      <td>0.0</td>\n",
       "      <td>0.0</td>\n",
       "    </tr>\n",
       "    <tr>\n",
       "      <th>store</th>\n",
       "      <td>int64</td>\n",
       "      <td>913000.0</td>\n",
       "      <td>10.0</td>\n",
       "      <td>0.0</td>\n",
       "      <td>0.0</td>\n",
       "      <td>int64</td>\n",
       "      <td>45000.0</td>\n",
       "      <td>10.0</td>\n",
       "      <td>0.0</td>\n",
       "      <td>0.0</td>\n",
       "    </tr>\n",
       "    <tr>\n",
       "      <th>item</th>\n",
       "      <td>int64</td>\n",
       "      <td>913000.0</td>\n",
       "      <td>50.0</td>\n",
       "      <td>0.0</td>\n",
       "      <td>0.0</td>\n",
       "      <td>int64</td>\n",
       "      <td>45000.0</td>\n",
       "      <td>50.0</td>\n",
       "      <td>0.0</td>\n",
       "      <td>0.0</td>\n",
       "    </tr>\n",
       "    <tr>\n",
       "      <th>sales</th>\n",
       "      <td>int64</td>\n",
       "      <td>913000.0</td>\n",
       "      <td>213.0</td>\n",
       "      <td>0.0</td>\n",
       "      <td>0.0</td>\n",
       "      <td>NaN</td>\n",
       "      <td>NaN</td>\n",
       "      <td>NaN</td>\n",
       "      <td>NaN</td>\n",
       "      <td>NaN</td>\n",
       "    </tr>\n",
       "    <tr>\n",
       "      <th>id</th>\n",
       "      <td>NaN</td>\n",
       "      <td>NaN</td>\n",
       "      <td>NaN</td>\n",
       "      <td>NaN</td>\n",
       "      <td>NaN</td>\n",
       "      <td>int64</td>\n",
       "      <td>45000.0</td>\n",
       "      <td>45000.0</td>\n",
       "      <td>0.0</td>\n",
       "      <td>0.0</td>\n",
       "    </tr>\n",
       "  </tbody>\n",
       "</table>\n",
       "</div>"
      ],
      "text/plain": [
       "        Train                                                   Test           \\\n",
       "        Dtype     Count Unique value Null count Null percent   Dtype    Count   \n",
       "date   object  913000.0       1826.0        0.0          0.0  object  45000.0   \n",
       "store   int64  913000.0         10.0        0.0          0.0   int64  45000.0   \n",
       "item    int64  913000.0         50.0        0.0          0.0   int64  45000.0   \n",
       "sales   int64  913000.0        213.0        0.0          0.0     NaN      NaN   \n",
       "id        NaN       NaN          NaN        NaN          NaN   int64  45000.0   \n",
       "\n",
       "                                            \n",
       "      Unique value Null count Null percent  \n",
       "date          90.0        0.0          0.0  \n",
       "store         10.0        0.0          0.0  \n",
       "item          50.0        0.0          0.0  \n",
       "sales          NaN        NaN          NaN  \n",
       "id         45000.0        0.0          0.0  "
      ]
     },
     "execution_count": 12,
     "metadata": {},
     "output_type": "execute_result"
    }
   ],
   "source": [
    "summary = pd.concat([train_summary, test_summary], axis=1, keys=['Train', 'Test'])\n",
    "summary"
   ]
  },
  {
   "cell_type": "code",
   "execution_count": 13,
   "metadata": {
    "ExecuteTime": {
     "end_time": "2022-04-25T12:13:06.480764Z",
     "start_time": "2022-04-25T12:13:06.445505Z"
    }
   },
   "outputs": [
    {
     "data": {
      "text/plain": [
       "int64     3\n",
       "object    1\n",
       "dtype: int64"
      ]
     },
     "execution_count": 13,
     "metadata": {},
     "output_type": "execute_result"
    }
   ],
   "source": [
    "train.dtypes.value_counts()"
   ]
  },
  {
   "cell_type": "code",
   "execution_count": 14,
   "metadata": {
    "ExecuteTime": {
     "end_time": "2022-04-25T12:13:06.528634Z",
     "start_time": "2022-04-25T12:13:06.490740Z"
    }
   },
   "outputs": [
    {
     "data": {
      "text/plain": [
       "int64     3\n",
       "object    1\n",
       "dtype: int64"
      ]
     },
     "execution_count": 14,
     "metadata": {},
     "output_type": "execute_result"
    }
   ],
   "source": [
    "test.dtypes.value_counts()"
   ]
  },
  {
   "cell_type": "markdown",
   "metadata": {},
   "source": [
    "## 불필요 columns 제거"
   ]
  },
  {
   "cell_type": "code",
   "execution_count": 15,
   "metadata": {
    "ExecuteTime": {
     "end_time": "2022-04-25T12:13:06.575506Z",
     "start_time": "2022-04-25T12:13:06.540607Z"
    }
   },
   "outputs": [],
   "source": [
    "test.drop('id', axis=1, inplace=True)"
   ]
  },
  {
   "cell_type": "code",
   "execution_count": 16,
   "metadata": {
    "ExecuteTime": {
     "end_time": "2022-04-25T12:13:07.149800Z",
     "start_time": "2022-04-25T12:13:06.585784Z"
    }
   },
   "outputs": [],
   "source": [
    "train_summary = data_summary(train)"
   ]
  },
  {
   "cell_type": "code",
   "execution_count": 17,
   "metadata": {
    "ExecuteTime": {
     "end_time": "2022-04-25T12:13:07.241601Z",
     "start_time": "2022-04-25T12:13:07.159869Z"
    }
   },
   "outputs": [],
   "source": [
    "test_summary = data_summary(test)"
   ]
  },
  {
   "cell_type": "code",
   "execution_count": 18,
   "metadata": {
    "ExecuteTime": {
     "end_time": "2022-04-25T12:13:07.287476Z",
     "start_time": "2022-04-25T12:13:07.245590Z"
    }
   },
   "outputs": [
    {
     "data": {
      "text/html": [
       "<div>\n",
       "<style scoped>\n",
       "    .dataframe tbody tr th:only-of-type {\n",
       "        vertical-align: middle;\n",
       "    }\n",
       "\n",
       "    .dataframe tbody tr th {\n",
       "        vertical-align: top;\n",
       "    }\n",
       "\n",
       "    .dataframe thead tr th {\n",
       "        text-align: left;\n",
       "    }\n",
       "</style>\n",
       "<table border=\"1\" class=\"dataframe\">\n",
       "  <thead>\n",
       "    <tr>\n",
       "      <th></th>\n",
       "      <th colspan=\"5\" halign=\"left\">Train</th>\n",
       "      <th colspan=\"5\" halign=\"left\">Test</th>\n",
       "    </tr>\n",
       "    <tr>\n",
       "      <th></th>\n",
       "      <th>Dtype</th>\n",
       "      <th>Count</th>\n",
       "      <th>Unique value</th>\n",
       "      <th>Null count</th>\n",
       "      <th>Null percent</th>\n",
       "      <th>Dtype</th>\n",
       "      <th>Count</th>\n",
       "      <th>Unique value</th>\n",
       "      <th>Null count</th>\n",
       "      <th>Null percent</th>\n",
       "    </tr>\n",
       "  </thead>\n",
       "  <tbody>\n",
       "    <tr>\n",
       "      <th>date</th>\n",
       "      <td>object</td>\n",
       "      <td>913000</td>\n",
       "      <td>1826</td>\n",
       "      <td>0</td>\n",
       "      <td>0.0</td>\n",
       "      <td>object</td>\n",
       "      <td>45000.0</td>\n",
       "      <td>90.0</td>\n",
       "      <td>0.0</td>\n",
       "      <td>0.0</td>\n",
       "    </tr>\n",
       "    <tr>\n",
       "      <th>store</th>\n",
       "      <td>int64</td>\n",
       "      <td>913000</td>\n",
       "      <td>10</td>\n",
       "      <td>0</td>\n",
       "      <td>0.0</td>\n",
       "      <td>int64</td>\n",
       "      <td>45000.0</td>\n",
       "      <td>10.0</td>\n",
       "      <td>0.0</td>\n",
       "      <td>0.0</td>\n",
       "    </tr>\n",
       "    <tr>\n",
       "      <th>item</th>\n",
       "      <td>int64</td>\n",
       "      <td>913000</td>\n",
       "      <td>50</td>\n",
       "      <td>0</td>\n",
       "      <td>0.0</td>\n",
       "      <td>int64</td>\n",
       "      <td>45000.0</td>\n",
       "      <td>50.0</td>\n",
       "      <td>0.0</td>\n",
       "      <td>0.0</td>\n",
       "    </tr>\n",
       "    <tr>\n",
       "      <th>sales</th>\n",
       "      <td>int64</td>\n",
       "      <td>913000</td>\n",
       "      <td>213</td>\n",
       "      <td>0</td>\n",
       "      <td>0.0</td>\n",
       "      <td>NaN</td>\n",
       "      <td>NaN</td>\n",
       "      <td>NaN</td>\n",
       "      <td>NaN</td>\n",
       "      <td>NaN</td>\n",
       "    </tr>\n",
       "  </tbody>\n",
       "</table>\n",
       "</div>"
      ],
      "text/plain": [
       "        Train                                                 Test           \\\n",
       "        Dtype   Count Unique value Null count Null percent   Dtype    Count   \n",
       "date   object  913000         1826          0          0.0  object  45000.0   \n",
       "store   int64  913000           10          0          0.0   int64  45000.0   \n",
       "item    int64  913000           50          0          0.0   int64  45000.0   \n",
       "sales   int64  913000          213          0          0.0     NaN      NaN   \n",
       "\n",
       "                                            \n",
       "      Unique value Null count Null percent  \n",
       "date          90.0        0.0          0.0  \n",
       "store         10.0        0.0          0.0  \n",
       "item          50.0        0.0          0.0  \n",
       "sales          NaN        NaN          NaN  "
      ]
     },
     "execution_count": 18,
     "metadata": {},
     "output_type": "execute_result"
    }
   ],
   "source": [
    "summary = pd.concat([train_summary, test_summary], axis=1, keys=['Train', 'Test'])\n",
    "summary"
   ]
  },
  {
   "cell_type": "markdown",
   "metadata": {},
   "source": [
    "## 고유값 확인"
   ]
  },
  {
   "cell_type": "code",
   "execution_count": 19,
   "metadata": {
    "ExecuteTime": {
     "end_time": "2022-04-25T12:13:07.494038Z",
     "start_time": "2022-04-25T12:13:07.290468Z"
    },
    "scrolled": true
   },
   "outputs": [
    {
     "name": "stdout",
     "output_type": "stream",
     "text": [
      "date : ['2013-01-01' '2013-01-02' '2013-01-03' ... '2017-12-29' '2017-12-30'\n",
      " '2017-12-31'] \n",
      "\n",
      "store : [ 1  2  3  4  5  6  7  8  9 10] \n",
      "\n",
      "item : [ 1  2  3  4  5  6  7  8  9 10 11 12 13 14 15 16 17 18 19 20 21 22 23 24\n",
      " 25 26 27 28 29 30 31 32 33 34 35 36 37 38 39 40 41 42 43 44 45 46 47 48\n",
      " 49 50] \n",
      "\n",
      "sales : [ 13  11  14  10  12   9   7   5  16  18  15   8   6  21  20  17  22  19\n",
      "  24  23  26  25  27  38  34  29  31  30   4  36  28  33  32  37  35  43\n",
      "  40  41  39  42  50  45  44  47  53  49  46  48  51  58  54  57  55  52\n",
      "   3   2   1  59  56  60  63  69  64  67  65  71  61  73  62  82  78  68\n",
      "  74  70  87  66  77  88  76  75 102  72  92  86  79  85  81  90  84  80\n",
      " 103  97  96  95  89 104  94 100  91  83 106 101  98 115  93 111 119  99\n",
      " 108 110 120 105 126 109 114 113 112 121 107 117 118 139 124 131 123 138\n",
      " 134 127 136 116 125 122 128 150 129 135 137 132 133 145 130 144   0 148\n",
      " 141 140 152 147 169 156 159 153 142 157 155 163 143 154 165 146 160 158\n",
      " 151 164 171 161 177 162 175 181 168 167 149 174 170 176 178 166 173 187\n",
      " 182 189 179 172 204 180 190 191 210 184 183 186 185 199 196 194 197 207\n",
      " 209 195 198 231 205 192 200 193 188 208 201 214 206 203 202] \n",
      "\n"
     ]
    }
   ],
   "source": [
    "for column in train.columns :\n",
    "    print(f'{column} : {train[column].unique()}', '\\n')"
   ]
  },
  {
   "cell_type": "code",
   "execution_count": 20,
   "metadata": {
    "ExecuteTime": {
     "end_time": "2022-04-25T12:13:07.666559Z",
     "start_time": "2022-04-25T12:13:07.501909Z"
    }
   },
   "outputs": [
    {
     "data": {
      "text/html": [
       "<div>\n",
       "<style scoped>\n",
       "    .dataframe tbody tr th:only-of-type {\n",
       "        vertical-align: middle;\n",
       "    }\n",
       "\n",
       "    .dataframe tbody tr th {\n",
       "        vertical-align: top;\n",
       "    }\n",
       "\n",
       "    .dataframe thead tr th {\n",
       "        text-align: left;\n",
       "    }\n",
       "</style>\n",
       "<table border=\"1\" class=\"dataframe\">\n",
       "  <thead>\n",
       "    <tr>\n",
       "      <th></th>\n",
       "      <th colspan=\"5\" halign=\"left\">Train</th>\n",
       "      <th colspan=\"5\" halign=\"left\">Test</th>\n",
       "    </tr>\n",
       "    <tr>\n",
       "      <th></th>\n",
       "      <th>Dtype</th>\n",
       "      <th>Count</th>\n",
       "      <th>Unique value</th>\n",
       "      <th>Null count</th>\n",
       "      <th>Null percent</th>\n",
       "      <th>Dtype</th>\n",
       "      <th>Count</th>\n",
       "      <th>Unique value</th>\n",
       "      <th>Null count</th>\n",
       "      <th>Null percent</th>\n",
       "    </tr>\n",
       "  </thead>\n",
       "  <tbody>\n",
       "    <tr>\n",
       "      <th>date</th>\n",
       "      <td>object</td>\n",
       "      <td>913000</td>\n",
       "      <td>1826</td>\n",
       "      <td>0</td>\n",
       "      <td>0.0</td>\n",
       "      <td>object</td>\n",
       "      <td>45000.0</td>\n",
       "      <td>90.0</td>\n",
       "      <td>0.0</td>\n",
       "      <td>0.0</td>\n",
       "    </tr>\n",
       "    <tr>\n",
       "      <th>sales</th>\n",
       "      <td>int64</td>\n",
       "      <td>913000</td>\n",
       "      <td>213</td>\n",
       "      <td>0</td>\n",
       "      <td>0.0</td>\n",
       "      <td>NaN</td>\n",
       "      <td>NaN</td>\n",
       "      <td>NaN</td>\n",
       "      <td>NaN</td>\n",
       "      <td>NaN</td>\n",
       "    </tr>\n",
       "  </tbody>\n",
       "</table>\n",
       "</div>"
      ],
      "text/plain": [
       "        Train                                                 Test           \\\n",
       "        Dtype   Count Unique value Null count Null percent   Dtype    Count   \n",
       "date   object  913000         1826          0          0.0  object  45000.0   \n",
       "sales   int64  913000          213          0          0.0     NaN      NaN   \n",
       "\n",
       "                                            \n",
       "      Unique value Null count Null percent  \n",
       "date          90.0        0.0          0.0  \n",
       "sales          NaN        NaN          NaN  "
      ]
     },
     "execution_count": 20,
     "metadata": {},
     "output_type": "execute_result"
    }
   ],
   "source": [
    "summary[summary['Train']['Unique value'] != summary['Test']['Unique value']]"
   ]
  },
  {
   "cell_type": "code",
   "execution_count": 21,
   "metadata": {
    "ExecuteTime": {
     "end_time": "2022-04-25T12:13:07.791208Z",
     "start_time": "2022-04-25T12:13:07.676521Z"
    }
   },
   "outputs": [
    {
     "data": {
      "text/html": [
       "<div>\n",
       "<style scoped>\n",
       "    .dataframe tbody tr th:only-of-type {\n",
       "        vertical-align: middle;\n",
       "    }\n",
       "\n",
       "    .dataframe tbody tr th {\n",
       "        vertical-align: top;\n",
       "    }\n",
       "\n",
       "    .dataframe thead tr th {\n",
       "        text-align: left;\n",
       "    }\n",
       "</style>\n",
       "<table border=\"1\" class=\"dataframe\">\n",
       "  <thead>\n",
       "    <tr>\n",
       "      <th></th>\n",
       "      <th colspan=\"5\" halign=\"left\">Train</th>\n",
       "      <th colspan=\"5\" halign=\"left\">Test</th>\n",
       "    </tr>\n",
       "    <tr>\n",
       "      <th></th>\n",
       "      <th>Dtype</th>\n",
       "      <th>Count</th>\n",
       "      <th>Unique value</th>\n",
       "      <th>Null count</th>\n",
       "      <th>Null percent</th>\n",
       "      <th>Dtype</th>\n",
       "      <th>Count</th>\n",
       "      <th>Unique value</th>\n",
       "      <th>Null count</th>\n",
       "      <th>Null percent</th>\n",
       "    </tr>\n",
       "  </thead>\n",
       "  <tbody>\n",
       "    <tr>\n",
       "      <th>date</th>\n",
       "      <td>object</td>\n",
       "      <td>913000</td>\n",
       "      <td>1826</td>\n",
       "      <td>0</td>\n",
       "      <td>0.0</td>\n",
       "      <td>object</td>\n",
       "      <td>45000.0</td>\n",
       "      <td>90.0</td>\n",
       "      <td>0.0</td>\n",
       "      <td>0.0</td>\n",
       "    </tr>\n",
       "  </tbody>\n",
       "</table>\n",
       "</div>"
      ],
      "text/plain": [
       "       Train                                                 Test           \\\n",
       "       Dtype   Count Unique value Null count Null percent   Dtype    Count   \n",
       "date  object  913000         1826          0          0.0  object  45000.0   \n",
       "\n",
       "                                           \n",
       "     Unique value Null count Null percent  \n",
       "date         90.0        0.0          0.0  "
      ]
     },
     "execution_count": 21,
     "metadata": {},
     "output_type": "execute_result"
    }
   ],
   "source": [
    "# One-hot-encoding 시 주의해야 할 column들\n",
    "summary[(summary['Train']['Unique value'] != summary['Test']['Unique value'])\n",
    "                        & (summary['Train']['Dtype'] == 'object')]"
   ]
  },
  {
   "cell_type": "code",
   "execution_count": 22,
   "metadata": {
    "ExecuteTime": {
     "end_time": "2022-04-25T12:13:07.851915Z",
     "start_time": "2022-04-25T12:13:07.795198Z"
    }
   },
   "outputs": [
    {
     "data": {
      "text/html": [
       "<div>\n",
       "<style scoped>\n",
       "    .dataframe tbody tr th:only-of-type {\n",
       "        vertical-align: middle;\n",
       "    }\n",
       "\n",
       "    .dataframe tbody tr th {\n",
       "        vertical-align: top;\n",
       "    }\n",
       "\n",
       "    .dataframe thead tr th {\n",
       "        text-align: left;\n",
       "    }\n",
       "</style>\n",
       "<table border=\"1\" class=\"dataframe\">\n",
       "  <thead>\n",
       "    <tr>\n",
       "      <th></th>\n",
       "      <th colspan=\"5\" halign=\"left\">Train</th>\n",
       "      <th colspan=\"5\" halign=\"left\">Test</th>\n",
       "    </tr>\n",
       "    <tr>\n",
       "      <th></th>\n",
       "      <th>Dtype</th>\n",
       "      <th>Count</th>\n",
       "      <th>Unique value</th>\n",
       "      <th>Null count</th>\n",
       "      <th>Null percent</th>\n",
       "      <th>Dtype</th>\n",
       "      <th>Count</th>\n",
       "      <th>Unique value</th>\n",
       "      <th>Null count</th>\n",
       "      <th>Null percent</th>\n",
       "    </tr>\n",
       "  </thead>\n",
       "  <tbody>\n",
       "    <tr>\n",
       "      <th>date</th>\n",
       "      <td>object</td>\n",
       "      <td>913000</td>\n",
       "      <td>1826</td>\n",
       "      <td>0</td>\n",
       "      <td>0.0</td>\n",
       "      <td>object</td>\n",
       "      <td>45000.0</td>\n",
       "      <td>90.0</td>\n",
       "      <td>0.0</td>\n",
       "      <td>0.0</td>\n",
       "    </tr>\n",
       "  </tbody>\n",
       "</table>\n",
       "</div>"
      ],
      "text/plain": [
       "       Train                                                 Test           \\\n",
       "       Dtype   Count Unique value Null count Null percent   Dtype    Count   \n",
       "date  object  913000         1826          0          0.0  object  45000.0   \n",
       "\n",
       "                                           \n",
       "     Unique value Null count Null percent  \n",
       "date         90.0        0.0          0.0  "
      ]
     },
     "execution_count": 22,
     "metadata": {},
     "output_type": "execute_result"
    }
   ],
   "source": [
    "# 고유값이 너무 많은 column들\n",
    "columns_many = summary[(summary['Train']['Unique value'] > 100) & (summary['Train']['Dtype'] == 'object')]\n",
    "columns_many"
   ]
  },
  {
   "cell_type": "code",
   "execution_count": 23,
   "metadata": {
    "ExecuteTime": {
     "end_time": "2022-04-25T12:13:07.867181Z",
     "start_time": "2022-04-25T12:13:07.855905Z"
    }
   },
   "outputs": [
    {
     "data": {
      "text/plain": [
       "['date']"
      ]
     },
     "execution_count": 23,
     "metadata": {},
     "output_type": "execute_result"
    }
   ],
   "source": [
    "list(columns_many.index)"
   ]
  },
  {
   "cell_type": "markdown",
   "metadata": {},
   "source": [
    "## 결측치 확인"
   ]
  },
  {
   "cell_type": "code",
   "execution_count": 24,
   "metadata": {
    "ExecuteTime": {
     "end_time": "2022-04-25T12:13:07.882833Z",
     "start_time": "2022-04-25T12:13:07.871864Z"
    }
   },
   "outputs": [],
   "source": [
    "train_null = train_summary[train_summary['Null count'] > 0]"
   ]
  },
  {
   "cell_type": "code",
   "execution_count": 25,
   "metadata": {
    "ExecuteTime": {
     "end_time": "2022-04-25T12:13:07.898381Z",
     "start_time": "2022-04-25T12:13:07.887821Z"
    }
   },
   "outputs": [],
   "source": [
    "test_null = test_summary[test_summary['Null count'] > 0]"
   ]
  },
  {
   "cell_type": "code",
   "execution_count": 26,
   "metadata": {
    "ExecuteTime": {
     "end_time": "2022-04-25T12:13:07.944717Z",
     "start_time": "2022-04-25T12:13:07.902780Z"
    }
   },
   "outputs": [
    {
     "data": {
      "text/html": [
       "<div>\n",
       "<style scoped>\n",
       "    .dataframe tbody tr th:only-of-type {\n",
       "        vertical-align: middle;\n",
       "    }\n",
       "\n",
       "    .dataframe tbody tr th {\n",
       "        vertical-align: top;\n",
       "    }\n",
       "\n",
       "    .dataframe thead tr th {\n",
       "        text-align: left;\n",
       "    }\n",
       "</style>\n",
       "<table border=\"1\" class=\"dataframe\">\n",
       "  <thead>\n",
       "    <tr>\n",
       "      <th></th>\n",
       "      <th colspan=\"5\" halign=\"left\">Train</th>\n",
       "      <th colspan=\"5\" halign=\"left\">Test</th>\n",
       "    </tr>\n",
       "    <tr>\n",
       "      <th></th>\n",
       "      <th>Dtype</th>\n",
       "      <th>Count</th>\n",
       "      <th>Unique value</th>\n",
       "      <th>Null count</th>\n",
       "      <th>Null percent</th>\n",
       "      <th>Dtype</th>\n",
       "      <th>Count</th>\n",
       "      <th>Unique value</th>\n",
       "      <th>Null count</th>\n",
       "      <th>Null percent</th>\n",
       "    </tr>\n",
       "  </thead>\n",
       "  <tbody>\n",
       "  </tbody>\n",
       "</table>\n",
       "</div>"
      ],
      "text/plain": [
       "Empty DataFrame\n",
       "Columns: [(Train, Dtype), (Train, Count), (Train, Unique value), (Train, Null count), (Train, Null percent), (Test, Dtype), (Test, Count), (Test, Unique value), (Test, Null count), (Test, Null percent)]\n",
       "Index: []"
      ]
     },
     "execution_count": 26,
     "metadata": {},
     "output_type": "execute_result"
    }
   ],
   "source": [
    "null_columns = pd.concat([train_null, test_null], axis=1, keys=['Train', 'Test'])\n",
    "null_columns"
   ]
  },
  {
   "cell_type": "code",
   "execution_count": 27,
   "metadata": {
    "ExecuteTime": {
     "end_time": "2022-04-25T12:13:07.990684Z",
     "start_time": "2022-04-25T12:13:07.962620Z"
    }
   },
   "outputs": [
    {
     "data": {
      "text/plain": [
       "Series([], dtype: int64)"
      ]
     },
     "execution_count": 27,
     "metadata": {},
     "output_type": "execute_result"
    }
   ],
   "source": [
    "train[null_columns.index].dtypes.value_counts()"
   ]
  },
  {
   "cell_type": "code",
   "execution_count": 28,
   "metadata": {
    "ExecuteTime": {
     "end_time": "2022-04-25T12:13:08.022465Z",
     "start_time": "2022-04-25T12:13:08.000517Z"
    }
   },
   "outputs": [
    {
     "data": {
      "text/plain": [
       "Series([], dtype: int64)"
      ]
     },
     "execution_count": 28,
     "metadata": {},
     "output_type": "execute_result"
    }
   ],
   "source": [
    "test[null_columns.index].dtypes.value_counts()"
   ]
  },
  {
   "cell_type": "markdown",
   "metadata": {},
   "source": [
    "# 통계 및 분포 확인"
   ]
  },
  {
   "cell_type": "markdown",
   "metadata": {},
   "source": [
    "## 수치형 data"
   ]
  },
  {
   "cell_type": "code",
   "execution_count": 29,
   "metadata": {
    "ExecuteTime": {
     "end_time": "2022-04-25T12:13:08.239879Z",
     "start_time": "2022-04-25T12:13:08.026447Z"
    }
   },
   "outputs": [
    {
     "data": {
      "text/html": [
       "<div>\n",
       "<style scoped>\n",
       "    .dataframe tbody tr th:only-of-type {\n",
       "        vertical-align: middle;\n",
       "    }\n",
       "\n",
       "    .dataframe tbody tr th {\n",
       "        vertical-align: top;\n",
       "    }\n",
       "\n",
       "    .dataframe thead th {\n",
       "        text-align: right;\n",
       "    }\n",
       "</style>\n",
       "<table border=\"1\" class=\"dataframe\">\n",
       "  <thead>\n",
       "    <tr style=\"text-align: right;\">\n",
       "      <th></th>\n",
       "      <th>store</th>\n",
       "      <th>item</th>\n",
       "      <th>sales</th>\n",
       "    </tr>\n",
       "  </thead>\n",
       "  <tbody>\n",
       "    <tr>\n",
       "      <th>count</th>\n",
       "      <td>913000.000000</td>\n",
       "      <td>913000.000000</td>\n",
       "      <td>913000.000000</td>\n",
       "    </tr>\n",
       "    <tr>\n",
       "      <th>mean</th>\n",
       "      <td>5.500000</td>\n",
       "      <td>25.500000</td>\n",
       "      <td>52.250287</td>\n",
       "    </tr>\n",
       "    <tr>\n",
       "      <th>std</th>\n",
       "      <td>2.872283</td>\n",
       "      <td>14.430878</td>\n",
       "      <td>28.801144</td>\n",
       "    </tr>\n",
       "    <tr>\n",
       "      <th>min</th>\n",
       "      <td>1.000000</td>\n",
       "      <td>1.000000</td>\n",
       "      <td>0.000000</td>\n",
       "    </tr>\n",
       "    <tr>\n",
       "      <th>25%</th>\n",
       "      <td>3.000000</td>\n",
       "      <td>13.000000</td>\n",
       "      <td>30.000000</td>\n",
       "    </tr>\n",
       "    <tr>\n",
       "      <th>50%</th>\n",
       "      <td>5.500000</td>\n",
       "      <td>25.500000</td>\n",
       "      <td>47.000000</td>\n",
       "    </tr>\n",
       "    <tr>\n",
       "      <th>75%</th>\n",
       "      <td>8.000000</td>\n",
       "      <td>38.000000</td>\n",
       "      <td>70.000000</td>\n",
       "    </tr>\n",
       "    <tr>\n",
       "      <th>max</th>\n",
       "      <td>10.000000</td>\n",
       "      <td>50.000000</td>\n",
       "      <td>231.000000</td>\n",
       "    </tr>\n",
       "  </tbody>\n",
       "</table>\n",
       "</div>"
      ],
      "text/plain": [
       "               store           item          sales\n",
       "count  913000.000000  913000.000000  913000.000000\n",
       "mean        5.500000      25.500000      52.250287\n",
       "std         2.872283      14.430878      28.801144\n",
       "min         1.000000       1.000000       0.000000\n",
       "25%         3.000000      13.000000      30.000000\n",
       "50%         5.500000      25.500000      47.000000\n",
       "75%         8.000000      38.000000      70.000000\n",
       "max        10.000000      50.000000     231.000000"
      ]
     },
     "execution_count": 29,
     "metadata": {},
     "output_type": "execute_result"
    }
   ],
   "source": [
    "train.describe()"
   ]
  },
  {
   "cell_type": "code",
   "execution_count": 30,
   "metadata": {
    "ExecuteTime": {
     "end_time": "2022-04-25T12:13:08.503485Z",
     "start_time": "2022-04-25T12:13:08.246859Z"
    }
   },
   "outputs": [],
   "source": [
    "columns_num = train.describe().columns"
   ]
  },
  {
   "cell_type": "code",
   "execution_count": 31,
   "metadata": {
    "ExecuteTime": {
     "end_time": "2022-04-25T12:13:10.798828Z",
     "start_time": "2022-04-25T12:13:08.510916Z"
    },
    "scrolled": false
   },
   "outputs": [
    {
     "data": {
      "text/plain": [
       "array([[<AxesSubplot:title={'center':'store'}>,\n",
       "        <AxesSubplot:title={'center':'item'}>],\n",
       "       [<AxesSubplot:title={'center':'sales'}>, <AxesSubplot:>]],\n",
       "      dtype=object)"
      ]
     },
     "execution_count": 31,
     "metadata": {},
     "output_type": "execute_result"
    },
    {
     "data": {
      "image/png": "[encoded data removed]",
      "text/plain": [
       "<Figure size 1440x1080 with 4 Axes>"
      ]
     },
     "metadata": {},
     "output_type": "display_data"
    }
   ],
   "source": [
    "train[columns_num].hist(figsize=(20,15))"
   ]
  },
  {
   "cell_type": "code",
   "execution_count": 32,
   "metadata": {
    "ExecuteTime": {
     "end_time": "2022-04-25T12:13:10.845856Z",
     "start_time": "2022-04-25T12:13:10.801784Z"
    }
   },
   "outputs": [
    {
     "data": {
      "text/html": [
       "<div>\n",
       "<style scoped>\n",
       "    .dataframe tbody tr th:only-of-type {\n",
       "        vertical-align: middle;\n",
       "    }\n",
       "\n",
       "    .dataframe tbody tr th {\n",
       "        vertical-align: top;\n",
       "    }\n",
       "\n",
       "    .dataframe thead th {\n",
       "        text-align: right;\n",
       "    }\n",
       "</style>\n",
       "<table border=\"1\" class=\"dataframe\">\n",
       "  <thead>\n",
       "    <tr style=\"text-align: right;\">\n",
       "      <th></th>\n",
       "      <th>store</th>\n",
       "      <th>item</th>\n",
       "    </tr>\n",
       "  </thead>\n",
       "  <tbody>\n",
       "    <tr>\n",
       "      <th>count</th>\n",
       "      <td>45000.000000</td>\n",
       "      <td>45000.00000</td>\n",
       "    </tr>\n",
       "    <tr>\n",
       "      <th>mean</th>\n",
       "      <td>5.500000</td>\n",
       "      <td>25.50000</td>\n",
       "    </tr>\n",
       "    <tr>\n",
       "      <th>std</th>\n",
       "      <td>2.872313</td>\n",
       "      <td>14.43103</td>\n",
       "    </tr>\n",
       "    <tr>\n",
       "      <th>min</th>\n",
       "      <td>1.000000</td>\n",
       "      <td>1.00000</td>\n",
       "    </tr>\n",
       "    <tr>\n",
       "      <th>25%</th>\n",
       "      <td>3.000000</td>\n",
       "      <td>13.00000</td>\n",
       "    </tr>\n",
       "    <tr>\n",
       "      <th>50%</th>\n",
       "      <td>5.500000</td>\n",
       "      <td>25.50000</td>\n",
       "    </tr>\n",
       "    <tr>\n",
       "      <th>75%</th>\n",
       "      <td>8.000000</td>\n",
       "      <td>38.00000</td>\n",
       "    </tr>\n",
       "    <tr>\n",
       "      <th>max</th>\n",
       "      <td>10.000000</td>\n",
       "      <td>50.00000</td>\n",
       "    </tr>\n",
       "  </tbody>\n",
       "</table>\n",
       "</div>"
      ],
      "text/plain": [
       "              store         item\n",
       "count  45000.000000  45000.00000\n",
       "mean       5.500000     25.50000\n",
       "std        2.872313     14.43103\n",
       "min        1.000000      1.00000\n",
       "25%        3.000000     13.00000\n",
       "50%        5.500000     25.50000\n",
       "75%        8.000000     38.00000\n",
       "max       10.000000     50.00000"
      ]
     },
     "execution_count": 32,
     "metadata": {},
     "output_type": "execute_result"
    }
   ],
   "source": [
    "test.describe()"
   ]
  },
  {
   "cell_type": "code",
   "execution_count": 33,
   "metadata": {
    "ExecuteTime": {
     "end_time": "2022-04-25T12:13:10.877719Z",
     "start_time": "2022-04-25T12:13:10.850650Z"
    }
   },
   "outputs": [],
   "source": [
    "columns_num = test.describe().columns"
   ]
  },
  {
   "cell_type": "code",
   "execution_count": 34,
   "metadata": {
    "ExecuteTime": {
     "end_time": "2022-04-25T12:13:12.000643Z",
     "start_time": "2022-04-25T12:13:10.881568Z"
    }
   },
   "outputs": [
    {
     "data": {
      "text/plain": [
       "array([[<AxesSubplot:title={'center':'store'}>,\n",
       "        <AxesSubplot:title={'center':'item'}>]], dtype=object)"
      ]
     },
     "execution_count": 34,
     "metadata": {},
     "output_type": "execute_result"
    },
    {
     "data": {
      "image/png": "[encoded data removed]",
      "text/plain": [
       "<Figure size 1440x1080 with 2 Axes>"
      ]
     },
     "metadata": {},
     "output_type": "display_data"
    }
   ],
   "source": [
    "test[columns_num].hist(figsize=(20,15))"
   ]
  },
  {
   "cell_type": "markdown",
   "metadata": {},
   "source": [
    "### 범주형 data 추출"
   ]
  },
  {
   "cell_type": "code",
   "execution_count": 35,
   "metadata": {
    "ExecuteTime": {
     "end_time": "2022-04-25T12:13:12.061479Z",
     "start_time": "2022-04-25T12:13:12.004633Z"
    }
   },
   "outputs": [
    {
     "data": {
      "text/plain": [
       "['store', 'item', 'sales']"
      ]
     },
     "execution_count": 35,
     "metadata": {},
     "output_type": "execute_result"
    }
   ],
   "source": [
    "columns_int = list(train.select_dtypes(include=['int64']).columns)\n",
    "columns_int"
   ]
  },
  {
   "cell_type": "code",
   "execution_count": 36,
   "metadata": {
    "ExecuteTime": {
     "end_time": "2022-04-25T12:13:12.076549Z",
     "start_time": "2022-04-25T12:13:12.065473Z"
    }
   },
   "outputs": [],
   "source": [
    "columns_int.remove('sales')"
   ]
  },
  {
   "cell_type": "code",
   "execution_count": 37,
   "metadata": {
    "ExecuteTime": {
     "end_time": "2022-04-25T12:13:12.092552Z",
     "start_time": "2022-04-25T12:13:12.080429Z"
    }
   },
   "outputs": [
    {
     "data": {
      "text/plain": [
       "[]"
      ]
     },
     "execution_count": 37,
     "metadata": {},
     "output_type": "execute_result"
    }
   ],
   "source": [
    "columns_float = list(train.select_dtypes(include=['float64']).columns)\n",
    "columns_float"
   ]
  },
  {
   "cell_type": "code",
   "execution_count": 38,
   "metadata": {
    "ExecuteTime": {
     "end_time": "2022-04-25T12:13:12.108482Z",
     "start_time": "2022-04-25T12:13:12.097384Z"
    }
   },
   "outputs": [
    {
     "data": {
      "text/plain": [
       "['store', 'item']"
      ]
     },
     "execution_count": 38,
     "metadata": {},
     "output_type": "execute_result"
    }
   ],
   "source": [
    "columns_to_cat = columns_int + columns_float\n",
    "columns_to_cat"
   ]
  },
  {
   "cell_type": "markdown",
   "metadata": {},
   "source": [
    "### binary data 추출"
   ]
  },
  {
   "cell_type": "code",
   "execution_count": 39,
   "metadata": {
    "ExecuteTime": {
     "end_time": "2022-04-25T12:13:12.124429Z",
     "start_time": "2022-04-25T12:13:12.112344Z"
    }
   },
   "outputs": [
    {
     "data": {
      "text/plain": [
       "[]"
      ]
     },
     "execution_count": 39,
     "metadata": {},
     "output_type": "execute_result"
    }
   ],
   "source": [
    "columns_binary_num = list(train_summary[(train_summary['Dtype'] == 'int64') & (train_summary['Unique value'] == 2)].index)\n",
    "columns_binary_num"
   ]
  },
  {
   "cell_type": "code",
   "execution_count": 40,
   "metadata": {
    "ExecuteTime": {
     "end_time": "2022-04-25T12:13:12.139489Z",
     "start_time": "2022-04-25T12:13:12.129299Z"
    }
   },
   "outputs": [],
   "source": [
    "# columns_binary_num.remove('target')"
   ]
  },
  {
   "cell_type": "code",
   "execution_count": 41,
   "metadata": {
    "ExecuteTime": {
     "end_time": "2022-04-25T12:13:12.154232Z",
     "start_time": "2022-04-25T12:13:12.143262Z"
    }
   },
   "outputs": [
    {
     "data": {
      "text/plain": [
       "['columns_binary_num.pkl']"
      ]
     },
     "execution_count": 41,
     "metadata": {},
     "output_type": "execute_result"
    }
   ],
   "source": [
    "joblib.dump(columns_binary_num, 'columns_binary_num.pkl')"
   ]
  },
  {
   "cell_type": "markdown",
   "metadata": {},
   "source": [
    "## 범주형 data"
   ]
  },
  {
   "cell_type": "code",
   "execution_count": 42,
   "metadata": {
    "ExecuteTime": {
     "end_time": "2022-04-25T12:13:12.200256Z",
     "start_time": "2022-04-25T12:13:12.158221Z"
    }
   },
   "outputs": [
    {
     "data": {
      "text/plain": [
       "['date']"
      ]
     },
     "execution_count": 42,
     "metadata": {},
     "output_type": "execute_result"
    }
   ],
   "source": [
    "columns_str = list(train.select_dtypes(include=['object']).columns)\n",
    "columns_str"
   ]
  },
  {
   "cell_type": "code",
   "execution_count": 43,
   "metadata": {
    "ExecuteTime": {
     "end_time": "2022-04-25T12:13:12.216197Z",
     "start_time": "2022-04-25T12:13:12.204099Z"
    }
   },
   "outputs": [
    {
     "data": {
      "text/plain": [
       "[]"
      ]
     },
     "execution_count": 43,
     "metadata": {},
     "output_type": "execute_result"
    }
   ],
   "source": [
    "columns_bool = list(train.select_dtypes(include=['bool']).columns)\n",
    "columns_bool"
   ]
  },
  {
   "cell_type": "code",
   "execution_count": 44,
   "metadata": {
    "ExecuteTime": {
     "end_time": "2022-04-25T12:13:12.231464Z",
     "start_time": "2022-04-25T12:13:12.221054Z"
    }
   },
   "outputs": [
    {
     "data": {
      "text/plain": [
       "['date', 'store', 'item']"
      ]
     },
     "execution_count": 44,
     "metadata": {},
     "output_type": "execute_result"
    }
   ],
   "source": [
    "columns_cat = columns_str + columns_bool + columns_to_cat\n",
    "columns_cat"
   ]
  },
  {
   "cell_type": "code",
   "execution_count": 45,
   "metadata": {
    "ExecuteTime": {
     "end_time": "2022-04-25T12:13:12.246983Z",
     "start_time": "2022-04-25T12:13:12.236014Z"
    }
   },
   "outputs": [],
   "source": [
    "columns_dt = ['date']"
   ]
  },
  {
   "cell_type": "code",
   "execution_count": 46,
   "metadata": {
    "ExecuteTime": {
     "end_time": "2022-04-25T12:13:12.262940Z",
     "start_time": "2022-04-25T12:13:12.250974Z"
    }
   },
   "outputs": [],
   "source": [
    "for column in columns_dt :\n",
    "    columns_cat.remove(column)"
   ]
  },
  {
   "cell_type": "code",
   "execution_count": 47,
   "metadata": {
    "ExecuteTime": {
     "end_time": "2022-04-25T12:13:12.278955Z",
     "start_time": "2022-04-25T12:13:12.266931Z"
    }
   },
   "outputs": [
    {
     "data": {
      "text/plain": [
       "['columns_cat.pkl']"
      ]
     },
     "execution_count": 47,
     "metadata": {},
     "output_type": "execute_result"
    }
   ],
   "source": [
    "joblib.dump(columns_cat, 'columns_cat.pkl')"
   ]
  },
  {
   "cell_type": "code",
   "execution_count": 48,
   "metadata": {
    "ExecuteTime": {
     "end_time": "2022-04-25T12:13:12.293858Z",
     "start_time": "2022-04-25T12:13:12.282889Z"
    }
   },
   "outputs": [
    {
     "data": {
      "text/plain": [
       "['columns_dt.pkl']"
      ]
     },
     "execution_count": 48,
     "metadata": {},
     "output_type": "execute_result"
    }
   ],
   "source": [
    "joblib.dump(columns_dt, 'columns_dt.pkl')"
   ]
  },
  {
   "cell_type": "markdown",
   "metadata": {},
   "source": [
    "### train data"
   ]
  },
  {
   "cell_type": "code",
   "execution_count": 49,
   "metadata": {
    "ExecuteTime": {
     "end_time": "2022-04-25T12:13:12.340732Z",
     "start_time": "2022-04-25T12:13:12.297848Z"
    }
   },
   "outputs": [],
   "source": [
    "# value값을 20개 이하로 가지는 column을 선택\n",
    "# value값이 너무 많으면 countplot을 그리는데 시간이 너무 많이 소요됨\n",
    "columns_cat_count = []\n",
    "\n",
    "for column in columns_cat :\n",
    "    \n",
    "    if len(train[column].value_counts()) <= 20 :\n",
    "        columns_cat_count.append(column)"
   ]
  },
  {
   "cell_type": "code",
   "execution_count": 50,
   "metadata": {
    "ExecuteTime": {
     "end_time": "2022-04-25T12:13:13.075031Z",
     "start_time": "2022-04-25T12:13:12.344723Z"
    },
    "scrolled": false
   },
   "outputs": [
    {
     "data": {
      "image/png": "[encoded data removed]",
      "text/plain": [
       "<Figure size 1152x360 with 1 Axes>"
      ]
     },
     "metadata": {},
     "output_type": "display_data"
    }
   ],
   "source": [
    "k = len(columns_cat_count)\n",
    "m = math.ceil(k / 2)\n",
    "\n",
    "plt.figure(figsize=(16, 5 * m))\n",
    "grid = plt.GridSpec(m, 2, wspace=0.4, hspace=0.3)\n",
    "\n",
    "for i in range(k) :    \n",
    "    ax = plt.subplot(grid[i])\n",
    "    sns.countplot(data=train, x=columns_cat_count[i], ax=ax)"
   ]
  },
  {
   "cell_type": "markdown",
   "metadata": {},
   "source": [
    "### test data"
   ]
  },
  {
   "cell_type": "code",
   "execution_count": 51,
   "metadata": {
    "ExecuteTime": {
     "end_time": "2022-04-25T12:13:13.747979Z",
     "start_time": "2022-04-25T12:13:13.078759Z"
    },
    "scrolled": false
   },
   "outputs": [
    {
     "data": {
      "image/png": "[encoded data removed]",
      "text/plain": [
       "<Figure size 1152x360 with 1 Axes>"
      ]
     },
     "metadata": {},
     "output_type": "display_data"
    }
   ],
   "source": [
    "k = len(columns_cat_count)\n",
    "m = math.ceil(k / 2)\n",
    "\n",
    "plt.figure(figsize=(16, 5 * m))\n",
    "grid = plt.GridSpec(m, 2, wspace=0.4, hspace=0.3)\n",
    "\n",
    "for i in range(k) :    \n",
    "    ax = plt.subplot(grid[i])\n",
    "    sns.countplot(data=test, x=columns_cat_count[i], ax=ax)"
   ]
  },
  {
   "cell_type": "markdown",
   "metadata": {},
   "source": [
    "### 전체 dataset"
   ]
  },
  {
   "cell_type": "code",
   "execution_count": 52,
   "metadata": {
    "ExecuteTime": {
     "end_time": "2022-04-25T12:13:14.028228Z",
     "start_time": "2022-04-25T12:13:13.751969Z"
    }
   },
   "outputs": [],
   "source": [
    "data_total = pd.concat([train, test], axis=0, ignore_index=True)\n",
    "data_total.loc[:len(train), 'dataset'] = 'Train'\n",
    "data_total.loc[len(train):, 'dataset'] = 'Test'"
   ]
  },
  {
   "cell_type": "code",
   "execution_count": 53,
   "metadata": {
    "ExecuteTime": {
     "end_time": "2022-04-25T12:13:16.208077Z",
     "start_time": "2022-04-25T12:13:14.035072Z"
    },
    "scrolled": false
   },
   "outputs": [
    {
     "data": {
      "image/png": "[encoded data removed]",
      "text/plain": [
       "<Figure size 1152x360 with 1 Axes>"
      ]
     },
     "metadata": {},
     "output_type": "display_data"
    }
   ],
   "source": [
    "k = len(columns_cat_count)\n",
    "m = math.ceil(k / 2)\n",
    "\n",
    "plt.figure(figsize=(16, 5 * m))\n",
    "grid = plt.GridSpec(m, 2, wspace=0.4, hspace=0.3)\n",
    "\n",
    "for i in range(k) :    \n",
    "    ax = plt.subplot(grid[i])\n",
    "    sns.countplot(data=data_total, x=columns_cat_count[i], hue='dataset', ax=ax)"
   ]
  },
  {
   "cell_type": "markdown",
   "metadata": {},
   "source": [
    "### binary data 추출"
   ]
  },
  {
   "cell_type": "code",
   "execution_count": 54,
   "metadata": {
    "ExecuteTime": {
     "end_time": "2022-04-25T12:13:16.238566Z",
     "start_time": "2022-04-25T12:13:16.213019Z"
    }
   },
   "outputs": [
    {
     "data": {
      "text/plain": [
       "[]"
      ]
     },
     "execution_count": 54,
     "metadata": {},
     "output_type": "execute_result"
    }
   ],
   "source": [
    "columns_binary_cat = list(train_summary[(train_summary['Dtype'] == 'object') & (train_summary['Unique value'] == 2)].index)\n",
    "columns_binary_cat"
   ]
  },
  {
   "cell_type": "code",
   "execution_count": 55,
   "metadata": {
    "ExecuteTime": {
     "end_time": "2022-04-25T12:13:16.254602Z",
     "start_time": "2022-04-25T12:13:16.241559Z"
    }
   },
   "outputs": [],
   "source": [
    "# columns_binary_cat.remove('target')"
   ]
  },
  {
   "cell_type": "code",
   "execution_count": 56,
   "metadata": {
    "ExecuteTime": {
     "end_time": "2022-04-25T12:13:16.270543Z",
     "start_time": "2022-04-25T12:13:16.257644Z"
    }
   },
   "outputs": [
    {
     "data": {
      "text/plain": [
       "['columns_binary_cat.pkl']"
      ]
     },
     "execution_count": 56,
     "metadata": {},
     "output_type": "execute_result"
    }
   ],
   "source": [
    "joblib.dump(columns_binary_cat, 'columns_binary_cat.pkl')"
   ]
  }
 ],
 "metadata": {
  "hide_input": false,
  "kernelspec": {
   "display_name": "Python 3",
   "language": "python",
   "name": "python3"
  },
  "language_info": {
   "codemirror_mode": {
    "name": "ipython",
    "version": 3
   },
   "file_extension": ".py",
   "mimetype": "text/x-python",
   "name": "python",
   "nbconvert_exporter": "python",
   "pygments_lexer": "ipython3",
   "version": "3.7.1"
  },
  "toc": {
   "base_numbering": 1,
   "nav_menu": {},
   "number_sections": true,
   "sideBar": true,
   "skip_h1_title": false,
   "title_cell": "Table of Contents",
   "title_sidebar": "Contents",
   "toc_cell": false,
   "toc_position": {
    "height": "calc(100% - 180px)",
    "left": "10px",
    "top": "150px",
    "width": "303.8px"
   },
   "toc_section_display": true,
   "toc_window_display": true
  },
  "varInspector": {
   "cols": {
    "lenName": 16,
    "lenType": 16,
    "lenVar": 40
   },
   "kernels_config": {
    "python": {
     "delete_cmd_postfix": "",
     "delete_cmd_prefix": "del ",
     "library": "var_list.py",
     "varRefreshCmd": "print(var_dic_list())"
    },
    "r": {
     "delete_cmd_postfix": ") ",
     "delete_cmd_prefix": "rm(",
     "library": "var_list.r",
     "varRefreshCmd": "cat(var_dic_list()) "
    }
   },
   "types_to_exclude": [
    "module",
    "function",
    "builtin_function_or_method",
    "instance",
    "_Feature"
   ],
   "window_display": false
  }
 },
 "nbformat": 4,
 "nbformat_minor": 4
}

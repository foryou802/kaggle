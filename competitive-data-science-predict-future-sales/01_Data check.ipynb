{
 "cells": [
  {
   "cell_type": "code",
   "execution_count": 1,
   "metadata": {
    "ExecuteTime": {
     "end_time": "2021-12-06T11:10:03.563003Z",
     "start_time": "2021-12-06T11:10:00.769229Z"
    }
   },
   "outputs": [],
   "source": [
    "import numpy as np\n",
    "from scipy import stats\n",
    "import pandas as pd\n",
    "import matplotlib.pyplot as plt\n",
    "import seaborn as sns\n",
    "\n",
    "sns.set()\n",
    "\n",
    "import os\n",
    "\n",
    "import warnings\n",
    "warnings.filterwarnings('ignore')"
   ]
  },
  {
   "cell_type": "code",
   "execution_count": 2,
   "metadata": {
    "ExecuteTime": {
     "end_time": "2021-12-06T11:10:03.578677Z",
     "start_time": "2021-12-06T11:10:03.566415Z"
    }
   },
   "outputs": [],
   "source": [
    "import math"
   ]
  },
  {
   "cell_type": "code",
   "execution_count": 3,
   "metadata": {
    "ExecuteTime": {
     "end_time": "2021-12-06T11:10:03.594634Z",
     "start_time": "2021-12-06T11:10:03.582671Z"
    }
   },
   "outputs": [],
   "source": [
    "import platform, matplotlib\n",
    "from matplotlib import rc\n",
    "\n",
    "# '-' 기호 제대로 보이기\n",
    "matplotlib.rcParams['axes.unicode_minus'] = False\n",
    "\n",
    "# 윈도우\n",
    "if platform.system() == 'Windows':\n",
    "    rc('font', family=\"Malgun Gothic\")\n",
    "# 맥\n",
    "elif platform.system() == 'Darwin':\n",
    "    rc('font', family='AppleGothic')\n",
    "# 리눅스\n",
    "elif platform.system() == 'Linux':\n",
    "    rc('font', family='NanumBarunGothic')"
   ]
  },
  {
   "cell_type": "code",
   "execution_count": 4,
   "metadata": {
    "ExecuteTime": {
     "end_time": "2021-12-06T11:10:06.455718Z",
     "start_time": "2021-12-06T11:10:03.599622Z"
    }
   },
   "outputs": [],
   "source": [
    "from sklearn.preprocessing import LabelEncoder"
   ]
  },
  {
   "cell_type": "code",
   "execution_count": 5,
   "metadata": {
    "ExecuteTime": {
     "end_time": "2021-12-06T11:10:06.471383Z",
     "start_time": "2021-12-06T11:10:06.459638Z"
    }
   },
   "outputs": [],
   "source": [
    "import joblib"
   ]
  },
  {
   "cell_type": "markdown",
   "metadata": {},
   "source": [
    "# Data check"
   ]
  },
  {
   "cell_type": "markdown",
   "metadata": {},
   "source": [
    "- train.csv - the training set. Daily historical data from January 2013 to October 2015.\n",
    "- test.csv - the test set. You need to forecast the sales for these shops and products for November 2015.\n",
    "- items.csv - supplemental information about the items/products.\n",
    "- item_categories.csv  - supplemental information about the items categories.\n",
    "- shops.csv- supplemental information about the shops."
   ]
  },
  {
   "cell_type": "markdown",
   "metadata": {},
   "source": [
    "- ID - an Id that represents a (Shop, Item) tuple within the test set\n",
    "- shop_id - unique identifier of a shop\n",
    "- item_id - unique identifier of a product\n",
    "- item_category_id - unique identifier of item category\n",
    "- item_cnt_day - number of products sold. You are predicting a monthly amount of this measure\n",
    "- item_price - current price of an item\n",
    "- date - date in format dd/mm/yyyy\n",
    "- date_block_num - a consecutive month number, used for convenience. January 2013 is 0, February 2013 is 1,..., October 2015 is 33\n",
    "- item_name - name of item\n",
    "- shop_name - name of shop\n",
    "- item_category_name - name of item category"
   ]
  },
  {
   "cell_type": "markdown",
   "metadata": {},
   "source": [
    "## Shape"
   ]
  },
  {
   "cell_type": "code",
   "execution_count": 6,
   "metadata": {
    "ExecuteTime": {
     "end_time": "2021-12-06T11:10:09.972525Z",
     "start_time": "2021-12-06T11:10:06.475372Z"
    },
    "scrolled": true
   },
   "outputs": [
    {
     "name": "stdout",
     "output_type": "stream",
     "text": [
      "(2935849, 6)\n",
      "(214200, 3)\n"
     ]
    }
   ],
   "source": [
    "train = pd.read_csv('train.csv')\n",
    "test = pd.read_csv('test.csv')\n",
    "\n",
    "print(train.shape)\n",
    "print(test.shape)"
   ]
  },
  {
   "cell_type": "code",
   "execution_count": 7,
   "metadata": {
    "ExecuteTime": {
     "end_time": "2021-12-06T11:10:10.114018Z",
     "start_time": "2021-12-06T11:10:09.977388Z"
    }
   },
   "outputs": [
    {
     "name": "stdout",
     "output_type": "stream",
     "text": [
      "(22170, 3)\n",
      "(84, 2)\n",
      "(60, 2)\n"
     ]
    }
   ],
   "source": [
    "items = pd.read_csv('items.csv')\n",
    "item_categories = pd.read_csv('item_categories.csv')\n",
    "shops = pd.read_csv('shops.csv')\n",
    "\n",
    "print(items.shape)\n",
    "print(item_categories.shape)\n",
    "print(shops.shape)"
   ]
  },
  {
   "cell_type": "code",
   "execution_count": 8,
   "metadata": {
    "ExecuteTime": {
     "end_time": "2021-12-06T11:10:10.176265Z",
     "start_time": "2021-12-06T11:10:10.120908Z"
    },
    "scrolled": true
   },
   "outputs": [
    {
     "data": {
      "text/html": [
       "<div>\n",
       "<style scoped>\n",
       "    .dataframe tbody tr th:only-of-type {\n",
       "        vertical-align: middle;\n",
       "    }\n",
       "\n",
       "    .dataframe tbody tr th {\n",
       "        vertical-align: top;\n",
       "    }\n",
       "\n",
       "    .dataframe thead th {\n",
       "        text-align: right;\n",
       "    }\n",
       "</style>\n",
       "<table border=\"1\" class=\"dataframe\">\n",
       "  <thead>\n",
       "    <tr style=\"text-align: right;\">\n",
       "      <th></th>\n",
       "      <th>date</th>\n",
       "      <th>date_block_num</th>\n",
       "      <th>shop_id</th>\n",
       "      <th>item_id</th>\n",
       "      <th>item_price</th>\n",
       "      <th>item_cnt_day</th>\n",
       "    </tr>\n",
       "  </thead>\n",
       "  <tbody>\n",
       "    <tr>\n",
       "      <th>0</th>\n",
       "      <td>02.01.2013</td>\n",
       "      <td>0</td>\n",
       "      <td>59</td>\n",
       "      <td>22154</td>\n",
       "      <td>999.00</td>\n",
       "      <td>1.0</td>\n",
       "    </tr>\n",
       "    <tr>\n",
       "      <th>1</th>\n",
       "      <td>03.01.2013</td>\n",
       "      <td>0</td>\n",
       "      <td>25</td>\n",
       "      <td>2552</td>\n",
       "      <td>899.00</td>\n",
       "      <td>1.0</td>\n",
       "    </tr>\n",
       "    <tr>\n",
       "      <th>2</th>\n",
       "      <td>05.01.2013</td>\n",
       "      <td>0</td>\n",
       "      <td>25</td>\n",
       "      <td>2552</td>\n",
       "      <td>899.00</td>\n",
       "      <td>-1.0</td>\n",
       "    </tr>\n",
       "    <tr>\n",
       "      <th>3</th>\n",
       "      <td>06.01.2013</td>\n",
       "      <td>0</td>\n",
       "      <td>25</td>\n",
       "      <td>2554</td>\n",
       "      <td>1709.05</td>\n",
       "      <td>1.0</td>\n",
       "    </tr>\n",
       "    <tr>\n",
       "      <th>4</th>\n",
       "      <td>15.01.2013</td>\n",
       "      <td>0</td>\n",
       "      <td>25</td>\n",
       "      <td>2555</td>\n",
       "      <td>1099.00</td>\n",
       "      <td>1.0</td>\n",
       "    </tr>\n",
       "  </tbody>\n",
       "</table>\n",
       "</div>"
      ],
      "text/plain": [
       "         date  date_block_num  shop_id  item_id  item_price  item_cnt_day\n",
       "0  02.01.2013               0       59    22154      999.00           1.0\n",
       "1  03.01.2013               0       25     2552      899.00           1.0\n",
       "2  05.01.2013               0       25     2552      899.00          -1.0\n",
       "3  06.01.2013               0       25     2554     1709.05           1.0\n",
       "4  15.01.2013               0       25     2555     1099.00           1.0"
      ]
     },
     "execution_count": 8,
     "metadata": {},
     "output_type": "execute_result"
    }
   ],
   "source": [
    "train.head()"
   ]
  },
  {
   "cell_type": "code",
   "execution_count": 9,
   "metadata": {
    "ExecuteTime": {
     "end_time": "2021-12-06T11:10:10.192224Z",
     "start_time": "2021-12-06T11:10:10.183249Z"
    }
   },
   "outputs": [],
   "source": [
    "# train.head().T"
   ]
  },
  {
   "cell_type": "code",
   "execution_count": 10,
   "metadata": {
    "ExecuteTime": {
     "end_time": "2021-12-06T11:10:10.224175Z",
     "start_time": "2021-12-06T11:10:10.199212Z"
    }
   },
   "outputs": [
    {
     "data": {
      "text/html": [
       "<div>\n",
       "<style scoped>\n",
       "    .dataframe tbody tr th:only-of-type {\n",
       "        vertical-align: middle;\n",
       "    }\n",
       "\n",
       "    .dataframe tbody tr th {\n",
       "        vertical-align: top;\n",
       "    }\n",
       "\n",
       "    .dataframe thead th {\n",
       "        text-align: right;\n",
       "    }\n",
       "</style>\n",
       "<table border=\"1\" class=\"dataframe\">\n",
       "  <thead>\n",
       "    <tr style=\"text-align: right;\">\n",
       "      <th></th>\n",
       "      <th>ID</th>\n",
       "      <th>shop_id</th>\n",
       "      <th>item_id</th>\n",
       "    </tr>\n",
       "  </thead>\n",
       "  <tbody>\n",
       "    <tr>\n",
       "      <th>0</th>\n",
       "      <td>0</td>\n",
       "      <td>5</td>\n",
       "      <td>5037</td>\n",
       "    </tr>\n",
       "    <tr>\n",
       "      <th>1</th>\n",
       "      <td>1</td>\n",
       "      <td>5</td>\n",
       "      <td>5320</td>\n",
       "    </tr>\n",
       "    <tr>\n",
       "      <th>2</th>\n",
       "      <td>2</td>\n",
       "      <td>5</td>\n",
       "      <td>5233</td>\n",
       "    </tr>\n",
       "    <tr>\n",
       "      <th>3</th>\n",
       "      <td>3</td>\n",
       "      <td>5</td>\n",
       "      <td>5232</td>\n",
       "    </tr>\n",
       "    <tr>\n",
       "      <th>4</th>\n",
       "      <td>4</td>\n",
       "      <td>5</td>\n",
       "      <td>5268</td>\n",
       "    </tr>\n",
       "  </tbody>\n",
       "</table>\n",
       "</div>"
      ],
      "text/plain": [
       "   ID  shop_id  item_id\n",
       "0   0        5     5037\n",
       "1   1        5     5320\n",
       "2   2        5     5233\n",
       "3   3        5     5232\n",
       "4   4        5     5268"
      ]
     },
     "execution_count": 10,
     "metadata": {},
     "output_type": "execute_result"
    }
   ],
   "source": [
    "test.head()"
   ]
  },
  {
   "cell_type": "code",
   "execution_count": 11,
   "metadata": {
    "ExecuteTime": {
     "end_time": "2021-12-06T11:10:10.256054Z",
     "start_time": "2021-12-06T11:10:10.228128Z"
    }
   },
   "outputs": [
    {
     "data": {
      "text/html": [
       "<div>\n",
       "<style scoped>\n",
       "    .dataframe tbody tr th:only-of-type {\n",
       "        vertical-align: middle;\n",
       "    }\n",
       "\n",
       "    .dataframe tbody tr th {\n",
       "        vertical-align: top;\n",
       "    }\n",
       "\n",
       "    .dataframe thead th {\n",
       "        text-align: right;\n",
       "    }\n",
       "</style>\n",
       "<table border=\"1\" class=\"dataframe\">\n",
       "  <thead>\n",
       "    <tr style=\"text-align: right;\">\n",
       "      <th></th>\n",
       "      <th>item_name</th>\n",
       "      <th>item_id</th>\n",
       "      <th>item_category_id</th>\n",
       "    </tr>\n",
       "  </thead>\n",
       "  <tbody>\n",
       "    <tr>\n",
       "      <th>0</th>\n",
       "      <td>! ВО ВЛАСТИ НАВАЖДЕНИЯ (ПЛАСТ.)         D</td>\n",
       "      <td>0</td>\n",
       "      <td>40</td>\n",
       "    </tr>\n",
       "    <tr>\n",
       "      <th>1</th>\n",
       "      <td>!ABBYY FineReader 12 Professional Edition Full...</td>\n",
       "      <td>1</td>\n",
       "      <td>76</td>\n",
       "    </tr>\n",
       "    <tr>\n",
       "      <th>2</th>\n",
       "      <td>***В ЛУЧАХ СЛАВЫ   (UNV)                    D</td>\n",
       "      <td>2</td>\n",
       "      <td>40</td>\n",
       "    </tr>\n",
       "    <tr>\n",
       "      <th>3</th>\n",
       "      <td>***ГОЛУБАЯ ВОЛНА  (Univ)                      D</td>\n",
       "      <td>3</td>\n",
       "      <td>40</td>\n",
       "    </tr>\n",
       "    <tr>\n",
       "      <th>4</th>\n",
       "      <td>***КОРОБКА (СТЕКЛО)                       D</td>\n",
       "      <td>4</td>\n",
       "      <td>40</td>\n",
       "    </tr>\n",
       "  </tbody>\n",
       "</table>\n",
       "</div>"
      ],
      "text/plain": [
       "                                           item_name  item_id  \\\n",
       "0          ! ВО ВЛАСТИ НАВАЖДЕНИЯ (ПЛАСТ.)         D        0   \n",
       "1  !ABBYY FineReader 12 Professional Edition Full...        1   \n",
       "2      ***В ЛУЧАХ СЛАВЫ   (UNV)                    D        2   \n",
       "3    ***ГОЛУБАЯ ВОЛНА  (Univ)                      D        3   \n",
       "4        ***КОРОБКА (СТЕКЛО)                       D        4   \n",
       "\n",
       "   item_category_id  \n",
       "0                40  \n",
       "1                76  \n",
       "2                40  \n",
       "3                40  \n",
       "4                40  "
      ]
     },
     "execution_count": 11,
     "metadata": {},
     "output_type": "execute_result"
    }
   ],
   "source": [
    "items.head()"
   ]
  },
  {
   "cell_type": "code",
   "execution_count": 12,
   "metadata": {
    "ExecuteTime": {
     "end_time": "2021-12-06T11:10:10.286974Z",
     "start_time": "2021-12-06T11:10:10.260046Z"
    }
   },
   "outputs": [
    {
     "data": {
      "text/html": [
       "<div>\n",
       "<style scoped>\n",
       "    .dataframe tbody tr th:only-of-type {\n",
       "        vertical-align: middle;\n",
       "    }\n",
       "\n",
       "    .dataframe tbody tr th {\n",
       "        vertical-align: top;\n",
       "    }\n",
       "\n",
       "    .dataframe thead th {\n",
       "        text-align: right;\n",
       "    }\n",
       "</style>\n",
       "<table border=\"1\" class=\"dataframe\">\n",
       "  <thead>\n",
       "    <tr style=\"text-align: right;\">\n",
       "      <th></th>\n",
       "      <th>item_category_name</th>\n",
       "      <th>item_category_id</th>\n",
       "    </tr>\n",
       "  </thead>\n",
       "  <tbody>\n",
       "    <tr>\n",
       "      <th>0</th>\n",
       "      <td>PC - Гарнитуры/Наушники</td>\n",
       "      <td>0</td>\n",
       "    </tr>\n",
       "    <tr>\n",
       "      <th>1</th>\n",
       "      <td>Аксессуары - PS2</td>\n",
       "      <td>1</td>\n",
       "    </tr>\n",
       "    <tr>\n",
       "      <th>2</th>\n",
       "      <td>Аксессуары - PS3</td>\n",
       "      <td>2</td>\n",
       "    </tr>\n",
       "    <tr>\n",
       "      <th>3</th>\n",
       "      <td>Аксессуары - PS4</td>\n",
       "      <td>3</td>\n",
       "    </tr>\n",
       "    <tr>\n",
       "      <th>4</th>\n",
       "      <td>Аксессуары - PSP</td>\n",
       "      <td>4</td>\n",
       "    </tr>\n",
       "  </tbody>\n",
       "</table>\n",
       "</div>"
      ],
      "text/plain": [
       "        item_category_name  item_category_id\n",
       "0  PC - Гарнитуры/Наушники                 0\n",
       "1         Аксессуары - PS2                 1\n",
       "2         Аксессуары - PS3                 2\n",
       "3         Аксессуары - PS4                 3\n",
       "4         Аксессуары - PSP                 4"
      ]
     },
     "execution_count": 12,
     "metadata": {},
     "output_type": "execute_result"
    }
   ],
   "source": [
    "item_categories.head()"
   ]
  },
  {
   "cell_type": "code",
   "execution_count": 13,
   "metadata": {
    "ExecuteTime": {
     "end_time": "2021-12-06T11:10:10.318053Z",
     "start_time": "2021-12-06T11:10:10.291957Z"
    }
   },
   "outputs": [
    {
     "data": {
      "text/html": [
       "<div>\n",
       "<style scoped>\n",
       "    .dataframe tbody tr th:only-of-type {\n",
       "        vertical-align: middle;\n",
       "    }\n",
       "\n",
       "    .dataframe tbody tr th {\n",
       "        vertical-align: top;\n",
       "    }\n",
       "\n",
       "    .dataframe thead th {\n",
       "        text-align: right;\n",
       "    }\n",
       "</style>\n",
       "<table border=\"1\" class=\"dataframe\">\n",
       "  <thead>\n",
       "    <tr style=\"text-align: right;\">\n",
       "      <th></th>\n",
       "      <th>shop_name</th>\n",
       "      <th>shop_id</th>\n",
       "    </tr>\n",
       "  </thead>\n",
       "  <tbody>\n",
       "    <tr>\n",
       "      <th>0</th>\n",
       "      <td>!Якутск Орджоникидзе, 56 фран</td>\n",
       "      <td>0</td>\n",
       "    </tr>\n",
       "    <tr>\n",
       "      <th>1</th>\n",
       "      <td>!Якутск ТЦ \"Центральный\" фран</td>\n",
       "      <td>1</td>\n",
       "    </tr>\n",
       "    <tr>\n",
       "      <th>2</th>\n",
       "      <td>Адыгея ТЦ \"Мега\"</td>\n",
       "      <td>2</td>\n",
       "    </tr>\n",
       "    <tr>\n",
       "      <th>3</th>\n",
       "      <td>Балашиха ТРК \"Октябрь-Киномир\"</td>\n",
       "      <td>3</td>\n",
       "    </tr>\n",
       "    <tr>\n",
       "      <th>4</th>\n",
       "      <td>Волжский ТЦ \"Волга Молл\"</td>\n",
       "      <td>4</td>\n",
       "    </tr>\n",
       "  </tbody>\n",
       "</table>\n",
       "</div>"
      ],
      "text/plain": [
       "                        shop_name  shop_id\n",
       "0   !Якутск Орджоникидзе, 56 фран        0\n",
       "1   !Якутск ТЦ \"Центральный\" фран        1\n",
       "2                Адыгея ТЦ \"Мега\"        2\n",
       "3  Балашиха ТРК \"Октябрь-Киномир\"        3\n",
       "4        Волжский ТЦ \"Волга Молл\"        4"
      ]
     },
     "execution_count": 13,
     "metadata": {},
     "output_type": "execute_result"
    }
   ],
   "source": [
    "shops.head()"
   ]
  },
  {
   "cell_type": "markdown",
   "metadata": {},
   "source": [
    "## Column transform"
   ]
  },
  {
   "cell_type": "markdown",
   "metadata": {},
   "source": [
    "### item_categories"
   ]
  },
  {
   "cell_type": "code",
   "execution_count": 14,
   "metadata": {
    "ExecuteTime": {
     "end_time": "2021-12-06T11:10:10.363923Z",
     "start_time": "2021-12-06T11:10:10.322876Z"
    }
   },
   "outputs": [
    {
     "data": {
      "text/html": [
       "<div>\n",
       "<style scoped>\n",
       "    .dataframe tbody tr th:only-of-type {\n",
       "        vertical-align: middle;\n",
       "    }\n",
       "\n",
       "    .dataframe tbody tr th {\n",
       "        vertical-align: top;\n",
       "    }\n",
       "\n",
       "    .dataframe thead th {\n",
       "        text-align: right;\n",
       "    }\n",
       "</style>\n",
       "<table border=\"1\" class=\"dataframe\">\n",
       "  <thead>\n",
       "    <tr style=\"text-align: right;\">\n",
       "      <th></th>\n",
       "      <th>item_category_name</th>\n",
       "      <th>item_category_id</th>\n",
       "    </tr>\n",
       "  </thead>\n",
       "  <tbody>\n",
       "    <tr>\n",
       "      <th>0</th>\n",
       "      <td>PC - Гарнитуры/Наушники</td>\n",
       "      <td>0</td>\n",
       "    </tr>\n",
       "    <tr>\n",
       "      <th>1</th>\n",
       "      <td>Аксессуары - PS2</td>\n",
       "      <td>1</td>\n",
       "    </tr>\n",
       "    <tr>\n",
       "      <th>2</th>\n",
       "      <td>Аксессуары - PS3</td>\n",
       "      <td>2</td>\n",
       "    </tr>\n",
       "    <tr>\n",
       "      <th>3</th>\n",
       "      <td>Аксессуары - PS4</td>\n",
       "      <td>3</td>\n",
       "    </tr>\n",
       "    <tr>\n",
       "      <th>4</th>\n",
       "      <td>Аксессуары - PSP</td>\n",
       "      <td>4</td>\n",
       "    </tr>\n",
       "    <tr>\n",
       "      <th>5</th>\n",
       "      <td>Аксессуары - PSVita</td>\n",
       "      <td>5</td>\n",
       "    </tr>\n",
       "    <tr>\n",
       "      <th>6</th>\n",
       "      <td>Аксессуары - XBOX 360</td>\n",
       "      <td>6</td>\n",
       "    </tr>\n",
       "    <tr>\n",
       "      <th>7</th>\n",
       "      <td>Аксессуары - XBOX ONE</td>\n",
       "      <td>7</td>\n",
       "    </tr>\n",
       "    <tr>\n",
       "      <th>8</th>\n",
       "      <td>Билеты (Цифра)</td>\n",
       "      <td>8</td>\n",
       "    </tr>\n",
       "    <tr>\n",
       "      <th>9</th>\n",
       "      <td>Доставка товара</td>\n",
       "      <td>9</td>\n",
       "    </tr>\n",
       "    <tr>\n",
       "      <th>10</th>\n",
       "      <td>Игровые консоли - PS2</td>\n",
       "      <td>10</td>\n",
       "    </tr>\n",
       "    <tr>\n",
       "      <th>11</th>\n",
       "      <td>Игровые консоли - PS3</td>\n",
       "      <td>11</td>\n",
       "    </tr>\n",
       "    <tr>\n",
       "      <th>12</th>\n",
       "      <td>Игровые консоли - PS4</td>\n",
       "      <td>12</td>\n",
       "    </tr>\n",
       "    <tr>\n",
       "      <th>13</th>\n",
       "      <td>Игровые консоли - PSP</td>\n",
       "      <td>13</td>\n",
       "    </tr>\n",
       "    <tr>\n",
       "      <th>14</th>\n",
       "      <td>Игровые консоли - PSVita</td>\n",
       "      <td>14</td>\n",
       "    </tr>\n",
       "    <tr>\n",
       "      <th>15</th>\n",
       "      <td>Игровые консоли - XBOX 360</td>\n",
       "      <td>15</td>\n",
       "    </tr>\n",
       "    <tr>\n",
       "      <th>16</th>\n",
       "      <td>Игровые консоли - XBOX ONE</td>\n",
       "      <td>16</td>\n",
       "    </tr>\n",
       "    <tr>\n",
       "      <th>17</th>\n",
       "      <td>Игровые консоли - Прочие</td>\n",
       "      <td>17</td>\n",
       "    </tr>\n",
       "    <tr>\n",
       "      <th>18</th>\n",
       "      <td>Игры - PS2</td>\n",
       "      <td>18</td>\n",
       "    </tr>\n",
       "    <tr>\n",
       "      <th>19</th>\n",
       "      <td>Игры - PS3</td>\n",
       "      <td>19</td>\n",
       "    </tr>\n",
       "    <tr>\n",
       "      <th>20</th>\n",
       "      <td>Игры - PS4</td>\n",
       "      <td>20</td>\n",
       "    </tr>\n",
       "    <tr>\n",
       "      <th>21</th>\n",
       "      <td>Игры - PSP</td>\n",
       "      <td>21</td>\n",
       "    </tr>\n",
       "    <tr>\n",
       "      <th>22</th>\n",
       "      <td>Игры - PSVita</td>\n",
       "      <td>22</td>\n",
       "    </tr>\n",
       "    <tr>\n",
       "      <th>23</th>\n",
       "      <td>Игры - XBOX 360</td>\n",
       "      <td>23</td>\n",
       "    </tr>\n",
       "    <tr>\n",
       "      <th>24</th>\n",
       "      <td>Игры - XBOX ONE</td>\n",
       "      <td>24</td>\n",
       "    </tr>\n",
       "    <tr>\n",
       "      <th>25</th>\n",
       "      <td>Игры - Аксессуары для игр</td>\n",
       "      <td>25</td>\n",
       "    </tr>\n",
       "    <tr>\n",
       "      <th>26</th>\n",
       "      <td>Игры Android - Цифра</td>\n",
       "      <td>26</td>\n",
       "    </tr>\n",
       "    <tr>\n",
       "      <th>27</th>\n",
       "      <td>Игры MAC - Цифра</td>\n",
       "      <td>27</td>\n",
       "    </tr>\n",
       "    <tr>\n",
       "      <th>28</th>\n",
       "      <td>Игры PC - Дополнительные издания</td>\n",
       "      <td>28</td>\n",
       "    </tr>\n",
       "    <tr>\n",
       "      <th>29</th>\n",
       "      <td>Игры PC - Коллекционные издания</td>\n",
       "      <td>29</td>\n",
       "    </tr>\n",
       "  </tbody>\n",
       "</table>\n",
       "</div>"
      ],
      "text/plain": [
       "                  item_category_name  item_category_id\n",
       "0            PC - Гарнитуры/Наушники                 0\n",
       "1                   Аксессуары - PS2                 1\n",
       "2                   Аксессуары - PS3                 2\n",
       "3                   Аксессуары - PS4                 3\n",
       "4                   Аксессуары - PSP                 4\n",
       "5                Аксессуары - PSVita                 5\n",
       "6              Аксессуары - XBOX 360                 6\n",
       "7              Аксессуары - XBOX ONE                 7\n",
       "8                     Билеты (Цифра)                 8\n",
       "9                    Доставка товара                 9\n",
       "10             Игровые консоли - PS2                10\n",
       "11             Игровые консоли - PS3                11\n",
       "12             Игровые консоли - PS4                12\n",
       "13             Игровые консоли - PSP                13\n",
       "14          Игровые консоли - PSVita                14\n",
       "15        Игровые консоли - XBOX 360                15\n",
       "16        Игровые консоли - XBOX ONE                16\n",
       "17          Игровые консоли - Прочие                17\n",
       "18                        Игры - PS2                18\n",
       "19                        Игры - PS3                19\n",
       "20                        Игры - PS4                20\n",
       "21                        Игры - PSP                21\n",
       "22                     Игры - PSVita                22\n",
       "23                   Игры - XBOX 360                23\n",
       "24                   Игры - XBOX ONE                24\n",
       "25         Игры - Аксессуары для игр                25\n",
       "26              Игры Android - Цифра                26\n",
       "27                  Игры MAC - Цифра                27\n",
       "28  Игры PC - Дополнительные издания                28\n",
       "29   Игры PC - Коллекционные издания                29"
      ]
     },
     "execution_count": 14,
     "metadata": {},
     "output_type": "execute_result"
    }
   ],
   "source": [
    "item_categories.head(30)"
   ]
  },
  {
   "cell_type": "code",
   "execution_count": 15,
   "metadata": {
    "ExecuteTime": {
     "end_time": "2021-12-06T11:10:10.411877Z",
     "start_time": "2021-12-06T11:10:10.368760Z"
    }
   },
   "outputs": [
    {
     "data": {
      "text/html": [
       "<div>\n",
       "<style scoped>\n",
       "    .dataframe tbody tr th:only-of-type {\n",
       "        vertical-align: middle;\n",
       "    }\n",
       "\n",
       "    .dataframe tbody tr th {\n",
       "        vertical-align: top;\n",
       "    }\n",
       "\n",
       "    .dataframe thead th {\n",
       "        text-align: right;\n",
       "    }\n",
       "</style>\n",
       "<table border=\"1\" class=\"dataframe\">\n",
       "  <thead>\n",
       "    <tr style=\"text-align: right;\">\n",
       "      <th></th>\n",
       "      <th>item_category_name</th>\n",
       "      <th>item_category_id</th>\n",
       "    </tr>\n",
       "  </thead>\n",
       "  <tbody>\n",
       "    <tr>\n",
       "      <th>54</th>\n",
       "      <td>Книги - Цифра</td>\n",
       "      <td>54</td>\n",
       "    </tr>\n",
       "    <tr>\n",
       "      <th>55</th>\n",
       "      <td>Музыка - CD локального производства</td>\n",
       "      <td>55</td>\n",
       "    </tr>\n",
       "    <tr>\n",
       "      <th>56</th>\n",
       "      <td>Музыка - CD фирменного производства</td>\n",
       "      <td>56</td>\n",
       "    </tr>\n",
       "    <tr>\n",
       "      <th>57</th>\n",
       "      <td>Музыка - MP3</td>\n",
       "      <td>57</td>\n",
       "    </tr>\n",
       "    <tr>\n",
       "      <th>58</th>\n",
       "      <td>Музыка - Винил</td>\n",
       "      <td>58</td>\n",
       "    </tr>\n",
       "    <tr>\n",
       "      <th>59</th>\n",
       "      <td>Музыка - Музыкальное видео</td>\n",
       "      <td>59</td>\n",
       "    </tr>\n",
       "    <tr>\n",
       "      <th>60</th>\n",
       "      <td>Музыка - Подарочные издания</td>\n",
       "      <td>60</td>\n",
       "    </tr>\n",
       "    <tr>\n",
       "      <th>61</th>\n",
       "      <td>Подарки - Атрибутика</td>\n",
       "      <td>61</td>\n",
       "    </tr>\n",
       "    <tr>\n",
       "      <th>62</th>\n",
       "      <td>Подарки - Гаджеты, роботы, спорт</td>\n",
       "      <td>62</td>\n",
       "    </tr>\n",
       "    <tr>\n",
       "      <th>63</th>\n",
       "      <td>Подарки - Мягкие игрушки</td>\n",
       "      <td>63</td>\n",
       "    </tr>\n",
       "    <tr>\n",
       "      <th>64</th>\n",
       "      <td>Подарки - Настольные игры</td>\n",
       "      <td>64</td>\n",
       "    </tr>\n",
       "    <tr>\n",
       "      <th>65</th>\n",
       "      <td>Подарки - Настольные игры (компактные)</td>\n",
       "      <td>65</td>\n",
       "    </tr>\n",
       "    <tr>\n",
       "      <th>66</th>\n",
       "      <td>Подарки - Открытки, наклейки</td>\n",
       "      <td>66</td>\n",
       "    </tr>\n",
       "    <tr>\n",
       "      <th>67</th>\n",
       "      <td>Подарки - Развитие</td>\n",
       "      <td>67</td>\n",
       "    </tr>\n",
       "    <tr>\n",
       "      <th>68</th>\n",
       "      <td>Подарки - Сертификаты, услуги</td>\n",
       "      <td>68</td>\n",
       "    </tr>\n",
       "    <tr>\n",
       "      <th>69</th>\n",
       "      <td>Подарки - Сувениры</td>\n",
       "      <td>69</td>\n",
       "    </tr>\n",
       "    <tr>\n",
       "      <th>70</th>\n",
       "      <td>Подарки - Сувениры (в навеску)</td>\n",
       "      <td>70</td>\n",
       "    </tr>\n",
       "    <tr>\n",
       "      <th>71</th>\n",
       "      <td>Подарки - Сумки, Альбомы, Коврики д/мыши</td>\n",
       "      <td>71</td>\n",
       "    </tr>\n",
       "    <tr>\n",
       "      <th>72</th>\n",
       "      <td>Подарки - Фигурки</td>\n",
       "      <td>72</td>\n",
       "    </tr>\n",
       "    <tr>\n",
       "      <th>73</th>\n",
       "      <td>Программы - 1С:Предприятие 8</td>\n",
       "      <td>73</td>\n",
       "    </tr>\n",
       "    <tr>\n",
       "      <th>74</th>\n",
       "      <td>Программы - MAC (Цифра)</td>\n",
       "      <td>74</td>\n",
       "    </tr>\n",
       "    <tr>\n",
       "      <th>75</th>\n",
       "      <td>Программы - Для дома и офиса</td>\n",
       "      <td>75</td>\n",
       "    </tr>\n",
       "    <tr>\n",
       "      <th>76</th>\n",
       "      <td>Программы - Для дома и офиса (Цифра)</td>\n",
       "      <td>76</td>\n",
       "    </tr>\n",
       "    <tr>\n",
       "      <th>77</th>\n",
       "      <td>Программы - Обучающие</td>\n",
       "      <td>77</td>\n",
       "    </tr>\n",
       "    <tr>\n",
       "      <th>78</th>\n",
       "      <td>Программы - Обучающие (Цифра)</td>\n",
       "      <td>78</td>\n",
       "    </tr>\n",
       "    <tr>\n",
       "      <th>79</th>\n",
       "      <td>Служебные</td>\n",
       "      <td>79</td>\n",
       "    </tr>\n",
       "    <tr>\n",
       "      <th>80</th>\n",
       "      <td>Служебные - Билеты</td>\n",
       "      <td>80</td>\n",
       "    </tr>\n",
       "    <tr>\n",
       "      <th>81</th>\n",
       "      <td>Чистые носители (шпиль)</td>\n",
       "      <td>81</td>\n",
       "    </tr>\n",
       "    <tr>\n",
       "      <th>82</th>\n",
       "      <td>Чистые носители (штучные)</td>\n",
       "      <td>82</td>\n",
       "    </tr>\n",
       "    <tr>\n",
       "      <th>83</th>\n",
       "      <td>Элементы питания</td>\n",
       "      <td>83</td>\n",
       "    </tr>\n",
       "  </tbody>\n",
       "</table>\n",
       "</div>"
      ],
      "text/plain": [
       "                          item_category_name  item_category_id\n",
       "54                             Книги - Цифра                54\n",
       "55       Музыка - CD локального производства                55\n",
       "56       Музыка - CD фирменного производства                56\n",
       "57                              Музыка - MP3                57\n",
       "58                            Музыка - Винил                58\n",
       "59                Музыка - Музыкальное видео                59\n",
       "60               Музыка - Подарочные издания                60\n",
       "61                      Подарки - Атрибутика                61\n",
       "62          Подарки - Гаджеты, роботы, спорт                62\n",
       "63                  Подарки - Мягкие игрушки                63\n",
       "64                 Подарки - Настольные игры                64\n",
       "65    Подарки - Настольные игры (компактные)                65\n",
       "66              Подарки - Открытки, наклейки                66\n",
       "67                        Подарки - Развитие                67\n",
       "68             Подарки - Сертификаты, услуги                68\n",
       "69                        Подарки - Сувениры                69\n",
       "70            Подарки - Сувениры (в навеску)                70\n",
       "71  Подарки - Сумки, Альбомы, Коврики д/мыши                71\n",
       "72                         Подарки - Фигурки                72\n",
       "73              Программы - 1С:Предприятие 8                73\n",
       "74                   Программы - MAC (Цифра)                74\n",
       "75              Программы - Для дома и офиса                75\n",
       "76      Программы - Для дома и офиса (Цифра)                76\n",
       "77                     Программы - Обучающие                77\n",
       "78             Программы - Обучающие (Цифра)                78\n",
       "79                                 Служебные                79\n",
       "80                        Служебные - Билеты                80\n",
       "81                   Чистые носители (шпиль)                81\n",
       "82                 Чистые носители (штучные)                82\n",
       "83                          Элементы питания                83"
      ]
     },
     "execution_count": 15,
     "metadata": {},
     "output_type": "execute_result"
    }
   ],
   "source": [
    "item_categories.tail(30)"
   ]
  },
  {
   "cell_type": "code",
   "execution_count": 16,
   "metadata": {
    "ExecuteTime": {
     "end_time": "2021-12-06T11:10:10.443552Z",
     "start_time": "2021-12-06T11:10:10.415869Z"
    }
   },
   "outputs": [],
   "source": [
    "item_categories['split'] = item_categories['item_category_name'].str.split('-')\n",
    "\n",
    "item_categories['type'] = item_categories['split'].map(lambda x: x[0].strip())\n",
    "item_categories['type_id'] = LabelEncoder().fit_transform(item_categories['type'])\n",
    "\n",
    "item_categories['subtype'] = item_categories['split'].map(lambda x: x[1].strip() if len(x) > 1 else x[0].strip())\n",
    "item_categories['subtype_id'] = LabelEncoder().fit_transform(item_categories['subtype'])"
   ]
  },
  {
   "cell_type": "code",
   "execution_count": 17,
   "metadata": {
    "ExecuteTime": {
     "end_time": "2021-12-06T11:10:10.567467Z",
     "start_time": "2021-12-06T11:10:10.449542Z"
    }
   },
   "outputs": [
    {
     "data": {
      "text/html": [
       "<div>\n",
       "<style scoped>\n",
       "    .dataframe tbody tr th:only-of-type {\n",
       "        vertical-align: middle;\n",
       "    }\n",
       "\n",
       "    .dataframe tbody tr th {\n",
       "        vertical-align: top;\n",
       "    }\n",
       "\n",
       "    .dataframe thead th {\n",
       "        text-align: right;\n",
       "    }\n",
       "</style>\n",
       "<table border=\"1\" class=\"dataframe\">\n",
       "  <thead>\n",
       "    <tr style=\"text-align: right;\">\n",
       "      <th></th>\n",
       "      <th>item_category_name</th>\n",
       "      <th>item_category_id</th>\n",
       "      <th>split</th>\n",
       "      <th>type</th>\n",
       "      <th>type_id</th>\n",
       "      <th>subtype</th>\n",
       "      <th>subtype_id</th>\n",
       "    </tr>\n",
       "  </thead>\n",
       "  <tbody>\n",
       "    <tr>\n",
       "      <th>0</th>\n",
       "      <td>PC - Гарнитуры/Наушники</td>\n",
       "      <td>0</td>\n",
       "      <td>[PC ,  Гарнитуры/Наушники]</td>\n",
       "      <td>PC</td>\n",
       "      <td>0</td>\n",
       "      <td>Гарнитуры/Наушники</td>\n",
       "      <td>29</td>\n",
       "    </tr>\n",
       "    <tr>\n",
       "      <th>1</th>\n",
       "      <td>Аксессуары - PS2</td>\n",
       "      <td>1</td>\n",
       "      <td>[Аксессуары ,  PS2]</td>\n",
       "      <td>Аксессуары</td>\n",
       "      <td>1</td>\n",
       "      <td>PS2</td>\n",
       "      <td>9</td>\n",
       "    </tr>\n",
       "    <tr>\n",
       "      <th>2</th>\n",
       "      <td>Аксессуары - PS3</td>\n",
       "      <td>2</td>\n",
       "      <td>[Аксессуары ,  PS3]</td>\n",
       "      <td>Аксессуары</td>\n",
       "      <td>1</td>\n",
       "      <td>PS3</td>\n",
       "      <td>10</td>\n",
       "    </tr>\n",
       "    <tr>\n",
       "      <th>3</th>\n",
       "      <td>Аксессуары - PS4</td>\n",
       "      <td>3</td>\n",
       "      <td>[Аксессуары ,  PS4]</td>\n",
       "      <td>Аксессуары</td>\n",
       "      <td>1</td>\n",
       "      <td>PS4</td>\n",
       "      <td>11</td>\n",
       "    </tr>\n",
       "    <tr>\n",
       "      <th>4</th>\n",
       "      <td>Аксессуары - PSP</td>\n",
       "      <td>4</td>\n",
       "      <td>[Аксессуары ,  PSP]</td>\n",
       "      <td>Аксессуары</td>\n",
       "      <td>1</td>\n",
       "      <td>PSP</td>\n",
       "      <td>13</td>\n",
       "    </tr>\n",
       "    <tr>\n",
       "      <th>5</th>\n",
       "      <td>Аксессуары - PSVita</td>\n",
       "      <td>5</td>\n",
       "      <td>[Аксессуары ,  PSVita]</td>\n",
       "      <td>Аксессуары</td>\n",
       "      <td>1</td>\n",
       "      <td>PSVita</td>\n",
       "      <td>14</td>\n",
       "    </tr>\n",
       "    <tr>\n",
       "      <th>6</th>\n",
       "      <td>Аксессуары - XBOX 360</td>\n",
       "      <td>6</td>\n",
       "      <td>[Аксессуары ,  XBOX 360]</td>\n",
       "      <td>Аксессуары</td>\n",
       "      <td>1</td>\n",
       "      <td>XBOX 360</td>\n",
       "      <td>16</td>\n",
       "    </tr>\n",
       "    <tr>\n",
       "      <th>7</th>\n",
       "      <td>Аксессуары - XBOX ONE</td>\n",
       "      <td>7</td>\n",
       "      <td>[Аксессуары ,  XBOX ONE]</td>\n",
       "      <td>Аксессуары</td>\n",
       "      <td>1</td>\n",
       "      <td>XBOX ONE</td>\n",
       "      <td>17</td>\n",
       "    </tr>\n",
       "    <tr>\n",
       "      <th>8</th>\n",
       "      <td>Билеты (Цифра)</td>\n",
       "      <td>8</td>\n",
       "      <td>[Билеты (Цифра)]</td>\n",
       "      <td>Билеты (Цифра)</td>\n",
       "      <td>2</td>\n",
       "      <td>Билеты (Цифра)</td>\n",
       "      <td>26</td>\n",
       "    </tr>\n",
       "    <tr>\n",
       "      <th>9</th>\n",
       "      <td>Доставка товара</td>\n",
       "      <td>9</td>\n",
       "      <td>[Доставка товара]</td>\n",
       "      <td>Доставка товара</td>\n",
       "      <td>3</td>\n",
       "      <td>Доставка товара</td>\n",
       "      <td>33</td>\n",
       "    </tr>\n",
       "    <tr>\n",
       "      <th>10</th>\n",
       "      <td>Игровые консоли - PS2</td>\n",
       "      <td>10</td>\n",
       "      <td>[Игровые консоли ,  PS2]</td>\n",
       "      <td>Игровые консоли</td>\n",
       "      <td>4</td>\n",
       "      <td>PS2</td>\n",
       "      <td>9</td>\n",
       "    </tr>\n",
       "    <tr>\n",
       "      <th>11</th>\n",
       "      <td>Игровые консоли - PS3</td>\n",
       "      <td>11</td>\n",
       "      <td>[Игровые консоли ,  PS3]</td>\n",
       "      <td>Игровые консоли</td>\n",
       "      <td>4</td>\n",
       "      <td>PS3</td>\n",
       "      <td>10</td>\n",
       "    </tr>\n",
       "    <tr>\n",
       "      <th>12</th>\n",
       "      <td>Игровые консоли - PS4</td>\n",
       "      <td>12</td>\n",
       "      <td>[Игровые консоли ,  PS4]</td>\n",
       "      <td>Игровые консоли</td>\n",
       "      <td>4</td>\n",
       "      <td>PS4</td>\n",
       "      <td>11</td>\n",
       "    </tr>\n",
       "    <tr>\n",
       "      <th>13</th>\n",
       "      <td>Игровые консоли - PSP</td>\n",
       "      <td>13</td>\n",
       "      <td>[Игровые консоли ,  PSP]</td>\n",
       "      <td>Игровые консоли</td>\n",
       "      <td>4</td>\n",
       "      <td>PSP</td>\n",
       "      <td>13</td>\n",
       "    </tr>\n",
       "    <tr>\n",
       "      <th>14</th>\n",
       "      <td>Игровые консоли - PSVita</td>\n",
       "      <td>14</td>\n",
       "      <td>[Игровые консоли ,  PSVita]</td>\n",
       "      <td>Игровые консоли</td>\n",
       "      <td>4</td>\n",
       "      <td>PSVita</td>\n",
       "      <td>14</td>\n",
       "    </tr>\n",
       "    <tr>\n",
       "      <th>15</th>\n",
       "      <td>Игровые консоли - XBOX 360</td>\n",
       "      <td>15</td>\n",
       "      <td>[Игровые консоли ,  XBOX 360]</td>\n",
       "      <td>Игровые консоли</td>\n",
       "      <td>4</td>\n",
       "      <td>XBOX 360</td>\n",
       "      <td>16</td>\n",
       "    </tr>\n",
       "    <tr>\n",
       "      <th>16</th>\n",
       "      <td>Игровые консоли - XBOX ONE</td>\n",
       "      <td>16</td>\n",
       "      <td>[Игровые консоли ,  XBOX ONE]</td>\n",
       "      <td>Игровые консоли</td>\n",
       "      <td>4</td>\n",
       "      <td>XBOX ONE</td>\n",
       "      <td>17</td>\n",
       "    </tr>\n",
       "    <tr>\n",
       "      <th>17</th>\n",
       "      <td>Игровые консоли - Прочие</td>\n",
       "      <td>17</td>\n",
       "      <td>[Игровые консоли ,  Прочие]</td>\n",
       "      <td>Игровые консоли</td>\n",
       "      <td>4</td>\n",
       "      <td>Прочие</td>\n",
       "      <td>50</td>\n",
       "    </tr>\n",
       "    <tr>\n",
       "      <th>18</th>\n",
       "      <td>Игры - PS2</td>\n",
       "      <td>18</td>\n",
       "      <td>[Игры ,  PS2]</td>\n",
       "      <td>Игры</td>\n",
       "      <td>5</td>\n",
       "      <td>PS2</td>\n",
       "      <td>9</td>\n",
       "    </tr>\n",
       "    <tr>\n",
       "      <th>19</th>\n",
       "      <td>Игры - PS3</td>\n",
       "      <td>19</td>\n",
       "      <td>[Игры ,  PS3]</td>\n",
       "      <td>Игры</td>\n",
       "      <td>5</td>\n",
       "      <td>PS3</td>\n",
       "      <td>10</td>\n",
       "    </tr>\n",
       "    <tr>\n",
       "      <th>20</th>\n",
       "      <td>Игры - PS4</td>\n",
       "      <td>20</td>\n",
       "      <td>[Игры ,  PS4]</td>\n",
       "      <td>Игры</td>\n",
       "      <td>5</td>\n",
       "      <td>PS4</td>\n",
       "      <td>11</td>\n",
       "    </tr>\n",
       "    <tr>\n",
       "      <th>21</th>\n",
       "      <td>Игры - PSP</td>\n",
       "      <td>21</td>\n",
       "      <td>[Игры ,  PSP]</td>\n",
       "      <td>Игры</td>\n",
       "      <td>5</td>\n",
       "      <td>PSP</td>\n",
       "      <td>13</td>\n",
       "    </tr>\n",
       "    <tr>\n",
       "      <th>22</th>\n",
       "      <td>Игры - PSVita</td>\n",
       "      <td>22</td>\n",
       "      <td>[Игры ,  PSVita]</td>\n",
       "      <td>Игры</td>\n",
       "      <td>5</td>\n",
       "      <td>PSVita</td>\n",
       "      <td>14</td>\n",
       "    </tr>\n",
       "    <tr>\n",
       "      <th>23</th>\n",
       "      <td>Игры - XBOX 360</td>\n",
       "      <td>23</td>\n",
       "      <td>[Игры ,  XBOX 360]</td>\n",
       "      <td>Игры</td>\n",
       "      <td>5</td>\n",
       "      <td>XBOX 360</td>\n",
       "      <td>16</td>\n",
       "    </tr>\n",
       "    <tr>\n",
       "      <th>24</th>\n",
       "      <td>Игры - XBOX ONE</td>\n",
       "      <td>24</td>\n",
       "      <td>[Игры ,  XBOX ONE]</td>\n",
       "      <td>Игры</td>\n",
       "      <td>5</td>\n",
       "      <td>XBOX ONE</td>\n",
       "      <td>17</td>\n",
       "    </tr>\n",
       "    <tr>\n",
       "      <th>25</th>\n",
       "      <td>Игры - Аксессуары для игр</td>\n",
       "      <td>25</td>\n",
       "      <td>[Игры ,  Аксессуары для игр]</td>\n",
       "      <td>Игры</td>\n",
       "      <td>5</td>\n",
       "      <td>Аксессуары для игр</td>\n",
       "      <td>18</td>\n",
       "    </tr>\n",
       "    <tr>\n",
       "      <th>26</th>\n",
       "      <td>Игры Android - Цифра</td>\n",
       "      <td>26</td>\n",
       "      <td>[Игры Android ,  Цифра]</td>\n",
       "      <td>Игры Android</td>\n",
       "      <td>6</td>\n",
       "      <td>Цифра</td>\n",
       "      <td>61</td>\n",
       "    </tr>\n",
       "    <tr>\n",
       "      <th>27</th>\n",
       "      <td>Игры MAC - Цифра</td>\n",
       "      <td>27</td>\n",
       "      <td>[Игры MAC ,  Цифра]</td>\n",
       "      <td>Игры MAC</td>\n",
       "      <td>7</td>\n",
       "      <td>Цифра</td>\n",
       "      <td>61</td>\n",
       "    </tr>\n",
       "    <tr>\n",
       "      <th>28</th>\n",
       "      <td>Игры PC - Дополнительные издания</td>\n",
       "      <td>28</td>\n",
       "      <td>[Игры PC ,  Дополнительные издания]</td>\n",
       "      <td>Игры PC</td>\n",
       "      <td>8</td>\n",
       "      <td>Дополнительные издания</td>\n",
       "      <td>32</td>\n",
       "    </tr>\n",
       "    <tr>\n",
       "      <th>29</th>\n",
       "      <td>Игры PC - Коллекционные издания</td>\n",
       "      <td>29</td>\n",
       "      <td>[Игры PC ,  Коллекционные издания]</td>\n",
       "      <td>Игры PC</td>\n",
       "      <td>8</td>\n",
       "      <td>Коллекционные издания</td>\n",
       "      <td>36</td>\n",
       "    </tr>\n",
       "  </tbody>\n",
       "</table>\n",
       "</div>"
      ],
      "text/plain": [
       "                  item_category_name  item_category_id  \\\n",
       "0            PC - Гарнитуры/Наушники                 0   \n",
       "1                   Аксессуары - PS2                 1   \n",
       "2                   Аксессуары - PS3                 2   \n",
       "3                   Аксессуары - PS4                 3   \n",
       "4                   Аксессуары - PSP                 4   \n",
       "5                Аксессуары - PSVita                 5   \n",
       "6              Аксессуары - XBOX 360                 6   \n",
       "7              Аксессуары - XBOX ONE                 7   \n",
       "8                     Билеты (Цифра)                 8   \n",
       "9                    Доставка товара                 9   \n",
       "10             Игровые консоли - PS2                10   \n",
       "11             Игровые консоли - PS3                11   \n",
       "12             Игровые консоли - PS4                12   \n",
       "13             Игровые консоли - PSP                13   \n",
       "14          Игровые консоли - PSVita                14   \n",
       "15        Игровые консоли - XBOX 360                15   \n",
       "16        Игровые консоли - XBOX ONE                16   \n",
       "17          Игровые консоли - Прочие                17   \n",
       "18                        Игры - PS2                18   \n",
       "19                        Игры - PS3                19   \n",
       "20                        Игры - PS4                20   \n",
       "21                        Игры - PSP                21   \n",
       "22                     Игры - PSVita                22   \n",
       "23                   Игры - XBOX 360                23   \n",
       "24                   Игры - XBOX ONE                24   \n",
       "25         Игры - Аксессуары для игр                25   \n",
       "26              Игры Android - Цифра                26   \n",
       "27                  Игры MAC - Цифра                27   \n",
       "28  Игры PC - Дополнительные издания                28   \n",
       "29   Игры PC - Коллекционные издания                29   \n",
       "\n",
       "                                  split             type  type_id  \\\n",
       "0            [PC ,  Гарнитуры/Наушники]               PC        0   \n",
       "1                   [Аксессуары ,  PS2]       Аксессуары        1   \n",
       "2                   [Аксессуары ,  PS3]       Аксессуары        1   \n",
       "3                   [Аксессуары ,  PS4]       Аксессуары        1   \n",
       "4                   [Аксессуары ,  PSP]       Аксессуары        1   \n",
       "5                [Аксессуары ,  PSVita]       Аксессуары        1   \n",
       "6              [Аксессуары ,  XBOX 360]       Аксессуары        1   \n",
       "7              [Аксессуары ,  XBOX ONE]       Аксессуары        1   \n",
       "8                      [Билеты (Цифра)]   Билеты (Цифра)        2   \n",
       "9                     [Доставка товара]  Доставка товара        3   \n",
       "10             [Игровые консоли ,  PS2]  Игровые консоли        4   \n",
       "11             [Игровые консоли ,  PS3]  Игровые консоли        4   \n",
       "12             [Игровые консоли ,  PS4]  Игровые консоли        4   \n",
       "13             [Игровые консоли ,  PSP]  Игровые консоли        4   \n",
       "14          [Игровые консоли ,  PSVita]  Игровые консоли        4   \n",
       "15        [Игровые консоли ,  XBOX 360]  Игровые консоли        4   \n",
       "16        [Игровые консоли ,  XBOX ONE]  Игровые консоли        4   \n",
       "17          [Игровые консоли ,  Прочие]  Игровые консоли        4   \n",
       "18                        [Игры ,  PS2]             Игры        5   \n",
       "19                        [Игры ,  PS3]             Игры        5   \n",
       "20                        [Игры ,  PS4]             Игры        5   \n",
       "21                        [Игры ,  PSP]             Игры        5   \n",
       "22                     [Игры ,  PSVita]             Игры        5   \n",
       "23                   [Игры ,  XBOX 360]             Игры        5   \n",
       "24                   [Игры ,  XBOX ONE]             Игры        5   \n",
       "25         [Игры ,  Аксессуары для игр]             Игры        5   \n",
       "26              [Игры Android ,  Цифра]     Игры Android        6   \n",
       "27                  [Игры MAC ,  Цифра]         Игры MAC        7   \n",
       "28  [Игры PC ,  Дополнительные издания]          Игры PC        8   \n",
       "29   [Игры PC ,  Коллекционные издания]          Игры PC        8   \n",
       "\n",
       "                   subtype  subtype_id  \n",
       "0       Гарнитуры/Наушники          29  \n",
       "1                      PS2           9  \n",
       "2                      PS3          10  \n",
       "3                      PS4          11  \n",
       "4                      PSP          13  \n",
       "5                   PSVita          14  \n",
       "6                 XBOX 360          16  \n",
       "7                 XBOX ONE          17  \n",
       "8           Билеты (Цифра)          26  \n",
       "9          Доставка товара          33  \n",
       "10                     PS2           9  \n",
       "11                     PS3          10  \n",
       "12                     PS4          11  \n",
       "13                     PSP          13  \n",
       "14                  PSVita          14  \n",
       "15                XBOX 360          16  \n",
       "16                XBOX ONE          17  \n",
       "17                  Прочие          50  \n",
       "18                     PS2           9  \n",
       "19                     PS3          10  \n",
       "20                     PS4          11  \n",
       "21                     PSP          13  \n",
       "22                  PSVita          14  \n",
       "23                XBOX 360          16  \n",
       "24                XBOX ONE          17  \n",
       "25      Аксессуары для игр          18  \n",
       "26                   Цифра          61  \n",
       "27                   Цифра          61  \n",
       "28  Дополнительные издания          32  \n",
       "29   Коллекционные издания          36  "
      ]
     },
     "execution_count": 17,
     "metadata": {},
     "output_type": "execute_result"
    }
   ],
   "source": [
    "item_categories.head(30)"
   ]
  },
  {
   "cell_type": "code",
   "execution_count": 18,
   "metadata": {
    "ExecuteTime": {
     "end_time": "2021-12-06T11:10:10.599330Z",
     "start_time": "2021-12-06T11:10:10.576208Z"
    }
   },
   "outputs": [],
   "source": [
    "item_categories = item_categories[['item_category_id','type_id', 'subtype_id']]"
   ]
  },
  {
   "cell_type": "code",
   "execution_count": 19,
   "metadata": {
    "ExecuteTime": {
     "end_time": "2021-12-06T11:10:10.631054Z",
     "start_time": "2021-12-06T11:10:10.609111Z"
    }
   },
   "outputs": [],
   "source": [
    "item_categories = item_categories.astype('int64')"
   ]
  },
  {
   "cell_type": "code",
   "execution_count": 20,
   "metadata": {
    "ExecuteTime": {
     "end_time": "2021-12-06T11:10:10.677459Z",
     "start_time": "2021-12-06T11:10:10.639073Z"
    }
   },
   "outputs": [],
   "source": [
    "item_categories.to_csv('item_categories_pre.csv', index=False)"
   ]
  },
  {
   "cell_type": "markdown",
   "metadata": {},
   "source": [
    "## Data merge"
   ]
  },
  {
   "cell_type": "code",
   "execution_count": 21,
   "metadata": {
    "ExecuteTime": {
     "end_time": "2021-12-06T11:10:10.707848Z",
     "start_time": "2021-12-06T11:10:10.686196Z"
    }
   },
   "outputs": [],
   "source": [
    "items.drop('item_name', axis=1, inplace=True)"
   ]
  },
  {
   "cell_type": "code",
   "execution_count": 22,
   "metadata": {
    "ExecuteTime": {
     "end_time": "2021-12-06T11:10:12.749993Z",
     "start_time": "2021-12-06T11:10:10.719817Z"
    }
   },
   "outputs": [
    {
     "data": {
      "text/html": [
       "<div>\n",
       "<style scoped>\n",
       "    .dataframe tbody tr th:only-of-type {\n",
       "        vertical-align: middle;\n",
       "    }\n",
       "\n",
       "    .dataframe tbody tr th {\n",
       "        vertical-align: top;\n",
       "    }\n",
       "\n",
       "    .dataframe thead th {\n",
       "        text-align: right;\n",
       "    }\n",
       "</style>\n",
       "<table border=\"1\" class=\"dataframe\">\n",
       "  <thead>\n",
       "    <tr style=\"text-align: right;\">\n",
       "      <th></th>\n",
       "      <th>date</th>\n",
       "      <th>date_block_num</th>\n",
       "      <th>shop_id</th>\n",
       "      <th>item_id</th>\n",
       "      <th>item_price</th>\n",
       "      <th>item_cnt_day</th>\n",
       "      <th>item_category_id</th>\n",
       "      <th>type_id</th>\n",
       "      <th>subtype_id</th>\n",
       "    </tr>\n",
       "  </thead>\n",
       "  <tbody>\n",
       "    <tr>\n",
       "      <th>0</th>\n",
       "      <td>02.01.2013</td>\n",
       "      <td>0</td>\n",
       "      <td>59</td>\n",
       "      <td>22154</td>\n",
       "      <td>999.0</td>\n",
       "      <td>1.0</td>\n",
       "      <td>37</td>\n",
       "      <td>11</td>\n",
       "      <td>1</td>\n",
       "    </tr>\n",
       "    <tr>\n",
       "      <th>1</th>\n",
       "      <td>23.01.2013</td>\n",
       "      <td>0</td>\n",
       "      <td>24</td>\n",
       "      <td>22154</td>\n",
       "      <td>999.0</td>\n",
       "      <td>1.0</td>\n",
       "      <td>37</td>\n",
       "      <td>11</td>\n",
       "      <td>1</td>\n",
       "    </tr>\n",
       "    <tr>\n",
       "      <th>2</th>\n",
       "      <td>20.01.2013</td>\n",
       "      <td>0</td>\n",
       "      <td>27</td>\n",
       "      <td>22154</td>\n",
       "      <td>999.0</td>\n",
       "      <td>1.0</td>\n",
       "      <td>37</td>\n",
       "      <td>11</td>\n",
       "      <td>1</td>\n",
       "    </tr>\n",
       "    <tr>\n",
       "      <th>3</th>\n",
       "      <td>02.01.2013</td>\n",
       "      <td>0</td>\n",
       "      <td>25</td>\n",
       "      <td>22154</td>\n",
       "      <td>999.0</td>\n",
       "      <td>1.0</td>\n",
       "      <td>37</td>\n",
       "      <td>11</td>\n",
       "      <td>1</td>\n",
       "    </tr>\n",
       "    <tr>\n",
       "      <th>4</th>\n",
       "      <td>03.01.2013</td>\n",
       "      <td>0</td>\n",
       "      <td>25</td>\n",
       "      <td>22154</td>\n",
       "      <td>999.0</td>\n",
       "      <td>1.0</td>\n",
       "      <td>37</td>\n",
       "      <td>11</td>\n",
       "      <td>1</td>\n",
       "    </tr>\n",
       "  </tbody>\n",
       "</table>\n",
       "</div>"
      ],
      "text/plain": [
       "         date  date_block_num  shop_id  item_id  item_price  item_cnt_day  \\\n",
       "0  02.01.2013               0       59    22154       999.0           1.0   \n",
       "1  23.01.2013               0       24    22154       999.0           1.0   \n",
       "2  20.01.2013               0       27    22154       999.0           1.0   \n",
       "3  02.01.2013               0       25    22154       999.0           1.0   \n",
       "4  03.01.2013               0       25    22154       999.0           1.0   \n",
       "\n",
       "   item_category_id  type_id  subtype_id  \n",
       "0                37       11           1  \n",
       "1                37       11           1  \n",
       "2                37       11           1  \n",
       "3                37       11           1  \n",
       "4                37       11           1  "
      ]
     },
     "execution_count": 22,
     "metadata": {},
     "output_type": "execute_result"
    }
   ],
   "source": [
    "train = pd.merge(train, items)\n",
    "train = pd.merge(train, item_categories)\n",
    "train.head()"
   ]
  },
  {
   "cell_type": "code",
   "execution_count": 23,
   "metadata": {
    "ExecuteTime": {
     "end_time": "2021-12-06T11:10:12.891138Z",
     "start_time": "2021-12-06T11:10:12.753830Z"
    }
   },
   "outputs": [
    {
     "data": {
      "text/html": [
       "<div>\n",
       "<style scoped>\n",
       "    .dataframe tbody tr th:only-of-type {\n",
       "        vertical-align: middle;\n",
       "    }\n",
       "\n",
       "    .dataframe tbody tr th {\n",
       "        vertical-align: top;\n",
       "    }\n",
       "\n",
       "    .dataframe thead th {\n",
       "        text-align: right;\n",
       "    }\n",
       "</style>\n",
       "<table border=\"1\" class=\"dataframe\">\n",
       "  <thead>\n",
       "    <tr style=\"text-align: right;\">\n",
       "      <th></th>\n",
       "      <th>ID</th>\n",
       "      <th>shop_id</th>\n",
       "      <th>item_id</th>\n",
       "      <th>item_category_id</th>\n",
       "      <th>type_id</th>\n",
       "      <th>subtype_id</th>\n",
       "    </tr>\n",
       "  </thead>\n",
       "  <tbody>\n",
       "    <tr>\n",
       "      <th>0</th>\n",
       "      <td>0</td>\n",
       "      <td>5</td>\n",
       "      <td>5037</td>\n",
       "      <td>19</td>\n",
       "      <td>5</td>\n",
       "      <td>10</td>\n",
       "    </tr>\n",
       "    <tr>\n",
       "      <th>1</th>\n",
       "      <td>5100</td>\n",
       "      <td>4</td>\n",
       "      <td>5037</td>\n",
       "      <td>19</td>\n",
       "      <td>5</td>\n",
       "      <td>10</td>\n",
       "    </tr>\n",
       "    <tr>\n",
       "      <th>2</th>\n",
       "      <td>10200</td>\n",
       "      <td>6</td>\n",
       "      <td>5037</td>\n",
       "      <td>19</td>\n",
       "      <td>5</td>\n",
       "      <td>10</td>\n",
       "    </tr>\n",
       "    <tr>\n",
       "      <th>3</th>\n",
       "      <td>15300</td>\n",
       "      <td>3</td>\n",
       "      <td>5037</td>\n",
       "      <td>19</td>\n",
       "      <td>5</td>\n",
       "      <td>10</td>\n",
       "    </tr>\n",
       "    <tr>\n",
       "      <th>4</th>\n",
       "      <td>20400</td>\n",
       "      <td>2</td>\n",
       "      <td>5037</td>\n",
       "      <td>19</td>\n",
       "      <td>5</td>\n",
       "      <td>10</td>\n",
       "    </tr>\n",
       "  </tbody>\n",
       "</table>\n",
       "</div>"
      ],
      "text/plain": [
       "      ID  shop_id  item_id  item_category_id  type_id  subtype_id\n",
       "0      0        5     5037                19        5          10\n",
       "1   5100        4     5037                19        5          10\n",
       "2  10200        6     5037                19        5          10\n",
       "3  15300        3     5037                19        5          10\n",
       "4  20400        2     5037                19        5          10"
      ]
     },
     "execution_count": 23,
     "metadata": {},
     "output_type": "execute_result"
    }
   ],
   "source": [
    "test = pd.merge(test, items)\n",
    "test = pd.merge(test, item_categories)\n",
    "test.head()"
   ]
  },
  {
   "cell_type": "markdown",
   "metadata": {},
   "source": [
    "## Info"
   ]
  },
  {
   "cell_type": "code",
   "execution_count": 24,
   "metadata": {
    "ExecuteTime": {
     "end_time": "2021-12-06T11:10:12.906530Z",
     "start_time": "2021-12-06T11:10:12.894127Z"
    }
   },
   "outputs": [],
   "source": [
    "def data_summary(data):\n",
    "    summary = pd.DataFrame(data.dtypes, columns=['Dtype'])\n",
    "    summary = summary.rename(columns={'index': 'Feature'})\n",
    "    summary['Count'] = data.shape[0]\n",
    "    summary['Unique value'] = data.nunique().values\n",
    "    summary['Null count'] = data.isnull().sum().values\n",
    "    summary['Null percent'] = data.isnull().sum().values / len(data) * 100\n",
    "    summary['Null percent'] = round(summary['Null percent'], 1)\n",
    "    \n",
    "    return summary"
   ]
  },
  {
   "cell_type": "code",
   "execution_count": 25,
   "metadata": {
    "ExecuteTime": {
     "end_time": "2021-12-06T11:10:14.482034Z",
     "start_time": "2021-12-06T11:10:12.910449Z"
    }
   },
   "outputs": [],
   "source": [
    "train_summary = data_summary(train)"
   ]
  },
  {
   "cell_type": "code",
   "execution_count": 26,
   "metadata": {
    "ExecuteTime": {
     "end_time": "2021-12-06T11:10:14.590535Z",
     "start_time": "2021-12-06T11:10:14.486815Z"
    }
   },
   "outputs": [],
   "source": [
    "test_summary = data_summary(test)"
   ]
  },
  {
   "cell_type": "code",
   "execution_count": 27,
   "metadata": {
    "ExecuteTime": {
     "end_time": "2021-12-06T11:10:14.667244Z",
     "start_time": "2021-12-06T11:10:14.608486Z"
    }
   },
   "outputs": [
    {
     "data": {
      "text/html": [
       "<div>\n",
       "<style scoped>\n",
       "    .dataframe tbody tr th:only-of-type {\n",
       "        vertical-align: middle;\n",
       "    }\n",
       "\n",
       "    .dataframe tbody tr th {\n",
       "        vertical-align: top;\n",
       "    }\n",
       "\n",
       "    .dataframe thead tr th {\n",
       "        text-align: left;\n",
       "    }\n",
       "</style>\n",
       "<table border=\"1\" class=\"dataframe\">\n",
       "  <thead>\n",
       "    <tr>\n",
       "      <th></th>\n",
       "      <th colspan=\"5\" halign=\"left\">Train</th>\n",
       "      <th colspan=\"5\" halign=\"left\">Test</th>\n",
       "    </tr>\n",
       "    <tr>\n",
       "      <th></th>\n",
       "      <th>Dtype</th>\n",
       "      <th>Count</th>\n",
       "      <th>Unique value</th>\n",
       "      <th>Null count</th>\n",
       "      <th>Null percent</th>\n",
       "      <th>Dtype</th>\n",
       "      <th>Count</th>\n",
       "      <th>Unique value</th>\n",
       "      <th>Null count</th>\n",
       "      <th>Null percent</th>\n",
       "    </tr>\n",
       "  </thead>\n",
       "  <tbody>\n",
       "    <tr>\n",
       "      <th>date</th>\n",
       "      <td>object</td>\n",
       "      <td>2935849.0</td>\n",
       "      <td>1034.0</td>\n",
       "      <td>0.0</td>\n",
       "      <td>0.0</td>\n",
       "      <td>NaN</td>\n",
       "      <td>NaN</td>\n",
       "      <td>NaN</td>\n",
       "      <td>NaN</td>\n",
       "      <td>NaN</td>\n",
       "    </tr>\n",
       "    <tr>\n",
       "      <th>date_block_num</th>\n",
       "      <td>int64</td>\n",
       "      <td>2935849.0</td>\n",
       "      <td>34.0</td>\n",
       "      <td>0.0</td>\n",
       "      <td>0.0</td>\n",
       "      <td>NaN</td>\n",
       "      <td>NaN</td>\n",
       "      <td>NaN</td>\n",
       "      <td>NaN</td>\n",
       "      <td>NaN</td>\n",
       "    </tr>\n",
       "    <tr>\n",
       "      <th>shop_id</th>\n",
       "      <td>int64</td>\n",
       "      <td>2935849.0</td>\n",
       "      <td>60.0</td>\n",
       "      <td>0.0</td>\n",
       "      <td>0.0</td>\n",
       "      <td>int64</td>\n",
       "      <td>214200.0</td>\n",
       "      <td>42.0</td>\n",
       "      <td>0.0</td>\n",
       "      <td>0.0</td>\n",
       "    </tr>\n",
       "    <tr>\n",
       "      <th>item_id</th>\n",
       "      <td>int64</td>\n",
       "      <td>2935849.0</td>\n",
       "      <td>21807.0</td>\n",
       "      <td>0.0</td>\n",
       "      <td>0.0</td>\n",
       "      <td>int64</td>\n",
       "      <td>214200.0</td>\n",
       "      <td>5100.0</td>\n",
       "      <td>0.0</td>\n",
       "      <td>0.0</td>\n",
       "    </tr>\n",
       "    <tr>\n",
       "      <th>item_price</th>\n",
       "      <td>float64</td>\n",
       "      <td>2935849.0</td>\n",
       "      <td>19993.0</td>\n",
       "      <td>0.0</td>\n",
       "      <td>0.0</td>\n",
       "      <td>NaN</td>\n",
       "      <td>NaN</td>\n",
       "      <td>NaN</td>\n",
       "      <td>NaN</td>\n",
       "      <td>NaN</td>\n",
       "    </tr>\n",
       "    <tr>\n",
       "      <th>item_cnt_day</th>\n",
       "      <td>float64</td>\n",
       "      <td>2935849.0</td>\n",
       "      <td>198.0</td>\n",
       "      <td>0.0</td>\n",
       "      <td>0.0</td>\n",
       "      <td>NaN</td>\n",
       "      <td>NaN</td>\n",
       "      <td>NaN</td>\n",
       "      <td>NaN</td>\n",
       "      <td>NaN</td>\n",
       "    </tr>\n",
       "    <tr>\n",
       "      <th>item_category_id</th>\n",
       "      <td>int64</td>\n",
       "      <td>2935849.0</td>\n",
       "      <td>84.0</td>\n",
       "      <td>0.0</td>\n",
       "      <td>0.0</td>\n",
       "      <td>int64</td>\n",
       "      <td>214200.0</td>\n",
       "      <td>62.0</td>\n",
       "      <td>0.0</td>\n",
       "      <td>0.0</td>\n",
       "    </tr>\n",
       "    <tr>\n",
       "      <th>type_id</th>\n",
       "      <td>int64</td>\n",
       "      <td>2935849.0</td>\n",
       "      <td>20.0</td>\n",
       "      <td>0.0</td>\n",
       "      <td>0.0</td>\n",
       "      <td>int64</td>\n",
       "      <td>214200.0</td>\n",
       "      <td>16.0</td>\n",
       "      <td>0.0</td>\n",
       "      <td>0.0</td>\n",
       "    </tr>\n",
       "    <tr>\n",
       "      <th>subtype_id</th>\n",
       "      <td>int64</td>\n",
       "      <td>2935849.0</td>\n",
       "      <td>65.0</td>\n",
       "      <td>0.0</td>\n",
       "      <td>0.0</td>\n",
       "      <td>int64</td>\n",
       "      <td>214200.0</td>\n",
       "      <td>49.0</td>\n",
       "      <td>0.0</td>\n",
       "      <td>0.0</td>\n",
       "    </tr>\n",
       "    <tr>\n",
       "      <th>ID</th>\n",
       "      <td>NaN</td>\n",
       "      <td>NaN</td>\n",
       "      <td>NaN</td>\n",
       "      <td>NaN</td>\n",
       "      <td>NaN</td>\n",
       "      <td>int64</td>\n",
       "      <td>214200.0</td>\n",
       "      <td>214200.0</td>\n",
       "      <td>0.0</td>\n",
       "      <td>0.0</td>\n",
       "    </tr>\n",
       "  </tbody>\n",
       "</table>\n",
       "</div>"
      ],
      "text/plain": [
       "                    Train                                                  \\\n",
       "                    Dtype      Count Unique value Null count Null percent   \n",
       "date               object  2935849.0       1034.0        0.0          0.0   \n",
       "date_block_num      int64  2935849.0         34.0        0.0          0.0   \n",
       "shop_id             int64  2935849.0         60.0        0.0          0.0   \n",
       "item_id             int64  2935849.0      21807.0        0.0          0.0   \n",
       "item_price        float64  2935849.0      19993.0        0.0          0.0   \n",
       "item_cnt_day      float64  2935849.0        198.0        0.0          0.0   \n",
       "item_category_id    int64  2935849.0         84.0        0.0          0.0   \n",
       "type_id             int64  2935849.0         20.0        0.0          0.0   \n",
       "subtype_id          int64  2935849.0         65.0        0.0          0.0   \n",
       "ID                    NaN        NaN          NaN        NaN          NaN   \n",
       "\n",
       "                   Test                                                 \n",
       "                  Dtype     Count Unique value Null count Null percent  \n",
       "date                NaN       NaN          NaN        NaN          NaN  \n",
       "date_block_num      NaN       NaN          NaN        NaN          NaN  \n",
       "shop_id           int64  214200.0         42.0        0.0          0.0  \n",
       "item_id           int64  214200.0       5100.0        0.0          0.0  \n",
       "item_price          NaN       NaN          NaN        NaN          NaN  \n",
       "item_cnt_day        NaN       NaN          NaN        NaN          NaN  \n",
       "item_category_id  int64  214200.0         62.0        0.0          0.0  \n",
       "type_id           int64  214200.0         16.0        0.0          0.0  \n",
       "subtype_id        int64  214200.0         49.0        0.0          0.0  \n",
       "ID                int64  214200.0     214200.0        0.0          0.0  "
      ]
     },
     "execution_count": 27,
     "metadata": {},
     "output_type": "execute_result"
    }
   ],
   "source": [
    "summary = pd.concat([train_summary, test_summary], axis=1, keys=['Train', 'Test'])\n",
    "summary"
   ]
  },
  {
   "cell_type": "code",
   "execution_count": 28,
   "metadata": {
    "ExecuteTime": {
     "end_time": "2021-12-06T11:10:14.699238Z",
     "start_time": "2021-12-06T11:10:14.677213Z"
    }
   },
   "outputs": [
    {
     "data": {
      "text/plain": [
       "int64      6\n",
       "float64    2\n",
       "object     1\n",
       "dtype: int64"
      ]
     },
     "execution_count": 28,
     "metadata": {},
     "output_type": "execute_result"
    }
   ],
   "source": [
    "train.dtypes.value_counts()"
   ]
  },
  {
   "cell_type": "code",
   "execution_count": 29,
   "metadata": {
    "ExecuteTime": {
     "end_time": "2021-12-06T11:10:14.729110Z",
     "start_time": "2021-12-06T11:10:14.703144Z"
    }
   },
   "outputs": [
    {
     "data": {
      "text/plain": [
       "int64    6\n",
       "dtype: int64"
      ]
     },
     "execution_count": 29,
     "metadata": {},
     "output_type": "execute_result"
    }
   ],
   "source": [
    "test.dtypes.value_counts()"
   ]
  },
  {
   "cell_type": "code",
   "execution_count": 30,
   "metadata": {
    "ExecuteTime": {
     "end_time": "2021-12-06T11:10:14.761216Z",
     "start_time": "2021-12-06T11:10:14.733067Z"
    }
   },
   "outputs": [
    {
     "data": {
      "text/html": [
       "<div>\n",
       "<style scoped>\n",
       "    .dataframe tbody tr th:only-of-type {\n",
       "        vertical-align: middle;\n",
       "    }\n",
       "\n",
       "    .dataframe tbody tr th {\n",
       "        vertical-align: top;\n",
       "    }\n",
       "\n",
       "    .dataframe thead th {\n",
       "        text-align: right;\n",
       "    }\n",
       "</style>\n",
       "<table border=\"1\" class=\"dataframe\">\n",
       "  <thead>\n",
       "    <tr style=\"text-align: right;\">\n",
       "      <th></th>\n",
       "      <th>Dtype</th>\n",
       "      <th>Count</th>\n",
       "      <th>Unique value</th>\n",
       "      <th>Null count</th>\n",
       "      <th>Null percent</th>\n",
       "    </tr>\n",
       "  </thead>\n",
       "  <tbody>\n",
       "    <tr>\n",
       "      <th>item_id</th>\n",
       "      <td>int64</td>\n",
       "      <td>22170</td>\n",
       "      <td>22170</td>\n",
       "      <td>0</td>\n",
       "      <td>0.0</td>\n",
       "    </tr>\n",
       "    <tr>\n",
       "      <th>item_category_id</th>\n",
       "      <td>int64</td>\n",
       "      <td>22170</td>\n",
       "      <td>84</td>\n",
       "      <td>0</td>\n",
       "      <td>0.0</td>\n",
       "    </tr>\n",
       "  </tbody>\n",
       "</table>\n",
       "</div>"
      ],
      "text/plain": [
       "                  Dtype  Count  Unique value  Null count  Null percent\n",
       "item_id           int64  22170         22170           0           0.0\n",
       "item_category_id  int64  22170            84           0           0.0"
      ]
     },
     "execution_count": 30,
     "metadata": {},
     "output_type": "execute_result"
    }
   ],
   "source": [
    "items_summary = data_summary(items)\n",
    "items_summary"
   ]
  },
  {
   "cell_type": "code",
   "execution_count": 31,
   "metadata": {
    "ExecuteTime": {
     "end_time": "2021-12-06T11:10:14.808862Z",
     "start_time": "2021-12-06T11:10:14.764978Z"
    }
   },
   "outputs": [
    {
     "data": {
      "text/html": [
       "<div>\n",
       "<style scoped>\n",
       "    .dataframe tbody tr th:only-of-type {\n",
       "        vertical-align: middle;\n",
       "    }\n",
       "\n",
       "    .dataframe tbody tr th {\n",
       "        vertical-align: top;\n",
       "    }\n",
       "\n",
       "    .dataframe thead th {\n",
       "        text-align: right;\n",
       "    }\n",
       "</style>\n",
       "<table border=\"1\" class=\"dataframe\">\n",
       "  <thead>\n",
       "    <tr style=\"text-align: right;\">\n",
       "      <th></th>\n",
       "      <th>Dtype</th>\n",
       "      <th>Count</th>\n",
       "      <th>Unique value</th>\n",
       "      <th>Null count</th>\n",
       "      <th>Null percent</th>\n",
       "    </tr>\n",
       "  </thead>\n",
       "  <tbody>\n",
       "    <tr>\n",
       "      <th>item_category_id</th>\n",
       "      <td>int64</td>\n",
       "      <td>84</td>\n",
       "      <td>84</td>\n",
       "      <td>0</td>\n",
       "      <td>0.0</td>\n",
       "    </tr>\n",
       "    <tr>\n",
       "      <th>type_id</th>\n",
       "      <td>int64</td>\n",
       "      <td>84</td>\n",
       "      <td>20</td>\n",
       "      <td>0</td>\n",
       "      <td>0.0</td>\n",
       "    </tr>\n",
       "    <tr>\n",
       "      <th>subtype_id</th>\n",
       "      <td>int64</td>\n",
       "      <td>84</td>\n",
       "      <td>65</td>\n",
       "      <td>0</td>\n",
       "      <td>0.0</td>\n",
       "    </tr>\n",
       "  </tbody>\n",
       "</table>\n",
       "</div>"
      ],
      "text/plain": [
       "                  Dtype  Count  Unique value  Null count  Null percent\n",
       "item_category_id  int64     84            84           0           0.0\n",
       "type_id           int64     84            20           0           0.0\n",
       "subtype_id        int64     84            65           0           0.0"
      ]
     },
     "execution_count": 31,
     "metadata": {},
     "output_type": "execute_result"
    }
   ],
   "source": [
    "item_categories_summary = data_summary(item_categories)\n",
    "item_categories_summary"
   ]
  },
  {
   "cell_type": "code",
   "execution_count": 32,
   "metadata": {
    "ExecuteTime": {
     "end_time": "2021-12-06T11:10:14.856767Z",
     "start_time": "2021-12-06T11:10:14.813847Z"
    }
   },
   "outputs": [
    {
     "data": {
      "text/html": [
       "<div>\n",
       "<style scoped>\n",
       "    .dataframe tbody tr th:only-of-type {\n",
       "        vertical-align: middle;\n",
       "    }\n",
       "\n",
       "    .dataframe tbody tr th {\n",
       "        vertical-align: top;\n",
       "    }\n",
       "\n",
       "    .dataframe thead th {\n",
       "        text-align: right;\n",
       "    }\n",
       "</style>\n",
       "<table border=\"1\" class=\"dataframe\">\n",
       "  <thead>\n",
       "    <tr style=\"text-align: right;\">\n",
       "      <th></th>\n",
       "      <th>Dtype</th>\n",
       "      <th>Count</th>\n",
       "      <th>Unique value</th>\n",
       "      <th>Null count</th>\n",
       "      <th>Null percent</th>\n",
       "    </tr>\n",
       "  </thead>\n",
       "  <tbody>\n",
       "    <tr>\n",
       "      <th>shop_name</th>\n",
       "      <td>object</td>\n",
       "      <td>60</td>\n",
       "      <td>60</td>\n",
       "      <td>0</td>\n",
       "      <td>0.0</td>\n",
       "    </tr>\n",
       "    <tr>\n",
       "      <th>shop_id</th>\n",
       "      <td>int64</td>\n",
       "      <td>60</td>\n",
       "      <td>60</td>\n",
       "      <td>0</td>\n",
       "      <td>0.0</td>\n",
       "    </tr>\n",
       "  </tbody>\n",
       "</table>\n",
       "</div>"
      ],
      "text/plain": [
       "            Dtype  Count  Unique value  Null count  Null percent\n",
       "shop_name  object     60            60           0           0.0\n",
       "shop_id     int64     60            60           0           0.0"
      ]
     },
     "execution_count": 32,
     "metadata": {},
     "output_type": "execute_result"
    }
   ],
   "source": [
    "shops_summary = data_summary(shops)\n",
    "shops_summary"
   ]
  },
  {
   "cell_type": "markdown",
   "metadata": {},
   "source": [
    "## 고유값 확인"
   ]
  },
  {
   "cell_type": "code",
   "execution_count": 33,
   "metadata": {
    "ExecuteTime": {
     "end_time": "2021-12-06T11:10:15.700913Z",
     "start_time": "2021-12-06T11:10:14.860483Z"
    },
    "scrolled": false
   },
   "outputs": [
    {
     "name": "stdout",
     "output_type": "stream",
     "text": [
      "date : ['02.01.2013' '23.01.2013' '20.01.2013' ... '28.07.2015' '29.07.2015'\n",
      " '09.09.2015'] \n",
      "\n",
      "date_block_num : [ 0  1  2  3  7  8  9 11 30 31 32 33  4  5  6 10 12 13 14 15 16 17 18 19\n",
      " 20 21 22 23 24 25 26 28 27 29] \n",
      "\n",
      "shop_id : [59 24 27 25  6 15  7 31 54 42 38 37 46 44 51 16  1  0 28 57 23 58 56 35\n",
      " 47 21 22 19 18  8 30 41 45 32 29 50 53 43 17  2 52 13 14  3 10 12 26  5\n",
      "  4 39 48 49 34 11 36 33  9 40 20 55] \n",
      "\n",
      "item_id : [22154   944   965 ... 13091 13094 13092] \n",
      "\n",
      "item_price : [ 999.          657.          299.         ... 1515.38461538 1533.33333333\n",
      " 1296.27329193] \n",
      "\n",
      "item_cnt_day : [ 1.000e+00  2.000e+00 -1.000e+00  3.000e+00  4.000e+00  6.000e+00\n",
      "  5.000e+00 -2.000e+00  4.500e+01  7.000e+00  8.000e+00  9.000e+00\n",
      "  5.700e+01 -3.000e+00  3.300e+01  3.000e+01  1.000e+01  1.200e+01\n",
      "  1.300e+01  1.600e+01  1.400e+01  1.100e+01  1.700e+01  1.800e+01\n",
      "  3.200e+01  3.100e+01  1.500e+01  2.000e+01  1.900e+01  4.000e+01\n",
      "  1.040e+02  3.800e+01  7.700e+01  4.700e+01  5.500e+01  2.800e+01\n",
      "  1.100e+02  6.500e+01  2.600e+01  2.200e+01  2.400e+01  1.090e+02\n",
      "  4.900e+01  4.100e+01  1.710e+02  3.500e+01  6.700e+01  6.200e+01\n",
      "  3.400e+01  4.600e+01  2.500e+01  5.900e+01  3.700e+01 -4.000e+00\n",
      "  2.700e+01  2.300e+01  2.900e+01  5.200e+01  2.100e+01  8.000e+01\n",
      "  3.600e+01  7.600e+01  1.070e+02  5.600e+01  8.900e+01  5.800e+01\n",
      "  2.170e+02  8.400e+01  1.680e+02  9.200e+01  7.100e+01  1.560e+02\n",
      "  6.800e+01  2.640e+02  8.300e+01  1.480e+02  1.060e+02  1.020e+02\n",
      "  2.880e+02  5.000e+01  5.100e+01  6.100e+01  1.310e+02  4.200e+01\n",
      "  8.700e+01  7.800e+01  1.000e+02  8.200e+01  3.900e+01  1.510e+02\n",
      " -6.000e+00  4.300e+01  5.300e+01  4.400e+01  1.130e+02  1.180e+02\n",
      "  1.270e+02  6.400e+01  9.700e+01  4.800e+01  1.340e+02  8.800e+01\n",
      "  6.600e+01  6.900e+01  1.330e+02  4.800e+02  1.170e+02  1.790e+02\n",
      "  7.900e+01  2.000e+02  7.000e+01  1.500e+02  9.000e+01  6.000e+01\n",
      "  1.350e+02  8.500e+01  5.400e+01  6.300e+01  1.240e+02  7.500e+01\n",
      "  9.100e+01  8.100e+01  2.070e+02  1.210e+02  1.110e+02  1.030e+02\n",
      "  7.300e+01  2.990e+02  1.380e+02  1.450e+02  9.800e+01  6.240e+02\n",
      " -5.000e+00  7.200e+01  1.260e+02  1.300e+02  1.400e+02 -2.200e+01\n",
      "  1.940e+02  2.550e+02  7.400e+01  4.050e+02  3.000e+02  1.640e+02\n",
      "  5.010e+02  2.510e+02 -1.600e+01  1.010e+02  3.130e+02  8.600e+01\n",
      "  5.000e+02  2.050e+02  1.530e+02  1.000e+03  2.220e+02  9.600e+01\n",
      "  2.420e+02  1.050e+02  1.080e+02  5.390e+02  9.500e+01  2.169e+03\n",
      "  9.900e+01  1.150e+02  1.630e+02  3.430e+02  3.250e+02  1.280e+02\n",
      "  4.120e+02  4.010e+02  5.080e+02  1.160e+02  1.290e+02  2.310e+02\n",
      "  1.140e+02  5.020e+02  2.400e+02  1.120e+02  9.300e+01  1.420e+02\n",
      "  1.470e+02  1.670e+02  1.870e+02  2.300e+02  1.490e+02  1.320e+02\n",
      "  1.950e+02  5.120e+02 -9.000e+00  1.540e+02  5.330e+02  1.390e+02\n",
      "  6.370e+02  1.570e+02  6.690e+02  5.040e+02  1.460e+02  1.610e+02] \n",
      "\n",
      "item_category_id : [37 58 56 59 55 23 19 28 30 21 40 75 49 29 22 67 73 77 57 60  4 62 43 15\n",
      "  2  3  5 68 35 33  6 38 25 14 45 41 66 11 69 65 82 81 64 79 63  0 70 13\n",
      " 83 72 61 71 18  9 46  1 48 10 31 76 78 54 44 52 32 39 53 12 20 17  8 16\n",
      " 51 34 24  7 74 26 27 47 50 42 80 36] \n",
      "\n",
      "type_id : [11 13  5  8 15 12 14  1  4  9 18 17 16  0 19  3 10  2  6  7] \n",
      "\n",
      "subtype_id : [ 1 27  3 40  2 16 10 32 55 13  4 30 39 36 14 52  0 44  8 48 28 21 11 53\n",
      " 12  5 18 23 35 47 56 43 63 62 42 54 41 29 57 64 59 20 58  9 33 24 38 61\n",
      " 31 45 22 51 34 60 50 26 17 49  6  7 37 46 19 25 15] \n",
      "\n"
     ]
    }
   ],
   "source": [
    "for column in train.columns :\n",
    "    print(f'{column} : {train[column].unique()}', '\\n')"
   ]
  },
  {
   "cell_type": "code",
   "execution_count": 34,
   "metadata": {
    "ExecuteTime": {
     "end_time": "2021-12-06T11:10:15.796647Z",
     "start_time": "2021-12-06T11:10:15.702819Z"
    }
   },
   "outputs": [
    {
     "data": {
      "text/html": [
       "<div>\n",
       "<style scoped>\n",
       "    .dataframe tbody tr th:only-of-type {\n",
       "        vertical-align: middle;\n",
       "    }\n",
       "\n",
       "    .dataframe tbody tr th {\n",
       "        vertical-align: top;\n",
       "    }\n",
       "\n",
       "    .dataframe thead tr th {\n",
       "        text-align: left;\n",
       "    }\n",
       "</style>\n",
       "<table border=\"1\" class=\"dataframe\">\n",
       "  <thead>\n",
       "    <tr>\n",
       "      <th></th>\n",
       "      <th colspan=\"5\" halign=\"left\">Train</th>\n",
       "      <th colspan=\"5\" halign=\"left\">Test</th>\n",
       "    </tr>\n",
       "    <tr>\n",
       "      <th></th>\n",
       "      <th>Dtype</th>\n",
       "      <th>Count</th>\n",
       "      <th>Unique value</th>\n",
       "      <th>Null count</th>\n",
       "      <th>Null percent</th>\n",
       "      <th>Dtype</th>\n",
       "      <th>Count</th>\n",
       "      <th>Unique value</th>\n",
       "      <th>Null count</th>\n",
       "      <th>Null percent</th>\n",
       "    </tr>\n",
       "  </thead>\n",
       "  <tbody>\n",
       "    <tr>\n",
       "      <th>date</th>\n",
       "      <td>object</td>\n",
       "      <td>2935849.0</td>\n",
       "      <td>1034.0</td>\n",
       "      <td>0.0</td>\n",
       "      <td>0.0</td>\n",
       "      <td>NaN</td>\n",
       "      <td>NaN</td>\n",
       "      <td>NaN</td>\n",
       "      <td>NaN</td>\n",
       "      <td>NaN</td>\n",
       "    </tr>\n",
       "    <tr>\n",
       "      <th>date_block_num</th>\n",
       "      <td>int64</td>\n",
       "      <td>2935849.0</td>\n",
       "      <td>34.0</td>\n",
       "      <td>0.0</td>\n",
       "      <td>0.0</td>\n",
       "      <td>NaN</td>\n",
       "      <td>NaN</td>\n",
       "      <td>NaN</td>\n",
       "      <td>NaN</td>\n",
       "      <td>NaN</td>\n",
       "    </tr>\n",
       "    <tr>\n",
       "      <th>shop_id</th>\n",
       "      <td>int64</td>\n",
       "      <td>2935849.0</td>\n",
       "      <td>60.0</td>\n",
       "      <td>0.0</td>\n",
       "      <td>0.0</td>\n",
       "      <td>int64</td>\n",
       "      <td>214200.0</td>\n",
       "      <td>42.0</td>\n",
       "      <td>0.0</td>\n",
       "      <td>0.0</td>\n",
       "    </tr>\n",
       "    <tr>\n",
       "      <th>item_id</th>\n",
       "      <td>int64</td>\n",
       "      <td>2935849.0</td>\n",
       "      <td>21807.0</td>\n",
       "      <td>0.0</td>\n",
       "      <td>0.0</td>\n",
       "      <td>int64</td>\n",
       "      <td>214200.0</td>\n",
       "      <td>5100.0</td>\n",
       "      <td>0.0</td>\n",
       "      <td>0.0</td>\n",
       "    </tr>\n",
       "    <tr>\n",
       "      <th>item_price</th>\n",
       "      <td>float64</td>\n",
       "      <td>2935849.0</td>\n",
       "      <td>19993.0</td>\n",
       "      <td>0.0</td>\n",
       "      <td>0.0</td>\n",
       "      <td>NaN</td>\n",
       "      <td>NaN</td>\n",
       "      <td>NaN</td>\n",
       "      <td>NaN</td>\n",
       "      <td>NaN</td>\n",
       "    </tr>\n",
       "    <tr>\n",
       "      <th>item_cnt_day</th>\n",
       "      <td>float64</td>\n",
       "      <td>2935849.0</td>\n",
       "      <td>198.0</td>\n",
       "      <td>0.0</td>\n",
       "      <td>0.0</td>\n",
       "      <td>NaN</td>\n",
       "      <td>NaN</td>\n",
       "      <td>NaN</td>\n",
       "      <td>NaN</td>\n",
       "      <td>NaN</td>\n",
       "    </tr>\n",
       "    <tr>\n",
       "      <th>item_category_id</th>\n",
       "      <td>int64</td>\n",
       "      <td>2935849.0</td>\n",
       "      <td>84.0</td>\n",
       "      <td>0.0</td>\n",
       "      <td>0.0</td>\n",
       "      <td>int64</td>\n",
       "      <td>214200.0</td>\n",
       "      <td>62.0</td>\n",
       "      <td>0.0</td>\n",
       "      <td>0.0</td>\n",
       "    </tr>\n",
       "    <tr>\n",
       "      <th>type_id</th>\n",
       "      <td>int64</td>\n",
       "      <td>2935849.0</td>\n",
       "      <td>20.0</td>\n",
       "      <td>0.0</td>\n",
       "      <td>0.0</td>\n",
       "      <td>int64</td>\n",
       "      <td>214200.0</td>\n",
       "      <td>16.0</td>\n",
       "      <td>0.0</td>\n",
       "      <td>0.0</td>\n",
       "    </tr>\n",
       "    <tr>\n",
       "      <th>subtype_id</th>\n",
       "      <td>int64</td>\n",
       "      <td>2935849.0</td>\n",
       "      <td>65.0</td>\n",
       "      <td>0.0</td>\n",
       "      <td>0.0</td>\n",
       "      <td>int64</td>\n",
       "      <td>214200.0</td>\n",
       "      <td>49.0</td>\n",
       "      <td>0.0</td>\n",
       "      <td>0.0</td>\n",
       "    </tr>\n",
       "    <tr>\n",
       "      <th>ID</th>\n",
       "      <td>NaN</td>\n",
       "      <td>NaN</td>\n",
       "      <td>NaN</td>\n",
       "      <td>NaN</td>\n",
       "      <td>NaN</td>\n",
       "      <td>int64</td>\n",
       "      <td>214200.0</td>\n",
       "      <td>214200.0</td>\n",
       "      <td>0.0</td>\n",
       "      <td>0.0</td>\n",
       "    </tr>\n",
       "  </tbody>\n",
       "</table>\n",
       "</div>"
      ],
      "text/plain": [
       "                    Train                                                  \\\n",
       "                    Dtype      Count Unique value Null count Null percent   \n",
       "date               object  2935849.0       1034.0        0.0          0.0   \n",
       "date_block_num      int64  2935849.0         34.0        0.0          0.0   \n",
       "shop_id             int64  2935849.0         60.0        0.0          0.0   \n",
       "item_id             int64  2935849.0      21807.0        0.0          0.0   \n",
       "item_price        float64  2935849.0      19993.0        0.0          0.0   \n",
       "item_cnt_day      float64  2935849.0        198.0        0.0          0.0   \n",
       "item_category_id    int64  2935849.0         84.0        0.0          0.0   \n",
       "type_id             int64  2935849.0         20.0        0.0          0.0   \n",
       "subtype_id          int64  2935849.0         65.0        0.0          0.0   \n",
       "ID                    NaN        NaN          NaN        NaN          NaN   \n",
       "\n",
       "                   Test                                                 \n",
       "                  Dtype     Count Unique value Null count Null percent  \n",
       "date                NaN       NaN          NaN        NaN          NaN  \n",
       "date_block_num      NaN       NaN          NaN        NaN          NaN  \n",
       "shop_id           int64  214200.0         42.0        0.0          0.0  \n",
       "item_id           int64  214200.0       5100.0        0.0          0.0  \n",
       "item_price          NaN       NaN          NaN        NaN          NaN  \n",
       "item_cnt_day        NaN       NaN          NaN        NaN          NaN  \n",
       "item_category_id  int64  214200.0         62.0        0.0          0.0  \n",
       "type_id           int64  214200.0         16.0        0.0          0.0  \n",
       "subtype_id        int64  214200.0         49.0        0.0          0.0  \n",
       "ID                int64  214200.0     214200.0        0.0          0.0  "
      ]
     },
     "execution_count": 34,
     "metadata": {},
     "output_type": "execute_result"
    }
   ],
   "source": [
    "summary[summary['Train']['Unique value'] != summary['Test']['Unique value']]"
   ]
  },
  {
   "cell_type": "code",
   "execution_count": 35,
   "metadata": {
    "ExecuteTime": {
     "end_time": "2021-12-06T11:10:15.860432Z",
     "start_time": "2021-12-06T11:10:15.802550Z"
    }
   },
   "outputs": [
    {
     "data": {
      "text/html": [
       "<div>\n",
       "<style scoped>\n",
       "    .dataframe tbody tr th:only-of-type {\n",
       "        vertical-align: middle;\n",
       "    }\n",
       "\n",
       "    .dataframe tbody tr th {\n",
       "        vertical-align: top;\n",
       "    }\n",
       "\n",
       "    .dataframe thead tr th {\n",
       "        text-align: left;\n",
       "    }\n",
       "</style>\n",
       "<table border=\"1\" class=\"dataframe\">\n",
       "  <thead>\n",
       "    <tr>\n",
       "      <th></th>\n",
       "      <th colspan=\"5\" halign=\"left\">Train</th>\n",
       "      <th colspan=\"5\" halign=\"left\">Test</th>\n",
       "    </tr>\n",
       "    <tr>\n",
       "      <th></th>\n",
       "      <th>Dtype</th>\n",
       "      <th>Count</th>\n",
       "      <th>Unique value</th>\n",
       "      <th>Null count</th>\n",
       "      <th>Null percent</th>\n",
       "      <th>Dtype</th>\n",
       "      <th>Count</th>\n",
       "      <th>Unique value</th>\n",
       "      <th>Null count</th>\n",
       "      <th>Null percent</th>\n",
       "    </tr>\n",
       "  </thead>\n",
       "  <tbody>\n",
       "    <tr>\n",
       "      <th>date</th>\n",
       "      <td>object</td>\n",
       "      <td>2935849.0</td>\n",
       "      <td>1034.0</td>\n",
       "      <td>0.0</td>\n",
       "      <td>0.0</td>\n",
       "      <td>NaN</td>\n",
       "      <td>NaN</td>\n",
       "      <td>NaN</td>\n",
       "      <td>NaN</td>\n",
       "      <td>NaN</td>\n",
       "    </tr>\n",
       "  </tbody>\n",
       "</table>\n",
       "</div>"
      ],
      "text/plain": [
       "       Train                                                  Test        \\\n",
       "       Dtype      Count Unique value Null count Null percent Dtype Count   \n",
       "date  object  2935849.0       1034.0        0.0          0.0   NaN   NaN   \n",
       "\n",
       "                                           \n",
       "     Unique value Null count Null percent  \n",
       "date          NaN        NaN          NaN  "
      ]
     },
     "execution_count": 35,
     "metadata": {},
     "output_type": "execute_result"
    }
   ],
   "source": [
    "# One-hot-encoding 시 주의해야 할 column들\n",
    "summary[(summary['Train']['Unique value'] != summary['Test']['Unique value'])\n",
    "                        & (summary['Train']['Dtype'] == 'object')]"
   ]
  },
  {
   "cell_type": "code",
   "execution_count": 36,
   "metadata": {
    "ExecuteTime": {
     "end_time": "2021-12-06T11:10:15.891695Z",
     "start_time": "2021-12-06T11:10:15.863388Z"
    }
   },
   "outputs": [
    {
     "data": {
      "text/html": [
       "<div>\n",
       "<style scoped>\n",
       "    .dataframe tbody tr th:only-of-type {\n",
       "        vertical-align: middle;\n",
       "    }\n",
       "\n",
       "    .dataframe tbody tr th {\n",
       "        vertical-align: top;\n",
       "    }\n",
       "\n",
       "    .dataframe thead tr th {\n",
       "        text-align: left;\n",
       "    }\n",
       "</style>\n",
       "<table border=\"1\" class=\"dataframe\">\n",
       "  <thead>\n",
       "    <tr>\n",
       "      <th></th>\n",
       "      <th colspan=\"5\" halign=\"left\">Train</th>\n",
       "      <th colspan=\"5\" halign=\"left\">Test</th>\n",
       "    </tr>\n",
       "    <tr>\n",
       "      <th></th>\n",
       "      <th>Dtype</th>\n",
       "      <th>Count</th>\n",
       "      <th>Unique value</th>\n",
       "      <th>Null count</th>\n",
       "      <th>Null percent</th>\n",
       "      <th>Dtype</th>\n",
       "      <th>Count</th>\n",
       "      <th>Unique value</th>\n",
       "      <th>Null count</th>\n",
       "      <th>Null percent</th>\n",
       "    </tr>\n",
       "  </thead>\n",
       "  <tbody>\n",
       "    <tr>\n",
       "      <th>date</th>\n",
       "      <td>object</td>\n",
       "      <td>2935849.0</td>\n",
       "      <td>1034.0</td>\n",
       "      <td>0.0</td>\n",
       "      <td>0.0</td>\n",
       "      <td>NaN</td>\n",
       "      <td>NaN</td>\n",
       "      <td>NaN</td>\n",
       "      <td>NaN</td>\n",
       "      <td>NaN</td>\n",
       "    </tr>\n",
       "  </tbody>\n",
       "</table>\n",
       "</div>"
      ],
      "text/plain": [
       "       Train                                                  Test        \\\n",
       "       Dtype      Count Unique value Null count Null percent Dtype Count   \n",
       "date  object  2935849.0       1034.0        0.0          0.0   NaN   NaN   \n",
       "\n",
       "                                           \n",
       "     Unique value Null count Null percent  \n",
       "date          NaN        NaN          NaN  "
      ]
     },
     "execution_count": 36,
     "metadata": {},
     "output_type": "execute_result"
    }
   ],
   "source": [
    "# 고유값이 너무 많은 column들\n",
    "columns_many = summary[(summary['Train']['Unique value'] > 100) & (summary['Train']['Dtype'] == 'object')]\n",
    "columns_many"
   ]
  },
  {
   "cell_type": "code",
   "execution_count": 37,
   "metadata": {
    "ExecuteTime": {
     "end_time": "2021-12-06T11:10:15.907383Z",
     "start_time": "2021-12-06T11:10:15.894341Z"
    }
   },
   "outputs": [
    {
     "data": {
      "text/plain": [
       "['date']"
      ]
     },
     "execution_count": 37,
     "metadata": {},
     "output_type": "execute_result"
    }
   ],
   "source": [
    "list(columns_many.index)"
   ]
  },
  {
   "cell_type": "markdown",
   "metadata": {},
   "source": [
    "## 결측치 확인"
   ]
  },
  {
   "cell_type": "code",
   "execution_count": 38,
   "metadata": {
    "ExecuteTime": {
     "end_time": "2021-12-06T11:10:15.922264Z",
     "start_time": "2021-12-06T11:10:15.910263Z"
    }
   },
   "outputs": [],
   "source": [
    "train_null = train_summary[train_summary['Null count'] > 0]"
   ]
  },
  {
   "cell_type": "code",
   "execution_count": 39,
   "metadata": {
    "ExecuteTime": {
     "end_time": "2021-12-06T11:10:15.938189Z",
     "start_time": "2021-12-06T11:10:15.924260Z"
    }
   },
   "outputs": [],
   "source": [
    "test_null = test_summary[test_summary['Null count'] > 0]"
   ]
  },
  {
   "cell_type": "code",
   "execution_count": 40,
   "metadata": {
    "ExecuteTime": {
     "end_time": "2021-12-06T11:10:15.970181Z",
     "start_time": "2021-12-06T11:10:15.941182Z"
    }
   },
   "outputs": [
    {
     "data": {
      "text/html": [
       "<div>\n",
       "<style scoped>\n",
       "    .dataframe tbody tr th:only-of-type {\n",
       "        vertical-align: middle;\n",
       "    }\n",
       "\n",
       "    .dataframe tbody tr th {\n",
       "        vertical-align: top;\n",
       "    }\n",
       "\n",
       "    .dataframe thead tr th {\n",
       "        text-align: left;\n",
       "    }\n",
       "</style>\n",
       "<table border=\"1\" class=\"dataframe\">\n",
       "  <thead>\n",
       "    <tr>\n",
       "      <th></th>\n",
       "      <th colspan=\"5\" halign=\"left\">Train</th>\n",
       "      <th colspan=\"5\" halign=\"left\">Test</th>\n",
       "    </tr>\n",
       "    <tr>\n",
       "      <th></th>\n",
       "      <th>Dtype</th>\n",
       "      <th>Count</th>\n",
       "      <th>Unique value</th>\n",
       "      <th>Null count</th>\n",
       "      <th>Null percent</th>\n",
       "      <th>Dtype</th>\n",
       "      <th>Count</th>\n",
       "      <th>Unique value</th>\n",
       "      <th>Null count</th>\n",
       "      <th>Null percent</th>\n",
       "    </tr>\n",
       "  </thead>\n",
       "  <tbody>\n",
       "  </tbody>\n",
       "</table>\n",
       "</div>"
      ],
      "text/plain": [
       "Empty DataFrame\n",
       "Columns: [(Train, Dtype), (Train, Count), (Train, Unique value), (Train, Null count), (Train, Null percent), (Test, Dtype), (Test, Count), (Test, Unique value), (Test, Null count), (Test, Null percent)]\n",
       "Index: []"
      ]
     },
     "execution_count": 40,
     "metadata": {},
     "output_type": "execute_result"
    }
   ],
   "source": [
    "null_columns = pd.concat([train_null, test_null], axis=1, keys=['Train', 'Test'])\n",
    "null_columns"
   ]
  },
  {
   "cell_type": "code",
   "execution_count": 41,
   "metadata": {
    "ExecuteTime": {
     "end_time": "2021-12-06T11:10:16.192745Z",
     "start_time": "2021-12-06T11:10:15.973094Z"
    }
   },
   "outputs": [
    {
     "data": {
      "text/plain": [
       "Series([], dtype: int64)"
      ]
     },
     "execution_count": 41,
     "metadata": {},
     "output_type": "execute_result"
    }
   ],
   "source": [
    "train[null_columns.index].dtypes.value_counts()"
   ]
  },
  {
   "cell_type": "code",
   "execution_count": 42,
   "metadata": {
    "ExecuteTime": {
     "end_time": "2021-12-06T11:10:16.223954Z",
     "start_time": "2021-12-06T11:10:16.195499Z"
    },
    "scrolled": true
   },
   "outputs": [
    {
     "data": {
      "text/plain": [
       "Series([], dtype: int64)"
      ]
     },
     "execution_count": 42,
     "metadata": {},
     "output_type": "execute_result"
    }
   ],
   "source": [
    "test[null_columns.index].dtypes.value_counts()"
   ]
  },
  {
   "cell_type": "markdown",
   "metadata": {},
   "source": [
    "# 통계 및 분포 확인"
   ]
  },
  {
   "cell_type": "markdown",
   "metadata": {},
   "source": [
    "## 수치형 data"
   ]
  },
  {
   "cell_type": "code",
   "execution_count": 43,
   "metadata": {
    "ExecuteTime": {
     "end_time": "2021-12-06T11:10:17.151368Z",
     "start_time": "2021-12-06T11:10:16.226943Z"
    }
   },
   "outputs": [
    {
     "data": {
      "text/html": [
       "<div>\n",
       "<style scoped>\n",
       "    .dataframe tbody tr th:only-of-type {\n",
       "        vertical-align: middle;\n",
       "    }\n",
       "\n",
       "    .dataframe tbody tr th {\n",
       "        vertical-align: top;\n",
       "    }\n",
       "\n",
       "    .dataframe thead th {\n",
       "        text-align: right;\n",
       "    }\n",
       "</style>\n",
       "<table border=\"1\" class=\"dataframe\">\n",
       "  <thead>\n",
       "    <tr style=\"text-align: right;\">\n",
       "      <th></th>\n",
       "      <th>date_block_num</th>\n",
       "      <th>shop_id</th>\n",
       "      <th>item_id</th>\n",
       "      <th>item_price</th>\n",
       "      <th>item_cnt_day</th>\n",
       "      <th>item_category_id</th>\n",
       "      <th>type_id</th>\n",
       "      <th>subtype_id</th>\n",
       "    </tr>\n",
       "  </thead>\n",
       "  <tbody>\n",
       "    <tr>\n",
       "      <th>count</th>\n",
       "      <td>2.935849e+06</td>\n",
       "      <td>2.935849e+06</td>\n",
       "      <td>2.935849e+06</td>\n",
       "      <td>2.935849e+06</td>\n",
       "      <td>2.935849e+06</td>\n",
       "      <td>2.935849e+06</td>\n",
       "      <td>2.935849e+06</td>\n",
       "      <td>2.935849e+06</td>\n",
       "    </tr>\n",
       "    <tr>\n",
       "      <th>mean</th>\n",
       "      <td>1.456991e+01</td>\n",
       "      <td>3.300173e+01</td>\n",
       "      <td>1.019723e+04</td>\n",
       "      <td>8.908532e+02</td>\n",
       "      <td>1.242641e+00</td>\n",
       "      <td>4.000138e+01</td>\n",
       "      <td>9.872360e+00</td>\n",
       "      <td>2.096082e+01</td>\n",
       "    </tr>\n",
       "    <tr>\n",
       "      <th>std</th>\n",
       "      <td>9.422988e+00</td>\n",
       "      <td>1.622697e+01</td>\n",
       "      <td>6.324297e+03</td>\n",
       "      <td>1.729800e+03</td>\n",
       "      <td>2.618834e+00</td>\n",
       "      <td>1.710076e+01</td>\n",
       "      <td>3.499719e+00</td>\n",
       "      <td>2.080453e+01</td>\n",
       "    </tr>\n",
       "    <tr>\n",
       "      <th>min</th>\n",
       "      <td>0.000000e+00</td>\n",
       "      <td>0.000000e+00</td>\n",
       "      <td>0.000000e+00</td>\n",
       "      <td>-1.000000e+00</td>\n",
       "      <td>-2.200000e+01</td>\n",
       "      <td>0.000000e+00</td>\n",
       "      <td>0.000000e+00</td>\n",
       "      <td>0.000000e+00</td>\n",
       "    </tr>\n",
       "    <tr>\n",
       "      <th>25%</th>\n",
       "      <td>7.000000e+00</td>\n",
       "      <td>2.200000e+01</td>\n",
       "      <td>4.476000e+03</td>\n",
       "      <td>2.490000e+02</td>\n",
       "      <td>1.000000e+00</td>\n",
       "      <td>2.800000e+01</td>\n",
       "      <td>8.000000e+00</td>\n",
       "      <td>4.000000e+00</td>\n",
       "    </tr>\n",
       "    <tr>\n",
       "      <th>50%</th>\n",
       "      <td>1.400000e+01</td>\n",
       "      <td>3.100000e+01</td>\n",
       "      <td>9.343000e+03</td>\n",
       "      <td>3.990000e+02</td>\n",
       "      <td>1.000000e+00</td>\n",
       "      <td>4.000000e+01</td>\n",
       "      <td>1.100000e+01</td>\n",
       "      <td>1.100000e+01</td>\n",
       "    </tr>\n",
       "    <tr>\n",
       "      <th>75%</th>\n",
       "      <td>2.300000e+01</td>\n",
       "      <td>4.700000e+01</td>\n",
       "      <td>1.568400e+04</td>\n",
       "      <td>9.990000e+02</td>\n",
       "      <td>1.000000e+00</td>\n",
       "      <td>5.500000e+01</td>\n",
       "      <td>1.300000e+01</td>\n",
       "      <td>4.100000e+01</td>\n",
       "    </tr>\n",
       "    <tr>\n",
       "      <th>max</th>\n",
       "      <td>3.300000e+01</td>\n",
       "      <td>5.900000e+01</td>\n",
       "      <td>2.216900e+04</td>\n",
       "      <td>3.079800e+05</td>\n",
       "      <td>2.169000e+03</td>\n",
       "      <td>8.300000e+01</td>\n",
       "      <td>1.900000e+01</td>\n",
       "      <td>6.400000e+01</td>\n",
       "    </tr>\n",
       "  </tbody>\n",
       "</table>\n",
       "</div>"
      ],
      "text/plain": [
       "       date_block_num       shop_id       item_id    item_price  item_cnt_day  \\\n",
       "count    2.935849e+06  2.935849e+06  2.935849e+06  2.935849e+06  2.935849e+06   \n",
       "mean     1.456991e+01  3.300173e+01  1.019723e+04  8.908532e+02  1.242641e+00   \n",
       "std      9.422988e+00  1.622697e+01  6.324297e+03  1.729800e+03  2.618834e+00   \n",
       "min      0.000000e+00  0.000000e+00  0.000000e+00 -1.000000e+00 -2.200000e+01   \n",
       "25%      7.000000e+00  2.200000e+01  4.476000e+03  2.490000e+02  1.000000e+00   \n",
       "50%      1.400000e+01  3.100000e+01  9.343000e+03  3.990000e+02  1.000000e+00   \n",
       "75%      2.300000e+01  4.700000e+01  1.568400e+04  9.990000e+02  1.000000e+00   \n",
       "max      3.300000e+01  5.900000e+01  2.216900e+04  3.079800e+05  2.169000e+03   \n",
       "\n",
       "       item_category_id       type_id    subtype_id  \n",
       "count      2.935849e+06  2.935849e+06  2.935849e+06  \n",
       "mean       4.000138e+01  9.872360e+00  2.096082e+01  \n",
       "std        1.710076e+01  3.499719e+00  2.080453e+01  \n",
       "min        0.000000e+00  0.000000e+00  0.000000e+00  \n",
       "25%        2.800000e+01  8.000000e+00  4.000000e+00  \n",
       "50%        4.000000e+01  1.100000e+01  1.100000e+01  \n",
       "75%        5.500000e+01  1.300000e+01  4.100000e+01  \n",
       "max        8.300000e+01  1.900000e+01  6.400000e+01  "
      ]
     },
     "execution_count": 43,
     "metadata": {},
     "output_type": "execute_result"
    }
   ],
   "source": [
    "train.describe()"
   ]
  },
  {
   "cell_type": "code",
   "execution_count": 44,
   "metadata": {
    "ExecuteTime": {
     "end_time": "2021-12-06T11:10:18.287929Z",
     "start_time": "2021-12-06T11:10:17.156354Z"
    }
   },
   "outputs": [],
   "source": [
    "columns_num = train.describe().columns"
   ]
  },
  {
   "cell_type": "code",
   "execution_count": 45,
   "metadata": {
    "ExecuteTime": {
     "end_time": "2021-12-06T11:10:23.250362Z",
     "start_time": "2021-12-06T11:10:18.291969Z"
    },
    "scrolled": false
   },
   "outputs": [
    {
     "data": {
      "text/plain": [
       "array([[<AxesSubplot:title={'center':'date_block_num'}>,\n",
       "        <AxesSubplot:title={'center':'shop_id'}>,\n",
       "        <AxesSubplot:title={'center':'item_id'}>],\n",
       "       [<AxesSubplot:title={'center':'item_price'}>,\n",
       "        <AxesSubplot:title={'center':'item_cnt_day'}>,\n",
       "        <AxesSubplot:title={'center':'item_category_id'}>],\n",
       "       [<AxesSubplot:title={'center':'type_id'}>,\n",
       "        <AxesSubplot:title={'center':'subtype_id'}>, <AxesSubplot:>]],\n",
       "      dtype=object)"
      ]
     },
     "execution_count": 45,
     "metadata": {},
     "output_type": "execute_result"
    },
    {
     "data": {
      "image/png": "[encoded data removed]",
      "text/plain": [
       "<Figure size 1440x1080 with 9 Axes>"
      ]
     },
     "metadata": {},
     "output_type": "display_data"
    }
   ],
   "source": [
    "train[columns_num].hist(figsize=(20,15))"
   ]
  },
  {
   "cell_type": "code",
   "execution_count": 46,
   "metadata": {
    "ExecuteTime": {
     "end_time": "2021-12-06T11:10:23.266251Z",
     "start_time": "2021-12-06T11:10:23.253249Z"
    }
   },
   "outputs": [],
   "source": [
    "# test.describe()"
   ]
  },
  {
   "cell_type": "code",
   "execution_count": 47,
   "metadata": {
    "ExecuteTime": {
     "end_time": "2021-12-06T11:10:23.282220Z",
     "start_time": "2021-12-06T11:10:23.269349Z"
    }
   },
   "outputs": [],
   "source": [
    "# columns_num = test.describe().columns"
   ]
  },
  {
   "cell_type": "code",
   "execution_count": 48,
   "metadata": {
    "ExecuteTime": {
     "end_time": "2021-12-06T11:10:23.298133Z",
     "start_time": "2021-12-06T11:10:23.287160Z"
    }
   },
   "outputs": [],
   "source": [
    "# test[columns_num].hist(figsize=(20,15))"
   ]
  },
  {
   "cell_type": "markdown",
   "metadata": {},
   "source": [
    "### 범주형 data 추출"
   ]
  },
  {
   "cell_type": "code",
   "execution_count": 49,
   "metadata": {
    "ExecuteTime": {
     "end_time": "2021-12-06T11:10:23.436814Z",
     "start_time": "2021-12-06T11:10:23.302589Z"
    }
   },
   "outputs": [
    {
     "data": {
      "text/plain": [
       "['date_block_num',\n",
       " 'shop_id',\n",
       " 'item_id',\n",
       " 'item_category_id',\n",
       " 'type_id',\n",
       " 'subtype_id']"
      ]
     },
     "execution_count": 49,
     "metadata": {},
     "output_type": "execute_result"
    }
   ],
   "source": [
    "columns_int = list(train.select_dtypes(include=['int64']).columns)\n",
    "columns_int"
   ]
  },
  {
   "cell_type": "code",
   "execution_count": 50,
   "metadata": {
    "ExecuteTime": {
     "end_time": "2021-12-06T11:10:23.451777Z",
     "start_time": "2021-12-06T11:10:23.440803Z"
    }
   },
   "outputs": [],
   "source": [
    "columns_int.remove('date_block_num')"
   ]
  },
  {
   "cell_type": "code",
   "execution_count": 51,
   "metadata": {
    "ExecuteTime": {
     "end_time": "2021-12-06T11:10:23.529568Z",
     "start_time": "2021-12-06T11:10:23.455766Z"
    }
   },
   "outputs": [
    {
     "data": {
      "text/plain": [
       "['item_price', 'item_cnt_day']"
      ]
     },
     "execution_count": 51,
     "metadata": {},
     "output_type": "execute_result"
    }
   ],
   "source": [
    "columns_float = list(train.select_dtypes(include=['float64']).columns)\n",
    "columns_float"
   ]
  },
  {
   "cell_type": "code",
   "execution_count": 52,
   "metadata": {
    "ExecuteTime": {
     "end_time": "2021-12-06T11:10:23.545681Z",
     "start_time": "2021-12-06T11:10:23.534552Z"
    }
   },
   "outputs": [],
   "source": [
    "columns_float.remove('item_price')\n",
    "columns_float.remove('item_cnt_day')"
   ]
  },
  {
   "cell_type": "code",
   "execution_count": 53,
   "metadata": {
    "ExecuteTime": {
     "end_time": "2021-12-06T11:10:23.561095Z",
     "start_time": "2021-12-06T11:10:23.549516Z"
    }
   },
   "outputs": [
    {
     "data": {
      "text/plain": [
       "['shop_id', 'item_id', 'item_category_id', 'type_id', 'subtype_id']"
      ]
     },
     "execution_count": 53,
     "metadata": {},
     "output_type": "execute_result"
    }
   ],
   "source": [
    "columns_to_cat = columns_int + columns_float\n",
    "columns_to_cat"
   ]
  },
  {
   "cell_type": "markdown",
   "metadata": {},
   "source": [
    "### binary data 추출"
   ]
  },
  {
   "cell_type": "code",
   "execution_count": 54,
   "metadata": {
    "ExecuteTime": {
     "end_time": "2021-12-06T11:10:23.576489Z",
     "start_time": "2021-12-06T11:10:23.565522Z"
    }
   },
   "outputs": [],
   "source": [
    "columns_binary_num = []"
   ]
  },
  {
   "cell_type": "code",
   "execution_count": 55,
   "metadata": {
    "ExecuteTime": {
     "end_time": "2021-12-06T11:10:23.592400Z",
     "start_time": "2021-12-06T11:10:23.580969Z"
    }
   },
   "outputs": [
    {
     "data": {
      "text/plain": [
       "['columns_binary_num.pkl']"
      ]
     },
     "execution_count": 55,
     "metadata": {},
     "output_type": "execute_result"
    }
   ],
   "source": [
    "joblib.dump(columns_binary_num, 'columns_binary_num.pkl')"
   ]
  },
  {
   "cell_type": "markdown",
   "metadata": {},
   "source": [
    "## 범주형 data"
   ]
  },
  {
   "cell_type": "code",
   "execution_count": 56,
   "metadata": {
    "ExecuteTime": {
     "end_time": "2021-12-06T11:10:23.670425Z",
     "start_time": "2021-12-06T11:10:23.597474Z"
    }
   },
   "outputs": [],
   "source": [
    "columns_str = list(train.select_dtypes(include=['object']).columns)\n",
    "columns_str"
   ]
  },
  {
   "cell_type": "code",
   "execution_count": 57,
   "metadata": {
    "ExecuteTime": {
     "end_time": "2021-12-06T11:10:23.685155Z",
     "start_time": "2021-12-06T11:10:23.673182Z"
    }
   },
   "outputs": [],
   "source": [
    "columns_bool = list(train.select_dtypes(include=['bool']).columns)\n",
    "columns_bool"
   ]
  },
  {
   "cell_type": "code",
   "execution_count": 58,
   "metadata": {
    "ExecuteTime": {
     "end_time": "2021-12-06T11:10:23.700387Z",
     "start_time": "2021-12-06T11:10:23.689140Z"
    }
   },
   "outputs": [],
   "source": [
    "columns_cat = columns_str + columns_bool + columns_to_cat\n",
    "columns_cat"
   ]
  },
  {
   "cell_type": "code",
   "execution_count": 59,
   "metadata": {
    "ExecuteTime": {
     "end_time": "2021-12-06T11:10:23.716300Z",
     "start_time": "2021-12-06T11:10:23.703115Z"
    }
   },
   "outputs": [],
   "source": [
    "columns_dt = ['date']"
   ]
  },
  {
   "cell_type": "code",
   "execution_count": 60,
   "metadata": {
    "ExecuteTime": {
     "end_time": "2021-12-06T11:10:23.732166Z",
     "start_time": "2021-12-06T11:10:23.720096Z"
    }
   },
   "outputs": [],
   "source": [
    "for column in columns_dt :\n",
    "    columns_cat.remove(column)"
   ]
  },
  {
   "cell_type": "code",
   "execution_count": 61,
   "metadata": {
    "ExecuteTime": {
     "end_time": "2021-12-06T11:10:23.748138Z",
     "start_time": "2021-12-06T11:10:23.736016Z"
    }
   },
   "outputs": [
    {
     "data": {
      "text/plain": [
       "['columns_cat.pkl']"
      ]
     },
     "execution_count": 61,
     "metadata": {},
     "output_type": "execute_result"
    }
   ],
   "source": [
    "joblib.dump(columns_cat, 'columns_cat.pkl')"
   ]
  },
  {
   "cell_type": "code",
   "execution_count": 62,
   "metadata": {
    "ExecuteTime": {
     "end_time": "2021-12-06T11:10:23.764083Z",
     "start_time": "2021-12-06T11:10:23.752012Z"
    }
   },
   "outputs": [
    {
     "data": {
      "text/plain": [
       "['columns_dt.pkl']"
      ]
     },
     "execution_count": 62,
     "metadata": {},
     "output_type": "execute_result"
    }
   ],
   "source": [
    "joblib.dump(columns_dt, 'columns_dt.pkl')"
   ]
  },
  {
   "cell_type": "markdown",
   "metadata": {},
   "source": [
    "### train data"
   ]
  },
  {
   "cell_type": "code",
   "execution_count": 63,
   "metadata": {
    "ExecuteTime": {
     "end_time": "2021-12-06T11:10:24.109464Z",
     "start_time": "2021-12-06T11:10:23.768967Z"
    }
   },
   "outputs": [],
   "source": [
    "# value값을 20개 이하로 가지는 column을 선택\n",
    "# value값이 너무 많으면 countplot을 그리는데 시간이 너무 많이 소요됨\n",
    "columns_cat_count = []\n",
    "\n",
    "for column in columns_cat :\n",
    "    \n",
    "    if len(train[column].value_counts()) <= 20 :\n",
    "        columns_cat_count.append(column)"
   ]
  },
  {
   "cell_type": "code",
   "execution_count": 64,
   "metadata": {
    "ExecuteTime": {
     "end_time": "2021-12-06T11:10:25.375781Z",
     "start_time": "2021-12-06T11:10:24.114183Z"
    }
   },
   "outputs": [
    {
     "data": {
      "image/png": "[encoded data removed]",
      "text/plain": [
       "<Figure size 1152x360 with 1 Axes>"
      ]
     },
     "metadata": {},
     "output_type": "display_data"
    }
   ],
   "source": [
    "k = len(columns_cat_count)\n",
    "m = math.ceil(k / 2)\n",
    "\n",
    "plt.figure(figsize=(16, 5 * m))\n",
    "grid = plt.GridSpec(m, 2, wspace=0.4, hspace=0.3)\n",
    "\n",
    "for i in range(k) :    \n",
    "    ax = plt.subplot(grid[i])\n",
    "    sns.countplot(data=train, x=columns_cat_count[i], ax=ax)"
   ]
  },
  {
   "cell_type": "markdown",
   "metadata": {
    "heading_collapsed": true
   },
   "source": [
    "### test data"
   ]
  },
  {
   "cell_type": "markdown",
   "metadata": {},
   "source": [
    "### 전체 dataset"
   ]
  },
  {
   "cell_type": "markdown",
   "metadata": {},
   "source": [
    "### binary data 추출"
   ]
  },
  {
   "cell_type": "code",
   "execution_count": 65,
   "metadata": {
    "ExecuteTime": {
     "end_time": "2021-12-06T11:10:25.390871Z",
     "start_time": "2021-12-06T11:10:25.381770Z"
    }
   },
   "outputs": [],
   "source": [
    "columns_binary_cat = []"
   ]
  },
  {
   "cell_type": "code",
   "execution_count": 66,
   "metadata": {
    "ExecuteTime": {
     "end_time": "2021-12-06T11:10:25.421744Z",
     "start_time": "2021-12-06T11:10:25.396732Z"
    }
   },
   "outputs": [
    {
     "data": {
      "text/plain": [
       "['columns_binary_cat.pkl']"
      ]
     },
     "execution_count": 66,
     "metadata": {},
     "output_type": "execute_result"
    }
   ],
   "source": [
    "joblib.dump(columns_binary_cat, 'columns_binary_cat.pkl')"
   ]
  }
 ],
 "metadata": {
  "hide_input": false,
  "kernelspec": {
   "display_name": "Python 3",
   "language": "python",
   "name": "python3"
  },
  "language_info": {
   "codemirror_mode": {
    "name": "ipython",
    "version": 3
   },
   "file_extension": ".py",
   "mimetype": "text/x-python",
   "name": "python",
   "nbconvert_exporter": "python",
   "pygments_lexer": "ipython3",
   "version": "3.7.1"
  },
  "toc": {
   "base_numbering": 1,
   "nav_menu": {},
   "number_sections": true,
   "sideBar": true,
   "skip_h1_title": false,
   "title_cell": "Table of Contents",
   "title_sidebar": "Contents",
   "toc_cell": false,
   "toc_position": {
    "height": "calc(100% - 180px)",
    "left": "10px",
    "top": "150px",
    "width": "303.8px"
   },
   "toc_section_display": true,
   "toc_window_display": true
  },
  "varInspector": {
   "cols": {
    "lenName": 16,
    "lenType": 16,
    "lenVar": 40
   },
   "kernels_config": {
    "python": {
     "delete_cmd_postfix": "",
     "delete_cmd_prefix": "del ",
     "library": "var_list.py",
     "varRefreshCmd": "print(var_dic_list())"
    },
    "r": {
     "delete_cmd_postfix": ") ",
     "delete_cmd_prefix": "rm(",
     "library": "var_list.r",
     "varRefreshCmd": "cat(var_dic_list()) "
    }
   },
   "types_to_exclude": [
    "module",
    "function",
    "builtin_function_or_method",
    "instance",
    "_Feature"
   ],
   "window_display": false
  }
 },
 "nbformat": 4,
 "nbformat_minor": 4
}

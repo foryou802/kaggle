{
 "cells": [
  {
   "cell_type": "code",
   "execution_count": 1,
   "metadata": {
    "ExecuteTime": {
     "end_time": "2022-02-06T02:33:43.374371Z",
     "start_time": "2022-02-06T02:33:40.275194Z"
    }
   },
   "outputs": [],
   "source": [
    "import numpy as np\n",
    "from scipy import stats\n",
    "import pandas as pd\n",
    "import matplotlib.pyplot as plt\n",
    "import seaborn as sns\n",
    "\n",
    "# sns.set()\n",
    "\n",
    "import os\n",
    "\n",
    "import warnings\n",
    "warnings.filterwarnings('ignore')"
   ]
  },
  {
   "cell_type": "code",
   "execution_count": 2,
   "metadata": {
    "ExecuteTime": {
     "end_time": "2022-02-06T02:33:47.239955Z",
     "start_time": "2022-02-06T02:33:43.378370Z"
    }
   },
   "outputs": [],
   "source": [
    "import joblib\n",
    "from sklearn.base import BaseEstimator, TransformerMixin\n",
    "from sklearn.impute import SimpleImputer\n",
    "from sklearn.preprocessing import StandardScaler, MinMaxScaler\n",
    "from sklearn.preprocessing import OneHotEncoder\n",
    "from sklearn.compose import ColumnTransformer, make_column_transformer\n",
    "from sklearn.pipeline import Pipeline, make_pipeline\n",
    "from sklearn.feature_selection import SelectPercentile, f_classif, f_regression, SelectFromModel, RFE\n",
    "from sklearn.model_selection import train_test_split\n",
    "from sklearn.model_selection import cross_val_score, cross_validate\n",
    "from sklearn.metrics import mean_squared_error\n",
    "from sklearn.model_selection import GridSearchCV, RandomizedSearchCV"
   ]
  },
  {
   "cell_type": "code",
   "execution_count": 3,
   "metadata": {
    "ExecuteTime": {
     "end_time": "2022-02-06T02:33:47.427261Z",
     "start_time": "2022-02-06T02:33:47.246744Z"
    }
   },
   "outputs": [],
   "source": [
    "from sklearn.neighbors import KNeighborsRegressor\n",
    "from sklearn.linear_model import LinearRegression\n",
    "from sklearn.linear_model import Ridge\n",
    "from sklearn.linear_model import Lasso\n",
    "from sklearn.linear_model import ElasticNet\n",
    "from sklearn.linear_model import SGDRegressor\n",
    "from sklearn.svm import SVR\n",
    "from sklearn.tree import DecisionTreeRegressor\n",
    "from sklearn.ensemble import RandomForestRegressor\n",
    "from sklearn.ensemble import ExtraTreesRegressor\n",
    "from sklearn.ensemble import GradientBoostingRegressor\n",
    "from xgboost import XGBRegressor\n",
    "# from lightgbm import LGBMRegressor\n",
    "from sklearn.ensemble import AdaBoostRegressor\n",
    "from sklearn.neural_network import MLPRegressor"
   ]
  },
  {
   "cell_type": "code",
   "execution_count": 4,
   "metadata": {
    "ExecuteTime": {
     "end_time": "2022-02-06T02:33:55.131407Z",
     "start_time": "2022-02-06T02:33:47.433361Z"
    }
   },
   "outputs": [],
   "source": [
    "import tensorflow as tf\n",
    "from tensorflow import keras\n",
    "from tensorflow.keras.models import Sequential, Model\n",
    "from tensorflow.keras.layers import Flatten, Dense, Input, concatenate, Embedding, Dot\n",
    "from tensorflow.keras.layers import Activation, ReLU, LeakyReLU, PReLU\n",
    "from tensorflow.keras.layers import BatchNormalization, Dropout, AlphaDropout\n",
    "from tensorflow.keras.callbacks import EarlyStopping, ModelCheckpoint\n",
    "from tensorflow.keras.utils import plot_model\n",
    "\n",
    "from functools import partial"
   ]
  },
  {
   "cell_type": "markdown",
   "metadata": {},
   "source": [
    "# Data load"
   ]
  },
  {
   "cell_type": "code",
   "execution_count": 5,
   "metadata": {
    "ExecuteTime": {
     "end_time": "2022-02-06T02:33:58.171084Z",
     "start_time": "2022-02-06T02:33:55.134158Z"
    }
   },
   "outputs": [],
   "source": [
    "train = pd.read_csv('train.csv')\n",
    "test = pd.read_csv('test.csv')"
   ]
  },
  {
   "cell_type": "code",
   "execution_count": 6,
   "metadata": {
    "ExecuteTime": {
     "end_time": "2022-02-06T02:33:58.265077Z",
     "start_time": "2022-02-06T02:33:58.174975Z"
    }
   },
   "outputs": [],
   "source": [
    "items = pd.read_csv('items.csv')\n",
    "items.drop('item_name', axis=1, inplace=True)\n",
    "\n",
    "item_categories = pd.read_csv('item_categories_pre.csv')"
   ]
  },
  {
   "cell_type": "code",
   "execution_count": 7,
   "metadata": {
    "ExecuteTime": {
     "end_time": "2022-02-06T02:34:00.590571Z",
     "start_time": "2022-02-06T02:33:58.268602Z"
    }
   },
   "outputs": [],
   "source": [
    "train = pd.merge(train, items)\n",
    "train = pd.merge(train, item_categories)\n",
    "\n",
    "test = pd.merge(test, items)\n",
    "test = pd.merge(test, item_categories)"
   ]
  },
  {
   "cell_type": "code",
   "execution_count": 8,
   "metadata": {
    "ExecuteTime": {
     "end_time": "2022-02-06T02:34:00.683418Z",
     "start_time": "2022-02-06T02:34:00.595545Z"
    }
   },
   "outputs": [],
   "source": [
    "train['revenue'] = train['item_price'] * train['item_cnt_day']"
   ]
  },
  {
   "cell_type": "markdown",
   "metadata": {},
   "source": [
    "# Column 설정"
   ]
  },
  {
   "cell_type": "code",
   "execution_count": 9,
   "metadata": {
    "ExecuteTime": {
     "end_time": "2022-02-06T02:34:00.698365Z",
     "start_time": "2022-02-06T02:34:00.691414Z"
    }
   },
   "outputs": [],
   "source": [
    "target = 'item_cnt_day'"
   ]
  },
  {
   "cell_type": "code",
   "execution_count": 10,
   "metadata": {
    "ExecuteTime": {
     "end_time": "2022-02-06T02:34:00.714287Z",
     "start_time": "2022-02-06T02:34:00.705212Z"
    }
   },
   "outputs": [],
   "source": [
    "columns_useless = []"
   ]
  },
  {
   "cell_type": "code",
   "execution_count": 11,
   "metadata": {
    "ExecuteTime": {
     "end_time": "2022-02-06T02:34:00.729578Z",
     "start_time": "2022-02-06T02:34:00.718179Z"
    }
   },
   "outputs": [],
   "source": [
    "columns_num_all = joblib.load('columns_num.pkl')\n",
    "columns_cat_all = joblib.load('columns_cat.pkl')\n",
    "columns_binary_num = joblib.load('columns_binary_num.pkl')\n",
    "columns_binary_cat = joblib.load('columns_binary_cat.pkl')\n",
    "columns_dt = joblib.load('columns_dt.pkl')"
   ]
  },
  {
   "cell_type": "code",
   "execution_count": 12,
   "metadata": {
    "ExecuteTime": {
     "end_time": "2022-02-06T02:34:00.745174Z",
     "start_time": "2022-02-06T02:34:00.734138Z"
    }
   },
   "outputs": [],
   "source": [
    "try :\n",
    "    columns_num_all.remove(target)\n",
    "    \n",
    "except :\n",
    "    pass"
   ]
  },
  {
   "cell_type": "code",
   "execution_count": 13,
   "metadata": {
    "ExecuteTime": {
     "end_time": "2022-02-06T02:34:00.761062Z",
     "start_time": "2022-02-06T02:34:00.749098Z"
    }
   },
   "outputs": [],
   "source": [
    "try :\n",
    "    columns_cat_all.remove(target)\n",
    "    \n",
    "except :\n",
    "    pass"
   ]
  },
  {
   "cell_type": "code",
   "execution_count": 14,
   "metadata": {
    "ExecuteTime": {
     "end_time": "2022-02-06T02:34:00.777018Z",
     "start_time": "2022-02-06T02:34:00.765052Z"
    }
   },
   "outputs": [],
   "source": [
    "columns_num = []\n",
    "\n",
    "for column in columns_num_all :\n",
    "    \n",
    "    if column not in columns_useless :\n",
    "        columns_num.append(column)"
   ]
  },
  {
   "cell_type": "code",
   "execution_count": 15,
   "metadata": {
    "ExecuteTime": {
     "end_time": "2022-02-06T02:34:00.793264Z",
     "start_time": "2022-02-06T02:34:00.782243Z"
    }
   },
   "outputs": [],
   "source": [
    "columns_cat = []\n",
    "\n",
    "for column in columns_cat_all :\n",
    "    \n",
    "    if column not in columns_useless :\n",
    "        columns_cat.append(column)"
   ]
  },
  {
   "cell_type": "code",
   "execution_count": 16,
   "metadata": {
    "ExecuteTime": {
     "end_time": "2022-02-06T02:34:00.824890Z",
     "start_time": "2022-02-06T02:34:00.797963Z"
    }
   },
   "outputs": [
    {
     "data": {
      "text/plain": [
       "['date_block_num', 'item_price', 'revenue']"
      ]
     },
     "execution_count": 16,
     "metadata": {},
     "output_type": "execute_result"
    }
   ],
   "source": [
    "columns_sc = []\n",
    "\n",
    "for column in columns_num :\n",
    "    \n",
    "    if column not in columns_binary_num:\n",
    "        columns_sc.append(column)\n",
    "        \n",
    "columns_sc"
   ]
  },
  {
   "cell_type": "code",
   "execution_count": 17,
   "metadata": {
    "ExecuteTime": {
     "end_time": "2022-02-06T02:34:00.840850Z",
     "start_time": "2022-02-06T02:34:00.828881Z"
    }
   },
   "outputs": [],
   "source": [
    "columns_sc.remove('date_block_num')"
   ]
  },
  {
   "cell_type": "code",
   "execution_count": 18,
   "metadata": {
    "ExecuteTime": {
     "end_time": "2022-02-06T02:34:00.856806Z",
     "start_time": "2022-02-06T02:34:00.845836Z"
    }
   },
   "outputs": [
    {
     "data": {
      "text/plain": [
       "['shop_id', 'item_id', 'item_category_id', 'type_id', 'subtype_id']"
      ]
     },
     "execution_count": 18,
     "metadata": {},
     "output_type": "execute_result"
    }
   ],
   "source": [
    "columns_en = []\n",
    "\n",
    "for column in columns_cat :\n",
    "    \n",
    "    if (column not in columns_binary_num) and (column not in columns_binary_cat):\n",
    "        columns_en.append(column)\n",
    "        \n",
    "columns_en"
   ]
  },
  {
   "cell_type": "markdown",
   "metadata": {},
   "source": [
    "# Sampling\n",
    "- dataset이 너무 크기 때문에 sampling 진행"
   ]
  },
  {
   "cell_type": "code",
   "execution_count": 19,
   "metadata": {
    "ExecuteTime": {
     "end_time": "2022-02-06T02:34:01.818731Z",
     "start_time": "2022-02-06T02:34:00.861793Z"
    }
   },
   "outputs": [],
   "source": [
    "train_sp = train.sample(frac=0.01, random_state=30)"
   ]
  },
  {
   "cell_type": "markdown",
   "metadata": {},
   "source": [
    "# Target 분리"
   ]
  },
  {
   "cell_type": "code",
   "execution_count": 20,
   "metadata": {
    "ExecuteTime": {
     "end_time": "2022-02-06T02:34:01.863925Z",
     "start_time": "2022-02-06T02:34:01.826724Z"
    }
   },
   "outputs": [],
   "source": [
    "y_train = train_sp[target]\n",
    "X_train = train_sp.drop(target, axis=1)\n",
    "X_train_og = X_train.copy()"
   ]
  },
  {
   "cell_type": "markdown",
   "metadata": {},
   "source": [
    "# 전체 dataset concat"
   ]
  },
  {
   "cell_type": "code",
   "execution_count": 21,
   "metadata": {
    "ExecuteTime": {
     "end_time": "2022-02-06T02:34:01.895549Z",
     "start_time": "2022-02-06T02:34:01.874558Z"
    }
   },
   "outputs": [],
   "source": [
    "# all_data = pd.concat([X_train, X_test])"
   ]
  },
  {
   "cell_type": "markdown",
   "metadata": {},
   "source": [
    "# Data preprocessing"
   ]
  },
  {
   "cell_type": "code",
   "execution_count": 22,
   "metadata": {
    "ExecuteTime": {
     "end_time": "2022-02-06T02:34:01.943527Z",
     "start_time": "2022-02-06T02:34:01.904477Z"
    }
   },
   "outputs": [],
   "source": [
    "def preprocessing(data, X_data_og, columns_useless, columns_sc, columns_binary_cat, columns_en) :\n",
    "    \n",
    "    # datetime 변환\n",
    "    data['year'] = data['date'].apply(lambda x : x.split('.')[2])\n",
    "    data['month'] = data['date'].apply(lambda x : x.split('.')[1])\n",
    "    data['day'] = data['date'].apply(lambda x : x.split('.')[0])\n",
    "    \n",
    "    data['year'] = data['year'].astype('str')\n",
    "    data['month'] = data['month'].astype('str')\n",
    "    data['day'] = data['day'].astype('str')\n",
    "    \n",
    "    data.drop('date', axis=1, inplace=True)\n",
    "    \n",
    "    columns_cat.extend(['year', 'month', 'day'])\n",
    "    \n",
    "    # useless column 제거\n",
    "    data.drop(columns_useless, axis=1, inplace=True)\n",
    "    \n",
    "    # scaling\n",
    "    scaler = StandardScaler()\n",
    "    scaler.fit(X_data_og[columns_sc])\n",
    "    data[columns_sc] = scaler.transform(data[columns_sc])\n",
    "   \n",
    "    # One-hot-encoding\n",
    "#     data = pd.get_dummies(data, columns=columns_en)\n",
    "    encoder = OneHotEncoder()   # 고윳값을 많이 가진 feature가 있는 경우는 OneHotEncoder를 사용해야 함\n",
    "    data = encoder.fit_transform(data)\n",
    "    \n",
    "    return data"
   ]
  },
  {
   "cell_type": "code",
   "execution_count": 23,
   "metadata": {
    "ExecuteTime": {
     "end_time": "2022-02-06T02:34:02.367329Z",
     "start_time": "2022-02-06T02:34:01.954340Z"
    }
   },
   "outputs": [],
   "source": [
    "X_train = preprocessing(X_train, X_train_og, columns_useless, columns_sc, columns_binary_cat, columns_en)"
   ]
  },
  {
   "cell_type": "markdown",
   "metadata": {},
   "source": [
    "# Train & test set 분리"
   ]
  },
  {
   "cell_type": "code",
   "execution_count": 24,
   "metadata": {
    "ExecuteTime": {
     "end_time": "2022-02-06T02:34:02.383414Z",
     "start_time": "2022-02-06T02:34:02.372317Z"
    }
   },
   "outputs": [],
   "source": [
    "# X_train = all_data[:len(train)]\n",
    "# X_test = all_data[len(train):]"
   ]
  },
  {
   "cell_type": "markdown",
   "metadata": {},
   "source": [
    "# Validation set 분리\n",
    "- Train dataset이 너무 커서 cross validation에 너무 오랜 시간이 걸리는 경우\n",
    "- OneHotEncoder를 사용하면 sparse matrix를 return하기 때문에 neural network에서 validation_split를 사용할 수 없는 경우"
   ]
  },
  {
   "cell_type": "code",
   "execution_count": 25,
   "metadata": {
    "ExecuteTime": {
     "end_time": "2022-02-06T02:34:02.429291Z",
     "start_time": "2022-02-06T02:34:02.389404Z"
    }
   },
   "outputs": [],
   "source": [
    "X_train, X_val, y_train, y_val = train_test_split(X_train, y_train, random_state=30)"
   ]
  },
  {
   "cell_type": "code",
   "execution_count": 26,
   "metadata": {
    "ExecuteTime": {
     "end_time": "2022-02-06T02:34:02.461205Z",
     "start_time": "2022-02-06T02:34:02.435278Z"
    }
   },
   "outputs": [
    {
     "data": {
      "text/plain": [
       "((22018, 12176), (22018,))"
      ]
     },
     "execution_count": 26,
     "metadata": {},
     "output_type": "execute_result"
    }
   ],
   "source": [
    "X_train.shape, y_train.shape"
   ]
  },
  {
   "cell_type": "code",
   "execution_count": 27,
   "metadata": {
    "ExecuteTime": {
     "end_time": "2022-02-06T02:34:02.508442Z",
     "start_time": "2022-02-06T02:34:02.485145Z"
    }
   },
   "outputs": [
    {
     "data": {
      "text/plain": [
       "((7340, 12176), (7340,))"
      ]
     },
     "execution_count": 27,
     "metadata": {},
     "output_type": "execute_result"
    }
   ],
   "source": [
    "X_val.shape, y_val.shape"
   ]
  },
  {
   "cell_type": "markdown",
   "metadata": {},
   "source": [
    "# ML model cross validation"
   ]
  },
  {
   "cell_type": "code",
   "execution_count": 29,
   "metadata": {
    "ExecuteTime": {
     "end_time": "2022-02-06T02:34:02.585263Z",
     "start_time": "2022-02-06T02:34:02.546991Z"
    }
   },
   "outputs": [],
   "source": [
    "knn = KNeighborsRegressor(n_neighbors=5)\n",
    "linear = LinearRegression()\n",
    "ridge = Ridge(alpha=1, random_state=30)\n",
    "lasso = Lasso(alpha=1, random_state=30)\n",
    "elastic = ElasticNet(alpha=1, l1_ratio=0.5, random_state=30)\n",
    "sgd = SGDRegressor(max_iter=1000, eta0=0.01, penalty='l2', random_state=30)\n",
    "svm = SVR(kernel='rbf', C=1.0, gamma='scale')\n",
    "dt = DecisionTreeRegressor(max_depth=None, random_state=30)\n",
    "rf = RandomForestRegressor(n_estimators=100, max_depth=None, n_jobs=-1, random_state=30)\n",
    "et = ExtraTreesRegressor(n_estimators=100, max_depth=None, n_jobs=-1, random_state=30)\n",
    "gb = GradientBoostingRegressor(learning_rate=0.1, n_estimators=1000, max_depth=3, random_state=30)\n",
    "xgb = XGBRegressor(learning_rate=0.1, n_estimators=100, max_depth=3, n_jobs=-1, random_state=30)\n",
    "# lgb = LGBMRegressor(random_state=30)\n",
    "adb = AdaBoostRegressor(random_state=30)\n",
    "mlp = MLPRegressor(hidden_layer_sizes=(100,), activation='relu', solver='adam', alpha=0.0001, max_iter=200,\n",
    "                    learning_rate='constant', learning_rate_init=0.001, random_state=30)"
   ]
  },
  {
   "cell_type": "code",
   "execution_count": 30,
   "metadata": {
    "ExecuteTime": {
     "end_time": "2022-02-06T02:34:02.616078Z",
     "start_time": "2022-02-06T02:34:02.590860Z"
    }
   },
   "outputs": [],
   "source": [
    "models = {\n",
    "    'knn' : knn,\n",
    "    'linear' : linear,\n",
    "    'ridge' : ridge,\n",
    "    'lasso' : lasso,\n",
    "    'elastic' : elastic,\n",
    "    'sgd' : sgd,\n",
    "    'svm' : svm,\n",
    "    'dt' : dt,\n",
    "    'rf' : rf,\n",
    "    'et' : et,\n",
    "    'gb' : gb,\n",
    "    'xgb' : xgb,\n",
    "#     'lgb' : lgb,\n",
    "    'adb' : adb,\n",
    "    'mlp' : mlp\n",
    "}"
   ]
  },
  {
   "cell_type": "code",
   "execution_count": 31,
   "metadata": {
    "ExecuteTime": {
     "end_time": "2022-02-06T02:34:02.631871Z",
     "start_time": "2022-02-06T02:34:02.621777Z"
    }
   },
   "outputs": [],
   "source": [
    "# result = []\n",
    "\n",
    "# for key, model in models.items() : \n",
    "#     score = cross_validate(model, X_train, y_train, cv=5, scoring='neg_root_mean_squared_error', return_train_score=True, n_jobs=-1)  \n",
    "#     score = pd.DataFrame(score).mean()\n",
    "#     score = - score\n",
    "    \n",
    "#     result.append(score)"
   ]
  },
  {
   "cell_type": "code",
   "execution_count": 32,
   "metadata": {
    "ExecuteTime": {
     "end_time": "2022-02-06T02:34:02.648015Z",
     "start_time": "2022-02-06T02:34:02.637736Z"
    }
   },
   "outputs": [],
   "source": [
    "# result = pd.concat(result, axis=1)\n",
    "# result.columns = models.keys()\n",
    "# result = result.T\n",
    "# result = result[['test_score', 'train_score', 'fit_time', 'score_time']]\n",
    "# result = round(result, 3)\n",
    "# result"
   ]
  },
  {
   "cell_type": "code",
   "execution_count": 33,
   "metadata": {
    "ExecuteTime": {
     "end_time": "2022-02-06T02:34:02.711577Z",
     "start_time": "2022-02-06T02:34:02.653688Z"
    }
   },
   "outputs": [
    {
     "data": {
      "text/html": [
       "<div>\n",
       "<style scoped>\n",
       "    .dataframe tbody tr th:only-of-type {\n",
       "        vertical-align: middle;\n",
       "    }\n",
       "\n",
       "    .dataframe tbody tr th {\n",
       "        vertical-align: top;\n",
       "    }\n",
       "\n",
       "    .dataframe thead th {\n",
       "        text-align: right;\n",
       "    }\n",
       "</style>\n",
       "<table border=\"1\" class=\"dataframe\">\n",
       "  <thead>\n",
       "    <tr style=\"text-align: right;\">\n",
       "      <th></th>\n",
       "      <th>test_score</th>\n",
       "      <th>train_score</th>\n",
       "      <th>fit_time</th>\n",
       "      <th>score_time</th>\n",
       "    </tr>\n",
       "  </thead>\n",
       "  <tbody>\n",
       "    <tr>\n",
       "      <th>knn</th>\n",
       "      <td>2.111</td>\n",
       "      <td>2.275</td>\n",
       "      <td>0.013</td>\n",
       "      <td>18.897</td>\n",
       "    </tr>\n",
       "    <tr>\n",
       "      <th>logit</th>\n",
       "      <td>2.042</td>\n",
       "      <td>1.857</td>\n",
       "      <td>26.050</td>\n",
       "      <td>0.009</td>\n",
       "    </tr>\n",
       "    <tr>\n",
       "      <th>sgd</th>\n",
       "      <td>1.995</td>\n",
       "      <td>0.299</td>\n",
       "      <td>1.211</td>\n",
       "      <td>0.008</td>\n",
       "    </tr>\n",
       "    <tr>\n",
       "      <th>linsvm</th>\n",
       "      <td>1.899</td>\n",
       "      <td>0.025</td>\n",
       "      <td>2.304</td>\n",
       "      <td>0.005</td>\n",
       "    </tr>\n",
       "    <tr>\n",
       "      <th>svm</th>\n",
       "      <td>2.105</td>\n",
       "      <td>2.279</td>\n",
       "      <td>100.000</td>\n",
       "      <td>8.319</td>\n",
       "    </tr>\n",
       "    <tr>\n",
       "      <th>dt</th>\n",
       "      <td>2.029</td>\n",
       "      <td>0.000</td>\n",
       "      <td>3.639</td>\n",
       "      <td>0.009</td>\n",
       "    </tr>\n",
       "    <tr>\n",
       "      <th>rf</th>\n",
       "      <td>2.028</td>\n",
       "      <td>0.003</td>\n",
       "      <td>39.509</td>\n",
       "      <td>0.602</td>\n",
       "    </tr>\n",
       "    <tr>\n",
       "      <th>et</th>\n",
       "      <td>1.991</td>\n",
       "      <td>0.000</td>\n",
       "      <td>61.013</td>\n",
       "      <td>0.890</td>\n",
       "    </tr>\n",
       "    <tr>\n",
       "      <th>gb</th>\n",
       "      <td>2.102</td>\n",
       "      <td>0.307</td>\n",
       "      <td>8197.666</td>\n",
       "      <td>9.393</td>\n",
       "    </tr>\n",
       "    <tr>\n",
       "      <th>xgb</th>\n",
       "      <td>2.102</td>\n",
       "      <td>2.284</td>\n",
       "      <td>267.974</td>\n",
       "      <td>1.328</td>\n",
       "    </tr>\n",
       "    <tr>\n",
       "      <th>adb</th>\n",
       "      <td>2.147</td>\n",
       "      <td>1.407</td>\n",
       "      <td>14.477</td>\n",
       "      <td>0.395</td>\n",
       "    </tr>\n",
       "    <tr>\n",
       "      <th>mlp</th>\n",
       "      <td>1.909</td>\n",
       "      <td>0.000</td>\n",
       "      <td>597.006</td>\n",
       "      <td>0.021</td>\n",
       "    </tr>\n",
       "  </tbody>\n",
       "</table>\n",
       "</div>"
      ],
      "text/plain": [
       "        test_score  train_score  fit_time  score_time\n",
       "knn          2.111        2.275     0.013      18.897\n",
       "logit        2.042        1.857    26.050       0.009\n",
       "sgd          1.995        0.299     1.211       0.008\n",
       "linsvm       1.899        0.025     2.304       0.005\n",
       "svm          2.105        2.279   100.000       8.319\n",
       "dt           2.029        0.000     3.639       0.009\n",
       "rf           2.028        0.003    39.509       0.602\n",
       "et           1.991        0.000    61.013       0.890\n",
       "gb           2.102        0.307  8197.666       9.393\n",
       "xgb          2.102        2.284   267.974       1.328\n",
       "adb          2.147        1.407    14.477       0.395\n",
       "mlp          1.909        0.000   597.006       0.021"
      ]
     },
     "execution_count": 33,
     "metadata": {},
     "output_type": "execute_result"
    }
   ],
   "source": [
    "result = pd.read_csv('ML_result.csv', index_col=0)\n",
    "result"
   ]
  },
  {
   "cell_type": "code",
   "execution_count": 34,
   "metadata": {
    "ExecuteTime": {
     "end_time": "2022-02-06T02:34:02.726630Z",
     "start_time": "2022-02-06T02:34:02.717548Z"
    },
    "scrolled": true
   },
   "outputs": [],
   "source": [
    "# for key, model in models.items() :\n",
    "#     model.fit(X_train, y_train)\n",
    "#     print(key, ':', round(model.score(X_val, y_val), 3))"
   ]
  },
  {
   "cell_type": "markdown",
   "metadata": {},
   "source": [
    "- knn : 0.91\n",
    "- logit : 0.965\n",
    "- sgd : 0.97\n",
    "- linsvm : 0.978\n",
    "- svm : 0.951\n",
    "- dt : 0.972\n",
    "- rf : 0.962\n",
    "- et : 0.966\n",
    "- xgb : 0.943\n",
    "- adb : 0.907\n",
    "- mlp : 0.975"
   ]
  },
  {
   "cell_type": "markdown",
   "metadata": {},
   "source": [
    "- 회귀에서 score는 R2 score를 반환"
   ]
  },
  {
   "cell_type": "markdown",
   "metadata": {},
   "source": [
    "# Nerual network"
   ]
  },
  {
   "cell_type": "code",
   "execution_count": 44,
   "metadata": {
    "ExecuteTime": {
     "end_time": "2022-02-06T03:02:56.224832Z",
     "start_time": "2022-02-06T03:02:56.218714Z"
    }
   },
   "outputs": [],
   "source": [
    "def plot_result(history) :\n",
    "    plt.plot(history.history['loss'], 'b--', label='loss')\n",
    "    plt.plot(history.history['val_loss'], 'r-', label='val_loss')\n",
    "    plt.xlabel('Epoch')\n",
    "    plt.grid(True)\n",
    "    plt.legend()"
   ]
  },
  {
   "cell_type": "code",
   "execution_count": 36,
   "metadata": {
    "ExecuteTime": {
     "end_time": "2022-02-06T02:34:02.773469Z",
     "start_time": "2022-02-06T02:34:02.763402Z"
    }
   },
   "outputs": [],
   "source": [
    "np.random.seed(30)\n",
    "tf.random.set_seed(30)"
   ]
  },
  {
   "cell_type": "code",
   "execution_count": 37,
   "metadata": {
    "ExecuteTime": {
     "end_time": "2022-02-06T02:34:03.178284Z",
     "start_time": "2022-02-06T02:34:02.781166Z"
    }
   },
   "outputs": [
    {
     "name": "stdout",
     "output_type": "stream",
     "text": [
      "Model: \"sequential\"\n",
      "_________________________________________________________________\n",
      "Layer (type)                 Output Shape              Param #   \n",
      "=================================================================\n",
      "dense (Dense)                (None, 100)               1217700   \n",
      "_________________________________________________________________\n",
      "dense_1 (Dense)              (None, 100)               10100     \n",
      "_________________________________________________________________\n",
      "dense_2 (Dense)              (None, 100)               10100     \n",
      "_________________________________________________________________\n",
      "dense_3 (Dense)              (None, 100)               10100     \n",
      "_________________________________________________________________\n",
      "dense_4 (Dense)              (None, 100)               10100     \n",
      "_________________________________________________________________\n",
      "dense_5 (Dense)              (None, 100)               10100     \n",
      "_________________________________________________________________\n",
      "dense_6 (Dense)              (None, 2)                 202       \n",
      "=================================================================\n",
      "Total params: 1,268,402\n",
      "Trainable params: 1,268,402\n",
      "Non-trainable params: 0\n",
      "_________________________________________________________________\n"
     ]
    }
   ],
   "source": [
    "model = Sequential()\n",
    "model.add(Dense(100, activation='selu', kernel_initializer='lecun_normal', input_shape=(X_train.shape[1],)))\n",
    "\n",
    "for layer in range(5):\n",
    "    model.add(Dense(100, activation='selu', kernel_initializer='lecun_normal'))\n",
    "    \n",
    "model.add(Dense(2, activation='softmax'))\n",
    "\n",
    "model.summary()"
   ]
  },
  {
   "cell_type": "code",
   "execution_count": 28,
   "metadata": {
    "ExecuteTime": {
     "end_time": "2022-02-06T02:34:02.538998Z",
     "start_time": "2022-02-06T02:34:02.523043Z"
    }
   },
   "outputs": [
    {
     "data": {
      "text/plain": [
       "scipy.sparse.csr.csr_matrix"
      ]
     },
     "execution_count": 28,
     "metadata": {},
     "output_type": "execute_result"
    }
   ],
   "source": [
    "type(X_train)"
   ]
  },
  {
   "cell_type": "code",
   "execution_count": 38,
   "metadata": {
    "ExecuteTime": {
     "end_time": "2022-02-06T02:34:03.933120Z",
     "start_time": "2022-02-06T02:34:03.181276Z"
    }
   },
   "outputs": [],
   "source": [
    "# Keras can't work with csr_matrix. Convert to a numpy array.\n",
    "X_train = X_train.toarray()\n",
    "X_val = X_val.toarray()"
   ]
  },
  {
   "cell_type": "code",
   "execution_count": 39,
   "metadata": {
    "ExecuteTime": {
     "end_time": "2022-02-06T02:34:03.956750Z",
     "start_time": "2022-02-06T02:34:03.937168Z"
    }
   },
   "outputs": [],
   "source": [
    "optimizer = keras.optimizers.Adam(lr=0.001, beta_1=0.9, beta_2=0.999)"
   ]
  },
  {
   "cell_type": "code",
   "execution_count": 40,
   "metadata": {
    "ExecuteTime": {
     "end_time": "2022-02-06T02:34:03.995961Z",
     "start_time": "2022-02-06T02:34:03.960910Z"
    }
   },
   "outputs": [],
   "source": [
    "model.compile(loss='mse', optimizer=optimizer)"
   ]
  },
  {
   "cell_type": "code",
   "execution_count": 41,
   "metadata": {
    "ExecuteTime": {
     "end_time": "2022-02-06T02:34:04.010813Z",
     "start_time": "2022-02-06T02:34:03.998811Z"
    }
   },
   "outputs": [],
   "source": [
    "early_stopping_cb = keras.callbacks.EarlyStopping(patience=20, restore_best_weights=True)"
   ]
  },
  {
   "cell_type": "code",
   "execution_count": 42,
   "metadata": {
    "ExecuteTime": {
     "end_time": "2022-02-06T02:38:59.635899Z",
     "start_time": "2022-02-06T02:34:04.014765Z"
    },
    "scrolled": false
   },
   "outputs": [
    {
     "name": "stdout",
     "output_type": "stream",
     "text": [
      "Epoch 1/100\n",
      "689/689 [==============================] - 12s 17ms/step - loss: 5.9166 - val_loss: 1.8447\n",
      "Epoch 2/100\n",
      "689/689 [==============================] - 10s 14ms/step - loss: 5.9166 - val_loss: 1.8446\n",
      "Epoch 3/100\n",
      "689/689 [==============================] - 9s 14ms/step - loss: 5.9165 - val_loss: 1.8446\n",
      "Epoch 4/100\n",
      "689/689 [==============================] - 10s 14ms/step - loss: 5.9166 - val_loss: 1.8446\n",
      "Epoch 5/100\n",
      "689/689 [==============================] - 10s 14ms/step - loss: 5.9165 - val_loss: 1.8446\n",
      "Epoch 6/100\n",
      "689/689 [==============================] - 9s 14ms/step - loss: 5.9165 - val_loss: 1.8446\n",
      "Epoch 7/100\n",
      "689/689 [==============================] - 10s 14ms/step - loss: 5.9165 - val_loss: 1.8446\n",
      "Epoch 8/100\n",
      "689/689 [==============================] - 10s 14ms/step - loss: 5.9165 - val_loss: 1.8446\n",
      "Epoch 9/100\n",
      "689/689 [==============================] - 10s 14ms/step - loss: 5.9165 - val_loss: 1.8446\n",
      "Epoch 10/100\n",
      "689/689 [==============================] - 10s 14ms/step - loss: 5.9165 - val_loss: 1.8446\n",
      "Epoch 11/100\n",
      "689/689 [==============================] - 10s 14ms/step - loss: 5.9166 - val_loss: 1.8446\n",
      "Epoch 12/100\n",
      "689/689 [==============================] - 10s 14ms/step - loss: 5.9165 - val_loss: 1.8446\n",
      "Epoch 13/100\n",
      "689/689 [==============================] - 10s 14ms/step - loss: 5.9165 - val_loss: 1.8446\n",
      "Epoch 14/100\n",
      "689/689 [==============================] - 10s 14ms/step - loss: 5.9165 - val_loss: 1.8446\n",
      "Epoch 15/100\n",
      "689/689 [==============================] - 10s 14ms/step - loss: 5.9165 - val_loss: 1.8446\n",
      "Epoch 16/100\n",
      "689/689 [==============================] - 10s 15ms/step - loss: 5.9165 - val_loss: 1.8446\n",
      "Epoch 17/100\n",
      "689/689 [==============================] - 10s 14ms/step - loss: 5.9165 - val_loss: 1.8446\n",
      "Epoch 18/100\n",
      "689/689 [==============================] - 10s 15ms/step - loss: 5.9165 - val_loss: 1.8446\n",
      "Epoch 19/100\n",
      "689/689 [==============================] - 10s 15ms/step - loss: 5.9165 - val_loss: 1.8446\n",
      "Epoch 20/100\n",
      "689/689 [==============================] - 10s 15ms/step - loss: 5.9165 - val_loss: 1.8446\n",
      "Epoch 21/100\n",
      "689/689 [==============================] - 10s 14ms/step - loss: 5.9165 - val_loss: 1.8446\n",
      "Epoch 22/100\n",
      "689/689 [==============================] - 10s 14ms/step - loss: 5.9165 - val_loss: 1.8446\n",
      "Epoch 23/100\n",
      "689/689 [==============================] - 10s 15ms/step - loss: 5.9165 - val_loss: 1.8446\n",
      "Epoch 24/100\n",
      "689/689 [==============================] - 10s 14ms/step - loss: 5.9165 - val_loss: 1.8446\n",
      "Epoch 25/100\n",
      "689/689 [==============================] - 10s 14ms/step - loss: 5.9165 - val_loss: 1.8446\n",
      "Epoch 26/100\n",
      "689/689 [==============================] - 10s 14ms/step - loss: 5.9165 - val_loss: 1.8446\n",
      "Epoch 27/100\n",
      "689/689 [==============================] - 10s 14ms/step - loss: 5.9165 - val_loss: 1.8446\n",
      "Epoch 28/100\n",
      "689/689 [==============================] - 10s 15ms/step - loss: 5.9166 - val_loss: 1.8446\n",
      "Epoch 29/100\n",
      "689/689 [==============================] - 10s 14ms/step - loss: 5.9165 - val_loss: 1.8446\n"
     ]
    }
   ],
   "source": [
    "history = model.fit(X_train, y_train, epochs=100, validation_data=(X_val, y_val), callbacks=early_stopping_cb)"
   ]
  },
  {
   "cell_type": "code",
   "execution_count": 45,
   "metadata": {
    "ExecuteTime": {
     "end_time": "2022-02-06T03:03:03.251083Z",
     "start_time": "2022-02-06T03:03:02.900928Z"
    }
   },
   "outputs": [
    {
     "data": {
      "image/png": "[encoded data removed]",
      "text/plain": [
       "<Figure size 432x288 with 1 Axes>"
      ]
     },
     "metadata": {
      "needs_background": "light"
     },
     "output_type": "display_data"
    }
   ],
   "source": [
    "plot_result(history)"
   ]
  }
 ],
 "metadata": {
  "hide_input": false,
  "kernelspec": {
   "display_name": "Python 3",
   "language": "python",
   "name": "python3"
  },
  "language_info": {
   "codemirror_mode": {
    "name": "ipython",
    "version": 3
   },
   "file_extension": ".py",
   "mimetype": "text/x-python",
   "name": "python",
   "nbconvert_exporter": "python",
   "pygments_lexer": "ipython3",
   "version": "3.7.1"
  },
  "toc": {
   "base_numbering": 1,
   "nav_menu": {},
   "number_sections": true,
   "sideBar": true,
   "skip_h1_title": false,
   "title_cell": "Table of Contents",
   "title_sidebar": "Contents",
   "toc_cell": false,
   "toc_position": {
    "height": "calc(100% - 180px)",
    "left": "10px",
    "top": "150px",
    "width": "243.825px"
   },
   "toc_section_display": true,
   "toc_window_display": true
  },
  "varInspector": {
   "cols": {
    "lenName": 16,
    "lenType": 16,
    "lenVar": 40
   },
   "kernels_config": {
    "python": {
     "delete_cmd_postfix": "",
     "delete_cmd_prefix": "del ",
     "library": "var_list.py",
     "varRefreshCmd": "print(var_dic_list())"
    },
    "r": {
     "delete_cmd_postfix": ") ",
     "delete_cmd_prefix": "rm(",
     "library": "var_list.r",
     "varRefreshCmd": "cat(var_dic_list()) "
    }
   },
   "types_to_exclude": [
    "module",
    "function",
    "builtin_function_or_method",
    "instance",
    "_Feature"
   ],
   "window_display": false
  }
 },
 "nbformat": 4,
 "nbformat_minor": 4
}

{
 "cells": [
  {
   "cell_type": "code",
   "execution_count": 1,
   "metadata": {},
   "outputs": [],
   "source": [
    "import numpy as np\n",
    "from scipy import stats\n",
    "from scipy.stats import skew\n",
    "import pandas as pd\n",
    "import matplotlib.pyplot as plt\n",
    "import seaborn as sns\n",
    "\n",
    "sns.set()\n",
    "\n",
    "import warnings\n",
    "warnings.filterwarnings('ignore')"
   ]
  },
  {
   "cell_type": "code",
   "execution_count": 2,
   "metadata": {},
   "outputs": [],
   "source": [
    "from sklearn.base import BaseEstimator, TransformerMixin\n",
    "from sklearn.preprocessing import StandardScaler, MinMaxScaler\n",
    "from sklearn.impute import SimpleImputer\n",
    "from sklearn.pipeline import Pipeline, make_pipeline\n",
    "from sklearn.compose import ColumnTransformer, make_column_transformer\n",
    "from sklearn.externals import joblib   # 함수는 dump 시켜도 안됨\n",
    "from sklearn.feature_selection import SelectPercentile, f_classif, f_regression, SelectFromModel, RFE\n",
    "from sklearn.model_selection import train_test_split\n",
    "from sklearn.model_selection import cross_val_score\n",
    "from sklearn.metrics import mean_squared_error\n",
    "from sklearn.metrics import make_scorer\n",
    "from sklearn.model_selection import GridSearchCV, RandomizedSearchCV"
   ]
  },
  {
   "cell_type": "code",
   "execution_count": 3,
   "metadata": {},
   "outputs": [],
   "source": [
    "from sklearn.neighbors import KNeighborsRegressor\n",
    "from sklearn.linear_model import LinearRegression\n",
    "from sklearn.linear_model import SGDRegressor\n",
    "from sklearn.linear_model import Ridge\n",
    "from sklearn.linear_model import Lasso\n",
    "from sklearn.linear_model import ElasticNet\n",
    "from sklearn.tree import DecisionTreeRegressor\n",
    "from sklearn.ensemble import RandomForestRegressor, RandomForestClassifier\n",
    "from sklearn.ensemble import GradientBoostingRegressor\n",
    "from xgboost import XGBRegressor\n",
    "from sklearn.svm import SVR\n",
    "from sklearn.neural_network import MLPRegressor"
   ]
  },
  {
   "cell_type": "code",
   "execution_count": 4,
   "metadata": {},
   "outputs": [],
   "source": [
    "from my_transformer import change_to_str, divide_columns, feature_selection, simple_imputer, one_hot_encoding, concat, rf_imputer, fill_columns\n",
    "from my_transformer import rmsle_scorer, neg_rmsle_scorer, rmsle"
   ]
  },
  {
   "cell_type": "code",
   "execution_count": 5,
   "metadata": {},
   "outputs": [],
   "source": [
    "def preparation(data) :\n",
    "    \n",
    "    data.drop(['SalePrice', 'Id'], axis=1, inplace=True)\n",
    "    \n",
    "    astype_str = change_to_str('MSSubClass')\n",
    "    data = astype_str.fit_transform(data)\n",
    "          \n",
    "    data.drop(['Alley', 'Fence', 'FireplaceQu', 'MiscFeature', 'PoolQC'], axis=1, inplace=True)\n",
    "    \n",
    "    num_columns, cat_columns = divide_columns(data)\n",
    "    \n",
    "    pipeline_cat = make_pipeline(\n",
    "        feature_selection(cat_columns),\n",
    "#         simple_imputer('most_frequent'),\n",
    "        one_hot_encoding(cat_columns)\n",
    "    )\n",
    "    \n",
    "    X_cat = pipeline_cat.fit_transform(data)\n",
    "    X_num = data[num_columns]\n",
    "    X = concat(X_num, X_cat)\n",
    "    \n",
    "    isnull_sum = X.isnull().sum()\n",
    "    not_null = list(isnull_sum[isnull_sum == 0].index)\n",
    "    null_columns = list(isnull_sum[isnull_sum > 0])\n",
    "    \n",
    "    for column in num_columns :\n",
    "        X = fill_columns(X, column, 'mean')\n",
    "        \n",
    "    isnull_sum = X.isnull().sum()\n",
    "    print(isnull_sum[isnull_sum > 0].sort_values(ascending=False))\n",
    "    \n",
    "    skew_features = X[num_columns].apply(lambda x : skew(x))\n",
    "    skew_features_top = skew_features[skew_features > 1]\n",
    "    X[skew_features_top.index] = np.log1p(X[skew_features_top.index])\n",
    "            \n",
    "    return X"
   ]
  },
  {
   "cell_type": "code",
   "execution_count": 6,
   "metadata": {},
   "outputs": [],
   "source": [
    "def data_set() :\n",
    "    train = pd.read_csv('train.csv')\n",
    "    test = pd.read_csv('test.csv')\n",
    "    \n",
    "    data = pd.concat([train, test], axis=0)\n",
    "    \n",
    "    X = preparation(data)\n",
    "    X_train = X.iloc[:1460, :]\n",
    "    X_test = X.iloc[1460:, :]\n",
    "    \n",
    "    y = train['SalePrice']\n",
    "    y_train = np.log1p(y)\n",
    "    \n",
    "    return X_train, X_test, y_train"
   ]
  },
  {
   "cell_type": "code",
   "execution_count": 7,
   "metadata": {},
   "outputs": [],
   "source": [
    "def feature_auto_selection(X_train, y_train) :\n",
    "    select_models = [SelectPercentile(score_func=f_regression, percentile=10),\n",
    "            SelectFromModel(rf, threshold='0.5*mean'),\n",
    "            RFE(lasso, n_features_to_select=30)]\n",
    "    \n",
    "    scores_list = []\n",
    "    \n",
    "    for model in select_models :\n",
    "        select = model\n",
    "        select.fit(X_train, y_train)\n",
    "        X_train = select.transform(X_train)\n",
    "        print(X_train.shape)\n",
    "        \n",
    "        scores = dict()\n",
    "\n",
    "        for key, model in models.items() : \n",
    "            score = cross_val_score(model, X_train, y_train, cv=5, scoring='neg_mean_squared_error').mean()   \n",
    "            scores[key] = round(np.sqrt(-score), 3)\n",
    "        \n",
    "        scores_list.append(scores)\n",
    "        \n",
    "    scores_df = {model.__class__.__name__ : pd.Series(scores) for model, scores in zip(select_models, scores_list)}\n",
    "    scores_df = pd.DataFrame(scores_df)\n",
    "    \n",
    "    return scores_df"
   ]
  },
  {
   "cell_type": "code",
   "execution_count": 8,
   "metadata": {},
   "outputs": [
    {
     "name": "stdout",
     "output_type": "stream",
     "text": [
      "Series([], dtype: int64)\n"
     ]
    }
   ],
   "source": [
    "X_train, X_test, y_train = data_set()"
   ]
  },
  {
   "cell_type": "code",
   "execution_count": 9,
   "metadata": {},
   "outputs": [
    {
     "data": {
      "text/plain": [
       "(1460, 285)"
      ]
     },
     "execution_count": 9,
     "metadata": {},
     "output_type": "execute_result"
    }
   ],
   "source": [
    "X_train.shape"
   ]
  },
  {
   "cell_type": "code",
   "execution_count": 4,
   "metadata": {},
   "outputs": [],
   "source": [
    "knn = KNeighborsRegressor(n_neighbors=5)\n",
    "linear = LinearRegression()\n",
    "sgd = SGDRegressor(max_iter=None, eta0=0.01, penalty='l2', random_state=30)\n",
    "ridge = Ridge(alpha=1, random_state=30)\n",
    "lasso = Lasso(alpha=1, random_state=30)\n",
    "elastic = ElasticNet(alpha=1, l1_ratio=0.5, random_state=30)\n",
    "dt = DecisionTreeRegressor(max_depth=None, random_state=30)\n",
    "rf = RandomForestRegressor(n_estimators=100, max_depth=None, random_state=30, n_jobs=-1)\n",
    "gb = GradientBoostingRegressor(n_estimators=100, learning_rate=0.1, max_depth=3, random_state=30)\n",
    "xgb = XGBRegressor(random_state=30)\n",
    "svm = SVR(C=1, kernel='rbf', gamma='auto_deprecated')\n",
    "mlp = MLPRegressor(hidden_layer_sizes=[100], solver='adam', activation='relu', alpha=0.0001, max_iter=200, random_state=30)"
   ]
  },
  {
   "cell_type": "code",
   "execution_count": 11,
   "metadata": {},
   "outputs": [],
   "source": [
    "models = {\n",
    "    'knn' : knn,\n",
    "    'linear' : linear,\n",
    "    'sgd' : sgd,\n",
    "    'ridge' : ridge,\n",
    "    'lasso' : lasso,\n",
    "    'elastic' : elastic,\n",
    "    'dt' : dt,\n",
    "    'rf' : rf,\n",
    "    'gb' : gb,\n",
    "    'xgb' : xgb,\n",
    "    'svm' : svm,\n",
    "    'mlp' : mlp\n",
    "}"
   ]
  },
  {
   "cell_type": "code",
   "execution_count": 12,
   "metadata": {},
   "outputs": [
    {
     "name": "stdout",
     "output_type": "stream",
     "text": [
      "[20:48:58] WARNING: C:/Jenkins/workspace/xgboost-win64_release_0.90/src/objective/regression_obj.cu:152: reg:linear is now deprecated in favor of reg:squarederror.\n",
      "[20:49:00] WARNING: C:/Jenkins/workspace/xgboost-win64_release_0.90/src/objective/regression_obj.cu:152: reg:linear is now deprecated in favor of reg:squarederror.\n",
      "[20:49:03] WARNING: C:/Jenkins/workspace/xgboost-win64_release_0.90/src/objective/regression_obj.cu:152: reg:linear is now deprecated in favor of reg:squarederror.\n",
      "[20:49:05] WARNING: C:/Jenkins/workspace/xgboost-win64_release_0.90/src/objective/regression_obj.cu:152: reg:linear is now deprecated in favor of reg:squarederror.\n",
      "[20:49:08] WARNING: C:/Jenkins/workspace/xgboost-win64_release_0.90/src/objective/regression_obj.cu:152: reg:linear is now deprecated in favor of reg:squarederror.\n"
     ]
    },
    {
     "data": {
      "text/plain": [
       "{'knn': 0.262,\n",
       " 'linear': 0.144,\n",
       " 'sgd': 1.2445542558732638e+16,\n",
       " 'ridge': 0.132,\n",
       " 'lasso': 0.252,\n",
       " 'elastic': 0.248,\n",
       " 'dt': 0.21,\n",
       " 'rf': 0.143,\n",
       " 'gb': 0.127,\n",
       " 'xgb': 0.13,\n",
       " 'svm': 0.385,\n",
       " 'mlp': 1.225}"
      ]
     },
     "execution_count": 12,
     "metadata": {},
     "output_type": "execute_result"
    }
   ],
   "source": [
    "scores = dict()\n",
    "\n",
    "for key, model in models.items() : \n",
    "    score = cross_val_score(model, X_train, y_train, cv=5, scoring='neg_mean_squared_error').mean()   \n",
    "    scores[key] = round(np.sqrt(-score), 3)\n",
    "    \n",
    "scores"
   ]
  },
  {
   "cell_type": "code",
   "execution_count": 13,
   "metadata": {},
   "outputs": [
    {
     "name": "stdout",
     "output_type": "stream",
     "text": [
      "California    38\n",
      "Texas         26\n",
      "New York      19\n",
      "Florida       19\n",
      "Illinois      12\n",
      "dtype: int64\n"
     ]
    }
   ],
   "source": [
    "population_dict = {\n",
    "    'California' : 38,\n",
    "    'Texas' : 26,\n",
    "    'New York' : 19,\n",
    "    'Florida' : 19,\n",
    "    'Illinois' : 12\n",
    "}\n",
    "population = pd.Series(population_dict)\n",
    "print(population)"
   ]
  },
  {
   "cell_type": "code",
   "execution_count": 14,
   "metadata": {},
   "outputs": [],
   "source": [
    "X_train, X_test, y_train, y_test = train_test_split(X_train, y_train, test_size=0.2, random_state=30)"
   ]
  },
  {
   "cell_type": "code",
   "execution_count": 15,
   "metadata": {},
   "outputs": [
    {
     "name": "stdout",
     "output_type": "stream",
     "text": [
      "knn, train_score : 0.204, test_score : 0.274\n",
      "linear, train_score : 0.088, test_score : 0.126\n",
      "sgd, train_score : 1.125390712883238e+16, test_score : 1.145567118129644e+16\n",
      "ridge, train_score : 0.093, test_score : 0.129\n",
      "lasso, train_score : 0.249, test_score : 0.258\n",
      "elastic, train_score : 0.244, test_score : 0.254\n",
      "dt, train_score : 0.0, test_score : 0.23\n",
      "rf, train_score : 0.054, test_score : 0.149\n",
      "gb, train_score : 0.076, test_score : 0.142\n",
      "[20:49:39] WARNING: C:/Jenkins/workspace/xgboost-win64_release_0.90/src/objective/regression_obj.cu:152: reg:linear is now deprecated in favor of reg:squarederror.\n",
      "xgb, train_score : 0.082, test_score : 0.139\n",
      "svm, train_score : 0.097, test_score : 0.401\n",
      "mlp, train_score : 0.966, test_score : 1.143\n"
     ]
    }
   ],
   "source": [
    "for key, model in models.items() : \n",
    "    model.fit(X_train, y_train)\n",
    "    y_train_pred = model.predict(X_train)\n",
    "    y_test_pred = model.predict(X_test)\n",
    "    score_train = np.sqrt(mean_squared_error(y_train, y_train_pred))\n",
    "    score_test = np.sqrt(mean_squared_error(y_test, y_test_pred))\n",
    "    \n",
    "    print('{}, train_score : {}, test_score : {}' . format(key, round(score_train, 3), round(score_test, 3)))"
   ]
  },
  {
   "cell_type": "code",
   "execution_count": 16,
   "metadata": {},
   "outputs": [
    {
     "name": "stdout",
     "output_type": "stream",
     "text": [
      "Series([], dtype: int64)\n"
     ]
    }
   ],
   "source": [
    "X_train, X_test, y_train = data_set()"
   ]
  },
  {
   "cell_type": "code",
   "execution_count": 19,
   "metadata": {},
   "outputs": [
    {
     "name": "stdout",
     "output_type": "stream",
     "text": [
      "(1460, 29)\n",
      "[20:50:48] WARNING: C:/Jenkins/workspace/xgboost-win64_release_0.90/src/objective/regression_obj.cu:152: reg:linear is now deprecated in favor of reg:squarederror.\n",
      "[20:50:48] WARNING: C:/Jenkins/workspace/xgboost-win64_release_0.90/src/objective/regression_obj.cu:152: reg:linear is now deprecated in favor of reg:squarederror.\n",
      "[20:50:49] WARNING: C:/Jenkins/workspace/xgboost-win64_release_0.90/src/objective/regression_obj.cu:152: reg:linear is now deprecated in favor of reg:squarederror.\n",
      "[20:50:49] WARNING: C:/Jenkins/workspace/xgboost-win64_release_0.90/src/objective/regression_obj.cu:152: reg:linear is now deprecated in favor of reg:squarederror.\n",
      "[20:50:50] WARNING: C:/Jenkins/workspace/xgboost-win64_release_0.90/src/objective/regression_obj.cu:152: reg:linear is now deprecated in favor of reg:squarederror.\n",
      "(1460, 8)\n",
      "[20:51:04] WARNING: C:/Jenkins/workspace/xgboost-win64_release_0.90/src/objective/regression_obj.cu:152: reg:linear is now deprecated in favor of reg:squarederror.\n",
      "[20:51:04] WARNING: C:/Jenkins/workspace/xgboost-win64_release_0.90/src/objective/regression_obj.cu:152: reg:linear is now deprecated in favor of reg:squarederror.\n",
      "[20:51:04] WARNING: C:/Jenkins/workspace/xgboost-win64_release_0.90/src/objective/regression_obj.cu:152: reg:linear is now deprecated in favor of reg:squarederror.\n",
      "[20:51:04] WARNING: C:/Jenkins/workspace/xgboost-win64_release_0.90/src/objective/regression_obj.cu:152: reg:linear is now deprecated in favor of reg:squarederror.\n",
      "[20:51:04] WARNING: C:/Jenkins/workspace/xgboost-win64_release_0.90/src/objective/regression_obj.cu:152: reg:linear is now deprecated in favor of reg:squarederror.\n",
      "(1460, 8)\n",
      "[20:51:16] WARNING: C:/Jenkins/workspace/xgboost-win64_release_0.90/src/objective/regression_obj.cu:152: reg:linear is now deprecated in favor of reg:squarederror.\n",
      "[20:51:16] WARNING: C:/Jenkins/workspace/xgboost-win64_release_0.90/src/objective/regression_obj.cu:152: reg:linear is now deprecated in favor of reg:squarederror.\n",
      "[20:51:17] WARNING: C:/Jenkins/workspace/xgboost-win64_release_0.90/src/objective/regression_obj.cu:152: reg:linear is now deprecated in favor of reg:squarederror.\n",
      "[20:51:17] WARNING: C:/Jenkins/workspace/xgboost-win64_release_0.90/src/objective/regression_obj.cu:152: reg:linear is now deprecated in favor of reg:squarederror.\n",
      "[20:51:17] WARNING: C:/Jenkins/workspace/xgboost-win64_release_0.90/src/objective/regression_obj.cu:152: reg:linear is now deprecated in favor of reg:squarederror.\n"
     ]
    }
   ],
   "source": [
    "scores_df = feature_auto_selection(X_train, y_train)"
   ]
  },
  {
   "cell_type": "code",
   "execution_count": 20,
   "metadata": {},
   "outputs": [
    {
     "data": {
      "text/html": [
       "<div>\n",
       "<style scoped>\n",
       "    .dataframe tbody tr th:only-of-type {\n",
       "        vertical-align: middle;\n",
       "    }\n",
       "\n",
       "    .dataframe tbody tr th {\n",
       "        vertical-align: top;\n",
       "    }\n",
       "\n",
       "    .dataframe thead th {\n",
       "        text-align: right;\n",
       "    }\n",
       "</style>\n",
       "<table border=\"1\" class=\"dataframe\">\n",
       "  <thead>\n",
       "    <tr style=\"text-align: right;\">\n",
       "      <th></th>\n",
       "      <th>SelectPercentile</th>\n",
       "      <th>SelectFromModel</th>\n",
       "      <th>RFE</th>\n",
       "    </tr>\n",
       "  </thead>\n",
       "  <tbody>\n",
       "    <tr>\n",
       "      <th>knn</th>\n",
       "      <td>2.670000e-01</td>\n",
       "      <td>2.710000e-01</td>\n",
       "      <td>2.710000e-01</td>\n",
       "    </tr>\n",
       "    <tr>\n",
       "      <th>linear</th>\n",
       "      <td>1.530000e-01</td>\n",
       "      <td>1.590000e-01</td>\n",
       "      <td>1.590000e-01</td>\n",
       "    </tr>\n",
       "    <tr>\n",
       "      <th>sgd</th>\n",
       "      <td>5.671552e+15</td>\n",
       "      <td>4.427101e+15</td>\n",
       "      <td>4.427101e+15</td>\n",
       "    </tr>\n",
       "    <tr>\n",
       "      <th>ridge</th>\n",
       "      <td>1.530000e-01</td>\n",
       "      <td>1.590000e-01</td>\n",
       "      <td>1.590000e-01</td>\n",
       "    </tr>\n",
       "    <tr>\n",
       "      <th>lasso</th>\n",
       "      <td>2.680000e-01</td>\n",
       "      <td>2.680000e-01</td>\n",
       "      <td>2.680000e-01</td>\n",
       "    </tr>\n",
       "    <tr>\n",
       "      <th>elastic</th>\n",
       "      <td>2.650000e-01</td>\n",
       "      <td>2.650000e-01</td>\n",
       "      <td>2.650000e-01</td>\n",
       "    </tr>\n",
       "    <tr>\n",
       "      <th>dt</th>\n",
       "      <td>2.220000e-01</td>\n",
       "      <td>2.250000e-01</td>\n",
       "      <td>2.250000e-01</td>\n",
       "    </tr>\n",
       "    <tr>\n",
       "      <th>rf</th>\n",
       "      <td>1.550000e-01</td>\n",
       "      <td>1.590000e-01</td>\n",
       "      <td>1.590000e-01</td>\n",
       "    </tr>\n",
       "    <tr>\n",
       "      <th>gb</th>\n",
       "      <td>1.460000e-01</td>\n",
       "      <td>1.510000e-01</td>\n",
       "      <td>1.510000e-01</td>\n",
       "    </tr>\n",
       "    <tr>\n",
       "      <th>xgb</th>\n",
       "      <td>1.460000e-01</td>\n",
       "      <td>1.520000e-01</td>\n",
       "      <td>1.520000e-01</td>\n",
       "    </tr>\n",
       "    <tr>\n",
       "      <th>svm</th>\n",
       "      <td>3.310000e-01</td>\n",
       "      <td>3.460000e-01</td>\n",
       "      <td>3.460000e-01</td>\n",
       "    </tr>\n",
       "    <tr>\n",
       "      <th>mlp</th>\n",
       "      <td>8.100000e-01</td>\n",
       "      <td>1.791000e+00</td>\n",
       "      <td>1.791000e+00</td>\n",
       "    </tr>\n",
       "  </tbody>\n",
       "</table>\n",
       "</div>"
      ],
      "text/plain": [
       "         SelectPercentile  SelectFromModel           RFE\n",
       "knn          2.670000e-01     2.710000e-01  2.710000e-01\n",
       "linear       1.530000e-01     1.590000e-01  1.590000e-01\n",
       "sgd          5.671552e+15     4.427101e+15  4.427101e+15\n",
       "ridge        1.530000e-01     1.590000e-01  1.590000e-01\n",
       "lasso        2.680000e-01     2.680000e-01  2.680000e-01\n",
       "elastic      2.650000e-01     2.650000e-01  2.650000e-01\n",
       "dt           2.220000e-01     2.250000e-01  2.250000e-01\n",
       "rf           1.550000e-01     1.590000e-01  1.590000e-01\n",
       "gb           1.460000e-01     1.510000e-01  1.510000e-01\n",
       "xgb          1.460000e-01     1.520000e-01  1.520000e-01\n",
       "svm          3.310000e-01     3.460000e-01  3.460000e-01\n",
       "mlp          8.100000e-01     1.791000e+00  1.791000e+00"
      ]
     },
     "execution_count": 20,
     "metadata": {},
     "output_type": "execute_result"
    }
   ],
   "source": [
    "scores_df"
   ]
  },
  {
   "cell_type": "code",
   "execution_count": null,
   "metadata": {},
   "outputs": [],
   "source": []
  }
 ],
 "metadata": {
  "kernelspec": {
   "display_name": "Python 3",
   "language": "python",
   "name": "python3"
  },
  "language_info": {
   "codemirror_mode": {
    "name": "ipython",
    "version": 3
   },
   "file_extension": ".py",
   "mimetype": "text/x-python",
   "name": "python",
   "nbconvert_exporter": "python",
   "pygments_lexer": "ipython3",
   "version": "3.7.1"
  }
 },
 "nbformat": 4,
 "nbformat_minor": 2
}

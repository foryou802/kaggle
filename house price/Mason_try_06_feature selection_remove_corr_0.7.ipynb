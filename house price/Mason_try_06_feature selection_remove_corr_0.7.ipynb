{
 "cells": [
  {
   "cell_type": "code",
   "execution_count": 1,
   "metadata": {},
   "outputs": [],
   "source": [
    "import numpy as np\n",
    "from scipy import stats\n",
    "from scipy.stats import skew\n",
    "import pandas as pd\n",
    "import matplotlib.pyplot as plt\n",
    "import seaborn as sns\n",
    "\n",
    "sns.set()\n",
    "\n",
    "import warnings\n",
    "warnings.filterwarnings('ignore')"
   ]
  },
  {
   "cell_type": "code",
   "execution_count": 2,
   "metadata": {},
   "outputs": [],
   "source": [
    "from sklearn.base import BaseEstimator, TransformerMixin\n",
    "from sklearn.preprocessing import StandardScaler, MinMaxScaler\n",
    "from sklearn.impute import SimpleImputer\n",
    "from sklearn.pipeline import Pipeline, make_pipeline\n",
    "from sklearn.compose import ColumnTransformer, make_column_transformer\n",
    "from sklearn.externals import joblib   # 함수는 dump 시켜도 안됨\n",
    "from sklearn.model_selection import train_test_split\n",
    "from sklearn.model_selection import cross_val_score\n",
    "from sklearn.metrics import mean_squared_error\n",
    "from sklearn.metrics import make_scorer\n",
    "from sklearn.model_selection import GridSearchCV, RandomizedSearchCV"
   ]
  },
  {
   "cell_type": "code",
   "execution_count": 3,
   "metadata": {},
   "outputs": [],
   "source": [
    "from sklearn.neighbors import KNeighborsRegressor\n",
    "from sklearn.linear_model import LinearRegression\n",
    "from sklearn.linear_model import SGDRegressor\n",
    "from sklearn.linear_model import Ridge\n",
    "from sklearn.linear_model import Lasso\n",
    "from sklearn.linear_model import ElasticNet\n",
    "from sklearn.tree import DecisionTreeRegressor\n",
    "from sklearn.ensemble import RandomForestRegressor, RandomForestClassifier\n",
    "from sklearn.ensemble import GradientBoostingRegressor\n",
    "from xgboost import XGBRegressor\n",
    "from sklearn.svm import SVR\n",
    "from sklearn.neural_network import MLPRegressor"
   ]
  },
  {
   "cell_type": "code",
   "execution_count": 4,
   "metadata": {},
   "outputs": [],
   "source": [
    "from my_transformer import change_to_str, divide_columns, feature_selection, simple_imputer, one_hot_encoding, concat, rf_imputer, fill_columns\n",
    "from my_transformer import rmsle_scorer, neg_rmsle_scorer, rmsle"
   ]
  },
  {
   "cell_type": "code",
   "execution_count": 5,
   "metadata": {},
   "outputs": [],
   "source": [
    "def preparation(data) :\n",
    "    \n",
    "    data.drop(['SalePrice', 'Id'], axis=1, inplace=True)\n",
    "#     data.drop(['Id'], axis=1, inplace=True)\n",
    "    \n",
    "    astype_str = change_to_str('MSSubClass')\n",
    "    data = astype_str.fit_transform(data)\n",
    "    \n",
    "    num_columns, cat_columns = divide_columns(data)\n",
    "    \n",
    "    num_null_0 = ['MasVnrArea', 'BsmtFinSF1', 'BsmtFinSF2', 'BsmtUnfSF', 'TotalBsmtSF',\n",
    "                  'BsmtFullBath', 'BsmtHalfBath', 'GarageCars', 'GarageArea']\n",
    "    num_null_mean = 'LotFrontage'\n",
    "    num_null_rf = 'GarageYrBlt'\n",
    "    replace_null = ['Alley', 'Fence', 'FireplaceQu', 'MiscFeature', 'PoolQC',\n",
    "                   'BsmtQual', 'BsmtCond', 'BsmtExposure', 'BsmtFinType1', 'BsmtFinType2', 'GarageFinish', 'GarageCond']\n",
    "    \n",
    "    for column in replace_null :\n",
    "        data.loc[data[column].isnull(), column] = 'NA'\n",
    "    \n",
    "    pipeline_cat = make_pipeline(\n",
    "        feature_selection(cat_columns),\n",
    "        simple_imputer('most_frequent'),\n",
    "        one_hot_encoding(cat_columns)\n",
    "    )\n",
    "    \n",
    "    X_cat = pipeline_cat.fit_transform(data)\n",
    "    X_num = data[num_columns]\n",
    "    X = concat(X_num, X_cat)\n",
    "    \n",
    "    isnull_sum = X.isnull().sum()\n",
    "    not_null = list(isnull_sum[isnull_sum == 0].index)\n",
    "    null_columns = list(isnull_sum[isnull_sum > 0])\n",
    "    \n",
    "    for column in num_columns :\n",
    "        if column == num_null_rf :\n",
    "            X = rf_imputer(X, column, not_null)\n",
    "\n",
    "        elif column == num_null_mean :\n",
    "            X = fill_columns(X, column, 'mean')\n",
    "\n",
    "        else :\n",
    "            X = fill_columns(X, column, 'constant', 0)\n",
    "        \n",
    "    isnull_sum = X.isnull().sum()\n",
    "    print(isnull_sum[isnull_sum > 0].sort_values(ascending=False))\n",
    "    \n",
    "    skew_features = X[num_columns].apply(lambda x : skew(x))\n",
    "    skew_features_top = skew_features[skew_features > 1]\n",
    "    X[skew_features_top.index] = np.log1p(X[skew_features_top.index])\n",
    "            \n",
    "    return X"
   ]
  },
  {
   "cell_type": "code",
   "execution_count": 6,
   "metadata": {},
   "outputs": [],
   "source": [
    "def data_set() :\n",
    "    train = pd.read_csv('train.csv')\n",
    "    test = pd.read_csv('test.csv')\n",
    "    \n",
    "    data = pd.concat([train, test], axis=0)\n",
    "    \n",
    "    X = preparation(data)\n",
    "    X_test = X.iloc[1460:, :]\n",
    "    X = X.iloc[:1460, :]\n",
    "    \n",
    "    y = train['SalePrice']\n",
    "    y = np.log1p(y)\n",
    "    \n",
    "    return X, X_test, y"
   ]
  },
  {
   "cell_type": "code",
   "execution_count": 7,
   "metadata": {},
   "outputs": [
    {
     "name": "stdout",
     "output_type": "stream",
     "text": [
      "Series([], dtype: int64)\n"
     ]
    }
   ],
   "source": [
    "X, X_test, y = data_set()"
   ]
  },
  {
   "cell_type": "code",
   "execution_count": 8,
   "metadata": {},
   "outputs": [],
   "source": [
    "corr_matrix = X.corr()"
   ]
  },
  {
   "cell_type": "code",
   "execution_count": 9,
   "metadata": {},
   "outputs": [
    {
     "data": {
      "text/plain": [
       "{'2ndFlrSF': ['HouseStyle_2Story'],\n",
       " 'BsmtFinSF1': ['BsmtFinType1_Unf'],\n",
       " 'BsmtFinSF2': ['BsmtFinType2_Unf'],\n",
       " 'Fireplaces': ['FireplaceQu_NA'],\n",
       " 'GarageArea': ['GarageCars'],\n",
       " 'GarageYrBlt': ['YearBuilt'],\n",
       " 'GrLivArea': ['TotRmsAbvGrd'],\n",
       " 'MasVnrArea': ['MasVnrType_None'],\n",
       " 'MiscVal': ['MiscFeature_NA', 'MiscFeature_Shed'],\n",
       " 'PoolArea': ['PoolQC_NA'],\n",
       " 'TotalBsmtSF': ['BsmtCond_NA',\n",
       "  'BsmtExposure_NA',\n",
       "  'BsmtFinType1_NA',\n",
       "  'BsmtFinType2_NA',\n",
       "  'BsmtQual_NA'],\n",
       " 'BldgType_2fmCon': ['MSSubClass_190'],\n",
       " 'BldgType_Duplex': ['MSSubClass_90'],\n",
       " 'BsmtCond_NA': ['BsmtExposure_NA',\n",
       "  'BsmtFinType1_NA',\n",
       "  'BsmtFinType2_NA',\n",
       "  'BsmtQual_NA',\n",
       "  'Foundation_Slab'],\n",
       " 'BsmtExposure_NA': ['BsmtFinType1_NA', 'BsmtFinType2_NA', 'BsmtQual_NA'],\n",
       " 'BsmtFinType1_NA': ['BsmtFinType2_NA', 'BsmtQual_NA', 'Foundation_Slab'],\n",
       " 'BsmtFinType2_NA': ['BsmtQual_NA'],\n",
       " 'BsmtQual_NA': ['Foundation_Slab'],\n",
       " 'CentralAir_N': ['CentralAir_Y'],\n",
       " 'Electrical_FuseA': ['Electrical_SBrkr'],\n",
       " 'ExterCond_Gd': ['ExterCond_TA'],\n",
       " 'ExterQual_Gd': ['ExterQual_TA'],\n",
       " 'Exterior1st_AsbShng': ['Exterior2nd_AsbShng'],\n",
       " 'Exterior1st_CemntBd': ['Exterior2nd_CmentBd'],\n",
       " 'Exterior1st_HdBoard': ['Exterior2nd_HdBoard'],\n",
       " 'Exterior1st_MetalSd': ['Exterior2nd_MetalSd'],\n",
       " 'Exterior1st_VinylSd': ['Exterior2nd_VinylSd'],\n",
       " 'Exterior1st_Wd Sdng': ['Exterior2nd_Wd Sdng'],\n",
       " 'GarageCond_Ex': ['GarageQual_Ex'],\n",
       " 'GarageCond_NA': ['GarageCond_TA', 'GarageFinish_NA'],\n",
       " 'GarageCond_TA': ['GarageFinish_NA'],\n",
       " 'GarageQual_Fa': ['GarageQual_TA'],\n",
       " 'GarageType_Attchd': ['GarageType_Detchd'],\n",
       " 'HouseStyle_1.5Fin': ['MSSubClass_50'],\n",
       " 'HouseStyle_1.5Unf': ['MSSubClass_45'],\n",
       " 'HouseStyle_SLvl': ['MSSubClass_80'],\n",
       " 'KitchenQual_Gd': ['KitchenQual_TA'],\n",
       " 'LandSlope_Gtl': ['LandSlope_Mod'],\n",
       " 'LotShape_IR1': ['LotShape_Reg'],\n",
       " 'MSZoning_FV': ['Neighborhood_Somerst'],\n",
       " 'MSZoning_RL': ['MSZoning_RM'],\n",
       " 'MasVnrType_BrkFace': ['MasVnrType_None'],\n",
       " 'MiscFeature_NA': ['MiscFeature_Shed'],\n",
       " 'PavedDrive_N': ['PavedDrive_Y'],\n",
       " 'RoofMatl_Tar&Grv': ['RoofStyle_Flat'],\n",
       " 'RoofStyle_Gable': ['RoofStyle_Hip'],\n",
       " 'SaleCondition_Partial': ['SaleType_New'],\n",
       " 'Street_Grvl': ['Street_Pave'],\n",
       " 'Utilities_AllPub': ['Utilities_NoSeWa']}"
      ]
     },
     "execution_count": 9,
     "metadata": {},
     "output_type": "execute_result"
    }
   ],
   "source": [
    "drop_columns = {}\n",
    "n = len(X.columns)\n",
    "\n",
    "for i in range(n):\n",
    "    \n",
    "    key = 0\n",
    "    value = []\n",
    "    \n",
    "    for j in range(1, n - i):\n",
    "        k = j + i        \n",
    "        \n",
    "        if abs(corr_matrix.iloc[i, k]) >= 0.7 :\n",
    "            key = corr_matrix.columns[i]\n",
    "            value.append(corr_matrix.columns[k])\n",
    "            \n",
    "    if key :\n",
    "        drop_columns[key] = value\n",
    "        \n",
    "drop_columns"
   ]
  },
  {
   "cell_type": "code",
   "execution_count": 10,
   "metadata": {},
   "outputs": [
    {
     "data": {
      "text/plain": [
       "['HouseStyle_1Story',\n",
       " 'HouseStyle_2Story',\n",
       " 'BsmtFinType1_Unf',\n",
       " 'BsmtFinType2_Unf',\n",
       " 'FireplaceQu_NA',\n",
       " 'GarageCars',\n",
       " 'YearBuilt',\n",
       " 'TotRmsAbvGrd',\n",
       " 'MasVnrType_BrkFace',\n",
       " 'MasVnrType_None',\n",
       " 'MiscFeature_NA',\n",
       " 'MiscFeature_Shed',\n",
       " 'PoolQC_NA',\n",
       " 'BsmtCond_NA',\n",
       " 'BsmtExposure_NA',\n",
       " 'BsmtFinType1_NA',\n",
       " 'BsmtFinType2_NA',\n",
       " 'BsmtQual_NA',\n",
       " 'Foundation_Slab',\n",
       " 'Alley_NA',\n",
       " 'MSSubClass_190',\n",
       " 'MSSubClass_90',\n",
       " 'MSSubClass_120',\n",
       " 'BsmtExposure_NA',\n",
       " 'BsmtFinType1_NA',\n",
       " 'BsmtFinType2_NA',\n",
       " 'BsmtQual_NA',\n",
       " 'Foundation_Slab',\n",
       " 'BsmtFinType1_NA',\n",
       " 'BsmtFinType2_NA',\n",
       " 'BsmtQual_NA',\n",
       " 'Foundation_Slab',\n",
       " 'BsmtFinType2_NA',\n",
       " 'BsmtQual_NA',\n",
       " 'Foundation_Slab',\n",
       " 'BsmtQual_NA',\n",
       " 'Foundation_Slab',\n",
       " 'BsmtQual_TA',\n",
       " 'Foundation_Slab',\n",
       " 'CentralAir_Y',\n",
       " 'MiscFeature_Gar2',\n",
       " 'RoofStyle_Shed',\n",
       " 'Electrical_SBrkr',\n",
       " 'ExterCond_TA',\n",
       " 'ExterQual_TA',\n",
       " 'Exterior2nd_AsbShng',\n",
       " 'Exterior2nd_AsphShn',\n",
       " 'Exterior2nd_CBlock',\n",
       " 'Exterior2nd_CmentBd',\n",
       " 'Exterior2nd_HdBoard',\n",
       " 'Exterior2nd_MetalSd',\n",
       " 'Exterior2nd_Plywood',\n",
       " 'Exterior2nd_Stucco',\n",
       " 'Exterior2nd_VinylSd',\n",
       " 'Exterior2nd_Wd Sdng',\n",
       " 'Neighborhood_NPkVill',\n",
       " 'Fence_NA',\n",
       " 'Foundation_PConc',\n",
       " 'GarageQual_Ex',\n",
       " 'GarageCond_TA',\n",
       " 'GarageFinish_NA',\n",
       " 'GarageQual_Po',\n",
       " 'GarageFinish_NA',\n",
       " 'GarageQual_TA',\n",
       " 'GarageType_Detchd',\n",
       " 'Heating_GasW',\n",
       " 'MSSubClass_50',\n",
       " 'MSSubClass_45',\n",
       " 'MSSubClass_20',\n",
       " 'MSSubClass_60',\n",
       " 'MSSubClass_80',\n",
       " 'KitchenQual_TA',\n",
       " 'LandSlope_Mod',\n",
       " 'LotConfig_Inside',\n",
       " 'LotShape_Reg',\n",
       " 'Neighborhood_Somerst',\n",
       " 'MSZoning_RM',\n",
       " 'MasVnrType_None',\n",
       " 'MiscFeature_Shed',\n",
       " 'PavedDrive_Y',\n",
       " 'RoofMatl_ClyTile',\n",
       " 'RoofStyle_Flat',\n",
       " 'RoofStyle_Hip',\n",
       " 'SaleType_New',\n",
       " 'SaleType_WD',\n",
       " 'SaleType_WD',\n",
       " 'Street_Pave',\n",
       " 'Utilities_NoSeWa']"
      ]
     },
     "execution_count": 10,
     "metadata": {},
     "output_type": "execute_result"
    }
   ],
   "source": [
    "drop_columns = []\n",
    "n = len(X.columns)\n",
    "\n",
    "for i in range(n):\n",
    "    \n",
    "    key = 0\n",
    "    value = []\n",
    "    \n",
    "    for j in range(1, n - i):\n",
    "        k = j + i        \n",
    "        \n",
    "        if abs(corr_matrix.iloc[i, k]) >= 0.7 :\n",
    "            drop_columns.append(corr_matrix.columns[k])\n",
    "            \n",
    "drop_columns"
   ]
  },
  {
   "cell_type": "code",
   "execution_count": 11,
   "metadata": {},
   "outputs": [],
   "source": [
    "X.drop(drop_columns, axis=1, inplace=True)\n",
    "X_test.drop(drop_columns, axis=1, inplace=True)"
   ]
  },
  {
   "cell_type": "code",
   "execution_count": 12,
   "metadata": {},
   "outputs": [
    {
     "name": "stdout",
     "output_type": "stream",
     "text": [
      "(1460, 246)\n",
      "(1459, 246)\n"
     ]
    }
   ],
   "source": [
    "print(X.shape)\n",
    "print(X_test.shape)"
   ]
  },
  {
   "cell_type": "code",
   "execution_count": 13,
   "metadata": {},
   "outputs": [],
   "source": [
    "knn = KNeighborsRegressor(n_neighbors=5)\n",
    "linear = LinearRegression()\n",
    "sgd = SGDRegressor(max_iter=None, eta0=0.01, penalty='l2', random_state=30)\n",
    "ridge = Ridge(alpha=1, random_state=30)\n",
    "lasso = Lasso(alpha=1, random_state=30)\n",
    "elastic = ElasticNet(alpha=1, l1_ratio=0.5, random_state=30)\n",
    "dt = DecisionTreeRegressor(max_depth=None, random_state=30)\n",
    "rf = RandomForestRegressor(n_estimators=100, max_depth=None, random_state=30, n_jobs=-1)\n",
    "gb = GradientBoostingRegressor(n_estimators=100, learning_rate=0.1, max_depth=3, random_state=30)\n",
    "svm = SVR(C=1, kernel='rbf', gamma='auto_deprecated')\n",
    "mlp = MLPRegressor(hidden_layer_sizes=[100], solver='adam', activation='relu', alpha=0.0001, max_iter=200, random_state=30)\n",
    "xgb = XGBRegressor(random_state=30)"
   ]
  },
  {
   "cell_type": "code",
   "execution_count": 14,
   "metadata": {},
   "outputs": [],
   "source": [
    "models = {\n",
    "    'knn' : knn,\n",
    "    'linear' : linear,\n",
    "    'sgd' : sgd,\n",
    "    'ridge' : ridge,\n",
    "    'lasso' : lasso,\n",
    "    'elastic' : elastic,\n",
    "    'dt' : dt,\n",
    "    'rf' : rf,\n",
    "    'gb' : gb,\n",
    "    'xgb' : xgb,\n",
    "    'svm' : svm,\n",
    "    'mlp' : mlp\n",
    "}"
   ]
  },
  {
   "cell_type": "code",
   "execution_count": 15,
   "metadata": {
    "scrolled": true
   },
   "outputs": [
    {
     "name": "stdout",
     "output_type": "stream",
     "text": [
      "[16:52:01] WARNING: C:/Jenkins/workspace/xgboost-win64_release_0.90/src/objective/regression_obj.cu:152: reg:linear is now deprecated in favor of reg:squarederror.\n",
      "[16:52:03] WARNING: C:/Jenkins/workspace/xgboost-win64_release_0.90/src/objective/regression_obj.cu:152: reg:linear is now deprecated in favor of reg:squarederror.\n",
      "[16:52:05] WARNING: C:/Jenkins/workspace/xgboost-win64_release_0.90/src/objective/regression_obj.cu:152: reg:linear is now deprecated in favor of reg:squarederror.\n",
      "[16:52:07] WARNING: C:/Jenkins/workspace/xgboost-win64_release_0.90/src/objective/regression_obj.cu:152: reg:linear is now deprecated in favor of reg:squarederror.\n",
      "[16:52:10] WARNING: C:/Jenkins/workspace/xgboost-win64_release_0.90/src/objective/regression_obj.cu:152: reg:linear is now deprecated in favor of reg:squarederror.\n"
     ]
    },
    {
     "data": {
      "text/plain": [
       "{'knn': 0.433,\n",
       " 'linear': 1.943,\n",
       " 'sgd': 1.1017807257895782e+16,\n",
       " 'ridge': 0.438,\n",
       " 'lasso': 0.4,\n",
       " 'elastic': 0.401,\n",
       " 'dt': 0.591,\n",
       " 'rf': 0.408,\n",
       " 'gb': 0.412,\n",
       " 'xgb': 0.408,\n",
       " 'svm': 0.4,\n",
       " 'mlp': 2.556}"
      ]
     },
     "execution_count": 15,
     "metadata": {},
     "output_type": "execute_result"
    }
   ],
   "source": [
    "scores = dict()\n",
    "\n",
    "for key, model in models.items() : \n",
    "    score = cross_val_score(model, X, y, cv=5, scoring='neg_mean_squared_error').mean()   \n",
    "    scores[key] = round(np.sqrt(-score), 3)\n",
    "    \n",
    "scores"
   ]
  },
  {
   "cell_type": "code",
   "execution_count": null,
   "metadata": {},
   "outputs": [],
   "source": []
  }
 ],
 "metadata": {
  "kernelspec": {
   "display_name": "Python 3",
   "language": "python",
   "name": "python3"
  },
  "language_info": {
   "codemirror_mode": {
    "name": "ipython",
    "version": 3
   },
   "file_extension": ".py",
   "mimetype": "text/x-python",
   "name": "python",
   "nbconvert_exporter": "python",
   "pygments_lexer": "ipython3",
   "version": "3.7.1"
  }
 },
 "nbformat": 4,
 "nbformat_minor": 2
}

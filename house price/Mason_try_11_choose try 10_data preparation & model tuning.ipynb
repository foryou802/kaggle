{
 "cells": [
  {
   "cell_type": "code",
   "execution_count": 1,
   "metadata": {},
   "outputs": [],
   "source": [
    "import numpy as np\n",
    "from scipy import stats\n",
    "from scipy.stats import skew\n",
    "import pandas as pd\n",
    "import matplotlib.pyplot as plt\n",
    "import seaborn as sns\n",
    "\n",
    "sns.set()\n",
    "\n",
    "import warnings\n",
    "warnings.filterwarnings('ignore')"
   ]
  },
  {
   "cell_type": "code",
   "execution_count": 2,
   "metadata": {},
   "outputs": [],
   "source": [
    "from sklearn.base import BaseEstimator, TransformerMixin\n",
    "from sklearn.preprocessing import StandardScaler, MinMaxScaler\n",
    "from sklearn.impute import SimpleImputer\n",
    "from sklearn.pipeline import Pipeline, make_pipeline\n",
    "from sklearn.compose import ColumnTransformer, make_column_transformer\n",
    "from sklearn.externals import joblib   # 함수는 dump 시켜도 안됨\n",
    "from sklearn.feature_selection import SelectPercentile, f_classif, f_regression, SelectFromModel, RFE\n",
    "from sklearn.model_selection import train_test_split\n",
    "from sklearn.model_selection import cross_val_score\n",
    "from sklearn.metrics import mean_squared_error\n",
    "from sklearn.metrics import make_scorer\n",
    "from sklearn.model_selection import GridSearchCV, RandomizedSearchCV"
   ]
  },
  {
   "cell_type": "code",
   "execution_count": 3,
   "metadata": {},
   "outputs": [],
   "source": [
    "from sklearn.neighbors import KNeighborsRegressor\n",
    "from sklearn.linear_model import LinearRegression\n",
    "from sklearn.linear_model import SGDRegressor\n",
    "from sklearn.linear_model import Ridge\n",
    "from sklearn.linear_model import Lasso\n",
    "from sklearn.linear_model import ElasticNet\n",
    "from sklearn.tree import DecisionTreeRegressor\n",
    "from sklearn.ensemble import RandomForestRegressor, RandomForestClassifier\n",
    "from sklearn.ensemble import GradientBoostingRegressor\n",
    "from xgboost import XGBRegressor\n",
    "from sklearn.svm import SVR\n",
    "from sklearn.neural_network import MLPRegressor"
   ]
  },
  {
   "cell_type": "code",
   "execution_count": 4,
   "metadata": {},
   "outputs": [],
   "source": [
    "from my_transformer import change_to_str, divide_columns, feature_selection, simple_imputer, one_hot_encoding, concat, rf_imputer, fill_columns\n",
    "from my_transformer import rmsle_scorer, neg_rmsle_scorer, rmsle"
   ]
  },
  {
   "cell_type": "code",
   "execution_count": 5,
   "metadata": {},
   "outputs": [],
   "source": [
    "def preparation(data) :\n",
    "    \n",
    "    data.drop(['SalePrice', 'Id'], axis=1, inplace=True)\n",
    "    \n",
    "    astype_str = change_to_str('MSSubClass')\n",
    "    data = astype_str.fit_transform(data)\n",
    "          \n",
    "    data.drop(['Alley', 'Fence', 'FireplaceQu', 'MiscFeature', 'PoolQC'], axis=1, inplace=True)\n",
    "    \n",
    "    num_columns, cat_columns = divide_columns(data)\n",
    "    \n",
    "    pipeline_cat = make_pipeline(\n",
    "        feature_selection(cat_columns),\n",
    "#         simple_imputer('most_frequent'),\n",
    "        one_hot_encoding(cat_columns)\n",
    "    )\n",
    "    \n",
    "    X_cat = pipeline_cat.fit_transform(data)\n",
    "    X_num = data[num_columns]\n",
    "    X = concat(X_num, X_cat)\n",
    "    \n",
    "    isnull_sum = X.isnull().sum()\n",
    "    not_null = list(isnull_sum[isnull_sum == 0].index)\n",
    "    null_columns = list(isnull_sum[isnull_sum > 0])\n",
    "    \n",
    "    for column in num_columns :\n",
    "        X = fill_columns(X, column, 'mean')\n",
    "        \n",
    "    isnull_sum = X.isnull().sum()\n",
    "    print(isnull_sum[isnull_sum > 0].sort_values(ascending=False))\n",
    "    \n",
    "    skew_features = X[num_columns].apply(lambda x : skew(x))\n",
    "    skew_features_top = skew_features[skew_features > 1]\n",
    "    X[skew_features_top.index] = np.log1p(X[skew_features_top.index])\n",
    "            \n",
    "    return X"
   ]
  },
  {
   "cell_type": "code",
   "execution_count": 6,
   "metadata": {},
   "outputs": [],
   "source": [
    "def data_set() :\n",
    "    train = pd.read_csv('train.csv')\n",
    "    test = pd.read_csv('test.csv')\n",
    "    \n",
    "    data = pd.concat([train, test], axis=0)\n",
    "    \n",
    "    X = preparation(data)\n",
    "    X_train = X.iloc[:1460, :]\n",
    "    X_test = X.iloc[1460:, :]\n",
    "    \n",
    "    y = train['SalePrice']\n",
    "    y_train = np.log1p(y)\n",
    "    \n",
    "    return X_train, X_test, y_train"
   ]
  },
  {
   "cell_type": "code",
   "execution_count": 7,
   "metadata": {},
   "outputs": [
    {
     "name": "stdout",
     "output_type": "stream",
     "text": [
      "Series([], dtype: int64)\n"
     ]
    }
   ],
   "source": [
    "X_train, X_test, y_train = data_set()"
   ]
  },
  {
   "cell_type": "code",
   "execution_count": 8,
   "metadata": {},
   "outputs": [
    {
     "data": {
      "text/plain": [
       "{'alpha': 10}"
      ]
     },
     "execution_count": 8,
     "metadata": {},
     "output_type": "execute_result"
    }
   ],
   "source": [
    "param_grid = [\n",
    "    {'alpha': [0.001, 0.01, 1, 10, 100, 1000]},\n",
    "  ]\n",
    "\n",
    "ridge = Ridge(random_state=30)\n",
    "search = GridSearchCV(ridge, param_grid, cv=5, scoring='neg_mean_squared_error', return_train_score=True, n_jobs=-1)\n",
    "search.fit(X_train, y_train)\n",
    "search.best_params_"
   ]
  },
  {
   "cell_type": "code",
   "execution_count": 9,
   "metadata": {},
   "outputs": [
    {
     "name": "stdout",
     "output_type": "stream",
     "text": [
      "{'alpha': 0.001} : 0.0208\n",
      "{'alpha': 0.01} : 0.0206\n",
      "{'alpha': 1} : 0.0174\n",
      "{'alpha': 10} : 0.0162\n",
      "{'alpha': 100} : 0.0179\n",
      "{'alpha': 1000} : 0.0252\n"
     ]
    }
   ],
   "source": [
    "result = search.cv_results_\n",
    "for mean_score, params in zip(result[\"mean_test_score\"], result[\"params\"]):\n",
    "    print('{} : {:.4f}' .format(params, abs(mean_score)))"
   ]
  },
  {
   "cell_type": "code",
   "execution_count": 10,
   "metadata": {
    "scrolled": false
   },
   "outputs": [
    {
     "data": {
      "text/plain": [
       "[(0.15926765052314665, 'GrLivArea'),\n",
       " (0.14843082303300137, '1stFlrSF'),\n",
       " (0.1457789488066732, 'MSZoning_C (all)'),\n",
       " (0.10636770805661314, 'RoofMatl_ClyTile'),\n",
       " (0.08921033435812374, 'Neighborhood_StoneBr'),\n",
       " (0.0830521471462738, 'Condition2_PosN'),\n",
       " (0.07768736107021743, 'Neighborhood_Edwards'),\n",
       " (0.07694847889968091, 'Neighborhood_Crawfor'),\n",
       " (0.07190808145394349, 'LotArea'),\n",
       " (0.07094553232541652, 'Neighborhood_NridgHt'),\n",
       " (0.06460594395796118, 'Functional_Typ'),\n",
       " (0.06300936336485549, 'Exterior1st_BrkFace'),\n",
       " (0.06275721771031284, 'Neighborhood_NoRidge'),\n",
       " (0.06013644442957515, 'RoofMatl_WdShngl'),\n",
       " (0.05891109549697487, 'Functional_Maj2'),\n",
       " (0.05822401881909911, 'MSZoning_FV'),\n",
       " (0.050782146535058525, 'OverallQual'),\n",
       " (0.04995566229835544, 'Neighborhood_Mitchel'),\n",
       " (0.04781893234749694, 'Condition2_Norm'),\n",
       " (0.04762807501927813, 'GarageCars')]"
      ]
     },
     "execution_count": 10,
     "metadata": {},
     "output_type": "execute_result"
    }
   ],
   "source": [
    "feature_importances = abs(search.best_estimator_.coef_)\n",
    "sorted(zip(feature_importances, X_train.columns), reverse=True)[:20]"
   ]
  },
  {
   "cell_type": "code",
   "execution_count": 11,
   "metadata": {},
   "outputs": [
    {
     "data": {
      "text/plain": [
       "{'alpha': 0.001}"
      ]
     },
     "execution_count": 11,
     "metadata": {},
     "output_type": "execute_result"
    }
   ],
   "source": [
    "param_grid = [\n",
    "    {'alpha': [0.0001, 0.001, 0.01, 1, 10, 100]},\n",
    "  ]\n",
    "\n",
    "lasso = Lasso(random_state=30)\n",
    "search = GridSearchCV(lasso, param_grid, cv=5, scoring='neg_mean_squared_error', return_train_score=True, n_jobs=-1)\n",
    "search.fit(X_train, y_train)\n",
    "search.best_params_"
   ]
  },
  {
   "cell_type": "code",
   "execution_count": 12,
   "metadata": {},
   "outputs": [
    {
     "name": "stdout",
     "output_type": "stream",
     "text": [
      "{'alpha': 0.0001} : 0.0168\n",
      "{'alpha': 0.001} : 0.0157\n",
      "{'alpha': 0.01} : 0.0231\n",
      "{'alpha': 1} : 0.0633\n",
      "{'alpha': 10} : 0.0846\n",
      "{'alpha': 100} : 0.1596\n"
     ]
    }
   ],
   "source": [
    "result = search.cv_results_\n",
    "for mean_score, params in zip(result[\"mean_test_score\"], result[\"params\"]):\n",
    "    print('{} : {:.4f}' .format(params, abs(mean_score)))"
   ]
  },
  {
   "cell_type": "code",
   "execution_count": 13,
   "metadata": {
    "scrolled": false
   },
   "outputs": [
    {
     "data": {
      "text/plain": [
       "[(0.19984484378949127, 'MSZoning_C (all)'),\n",
       " (0.18649185773506927, 'GrLivArea'),\n",
       " (0.17811908172535973, '1stFlrSF'),\n",
       " (0.0891937624569626, 'Neighborhood_Crawfor'),\n",
       " (0.07261423602619697, 'Neighborhood_StoneBr'),\n",
       " (0.07097185177441688, 'LotArea'),\n",
       " (0.0623106889767113, 'Neighborhood_NridgHt'),\n",
       " (0.06229906781275155, 'Exterior1st_BrkFace'),\n",
       " (0.05981248847572987, 'OverallQual'),\n",
       " (0.05906352284546794, 'SaleCondition_Abnorml'),\n",
       " (0.05234041414124047, 'Functional_Typ'),\n",
       " (0.05062404122613029, 'Condition1_Norm'),\n",
       " (0.05044110355444801, 'Neighborhood_Edwards'),\n",
       " (0.04809322669252832, 'GarageCars'),\n",
       " (0.046585863530736335, 'KitchenQual_Ex'),\n",
       " (0.044959087413498515, 'BsmtQual_Ex'),\n",
       " (0.042939089396113746, 'OverallCond'),\n",
       " (0.04042296153936279, 'Neighborhood_NoRidge'),\n",
       " (0.04021724411463401, 'Neighborhood_Somerst'),\n",
       " (0.03625700059599559, 'BsmtExposure_Gd')]"
      ]
     },
     "execution_count": 13,
     "metadata": {},
     "output_type": "execute_result"
    }
   ],
   "source": [
    "feature_importances = abs(search.best_estimator_.coef_)\n",
    "sorted(zip(feature_importances, X_train.columns), reverse=True)[:20]"
   ]
  },
  {
   "cell_type": "code",
   "execution_count": 14,
   "metadata": {},
   "outputs": [
    {
     "data": {
      "text/plain": [
       "{'alpha': 0.001, 'l1_ratio': 0.5}"
      ]
     },
     "execution_count": 14,
     "metadata": {},
     "output_type": "execute_result"
    }
   ],
   "source": [
    "param_grid = [\n",
    "    {'alpha': [0.0001, 0.001, 0.01, 1, 10, 100],\n",
    "    'l1_ratio': [0.2, 0.35, 0.5, 0.65, 0.8]}\n",
    "  ]\n",
    "\n",
    "elastic = ElasticNet(alpha=1, l1_ratio=0.5, random_state=30)\n",
    "search = GridSearchCV(elastic, param_grid, cv=5, scoring='neg_mean_squared_error', return_train_score=True, n_jobs=-1)\n",
    "search.fit(X_train, y_train)\n",
    "search.best_params_"
   ]
  },
  {
   "cell_type": "code",
   "execution_count": 15,
   "metadata": {},
   "outputs": [
    {
     "name": "stdout",
     "output_type": "stream",
     "text": [
      "{'alpha': 0.0001, 'l1_ratio': 0.2} : 0.0184\n",
      "{'alpha': 0.0001, 'l1_ratio': 0.35} : 0.0179\n",
      "{'alpha': 0.0001, 'l1_ratio': 0.5} : 0.0176\n",
      "{'alpha': 0.0001, 'l1_ratio': 0.65} : 0.0173\n",
      "{'alpha': 0.0001, 'l1_ratio': 0.8} : 0.0170\n",
      "{'alpha': 0.001, 'l1_ratio': 0.2} : 0.0156\n",
      "{'alpha': 0.001, 'l1_ratio': 0.35} : 0.0153\n",
      "{'alpha': 0.001, 'l1_ratio': 0.5} : 0.0153\n",
      "{'alpha': 0.001, 'l1_ratio': 0.65} : 0.0153\n",
      "{'alpha': 0.001, 'l1_ratio': 0.8} : 0.0154\n",
      "{'alpha': 0.01, 'l1_ratio': 0.2} : 0.0180\n",
      "{'alpha': 0.01, 'l1_ratio': 0.35} : 0.0196\n",
      "{'alpha': 0.01, 'l1_ratio': 0.5} : 0.0208\n",
      "{'alpha': 0.01, 'l1_ratio': 0.65} : 0.0216\n",
      "{'alpha': 0.01, 'l1_ratio': 0.8} : 0.0222\n",
      "{'alpha': 1, 'l1_ratio': 0.2} : 0.0575\n",
      "{'alpha': 1, 'l1_ratio': 0.35} : 0.0609\n",
      "{'alpha': 1, 'l1_ratio': 0.5} : 0.0613\n",
      "{'alpha': 1, 'l1_ratio': 0.65} : 0.0618\n",
      "{'alpha': 1, 'l1_ratio': 0.8} : 0.0623\n",
      "{'alpha': 10, 'l1_ratio': 0.2} : 0.0706\n",
      "{'alpha': 10, 'l1_ratio': 0.35} : 0.0812\n",
      "{'alpha': 10, 'l1_ratio': 0.5} : 0.0826\n",
      "{'alpha': 10, 'l1_ratio': 0.65} : 0.0831\n",
      "{'alpha': 10, 'l1_ratio': 0.8} : 0.0836\n",
      "{'alpha': 100, 'l1_ratio': 0.2} : 0.0927\n",
      "{'alpha': 100, 'l1_ratio': 0.35} : 0.1141\n",
      "{'alpha': 100, 'l1_ratio': 0.5} : 0.1456\n",
      "{'alpha': 100, 'l1_ratio': 0.65} : 0.1596\n",
      "{'alpha': 100, 'l1_ratio': 0.8} : 0.1596\n"
     ]
    }
   ],
   "source": [
    "result = search.cv_results_\n",
    "for mean_score, params in zip(result[\"mean_test_score\"], result[\"params\"]):\n",
    "    print('{} : {:.4f}' .format(params, abs(mean_score)))"
   ]
  },
  {
   "cell_type": "code",
   "execution_count": 16,
   "metadata": {},
   "outputs": [
    {
     "data": {
      "text/plain": [
       "[(0.3714736953274218, 'RoofMatl_ClyTile'),\n",
       " (0.2676057426421319, 'MSZoning_C (all)'),\n",
       " (0.2002554372412639, 'GrLivArea'),\n",
       " (0.17503214991634314, '1stFlrSF'),\n",
       " (0.1437958272159716, 'Condition2_PosN'),\n",
       " (0.10659761703292929, 'Neighborhood_StoneBr'),\n",
       " (0.09761669508819149, 'Neighborhood_Crawfor'),\n",
       " (0.07870323515313092, 'Neighborhood_NridgHt'),\n",
       " (0.07354797728616067, 'Exterior1st_BrkFace'),\n",
       " (0.06856841939527598, 'LotArea'),\n",
       " (0.06699638482104832, 'Neighborhood_NoRidge'),\n",
       " (0.06501758696333337, 'Functional_Typ'),\n",
       " (0.05926827812547618, 'KitchenQual_Ex'),\n",
       " (0.056575871342854946, 'Neighborhood_Edwards'),\n",
       " (0.05336336518525095, 'OverallQual'),\n",
       " (0.051191181523374846, 'SaleCondition_Abnorml'),\n",
       " (0.05075067600372821, 'Condition1_Norm'),\n",
       " (0.04953701965285945, 'Neighborhood_Somerst'),\n",
       " (0.04740308695961816, 'BsmtQual_Ex'),\n",
       " (0.0443989882666394, 'GarageCars')]"
      ]
     },
     "execution_count": 16,
     "metadata": {},
     "output_type": "execute_result"
    }
   ],
   "source": [
    "feature_importances = abs(search.best_estimator_.coef_)\n",
    "sorted(zip(feature_importances, X_train.columns), reverse=True)[:20]"
   ]
  },
  {
   "cell_type": "code",
   "execution_count": 17,
   "metadata": {},
   "outputs": [
    {
     "data": {
      "text/plain": [
       "{'max_depth': 15}"
      ]
     },
     "execution_count": 17,
     "metadata": {},
     "output_type": "execute_result"
    }
   ],
   "source": [
    "param_grid = [\n",
    "    {'max_depth': [10, 15, 20]},\n",
    "  ]\n",
    "\n",
    "rf= RandomForestRegressor(n_estimators=100, random_state=30)\n",
    "search = GridSearchCV(rf, param_grid, cv=5, scoring='neg_mean_squared_error', return_train_score=True, n_jobs=-1)\n",
    "search.fit(X_train, y_train)\n",
    "search.best_params_"
   ]
  },
  {
   "cell_type": "code",
   "execution_count": 18,
   "metadata": {},
   "outputs": [
    {
     "name": "stdout",
     "output_type": "stream",
     "text": [
      "{'max_depth': 10} : 0.0208\n",
      "{'max_depth': 15} : 0.0205\n",
      "{'max_depth': 20} : 0.0206\n"
     ]
    }
   ],
   "source": [
    "result = search.cv_results_\n",
    "for mean_score, params in zip(result[\"mean_test_score\"], result[\"params\"]):\n",
    "    print('{} : {:.4f}' .format(params, abs(mean_score)))"
   ]
  },
  {
   "cell_type": "code",
   "execution_count": 19,
   "metadata": {
    "scrolled": false
   },
   "outputs": [
    {
     "data": {
      "text/plain": [
       "[(0.551749742028365, 'OverallQual'),\n",
       " (0.11016392359084276, 'GrLivArea'),\n",
       " (0.04698381577659507, 'TotalBsmtSF'),\n",
       " (0.04257130592758489, 'GarageCars'),\n",
       " (0.024141001353117395, 'GarageArea'),\n",
       " (0.021609338122830102, 'BsmtFinSF1'),\n",
       " (0.02102948614149855, '1stFlrSF'),\n",
       " (0.015704198128319396, 'YearBuilt'),\n",
       " (0.01417882061339648, 'LotArea'),\n",
       " (0.011352032200789196, 'OverallCond'),\n",
       " (0.008268112742924206, 'YearRemodAdd'),\n",
       " (0.00664548043318209, '2ndFlrSF'),\n",
       " (0.0060577450206641984, 'LotFrontage'),\n",
       " (0.006007097988422408, 'Fireplaces'),\n",
       " (0.0058516614246438, 'CentralAir_N'),\n",
       " (0.00486998925424434, 'BsmtUnfSF'),\n",
       " (0.0047530804258337205, 'CentralAir_Y'),\n",
       " (0.003927898878914061, 'MSZoning_RM'),\n",
       " (0.0036303522440060236, 'GarageYrBlt'),\n",
       " (0.0035844344985736217, 'OpenPorchSF')]"
      ]
     },
     "execution_count": 19,
     "metadata": {},
     "output_type": "execute_result"
    }
   ],
   "source": [
    "feature_importances = search.best_estimator_.feature_importances_\n",
    "sorted(zip(feature_importances, X_train.columns), reverse=True)[:20]"
   ]
  },
  {
   "cell_type": "code",
   "execution_count": 20,
   "metadata": {},
   "outputs": [
    {
     "data": {
      "text/plain": [
       "{'learning_rate': 0.1}"
      ]
     },
     "execution_count": 20,
     "metadata": {},
     "output_type": "execute_result"
    }
   ],
   "source": [
    "param_grid = [\n",
    "    {'learning_rate': [0.001, 0.01, 0.1, 1, 10]},\n",
    "  ]\n",
    "\n",
    "gb = GradientBoostingRegressor(n_estimators=100, max_depth=3, random_state=30)\n",
    "search = GridSearchCV(gb, param_grid, cv=5, scoring='neg_mean_squared_error', return_train_score=True, n_jobs=-1)\n",
    "search.fit(X_train, y_train)\n",
    "search.best_params_"
   ]
  },
  {
   "cell_type": "code",
   "execution_count": 21,
   "metadata": {},
   "outputs": [
    {
     "name": "stdout",
     "output_type": "stream",
     "text": [
      "{'learning_rate': 0.001} : 0.1396\n",
      "{'learning_rate': 0.01} : 0.0540\n",
      "{'learning_rate': 0.1} : 0.0160\n",
      "{'learning_rate': 1} : 0.0368\n",
      "{'learning_rate': 10} : 8147641805968464756791155152136435449338150090755760719076423854811255106304928577882630898395853605476089854502278862522105323797412952715236947622985725293010389033655356986122635006967808.0000\n"
     ]
    }
   ],
   "source": [
    "result = search.cv_results_\n",
    "for mean_score, params in zip(result[\"mean_test_score\"], result[\"params\"]):\n",
    "    print('{} : {:.4f}' .format(params, abs(mean_score)))"
   ]
  },
  {
   "cell_type": "code",
   "execution_count": 22,
   "metadata": {},
   "outputs": [
    {
     "data": {
      "text/plain": [
       "[(0.460535386048635, 'OverallQual'),\n",
       " (0.1698967593530751, 'GrLivArea'),\n",
       " (0.050807739243889045, 'TotalBsmtSF'),\n",
       " (0.046856291404455436, 'GarageCars'),\n",
       " (0.036203720802304766, 'YearBuilt'),\n",
       " (0.02803850828091807, 'BsmtFinSF1'),\n",
       " (0.027076258549046404, 'YearRemodAdd'),\n",
       " (0.01865109072996971, 'GarageArea'),\n",
       " (0.016330325516379404, 'Fireplaces'),\n",
       " (0.01582227881659197, 'OverallCond'),\n",
       " (0.015603504458916248, 'LotArea'),\n",
       " (0.013712718804095258, '1stFlrSF'),\n",
       " (0.01047801905879691, 'CentralAir_N'),\n",
       " (0.006347924194558466, 'ExterQual_TA'),\n",
       " (0.005490754251189732, 'BsmtQual_Ex'),\n",
       " (0.00529570534530531, 'MSZoning_C (all)'),\n",
       " (0.005203835524598234, 'FullBath'),\n",
       " (0.004444437403811901, '2ndFlrSF'),\n",
       " (0.004401733992914414, 'MSZoning_RM'),\n",
       " (0.003977546049029851, 'MSZoning_RL')]"
      ]
     },
     "execution_count": 22,
     "metadata": {},
     "output_type": "execute_result"
    }
   ],
   "source": [
    "feature_importances = search.best_estimator_.feature_importances_\n",
    "sorted(zip(feature_importances, X_train.columns), reverse=True)[:20]"
   ]
  },
  {
   "cell_type": "code",
   "execution_count": 23,
   "metadata": {},
   "outputs": [
    {
     "name": "stdout",
     "output_type": "stream",
     "text": [
      "[20:02:35] WARNING: C:/Jenkins/workspace/xgboost-win64_release_0.90/src/objective/regression_obj.cu:152: reg:linear is now deprecated in favor of reg:squarederror.\n"
     ]
    },
    {
     "data": {
      "text/plain": [
       "{'learning_rate': 0.1}"
      ]
     },
     "execution_count": 23,
     "metadata": {},
     "output_type": "execute_result"
    }
   ],
   "source": [
    "param_grid = [\n",
    "    {'learning_rate': [0.001, 0.01, 0.1, 1]},\n",
    "  ]\n",
    "\n",
    "xgb = XGBRegressor(random_state=30)\n",
    "search = GridSearchCV(xgb, param_grid, cv=5, scoring='neg_mean_squared_error', return_train_score=True, n_jobs=-1)\n",
    "search.fit(X_train, y_train)\n",
    "search.best_params_"
   ]
  },
  {
   "cell_type": "code",
   "execution_count": 24,
   "metadata": {},
   "outputs": [
    {
     "name": "stdout",
     "output_type": "stream",
     "text": [
      "{'learning_rate': 0.001} : 108.8978\n",
      "{'learning_rate': 0.01} : 17.9421\n",
      "{'learning_rate': 0.1} : 0.0169\n",
      "{'learning_rate': 1} : 0.0317\n"
     ]
    }
   ],
   "source": [
    "result = search.cv_results_\n",
    "for mean_score, params in zip(result[\"mean_test_score\"], result[\"params\"]):\n",
    "    print('{} : {:.4f}' .format(params, abs(mean_score)))"
   ]
  },
  {
   "cell_type": "code",
   "execution_count": 25,
   "metadata": {},
   "outputs": [
    {
     "data": {
      "text/plain": [
       "[(0.12694754, 'GarageCars'),\n",
       " (0.064219296, 'OverallQual'),\n",
       " (0.059413463, 'GarageType_Attchd'),\n",
       " (0.056744818, 'Fireplaces'),\n",
       " (0.05671513, 'TotalBsmtSF'),\n",
       " (0.05515654, 'GarageCond_TA'),\n",
       " (0.053765666, 'YearRemodAdd'),\n",
       " (0.037046615, 'GrLivArea'),\n",
       " (0.035829023, 'CentralAir_N'),\n",
       " (0.032158524, 'GarageQual_TA'),\n",
       " (0.029776314, 'MSZoning_RL'),\n",
       " (0.02784636, 'BsmtQual_Ex'),\n",
       " (0.024210434, 'YearBuilt'),\n",
       " (0.015903784, 'MSZoning_RM'),\n",
       " (0.015557663, 'KitchenQual_Ex'),\n",
       " (0.013620804, 'KitchenQual_TA'),\n",
       " (0.012927861, 'BsmtFinType1_GLQ'),\n",
       " (0.011069388, 'LotArea'),\n",
       " (0.01078211, 'BsmtExposure_Gd'),\n",
       " (0.009873064, 'BsmtFinSF1')]"
      ]
     },
     "execution_count": 25,
     "metadata": {},
     "output_type": "execute_result"
    }
   ],
   "source": [
    "feature_importances = search.best_estimator_.feature_importances_\n",
    "sorted(zip(feature_importances, X_train.columns), reverse=True)[:20]"
   ]
  },
  {
   "cell_type": "code",
   "execution_count": null,
   "metadata": {},
   "outputs": [],
   "source": []
  }
 ],
 "metadata": {
  "kernelspec": {
   "display_name": "Python 3",
   "language": "python",
   "name": "python3"
  },
  "language_info": {
   "codemirror_mode": {
    "name": "ipython",
    "version": 3
   },
   "file_extension": ".py",
   "mimetype": "text/x-python",
   "name": "python",
   "nbconvert_exporter": "python",
   "pygments_lexer": "ipython3",
   "version": "3.7.1"
  }
 },
 "nbformat": 4,
 "nbformat_minor": 2
}
